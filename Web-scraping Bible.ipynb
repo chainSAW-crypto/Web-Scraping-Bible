{
 "cells": [
  {
   "cell_type": "markdown",
   "id": "e179956d",
   "metadata": {},
   "source": [
    "1. Web Scraping\n",
    "Here, for navigating in the website by clicking buttons at necessary times selenium is used.\n",
    "For navigating through html structure and extract text from the page BeautifulSoup is used.\n",
    "The language chosen for EDA is 'Marathi'"
   ]
  },
  {
   "cell_type": "code",
   "execution_count": 9,
   "id": "91fa1fb2",
   "metadata": {},
   "outputs": [
    {
     "name": "stdout",
     "output_type": "stream",
     "text": [
      "Collecting selenium\n",
      "  Downloading selenium-4.21.0-py3-none-any.whl (9.5 MB)\n",
      "     ---------------------------------------- 9.5/9.5 MB 5.6 MB/s eta 0:00:00\n",
      "Collecting trio-websocket~=0.9\n",
      "  Downloading trio_websocket-0.11.1-py3-none-any.whl (17 kB)\n",
      "Collecting typing_extensions>=4.9.0\n",
      "  Downloading typing_extensions-4.11.0-py3-none-any.whl (34 kB)\n",
      "Requirement already satisfied: urllib3[socks]<3,>=1.26 in c:\\users\\tanay\\anaconda3\\lib\\site-packages (from selenium) (1.26.14)\n",
      "Collecting trio~=0.17\n",
      "  Downloading trio-0.25.1-py3-none-any.whl (467 kB)\n",
      "     -------------------------------------- 467.7/467.7 kB 5.9 MB/s eta 0:00:00\n",
      "Requirement already satisfied: certifi>=2021.10.8 in c:\\users\\tanay\\anaconda3\\lib\\site-packages (from selenium) (2022.12.7)\n",
      "Requirement already satisfied: idna in c:\\users\\tanay\\anaconda3\\lib\\site-packages (from trio~=0.17->selenium) (3.4)\n",
      "Collecting sniffio>=1.3.0\n",
      "  Downloading sniffio-1.3.1-py3-none-any.whl (10 kB)\n",
      "Collecting attrs>=23.2.0\n",
      "  Downloading attrs-23.2.0-py3-none-any.whl (60 kB)\n",
      "     ---------------------------------------- 60.8/60.8 kB 3.2 MB/s eta 0:00:00\n",
      "Requirement already satisfied: cffi>=1.14 in c:\\users\\tanay\\anaconda3\\lib\\site-packages (from trio~=0.17->selenium) (1.15.1)\n",
      "Collecting exceptiongroup\n",
      "  Downloading exceptiongroup-1.2.1-py3-none-any.whl (16 kB)\n",
      "Requirement already satisfied: sortedcontainers in c:\\users\\tanay\\anaconda3\\lib\\site-packages (from trio~=0.17->selenium) (2.4.0)\n",
      "Collecting outcome\n",
      "  Downloading outcome-1.3.0.post0-py2.py3-none-any.whl (10 kB)\n",
      "Collecting wsproto>=0.14\n",
      "  Downloading wsproto-1.2.0-py3-none-any.whl (24 kB)\n",
      "Requirement already satisfied: PySocks!=1.5.7,<2.0,>=1.5.6 in c:\\users\\tanay\\anaconda3\\lib\\site-packages (from urllib3[socks]<3,>=1.26->selenium) (1.7.1)\n",
      "Requirement already satisfied: pycparser in c:\\users\\tanay\\anaconda3\\lib\\site-packages (from cffi>=1.14->trio~=0.17->selenium) (2.21)\n",
      "Collecting h11<1,>=0.9.0\n",
      "  Downloading h11-0.14.0-py3-none-any.whl (58 kB)\n",
      "     ---------------------------------------- 58.3/58.3 kB ? eta 0:00:00\n",
      "Installing collected packages: typing_extensions, sniffio, h11, exceptiongroup, attrs, wsproto, outcome, trio, trio-websocket, selenium\n",
      "  Attempting uninstall: typing_extensions\n",
      "    Found existing installation: typing_extensions 4.4.0\n",
      "    Uninstalling typing_extensions-4.4.0:\n",
      "      Successfully uninstalled typing_extensions-4.4.0\n",
      "  Attempting uninstall: sniffio\n",
      "    Found existing installation: sniffio 1.2.0\n",
      "    Uninstalling sniffio-1.2.0:\n",
      "      Successfully uninstalled sniffio-1.2.0\n",
      "  Attempting uninstall: attrs\n",
      "    Found existing installation: attrs 22.1.0\n",
      "    Uninstalling attrs-22.1.0:\n",
      "      Successfully uninstalled attrs-22.1.0\n",
      "Successfully installed attrs-23.2.0 exceptiongroup-1.2.1 h11-0.14.0 outcome-1.3.0.post0 selenium-4.21.0 sniffio-1.3.1 trio-0.25.1 trio-websocket-0.11.1 typing_extensions-4.11.0 wsproto-1.2.0\n"
     ]
    },
    {
     "name": "stderr",
     "output_type": "stream",
     "text": [
      "WARNING: Ignoring invalid distribution -atplotlib (c:\\users\\tanay\\anaconda3\\lib\\site-packages)\n",
      "WARNING: Ignoring invalid distribution -atplotlib (c:\\users\\tanay\\anaconda3\\lib\\site-packages)\n",
      "WARNING: Ignoring invalid distribution -atplotlib (c:\\users\\tanay\\anaconda3\\lib\\site-packages)\n",
      "    WARNING: Ignoring invalid distribution -atplotlib (c:\\users\\tanay\\anaconda3\\lib\\site-packages)\n",
      "    WARNING: Ignoring invalid distribution -atplotlib (c:\\users\\tanay\\anaconda3\\lib\\site-packages)\n",
      "    WARNING: Ignoring invalid distribution -atplotlib (c:\\users\\tanay\\anaconda3\\lib\\site-packages)\n",
      "WARNING: Ignoring invalid distribution -atplotlib (c:\\users\\tanay\\anaconda3\\lib\\site-packages)\n",
      "WARNING: Ignoring invalid distribution -atplotlib (c:\\users\\tanay\\anaconda3\\lib\\site-packages)\n",
      "WARNING: Ignoring invalid distribution -atplotlib (c:\\users\\tanay\\anaconda3\\lib\\site-packages)\n",
      "WARNING: Ignoring invalid distribution -atplotlib (c:\\users\\tanay\\anaconda3\\lib\\site-packages)\n",
      "WARNING: Ignoring invalid distribution -atplotlib (c:\\users\\tanay\\anaconda3\\lib\\site-packages)\n",
      "WARNING: Ignoring invalid distribution -atplotlib (c:\\users\\tanay\\anaconda3\\lib\\site-packages)\n",
      "WARNING: Ignoring invalid distribution -atplotlib (c:\\users\\tanay\\anaconda3\\lib\\site-packages)\n",
      "WARNING: Ignoring invalid distribution -atplotlib (c:\\users\\tanay\\anaconda3\\lib\\site-packages)\n",
      "WARNING: Ignoring invalid distribution -atplotlib (c:\\users\\tanay\\anaconda3\\lib\\site-packages)\n",
      "WARNING: Ignoring invalid distribution -atplotlib (c:\\users\\tanay\\anaconda3\\lib\\site-packages)\n",
      "ERROR: pip's dependency resolver does not currently take into account all the packages that are installed. This behaviour is the source of the following dependency conflicts.\n",
      "apache-beam 2.51.0rc1 requires crcmod<2.0,>=1.7, which is not installed.\n",
      "apache-beam 2.51.0rc1 requires fastavro<2,>=0.23.6, which is not installed.\n",
      "apache-beam 2.51.0rc1 requires fasteners<1.0,>=0.3, which is not installed.\n",
      "apache-beam 2.51.0rc1 requires hdfs<3.0.0,>=2.1.0, which is not installed.\n",
      "apache-beam 2.51.0rc1 requires js2py<1,>=0.74, which is not installed.\n",
      "apache-beam 2.51.0rc1 requires objsize<0.7.0,>=0.6.1, which is not installed.\n",
      "apache-beam 2.51.0rc1 requires orjson<4,>=3.9.7, which is not installed.\n",
      "apache-beam 2.51.0rc1 requires proto-plus<2,>=1.7.1, which is not installed.\n",
      "apache-beam 2.51.0rc1 requires pydot<2,>=1.2.0, which is not installed.\n",
      "apache-beam 2.51.0rc1 requires pymongo<5.0.0,>=3.8.0, which is not installed.\n",
      "apache-beam 2.51.0rc1 requires cloudpickle~=2.2.1, but you have cloudpickle 2.0.0 which is incompatible.\n",
      "apache-beam 2.51.0rc1 requires dill<0.3.2,>=0.3.1.1, but you have dill 0.3.6 which is incompatible.\n",
      "apache-beam 2.51.0rc1 requires pyarrow<12.0.0,>=3.0.0, but you have pyarrow 13.0.0 which is incompatible.\n",
      "WARNING: Ignoring invalid distribution -atplotlib (c:\\users\\tanay\\anaconda3\\lib\\site-packages)\n",
      "WARNING: Ignoring invalid distribution -atplotlib (c:\\users\\tanay\\anaconda3\\lib\\site-packages)\n",
      "WARNING: Ignoring invalid distribution -atplotlib (c:\\users\\tanay\\anaconda3\\lib\\site-packages)\n"
     ]
    }
   ],
   "source": [
    "!pip install selenium"
   ]
  },
  {
   "cell_type": "code",
   "execution_count": 8,
   "id": "6c8d7ff0",
   "metadata": {},
   "outputs": [],
   "source": [
    "import requests\n",
    "from bs4 import BeautifulSoup\n",
    "from selenium import webdriver\n",
    "from selenium.webdriver.common.by import By\n",
    "from selenium.webdriver.support.ui import WebDriverWait\n",
    "from selenium.webdriver.support import expected_conditions as EC\n",
    "from urllib.parse import urljoin\n",
    "import os\n",
    "import time\n",
    "import re"
   ]
  },
  {
   "cell_type": "code",
   "execution_count": 9,
   "id": "ad8d5b95",
   "metadata": {},
   "outputs": [
    {
     "name": "stdout",
     "output_type": "stream",
     "text": [
      "आदरणीय थियूफिलूस, बऱ्याचं लोकायन आमच्यात झालेल्या घटनेच्या बाऱ्यात एक वृतान्त लिवण्यासाठी प्रयत्न केला हाय. त्यायनं ठिक तसचं लिवलं, जसं त्या व्दारे आमाले सांगतले गेले होते. त्यायनं येशूले त्याच्या सेवेच्या सुरवाती पासून पायले होते. अन् जे नंतर देवाच्या वचनाचे सेवक बनले, त्यायनं ह्या गोष्टी आमच्या परेंत पोहचवल्या. हे आदरणीय थियूफिलूस मी पण या सगळ्या गोष्टीला ध्यानपूर्वक तपासून पायल्या, अन् मले हे चांगलं वाटलं कि मी या घटनेला तुमच्यासाठी क्रमानुसार लिवतो. मी हे यासाठी लिवतो कावून कि तुमाले त्या गोष्टीची खरी-खरी माईती मालूम व्हावी. जवा हेरोद राजा यहुदीया प्रांताच्या राजा होता, याच्या दिवसात अबिया नावाच्या याजकाच्या वर्गात जखऱ्या नावाचा एक याजक होता, अन् त्याची बायको हारोनाचा वंशातली होती, जिचं नाव अलीशिबा होतं. अन् ते दोघही देवाच्या समोर धर्मी होते, कावून कि ते देवाच्या सगळ्या आज्ञा अन् विद्या प्रमाण वागत होते, अन् निर्दोष जीवन जगत होते. पण त्यायले लेकरू नव्हत, कावून कि अलीशिबा वांजोटी होती, अन् ते दोघही बुढे होते. एका दिवशी जवा जखऱ्याचा याजक समूह यरुशलेमच्या देवळात देवाच्या समोर सेवा करत होते, अन् तो याजक म्हणून देवाच्या उपस्थिती मध्ये सेवा करत होता. तवा याजकाच्या रीतीच्या अनुसार, त्याले वेदीवर धूप जाळासाठी चिट्टी टाक्याच्या व्दारे निवडल्या गेलं होतं, कि तो प्रभू देवळात जावे अन् धूप जाळे. अन् धूप जाळ्याच्या वाक्ती लोकायचा सरा समुदाय बायर देवळाच्या आंगणात प्रार्थना करत होता. तवा प्रभूचा एक देवदूत धुपवेदीच्या उजव्या बाजूनं उभा असलेला त्याले दिसून आला. अन् त्याले पाऊन जखऱ्या घाबरला, त्याले लय भेऊ लागला. पण देवदूताने त्याले म्हतलं, “हे जखऱ्या! भेऊ नको, कावून कि देवानं तुह्याली प्रार्थना आयकली हाय, तुह्याली बायको अलीशिबा एका पोराले जन्म देईन अन् तू त्याच्यावाल नाव योहान ठेवजो. अन् तुले आनंद उल्हास वाटीन अन् लय लोकं त्याचा जन्म झाल्यान हर्षउल्हास करतीन. कावून कि तो प्रभूच्या दुष्टीत महान होईल, अन् अंगुराचा रस व दारू कधी पेईन नाई, अन् आपल्या मायच्या गर्भातूनचं पवित्र आत्म्यान परिपूर्ण अशीन. अन् तो इस्राएल देशातून लय लोकायले त्यायच्या प्रभू देवाकडे वापस घेऊन येईन. योहान एक असा माणूस अशीन जो एलिया भविष्यवक्ता सारखा आत्मा अन् सामर्थ्याने भरून राईन, तो देवाचा रस्ता तयार करीन अन् बापाचं मन लेकरायकडे फिरवन; अन् तो आज्ञा नाई मानणाऱ्या लोकायले देवाचं ज्ञान स्वीकार करवणार, अन् प्रभूच्या साठी सिद्ध प्रजा तयार करणार.” तवा जखऱ्यानं देवदूताले विचारलं, “हे मी कसं काय विश्वास करू, कि आमच्या सोबत असं होईन? कावून कि मी तर बुढा हाय, अन् माह्याली बायको पण बुढी हाय.” देवदूतान त्याले उत्तर देलं, “मी गर्ब्रीएल देवदूत हाय जो देवा समोर उभा रायतो, अन् तुह्या संग बोल्याले, अन् तुले हे सुवार्था सांगण्यासाठी मले पाठवण्यात आलं हाय. अन् पाह्य, हे असं होईन त्या दिवसापरेंत तू मुका रायशीन, अन् तुले बोलता येईन नाई, कावून कि तू माह्या वचनावर जे पूर्ण होणार हाय, विश्वास ठेवला नाई, जे आपल्या वेळेवर खरा ठरणार, तू बोलण्यात असमर्थ रायशीन, जतपरेंत पोरगा जन्मन नाई ततपरेंत तू काईच बोलू नाई शकशीन.” तवा देवळाच्या आंगणात लोकं जखऱ्याची वाट पायतं होते, अन् त्यायले आश्चर्य वाटलं कि त्याले देवळात येवढा उशीर कावून लागून रायला? मंग जवा तो बायर आला तवा त्याले, त्यायच्या संग बोलता येत नव्हत, तवा त्यायनं ओयखलं कि याले देवळात काई तरी दर्शन भेटलं हाय, अन् तो त्यायले खुणावू लागला, व मुका रायला. जवा देवळात एक याजकाच्या रुपात त्याची सेवेचा हप्ता पूर्ण झाला, तवा तो यरुशलेम शहरातून आपल्या घरी गेला. काई दिवसानंतर जखऱ्याची बायको अलीशिबा गर्भवती रायली; अन् पाच महिन्या परेंत अलीशिबानं स्वताले लोकायच्या नजरे पासून लपवून ठेवलं कावून कि ती गर्भवती होती. ती स्वतालेच असं म्हणत होती, “लोकाईत माह्यावाला अपमान दूर कऱ्यासाठी प्रभूने माह्यावर कृपा केली हाय.” जवा अलीशिबा सहाव्या महिण्याची गर्भवती होती, तवा देवाच्या इकून, गर्ब्रीएल देवदूत गालील प्रांताच्या नासरत नगरात एका कुमारीच्या पासी पाठवल्या गेला, जिची सोयरिक योसेफ नावाचा माणसा संग झाली होती, जो दाविद राजाच्या खानदानीतला होता अन् त्या कुमारीचं नाव मरिया होतं. अन् देवदूतान मरियेपाशी अंदर येऊन म्हतलं आनंद अन् जय तुह्याली असो देवाने तुह्यावर लय कृपा केली हाय प्रभू तुह्या बरोबर हाय, तू सगळ्या बायामध्ये धन्य हायस! जवा मरियाने त्याच्या शब्दाले आयकलं, तवा ती लय भेली, अन् हा विचार करू लागली, कि हा अभिवादनचा अर्थ काय अशीन? देवदूतान तिले म्हतलं, “हे मरिया भेऊ नको, कावून कि देवाची कृपा तुह्यावर हाय आयक, तू गर्भवती रायशीन, अन् तुले एक पोरगा होईन, त्याचं नाव येशू ठेवजो. तो महान होईल अन् त्याले परमप्रधान देवाचा पोरगा म्हणतीन, प्रभू देव त्याले त्याच्या पूर्वज दाविद राजाचे राजासन देईन. अन् तो याकोबाच्या खानदानीवर युगानुयुग राज्य करीन अन् तो नेहमी साठी राजाच्या रुपात राज्य करीन.” तवा मरियानं देवाच्या देवदूताले म्हतलं, “हे कसं काय होईन? माह्याल तर अजून लग्न नाई झाले.” तवा देवाच्या देवदूतान तिले उत्तर देलं, “पवित्र आत्मा तुह्यावर येईन, अन् महान परमप्रधान देवाची सामर्थ तुह्यावर छाया करीन. ह्या कारणान तुह्या पासून जन्म घेणारा पोरगा पवित्र राईन, त्याले देवाचा पोरगा असं म्हणतीन. अन् आयक, तुह्यावाल्या नात्यातली अलीशिबा हिले पण म्हतारपणी पोराचा गर्भ रायला हाय, अन् जिले वांजोटी म्हणत होते तिले सहावा महिन्याचा गर्भ हाय. कावून कि देवासाठी काईच असंभव नाई.” तवा मरियानं म्हतलं, “आयक, मी प्रभूची दासी हाय, मले तुह्या शब्दा प्रमाणे होवो,” मंग देवदूत तिच्यापासून निघून गेला. काई दिवसानं मरिया घाईघाईन निघून पहाडी देशातल्या यहुदा प्रांतातल्या एका गावात गेली. मरियानं जखऱ्याचा घरी जाऊन अलीशिबा ले नमस्कार केला. तवा असं झालं कि अलीशिबानं मरियाचा नमस्कार आयकला तवाच तिच्या पोटातल्या लेकरानं गुतकून उडी मारली, अन् अलीशिबा पवित्र आत्म्यान परिपूर्ण झाली. अन् तिले आनंदाने मोठ्या आवाजात म्हतलं, “तू सगळ्या बाया मधून धन्य हायस, अन् ते लेकरू ज्याले तू जन्म देणार धन्य हाय! हि कृपा मले कशी झाली हाय, कि माह्या प्रभूची माय माह्यापासी भेट्याले आली हाय. अन् आयक, मी तुह्या नमस्कार आयकला, तसचं माह्या पोटातल्या लेकरानं आनंदाने उडी मारली. तू धन्य हाय, कावून कि तू विश्वास केला, कि ज्या गोष्टी प्रभून तुह्या सोबत केल्या होत्या, ते तो पूर्ण करीन.” तवा मरियानं म्हतलं, “मी देवाचा गौरव करतो. अन् देव जो माह्या तारणारा त्याच्या ठाई मी आनंदित झाली हाय. कावून कि त्यानं आपल्या, दाशीच्या दैन्यावस्तेचें अवलोकन केलं हाय पाहा, आतापासून साऱ्या पिढ्या मले धन्य म्हणतीन. कावून कि, त्या शक्तिमान देवानं माह्यासाठी मोठं-मोठे काम केले हायत अन् त्याचं नाव पवित्र हाय. अन् जे त्याचा भय धरतात, त्याच्यावर त्याची दया पिढ्यान-पिढ्या बनून राईन. त्यायनं आपल्या शक्तीन पराक्रमाचे काम केले हाय, अन् जे मनात घमंड करतात, त्याने त्यायले हरवले हाय. त्यानं अधिकाऱ्यायले राजासनावरून होडून काढलं हाय, अन् दीन लोकायचा आदर केला हाय. देवानं भुक लागलेल्या लोकायले चांगल्या वस्तुनं तृप्त केलं हाय, व धनवान लोकायले रिकाम्या हातांन लाऊन देलं हाय, ते प्रतिज्ञा जे देवाने बापदादायच्या संग केलती, ते आठोन ठेऊन, तो आपल्या इस्राएल देशाच्या लोकायची मदत करायले आला. त्यानं अब्राहामाला अन् त्याच्या सर्व खानदानीले सर्वकाळ दया दाखव्यासाठी आठोन केली हाय.” मरिया जवळपास तीन महिने अलीशिबाच्या घरी राऊन, परत आपल्या घरी वापस आली. अलीशिबाचे गर्भवती पणाचे दिवस पूर्ण झाल्यावर तिले पोरगा झाला. प्रभूने तिच्यावर मोठी दया केली, हे आयकून तिच्या शेजारच्यायनं अन् तिच्या सोयऱ्यायनं तिच्या संग आनंद केला. मंग असं झालं जन्म झाल्याच्या आठव्या दिवशी त्या लेकराचा खतना कऱ्याले आले, तवा त्याचं नाव त्याच्या बापाच्या नावावरून जखऱ्या ठेव्याची इच्छा होती. पण त्याची माय अलीशिबानं उत्तर देलं, “नाई, ह्याच नाव योहान ठेव्याचं हाय,” पण त्यायनं तिले म्हतलं, “ह्या नावाचा माणूस तुह्यावाल्या सोयऱ्याईत कोणीचं नाई हाय.” तवा त्यायनं, त्या लहान लेकराचा बाप जखऱ्याले खुणाऊन विचारलं, कि तुले ह्याच कोणतं नाव ठेव्याचं हाय. त्यानं लिव्याची पाटी मांगीतली अन् लिवून देलं, कि त्याचं नाव योहान हाय, तवा सगळ्यायले आश्चर्य वाटलं. तवा तो लगेचं जिभेने बोलायले लागला, व देवाचा गौरव करू लागला. अन् त्याच्या अवतीभोंवती रायनाऱ्या सगळे लोकं भेऊन गेले अन् ह्या सगळ्या गोष्टी यहुदीया प्रांतातल्या सगळ्या पहाडी देशात पसरल्या. अन् साऱ्या आयकणाऱ्यायनं ह्या गोष्टी आपल्या मनात विचार करून म्हतल्या, हे लेकरू कसं होईन, कावून कि प्रभूची सामर्थ त्याच्यावर होती. अन् त्याचा बाप जखऱ्या, हा पवित्र आत्म्यान परिपूर्ण झाला, अन् भविष्यवाणी करून बोलू लागला. “धन्य हाय प्रभू, इस्राएलाचा देव कावून कि त्यानं आपल्या लोकायले पाऊन त्यायच्यावर लक्ष देलं हाय अन् त्यायचं तारण केलं हाय. अन् त्यानं आमाले त्याचा दास दाविद राजाच्या खानदानीतून आपल्यासाठी एक शक्तिशाली तारणाऱ्याले पाठवले हाय. सगळ्यात आगोदर प्रभून आपल्या पवित्र भविष्यवक्त्याच्या जे जगाच्या पयलेपणा पासून म्हतलं होतं. कि तो आमाले आमच्या शत्रू पासून, अन् त्या सगळ्या लोकायच्या शक्तीपासून आमचं तारण करीन जे आमचा राग करतात. त्यानं म्हतलं कि तो आपल्या बापदादायवर दया करीन, अन् आपल्या पवित्र कराराले आठवण करीन. त्याने आपल्या बापदादा अब्राहाम संग शपत देऊन करार केला, कि तो आमाले शत्रू पासून सोडीन जोपरेंत आपण जिवंत हावो, त्याच्या उपस्थिती मध्ये पवित्रतेन अन् धार्मिकतेन न भेता देवाची सेवा करू शकावे, कि तो आमाले आमच्या शत्रू पासून वाचविन. कि आमी जोपरेंत जिवंत हावो त्याच्या हजेरीत पवित्रता अन् धार्मिकतेन होऊन देवाची सेवा करावी. अन् हे लेकरा, तुले परमप्रधान देवाचा भविष्यवक्ता म्हणतीन, कावून कि तू प्रभूच्या रस्ता तयार कऱ्याले त्याच्या आगोदर पाठवले गेले हाय. याच्यासाठी कि, तो आपल्या लोकायले पापाची क्षमा करण्याच्या व्दारे, त्यायले तारणाचं ज्ञान देईन. हे आमच्या देवाच्या त्या मोठ्या दयेने होईन, जसं सूर्य आमाले ऊजीळ द्यायले चमकते तसचं ख्रिस्त आमच्या जवळ स्वर्गातून येईन. जे अंधारात बसले अन् मरणाच्या सावलीत ऊजीळ देतात, हा ऊजीळ आपल्याले त्या तरीक्यान मार्गदर्शन करीन जे आमाले देवाच्या संग शांती देतात.” अन् ते लेकरू योहान वाढत गेला अन् देवाच्या आत्मेत मध्ये मजबूत होतं गेला, अन् इस्राएल लोकायच्या मधात प्रचार करायच्या दिवसापरेंत सुनसान जागी रायला.\n"
     ]
    }
   ],
   "source": [
    "# Testing the function to extract textual data from given page url\n",
    "# Will be used later in the code \n",
    "\n",
    "def extract_text_from_url(url):\n",
    "    # Send a request to the webpage\n",
    "    response = requests.get(url)\n",
    "\n",
    "    # Parse the HTML content\n",
    "    soup = BeautifulSoup(response.content, 'html.parser')\n",
    "\n",
    "    # Find the main wrapper div\n",
    "    main_wrapper = soup.find('div', class_='main-wrapper')\n",
    "\n",
    "    # Find all span tags with class 'align-left' inside the main wrapper\n",
    "    spans = main_wrapper.find_all('span', class_='align-left')\n",
    "\n",
    "    # Extract and concatenate the text inside these span tags\n",
    "    concatenated_text = ' '.join(span.get_text(strip=True) for span in spans)\n",
    "    cleaned_text = re.sub(r'\\d+', '', concatenated_text) # Removing unnecessary numeric values from the text\n",
    "    \n",
    "    return cleaned_text\n",
    "\n",
    "# Example usage\n",
    "webpage_url = \"https://live.bible.is/bible/VAHDPI/LUK/1?audio_type=audio\"\n",
    "concatenated_text = extract_text_from_url(webpage_url)\n",
    "print(concatenated_text)"
   ]
  },
  {
   "cell_type": "code",
   "execution_count": 10,
   "id": "2a70ae3b",
   "metadata": {},
   "outputs": [
    {
     "name": "stdout",
     "output_type": "stream",
     "text": [
      "Button clicked successfully.\n",
      "An error occurred: Message: \n",
      "Stacktrace:\n",
      "\tGetHandleVerifier [0x00007FF6D2591522+60802]\n",
      "\t(No symbol) [0x00007FF6D250AC22]\n",
      "\t(No symbol) [0x00007FF6D23C7CE4]\n",
      "\t(No symbol) [0x00007FF6D2416D4D]\n",
      "\t(No symbol) [0x00007FF6D2416E1C]\n",
      "\t(No symbol) [0x00007FF6D245CE37]\n",
      "\t(No symbol) [0x00007FF6D243ABBF]\n",
      "\t(No symbol) [0x00007FF6D245A224]\n",
      "\t(No symbol) [0x00007FF6D243A923]\n",
      "\t(No symbol) [0x00007FF6D2408FEC]\n",
      "\t(No symbol) [0x00007FF6D2409C21]\n",
      "\tGetHandleVerifier [0x00007FF6D28941BD+3217949]\n",
      "\tGetHandleVerifier [0x00007FF6D28D6157+3488183]\n",
      "\tGetHandleVerifier [0x00007FF6D28CF0DF+3459391]\n",
      "\tGetHandleVerifier [0x00007FF6D264B8E6+823622]\n",
      "\t(No symbol) [0x00007FF6D2515FBF]\n",
      "\t(No symbol) [0x00007FF6D2510EE4]\n",
      "\t(No symbol) [0x00007FF6D2511072]\n",
      "\t(No symbol) [0x00007FF6D25018C4]\n",
      "\tBaseThreadInitThunk [0x00007FFE04E8257D+29]\n",
      "\tRtlUserThreadStart [0x00007FFE06F0AA48+40]\n",
      "\n"
     ]
    }
   ],
   "source": [
    "from selenium import webdriver\n",
    "from selenium.webdriver.common.by import By\n",
    "from selenium.webdriver.support.ui import WebDriverWait\n",
    "from selenium.webdriver.support import expected_conditions as EC\n",
    "from bs4 import BeautifulSoup\n",
    "from urllib.parse import urljoin\n",
    "import os\n",
    "\n",
    "# Initialize the WebDriver and open the website\n",
    "driver = webdriver.Chrome()\n",
    "driver.get(\"https://live.bible.is/bible/MARDPI/GEN/3\")\n",
    "\n",
    "# Define the base folder path where everything will be downloaded\n",
    "base_folder_path = \"C:/Users/TANAY/anaconda3/envs/SIT/SarvamAIWebScraping\"\n",
    "\n",
    "try:\n",
    "    # Wait until the button is clickable\n",
    "    button = WebDriverWait(driver, 10).until(\n",
    "        EC.element_to_be_clickable((By.CLASS_NAME, \"book-chapter\"))\n",
    "    )\n",
    "    button.click()\n",
    "    print(\"Button clicked successfully.\")\n",
    "    \n",
    "    # Waiting for the content to load\n",
    "    WebDriverWait(driver, 10).until(\n",
    "        EC.presence_of_element_located((By.CLASS_NAME, \"testament-title\"))\n",
    "    )\n",
    "    \n",
    "    # Get the page source for parsing\n",
    "    page_source = driver.page_source\n",
    "    # Parse the page source with BeautifulSoup\n",
    "    soup = BeautifulSoup(page_source, 'html.parser')\n",
    "    \n",
    "    # Find the target div with class 'testament-title' containing \"New Testament\"\n",
    "    target_div = soup.find('div', class_='testament-title', string=lambda text: text and \"New Testament\" in text)\n",
    "\n",
    "    base_url = \"https://live.bible.is/\"\n",
    "\n",
    "    # Start with the next sibling of the target <div>\n",
    "    nxt_div = target_div.find_next_sibling()\n",
    "\n",
    "    while nxt_div and nxt_div.name == 'div' and 'book-button' in nxt_div.get('class', []):\n",
    "        # Create a folder named after the id of the nxt_div within the base folder path\n",
    "        folder_name = nxt_div.get('id')\n",
    "        if folder_name:\n",
    "            folder_path = os.path.join(base_folder_path, folder_name)\n",
    "            os.makedirs(folder_path, exist_ok=True)\n",
    "\n",
    "        # Extract the href attributes of <a> tags within this <div>\n",
    "        link_index = 1\n",
    "        for a_tag in nxt_div.find_all('a', class_='chapter-box'):\n",
    "            full_url = urljoin(base_url, a_tag['href'])  # Convert to absolute URL\n",
    "            text_content = extract_text_from_url(full_url)  # Extract text using the predefined function\n",
    "\n",
    "            # Save the text content to a file named in numerical order within the folder\n",
    "            file_path = os.path.join(folder_path, f\"{link_index}.txt\")\n",
    "            with open(file_path, 'w', encoding='utf-8') as file:\n",
    "                file.write(text_content)\n",
    "\n",
    "            link_index += 1\n",
    "\n",
    "        # Move to the next sibling\n",
    "        nxt_div = nxt_div.find_next_sibling()\n",
    "        \n",
    "except Exception as e:\n",
    "    print(f\"An error occurred: {e}\")\n",
    "finally:\n",
    "    # Close the driver\n",
    "    driver.quit()\n"
   ]
  },
  {
   "cell_type": "code",
   "execution_count": null,
   "id": "a1475db8",
   "metadata": {},
   "outputs": [],
   "source": [
    "def extract_text_from_url(url):\n",
    "    # Send a request to the webpage\n",
    "    response = requests.get(url)\n",
    "\n",
    "    # Parse the HTML content\n",
    "    soup = BeautifulSoup(response.content, 'html.parser')\n",
    "\n",
    "    # Find the main wrapper div\n",
    "    main_wrapper = soup.find('div', class_='main-wrapper')\n",
    "\n",
    "    # Find all span tags with class 'align-left' inside the main wrapper\n",
    "    spans = main_wrapper.find_all('span', class_='align-left')\n",
    "\n",
    "    # Extract and concatenate the text inside these span tags\n",
    "    concatenated_text = ' '.join(span.get_text(strip=True) for span in spans)\n",
    "\n",
    "    return concatenated_text\n",
    "\n",
    "def capture_network_logs(driver):\n",
    "    # Enable network tracking\n",
    "    driver.execute_cdp_cmd('Network.enable', {})\n",
    "\n",
    "    # Collect network logs\n",
    "    network_logs = []\n",
    "\n",
    "    def log_response(response):\n",
    "        try:\n",
    "            response_body = json.loads(response['message'])['message']\n",
    "            network_logs.append(response_body)\n",
    "        except Exception as e:\n",
    "            print(f\"Error parsing response: {e}\")\n",
    "\n",
    "    return network_logs, log_response\n",
    "\n",
    "\n",
    "def get_audio_url(url):\n",
    "    driver.get(url)\n",
    "    \n",
    "    # Initialize play button\n",
    "    play_button = driver.find_element(By.ID, 'play-audio')\n",
    "\n",
    "    # Capture network logs\n",
    "    network_logs = capture_network_logs(driver)\n",
    "\n",
    "    # Click the play button\n",
    "    play_button.click()\n",
    "    print(\"Play button clicked.\")\n",
    "\n",
    "    # Allow time for the audio to play and requests to be captured\n",
    "    time.sleep(2)\n",
    "\n",
    "    # Retrieve and process network logs\n",
    "    logs = driver.get_log('performance')\n",
    "    for entry in logs:\n",
    "        log_response(entry)\n",
    "        \n",
    "    driver.quit()\n",
    "    cloudfront_urls = set(\n",
    "            log['params']['request']['url'] for log in network_logs\n",
    "            if log.get('method') == 'Network.requestWillBeSent'\n",
    "            and log['params']['request']['method'] == 'GET'\n",
    "            and log['params']['type'] == 'Media'\n",
    "            and 'cloudfront.net' in log['params']['request']['url']\n",
    "        )\n",
    "        \n",
    "    return cloudfront_urls"
   ]
  },
  {
   "cell_type": "code",
   "execution_count": 40,
   "id": "7060730a",
   "metadata": {},
   "outputs": [
    {
     "name": "stdout",
     "output_type": "stream",
     "text": [
      "Button clicked successfully.\n",
      "Created folder: Bible_Texts\\मत्तयकृत शुभवर्तमानMAT\n",
      "Processing URL: https://live.bible.is/bible/MARDPI/MAT/1\n",
      "Created folder: Bible_Texts\\मत्तयकृत शुभवर्तमानMAT\\1\n",
      "Play button clicked.\n",
      "Error processing div मत्तयकृत शुभवर्तमानMAT: HTTPConnectionPool(host='localhost', port=57710): Max retries exceeded with url: /session/291a10206b5493c0410c52853cf8ae04/element (Caused by NewConnectionError('<urllib3.connection.HTTPConnection object at 0x00000127658822C0>: Failed to establish a new connection: [WinError 10061] No connection could be made because the target machine actively refused it'))\n",
      "Created folder: Bible_Texts\\मार्ककृत शुभवर्तमानMRK\n",
      "Error processing div मार्ककृत शुभवर्तमानMRK: HTTPConnectionPool(host='localhost', port=57710): Max retries exceeded with url: /session/291a10206b5493c0410c52853cf8ae04/element (Caused by NewConnectionError('<urllib3.connection.HTTPConnection object at 0x0000012763AF7700>: Failed to establish a new connection: [WinError 10061] No connection could be made because the target machine actively refused it'))\n",
      "Created folder: Bible_Texts\\लूककृत शुभवर्तमानLUK\n",
      "Error processing div लूककृत शुभवर्तमानLUK: HTTPConnectionPool(host='localhost', port=57710): Max retries exceeded with url: /session/291a10206b5493c0410c52853cf8ae04/element (Caused by NewConnectionError('<urllib3.connection.HTTPConnection object at 0x0000012765881D50>: Failed to establish a new connection: [WinError 10061] No connection could be made because the target machine actively refused it'))\n",
      "Created folder: Bible_Texts\\योहानकृत शुभवर्तमानJHN\n",
      "Error processing div योहानकृत शुभवर्तमानJHN: HTTPConnectionPool(host='localhost', port=57710): Max retries exceeded with url: /session/291a10206b5493c0410c52853cf8ae04/element (Caused by NewConnectionError('<urllib3.connection.HTTPConnection object at 0x0000012765883D90>: Failed to establish a new connection: [WinError 10061] No connection could be made because the target machine actively refused it'))\n",
      "Created folder: Bible_Texts\\प्रेषितांची कृत्येACT\n"
     ]
    },
    {
     "ename": "KeyboardInterrupt",
     "evalue": "",
     "output_type": "error",
     "traceback": [
      "\u001b[1;31m---------------------------------------------------------------------------\u001b[0m",
      "\u001b[1;31mConnectionRefusedError\u001b[0m                    Traceback (most recent call last)",
      "File \u001b[1;32m~\\anaconda3\\lib\\site-packages\\urllib3\\util\\connection.py:85\u001b[0m, in \u001b[0;36mcreate_connection\u001b[1;34m(address, timeout, source_address, socket_options)\u001b[0m\n\u001b[0;32m     84\u001b[0m     sock\u001b[38;5;241m.\u001b[39mbind(source_address)\n\u001b[1;32m---> 85\u001b[0m \u001b[43msock\u001b[49m\u001b[38;5;241;43m.\u001b[39;49m\u001b[43mconnect\u001b[49m\u001b[43m(\u001b[49m\u001b[43msa\u001b[49m\u001b[43m)\u001b[49m\n\u001b[0;32m     86\u001b[0m \u001b[38;5;28;01mreturn\u001b[39;00m sock\n",
      "\u001b[1;31mConnectionRefusedError\u001b[0m: [WinError 10061] No connection could be made because the target machine actively refused it",
      "\nDuring handling of the above exception, another exception occurred:\n",
      "\u001b[1;31mKeyboardInterrupt\u001b[0m                         Traceback (most recent call last)",
      "Cell \u001b[1;32mIn[40], line 51\u001b[0m\n\u001b[0;32m     49\u001b[0m     \u001b[38;5;28mprint\u001b[39m(\u001b[38;5;124mf\u001b[39m\u001b[38;5;124m\"\u001b[39m\u001b[38;5;124mCreated folder: \u001b[39m\u001b[38;5;132;01m{\u001b[39;00mfolder_path\u001b[38;5;132;01m}\u001b[39;00m\u001b[38;5;124m\"\u001b[39m)\n\u001b[1;32m---> 51\u001b[0m \u001b[43mWebDriverWait\u001b[49m\u001b[43m(\u001b[49m\u001b[43mdriver\u001b[49m\u001b[43m,\u001b[49m\u001b[43m \u001b[49m\u001b[38;5;241;43m10\u001b[39;49m\u001b[43m)\u001b[49m\u001b[38;5;241;43m.\u001b[39;49m\u001b[43muntil\u001b[49m\u001b[43m(\u001b[49m\u001b[43mEC\u001b[49m\u001b[38;5;241;43m.\u001b[39;49m\u001b[43melement_to_be_clickable\u001b[49m\u001b[43m(\u001b[49m\u001b[43m(\u001b[49m\u001b[43mBy\u001b[49m\u001b[38;5;241;43m.\u001b[39;49m\u001b[43mID\u001b[49m\u001b[43m,\u001b[49m\u001b[43m \u001b[49m\u001b[38;5;124;43m'\u001b[39;49m\u001b[38;5;124;43mplay-audio\u001b[39;49m\u001b[38;5;124;43m'\u001b[39;49m\u001b[43m)\u001b[49m\u001b[43m)\u001b[49m\u001b[43m)\u001b[49m\n\u001b[0;32m     52\u001b[0m \u001b[38;5;66;03m# Extract the href attributes of <a> tags within this <div>\u001b[39;00m\n",
      "File \u001b[1;32m~\\anaconda3\\lib\\site-packages\\selenium\\webdriver\\support\\wait.py:96\u001b[0m, in \u001b[0;36mWebDriverWait.until\u001b[1;34m(self, method, message)\u001b[0m\n\u001b[0;32m     95\u001b[0m \u001b[38;5;28;01mtry\u001b[39;00m:\n\u001b[1;32m---> 96\u001b[0m     value \u001b[38;5;241m=\u001b[39m \u001b[43mmethod\u001b[49m\u001b[43m(\u001b[49m\u001b[38;5;28;43mself\u001b[39;49m\u001b[38;5;241;43m.\u001b[39;49m\u001b[43m_driver\u001b[49m\u001b[43m)\u001b[49m\n\u001b[0;32m     97\u001b[0m     \u001b[38;5;28;01mif\u001b[39;00m value:\n",
      "File \u001b[1;32m~\\anaconda3\\lib\\site-packages\\selenium\\webdriver\\support\\expected_conditions.py:363\u001b[0m, in \u001b[0;36melement_to_be_clickable.<locals>._predicate\u001b[1;34m(driver)\u001b[0m\n\u001b[0;32m    362\u001b[0m \u001b[38;5;28;01mif\u001b[39;00m \u001b[38;5;129;01mnot\u001b[39;00m \u001b[38;5;28misinstance\u001b[39m(target, WebElement):  \u001b[38;5;66;03m# if given locator instead of WebElement\u001b[39;00m\n\u001b[1;32m--> 363\u001b[0m     target \u001b[38;5;241m=\u001b[39m \u001b[43mdriver\u001b[49m\u001b[38;5;241;43m.\u001b[39;49m\u001b[43mfind_element\u001b[49m\u001b[43m(\u001b[49m\u001b[38;5;241;43m*\u001b[39;49m\u001b[43mtarget\u001b[49m\u001b[43m)\u001b[49m  \u001b[38;5;66;03m# grab element at locator\u001b[39;00m\n\u001b[0;32m    364\u001b[0m element \u001b[38;5;241m=\u001b[39m visibility_of(target)(driver)\n",
      "File \u001b[1;32m~\\anaconda3\\lib\\site-packages\\selenium\\webdriver\\remote\\webdriver.py:741\u001b[0m, in \u001b[0;36mWebDriver.find_element\u001b[1;34m(self, by, value)\u001b[0m\n\u001b[0;32m    739\u001b[0m     value \u001b[38;5;241m=\u001b[39m \u001b[38;5;124mf\u001b[39m\u001b[38;5;124m'\u001b[39m\u001b[38;5;124m[name=\u001b[39m\u001b[38;5;124m\"\u001b[39m\u001b[38;5;132;01m{\u001b[39;00mvalue\u001b[38;5;132;01m}\u001b[39;00m\u001b[38;5;124m\"\u001b[39m\u001b[38;5;124m]\u001b[39m\u001b[38;5;124m'\u001b[39m\n\u001b[1;32m--> 741\u001b[0m \u001b[38;5;28;01mreturn\u001b[39;00m \u001b[38;5;28;43mself\u001b[39;49m\u001b[38;5;241;43m.\u001b[39;49m\u001b[43mexecute\u001b[49m\u001b[43m(\u001b[49m\u001b[43mCommand\u001b[49m\u001b[38;5;241;43m.\u001b[39;49m\u001b[43mFIND_ELEMENT\u001b[49m\u001b[43m,\u001b[49m\u001b[43m \u001b[49m\u001b[43m{\u001b[49m\u001b[38;5;124;43m\"\u001b[39;49m\u001b[38;5;124;43musing\u001b[39;49m\u001b[38;5;124;43m\"\u001b[39;49m\u001b[43m:\u001b[49m\u001b[43m \u001b[49m\u001b[43mby\u001b[49m\u001b[43m,\u001b[49m\u001b[43m \u001b[49m\u001b[38;5;124;43m\"\u001b[39;49m\u001b[38;5;124;43mvalue\u001b[39;49m\u001b[38;5;124;43m\"\u001b[39;49m\u001b[43m:\u001b[49m\u001b[43m \u001b[49m\u001b[43mvalue\u001b[49m\u001b[43m}\u001b[49m\u001b[43m)\u001b[49m[\u001b[38;5;124m\"\u001b[39m\u001b[38;5;124mvalue\u001b[39m\u001b[38;5;124m\"\u001b[39m]\n",
      "File \u001b[1;32m~\\anaconda3\\lib\\site-packages\\selenium\\webdriver\\remote\\webdriver.py:345\u001b[0m, in \u001b[0;36mWebDriver.execute\u001b[1;34m(self, driver_command, params)\u001b[0m\n\u001b[0;32m    343\u001b[0m         params[\u001b[38;5;124m\"\u001b[39m\u001b[38;5;124msessionId\u001b[39m\u001b[38;5;124m\"\u001b[39m] \u001b[38;5;241m=\u001b[39m \u001b[38;5;28mself\u001b[39m\u001b[38;5;241m.\u001b[39msession_id\n\u001b[1;32m--> 345\u001b[0m response \u001b[38;5;241m=\u001b[39m \u001b[38;5;28;43mself\u001b[39;49m\u001b[38;5;241;43m.\u001b[39;49m\u001b[43mcommand_executor\u001b[49m\u001b[38;5;241;43m.\u001b[39;49m\u001b[43mexecute\u001b[49m\u001b[43m(\u001b[49m\u001b[43mdriver_command\u001b[49m\u001b[43m,\u001b[49m\u001b[43m \u001b[49m\u001b[43mparams\u001b[49m\u001b[43m)\u001b[49m\n\u001b[0;32m    346\u001b[0m \u001b[38;5;28;01mif\u001b[39;00m response:\n",
      "File \u001b[1;32m~\\anaconda3\\lib\\site-packages\\selenium\\webdriver\\remote\\remote_connection.py:302\u001b[0m, in \u001b[0;36mRemoteConnection.execute\u001b[1;34m(self, command, params)\u001b[0m\n\u001b[0;32m    301\u001b[0m LOGGER\u001b[38;5;241m.\u001b[39mdebug(\u001b[38;5;124m\"\u001b[39m\u001b[38;5;132;01m%s\u001b[39;00m\u001b[38;5;124m \u001b[39m\u001b[38;5;132;01m%s\u001b[39;00m\u001b[38;5;124m \u001b[39m\u001b[38;5;132;01m%s\u001b[39;00m\u001b[38;5;124m\"\u001b[39m, command_info[\u001b[38;5;241m0\u001b[39m], url, \u001b[38;5;28mstr\u001b[39m(trimmed))\n\u001b[1;32m--> 302\u001b[0m \u001b[38;5;28;01mreturn\u001b[39;00m \u001b[38;5;28;43mself\u001b[39;49m\u001b[38;5;241;43m.\u001b[39;49m\u001b[43m_request\u001b[49m\u001b[43m(\u001b[49m\u001b[43mcommand_info\u001b[49m\u001b[43m[\u001b[49m\u001b[38;5;241;43m0\u001b[39;49m\u001b[43m]\u001b[49m\u001b[43m,\u001b[49m\u001b[43m \u001b[49m\u001b[43murl\u001b[49m\u001b[43m,\u001b[49m\u001b[43m \u001b[49m\u001b[43mbody\u001b[49m\u001b[38;5;241;43m=\u001b[39;49m\u001b[43mdata\u001b[49m\u001b[43m)\u001b[49m\n",
      "File \u001b[1;32m~\\anaconda3\\lib\\site-packages\\selenium\\webdriver\\remote\\remote_connection.py:322\u001b[0m, in \u001b[0;36mRemoteConnection._request\u001b[1;34m(self, method, url, body)\u001b[0m\n\u001b[0;32m    321\u001b[0m \u001b[38;5;28;01mif\u001b[39;00m \u001b[38;5;28mself\u001b[39m\u001b[38;5;241m.\u001b[39mkeep_alive:\n\u001b[1;32m--> 322\u001b[0m     response \u001b[38;5;241m=\u001b[39m \u001b[38;5;28;43mself\u001b[39;49m\u001b[38;5;241;43m.\u001b[39;49m\u001b[43m_conn\u001b[49m\u001b[38;5;241;43m.\u001b[39;49m\u001b[43mrequest\u001b[49m\u001b[43m(\u001b[49m\u001b[43mmethod\u001b[49m\u001b[43m,\u001b[49m\u001b[43m \u001b[49m\u001b[43murl\u001b[49m\u001b[43m,\u001b[49m\u001b[43m \u001b[49m\u001b[43mbody\u001b[49m\u001b[38;5;241;43m=\u001b[39;49m\u001b[43mbody\u001b[49m\u001b[43m,\u001b[49m\u001b[43m \u001b[49m\u001b[43mheaders\u001b[49m\u001b[38;5;241;43m=\u001b[39;49m\u001b[43mheaders\u001b[49m\u001b[43m)\u001b[49m\n\u001b[0;32m    323\u001b[0m     statuscode \u001b[38;5;241m=\u001b[39m response\u001b[38;5;241m.\u001b[39mstatus\n",
      "File \u001b[1;32m~\\anaconda3\\lib\\site-packages\\urllib3\\request.py:78\u001b[0m, in \u001b[0;36mRequestMethods.request\u001b[1;34m(self, method, url, fields, headers, **urlopen_kw)\u001b[0m\n\u001b[0;32m     77\u001b[0m \u001b[38;5;28;01melse\u001b[39;00m:\n\u001b[1;32m---> 78\u001b[0m     \u001b[38;5;28;01mreturn\u001b[39;00m \u001b[38;5;28mself\u001b[39m\u001b[38;5;241m.\u001b[39mrequest_encode_body(\n\u001b[0;32m     79\u001b[0m         method, url, fields\u001b[38;5;241m=\u001b[39mfields, headers\u001b[38;5;241m=\u001b[39mheaders, \u001b[38;5;241m*\u001b[39m\u001b[38;5;241m*\u001b[39murlopen_kw\n\u001b[0;32m     80\u001b[0m     )\n",
      "File \u001b[1;32m~\\anaconda3\\lib\\site-packages\\urllib3\\request.py:170\u001b[0m, in \u001b[0;36mRequestMethods.request_encode_body\u001b[1;34m(self, method, url, fields, headers, encode_multipart, multipart_boundary, **urlopen_kw)\u001b[0m\n\u001b[0;32m    168\u001b[0m extra_kw\u001b[38;5;241m.\u001b[39mupdate(urlopen_kw)\n\u001b[1;32m--> 170\u001b[0m \u001b[38;5;28;01mreturn\u001b[39;00m \u001b[38;5;28mself\u001b[39m\u001b[38;5;241m.\u001b[39murlopen(method, url, \u001b[38;5;241m*\u001b[39m\u001b[38;5;241m*\u001b[39mextra_kw)\n",
      "File \u001b[1;32m~\\anaconda3\\lib\\site-packages\\urllib3\\poolmanager.py:376\u001b[0m, in \u001b[0;36mPoolManager.urlopen\u001b[1;34m(self, method, url, redirect, **kw)\u001b[0m\n\u001b[0;32m    375\u001b[0m \u001b[38;5;28;01melse\u001b[39;00m:\n\u001b[1;32m--> 376\u001b[0m     response \u001b[38;5;241m=\u001b[39m conn\u001b[38;5;241m.\u001b[39murlopen(method, u\u001b[38;5;241m.\u001b[39mrequest_uri, \u001b[38;5;241m*\u001b[39m\u001b[38;5;241m*\u001b[39mkw)\n\u001b[0;32m    378\u001b[0m redirect_location \u001b[38;5;241m=\u001b[39m redirect \u001b[38;5;129;01mand\u001b[39;00m response\u001b[38;5;241m.\u001b[39mget_redirect_location()\n",
      "File \u001b[1;32m~\\anaconda3\\lib\\site-packages\\urllib3\\connectionpool.py:703\u001b[0m, in \u001b[0;36mHTTPConnectionPool.urlopen\u001b[1;34m(self, method, url, body, headers, retries, redirect, assert_same_host, timeout, pool_timeout, release_conn, chunked, body_pos, **response_kw)\u001b[0m\n\u001b[0;32m    702\u001b[0m \u001b[38;5;66;03m# Make the request on the httplib connection object.\u001b[39;00m\n\u001b[1;32m--> 703\u001b[0m httplib_response \u001b[38;5;241m=\u001b[39m \u001b[38;5;28;43mself\u001b[39;49m\u001b[38;5;241;43m.\u001b[39;49m\u001b[43m_make_request\u001b[49m\u001b[43m(\u001b[49m\n\u001b[0;32m    704\u001b[0m \u001b[43m    \u001b[49m\u001b[43mconn\u001b[49m\u001b[43m,\u001b[49m\n\u001b[0;32m    705\u001b[0m \u001b[43m    \u001b[49m\u001b[43mmethod\u001b[49m\u001b[43m,\u001b[49m\n\u001b[0;32m    706\u001b[0m \u001b[43m    \u001b[49m\u001b[43murl\u001b[49m\u001b[43m,\u001b[49m\n\u001b[0;32m    707\u001b[0m \u001b[43m    \u001b[49m\u001b[43mtimeout\u001b[49m\u001b[38;5;241;43m=\u001b[39;49m\u001b[43mtimeout_obj\u001b[49m\u001b[43m,\u001b[49m\n\u001b[0;32m    708\u001b[0m \u001b[43m    \u001b[49m\u001b[43mbody\u001b[49m\u001b[38;5;241;43m=\u001b[39;49m\u001b[43mbody\u001b[49m\u001b[43m,\u001b[49m\n\u001b[0;32m    709\u001b[0m \u001b[43m    \u001b[49m\u001b[43mheaders\u001b[49m\u001b[38;5;241;43m=\u001b[39;49m\u001b[43mheaders\u001b[49m\u001b[43m,\u001b[49m\n\u001b[0;32m    710\u001b[0m \u001b[43m    \u001b[49m\u001b[43mchunked\u001b[49m\u001b[38;5;241;43m=\u001b[39;49m\u001b[43mchunked\u001b[49m\u001b[43m,\u001b[49m\n\u001b[0;32m    711\u001b[0m \u001b[43m\u001b[49m\u001b[43m)\u001b[49m\n\u001b[0;32m    713\u001b[0m \u001b[38;5;66;03m# If we're going to release the connection in ``finally:``, then\u001b[39;00m\n\u001b[0;32m    714\u001b[0m \u001b[38;5;66;03m# the response doesn't need to know about the connection. Otherwise\u001b[39;00m\n\u001b[0;32m    715\u001b[0m \u001b[38;5;66;03m# it will also try to release it and we'll have a double-release\u001b[39;00m\n\u001b[0;32m    716\u001b[0m \u001b[38;5;66;03m# mess.\u001b[39;00m\n",
      "File \u001b[1;32m~\\anaconda3\\lib\\site-packages\\urllib3\\connectionpool.py:398\u001b[0m, in \u001b[0;36mHTTPConnectionPool._make_request\u001b[1;34m(self, conn, method, url, timeout, chunked, **httplib_request_kw)\u001b[0m\n\u001b[0;32m    397\u001b[0m     \u001b[38;5;28;01melse\u001b[39;00m:\n\u001b[1;32m--> 398\u001b[0m         conn\u001b[38;5;241m.\u001b[39mrequest(method, url, \u001b[38;5;241m*\u001b[39m\u001b[38;5;241m*\u001b[39mhttplib_request_kw)\n\u001b[0;32m    400\u001b[0m \u001b[38;5;66;03m# We are swallowing BrokenPipeError (errno.EPIPE) since the server is\u001b[39;00m\n\u001b[0;32m    401\u001b[0m \u001b[38;5;66;03m# legitimately able to close the connection after sending a valid response.\u001b[39;00m\n\u001b[0;32m    402\u001b[0m \u001b[38;5;66;03m# With this behaviour, the received response is still readable.\u001b[39;00m\n",
      "File \u001b[1;32m~\\anaconda3\\lib\\site-packages\\urllib3\\connection.py:239\u001b[0m, in \u001b[0;36mHTTPConnection.request\u001b[1;34m(self, method, url, body, headers)\u001b[0m\n\u001b[0;32m    238\u001b[0m     headers[\u001b[38;5;124m\"\u001b[39m\u001b[38;5;124mUser-Agent\u001b[39m\u001b[38;5;124m\"\u001b[39m] \u001b[38;5;241m=\u001b[39m _get_default_user_agent()\n\u001b[1;32m--> 239\u001b[0m \u001b[38;5;28;43msuper\u001b[39;49m\u001b[43m(\u001b[49m\u001b[43mHTTPConnection\u001b[49m\u001b[43m,\u001b[49m\u001b[43m \u001b[49m\u001b[38;5;28;43mself\u001b[39;49m\u001b[43m)\u001b[49m\u001b[38;5;241;43m.\u001b[39;49m\u001b[43mrequest\u001b[49m\u001b[43m(\u001b[49m\u001b[43mmethod\u001b[49m\u001b[43m,\u001b[49m\u001b[43m \u001b[49m\u001b[43murl\u001b[49m\u001b[43m,\u001b[49m\u001b[43m \u001b[49m\u001b[43mbody\u001b[49m\u001b[38;5;241;43m=\u001b[39;49m\u001b[43mbody\u001b[49m\u001b[43m,\u001b[49m\u001b[43m \u001b[49m\u001b[43mheaders\u001b[49m\u001b[38;5;241;43m=\u001b[39;49m\u001b[43mheaders\u001b[49m\u001b[43m)\u001b[49m\n",
      "File \u001b[1;32m~\\anaconda3\\lib\\http\\client.py:1282\u001b[0m, in \u001b[0;36mHTTPConnection.request\u001b[1;34m(self, method, url, body, headers, encode_chunked)\u001b[0m\n\u001b[0;32m   1281\u001b[0m \u001b[38;5;250m\u001b[39m\u001b[38;5;124;03m\"\"\"Send a complete request to the server.\"\"\"\u001b[39;00m\n\u001b[1;32m-> 1282\u001b[0m \u001b[38;5;28;43mself\u001b[39;49m\u001b[38;5;241;43m.\u001b[39;49m\u001b[43m_send_request\u001b[49m\u001b[43m(\u001b[49m\u001b[43mmethod\u001b[49m\u001b[43m,\u001b[49m\u001b[43m \u001b[49m\u001b[43murl\u001b[49m\u001b[43m,\u001b[49m\u001b[43m \u001b[49m\u001b[43mbody\u001b[49m\u001b[43m,\u001b[49m\u001b[43m \u001b[49m\u001b[43mheaders\u001b[49m\u001b[43m,\u001b[49m\u001b[43m \u001b[49m\u001b[43mencode_chunked\u001b[49m\u001b[43m)\u001b[49m\n",
      "File \u001b[1;32m~\\anaconda3\\lib\\http\\client.py:1328\u001b[0m, in \u001b[0;36mHTTPConnection._send_request\u001b[1;34m(self, method, url, body, headers, encode_chunked)\u001b[0m\n\u001b[0;32m   1327\u001b[0m     body \u001b[38;5;241m=\u001b[39m _encode(body, \u001b[38;5;124m'\u001b[39m\u001b[38;5;124mbody\u001b[39m\u001b[38;5;124m'\u001b[39m)\n\u001b[1;32m-> 1328\u001b[0m \u001b[38;5;28;43mself\u001b[39;49m\u001b[38;5;241;43m.\u001b[39;49m\u001b[43mendheaders\u001b[49m\u001b[43m(\u001b[49m\u001b[43mbody\u001b[49m\u001b[43m,\u001b[49m\u001b[43m \u001b[49m\u001b[43mencode_chunked\u001b[49m\u001b[38;5;241;43m=\u001b[39;49m\u001b[43mencode_chunked\u001b[49m\u001b[43m)\u001b[49m\n",
      "File \u001b[1;32m~\\anaconda3\\lib\\http\\client.py:1277\u001b[0m, in \u001b[0;36mHTTPConnection.endheaders\u001b[1;34m(self, message_body, encode_chunked)\u001b[0m\n\u001b[0;32m   1276\u001b[0m     \u001b[38;5;28;01mraise\u001b[39;00m CannotSendHeader()\n\u001b[1;32m-> 1277\u001b[0m \u001b[38;5;28;43mself\u001b[39;49m\u001b[38;5;241;43m.\u001b[39;49m\u001b[43m_send_output\u001b[49m\u001b[43m(\u001b[49m\u001b[43mmessage_body\u001b[49m\u001b[43m,\u001b[49m\u001b[43m \u001b[49m\u001b[43mencode_chunked\u001b[49m\u001b[38;5;241;43m=\u001b[39;49m\u001b[43mencode_chunked\u001b[49m\u001b[43m)\u001b[49m\n",
      "File \u001b[1;32m~\\anaconda3\\lib\\http\\client.py:1037\u001b[0m, in \u001b[0;36mHTTPConnection._send_output\u001b[1;34m(self, message_body, encode_chunked)\u001b[0m\n\u001b[0;32m   1036\u001b[0m \u001b[38;5;28;01mdel\u001b[39;00m \u001b[38;5;28mself\u001b[39m\u001b[38;5;241m.\u001b[39m_buffer[:]\n\u001b[1;32m-> 1037\u001b[0m \u001b[38;5;28;43mself\u001b[39;49m\u001b[38;5;241;43m.\u001b[39;49m\u001b[43msend\u001b[49m\u001b[43m(\u001b[49m\u001b[43mmsg\u001b[49m\u001b[43m)\u001b[49m\n\u001b[0;32m   1039\u001b[0m \u001b[38;5;28;01mif\u001b[39;00m message_body \u001b[38;5;129;01mis\u001b[39;00m \u001b[38;5;129;01mnot\u001b[39;00m \u001b[38;5;28;01mNone\u001b[39;00m:\n\u001b[0;32m   1040\u001b[0m \n\u001b[0;32m   1041\u001b[0m     \u001b[38;5;66;03m# create a consistent interface to message_body\u001b[39;00m\n",
      "File \u001b[1;32m~\\anaconda3\\lib\\http\\client.py:975\u001b[0m, in \u001b[0;36mHTTPConnection.send\u001b[1;34m(self, data)\u001b[0m\n\u001b[0;32m    974\u001b[0m \u001b[38;5;28;01mif\u001b[39;00m \u001b[38;5;28mself\u001b[39m\u001b[38;5;241m.\u001b[39mauto_open:\n\u001b[1;32m--> 975\u001b[0m     \u001b[38;5;28;43mself\u001b[39;49m\u001b[38;5;241;43m.\u001b[39;49m\u001b[43mconnect\u001b[49m\u001b[43m(\u001b[49m\u001b[43m)\u001b[49m\n\u001b[0;32m    976\u001b[0m \u001b[38;5;28;01melse\u001b[39;00m:\n",
      "File \u001b[1;32m~\\anaconda3\\lib\\site-packages\\urllib3\\connection.py:205\u001b[0m, in \u001b[0;36mHTTPConnection.connect\u001b[1;34m(self)\u001b[0m\n\u001b[0;32m    204\u001b[0m \u001b[38;5;28;01mdef\u001b[39;00m \u001b[38;5;21mconnect\u001b[39m(\u001b[38;5;28mself\u001b[39m):\n\u001b[1;32m--> 205\u001b[0m     conn \u001b[38;5;241m=\u001b[39m \u001b[38;5;28;43mself\u001b[39;49m\u001b[38;5;241;43m.\u001b[39;49m\u001b[43m_new_conn\u001b[49m\u001b[43m(\u001b[49m\u001b[43m)\u001b[49m\n\u001b[0;32m    206\u001b[0m     \u001b[38;5;28mself\u001b[39m\u001b[38;5;241m.\u001b[39m_prepare_conn(conn)\n",
      "File \u001b[1;32m~\\anaconda3\\lib\\site-packages\\urllib3\\connection.py:174\u001b[0m, in \u001b[0;36mHTTPConnection._new_conn\u001b[1;34m(self)\u001b[0m\n\u001b[0;32m    173\u001b[0m \u001b[38;5;28;01mtry\u001b[39;00m:\n\u001b[1;32m--> 174\u001b[0m     conn \u001b[38;5;241m=\u001b[39m connection\u001b[38;5;241m.\u001b[39mcreate_connection(\n\u001b[0;32m    175\u001b[0m         (\u001b[38;5;28mself\u001b[39m\u001b[38;5;241m.\u001b[39m_dns_host, \u001b[38;5;28mself\u001b[39m\u001b[38;5;241m.\u001b[39mport), \u001b[38;5;28mself\u001b[39m\u001b[38;5;241m.\u001b[39mtimeout, \u001b[38;5;241m*\u001b[39m\u001b[38;5;241m*\u001b[39mextra_kw\n\u001b[0;32m    176\u001b[0m     )\n\u001b[0;32m    178\u001b[0m \u001b[38;5;28;01mexcept\u001b[39;00m SocketTimeout:\n",
      "File \u001b[1;32m~\\anaconda3\\lib\\site-packages\\urllib3\\util\\connection.py:85\u001b[0m, in \u001b[0;36mcreate_connection\u001b[1;34m(address, timeout, source_address, socket_options)\u001b[0m\n\u001b[0;32m     84\u001b[0m     sock\u001b[38;5;241m.\u001b[39mbind(source_address)\n\u001b[1;32m---> 85\u001b[0m \u001b[43msock\u001b[49m\u001b[38;5;241;43m.\u001b[39;49m\u001b[43mconnect\u001b[49m\u001b[43m(\u001b[49m\u001b[43msa\u001b[49m\u001b[43m)\u001b[49m\n\u001b[0;32m     86\u001b[0m \u001b[38;5;28;01mreturn\u001b[39;00m sock\n",
      "\u001b[1;31mKeyboardInterrupt\u001b[0m: ",
      "\nDuring handling of the above exception, another exception occurred:\n",
      "\u001b[1;31mConnectionRefusedError\u001b[0m                    Traceback (most recent call last)",
      "File \u001b[1;32m~\\anaconda3\\lib\\socket.py:833\u001b[0m, in \u001b[0;36mcreate_connection\u001b[1;34m(address, timeout, source_address)\u001b[0m\n\u001b[0;32m    832\u001b[0m     sock\u001b[38;5;241m.\u001b[39mbind(source_address)\n\u001b[1;32m--> 833\u001b[0m \u001b[43msock\u001b[49m\u001b[38;5;241;43m.\u001b[39;49m\u001b[43mconnect\u001b[49m\u001b[43m(\u001b[49m\u001b[43msa\u001b[49m\u001b[43m)\u001b[49m\n\u001b[0;32m    834\u001b[0m \u001b[38;5;66;03m# Break explicitly a reference cycle\u001b[39;00m\n",
      "\u001b[1;31mConnectionRefusedError\u001b[0m: [WinError 10061] No connection could be made because the target machine actively refused it",
      "\nDuring handling of the above exception, another exception occurred:\n",
      "\u001b[1;31mKeyboardInterrupt\u001b[0m                         Traceback (most recent call last)",
      "Cell \u001b[1;32mIn[40], line 106\u001b[0m\n\u001b[0;32m    103\u001b[0m     \u001b[38;5;28mprint\u001b[39m(\u001b[38;5;124mf\u001b[39m\u001b[38;5;124m\"\u001b[39m\u001b[38;5;124mAn error occurred: \u001b[39m\u001b[38;5;132;01m{\u001b[39;00me\u001b[38;5;132;01m}\u001b[39;00m\u001b[38;5;124m\"\u001b[39m)\n\u001b[0;32m    104\u001b[0m \u001b[38;5;28;01mfinally\u001b[39;00m:\n\u001b[0;32m    105\u001b[0m     \u001b[38;5;66;03m# Close the driver\u001b[39;00m\n\u001b[1;32m--> 106\u001b[0m     \u001b[43mdriver\u001b[49m\u001b[38;5;241;43m.\u001b[39;49m\u001b[43mquit\u001b[49m\u001b[43m(\u001b[49m\u001b[43m)\u001b[49m\n",
      "File \u001b[1;32m~\\anaconda3\\lib\\site-packages\\selenium\\webdriver\\chromium\\webdriver.py:193\u001b[0m, in \u001b[0;36mChromiumDriver.quit\u001b[1;34m(self)\u001b[0m\n\u001b[0;32m    191\u001b[0m     \u001b[38;5;28;01mpass\u001b[39;00m\n\u001b[0;32m    192\u001b[0m \u001b[38;5;28;01mfinally\u001b[39;00m:\n\u001b[1;32m--> 193\u001b[0m     \u001b[38;5;28;43mself\u001b[39;49m\u001b[38;5;241;43m.\u001b[39;49m\u001b[43mservice\u001b[49m\u001b[38;5;241;43m.\u001b[39;49m\u001b[43mstop\u001b[49m\u001b[43m(\u001b[49m\u001b[43m)\u001b[49m\n",
      "File \u001b[1;32m~\\anaconda3\\lib\\site-packages\\selenium\\webdriver\\common\\service.py:146\u001b[0m, in \u001b[0;36mService.stop\u001b[1;34m(self)\u001b[0m\n\u001b[0;32m    144\u001b[0m \u001b[38;5;28;01mif\u001b[39;00m \u001b[38;5;28mself\u001b[39m\u001b[38;5;241m.\u001b[39mprocess \u001b[38;5;129;01mis\u001b[39;00m \u001b[38;5;129;01mnot\u001b[39;00m \u001b[38;5;28;01mNone\u001b[39;00m:\n\u001b[0;32m    145\u001b[0m     \u001b[38;5;28;01mtry\u001b[39;00m:\n\u001b[1;32m--> 146\u001b[0m         \u001b[38;5;28;43mself\u001b[39;49m\u001b[38;5;241;43m.\u001b[39;49m\u001b[43msend_remote_shutdown_command\u001b[49m\u001b[43m(\u001b[49m\u001b[43m)\u001b[49m\n\u001b[0;32m    147\u001b[0m     \u001b[38;5;28;01mexcept\u001b[39;00m \u001b[38;5;167;01mTypeError\u001b[39;00m:\n\u001b[0;32m    148\u001b[0m         \u001b[38;5;28;01mpass\u001b[39;00m\n",
      "File \u001b[1;32m~\\anaconda3\\lib\\site-packages\\selenium\\webdriver\\common\\service.py:126\u001b[0m, in \u001b[0;36mService.send_remote_shutdown_command\u001b[1;34m(self)\u001b[0m\n\u001b[0;32m    123\u001b[0m \u001b[38;5;250m\u001b[39m\u001b[38;5;124;03m\"\"\"Dispatch an HTTP request to the shutdown endpoint for the service in\u001b[39;00m\n\u001b[0;32m    124\u001b[0m \u001b[38;5;124;03man attempt to stop it.\"\"\"\u001b[39;00m\n\u001b[0;32m    125\u001b[0m \u001b[38;5;28;01mtry\u001b[39;00m:\n\u001b[1;32m--> 126\u001b[0m     \u001b[43mrequest\u001b[49m\u001b[38;5;241;43m.\u001b[39;49m\u001b[43murlopen\u001b[49m\u001b[43m(\u001b[49m\u001b[38;5;124;43mf\u001b[39;49m\u001b[38;5;124;43m\"\u001b[39;49m\u001b[38;5;132;43;01m{\u001b[39;49;00m\u001b[38;5;28;43mself\u001b[39;49m\u001b[38;5;241;43m.\u001b[39;49m\u001b[43mservice_url\u001b[49m\u001b[38;5;132;43;01m}\u001b[39;49;00m\u001b[38;5;124;43m/shutdown\u001b[39;49m\u001b[38;5;124;43m\"\u001b[39;49m\u001b[43m)\u001b[49m\n\u001b[0;32m    127\u001b[0m \u001b[38;5;28;01mexcept\u001b[39;00m URLError:\n\u001b[0;32m    128\u001b[0m     \u001b[38;5;28;01mreturn\u001b[39;00m\n",
      "File \u001b[1;32m~\\anaconda3\\lib\\urllib\\request.py:216\u001b[0m, in \u001b[0;36murlopen\u001b[1;34m(url, data, timeout, cafile, capath, cadefault, context)\u001b[0m\n\u001b[0;32m    214\u001b[0m \u001b[38;5;28;01melse\u001b[39;00m:\n\u001b[0;32m    215\u001b[0m     opener \u001b[38;5;241m=\u001b[39m _opener\n\u001b[1;32m--> 216\u001b[0m \u001b[38;5;28;01mreturn\u001b[39;00m \u001b[43mopener\u001b[49m\u001b[38;5;241;43m.\u001b[39;49m\u001b[43mopen\u001b[49m\u001b[43m(\u001b[49m\u001b[43murl\u001b[49m\u001b[43m,\u001b[49m\u001b[43m \u001b[49m\u001b[43mdata\u001b[49m\u001b[43m,\u001b[49m\u001b[43m \u001b[49m\u001b[43mtimeout\u001b[49m\u001b[43m)\u001b[49m\n",
      "File \u001b[1;32m~\\anaconda3\\lib\\urllib\\request.py:519\u001b[0m, in \u001b[0;36mOpenerDirector.open\u001b[1;34m(self, fullurl, data, timeout)\u001b[0m\n\u001b[0;32m    516\u001b[0m     req \u001b[38;5;241m=\u001b[39m meth(req)\n\u001b[0;32m    518\u001b[0m sys\u001b[38;5;241m.\u001b[39maudit(\u001b[38;5;124m'\u001b[39m\u001b[38;5;124murllib.Request\u001b[39m\u001b[38;5;124m'\u001b[39m, req\u001b[38;5;241m.\u001b[39mfull_url, req\u001b[38;5;241m.\u001b[39mdata, req\u001b[38;5;241m.\u001b[39mheaders, req\u001b[38;5;241m.\u001b[39mget_method())\n\u001b[1;32m--> 519\u001b[0m response \u001b[38;5;241m=\u001b[39m \u001b[38;5;28;43mself\u001b[39;49m\u001b[38;5;241;43m.\u001b[39;49m\u001b[43m_open\u001b[49m\u001b[43m(\u001b[49m\u001b[43mreq\u001b[49m\u001b[43m,\u001b[49m\u001b[43m \u001b[49m\u001b[43mdata\u001b[49m\u001b[43m)\u001b[49m\n\u001b[0;32m    521\u001b[0m \u001b[38;5;66;03m# post-process response\u001b[39;00m\n\u001b[0;32m    522\u001b[0m meth_name \u001b[38;5;241m=\u001b[39m protocol\u001b[38;5;241m+\u001b[39m\u001b[38;5;124m\"\u001b[39m\u001b[38;5;124m_response\u001b[39m\u001b[38;5;124m\"\u001b[39m\n",
      "File \u001b[1;32m~\\anaconda3\\lib\\urllib\\request.py:536\u001b[0m, in \u001b[0;36mOpenerDirector._open\u001b[1;34m(self, req, data)\u001b[0m\n\u001b[0;32m    533\u001b[0m     \u001b[38;5;28;01mreturn\u001b[39;00m result\n\u001b[0;32m    535\u001b[0m protocol \u001b[38;5;241m=\u001b[39m req\u001b[38;5;241m.\u001b[39mtype\n\u001b[1;32m--> 536\u001b[0m result \u001b[38;5;241m=\u001b[39m \u001b[38;5;28;43mself\u001b[39;49m\u001b[38;5;241;43m.\u001b[39;49m\u001b[43m_call_chain\u001b[49m\u001b[43m(\u001b[49m\u001b[38;5;28;43mself\u001b[39;49m\u001b[38;5;241;43m.\u001b[39;49m\u001b[43mhandle_open\u001b[49m\u001b[43m,\u001b[49m\u001b[43m \u001b[49m\u001b[43mprotocol\u001b[49m\u001b[43m,\u001b[49m\u001b[43m \u001b[49m\u001b[43mprotocol\u001b[49m\u001b[43m \u001b[49m\u001b[38;5;241;43m+\u001b[39;49m\n\u001b[0;32m    537\u001b[0m \u001b[43m                          \u001b[49m\u001b[38;5;124;43m'\u001b[39;49m\u001b[38;5;124;43m_open\u001b[39;49m\u001b[38;5;124;43m'\u001b[39;49m\u001b[43m,\u001b[49m\u001b[43m \u001b[49m\u001b[43mreq\u001b[49m\u001b[43m)\u001b[49m\n\u001b[0;32m    538\u001b[0m \u001b[38;5;28;01mif\u001b[39;00m result:\n\u001b[0;32m    539\u001b[0m     \u001b[38;5;28;01mreturn\u001b[39;00m result\n",
      "File \u001b[1;32m~\\anaconda3\\lib\\urllib\\request.py:496\u001b[0m, in \u001b[0;36mOpenerDirector._call_chain\u001b[1;34m(self, chain, kind, meth_name, *args)\u001b[0m\n\u001b[0;32m    494\u001b[0m \u001b[38;5;28;01mfor\u001b[39;00m handler \u001b[38;5;129;01min\u001b[39;00m handlers:\n\u001b[0;32m    495\u001b[0m     func \u001b[38;5;241m=\u001b[39m \u001b[38;5;28mgetattr\u001b[39m(handler, meth_name)\n\u001b[1;32m--> 496\u001b[0m     result \u001b[38;5;241m=\u001b[39m \u001b[43mfunc\u001b[49m\u001b[43m(\u001b[49m\u001b[38;5;241;43m*\u001b[39;49m\u001b[43margs\u001b[49m\u001b[43m)\u001b[49m\n\u001b[0;32m    497\u001b[0m     \u001b[38;5;28;01mif\u001b[39;00m result \u001b[38;5;129;01mis\u001b[39;00m \u001b[38;5;129;01mnot\u001b[39;00m \u001b[38;5;28;01mNone\u001b[39;00m:\n\u001b[0;32m    498\u001b[0m         \u001b[38;5;28;01mreturn\u001b[39;00m result\n",
      "File \u001b[1;32m~\\anaconda3\\lib\\urllib\\request.py:1377\u001b[0m, in \u001b[0;36mHTTPHandler.http_open\u001b[1;34m(self, req)\u001b[0m\n\u001b[0;32m   1376\u001b[0m \u001b[38;5;28;01mdef\u001b[39;00m \u001b[38;5;21mhttp_open\u001b[39m(\u001b[38;5;28mself\u001b[39m, req):\n\u001b[1;32m-> 1377\u001b[0m     \u001b[38;5;28;01mreturn\u001b[39;00m \u001b[38;5;28;43mself\u001b[39;49m\u001b[38;5;241;43m.\u001b[39;49m\u001b[43mdo_open\u001b[49m\u001b[43m(\u001b[49m\u001b[43mhttp\u001b[49m\u001b[38;5;241;43m.\u001b[39;49m\u001b[43mclient\u001b[49m\u001b[38;5;241;43m.\u001b[39;49m\u001b[43mHTTPConnection\u001b[49m\u001b[43m,\u001b[49m\u001b[43m \u001b[49m\u001b[43mreq\u001b[49m\u001b[43m)\u001b[49m\n",
      "File \u001b[1;32m~\\anaconda3\\lib\\urllib\\request.py:1348\u001b[0m, in \u001b[0;36mAbstractHTTPHandler.do_open\u001b[1;34m(self, http_class, req, **http_conn_args)\u001b[0m\n\u001b[0;32m   1346\u001b[0m \u001b[38;5;28;01mtry\u001b[39;00m:\n\u001b[0;32m   1347\u001b[0m     \u001b[38;5;28;01mtry\u001b[39;00m:\n\u001b[1;32m-> 1348\u001b[0m         \u001b[43mh\u001b[49m\u001b[38;5;241;43m.\u001b[39;49m\u001b[43mrequest\u001b[49m\u001b[43m(\u001b[49m\u001b[43mreq\u001b[49m\u001b[38;5;241;43m.\u001b[39;49m\u001b[43mget_method\u001b[49m\u001b[43m(\u001b[49m\u001b[43m)\u001b[49m\u001b[43m,\u001b[49m\u001b[43m \u001b[49m\u001b[43mreq\u001b[49m\u001b[38;5;241;43m.\u001b[39;49m\u001b[43mselector\u001b[49m\u001b[43m,\u001b[49m\u001b[43m \u001b[49m\u001b[43mreq\u001b[49m\u001b[38;5;241;43m.\u001b[39;49m\u001b[43mdata\u001b[49m\u001b[43m,\u001b[49m\u001b[43m \u001b[49m\u001b[43mheaders\u001b[49m\u001b[43m,\u001b[49m\n\u001b[0;32m   1349\u001b[0m \u001b[43m                  \u001b[49m\u001b[43mencode_chunked\u001b[49m\u001b[38;5;241;43m=\u001b[39;49m\u001b[43mreq\u001b[49m\u001b[38;5;241;43m.\u001b[39;49m\u001b[43mhas_header\u001b[49m\u001b[43m(\u001b[49m\u001b[38;5;124;43m'\u001b[39;49m\u001b[38;5;124;43mTransfer-encoding\u001b[39;49m\u001b[38;5;124;43m'\u001b[39;49m\u001b[43m)\u001b[49m\u001b[43m)\u001b[49m\n\u001b[0;32m   1350\u001b[0m     \u001b[38;5;28;01mexcept\u001b[39;00m \u001b[38;5;167;01mOSError\u001b[39;00m \u001b[38;5;28;01mas\u001b[39;00m err: \u001b[38;5;66;03m# timeout error\u001b[39;00m\n\u001b[0;32m   1351\u001b[0m         \u001b[38;5;28;01mraise\u001b[39;00m URLError(err)\n",
      "File \u001b[1;32m~\\anaconda3\\lib\\http\\client.py:1282\u001b[0m, in \u001b[0;36mHTTPConnection.request\u001b[1;34m(self, method, url, body, headers, encode_chunked)\u001b[0m\n\u001b[0;32m   1279\u001b[0m \u001b[38;5;28;01mdef\u001b[39;00m \u001b[38;5;21mrequest\u001b[39m(\u001b[38;5;28mself\u001b[39m, method, url, body\u001b[38;5;241m=\u001b[39m\u001b[38;5;28;01mNone\u001b[39;00m, headers\u001b[38;5;241m=\u001b[39m{}, \u001b[38;5;241m*\u001b[39m,\n\u001b[0;32m   1280\u001b[0m             encode_chunked\u001b[38;5;241m=\u001b[39m\u001b[38;5;28;01mFalse\u001b[39;00m):\n\u001b[0;32m   1281\u001b[0m \u001b[38;5;250m    \u001b[39m\u001b[38;5;124;03m\"\"\"Send a complete request to the server.\"\"\"\u001b[39;00m\n\u001b[1;32m-> 1282\u001b[0m     \u001b[38;5;28;43mself\u001b[39;49m\u001b[38;5;241;43m.\u001b[39;49m\u001b[43m_send_request\u001b[49m\u001b[43m(\u001b[49m\u001b[43mmethod\u001b[49m\u001b[43m,\u001b[49m\u001b[43m \u001b[49m\u001b[43murl\u001b[49m\u001b[43m,\u001b[49m\u001b[43m \u001b[49m\u001b[43mbody\u001b[49m\u001b[43m,\u001b[49m\u001b[43m \u001b[49m\u001b[43mheaders\u001b[49m\u001b[43m,\u001b[49m\u001b[43m \u001b[49m\u001b[43mencode_chunked\u001b[49m\u001b[43m)\u001b[49m\n",
      "File \u001b[1;32m~\\anaconda3\\lib\\http\\client.py:1328\u001b[0m, in \u001b[0;36mHTTPConnection._send_request\u001b[1;34m(self, method, url, body, headers, encode_chunked)\u001b[0m\n\u001b[0;32m   1324\u001b[0m \u001b[38;5;28;01mif\u001b[39;00m \u001b[38;5;28misinstance\u001b[39m(body, \u001b[38;5;28mstr\u001b[39m):\n\u001b[0;32m   1325\u001b[0m     \u001b[38;5;66;03m# RFC 2616 Section 3.7.1 says that text default has a\u001b[39;00m\n\u001b[0;32m   1326\u001b[0m     \u001b[38;5;66;03m# default charset of iso-8859-1.\u001b[39;00m\n\u001b[0;32m   1327\u001b[0m     body \u001b[38;5;241m=\u001b[39m _encode(body, \u001b[38;5;124m'\u001b[39m\u001b[38;5;124mbody\u001b[39m\u001b[38;5;124m'\u001b[39m)\n\u001b[1;32m-> 1328\u001b[0m \u001b[38;5;28;43mself\u001b[39;49m\u001b[38;5;241;43m.\u001b[39;49m\u001b[43mendheaders\u001b[49m\u001b[43m(\u001b[49m\u001b[43mbody\u001b[49m\u001b[43m,\u001b[49m\u001b[43m \u001b[49m\u001b[43mencode_chunked\u001b[49m\u001b[38;5;241;43m=\u001b[39;49m\u001b[43mencode_chunked\u001b[49m\u001b[43m)\u001b[49m\n",
      "File \u001b[1;32m~\\anaconda3\\lib\\http\\client.py:1277\u001b[0m, in \u001b[0;36mHTTPConnection.endheaders\u001b[1;34m(self, message_body, encode_chunked)\u001b[0m\n\u001b[0;32m   1275\u001b[0m \u001b[38;5;28;01melse\u001b[39;00m:\n\u001b[0;32m   1276\u001b[0m     \u001b[38;5;28;01mraise\u001b[39;00m CannotSendHeader()\n\u001b[1;32m-> 1277\u001b[0m \u001b[38;5;28;43mself\u001b[39;49m\u001b[38;5;241;43m.\u001b[39;49m\u001b[43m_send_output\u001b[49m\u001b[43m(\u001b[49m\u001b[43mmessage_body\u001b[49m\u001b[43m,\u001b[49m\u001b[43m \u001b[49m\u001b[43mencode_chunked\u001b[49m\u001b[38;5;241;43m=\u001b[39;49m\u001b[43mencode_chunked\u001b[49m\u001b[43m)\u001b[49m\n",
      "File \u001b[1;32m~\\anaconda3\\lib\\http\\client.py:1037\u001b[0m, in \u001b[0;36mHTTPConnection._send_output\u001b[1;34m(self, message_body, encode_chunked)\u001b[0m\n\u001b[0;32m   1035\u001b[0m msg \u001b[38;5;241m=\u001b[39m \u001b[38;5;124mb\u001b[39m\u001b[38;5;124m\"\u001b[39m\u001b[38;5;130;01m\\r\u001b[39;00m\u001b[38;5;130;01m\\n\u001b[39;00m\u001b[38;5;124m\"\u001b[39m\u001b[38;5;241m.\u001b[39mjoin(\u001b[38;5;28mself\u001b[39m\u001b[38;5;241m.\u001b[39m_buffer)\n\u001b[0;32m   1036\u001b[0m \u001b[38;5;28;01mdel\u001b[39;00m \u001b[38;5;28mself\u001b[39m\u001b[38;5;241m.\u001b[39m_buffer[:]\n\u001b[1;32m-> 1037\u001b[0m \u001b[38;5;28;43mself\u001b[39;49m\u001b[38;5;241;43m.\u001b[39;49m\u001b[43msend\u001b[49m\u001b[43m(\u001b[49m\u001b[43mmsg\u001b[49m\u001b[43m)\u001b[49m\n\u001b[0;32m   1039\u001b[0m \u001b[38;5;28;01mif\u001b[39;00m message_body \u001b[38;5;129;01mis\u001b[39;00m \u001b[38;5;129;01mnot\u001b[39;00m \u001b[38;5;28;01mNone\u001b[39;00m:\n\u001b[0;32m   1040\u001b[0m \n\u001b[0;32m   1041\u001b[0m     \u001b[38;5;66;03m# create a consistent interface to message_body\u001b[39;00m\n\u001b[0;32m   1042\u001b[0m     \u001b[38;5;28;01mif\u001b[39;00m \u001b[38;5;28mhasattr\u001b[39m(message_body, \u001b[38;5;124m'\u001b[39m\u001b[38;5;124mread\u001b[39m\u001b[38;5;124m'\u001b[39m):\n\u001b[0;32m   1043\u001b[0m         \u001b[38;5;66;03m# Let file-like take precedence over byte-like.  This\u001b[39;00m\n\u001b[0;32m   1044\u001b[0m         \u001b[38;5;66;03m# is needed to allow the current position of mmap'ed\u001b[39;00m\n\u001b[0;32m   1045\u001b[0m         \u001b[38;5;66;03m# files to be taken into account.\u001b[39;00m\n",
      "File \u001b[1;32m~\\anaconda3\\lib\\http\\client.py:975\u001b[0m, in \u001b[0;36mHTTPConnection.send\u001b[1;34m(self, data)\u001b[0m\n\u001b[0;32m    973\u001b[0m \u001b[38;5;28;01mif\u001b[39;00m \u001b[38;5;28mself\u001b[39m\u001b[38;5;241m.\u001b[39msock \u001b[38;5;129;01mis\u001b[39;00m \u001b[38;5;28;01mNone\u001b[39;00m:\n\u001b[0;32m    974\u001b[0m     \u001b[38;5;28;01mif\u001b[39;00m \u001b[38;5;28mself\u001b[39m\u001b[38;5;241m.\u001b[39mauto_open:\n\u001b[1;32m--> 975\u001b[0m         \u001b[38;5;28;43mself\u001b[39;49m\u001b[38;5;241;43m.\u001b[39;49m\u001b[43mconnect\u001b[49m\u001b[43m(\u001b[49m\u001b[43m)\u001b[49m\n\u001b[0;32m    976\u001b[0m     \u001b[38;5;28;01melse\u001b[39;00m:\n\u001b[0;32m    977\u001b[0m         \u001b[38;5;28;01mraise\u001b[39;00m NotConnected()\n",
      "File \u001b[1;32m~\\anaconda3\\lib\\http\\client.py:941\u001b[0m, in \u001b[0;36mHTTPConnection.connect\u001b[1;34m(self)\u001b[0m\n\u001b[0;32m    939\u001b[0m \u001b[38;5;250m\u001b[39m\u001b[38;5;124;03m\"\"\"Connect to the host and port specified in __init__.\"\"\"\u001b[39;00m\n\u001b[0;32m    940\u001b[0m sys\u001b[38;5;241m.\u001b[39maudit(\u001b[38;5;124m\"\u001b[39m\u001b[38;5;124mhttp.client.connect\u001b[39m\u001b[38;5;124m\"\u001b[39m, \u001b[38;5;28mself\u001b[39m, \u001b[38;5;28mself\u001b[39m\u001b[38;5;241m.\u001b[39mhost, \u001b[38;5;28mself\u001b[39m\u001b[38;5;241m.\u001b[39mport)\n\u001b[1;32m--> 941\u001b[0m \u001b[38;5;28mself\u001b[39m\u001b[38;5;241m.\u001b[39msock \u001b[38;5;241m=\u001b[39m \u001b[38;5;28;43mself\u001b[39;49m\u001b[38;5;241;43m.\u001b[39;49m\u001b[43m_create_connection\u001b[49m\u001b[43m(\u001b[49m\n\u001b[0;32m    942\u001b[0m \u001b[43m    \u001b[49m\u001b[43m(\u001b[49m\u001b[38;5;28;43mself\u001b[39;49m\u001b[38;5;241;43m.\u001b[39;49m\u001b[43mhost\u001b[49m\u001b[43m,\u001b[49m\u001b[38;5;28;43mself\u001b[39;49m\u001b[38;5;241;43m.\u001b[39;49m\u001b[43mport\u001b[49m\u001b[43m)\u001b[49m\u001b[43m,\u001b[49m\u001b[43m \u001b[49m\u001b[38;5;28;43mself\u001b[39;49m\u001b[38;5;241;43m.\u001b[39;49m\u001b[43mtimeout\u001b[49m\u001b[43m,\u001b[49m\u001b[43m \u001b[49m\u001b[38;5;28;43mself\u001b[39;49m\u001b[38;5;241;43m.\u001b[39;49m\u001b[43msource_address\u001b[49m\u001b[43m)\u001b[49m\n\u001b[0;32m    943\u001b[0m \u001b[38;5;66;03m# Might fail in OSs that don't implement TCP_NODELAY\u001b[39;00m\n\u001b[0;32m    944\u001b[0m \u001b[38;5;28;01mtry\u001b[39;00m:\n",
      "File \u001b[1;32m~\\anaconda3\\lib\\socket.py:833\u001b[0m, in \u001b[0;36mcreate_connection\u001b[1;34m(address, timeout, source_address)\u001b[0m\n\u001b[0;32m    831\u001b[0m \u001b[38;5;28;01mif\u001b[39;00m source_address:\n\u001b[0;32m    832\u001b[0m     sock\u001b[38;5;241m.\u001b[39mbind(source_address)\n\u001b[1;32m--> 833\u001b[0m \u001b[43msock\u001b[49m\u001b[38;5;241;43m.\u001b[39;49m\u001b[43mconnect\u001b[49m\u001b[43m(\u001b[49m\u001b[43msa\u001b[49m\u001b[43m)\u001b[49m\n\u001b[0;32m    834\u001b[0m \u001b[38;5;66;03m# Break explicitly a reference cycle\u001b[39;00m\n\u001b[0;32m    835\u001b[0m err \u001b[38;5;241m=\u001b[39m \u001b[38;5;28;01mNone\u001b[39;00m\n",
      "\u001b[1;31mKeyboardInterrupt\u001b[0m: "
     ]
    }
   ],
   "source": [
    "# Configure Selenium WebDriver\n",
    "chrome_options = Options()\n",
    "chrome_options.add_argument(\"--headless\")  # Run in headless mode\n",
    "chrome_options.set_capability('goog:loggingPrefs', {'performance': 'ALL'})  # Set logging preferences\n",
    "chrome_service = ChromeService(executable_path='C:/Program Files (x86)/chromedriver.exe')\n",
    "\n",
    "driver = webdriver.Chrome(service=chrome_service, options=chrome_options)\n",
    "\n",
    "driver.get(\"https://live.bible.is/bible/MARDPI/GEN/3\")\n",
    "\n",
    "# Define the base folder path where everything will be downloaded\n",
    "base_folder_path = \"Bible_Texts\"\n",
    "\n",
    "try:\n",
    "    # Wait until the button is clickable\n",
    "    button = WebDriverWait(driver, 30).until(\n",
    "        EC.element_to_be_clickable((By.CLASS_NAME, \"book-chapter\"))\n",
    "    )\n",
    "    button.click()\n",
    "    print(\"Button clicked successfully.\")\n",
    "    \n",
    "    # Waiting for the content to load\n",
    "    WebDriverWait(driver, 30).until(\n",
    "        EC.presence_of_element_located((By.CLASS_NAME, \"testament-title\"))\n",
    "    )\n",
    "    \n",
    "    # Get the page source for parsing\n",
    "    time.sleep(3)  # Additional wait to ensure the page is fully loaded\n",
    "    page_source = driver.page_source\n",
    "    \n",
    "    # Parse the page source with BeautifulSoup\n",
    "    soup = BeautifulSoup(page_source, 'html.parser')\n",
    "    \n",
    "    # Find the target div with class 'testament-title' containing \"New Testament\"\n",
    "    target_div = soup.find('div', class_='testament-title', string=lambda text: text and \"New Testament\" in text)\n",
    "    \n",
    "    base_url = \"https://live.bible.is/\"\n",
    "\n",
    "    # Start with the next sibling of the target <div>\n",
    "    nxt_div = target_div.find_next_sibling()\n",
    "\n",
    "    while nxt_div and nxt_div.name == 'div' and 'book-button' in nxt_div.get('class', []):\n",
    "        try:\n",
    "            # Create a folder named after the id of the nxt_div within the base folder path\n",
    "            folder_name = nxt_div.get('id')\n",
    "            if folder_name:\n",
    "                folder_path = os.path.join(base_folder_path, folder_name)\n",
    "                os.makedirs(folder_path, exist_ok=True)\n",
    "                print(f\"Created folder: {folder_path}\")\n",
    "            \n",
    "            WebDriverWait(driver, 10).until(EC.element_to_be_clickable((By.ID, 'play-audio')))\n",
    "            # Extract the href attributes of <a> tags within this <div>\n",
    "            link_index = 1\n",
    "            for a_tag in nxt_div.find_all('a', class_='chapter-box'):\n",
    "                full_url = urljoin(base_url, a_tag['href'])  # Convert to absolute URL\n",
    "                print(f\"Processing URL: {full_url}\")\n",
    "                \n",
    "                path_chapters = os.path.join(folder_path, str(link_index))\n",
    "                os.makedirs(path_chapters, exist_ok=True)\n",
    "                print(f\"Created folder: {path_chapters}\")\n",
    "                \n",
    "                retry_count = 2\n",
    "                while retry_count > 0:\n",
    "                    try:\n",
    "                        text_content = extract_text_from_url(full_url)  # Extract text using the predefined function\n",
    "                        audio_url = get_audio_url(full_url)\n",
    "                        \n",
    "                        # Save the text content to a file named in numerical order within the folder\n",
    "                        file_path = os.path.join(path_chapters, f\"{link_index}.txt\")\n",
    "                        with open(file_path, 'w', encoding='utf-8') as file:\n",
    "                            file.write(text_content)\n",
    "                        print(f\"Saved content to: {file_path}\")\n",
    "                        \n",
    "                        # Download the content from the captured URLs\n",
    "                        for i, url in enumerate(audio_url):\n",
    "                            response = requests.get(url)\n",
    "                            file_path = os.path.join(path_chapters, f\"content_{i}.mp3\")\n",
    "                            with open(file_path, 'wb') as file:\n",
    "                                file.write(response.content)\n",
    "                            print(f\"Downloaded content from {url} to {file_path}\")\n",
    "\n",
    "                        \n",
    "                        break  # Exit the retry loop if successful\n",
    "                    except Exception as e:\n",
    "                        retry_count -= 1\n",
    "                        if retry_count > 0:\n",
    "                            # Re-click the play button if retry is needed\n",
    "                            play_button = WebDriverWait(driver, 10).until(\n",
    "                                EC.element_to_be_clickable((By.ID, 'play-audio'))\n",
    "                            )\n",
    "                            play_button.click()\n",
    "                            print(f\"Retrying ({2 - retry_count}/2) for URL: {full_url} due to error: {e}\")\n",
    "                            time.sleep(5)  # Wait briefly to allow the page to reload\n",
    "\n",
    "                link_index += 1\n",
    "\n",
    "            # Move to the next sibling\n",
    "            nxt_div = nxt_div.find_next_sibling()\n",
    "        except Exception as e:\n",
    "            print(f\"Error processing div {folder_name}: {e}\")\n",
    "            nxt_div = nxt_div.find_next_sibling()  # Ensure to move to the next sibling even if there is an error\n",
    "except Exception as e:\n",
    "    print(f\"An error occurred: {e}\")\n",
    "finally:\n",
    "    # Close the driver\n",
    "    driver.quit()\n"
   ]
  },
  {
   "cell_type": "markdown",
   "id": "787ed937",
   "metadata": {},
   "source": [
    "This is a block of code which extracts url to download of stored playable audio which is present on the page. \n",
    "\n",
    "It have been observed that many time after navigating to new page, the audio file takes too much time to load and leads to 'timeouterror'. \n",
    "To get the link and download the audio network activity have to be monitered after pressing 'play' button. For this whole process consume too much time and prone to many exceptions. \n",
    "So get textual data is scraped and audio files are downloaded and with a python script stored with their respective testament chapters."
   ]
  },
  {
   "cell_type": "code",
   "execution_count": 3,
   "id": "26688a43",
   "metadata": {},
   "outputs": [
    {
     "name": "stdout",
     "output_type": "stream",
     "text": [
      "Play button clicked.\n",
      "Stop button clicked.\n",
      "Downloaded content from https://d1gd73roq7kqw6.cloudfront.net/audio/MARDPI/MARDPIN1DA/B01___01_Matthew_____MARDPIN1DA.mp3?x-amz-transaction=2299303&Expires=1716492216&Signature=KkeElzAB-EpZx3zIGwnhRmGoJasakYUk0Unmf~cMO0Dybah9fpkVPXjPEQ1tockdaljHMB~J39ee8lubtMw3UHG4T44fITNxK81EGTwWj-mJBbsWsqsKJv0WP23Othz1pP7MYXMniJCKjjxMG04jnHHpJhJjxmnomTqNQCPRydjIgGjuXjjWuVM1sSYBL70oHD7WnA5AsyC1X7lvTBWzaek7S-Uc9kPDUuOavVYnpd4mVj3qpO~lnT~4tZhWcoyd06aoW~VNGJ6K1MnOXkgN7IMo7-Ktmd83D2xYvTduhLwSgP873bjOt99foUNCLfs1kjWD~svoiK7VSaC3pSvN6w__&Key-Pair-Id=APKAI4ULLVMANLYYPTLQ to downloaded_content\\content_0.mp3\n"
     ]
    }
   ],
   "source": [
    "from selenium import webdriver\n",
    "from selenium.webdriver.chrome.service import Service as ChromeService\n",
    "from selenium.webdriver.chrome.options import Options\n",
    "from selenium.webdriver.common.by import By\n",
    "from selenium.webdriver.support.ui import WebDriverWait\n",
    "from selenium.webdriver.support import expected_conditions as EC\n",
    "import time\n",
    "import requests\n",
    "import os\n",
    "import json\n",
    "\n",
    "def capture_network_logs(driver):\n",
    "    logs = driver.get_log('performance')\n",
    "    network_logs = []\n",
    "    for entry in logs:\n",
    "        log = json.loads(entry['message'])['message']\n",
    "        if log['method'] == 'Network.requestWillBeSent':\n",
    "            network_logs.append(log)\n",
    "    return network_logs\n",
    "\n",
    "def log_response(entry):\n",
    "    log = json.loads(entry['message'])['message']\n",
    "    return log\n",
    "\n",
    "# Configure Selenium WebDriver\n",
    "chrome_options = Options()\n",
    "chrome_options.add_argument(\"--headless\")  # Run in headless mode\n",
    "chrome_options.set_capability('goog:loggingPrefs', {'performance': 'ALL'})  # Set logging preferences\n",
    "chrome_service = ChromeService(executable_path='C:/Program Files (x86)/chromedriver.exe')\n",
    "\n",
    "driver = webdriver.Chrome(service=chrome_service, options=chrome_options)\n",
    "\n",
    "# Open the webpage\n",
    "driver.get(\"https://live.bible.is/bible/MARDPI/MAT/1\")\n",
    "\n",
    "# Wait for the page to fully load and the play button to be clickable\n",
    "play_button = WebDriverWait(driver, 10).until(\n",
    "    EC.element_to_be_clickable((By.ID, 'play-audio'))\n",
    ")\n",
    "\n",
    "# Capture network logs\n",
    "network_logs = capture_network_logs(driver)\n",
    "\n",
    "# Click the play button\n",
    "play_button.click()\n",
    "print(\"Play button clicked.\")\n",
    "\n",
    "# Allow time for the audio to play and requests to be captured\n",
    "time.sleep(3)\n",
    "\n",
    "# Retrieve and process network logs\n",
    "logs = driver.get_log('performance')\n",
    "for entry in logs:\n",
    "    log_response(entry)\n",
    "\n",
    "# Stop the audio playback\n",
    "# Try to click a stop/pause button if exists, otherwise reload the page to stop the audio\n",
    "try:\n",
    "    stop_button = WebDriverWait(driver, 10).until(\n",
    "        EC.element_to_be_clickable((By.ID, 'pause-audio'))  # Replace with the actual ID of the stop/pause button if available\n",
    "    )\n",
    "    stop_button.click()\n",
    "    print(\"Stop button clicked.\")\n",
    "except:\n",
    "    # If no stop/pause button is found, reload the page to stop the audio\n",
    "    driver.refresh()\n",
    "    print(\"Page refreshed to stop audio playback.\")\n",
    "\n",
    "# Close the WebDriver\n",
    "driver.quit()\n",
    "\n",
    "# Filter and return unique URLs containing \"cloudfront.net\"\n",
    "cloudfront_urls = set(\n",
    "    log['params']['request']['url'] for log in network_logs\n",
    "    if log.get('method') == 'Network.requestWillBeSent'\n",
    "    and log['params']['request']['method'] == 'GET'\n",
    "    and log['params'].get('type') == 'Media'\n",
    "    and 'cloudfront.net' in log['params']['request']['url']\n",
    ")\n",
    "\n",
    "# Create a folder to store the downloaded content\n",
    "folder_path = \"downloaded_content\"\n",
    "os.makedirs(folder_path, exist_ok=True)\n",
    "\n",
    "# Download the content from the captured URLs\n",
    "for i, url in enumerate(cloudfront_urls):\n",
    "    response = requests.get(url)\n",
    "    file_path = os.path.join(folder_path, f\"content_{i}.mp3\")\n",
    "    with open(file_path, 'wb') as file:\n",
    "        file.write(response.content)\n",
    "    print(f\"Downloaded content from {url} to {file_path}\")\n"
   ]
  },
  {
   "cell_type": "code",
   "execution_count": null,
   "id": "6a8a0643",
   "metadata": {},
   "outputs": [],
   "source": []
  },
  {
   "cell_type": "markdown",
   "id": "4efc9781",
   "metadata": {},
   "source": [
    "# Code for downloading only the text file in the web page"
   ]
  },
  {
   "cell_type": "code",
   "execution_count": 10,
   "id": "22e0996a",
   "metadata": {},
   "outputs": [
    {
     "name": "stdout",
     "output_type": "stream",
     "text": [
      "Button clicked successfully.\n",
      "Created folder: Bible_Texts\\मत्तयकृत शुभवर्तमानMAT\n",
      "Processing URL: https://live.bible.is/bible/MARDPI/MAT/1\n",
      "Saved content to: Bible_Texts\\मत्तयकृत शुभवर्तमानMAT\\1.txt\n",
      "Processing URL: https://live.bible.is/bible/MARDPI/MAT/2\n",
      "Saved content to: Bible_Texts\\मत्तयकृत शुभवर्तमानMAT\\2.txt\n",
      "Processing URL: https://live.bible.is/bible/MARDPI/MAT/3\n",
      "Saved content to: Bible_Texts\\मत्तयकृत शुभवर्तमानMAT\\3.txt\n",
      "Processing URL: https://live.bible.is/bible/MARDPI/MAT/4\n",
      "Saved content to: Bible_Texts\\मत्तयकृत शुभवर्तमानMAT\\4.txt\n",
      "Processing URL: https://live.bible.is/bible/MARDPI/MAT/5\n",
      "Saved content to: Bible_Texts\\मत्तयकृत शुभवर्तमानMAT\\5.txt\n",
      "Processing URL: https://live.bible.is/bible/MARDPI/MAT/6\n",
      "Saved content to: Bible_Texts\\मत्तयकृत शुभवर्तमानMAT\\6.txt\n",
      "Processing URL: https://live.bible.is/bible/MARDPI/MAT/7\n",
      "Saved content to: Bible_Texts\\मत्तयकृत शुभवर्तमानMAT\\7.txt\n",
      "Processing URL: https://live.bible.is/bible/MARDPI/MAT/8\n",
      "Retrying (-7/2) for URL: https://live.bible.is/bible/MARDPI/MAT/8 due to error: 'NoneType' object has no attribute 'find_all'\n",
      "Saved content to: Bible_Texts\\मत्तयकृत शुभवर्तमानMAT\\8.txt\n",
      "Processing URL: https://live.bible.is/bible/MARDPI/MAT/9\n",
      "Retrying (-7/2) for URL: https://live.bible.is/bible/MARDPI/MAT/9 due to error: 'NoneType' object has no attribute 'find_all'\n",
      "Saved content to: Bible_Texts\\मत्तयकृत शुभवर्तमानMAT\\9.txt\n",
      "Processing URL: https://live.bible.is/bible/MARDPI/MAT/10\n",
      "Saved content to: Bible_Texts\\मत्तयकृत शुभवर्तमानMAT\\10.txt\n",
      "Processing URL: https://live.bible.is/bible/MARDPI/MAT/11\n",
      "Saved content to: Bible_Texts\\मत्तयकृत शुभवर्तमानMAT\\11.txt\n",
      "Processing URL: https://live.bible.is/bible/MARDPI/MAT/12\n",
      "Saved content to: Bible_Texts\\मत्तयकृत शुभवर्तमानMAT\\12.txt\n",
      "Processing URL: https://live.bible.is/bible/MARDPI/MAT/13\n",
      "Saved content to: Bible_Texts\\मत्तयकृत शुभवर्तमानMAT\\13.txt\n",
      "Processing URL: https://live.bible.is/bible/MARDPI/MAT/14\n",
      "Saved content to: Bible_Texts\\मत्तयकृत शुभवर्तमानMAT\\14.txt\n",
      "Processing URL: https://live.bible.is/bible/MARDPI/MAT/15\n",
      "Saved content to: Bible_Texts\\मत्तयकृत शुभवर्तमानMAT\\15.txt\n",
      "Processing URL: https://live.bible.is/bible/MARDPI/MAT/16\n",
      "Saved content to: Bible_Texts\\मत्तयकृत शुभवर्तमानMAT\\16.txt\n",
      "Processing URL: https://live.bible.is/bible/MARDPI/MAT/17\n",
      "Saved content to: Bible_Texts\\मत्तयकृत शुभवर्तमानMAT\\17.txt\n",
      "Processing URL: https://live.bible.is/bible/MARDPI/MAT/18\n",
      "Saved content to: Bible_Texts\\मत्तयकृत शुभवर्तमानMAT\\18.txt\n",
      "Processing URL: https://live.bible.is/bible/MARDPI/MAT/19\n",
      "Saved content to: Bible_Texts\\मत्तयकृत शुभवर्तमानMAT\\19.txt\n",
      "Processing URL: https://live.bible.is/bible/MARDPI/MAT/20\n",
      "Saved content to: Bible_Texts\\मत्तयकृत शुभवर्तमानMAT\\20.txt\n",
      "Processing URL: https://live.bible.is/bible/MARDPI/MAT/21\n",
      "Saved content to: Bible_Texts\\मत्तयकृत शुभवर्तमानMAT\\21.txt\n",
      "Processing URL: https://live.bible.is/bible/MARDPI/MAT/22\n",
      "Saved content to: Bible_Texts\\मत्तयकृत शुभवर्तमानMAT\\22.txt\n",
      "Processing URL: https://live.bible.is/bible/MARDPI/MAT/23\n",
      "Saved content to: Bible_Texts\\मत्तयकृत शुभवर्तमानMAT\\23.txt\n",
      "Processing URL: https://live.bible.is/bible/MARDPI/MAT/24\n",
      "Saved content to: Bible_Texts\\मत्तयकृत शुभवर्तमानMAT\\24.txt\n",
      "Processing URL: https://live.bible.is/bible/MARDPI/MAT/25\n",
      "Saved content to: Bible_Texts\\मत्तयकृत शुभवर्तमानMAT\\25.txt\n",
      "Processing URL: https://live.bible.is/bible/MARDPI/MAT/26\n",
      "Saved content to: Bible_Texts\\मत्तयकृत शुभवर्तमानMAT\\26.txt\n",
      "Processing URL: https://live.bible.is/bible/MARDPI/MAT/27\n",
      "Saved content to: Bible_Texts\\मत्तयकृत शुभवर्तमानMAT\\27.txt\n",
      "Processing URL: https://live.bible.is/bible/MARDPI/MAT/28\n",
      "Saved content to: Bible_Texts\\मत्तयकृत शुभवर्तमानMAT\\28.txt\n",
      "Created folder: Bible_Texts\\मार्ककृत शुभवर्तमानMRK\n",
      "Processing URL: https://live.bible.is/bible/MARDPI/MRK/1\n",
      "Saved content to: Bible_Texts\\मार्ककृत शुभवर्तमानMRK\\1.txt\n",
      "Processing URL: https://live.bible.is/bible/MARDPI/MRK/2\n",
      "Saved content to: Bible_Texts\\मार्ककृत शुभवर्तमानMRK\\2.txt\n",
      "Processing URL: https://live.bible.is/bible/MARDPI/MRK/3\n",
      "Saved content to: Bible_Texts\\मार्ककृत शुभवर्तमानMRK\\3.txt\n",
      "Processing URL: https://live.bible.is/bible/MARDPI/MRK/4\n",
      "Saved content to: Bible_Texts\\मार्ककृत शुभवर्तमानMRK\\4.txt\n",
      "Processing URL: https://live.bible.is/bible/MARDPI/MRK/5\n",
      "Saved content to: Bible_Texts\\मार्ककृत शुभवर्तमानMRK\\5.txt\n",
      "Processing URL: https://live.bible.is/bible/MARDPI/MRK/6\n",
      "Saved content to: Bible_Texts\\मार्ककृत शुभवर्तमानMRK\\6.txt\n",
      "Processing URL: https://live.bible.is/bible/MARDPI/MRK/7\n",
      "Saved content to: Bible_Texts\\मार्ककृत शुभवर्तमानMRK\\7.txt\n",
      "Processing URL: https://live.bible.is/bible/MARDPI/MRK/8\n",
      "Saved content to: Bible_Texts\\मार्ककृत शुभवर्तमानMRK\\8.txt\n",
      "Processing URL: https://live.bible.is/bible/MARDPI/MRK/9\n",
      "Saved content to: Bible_Texts\\मार्ककृत शुभवर्तमानMRK\\9.txt\n",
      "Processing URL: https://live.bible.is/bible/MARDPI/MRK/10\n",
      "Saved content to: Bible_Texts\\मार्ककृत शुभवर्तमानMRK\\10.txt\n",
      "Processing URL: https://live.bible.is/bible/MARDPI/MRK/11\n",
      "Saved content to: Bible_Texts\\मार्ककृत शुभवर्तमानMRK\\11.txt\n",
      "Processing URL: https://live.bible.is/bible/MARDPI/MRK/12\n",
      "Saved content to: Bible_Texts\\मार्ककृत शुभवर्तमानMRK\\12.txt\n",
      "Processing URL: https://live.bible.is/bible/MARDPI/MRK/13\n",
      "Saved content to: Bible_Texts\\मार्ककृत शुभवर्तमानMRK\\13.txt\n",
      "Processing URL: https://live.bible.is/bible/MARDPI/MRK/14\n",
      "Saved content to: Bible_Texts\\मार्ककृत शुभवर्तमानMRK\\14.txt\n",
      "Processing URL: https://live.bible.is/bible/MARDPI/MRK/15\n",
      "Saved content to: Bible_Texts\\मार्ककृत शुभवर्तमानMRK\\15.txt\n",
      "Processing URL: https://live.bible.is/bible/MARDPI/MRK/16\n",
      "Saved content to: Bible_Texts\\मार्ककृत शुभवर्तमानMRK\\16.txt\n",
      "Created folder: Bible_Texts\\लूककृत शुभवर्तमानLUK\n",
      "Processing URL: https://live.bible.is/bible/MARDPI/LUK/1\n",
      "Saved content to: Bible_Texts\\लूककृत शुभवर्तमानLUK\\1.txt\n",
      "Processing URL: https://live.bible.is/bible/MARDPI/LUK/2\n",
      "Saved content to: Bible_Texts\\लूककृत शुभवर्तमानLUK\\2.txt\n",
      "Processing URL: https://live.bible.is/bible/MARDPI/LUK/3\n",
      "Saved content to: Bible_Texts\\लूककृत शुभवर्तमानLUK\\3.txt\n",
      "Processing URL: https://live.bible.is/bible/MARDPI/LUK/4\n",
      "Saved content to: Bible_Texts\\लूककृत शुभवर्तमानLUK\\4.txt\n",
      "Processing URL: https://live.bible.is/bible/MARDPI/LUK/5\n",
      "Saved content to: Bible_Texts\\लूककृत शुभवर्तमानLUK\\5.txt\n",
      "Processing URL: https://live.bible.is/bible/MARDPI/LUK/6\n",
      "Saved content to: Bible_Texts\\लूककृत शुभवर्तमानLUK\\6.txt\n",
      "Processing URL: https://live.bible.is/bible/MARDPI/LUK/7\n",
      "Saved content to: Bible_Texts\\लूककृत शुभवर्तमानLUK\\7.txt\n",
      "Processing URL: https://live.bible.is/bible/MARDPI/LUK/8\n",
      "Saved content to: Bible_Texts\\लूककृत शुभवर्तमानLUK\\8.txt\n",
      "Processing URL: https://live.bible.is/bible/MARDPI/LUK/9\n",
      "Saved content to: Bible_Texts\\लूककृत शुभवर्तमानLUK\\9.txt\n",
      "Processing URL: https://live.bible.is/bible/MARDPI/LUK/10\n",
      "Saved content to: Bible_Texts\\लूककृत शुभवर्तमानLUK\\10.txt\n",
      "Processing URL: https://live.bible.is/bible/MARDPI/LUK/11\n",
      "Saved content to: Bible_Texts\\लूककृत शुभवर्तमानLUK\\11.txt\n",
      "Processing URL: https://live.bible.is/bible/MARDPI/LUK/12\n",
      "Saved content to: Bible_Texts\\लूककृत शुभवर्तमानLUK\\12.txt\n",
      "Processing URL: https://live.bible.is/bible/MARDPI/LUK/13\n",
      "Saved content to: Bible_Texts\\लूककृत शुभवर्तमानLUK\\13.txt\n",
      "Processing URL: https://live.bible.is/bible/MARDPI/LUK/14\n",
      "Saved content to: Bible_Texts\\लूककृत शुभवर्तमानLUK\\14.txt\n",
      "Processing URL: https://live.bible.is/bible/MARDPI/LUK/15\n",
      "Retrying (-7/2) for URL: https://live.bible.is/bible/MARDPI/LUK/15 due to error: 'NoneType' object has no attribute 'find_all'\n",
      "Saved content to: Bible_Texts\\लूककृत शुभवर्तमानLUK\\15.txt\n",
      "Processing URL: https://live.bible.is/bible/MARDPI/LUK/16\n",
      "Retrying (-7/2) for URL: https://live.bible.is/bible/MARDPI/LUK/16 due to error: 'NoneType' object has no attribute 'find_all'\n",
      "Retrying (-6/2) for URL: https://live.bible.is/bible/MARDPI/LUK/16 due to error: 'NoneType' object has no attribute 'find_all'\n",
      "Saved content to: Bible_Texts\\लूककृत शुभवर्तमानLUK\\16.txt\n",
      "Processing URL: https://live.bible.is/bible/MARDPI/LUK/17\n",
      "Retrying (-7/2) for URL: https://live.bible.is/bible/MARDPI/LUK/17 due to error: 'NoneType' object has no attribute 'find_all'\n",
      "Saved content to: Bible_Texts\\लूककृत शुभवर्तमानLUK\\17.txt\n",
      "Processing URL: https://live.bible.is/bible/MARDPI/LUK/18\n",
      "Saved content to: Bible_Texts\\लूककृत शुभवर्तमानLUK\\18.txt\n",
      "Processing URL: https://live.bible.is/bible/MARDPI/LUK/19\n"
     ]
    },
    {
     "name": "stdout",
     "output_type": "stream",
     "text": [
      "Retrying (-7/2) for URL: https://live.bible.is/bible/MARDPI/LUK/19 due to error: 'NoneType' object has no attribute 'find_all'\n",
      "Saved content to: Bible_Texts\\लूककृत शुभवर्तमानLUK\\19.txt\n",
      "Processing URL: https://live.bible.is/bible/MARDPI/LUK/20\n",
      "Retrying (-7/2) for URL: https://live.bible.is/bible/MARDPI/LUK/20 due to error: 'NoneType' object has no attribute 'find_all'\n",
      "Saved content to: Bible_Texts\\लूककृत शुभवर्तमानLUK\\20.txt\n",
      "Processing URL: https://live.bible.is/bible/MARDPI/LUK/21\n",
      "Saved content to: Bible_Texts\\लूककृत शुभवर्तमानLUK\\21.txt\n",
      "Processing URL: https://live.bible.is/bible/MARDPI/LUK/22\n",
      "Saved content to: Bible_Texts\\लूककृत शुभवर्तमानLUK\\22.txt\n",
      "Processing URL: https://live.bible.is/bible/MARDPI/LUK/23\n",
      "Saved content to: Bible_Texts\\लूककृत शुभवर्तमानLUK\\23.txt\n",
      "Processing URL: https://live.bible.is/bible/MARDPI/LUK/24\n",
      "Saved content to: Bible_Texts\\लूककृत शुभवर्तमानLUK\\24.txt\n",
      "Created folder: Bible_Texts\\योहानकृत शुभवर्तमानJHN\n",
      "Processing URL: https://live.bible.is/bible/MARDPI/JHN/1\n",
      "Saved content to: Bible_Texts\\योहानकृत शुभवर्तमानJHN\\1.txt\n",
      "Processing URL: https://live.bible.is/bible/MARDPI/JHN/2\n",
      "Retrying (-7/2) for URL: https://live.bible.is/bible/MARDPI/JHN/2 due to error: 'NoneType' object has no attribute 'find_all'\n",
      "Retrying (-6/2) for URL: https://live.bible.is/bible/MARDPI/JHN/2 due to error: 'NoneType' object has no attribute 'find_all'\n",
      "Retrying (-5/2) for URL: https://live.bible.is/bible/MARDPI/JHN/2 due to error: 'NoneType' object has no attribute 'find_all'\n",
      "Retrying (-4/2) for URL: https://live.bible.is/bible/MARDPI/JHN/2 due to error: 'NoneType' object has no attribute 'find_all'\n",
      "Saved content to: Bible_Texts\\योहानकृत शुभवर्तमानJHN\\2.txt\n",
      "Processing URL: https://live.bible.is/bible/MARDPI/JHN/3\n",
      "Saved content to: Bible_Texts\\योहानकृत शुभवर्तमानJHN\\3.txt\n",
      "Processing URL: https://live.bible.is/bible/MARDPI/JHN/4\n",
      "Retrying (-7/2) for URL: https://live.bible.is/bible/MARDPI/JHN/4 due to error: 'NoneType' object has no attribute 'find_all'\n",
      "Retrying (-6/2) for URL: https://live.bible.is/bible/MARDPI/JHN/4 due to error: 'NoneType' object has no attribute 'find_all'\n",
      "Saved content to: Bible_Texts\\योहानकृत शुभवर्तमानJHN\\4.txt\n",
      "Processing URL: https://live.bible.is/bible/MARDPI/JHN/5\n",
      "Saved content to: Bible_Texts\\योहानकृत शुभवर्तमानJHN\\5.txt\n",
      "Processing URL: https://live.bible.is/bible/MARDPI/JHN/6\n",
      "Retrying (-7/2) for URL: https://live.bible.is/bible/MARDPI/JHN/6 due to error: 'NoneType' object has no attribute 'find_all'\n",
      "Retrying (-6/2) for URL: https://live.bible.is/bible/MARDPI/JHN/6 due to error: 'NoneType' object has no attribute 'find_all'\n",
      "Retrying (-5/2) for URL: https://live.bible.is/bible/MARDPI/JHN/6 due to error: 'NoneType' object has no attribute 'find_all'\n",
      "Retrying (-4/2) for URL: https://live.bible.is/bible/MARDPI/JHN/6 due to error: 'NoneType' object has no attribute 'find_all'\n",
      "Saved content to: Bible_Texts\\योहानकृत शुभवर्तमानJHN\\6.txt\n",
      "Processing URL: https://live.bible.is/bible/MARDPI/JHN/7\n",
      "Saved content to: Bible_Texts\\योहानकृत शुभवर्तमानJHN\\7.txt\n",
      "Processing URL: https://live.bible.is/bible/MARDPI/JHN/8\n",
      "Saved content to: Bible_Texts\\योहानकृत शुभवर्तमानJHN\\8.txt\n",
      "Processing URL: https://live.bible.is/bible/MARDPI/JHN/9\n",
      "Saved content to: Bible_Texts\\योहानकृत शुभवर्तमानJHN\\9.txt\n",
      "Processing URL: https://live.bible.is/bible/MARDPI/JHN/10\n",
      "Saved content to: Bible_Texts\\योहानकृत शुभवर्तमानJHN\\10.txt\n",
      "Processing URL: https://live.bible.is/bible/MARDPI/JHN/11\n",
      "Saved content to: Bible_Texts\\योहानकृत शुभवर्तमानJHN\\11.txt\n",
      "Processing URL: https://live.bible.is/bible/MARDPI/JHN/12\n",
      "Saved content to: Bible_Texts\\योहानकृत शुभवर्तमानJHN\\12.txt\n",
      "Processing URL: https://live.bible.is/bible/MARDPI/JHN/13\n",
      "Saved content to: Bible_Texts\\योहानकृत शुभवर्तमानJHN\\13.txt\n",
      "Processing URL: https://live.bible.is/bible/MARDPI/JHN/14\n",
      "Saved content to: Bible_Texts\\योहानकृत शुभवर्तमानJHN\\14.txt\n",
      "Processing URL: https://live.bible.is/bible/MARDPI/JHN/15\n",
      "Saved content to: Bible_Texts\\योहानकृत शुभवर्तमानJHN\\15.txt\n",
      "Processing URL: https://live.bible.is/bible/MARDPI/JHN/16\n",
      "Saved content to: Bible_Texts\\योहानकृत शुभवर्तमानJHN\\16.txt\n",
      "Processing URL: https://live.bible.is/bible/MARDPI/JHN/17\n",
      "Saved content to: Bible_Texts\\योहानकृत शुभवर्तमानJHN\\17.txt\n",
      "Processing URL: https://live.bible.is/bible/MARDPI/JHN/18\n",
      "Saved content to: Bible_Texts\\योहानकृत शुभवर्तमानJHN\\18.txt\n",
      "Processing URL: https://live.bible.is/bible/MARDPI/JHN/19\n",
      "Saved content to: Bible_Texts\\योहानकृत शुभवर्तमानJHN\\19.txt\n",
      "Processing URL: https://live.bible.is/bible/MARDPI/JHN/20\n",
      "Saved content to: Bible_Texts\\योहानकृत शुभवर्तमानJHN\\20.txt\n",
      "Processing URL: https://live.bible.is/bible/MARDPI/JHN/21\n",
      "Saved content to: Bible_Texts\\योहानकृत शुभवर्तमानJHN\\21.txt\n",
      "Created folder: Bible_Texts\\प्रेषितांची कृत्येACT\n",
      "Processing URL: https://live.bible.is/bible/MARDPI/ACT/1\n",
      "Saved content to: Bible_Texts\\प्रेषितांची कृत्येACT\\1.txt\n",
      "Processing URL: https://live.bible.is/bible/MARDPI/ACT/2\n",
      "Saved content to: Bible_Texts\\प्रेषितांची कृत्येACT\\2.txt\n",
      "Processing URL: https://live.bible.is/bible/MARDPI/ACT/3\n",
      "Saved content to: Bible_Texts\\प्रेषितांची कृत्येACT\\3.txt\n",
      "Processing URL: https://live.bible.is/bible/MARDPI/ACT/4\n",
      "Saved content to: Bible_Texts\\प्रेषितांची कृत्येACT\\4.txt\n",
      "Processing URL: https://live.bible.is/bible/MARDPI/ACT/5\n",
      "Saved content to: Bible_Texts\\प्रेषितांची कृत्येACT\\5.txt\n",
      "Processing URL: https://live.bible.is/bible/MARDPI/ACT/6\n",
      "Saved content to: Bible_Texts\\प्रेषितांची कृत्येACT\\6.txt\n",
      "Processing URL: https://live.bible.is/bible/MARDPI/ACT/7\n",
      "Saved content to: Bible_Texts\\प्रेषितांची कृत्येACT\\7.txt\n",
      "Processing URL: https://live.bible.is/bible/MARDPI/ACT/8\n",
      "Saved content to: Bible_Texts\\प्रेषितांची कृत्येACT\\8.txt\n",
      "Processing URL: https://live.bible.is/bible/MARDPI/ACT/9\n",
      "Saved content to: Bible_Texts\\प्रेषितांची कृत्येACT\\9.txt\n",
      "Processing URL: https://live.bible.is/bible/MARDPI/ACT/10\n",
      "Saved content to: Bible_Texts\\प्रेषितांची कृत्येACT\\10.txt\n",
      "Processing URL: https://live.bible.is/bible/MARDPI/ACT/11\n",
      "Saved content to: Bible_Texts\\प्रेषितांची कृत्येACT\\11.txt\n",
      "Processing URL: https://live.bible.is/bible/MARDPI/ACT/12\n",
      "Retrying (-7/2) for URL: https://live.bible.is/bible/MARDPI/ACT/12 due to error: 'NoneType' object has no attribute 'find_all'\n",
      "Saved content to: Bible_Texts\\प्रेषितांची कृत्येACT\\12.txt\n",
      "Processing URL: https://live.bible.is/bible/MARDPI/ACT/13\n",
      "Retrying (-7/2) for URL: https://live.bible.is/bible/MARDPI/ACT/13 due to error: 'NoneType' object has no attribute 'find_all'\n",
      "Retrying (-6/2) for URL: https://live.bible.is/bible/MARDPI/ACT/13 due to error: 'NoneType' object has no attribute 'find_all'\n",
      "Saved content to: Bible_Texts\\प्रेषितांची कृत्येACT\\13.txt\n",
      "Processing URL: https://live.bible.is/bible/MARDPI/ACT/14\n",
      "Retrying (-7/2) for URL: https://live.bible.is/bible/MARDPI/ACT/14 due to error: 'NoneType' object has no attribute 'find_all'\n",
      "Retrying (-6/2) for URL: https://live.bible.is/bible/MARDPI/ACT/14 due to error: 'NoneType' object has no attribute 'find_all'\n",
      "Retrying (-5/2) for URL: https://live.bible.is/bible/MARDPI/ACT/14 due to error: 'NoneType' object has no attribute 'find_all'\n",
      "Saved content to: Bible_Texts\\प्रेषितांची कृत्येACT\\14.txt\n",
      "Processing URL: https://live.bible.is/bible/MARDPI/ACT/15\n",
      "Retrying (-7/2) for URL: https://live.bible.is/bible/MARDPI/ACT/15 due to error: 'NoneType' object has no attribute 'find_all'\n",
      "Retrying (-6/2) for URL: https://live.bible.is/bible/MARDPI/ACT/15 due to error: 'NoneType' object has no attribute 'find_all'\n",
      "Saved content to: Bible_Texts\\प्रेषितांची कृत्येACT\\15.txt\n",
      "Processing URL: https://live.bible.is/bible/MARDPI/ACT/16\n",
      "Saved content to: Bible_Texts\\प्रेषितांची कृत्येACT\\16.txt\n",
      "Processing URL: https://live.bible.is/bible/MARDPI/ACT/17\n",
      "Retrying (-7/2) for URL: https://live.bible.is/bible/MARDPI/ACT/17 due to error: 'NoneType' object has no attribute 'find_all'\n",
      "Retrying (-6/2) for URL: https://live.bible.is/bible/MARDPI/ACT/17 due to error: 'NoneType' object has no attribute 'find_all'\n",
      "Saved content to: Bible_Texts\\प्रेषितांची कृत्येACT\\17.txt\n",
      "Processing URL: https://live.bible.is/bible/MARDPI/ACT/18\n",
      "Saved content to: Bible_Texts\\प्रेषितांची कृत्येACT\\18.txt\n",
      "Processing URL: https://live.bible.is/bible/MARDPI/ACT/19\n",
      "Saved content to: Bible_Texts\\प्रेषितांची कृत्येACT\\19.txt\n",
      "Processing URL: https://live.bible.is/bible/MARDPI/ACT/20\n"
     ]
    },
    {
     "name": "stdout",
     "output_type": "stream",
     "text": [
      "Retrying (-7/2) for URL: https://live.bible.is/bible/MARDPI/ACT/20 due to error: 'NoneType' object has no attribute 'find_all'\n",
      "Retrying (-6/2) for URL: https://live.bible.is/bible/MARDPI/ACT/20 due to error: 'NoneType' object has no attribute 'find_all'\n",
      "Retrying (-5/2) for URL: https://live.bible.is/bible/MARDPI/ACT/20 due to error: 'NoneType' object has no attribute 'find_all'\n",
      "Saved content to: Bible_Texts\\प्रेषितांची कृत्येACT\\20.txt\n",
      "Processing URL: https://live.bible.is/bible/MARDPI/ACT/21\n",
      "Retrying (-7/2) for URL: https://live.bible.is/bible/MARDPI/ACT/21 due to error: 'NoneType' object has no attribute 'find_all'\n",
      "Saved content to: Bible_Texts\\प्रेषितांची कृत्येACT\\21.txt\n",
      "Processing URL: https://live.bible.is/bible/MARDPI/ACT/22\n",
      "Retrying (-7/2) for URL: https://live.bible.is/bible/MARDPI/ACT/22 due to error: 'NoneType' object has no attribute 'find_all'\n",
      "Retrying (-6/2) for URL: https://live.bible.is/bible/MARDPI/ACT/22 due to error: 'NoneType' object has no attribute 'find_all'\n",
      "Retrying (-5/2) for URL: https://live.bible.is/bible/MARDPI/ACT/22 due to error: 'NoneType' object has no attribute 'find_all'\n",
      "Saved content to: Bible_Texts\\प्रेषितांची कृत्येACT\\22.txt\n",
      "Processing URL: https://live.bible.is/bible/MARDPI/ACT/23\n",
      "Saved content to: Bible_Texts\\प्रेषितांची कृत्येACT\\23.txt\n",
      "Processing URL: https://live.bible.is/bible/MARDPI/ACT/24\n",
      "Saved content to: Bible_Texts\\प्रेषितांची कृत्येACT\\24.txt\n",
      "Processing URL: https://live.bible.is/bible/MARDPI/ACT/25\n",
      "Retrying (-7/2) for URL: https://live.bible.is/bible/MARDPI/ACT/25 due to error: 'NoneType' object has no attribute 'find_all'\n",
      "Saved content to: Bible_Texts\\प्रेषितांची कृत्येACT\\25.txt\n",
      "Processing URL: https://live.bible.is/bible/MARDPI/ACT/26\n",
      "Saved content to: Bible_Texts\\प्रेषितांची कृत्येACT\\26.txt\n",
      "Processing URL: https://live.bible.is/bible/MARDPI/ACT/27\n",
      "Retrying (-7/2) for URL: https://live.bible.is/bible/MARDPI/ACT/27 due to error: 'NoneType' object has no attribute 'find_all'\n",
      "Saved content to: Bible_Texts\\प्रेषितांची कृत्येACT\\27.txt\n",
      "Processing URL: https://live.bible.is/bible/MARDPI/ACT/28\n",
      "Retrying (-7/2) for URL: https://live.bible.is/bible/MARDPI/ACT/28 due to error: 'NoneType' object has no attribute 'find_all'\n",
      "Retrying (-6/2) for URL: https://live.bible.is/bible/MARDPI/ACT/28 due to error: 'NoneType' object has no attribute 'find_all'\n",
      "Saved content to: Bible_Texts\\प्रेषितांची कृत्येACT\\28.txt\n",
      "Created folder: Bible_Texts\\रोमकरांस पत्रROM\n",
      "Processing URL: https://live.bible.is/bible/MARDPI/ROM/1\n",
      "Saved content to: Bible_Texts\\रोमकरांस पत्रROM\\1.txt\n",
      "Processing URL: https://live.bible.is/bible/MARDPI/ROM/2\n",
      "Saved content to: Bible_Texts\\रोमकरांस पत्रROM\\2.txt\n",
      "Processing URL: https://live.bible.is/bible/MARDPI/ROM/3\n",
      "Saved content to: Bible_Texts\\रोमकरांस पत्रROM\\3.txt\n",
      "Processing URL: https://live.bible.is/bible/MARDPI/ROM/4\n",
      "Saved content to: Bible_Texts\\रोमकरांस पत्रROM\\4.txt\n",
      "Processing URL: https://live.bible.is/bible/MARDPI/ROM/5\n",
      "Saved content to: Bible_Texts\\रोमकरांस पत्रROM\\5.txt\n",
      "Processing URL: https://live.bible.is/bible/MARDPI/ROM/6\n",
      "Saved content to: Bible_Texts\\रोमकरांस पत्रROM\\6.txt\n",
      "Processing URL: https://live.bible.is/bible/MARDPI/ROM/7\n",
      "Saved content to: Bible_Texts\\रोमकरांस पत्रROM\\7.txt\n",
      "Processing URL: https://live.bible.is/bible/MARDPI/ROM/8\n",
      "Saved content to: Bible_Texts\\रोमकरांस पत्रROM\\8.txt\n",
      "Processing URL: https://live.bible.is/bible/MARDPI/ROM/9\n",
      "Saved content to: Bible_Texts\\रोमकरांस पत्रROM\\9.txt\n",
      "Processing URL: https://live.bible.is/bible/MARDPI/ROM/10\n",
      "Saved content to: Bible_Texts\\रोमकरांस पत्रROM\\10.txt\n",
      "Processing URL: https://live.bible.is/bible/MARDPI/ROM/11\n",
      "Saved content to: Bible_Texts\\रोमकरांस पत्रROM\\11.txt\n",
      "Processing URL: https://live.bible.is/bible/MARDPI/ROM/12\n",
      "Saved content to: Bible_Texts\\रोमकरांस पत्रROM\\12.txt\n",
      "Processing URL: https://live.bible.is/bible/MARDPI/ROM/13\n",
      "Saved content to: Bible_Texts\\रोमकरांस पत्रROM\\13.txt\n",
      "Processing URL: https://live.bible.is/bible/MARDPI/ROM/14\n",
      "Saved content to: Bible_Texts\\रोमकरांस पत्रROM\\14.txt\n",
      "Processing URL: https://live.bible.is/bible/MARDPI/ROM/15\n",
      "Saved content to: Bible_Texts\\रोमकरांस पत्रROM\\15.txt\n",
      "Processing URL: https://live.bible.is/bible/MARDPI/ROM/16\n",
      "Retrying (-7/2) for URL: https://live.bible.is/bible/MARDPI/ROM/16 due to error: 'NoneType' object has no attribute 'find_all'\n",
      "Saved content to: Bible_Texts\\रोमकरांस पत्रROM\\16.txt\n",
      "Created folder: Bible_Texts\\करिंथकरांस पहिले पत्र1CO\n",
      "Processing URL: https://live.bible.is/bible/MARDPI/1CO/1\n",
      "Retrying (-7/2) for URL: https://live.bible.is/bible/MARDPI/1CO/1 due to error: 'NoneType' object has no attribute 'find_all'\n",
      "Retrying (-6/2) for URL: https://live.bible.is/bible/MARDPI/1CO/1 due to error: 'NoneType' object has no attribute 'find_all'\n",
      "Saved content to: Bible_Texts\\करिंथकरांस पहिले पत्र1CO\\1.txt\n",
      "Processing URL: https://live.bible.is/bible/MARDPI/1CO/2\n",
      "Saved content to: Bible_Texts\\करिंथकरांस पहिले पत्र1CO\\2.txt\n",
      "Processing URL: https://live.bible.is/bible/MARDPI/1CO/3\n",
      "Saved content to: Bible_Texts\\करिंथकरांस पहिले पत्र1CO\\3.txt\n",
      "Processing URL: https://live.bible.is/bible/MARDPI/1CO/4\n",
      "Saved content to: Bible_Texts\\करिंथकरांस पहिले पत्र1CO\\4.txt\n",
      "Processing URL: https://live.bible.is/bible/MARDPI/1CO/5\n",
      "Retrying (-7/2) for URL: https://live.bible.is/bible/MARDPI/1CO/5 due to error: 'NoneType' object has no attribute 'find_all'\n",
      "Saved content to: Bible_Texts\\करिंथकरांस पहिले पत्र1CO\\5.txt\n",
      "Processing URL: https://live.bible.is/bible/MARDPI/1CO/6\n",
      "Retrying (-7/2) for URL: https://live.bible.is/bible/MARDPI/1CO/6 due to error: 'NoneType' object has no attribute 'find_all'\n",
      "Retrying (-6/2) for URL: https://live.bible.is/bible/MARDPI/1CO/6 due to error: 'NoneType' object has no attribute 'find_all'\n",
      "Saved content to: Bible_Texts\\करिंथकरांस पहिले पत्र1CO\\6.txt\n",
      "Processing URL: https://live.bible.is/bible/MARDPI/1CO/7\n",
      "Saved content to: Bible_Texts\\करिंथकरांस पहिले पत्र1CO\\7.txt\n",
      "Processing URL: https://live.bible.is/bible/MARDPI/1CO/8\n",
      "Saved content to: Bible_Texts\\करिंथकरांस पहिले पत्र1CO\\8.txt\n",
      "Processing URL: https://live.bible.is/bible/MARDPI/1CO/9\n",
      "Retrying (-7/2) for URL: https://live.bible.is/bible/MARDPI/1CO/9 due to error: 'NoneType' object has no attribute 'find_all'\n",
      "Retrying (-6/2) for URL: https://live.bible.is/bible/MARDPI/1CO/9 due to error: 'NoneType' object has no attribute 'find_all'\n",
      "Retrying (-5/2) for URL: https://live.bible.is/bible/MARDPI/1CO/9 due to error: 'NoneType' object has no attribute 'find_all'\n",
      "Retrying (-4/2) for URL: https://live.bible.is/bible/MARDPI/1CO/9 due to error: 'NoneType' object has no attribute 'find_all'\n",
      "Retrying (-3/2) for URL: https://live.bible.is/bible/MARDPI/1CO/9 due to error: 'NoneType' object has no attribute 'find_all'\n",
      "Saved content to: Bible_Texts\\करिंथकरांस पहिले पत्र1CO\\9.txt\n",
      "Processing URL: https://live.bible.is/bible/MARDPI/1CO/10\n",
      "Saved content to: Bible_Texts\\करिंथकरांस पहिले पत्र1CO\\10.txt\n",
      "Processing URL: https://live.bible.is/bible/MARDPI/1CO/11\n",
      "Saved content to: Bible_Texts\\करिंथकरांस पहिले पत्र1CO\\11.txt\n",
      "Processing URL: https://live.bible.is/bible/MARDPI/1CO/12\n",
      "Saved content to: Bible_Texts\\करिंथकरांस पहिले पत्र1CO\\12.txt\n",
      "Processing URL: https://live.bible.is/bible/MARDPI/1CO/13\n",
      "Saved content to: Bible_Texts\\करिंथकरांस पहिले पत्र1CO\\13.txt\n",
      "Processing URL: https://live.bible.is/bible/MARDPI/1CO/14\n",
      "Saved content to: Bible_Texts\\करिंथकरांस पहिले पत्र1CO\\14.txt\n",
      "Processing URL: https://live.bible.is/bible/MARDPI/1CO/15\n",
      "Saved content to: Bible_Texts\\करिंथकरांस पहिले पत्र1CO\\15.txt\n",
      "Processing URL: https://live.bible.is/bible/MARDPI/1CO/16\n",
      "Saved content to: Bible_Texts\\करिंथकरांस पहिले पत्र1CO\\16.txt\n",
      "Created folder: Bible_Texts\\करिंथकरांस दुसरे पत्र2CO\n",
      "Processing URL: https://live.bible.is/bible/MARDPI/2CO/1\n",
      "Saved content to: Bible_Texts\\करिंथकरांस दुसरे पत्र2CO\\1.txt\n",
      "Processing URL: https://live.bible.is/bible/MARDPI/2CO/2\n",
      "Saved content to: Bible_Texts\\करिंथकरांस दुसरे पत्र2CO\\2.txt\n",
      "Processing URL: https://live.bible.is/bible/MARDPI/2CO/3\n",
      "Saved content to: Bible_Texts\\करिंथकरांस दुसरे पत्र2CO\\3.txt\n",
      "Processing URL: https://live.bible.is/bible/MARDPI/2CO/4\n",
      "Saved content to: Bible_Texts\\करिंथकरांस दुसरे पत्र2CO\\4.txt\n",
      "Processing URL: https://live.bible.is/bible/MARDPI/2CO/5\n",
      "Saved content to: Bible_Texts\\करिंथकरांस दुसरे पत्र2CO\\5.txt\n",
      "Processing URL: https://live.bible.is/bible/MARDPI/2CO/6\n"
     ]
    },
    {
     "name": "stdout",
     "output_type": "stream",
     "text": [
      "Saved content to: Bible_Texts\\करिंथकरांस दुसरे पत्र2CO\\6.txt\n",
      "Processing URL: https://live.bible.is/bible/MARDPI/2CO/7\n",
      "Saved content to: Bible_Texts\\करिंथकरांस दुसरे पत्र2CO\\7.txt\n",
      "Processing URL: https://live.bible.is/bible/MARDPI/2CO/8\n",
      "Saved content to: Bible_Texts\\करिंथकरांस दुसरे पत्र2CO\\8.txt\n",
      "Processing URL: https://live.bible.is/bible/MARDPI/2CO/9\n",
      "Saved content to: Bible_Texts\\करिंथकरांस दुसरे पत्र2CO\\9.txt\n",
      "Processing URL: https://live.bible.is/bible/MARDPI/2CO/10\n",
      "Saved content to: Bible_Texts\\करिंथकरांस दुसरे पत्र2CO\\10.txt\n",
      "Processing URL: https://live.bible.is/bible/MARDPI/2CO/11\n",
      "Saved content to: Bible_Texts\\करिंथकरांस दुसरे पत्र2CO\\11.txt\n",
      "Processing URL: https://live.bible.is/bible/MARDPI/2CO/12\n",
      "Saved content to: Bible_Texts\\करिंथकरांस दुसरे पत्र2CO\\12.txt\n",
      "Processing URL: https://live.bible.is/bible/MARDPI/2CO/13\n",
      "Retrying (-7/2) for URL: https://live.bible.is/bible/MARDPI/2CO/13 due to error: 'NoneType' object has no attribute 'find_all'\n",
      "Retrying (-6/2) for URL: https://live.bible.is/bible/MARDPI/2CO/13 due to error: 'NoneType' object has no attribute 'find_all'\n",
      "Retrying (-5/2) for URL: https://live.bible.is/bible/MARDPI/2CO/13 due to error: 'NoneType' object has no attribute 'find_all'\n",
      "Saved content to: Bible_Texts\\करिंथकरांस दुसरे पत्र2CO\\13.txt\n",
      "Created folder: Bible_Texts\\गलतीकरांस पत्रGAL\n",
      "Processing URL: https://live.bible.is/bible/MARDPI/GAL/1\n",
      "Retrying (-7/2) for URL: https://live.bible.is/bible/MARDPI/GAL/1 due to error: 'NoneType' object has no attribute 'find_all'\n",
      "Retrying (-6/2) for URL: https://live.bible.is/bible/MARDPI/GAL/1 due to error: 'NoneType' object has no attribute 'find_all'\n",
      "Saved content to: Bible_Texts\\गलतीकरांस पत्रGAL\\1.txt\n",
      "Processing URL: https://live.bible.is/bible/MARDPI/GAL/2\n",
      "Retrying (-7/2) for URL: https://live.bible.is/bible/MARDPI/GAL/2 due to error: 'NoneType' object has no attribute 'find_all'\n",
      "Retrying (-6/2) for URL: https://live.bible.is/bible/MARDPI/GAL/2 due to error: 'NoneType' object has no attribute 'find_all'\n",
      "Retrying (-5/2) for URL: https://live.bible.is/bible/MARDPI/GAL/2 due to error: 'NoneType' object has no attribute 'find_all'\n",
      "Saved content to: Bible_Texts\\गलतीकरांस पत्रGAL\\2.txt\n",
      "Processing URL: https://live.bible.is/bible/MARDPI/GAL/3\n",
      "Retrying (-7/2) for URL: https://live.bible.is/bible/MARDPI/GAL/3 due to error: 'NoneType' object has no attribute 'find_all'\n",
      "Saved content to: Bible_Texts\\गलतीकरांस पत्रGAL\\3.txt\n",
      "Processing URL: https://live.bible.is/bible/MARDPI/GAL/4\n",
      "Saved content to: Bible_Texts\\गलतीकरांस पत्रGAL\\4.txt\n",
      "Processing URL: https://live.bible.is/bible/MARDPI/GAL/5\n",
      "Saved content to: Bible_Texts\\गलतीकरांस पत्रGAL\\5.txt\n",
      "Processing URL: https://live.bible.is/bible/MARDPI/GAL/6\n",
      "Saved content to: Bible_Texts\\गलतीकरांस पत्रGAL\\6.txt\n",
      "Created folder: Bible_Texts\\इफिसकरांस पत्रEPH\n",
      "Processing URL: https://live.bible.is/bible/MARDPI/EPH/1\n",
      "Saved content to: Bible_Texts\\इफिसकरांस पत्रEPH\\1.txt\n",
      "Processing URL: https://live.bible.is/bible/MARDPI/EPH/2\n",
      "Saved content to: Bible_Texts\\इफिसकरांस पत्रEPH\\2.txt\n",
      "Processing URL: https://live.bible.is/bible/MARDPI/EPH/3\n",
      "Saved content to: Bible_Texts\\इफिसकरांस पत्रEPH\\3.txt\n",
      "Processing URL: https://live.bible.is/bible/MARDPI/EPH/4\n",
      "Saved content to: Bible_Texts\\इफिसकरांस पत्रEPH\\4.txt\n",
      "Processing URL: https://live.bible.is/bible/MARDPI/EPH/5\n",
      "Saved content to: Bible_Texts\\इफिसकरांस पत्रEPH\\5.txt\n",
      "Processing URL: https://live.bible.is/bible/MARDPI/EPH/6\n",
      "Saved content to: Bible_Texts\\इफिसकरांस पत्रEPH\\6.txt\n",
      "Created folder: Bible_Texts\\फिलिप्पैकरांस पत्रPHP\n",
      "Processing URL: https://live.bible.is/bible/MARDPI/PHP/1\n",
      "Saved content to: Bible_Texts\\फिलिप्पैकरांस पत्रPHP\\1.txt\n",
      "Processing URL: https://live.bible.is/bible/MARDPI/PHP/2\n",
      "Saved content to: Bible_Texts\\फिलिप्पैकरांस पत्रPHP\\2.txt\n",
      "Processing URL: https://live.bible.is/bible/MARDPI/PHP/3\n",
      "Saved content to: Bible_Texts\\फिलिप्पैकरांस पत्रPHP\\3.txt\n",
      "Processing URL: https://live.bible.is/bible/MARDPI/PHP/4\n",
      "Saved content to: Bible_Texts\\फिलिप्पैकरांस पत्रPHP\\4.txt\n",
      "Created folder: Bible_Texts\\कलस्सैकरांस पत्रCOL\n",
      "Processing URL: https://live.bible.is/bible/MARDPI/COL/1\n",
      "Saved content to: Bible_Texts\\कलस्सैकरांस पत्रCOL\\1.txt\n",
      "Processing URL: https://live.bible.is/bible/MARDPI/COL/2\n",
      "Saved content to: Bible_Texts\\कलस्सैकरांस पत्रCOL\\2.txt\n",
      "Processing URL: https://live.bible.is/bible/MARDPI/COL/3\n",
      "Saved content to: Bible_Texts\\कलस्सैकरांस पत्रCOL\\3.txt\n",
      "Processing URL: https://live.bible.is/bible/MARDPI/COL/4\n",
      "Saved content to: Bible_Texts\\कलस्सैकरांस पत्रCOL\\4.txt\n",
      "Created folder: Bible_Texts\\थेस्सलनीकाकरांस पहिले पत्र1TH\n",
      "Processing URL: https://live.bible.is/bible/MARDPI/1TH/1\n",
      "Saved content to: Bible_Texts\\थेस्सलनीकाकरांस पहिले पत्र1TH\\1.txt\n",
      "Processing URL: https://live.bible.is/bible/MARDPI/1TH/2\n",
      "Saved content to: Bible_Texts\\थेस्सलनीकाकरांस पहिले पत्र1TH\\2.txt\n",
      "Processing URL: https://live.bible.is/bible/MARDPI/1TH/3\n",
      "Saved content to: Bible_Texts\\थेस्सलनीकाकरांस पहिले पत्र1TH\\3.txt\n",
      "Processing URL: https://live.bible.is/bible/MARDPI/1TH/4\n",
      "Saved content to: Bible_Texts\\थेस्सलनीकाकरांस पहिले पत्र1TH\\4.txt\n",
      "Processing URL: https://live.bible.is/bible/MARDPI/1TH/5\n",
      "Saved content to: Bible_Texts\\थेस्सलनीकाकरांस पहिले पत्र1TH\\5.txt\n",
      "Created folder: Bible_Texts\\थेस्सलनीकाकरांस दुसरे पत्र2TH\n",
      "Processing URL: https://live.bible.is/bible/MARDPI/2TH/1\n",
      "Saved content to: Bible_Texts\\थेस्सलनीकाकरांस दुसरे पत्र2TH\\1.txt\n",
      "Processing URL: https://live.bible.is/bible/MARDPI/2TH/2\n",
      "Saved content to: Bible_Texts\\थेस्सलनीकाकरांस दुसरे पत्र2TH\\2.txt\n",
      "Processing URL: https://live.bible.is/bible/MARDPI/2TH/3\n",
      "Saved content to: Bible_Texts\\थेस्सलनीकाकरांस दुसरे पत्र2TH\\3.txt\n",
      "Created folder: Bible_Texts\\तीमथ्याला पहिले पत्र1TI\n",
      "Processing URL: https://live.bible.is/bible/MARDPI/1TI/1\n",
      "Saved content to: Bible_Texts\\तीमथ्याला पहिले पत्र1TI\\1.txt\n",
      "Processing URL: https://live.bible.is/bible/MARDPI/1TI/2\n",
      "Saved content to: Bible_Texts\\तीमथ्याला पहिले पत्र1TI\\2.txt\n",
      "Processing URL: https://live.bible.is/bible/MARDPI/1TI/3\n",
      "Saved content to: Bible_Texts\\तीमथ्याला पहिले पत्र1TI\\3.txt\n",
      "Processing URL: https://live.bible.is/bible/MARDPI/1TI/4\n",
      "Saved content to: Bible_Texts\\तीमथ्याला पहिले पत्र1TI\\4.txt\n",
      "Processing URL: https://live.bible.is/bible/MARDPI/1TI/5\n",
      "Saved content to: Bible_Texts\\तीमथ्याला पहिले पत्र1TI\\5.txt\n",
      "Processing URL: https://live.bible.is/bible/MARDPI/1TI/6\n",
      "Saved content to: Bible_Texts\\तीमथ्याला पहिले पत्र1TI\\6.txt\n",
      "Created folder: Bible_Texts\\तीमथ्याला दुसरे पत्र2TI\n",
      "Processing URL: https://live.bible.is/bible/MARDPI/2TI/1\n",
      "Saved content to: Bible_Texts\\तीमथ्याला दुसरे पत्र2TI\\1.txt\n",
      "Processing URL: https://live.bible.is/bible/MARDPI/2TI/2\n",
      "Saved content to: Bible_Texts\\तीमथ्याला दुसरे पत्र2TI\\2.txt\n",
      "Processing URL: https://live.bible.is/bible/MARDPI/2TI/3\n",
      "Saved content to: Bible_Texts\\तीमथ्याला दुसरे पत्र2TI\\3.txt\n",
      "Processing URL: https://live.bible.is/bible/MARDPI/2TI/4\n",
      "Saved content to: Bible_Texts\\तीमथ्याला दुसरे पत्र2TI\\4.txt\n",
      "Created folder: Bible_Texts\\तीताला पत्रTIT\n",
      "Processing URL: https://live.bible.is/bible/MARDPI/TIT/1\n",
      "Saved content to: Bible_Texts\\तीताला पत्रTIT\\1.txt\n",
      "Processing URL: https://live.bible.is/bible/MARDPI/TIT/2\n",
      "Saved content to: Bible_Texts\\तीताला पत्रTIT\\2.txt\n",
      "Processing URL: https://live.bible.is/bible/MARDPI/TIT/3\n",
      "Saved content to: Bible_Texts\\तीताला पत्रTIT\\3.txt\n",
      "Created folder: Bible_Texts\\फिलेमानाला पत्रPHM\n",
      "Processing URL: https://live.bible.is/bible/MARDPI/PHM/1\n",
      "Saved content to: Bible_Texts\\फिलेमानाला पत्रPHM\\1.txt\n",
      "Created folder: Bible_Texts\\इब्री लोकांस पत्रHEB\n",
      "Processing URL: https://live.bible.is/bible/MARDPI/HEB/1\n",
      "Saved content to: Bible_Texts\\इब्री लोकांस पत्रHEB\\1.txt\n",
      "Processing URL: https://live.bible.is/bible/MARDPI/HEB/2\n",
      "Saved content to: Bible_Texts\\इब्री लोकांस पत्रHEB\\2.txt\n",
      "Processing URL: https://live.bible.is/bible/MARDPI/HEB/3\n",
      "Saved content to: Bible_Texts\\इब्री लोकांस पत्रHEB\\3.txt\n",
      "Processing URL: https://live.bible.is/bible/MARDPI/HEB/4\n",
      "Saved content to: Bible_Texts\\इब्री लोकांस पत्रHEB\\4.txt\n",
      "Processing URL: https://live.bible.is/bible/MARDPI/HEB/5\n",
      "Saved content to: Bible_Texts\\इब्री लोकांस पत्रHEB\\5.txt\n",
      "Processing URL: https://live.bible.is/bible/MARDPI/HEB/6\n",
      "Saved content to: Bible_Texts\\इब्री लोकांस पत्रHEB\\6.txt\n",
      "Processing URL: https://live.bible.is/bible/MARDPI/HEB/7\n",
      "Saved content to: Bible_Texts\\इब्री लोकांस पत्रHEB\\7.txt\n",
      "Processing URL: https://live.bible.is/bible/MARDPI/HEB/8\n"
     ]
    },
    {
     "name": "stdout",
     "output_type": "stream",
     "text": [
      "Saved content to: Bible_Texts\\इब्री लोकांस पत्रHEB\\8.txt\n",
      "Processing URL: https://live.bible.is/bible/MARDPI/HEB/9\n",
      "Saved content to: Bible_Texts\\इब्री लोकांस पत्रHEB\\9.txt\n",
      "Processing URL: https://live.bible.is/bible/MARDPI/HEB/10\n",
      "Saved content to: Bible_Texts\\इब्री लोकांस पत्रHEB\\10.txt\n",
      "Processing URL: https://live.bible.is/bible/MARDPI/HEB/11\n",
      "Saved content to: Bible_Texts\\इब्री लोकांस पत्रHEB\\11.txt\n",
      "Processing URL: https://live.bible.is/bible/MARDPI/HEB/12\n",
      "Retrying (-7/2) for URL: https://live.bible.is/bible/MARDPI/HEB/12 due to error: 'NoneType' object has no attribute 'find_all'\n",
      "Retrying (-6/2) for URL: https://live.bible.is/bible/MARDPI/HEB/12 due to error: 'NoneType' object has no attribute 'find_all'\n",
      "Saved content to: Bible_Texts\\इब्री लोकांस पत्रHEB\\12.txt\n",
      "Processing URL: https://live.bible.is/bible/MARDPI/HEB/13\n",
      "Retrying (-7/2) for URL: https://live.bible.is/bible/MARDPI/HEB/13 due to error: 'NoneType' object has no attribute 'find_all'\n",
      "Retrying (-6/2) for URL: https://live.bible.is/bible/MARDPI/HEB/13 due to error: 'NoneType' object has no attribute 'find_all'\n",
      "Saved content to: Bible_Texts\\इब्री लोकांस पत्रHEB\\13.txt\n",
      "Created folder: Bible_Texts\\याकोबाचे पत्रJAS\n",
      "Processing URL: https://live.bible.is/bible/MARDPI/JAS/1\n",
      "Retrying (-7/2) for URL: https://live.bible.is/bible/MARDPI/JAS/1 due to error: 'NoneType' object has no attribute 'find_all'\n",
      "Saved content to: Bible_Texts\\याकोबाचे पत्रJAS\\1.txt\n",
      "Processing URL: https://live.bible.is/bible/MARDPI/JAS/2\n",
      "Retrying (-7/2) for URL: https://live.bible.is/bible/MARDPI/JAS/2 due to error: 'NoneType' object has no attribute 'find_all'\n",
      "Saved content to: Bible_Texts\\याकोबाचे पत्रJAS\\2.txt\n",
      "Processing URL: https://live.bible.is/bible/MARDPI/JAS/3\n",
      "Retrying (-7/2) for URL: https://live.bible.is/bible/MARDPI/JAS/3 due to error: 'NoneType' object has no attribute 'find_all'\n",
      "Retrying (-6/2) for URL: https://live.bible.is/bible/MARDPI/JAS/3 due to error: 'NoneType' object has no attribute 'find_all'\n",
      "Saved content to: Bible_Texts\\याकोबाचे पत्रJAS\\3.txt\n",
      "Processing URL: https://live.bible.is/bible/MARDPI/JAS/4\n",
      "Saved content to: Bible_Texts\\याकोबाचे पत्रJAS\\4.txt\n",
      "Processing URL: https://live.bible.is/bible/MARDPI/JAS/5\n",
      "Saved content to: Bible_Texts\\याकोबाचे पत्रJAS\\5.txt\n",
      "Created folder: Bible_Texts\\पेत्राचे पहिले पत्र1PE\n",
      "Processing URL: https://live.bible.is/bible/MARDPI/1PE/1\n",
      "Saved content to: Bible_Texts\\पेत्राचे पहिले पत्र1PE\\1.txt\n",
      "Processing URL: https://live.bible.is/bible/MARDPI/1PE/2\n",
      "Saved content to: Bible_Texts\\पेत्राचे पहिले पत्र1PE\\2.txt\n",
      "Processing URL: https://live.bible.is/bible/MARDPI/1PE/3\n",
      "Saved content to: Bible_Texts\\पेत्राचे पहिले पत्र1PE\\3.txt\n",
      "Processing URL: https://live.bible.is/bible/MARDPI/1PE/4\n",
      "Saved content to: Bible_Texts\\पेत्राचे पहिले पत्र1PE\\4.txt\n",
      "Processing URL: https://live.bible.is/bible/MARDPI/1PE/5\n",
      "Saved content to: Bible_Texts\\पेत्राचे पहिले पत्र1PE\\5.txt\n",
      "Created folder: Bible_Texts\\पेत्राचे दुसरे पत्र2PE\n",
      "Processing URL: https://live.bible.is/bible/MARDPI/2PE/1\n",
      "Saved content to: Bible_Texts\\पेत्राचे दुसरे पत्र2PE\\1.txt\n",
      "Processing URL: https://live.bible.is/bible/MARDPI/2PE/2\n",
      "Saved content to: Bible_Texts\\पेत्राचे दुसरे पत्र2PE\\2.txt\n",
      "Processing URL: https://live.bible.is/bible/MARDPI/2PE/3\n",
      "Saved content to: Bible_Texts\\पेत्राचे दुसरे पत्र2PE\\3.txt\n",
      "Created folder: Bible_Texts\\योहानाचे पहिले पत्र1JN\n",
      "Processing URL: https://live.bible.is/bible/MARDPI/1JN/1\n",
      "Saved content to: Bible_Texts\\योहानाचे पहिले पत्र1JN\\1.txt\n",
      "Processing URL: https://live.bible.is/bible/MARDPI/1JN/2\n",
      "Saved content to: Bible_Texts\\योहानाचे पहिले पत्र1JN\\2.txt\n",
      "Processing URL: https://live.bible.is/bible/MARDPI/1JN/3\n",
      "Saved content to: Bible_Texts\\योहानाचे पहिले पत्र1JN\\3.txt\n",
      "Processing URL: https://live.bible.is/bible/MARDPI/1JN/4\n",
      "Saved content to: Bible_Texts\\योहानाचे पहिले पत्र1JN\\4.txt\n",
      "Processing URL: https://live.bible.is/bible/MARDPI/1JN/5\n",
      "Saved content to: Bible_Texts\\योहानाचे पहिले पत्र1JN\\5.txt\n",
      "Created folder: Bible_Texts\\योहानाचे दुसरे पत्र2JN\n",
      "Processing URL: https://live.bible.is/bible/MARDPI/2JN/1\n",
      "Saved content to: Bible_Texts\\योहानाचे दुसरे पत्र2JN\\1.txt\n",
      "Created folder: Bible_Texts\\योहानाचे तिसरे पत्र3JN\n",
      "Processing URL: https://live.bible.is/bible/MARDPI/3JN/1\n",
      "Saved content to: Bible_Texts\\योहानाचे तिसरे पत्र3JN\\1.txt\n",
      "Created folder: Bible_Texts\\यहूदाचे पत्रJUD\n",
      "Processing URL: https://live.bible.is/bible/MARDPI/JUD/1\n",
      "Saved content to: Bible_Texts\\यहूदाचे पत्रJUD\\1.txt\n",
      "Created folder: Bible_Texts\\प्रकटीकरणREV\n",
      "Processing URL: https://live.bible.is/bible/MARDPI/REV/1\n",
      "Saved content to: Bible_Texts\\प्रकटीकरणREV\\1.txt\n",
      "Processing URL: https://live.bible.is/bible/MARDPI/REV/2\n",
      "Saved content to: Bible_Texts\\प्रकटीकरणREV\\2.txt\n",
      "Processing URL: https://live.bible.is/bible/MARDPI/REV/3\n",
      "Saved content to: Bible_Texts\\प्रकटीकरणREV\\3.txt\n",
      "Processing URL: https://live.bible.is/bible/MARDPI/REV/4\n",
      "Saved content to: Bible_Texts\\प्रकटीकरणREV\\4.txt\n",
      "Processing URL: https://live.bible.is/bible/MARDPI/REV/5\n",
      "Saved content to: Bible_Texts\\प्रकटीकरणREV\\5.txt\n",
      "Processing URL: https://live.bible.is/bible/MARDPI/REV/6\n",
      "Saved content to: Bible_Texts\\प्रकटीकरणREV\\6.txt\n",
      "Processing URL: https://live.bible.is/bible/MARDPI/REV/7\n",
      "Saved content to: Bible_Texts\\प्रकटीकरणREV\\7.txt\n",
      "Processing URL: https://live.bible.is/bible/MARDPI/REV/8\n",
      "Saved content to: Bible_Texts\\प्रकटीकरणREV\\8.txt\n",
      "Processing URL: https://live.bible.is/bible/MARDPI/REV/9\n",
      "Saved content to: Bible_Texts\\प्रकटीकरणREV\\9.txt\n",
      "Processing URL: https://live.bible.is/bible/MARDPI/REV/10\n",
      "Saved content to: Bible_Texts\\प्रकटीकरणREV\\10.txt\n",
      "Processing URL: https://live.bible.is/bible/MARDPI/REV/11\n",
      "Retrying (-7/2) for URL: https://live.bible.is/bible/MARDPI/REV/11 due to error: 'NoneType' object has no attribute 'find_all'\n",
      "Saved content to: Bible_Texts\\प्रकटीकरणREV\\11.txt\n",
      "Processing URL: https://live.bible.is/bible/MARDPI/REV/12\n",
      "Retrying (-7/2) for URL: https://live.bible.is/bible/MARDPI/REV/12 due to error: 'NoneType' object has no attribute 'find_all'\n",
      "Saved content to: Bible_Texts\\प्रकटीकरणREV\\12.txt\n",
      "Processing URL: https://live.bible.is/bible/MARDPI/REV/13\n",
      "Retrying (-7/2) for URL: https://live.bible.is/bible/MARDPI/REV/13 due to error: 'NoneType' object has no attribute 'find_all'\n",
      "Saved content to: Bible_Texts\\प्रकटीकरणREV\\13.txt\n",
      "Processing URL: https://live.bible.is/bible/MARDPI/REV/14\n",
      "Retrying (-7/2) for URL: https://live.bible.is/bible/MARDPI/REV/14 due to error: 'NoneType' object has no attribute 'find_all'\n",
      "Retrying (-6/2) for URL: https://live.bible.is/bible/MARDPI/REV/14 due to error: 'NoneType' object has no attribute 'find_all'\n",
      "Saved content to: Bible_Texts\\प्रकटीकरणREV\\14.txt\n",
      "Processing URL: https://live.bible.is/bible/MARDPI/REV/15\n",
      "Saved content to: Bible_Texts\\प्रकटीकरणREV\\15.txt\n",
      "Processing URL: https://live.bible.is/bible/MARDPI/REV/16\n",
      "Saved content to: Bible_Texts\\प्रकटीकरणREV\\16.txt\n",
      "Processing URL: https://live.bible.is/bible/MARDPI/REV/17\n",
      "Retrying (-7/2) for URL: https://live.bible.is/bible/MARDPI/REV/17 due to error: 'NoneType' object has no attribute 'find_all'\n",
      "Saved content to: Bible_Texts\\प्रकटीकरणREV\\17.txt\n",
      "Processing URL: https://live.bible.is/bible/MARDPI/REV/18\n",
      "Saved content to: Bible_Texts\\प्रकटीकरणREV\\18.txt\n",
      "Processing URL: https://live.bible.is/bible/MARDPI/REV/19\n",
      "Saved content to: Bible_Texts\\प्रकटीकरणREV\\19.txt\n",
      "Processing URL: https://live.bible.is/bible/MARDPI/REV/20\n",
      "Saved content to: Bible_Texts\\प्रकटीकरणREV\\20.txt\n",
      "Processing URL: https://live.bible.is/bible/MARDPI/REV/21\n",
      "Saved content to: Bible_Texts\\प्रकटीकरणREV\\21.txt\n",
      "Processing URL: https://live.bible.is/bible/MARDPI/REV/22\n",
      "Saved content to: Bible_Texts\\प्रकटीकरणREV\\22.txt\n"
     ]
    }
   ],
   "source": [
    "from selenium import webdriver\n",
    "from selenium.webdriver.common.by import By\n",
    "from selenium.webdriver.support.ui import WebDriverWait\n",
    "from selenium.webdriver.support import expected_conditions as EC\n",
    "from bs4 import BeautifulSoup\n",
    "from urllib.parse import urljoin\n",
    "import os\n",
    "import time\n",
    "\n",
    "# Initialize the WebDriver and open the website\n",
    "driver = webdriver.Chrome()\n",
    "driver.get(\"https://live.bible.is/bible/MARDPI/GEN/3\")\n",
    "\n",
    "# Define the base folder path where everything will be downloaded\n",
    "base_folder_path = \"Bible_Texts\"\n",
    "\n",
    "try:\n",
    "    # Wait until the button is clickable\n",
    "    button = WebDriverWait(driver, 30).until(\n",
    "        EC.element_to_be_clickable((By.CLASS_NAME, \"book-chapter\"))\n",
    "    )\n",
    "    button.click()\n",
    "    print(\"Button clicked successfully.\")\n",
    "    \n",
    "    # Waiting for the content to load\n",
    "    WebDriverWait(driver, 10).until(\n",
    "        EC.presence_of_element_located((By.CLASS_NAME, \"testament-title\"))\n",
    "    )\n",
    "    \n",
    "    # Get the page source for parsing\n",
    "    time.sleep(3)  # Additional wait to ensure the page is fully loaded\n",
    "    page_source = driver.page_source\n",
    "    \n",
    "    # Parse the page source with BeautifulSoup\n",
    "    soup = BeautifulSoup(page_source, 'html.parser')\n",
    "    \n",
    "    # Find the target div with class 'testament-title' containing \"New Testament\"\n",
    "    target_div = soup.find('div', class_='testament-title', string=lambda text: text and \"New Testament\" in text)\n",
    "    \n",
    "    base_url = \"https://live.bible.is/\"\n",
    "\n",
    "    # Start with the next sibling of the target <div>\n",
    "    nxt_div = target_div.find_next_sibling()\n",
    "\n",
    "    while nxt_div and nxt_div.name == 'div' and 'book-button' in nxt_div.get('class', []):\n",
    "        try:\n",
    "            # Create a folder named after the id of the nxt_div within the base folder path\n",
    "            folder_name = nxt_div.get('id')\n",
    "            if folder_name:\n",
    "                folder_path = os.path.join(base_folder_path, folder_name)\n",
    "                os.makedirs(folder_path, exist_ok=True)\n",
    "                print(f\"Created folder: {folder_path}\")\n",
    "            \n",
    "            # Extract the href attributes of <a> tags within this <div>\n",
    "            link_index = 1\n",
    "            for a_tag in nxt_div.find_all('a', class_='chapter-box'):\n",
    "                full_url = urljoin(base_url, a_tag['href'])  # Convert to absolute URL\n",
    "                print(f\"Processing URL: {full_url}\")\n",
    "                \n",
    "                retry_count = 10\n",
    "                while retry_count > 0:\n",
    "                    try:\n",
    "                        \n",
    "                        text_content = extract_text_from_url(full_url)  # Extract text using the predefined function\n",
    "                        \n",
    "                        # Save the text content to a file named in numerical order within the folder\n",
    "                        file_path = os.path.join(folder_path, f\"{link_index}.txt\")\n",
    "                        with open(file_path, 'w', encoding='utf-8') as file:\n",
    "                            file.write(text_content)\n",
    "                        print(f\"Saved content to: {file_path}\")\n",
    "                        \n",
    "                        break  # Exit the retry loop if successful\n",
    "                    except Exception as e:\n",
    "                        retry_count -= 1\n",
    "                        if retry_count > 0:\n",
    "                            \n",
    "                            WebDriverWait(driver, 10).until(\n",
    "                                EC.element_to_be_clickable((By.ID, 'play-audio'))\n",
    "                            )\n",
    "                            time.sleep(5)\n",
    "                            \n",
    "                            print(f\"Retrying ({2 - retry_count}/2) for URL: {full_url} due to error: {e}\")\n",
    "                            time.sleep(5)  # Wait briefly to allow the page to reload\n",
    "\n",
    "                link_index += 1\n",
    "\n",
    "            # Move to the next sibling\n",
    "            nxt_div = nxt_div.find_next_sibling()\n",
    "        except Exception as e:\n",
    "            print(f\"Error processing div {folder_name}: {e}\")\n",
    "            nxt_div = nxt_div.find_next_sibling()  # Ensure to move to the next sibling even if there is an error\n",
    "except Exception as e:\n",
    "    print(f\"An error occurred: {e}\")\n",
    "finally:\n",
    "    # Close the driver\n",
    "    driver.quit()"
   ]
  },
  {
   "cell_type": "code",
   "execution_count": 19,
   "id": "ea4151d4",
   "metadata": {},
   "outputs": [
    {
     "ename": "SyntaxError",
     "evalue": "invalid syntax. Perhaps you forgot a comma? (2982615424.py, line 1)",
     "output_type": "error",
     "traceback": [
      "\u001b[1;36m  Cell \u001b[1;32mIn[19], line 1\u001b[1;36m\u001b[0m\n\u001b[1;33m    Folder_Aud = { मत्तयकृत शुभवर्तमानMAT: 'Matthew', मार्ककृत शुभवर्तमानMRK: 'Mark', लूककृत शुभवर्तमानLUK: 'Luke',\u001b[0m\n\u001b[1;37m                   ^\u001b[0m\n\u001b[1;31mSyntaxError\u001b[0m\u001b[1;31m:\u001b[0m invalid syntax. Perhaps you forgot a comma?\n"
     ]
    }
   ],
   "source": [
    "Folder_Aud = { मत्तयकृत शुभवर्तमानMAT: 'Matthew', मार्ककृत शुभवर्तमानMRK: 'Mark', लूककृत शुभवर्तमानLUK: 'Luke', \n",
    "              योहानकृत शुभवर्तमानJHN:'John', प्रेषितांची कृत्ये: 'Acts', रोमकरांस पत्रROM:'Romans',\n",
    "              करिंथकरांस पहिले पत्र: '1CorinthiansMARDPIN1DA', करिंथकरांस दुसरे पत्र: '2CorinthiansMARDPIN1DA', गलतीकरांस पत्र: 'Galatians', \n",
    "              इफिसकरांस पत्र: 'Ephesians', फिलिप्पैकरांस पत्र: 'Philippians', कलस्सैकरांस पत्र: 'Colossians',\n",
    "              थेस्सलनीकाकरांस पहिले पत्र: '1Thess', थेस्सलनीकाकरांस दुसरे पत्र: '2Thess', तीमथ्याला पहिले पत्र: '1Timothy', \n",
    "              तीमथ्याला दुसरे पत्र: '2Timonty', तीताला पत्र: 'Titus', फिलेमानाला पत्र: 'Philemon', इब्री लोकांस पत्र: 'Hebrews', \n",
    "              याकोबाचे पत्र: 'James',यहूदाचे पत्र:'Jude', योहानाचे पहिले पत्र: '1John', योहानाचे दुसरे पत्र: '2john', योहानाचे तिसरे पत्र: '3john', \n",
    "              प्रकटीकरण: 'Revelation' }"
   ]
  },
  {
   "cell_type": "code",
   "execution_count": 16,
   "id": "9f454b4b",
   "metadata": {},
   "outputs": [],
   "source": [
    "import os\n",
    "import re\n",
    "\n",
    "# Define the path to the folder containing the audio files\n",
    "audio_files_path = 'T:/MARDPIN1DA/Marathi_mar_DPI_NT_Non-Drama'\n",
    "\n",
    "# Function to rename audio files to '1Corinthians 04' format\n",
    "def rename_audio_files(path):\n",
    "    for file_name in os.listdir(path):\n",
    "        if file_name.endswith(('.mp3', '.wav')):  # Assuming audio files are in .mp3 or .wav format\n",
    "            # Use regex to extract the numeric value and book name\n",
    "            match = re.search(r'(\\d+)_(\\d+)_([A-Za-z]+)', file_name)\n",
    "            if match:\n",
    "                new_name = f\"{match.group(3)} {match.group(2).zfill(2)}{os.path.splitext(file_name)[1]}\"\n",
    "                old_file_path = os.path.join(path, file_name)\n",
    "                new_file_path = os.path.join(path, new_name)\n",
    "                \n",
    "                # Rename the file\n",
    "                os.rename(old_file_path, new_file_path)\n",
    "                print(f'Renamed \"{file_name}\" to \"{new_name}\"')\n",
    "\n",
    "# Call the function\n",
    "rename_audio_files(audio_files_path)\n"
   ]
  },
  {
   "cell_type": "code",
   "execution_count": 17,
   "id": "04550435",
   "metadata": {},
   "outputs": [],
   "source": []
  },
  {
   "cell_type": "code",
   "execution_count": 25,
   "id": "3b41f0f3",
   "metadata": {},
   "outputs": [
    {
     "name": "stdout",
     "output_type": "stream",
     "text": [
      "Renamed: C:/Users/TANAY/anaconda3/envs/SIT/Bible_Texts\\इफिसकरांस पत्रEPH\\B10___01_Ephesians___MARDPIN1DA.mp3 to C:/Users/TANAY/anaconda3/envs/SIT/Bible_Texts\\इफिसकरांस पत्रEPH\\_01_Ephesians___MARDPIN1DA.mp3\n",
      "Renamed: C:/Users/TANAY/anaconda3/envs/SIT/Bible_Texts\\इफिसकरांस पत्रEPH\\B10___02_Ephesians___MARDPIN1DA.mp3 to C:/Users/TANAY/anaconda3/envs/SIT/Bible_Texts\\इफिसकरांस पत्रEPH\\_02_Ephesians___MARDPIN1DA.mp3\n",
      "Renamed: C:/Users/TANAY/anaconda3/envs/SIT/Bible_Texts\\इफिसकरांस पत्रEPH\\B10___03_Ephesians___MARDPIN1DA.mp3 to C:/Users/TANAY/anaconda3/envs/SIT/Bible_Texts\\इफिसकरांस पत्रEPH\\_03_Ephesians___MARDPIN1DA.mp3\n",
      "Renamed: C:/Users/TANAY/anaconda3/envs/SIT/Bible_Texts\\इफिसकरांस पत्रEPH\\B10___04_Ephesians___MARDPIN1DA.mp3 to C:/Users/TANAY/anaconda3/envs/SIT/Bible_Texts\\इफिसकरांस पत्रEPH\\_04_Ephesians___MARDPIN1DA.mp3\n",
      "Renamed: C:/Users/TANAY/anaconda3/envs/SIT/Bible_Texts\\इफिसकरांस पत्रEPH\\B10___05_Ephesians___MARDPIN1DA.mp3 to C:/Users/TANAY/anaconda3/envs/SIT/Bible_Texts\\इफिसकरांस पत्रEPH\\_05_Ephesians___MARDPIN1DA.mp3\n",
      "Renamed: C:/Users/TANAY/anaconda3/envs/SIT/Bible_Texts\\इफिसकरांस पत्रEPH\\B10___06_Ephesians___MARDPIN1DA.mp3 to C:/Users/TANAY/anaconda3/envs/SIT/Bible_Texts\\इफिसकरांस पत्रEPH\\_06_Ephesians___MARDPIN1DA.mp3\n",
      "Renamed: C:/Users/TANAY/anaconda3/envs/SIT/Bible_Texts\\इब्री लोकांस पत्रHEB\\B19___01_Hebrews_____MARDPIN1DA.mp3 to C:/Users/TANAY/anaconda3/envs/SIT/Bible_Texts\\इब्री लोकांस पत्रHEB\\_01_Hebrews_____MARDPIN1DA.mp3\n",
      "Renamed: C:/Users/TANAY/anaconda3/envs/SIT/Bible_Texts\\इब्री लोकांस पत्रHEB\\B19___02_Hebrews_____MARDPIN1DA.mp3 to C:/Users/TANAY/anaconda3/envs/SIT/Bible_Texts\\इब्री लोकांस पत्रHEB\\_02_Hebrews_____MARDPIN1DA.mp3\n",
      "Renamed: C:/Users/TANAY/anaconda3/envs/SIT/Bible_Texts\\इब्री लोकांस पत्रHEB\\B19___03_Hebrews_____MARDPIN1DA.mp3 to C:/Users/TANAY/anaconda3/envs/SIT/Bible_Texts\\इब्री लोकांस पत्रHEB\\_03_Hebrews_____MARDPIN1DA.mp3\n",
      "Renamed: C:/Users/TANAY/anaconda3/envs/SIT/Bible_Texts\\इब्री लोकांस पत्रHEB\\B19___04_Hebrews_____MARDPIN1DA.mp3 to C:/Users/TANAY/anaconda3/envs/SIT/Bible_Texts\\इब्री लोकांस पत्रHEB\\_04_Hebrews_____MARDPIN1DA.mp3\n",
      "Renamed: C:/Users/TANAY/anaconda3/envs/SIT/Bible_Texts\\इब्री लोकांस पत्रHEB\\B19___05_Hebrews_____MARDPIN1DA.mp3 to C:/Users/TANAY/anaconda3/envs/SIT/Bible_Texts\\इब्री लोकांस पत्रHEB\\_05_Hebrews_____MARDPIN1DA.mp3\n",
      "Renamed: C:/Users/TANAY/anaconda3/envs/SIT/Bible_Texts\\इब्री लोकांस पत्रHEB\\B19___06_Hebrews_____MARDPIN1DA.mp3 to C:/Users/TANAY/anaconda3/envs/SIT/Bible_Texts\\इब्री लोकांस पत्रHEB\\_06_Hebrews_____MARDPIN1DA.mp3\n",
      "Renamed: C:/Users/TANAY/anaconda3/envs/SIT/Bible_Texts\\इब्री लोकांस पत्रHEB\\B19___07_Hebrews_____MARDPIN1DA.mp3 to C:/Users/TANAY/anaconda3/envs/SIT/Bible_Texts\\इब्री लोकांस पत्रHEB\\_07_Hebrews_____MARDPIN1DA.mp3\n",
      "Renamed: C:/Users/TANAY/anaconda3/envs/SIT/Bible_Texts\\इब्री लोकांस पत्रHEB\\B19___08_Hebrews_____MARDPIN1DA.mp3 to C:/Users/TANAY/anaconda3/envs/SIT/Bible_Texts\\इब्री लोकांस पत्रHEB\\_08_Hebrews_____MARDPIN1DA.mp3\n",
      "Renamed: C:/Users/TANAY/anaconda3/envs/SIT/Bible_Texts\\इब्री लोकांस पत्रHEB\\B19___09_Hebrews_____MARDPIN1DA.mp3 to C:/Users/TANAY/anaconda3/envs/SIT/Bible_Texts\\इब्री लोकांस पत्रHEB\\_09_Hebrews_____MARDPIN1DA.mp3\n",
      "Renamed: C:/Users/TANAY/anaconda3/envs/SIT/Bible_Texts\\इब्री लोकांस पत्रHEB\\B19___10_Hebrews_____MARDPIN1DA.mp3 to C:/Users/TANAY/anaconda3/envs/SIT/Bible_Texts\\इब्री लोकांस पत्रHEB\\_10_Hebrews_____MARDPIN1DA.mp3\n",
      "Renamed: C:/Users/TANAY/anaconda3/envs/SIT/Bible_Texts\\इब्री लोकांस पत्रHEB\\B19___11_Hebrews_____MARDPIN1DA.mp3 to C:/Users/TANAY/anaconda3/envs/SIT/Bible_Texts\\इब्री लोकांस पत्रHEB\\_11_Hebrews_____MARDPIN1DA.mp3\n",
      "Renamed: C:/Users/TANAY/anaconda3/envs/SIT/Bible_Texts\\इब्री लोकांस पत्रHEB\\B19___12_Hebrews_____MARDPIN1DA.mp3 to C:/Users/TANAY/anaconda3/envs/SIT/Bible_Texts\\इब्री लोकांस पत्रHEB\\_12_Hebrews_____MARDPIN1DA.mp3\n",
      "Renamed: C:/Users/TANAY/anaconda3/envs/SIT/Bible_Texts\\इब्री लोकांस पत्रHEB\\B19___13_Hebrews_____MARDPIN1DA.mp3 to C:/Users/TANAY/anaconda3/envs/SIT/Bible_Texts\\इब्री लोकांस पत्रHEB\\_13_Hebrews_____MARDPIN1DA.mp3\n",
      "Renamed: C:/Users/TANAY/anaconda3/envs/SIT/Bible_Texts\\करिंथकरांस दुसरे पत्र2CO\\B08___01_2CorinthiansMARDPIN1DA.mp3 to C:/Users/TANAY/anaconda3/envs/SIT/Bible_Texts\\करिंथकरांस दुसरे पत्र2CO\\_01_2CorinthiansMARDPIN1DA.mp3\n",
      "Renamed: C:/Users/TANAY/anaconda3/envs/SIT/Bible_Texts\\करिंथकरांस दुसरे पत्र2CO\\B08___02_2CorinthiansMARDPIN1DA.mp3 to C:/Users/TANAY/anaconda3/envs/SIT/Bible_Texts\\करिंथकरांस दुसरे पत्र2CO\\_02_2CorinthiansMARDPIN1DA.mp3\n",
      "Renamed: C:/Users/TANAY/anaconda3/envs/SIT/Bible_Texts\\करिंथकरांस दुसरे पत्र2CO\\B08___03_2CorinthiansMARDPIN1DA.mp3 to C:/Users/TANAY/anaconda3/envs/SIT/Bible_Texts\\करिंथकरांस दुसरे पत्र2CO\\_03_2CorinthiansMARDPIN1DA.mp3\n",
      "Renamed: C:/Users/TANAY/anaconda3/envs/SIT/Bible_Texts\\करिंथकरांस दुसरे पत्र2CO\\B08___04_2CorinthiansMARDPIN1DA.mp3 to C:/Users/TANAY/anaconda3/envs/SIT/Bible_Texts\\करिंथकरांस दुसरे पत्र2CO\\_04_2CorinthiansMARDPIN1DA.mp3\n",
      "Renamed: C:/Users/TANAY/anaconda3/envs/SIT/Bible_Texts\\करिंथकरांस दुसरे पत्र2CO\\B08___05_2CorinthiansMARDPIN1DA.mp3 to C:/Users/TANAY/anaconda3/envs/SIT/Bible_Texts\\करिंथकरांस दुसरे पत्र2CO\\_05_2CorinthiansMARDPIN1DA.mp3\n",
      "Renamed: C:/Users/TANAY/anaconda3/envs/SIT/Bible_Texts\\करिंथकरांस दुसरे पत्र2CO\\B08___06_2CorinthiansMARDPIN1DA.mp3 to C:/Users/TANAY/anaconda3/envs/SIT/Bible_Texts\\करिंथकरांस दुसरे पत्र2CO\\_06_2CorinthiansMARDPIN1DA.mp3\n",
      "Renamed: C:/Users/TANAY/anaconda3/envs/SIT/Bible_Texts\\करिंथकरांस दुसरे पत्र2CO\\B08___07_2CorinthiansMARDPIN1DA.mp3 to C:/Users/TANAY/anaconda3/envs/SIT/Bible_Texts\\करिंथकरांस दुसरे पत्र2CO\\_07_2CorinthiansMARDPIN1DA.mp3\n",
      "Renamed: C:/Users/TANAY/anaconda3/envs/SIT/Bible_Texts\\करिंथकरांस दुसरे पत्र2CO\\B08___08_2CorinthiansMARDPIN1DA.mp3 to C:/Users/TANAY/anaconda3/envs/SIT/Bible_Texts\\करिंथकरांस दुसरे पत्र2CO\\_08_2CorinthiansMARDPIN1DA.mp3\n",
      "Renamed: C:/Users/TANAY/anaconda3/envs/SIT/Bible_Texts\\करिंथकरांस दुसरे पत्र2CO\\B08___09_2CorinthiansMARDPIN1DA.mp3 to C:/Users/TANAY/anaconda3/envs/SIT/Bible_Texts\\करिंथकरांस दुसरे पत्र2CO\\_09_2CorinthiansMARDPIN1DA.mp3\n",
      "Renamed: C:/Users/TANAY/anaconda3/envs/SIT/Bible_Texts\\करिंथकरांस दुसरे पत्र2CO\\B08___10_2CorinthiansMARDPIN1DA.mp3 to C:/Users/TANAY/anaconda3/envs/SIT/Bible_Texts\\करिंथकरांस दुसरे पत्र2CO\\_10_2CorinthiansMARDPIN1DA.mp3\n",
      "Renamed: C:/Users/TANAY/anaconda3/envs/SIT/Bible_Texts\\करिंथकरांस दुसरे पत्र2CO\\B08___11_2CorinthiansMARDPIN1DA.mp3 to C:/Users/TANAY/anaconda3/envs/SIT/Bible_Texts\\करिंथकरांस दुसरे पत्र2CO\\_11_2CorinthiansMARDPIN1DA.mp3\n",
      "Renamed: C:/Users/TANAY/anaconda3/envs/SIT/Bible_Texts\\करिंथकरांस दुसरे पत्र2CO\\B08___12_2CorinthiansMARDPIN1DA.mp3 to C:/Users/TANAY/anaconda3/envs/SIT/Bible_Texts\\करिंथकरांस दुसरे पत्र2CO\\_12_2CorinthiansMARDPIN1DA.mp3\n",
      "Renamed: C:/Users/TANAY/anaconda3/envs/SIT/Bible_Texts\\करिंथकरांस दुसरे पत्र2CO\\B08___13_2CorinthiansMARDPIN1DA.mp3 to C:/Users/TANAY/anaconda3/envs/SIT/Bible_Texts\\करिंथकरांस दुसरे पत्र2CO\\_13_2CorinthiansMARDPIN1DA.mp3\n",
      "Renamed: C:/Users/TANAY/anaconda3/envs/SIT/Bible_Texts\\करिंथकरांस पहिले पत्र1CO\\B07___01_1CorinthiansMARDPIN1DA.mp3 to C:/Users/TANAY/anaconda3/envs/SIT/Bible_Texts\\करिंथकरांस पहिले पत्र1CO\\_01_1CorinthiansMARDPIN1DA.mp3\n",
      "Renamed: C:/Users/TANAY/anaconda3/envs/SIT/Bible_Texts\\करिंथकरांस पहिले पत्र1CO\\B07___02_1CorinthiansMARDPIN1DA.mp3 to C:/Users/TANAY/anaconda3/envs/SIT/Bible_Texts\\करिंथकरांस पहिले पत्र1CO\\_02_1CorinthiansMARDPIN1DA.mp3\n",
      "Renamed: C:/Users/TANAY/anaconda3/envs/SIT/Bible_Texts\\करिंथकरांस पहिले पत्र1CO\\B07___03_1CorinthiansMARDPIN1DA.mp3 to C:/Users/TANAY/anaconda3/envs/SIT/Bible_Texts\\करिंथकरांस पहिले पत्र1CO\\_03_1CorinthiansMARDPIN1DA.mp3\n",
      "Renamed: C:/Users/TANAY/anaconda3/envs/SIT/Bible_Texts\\करिंथकरांस पहिले पत्र1CO\\B07___04_1CorinthiansMARDPIN1DA.mp3 to C:/Users/TANAY/anaconda3/envs/SIT/Bible_Texts\\करिंथकरांस पहिले पत्र1CO\\_04_1CorinthiansMARDPIN1DA.mp3\n",
      "Renamed: C:/Users/TANAY/anaconda3/envs/SIT/Bible_Texts\\करिंथकरांस पहिले पत्र1CO\\B07___05_1CorinthiansMARDPIN1DA.mp3 to C:/Users/TANAY/anaconda3/envs/SIT/Bible_Texts\\करिंथकरांस पहिले पत्र1CO\\_05_1CorinthiansMARDPIN1DA.mp3\n",
      "Renamed: C:/Users/TANAY/anaconda3/envs/SIT/Bible_Texts\\करिंथकरांस पहिले पत्र1CO\\B07___06_1CorinthiansMARDPIN1DA.mp3 to C:/Users/TANAY/anaconda3/envs/SIT/Bible_Texts\\करिंथकरांस पहिले पत्र1CO\\_06_1CorinthiansMARDPIN1DA.mp3\n",
      "Renamed: C:/Users/TANAY/anaconda3/envs/SIT/Bible_Texts\\करिंथकरांस पहिले पत्र1CO\\B07___07_1CorinthiansMARDPIN1DA.mp3 to C:/Users/TANAY/anaconda3/envs/SIT/Bible_Texts\\करिंथकरांस पहिले पत्र1CO\\_07_1CorinthiansMARDPIN1DA.mp3\n",
      "Renamed: C:/Users/TANAY/anaconda3/envs/SIT/Bible_Texts\\करिंथकरांस पहिले पत्र1CO\\B07___08_1CorinthiansMARDPIN1DA.mp3 to C:/Users/TANAY/anaconda3/envs/SIT/Bible_Texts\\करिंथकरांस पहिले पत्र1CO\\_08_1CorinthiansMARDPIN1DA.mp3\n",
      "Renamed: C:/Users/TANAY/anaconda3/envs/SIT/Bible_Texts\\करिंथकरांस पहिले पत्र1CO\\B07___09_1CorinthiansMARDPIN1DA.mp3 to C:/Users/TANAY/anaconda3/envs/SIT/Bible_Texts\\करिंथकरांस पहिले पत्र1CO\\_09_1CorinthiansMARDPIN1DA.mp3\n",
      "Renamed: C:/Users/TANAY/anaconda3/envs/SIT/Bible_Texts\\करिंथकरांस पहिले पत्र1CO\\B07___10_1CorinthiansMARDPIN1DA.mp3 to C:/Users/TANAY/anaconda3/envs/SIT/Bible_Texts\\करिंथकरांस पहिले पत्र1CO\\_10_1CorinthiansMARDPIN1DA.mp3\n",
      "Renamed: C:/Users/TANAY/anaconda3/envs/SIT/Bible_Texts\\करिंथकरांस पहिले पत्र1CO\\B07___11_1CorinthiansMARDPIN1DA.mp3 to C:/Users/TANAY/anaconda3/envs/SIT/Bible_Texts\\करिंथकरांस पहिले पत्र1CO\\_11_1CorinthiansMARDPIN1DA.mp3\n",
      "Renamed: C:/Users/TANAY/anaconda3/envs/SIT/Bible_Texts\\करिंथकरांस पहिले पत्र1CO\\B07___12_1CorinthiansMARDPIN1DA.mp3 to C:/Users/TANAY/anaconda3/envs/SIT/Bible_Texts\\करिंथकरांस पहिले पत्र1CO\\_12_1CorinthiansMARDPIN1DA.mp3\n",
      "Renamed: C:/Users/TANAY/anaconda3/envs/SIT/Bible_Texts\\करिंथकरांस पहिले पत्र1CO\\B07___13_1CorinthiansMARDPIN1DA.mp3 to C:/Users/TANAY/anaconda3/envs/SIT/Bible_Texts\\करिंथकरांस पहिले पत्र1CO\\_13_1CorinthiansMARDPIN1DA.mp3\n",
      "Renamed: C:/Users/TANAY/anaconda3/envs/SIT/Bible_Texts\\करिंथकरांस पहिले पत्र1CO\\B07___14_1CorinthiansMARDPIN1DA.mp3 to C:/Users/TANAY/anaconda3/envs/SIT/Bible_Texts\\करिंथकरांस पहिले पत्र1CO\\_14_1CorinthiansMARDPIN1DA.mp3\n",
      "Renamed: C:/Users/TANAY/anaconda3/envs/SIT/Bible_Texts\\करिंथकरांस पहिले पत्र1CO\\B07___15_1CorinthiansMARDPIN1DA.mp3 to C:/Users/TANAY/anaconda3/envs/SIT/Bible_Texts\\करिंथकरांस पहिले पत्र1CO\\_15_1CorinthiansMARDPIN1DA.mp3\n",
      "Renamed: C:/Users/TANAY/anaconda3/envs/SIT/Bible_Texts\\करिंथकरांस पहिले पत्र1CO\\B07___16_1CorinthiansMARDPIN1DA.mp3 to C:/Users/TANAY/anaconda3/envs/SIT/Bible_Texts\\करिंथकरांस पहिले पत्र1CO\\_16_1CorinthiansMARDPIN1DA.mp3\n",
      "Renamed: C:/Users/TANAY/anaconda3/envs/SIT/Bible_Texts\\कलस्सैकरांस पत्रCOL\\B12___01_Colossians__MARDPIN1DA.mp3 to C:/Users/TANAY/anaconda3/envs/SIT/Bible_Texts\\कलस्सैकरांस पत्रCOL\\_01_Colossians__MARDPIN1DA.mp3\n",
      "Renamed: C:/Users/TANAY/anaconda3/envs/SIT/Bible_Texts\\कलस्सैकरांस पत्रCOL\\B12___02_Colossians__MARDPIN1DA.mp3 to C:/Users/TANAY/anaconda3/envs/SIT/Bible_Texts\\कलस्सैकरांस पत्रCOL\\_02_Colossians__MARDPIN1DA.mp3\n",
      "Renamed: C:/Users/TANAY/anaconda3/envs/SIT/Bible_Texts\\कलस्सैकरांस पत्रCOL\\B12___03_Colossians__MARDPIN1DA.mp3 to C:/Users/TANAY/anaconda3/envs/SIT/Bible_Texts\\कलस्सैकरांस पत्रCOL\\_03_Colossians__MARDPIN1DA.mp3\n",
      "Renamed: C:/Users/TANAY/anaconda3/envs/SIT/Bible_Texts\\कलस्सैकरांस पत्रCOL\\B12___04_Colossians__MARDPIN1DA.mp3 to C:/Users/TANAY/anaconda3/envs/SIT/Bible_Texts\\कलस्सैकरांस पत्रCOL\\_04_Colossians__MARDPIN1DA.mp3\n",
      "Renamed: C:/Users/TANAY/anaconda3/envs/SIT/Bible_Texts\\गलतीकरांस पत्रGAL\\B09___01_Galatians___MARDPIN1DA.mp3 to C:/Users/TANAY/anaconda3/envs/SIT/Bible_Texts\\गलतीकरांस पत्रGAL\\_01_Galatians___MARDPIN1DA.mp3\n",
      "Renamed: C:/Users/TANAY/anaconda3/envs/SIT/Bible_Texts\\गलतीकरांस पत्रGAL\\B09___02_Galatians___MARDPIN1DA.mp3 to C:/Users/TANAY/anaconda3/envs/SIT/Bible_Texts\\गलतीकरांस पत्रGAL\\_02_Galatians___MARDPIN1DA.mp3\n",
      "Renamed: C:/Users/TANAY/anaconda3/envs/SIT/Bible_Texts\\गलतीकरांस पत्रGAL\\B09___03_Galatians___MARDPIN1DA.mp3 to C:/Users/TANAY/anaconda3/envs/SIT/Bible_Texts\\गलतीकरांस पत्रGAL\\_03_Galatians___MARDPIN1DA.mp3\n",
      "Renamed: C:/Users/TANAY/anaconda3/envs/SIT/Bible_Texts\\गलतीकरांस पत्रGAL\\B09___04_Galatians___MARDPIN1DA.mp3 to C:/Users/TANAY/anaconda3/envs/SIT/Bible_Texts\\गलतीकरांस पत्रGAL\\_04_Galatians___MARDPIN1DA.mp3\n",
      "Renamed: C:/Users/TANAY/anaconda3/envs/SIT/Bible_Texts\\गलतीकरांस पत्रGAL\\B09___05_Galatians___MARDPIN1DA.mp3 to C:/Users/TANAY/anaconda3/envs/SIT/Bible_Texts\\गलतीकरांस पत्रGAL\\_05_Galatians___MARDPIN1DA.mp3\n",
      "Renamed: C:/Users/TANAY/anaconda3/envs/SIT/Bible_Texts\\गलतीकरांस पत्रGAL\\B09___06_Galatians___MARDPIN1DA.mp3 to C:/Users/TANAY/anaconda3/envs/SIT/Bible_Texts\\गलतीकरांस पत्रGAL\\_06_Galatians___MARDPIN1DA.mp3\n",
      "Renamed: C:/Users/TANAY/anaconda3/envs/SIT/Bible_Texts\\तीताला पत्रTIT\\B17___01_Titus_______MARDPIN1DA.mp3 to C:/Users/TANAY/anaconda3/envs/SIT/Bible_Texts\\तीताला पत्रTIT\\_01_Titus_______MARDPIN1DA.mp3\n",
      "Renamed: C:/Users/TANAY/anaconda3/envs/SIT/Bible_Texts\\तीताला पत्रTIT\\B17___02_Titus_______MARDPIN1DA.mp3 to C:/Users/TANAY/anaconda3/envs/SIT/Bible_Texts\\तीताला पत्रTIT\\_02_Titus_______MARDPIN1DA.mp3\n",
      "Renamed: C:/Users/TANAY/anaconda3/envs/SIT/Bible_Texts\\तीताला पत्रTIT\\B17___03_Titus_______MARDPIN1DA.mp3 to C:/Users/TANAY/anaconda3/envs/SIT/Bible_Texts\\तीताला पत्रTIT\\_03_Titus_______MARDPIN1DA.mp3\n",
      "Renamed: C:/Users/TANAY/anaconda3/envs/SIT/Bible_Texts\\तीमथ्याला दुसरे पत्र2TI\\B16___01_2Timothy____MARDPIN1DA.mp3 to C:/Users/TANAY/anaconda3/envs/SIT/Bible_Texts\\तीमथ्याला दुसरे पत्र2TI\\_01_2Timothy____MARDPIN1DA.mp3\n",
      "Renamed: C:/Users/TANAY/anaconda3/envs/SIT/Bible_Texts\\तीमथ्याला दुसरे पत्र2TI\\B16___02_2Timothy____MARDPIN1DA.mp3 to C:/Users/TANAY/anaconda3/envs/SIT/Bible_Texts\\तीमथ्याला दुसरे पत्र2TI\\_02_2Timothy____MARDPIN1DA.mp3\n",
      "Renamed: C:/Users/TANAY/anaconda3/envs/SIT/Bible_Texts\\तीमथ्याला दुसरे पत्र2TI\\B16___03_2Timothy____MARDPIN1DA.mp3 to C:/Users/TANAY/anaconda3/envs/SIT/Bible_Texts\\तीमथ्याला दुसरे पत्र2TI\\_03_2Timothy____MARDPIN1DA.mp3\n",
      "Renamed: C:/Users/TANAY/anaconda3/envs/SIT/Bible_Texts\\तीमथ्याला दुसरे पत्र2TI\\B16___04_2Timothy____MARDPIN1DA.mp3 to C:/Users/TANAY/anaconda3/envs/SIT/Bible_Texts\\तीमथ्याला दुसरे पत्र2TI\\_04_2Timothy____MARDPIN1DA.mp3\n",
      "Renamed: C:/Users/TANAY/anaconda3/envs/SIT/Bible_Texts\\तीमथ्याला पहिले पत्र1TI\\B15___01_1Timothy____MARDPIN1DA.mp3 to C:/Users/TANAY/anaconda3/envs/SIT/Bible_Texts\\तीमथ्याला पहिले पत्र1TI\\_01_1Timothy____MARDPIN1DA.mp3\n",
      "Renamed: C:/Users/TANAY/anaconda3/envs/SIT/Bible_Texts\\तीमथ्याला पहिले पत्र1TI\\B15___02_1Timothy____MARDPIN1DA.mp3 to C:/Users/TANAY/anaconda3/envs/SIT/Bible_Texts\\तीमथ्याला पहिले पत्र1TI\\_02_1Timothy____MARDPIN1DA.mp3\n",
      "Renamed: C:/Users/TANAY/anaconda3/envs/SIT/Bible_Texts\\तीमथ्याला पहिले पत्र1TI\\B15___03_1Timothy____MARDPIN1DA.mp3 to C:/Users/TANAY/anaconda3/envs/SIT/Bible_Texts\\तीमथ्याला पहिले पत्र1TI\\_03_1Timothy____MARDPIN1DA.mp3\n",
      "Renamed: C:/Users/TANAY/anaconda3/envs/SIT/Bible_Texts\\तीमथ्याला पहिले पत्र1TI\\B15___04_1Timothy____MARDPIN1DA.mp3 to C:/Users/TANAY/anaconda3/envs/SIT/Bible_Texts\\तीमथ्याला पहिले पत्र1TI\\_04_1Timothy____MARDPIN1DA.mp3\n",
      "Renamed: C:/Users/TANAY/anaconda3/envs/SIT/Bible_Texts\\तीमथ्याला पहिले पत्र1TI\\B15___05_1Timothy____MARDPIN1DA.mp3 to C:/Users/TANAY/anaconda3/envs/SIT/Bible_Texts\\तीमथ्याला पहिले पत्र1TI\\_05_1Timothy____MARDPIN1DA.mp3\n",
      "Renamed: C:/Users/TANAY/anaconda3/envs/SIT/Bible_Texts\\तीमथ्याला पहिले पत्र1TI\\B15___06_1Timothy____MARDPIN1DA.mp3 to C:/Users/TANAY/anaconda3/envs/SIT/Bible_Texts\\तीमथ्याला पहिले पत्र1TI\\_06_1Timothy____MARDPIN1DA.mp3\n",
      "Renamed: C:/Users/TANAY/anaconda3/envs/SIT/Bible_Texts\\थेस्सलनीकाकरांस दुसरे पत्र2TH\\B14___01_2Thess______MARDPIN1DA.mp3 to C:/Users/TANAY/anaconda3/envs/SIT/Bible_Texts\\थेस्सलनीकाकरांस दुसरे पत्र2TH\\_01_2Thess______MARDPIN1DA.mp3\n",
      "Renamed: C:/Users/TANAY/anaconda3/envs/SIT/Bible_Texts\\थेस्सलनीकाकरांस दुसरे पत्र2TH\\B14___02_2Thess______MARDPIN1DA.mp3 to C:/Users/TANAY/anaconda3/envs/SIT/Bible_Texts\\थेस्सलनीकाकरांस दुसरे पत्र2TH\\_02_2Thess______MARDPIN1DA.mp3\n",
      "Renamed: C:/Users/TANAY/anaconda3/envs/SIT/Bible_Texts\\थेस्सलनीकाकरांस दुसरे पत्र2TH\\B14___03_2Thess______MARDPIN1DA.mp3 to C:/Users/TANAY/anaconda3/envs/SIT/Bible_Texts\\थेस्सलनीकाकरांस दुसरे पत्र2TH\\_03_2Thess______MARDPIN1DA.mp3\n",
      "Renamed: C:/Users/TANAY/anaconda3/envs/SIT/Bible_Texts\\थेस्सलनीकाकरांस पहिले पत्र1TH\\B13___01_1Thess______MARDPIN1DA.mp3 to C:/Users/TANAY/anaconda3/envs/SIT/Bible_Texts\\थेस्सलनीकाकरांस पहिले पत्र1TH\\_01_1Thess______MARDPIN1DA.mp3\n",
      "Renamed: C:/Users/TANAY/anaconda3/envs/SIT/Bible_Texts\\थेस्सलनीकाकरांस पहिले पत्र1TH\\B13___02_1Thess______MARDPIN1DA.mp3 to C:/Users/TANAY/anaconda3/envs/SIT/Bible_Texts\\थेस्सलनीकाकरांस पहिले पत्र1TH\\_02_1Thess______MARDPIN1DA.mp3\n",
      "Renamed: C:/Users/TANAY/anaconda3/envs/SIT/Bible_Texts\\थेस्सलनीकाकरांस पहिले पत्र1TH\\B13___03_1Thess______MARDPIN1DA.mp3 to C:/Users/TANAY/anaconda3/envs/SIT/Bible_Texts\\थेस्सलनीकाकरांस पहिले पत्र1TH\\_03_1Thess______MARDPIN1DA.mp3\n",
      "Renamed: C:/Users/TANAY/anaconda3/envs/SIT/Bible_Texts\\थेस्सलनीकाकरांस पहिले पत्र1TH\\B13___04_1Thess______MARDPIN1DA.mp3 to C:/Users/TANAY/anaconda3/envs/SIT/Bible_Texts\\थेस्सलनीकाकरांस पहिले पत्र1TH\\_04_1Thess______MARDPIN1DA.mp3\n",
      "Renamed: C:/Users/TANAY/anaconda3/envs/SIT/Bible_Texts\\थेस्सलनीकाकरांस पहिले पत्र1TH\\B13___05_1Thess______MARDPIN1DA.mp3 to C:/Users/TANAY/anaconda3/envs/SIT/Bible_Texts\\थेस्सलनीकाकरांस पहिले पत्र1TH\\_05_1Thess______MARDPIN1DA.mp3\n",
      "Renamed: C:/Users/TANAY/anaconda3/envs/SIT/Bible_Texts\\पेत्राचे दुसरे पत्र2PE\\B22___01_2Peter______MARDPIN1DA.mp3 to C:/Users/TANAY/anaconda3/envs/SIT/Bible_Texts\\पेत्राचे दुसरे पत्र2PE\\_01_2Peter______MARDPIN1DA.mp3\n",
      "Renamed: C:/Users/TANAY/anaconda3/envs/SIT/Bible_Texts\\पेत्राचे दुसरे पत्र2PE\\B22___02_2Peter______MARDPIN1DA.mp3 to C:/Users/TANAY/anaconda3/envs/SIT/Bible_Texts\\पेत्राचे दुसरे पत्र2PE\\_02_2Peter______MARDPIN1DA.mp3\n",
      "Renamed: C:/Users/TANAY/anaconda3/envs/SIT/Bible_Texts\\पेत्राचे दुसरे पत्र2PE\\B22___03_2Peter______MARDPIN1DA.mp3 to C:/Users/TANAY/anaconda3/envs/SIT/Bible_Texts\\पेत्राचे दुसरे पत्र2PE\\_03_2Peter______MARDPIN1DA.mp3\n",
      "Renamed: C:/Users/TANAY/anaconda3/envs/SIT/Bible_Texts\\पेत्राचे पहिले पत्र1PE\\B21___01_1Peter______MARDPIN1DA.mp3 to C:/Users/TANAY/anaconda3/envs/SIT/Bible_Texts\\पेत्राचे पहिले पत्र1PE\\_01_1Peter______MARDPIN1DA.mp3\n",
      "Renamed: C:/Users/TANAY/anaconda3/envs/SIT/Bible_Texts\\पेत्राचे पहिले पत्र1PE\\B21___02_1Peter______MARDPIN1DA.mp3 to C:/Users/TANAY/anaconda3/envs/SIT/Bible_Texts\\पेत्राचे पहिले पत्र1PE\\_02_1Peter______MARDPIN1DA.mp3\n",
      "Renamed: C:/Users/TANAY/anaconda3/envs/SIT/Bible_Texts\\पेत्राचे पहिले पत्र1PE\\B21___03_1Peter______MARDPIN1DA.mp3 to C:/Users/TANAY/anaconda3/envs/SIT/Bible_Texts\\पेत्राचे पहिले पत्र1PE\\_03_1Peter______MARDPIN1DA.mp3\n",
      "Renamed: C:/Users/TANAY/anaconda3/envs/SIT/Bible_Texts\\पेत्राचे पहिले पत्र1PE\\B21___04_1Peter______MARDPIN1DA.mp3 to C:/Users/TANAY/anaconda3/envs/SIT/Bible_Texts\\पेत्राचे पहिले पत्र1PE\\_04_1Peter______MARDPIN1DA.mp3\n",
      "Renamed: C:/Users/TANAY/anaconda3/envs/SIT/Bible_Texts\\पेत्राचे पहिले पत्र1PE\\B21___05_1Peter______MARDPIN1DA.mp3 to C:/Users/TANAY/anaconda3/envs/SIT/Bible_Texts\\पेत्राचे पहिले पत्र1PE\\_05_1Peter______MARDPIN1DA.mp3\n",
      "Renamed: C:/Users/TANAY/anaconda3/envs/SIT/Bible_Texts\\प्रकटीकरणREV\\B05___01_Acts________MARDPIN1DA.mp3 to C:/Users/TANAY/anaconda3/envs/SIT/Bible_Texts\\प्रकटीकरणREV\\_01_Acts________MARDPIN1DA.mp3\n",
      "Renamed: C:/Users/TANAY/anaconda3/envs/SIT/Bible_Texts\\प्रकटीकरणREV\\B05___02_Acts________MARDPIN1DA.mp3 to C:/Users/TANAY/anaconda3/envs/SIT/Bible_Texts\\प्रकटीकरणREV\\_02_Acts________MARDPIN1DA.mp3\n",
      "Renamed: C:/Users/TANAY/anaconda3/envs/SIT/Bible_Texts\\प्रकटीकरणREV\\B05___03_Acts________MARDPIN1DA.mp3 to C:/Users/TANAY/anaconda3/envs/SIT/Bible_Texts\\प्रकटीकरणREV\\_03_Acts________MARDPIN1DA.mp3\n",
      "Renamed: C:/Users/TANAY/anaconda3/envs/SIT/Bible_Texts\\प्रकटीकरणREV\\B05___04_Acts________MARDPIN1DA.mp3 to C:/Users/TANAY/anaconda3/envs/SIT/Bible_Texts\\प्रकटीकरणREV\\_04_Acts________MARDPIN1DA.mp3\n",
      "Renamed: C:/Users/TANAY/anaconda3/envs/SIT/Bible_Texts\\प्रकटीकरणREV\\B05___05_Acts________MARDPIN1DA.mp3 to C:/Users/TANAY/anaconda3/envs/SIT/Bible_Texts\\प्रकटीकरणREV\\_05_Acts________MARDPIN1DA.mp3\n",
      "Renamed: C:/Users/TANAY/anaconda3/envs/SIT/Bible_Texts\\प्रकटीकरणREV\\B05___06_Acts________MARDPIN1DA.mp3 to C:/Users/TANAY/anaconda3/envs/SIT/Bible_Texts\\प्रकटीकरणREV\\_06_Acts________MARDPIN1DA.mp3\n",
      "Renamed: C:/Users/TANAY/anaconda3/envs/SIT/Bible_Texts\\प्रकटीकरणREV\\B05___07_Acts________MARDPIN1DA.mp3 to C:/Users/TANAY/anaconda3/envs/SIT/Bible_Texts\\प्रकटीकरणREV\\_07_Acts________MARDPIN1DA.mp3\n",
      "Renamed: C:/Users/TANAY/anaconda3/envs/SIT/Bible_Texts\\प्रकटीकरणREV\\B05___08_Acts________MARDPIN1DA.mp3 to C:/Users/TANAY/anaconda3/envs/SIT/Bible_Texts\\प्रकटीकरणREV\\_08_Acts________MARDPIN1DA.mp3\n",
      "Renamed: C:/Users/TANAY/anaconda3/envs/SIT/Bible_Texts\\प्रकटीकरणREV\\B05___09_Acts________MARDPIN1DA.mp3 to C:/Users/TANAY/anaconda3/envs/SIT/Bible_Texts\\प्रकटीकरणREV\\_09_Acts________MARDPIN1DA.mp3\n",
      "Renamed: C:/Users/TANAY/anaconda3/envs/SIT/Bible_Texts\\प्रकटीकरणREV\\B05___10_Acts________MARDPIN1DA.mp3 to C:/Users/TANAY/anaconda3/envs/SIT/Bible_Texts\\प्रकटीकरणREV\\_10_Acts________MARDPIN1DA.mp3\n",
      "Renamed: C:/Users/TANAY/anaconda3/envs/SIT/Bible_Texts\\प्रकटीकरणREV\\B05___11_Acts________MARDPIN1DA.mp3 to C:/Users/TANAY/anaconda3/envs/SIT/Bible_Texts\\प्रकटीकरणREV\\_11_Acts________MARDPIN1DA.mp3\n",
      "Renamed: C:/Users/TANAY/anaconda3/envs/SIT/Bible_Texts\\प्रकटीकरणREV\\B05___12_Acts________MARDPIN1DA.mp3 to C:/Users/TANAY/anaconda3/envs/SIT/Bible_Texts\\प्रकटीकरणREV\\_12_Acts________MARDPIN1DA.mp3\n",
      "Renamed: C:/Users/TANAY/anaconda3/envs/SIT/Bible_Texts\\प्रकटीकरणREV\\B05___13_Acts________MARDPIN1DA.mp3 to C:/Users/TANAY/anaconda3/envs/SIT/Bible_Texts\\प्रकटीकरणREV\\_13_Acts________MARDPIN1DA.mp3\n",
      "Renamed: C:/Users/TANAY/anaconda3/envs/SIT/Bible_Texts\\प्रकटीकरणREV\\B05___14_Acts________MARDPIN1DA.mp3 to C:/Users/TANAY/anaconda3/envs/SIT/Bible_Texts\\प्रकटीकरणREV\\_14_Acts________MARDPIN1DA.mp3\n",
      "Renamed: C:/Users/TANAY/anaconda3/envs/SIT/Bible_Texts\\प्रकटीकरणREV\\B05___15_Acts________MARDPIN1DA.mp3 to C:/Users/TANAY/anaconda3/envs/SIT/Bible_Texts\\प्रकटीकरणREV\\_15_Acts________MARDPIN1DA.mp3\n",
      "Renamed: C:/Users/TANAY/anaconda3/envs/SIT/Bible_Texts\\प्रकटीकरणREV\\B05___16_Acts________MARDPIN1DA.mp3 to C:/Users/TANAY/anaconda3/envs/SIT/Bible_Texts\\प्रकटीकरणREV\\_16_Acts________MARDPIN1DA.mp3\n",
      "Renamed: C:/Users/TANAY/anaconda3/envs/SIT/Bible_Texts\\प्रकटीकरणREV\\B05___17_Acts________MARDPIN1DA.mp3 to C:/Users/TANAY/anaconda3/envs/SIT/Bible_Texts\\प्रकटीकरणREV\\_17_Acts________MARDPIN1DA.mp3\n",
      "Renamed: C:/Users/TANAY/anaconda3/envs/SIT/Bible_Texts\\प्रकटीकरणREV\\B05___18_Acts________MARDPIN1DA.mp3 to C:/Users/TANAY/anaconda3/envs/SIT/Bible_Texts\\प्रकटीकरणREV\\_18_Acts________MARDPIN1DA.mp3\n",
      "Renamed: C:/Users/TANAY/anaconda3/envs/SIT/Bible_Texts\\प्रकटीकरणREV\\B05___19_Acts________MARDPIN1DA.mp3 to C:/Users/TANAY/anaconda3/envs/SIT/Bible_Texts\\प्रकटीकरणREV\\_19_Acts________MARDPIN1DA.mp3\n",
      "Renamed: C:/Users/TANAY/anaconda3/envs/SIT/Bible_Texts\\प्रकटीकरणREV\\B05___20_Acts________MARDPIN1DA.mp3 to C:/Users/TANAY/anaconda3/envs/SIT/Bible_Texts\\प्रकटीकरणREV\\_20_Acts________MARDPIN1DA.mp3\n",
      "Renamed: C:/Users/TANAY/anaconda3/envs/SIT/Bible_Texts\\प्रकटीकरणREV\\B05___21_Acts________MARDPIN1DA.mp3 to C:/Users/TANAY/anaconda3/envs/SIT/Bible_Texts\\प्रकटीकरणREV\\_21_Acts________MARDPIN1DA.mp3\n",
      "Renamed: C:/Users/TANAY/anaconda3/envs/SIT/Bible_Texts\\प्रकटीकरणREV\\B05___22_Acts________MARDPIN1DA.mp3 to C:/Users/TANAY/anaconda3/envs/SIT/Bible_Texts\\प्रकटीकरणREV\\_22_Acts________MARDPIN1DA.mp3\n",
      "Renamed: C:/Users/TANAY/anaconda3/envs/SIT/Bible_Texts\\प्रकटीकरणREV\\B05___23_Acts________MARDPIN1DA.mp3 to C:/Users/TANAY/anaconda3/envs/SIT/Bible_Texts\\प्रकटीकरणREV\\_23_Acts________MARDPIN1DA.mp3\n",
      "Renamed: C:/Users/TANAY/anaconda3/envs/SIT/Bible_Texts\\प्रकटीकरणREV\\B05___24_Acts________MARDPIN1DA.mp3 to C:/Users/TANAY/anaconda3/envs/SIT/Bible_Texts\\प्रकटीकरणREV\\_24_Acts________MARDPIN1DA.mp3\n",
      "Renamed: C:/Users/TANAY/anaconda3/envs/SIT/Bible_Texts\\प्रकटीकरणREV\\B05___25_Acts________MARDPIN1DA.mp3 to C:/Users/TANAY/anaconda3/envs/SIT/Bible_Texts\\प्रकटीकरणREV\\_25_Acts________MARDPIN1DA.mp3\n",
      "Renamed: C:/Users/TANAY/anaconda3/envs/SIT/Bible_Texts\\प्रकटीकरणREV\\B05___26_Acts________MARDPIN1DA.mp3 to C:/Users/TANAY/anaconda3/envs/SIT/Bible_Texts\\प्रकटीकरणREV\\_26_Acts________MARDPIN1DA.mp3\n",
      "Renamed: C:/Users/TANAY/anaconda3/envs/SIT/Bible_Texts\\प्रकटीकरणREV\\B05___27_Acts________MARDPIN1DA.mp3 to C:/Users/TANAY/anaconda3/envs/SIT/Bible_Texts\\प्रकटीकरणREV\\_27_Acts________MARDPIN1DA.mp3\n",
      "Renamed: C:/Users/TANAY/anaconda3/envs/SIT/Bible_Texts\\प्रकटीकरणREV\\B05___28_Acts________MARDPIN1DA.mp3 to C:/Users/TANAY/anaconda3/envs/SIT/Bible_Texts\\प्रकटीकरणREV\\_28_Acts________MARDPIN1DA.mp3\n",
      "Renamed: C:/Users/TANAY/anaconda3/envs/SIT/Bible_Texts\\प्रकटीकरणREV\\B27___01_Revelation__MARDPIN1DA.mp3 to C:/Users/TANAY/anaconda3/envs/SIT/Bible_Texts\\प्रकटीकरणREV\\_01_Revelation__MARDPIN1DA.mp3\n",
      "Renamed: C:/Users/TANAY/anaconda3/envs/SIT/Bible_Texts\\प्रकटीकरणREV\\B27___02_Revelation__MARDPIN1DA.mp3 to C:/Users/TANAY/anaconda3/envs/SIT/Bible_Texts\\प्रकटीकरणREV\\_02_Revelation__MARDPIN1DA.mp3\n",
      "Renamed: C:/Users/TANAY/anaconda3/envs/SIT/Bible_Texts\\प्रकटीकरणREV\\B27___03_Revelation__MARDPIN1DA.mp3 to C:/Users/TANAY/anaconda3/envs/SIT/Bible_Texts\\प्रकटीकरणREV\\_03_Revelation__MARDPIN1DA.mp3\n",
      "Renamed: C:/Users/TANAY/anaconda3/envs/SIT/Bible_Texts\\प्रकटीकरणREV\\B27___04_Revelation__MARDPIN1DA.mp3 to C:/Users/TANAY/anaconda3/envs/SIT/Bible_Texts\\प्रकटीकरणREV\\_04_Revelation__MARDPIN1DA.mp3\n",
      "Renamed: C:/Users/TANAY/anaconda3/envs/SIT/Bible_Texts\\प्रकटीकरणREV\\B27___05_Revelation__MARDPIN1DA.mp3 to C:/Users/TANAY/anaconda3/envs/SIT/Bible_Texts\\प्रकटीकरणREV\\_05_Revelation__MARDPIN1DA.mp3\n",
      "Renamed: C:/Users/TANAY/anaconda3/envs/SIT/Bible_Texts\\प्रकटीकरणREV\\B27___06_Revelation__MARDPIN1DA.mp3 to C:/Users/TANAY/anaconda3/envs/SIT/Bible_Texts\\प्रकटीकरणREV\\_06_Revelation__MARDPIN1DA.mp3\n",
      "Renamed: C:/Users/TANAY/anaconda3/envs/SIT/Bible_Texts\\प्रकटीकरणREV\\B27___07_Revelation__MARDPIN1DA.mp3 to C:/Users/TANAY/anaconda3/envs/SIT/Bible_Texts\\प्रकटीकरणREV\\_07_Revelation__MARDPIN1DA.mp3\n",
      "Renamed: C:/Users/TANAY/anaconda3/envs/SIT/Bible_Texts\\प्रकटीकरणREV\\B27___08_Revelation__MARDPIN1DA.mp3 to C:/Users/TANAY/anaconda3/envs/SIT/Bible_Texts\\प्रकटीकरणREV\\_08_Revelation__MARDPIN1DA.mp3\n",
      "Renamed: C:/Users/TANAY/anaconda3/envs/SIT/Bible_Texts\\प्रकटीकरणREV\\B27___09_Revelation__MARDPIN1DA.mp3 to C:/Users/TANAY/anaconda3/envs/SIT/Bible_Texts\\प्रकटीकरणREV\\_09_Revelation__MARDPIN1DA.mp3\n",
      "Renamed: C:/Users/TANAY/anaconda3/envs/SIT/Bible_Texts\\प्रकटीकरणREV\\B27___10_Revelation__MARDPIN1DA.mp3 to C:/Users/TANAY/anaconda3/envs/SIT/Bible_Texts\\प्रकटीकरणREV\\_10_Revelation__MARDPIN1DA.mp3\n",
      "Renamed: C:/Users/TANAY/anaconda3/envs/SIT/Bible_Texts\\प्रकटीकरणREV\\B27___11_Revelation__MARDPIN1DA.mp3 to C:/Users/TANAY/anaconda3/envs/SIT/Bible_Texts\\प्रकटीकरणREV\\_11_Revelation__MARDPIN1DA.mp3\n",
      "Renamed: C:/Users/TANAY/anaconda3/envs/SIT/Bible_Texts\\प्रकटीकरणREV\\B27___12_Revelation__MARDPIN1DA.mp3 to C:/Users/TANAY/anaconda3/envs/SIT/Bible_Texts\\प्रकटीकरणREV\\_12_Revelation__MARDPIN1DA.mp3\n",
      "Renamed: C:/Users/TANAY/anaconda3/envs/SIT/Bible_Texts\\प्रकटीकरणREV\\B27___13_Revelation__MARDPIN1DA.mp3 to C:/Users/TANAY/anaconda3/envs/SIT/Bible_Texts\\प्रकटीकरणREV\\_13_Revelation__MARDPIN1DA.mp3\n",
      "Renamed: C:/Users/TANAY/anaconda3/envs/SIT/Bible_Texts\\प्रकटीकरणREV\\B27___14_Revelation__MARDPIN1DA.mp3 to C:/Users/TANAY/anaconda3/envs/SIT/Bible_Texts\\प्रकटीकरणREV\\_14_Revelation__MARDPIN1DA.mp3\n",
      "Renamed: C:/Users/TANAY/anaconda3/envs/SIT/Bible_Texts\\प्रकटीकरणREV\\B27___15_Revelation__MARDPIN1DA.mp3 to C:/Users/TANAY/anaconda3/envs/SIT/Bible_Texts\\प्रकटीकरणREV\\_15_Revelation__MARDPIN1DA.mp3\n",
      "Renamed: C:/Users/TANAY/anaconda3/envs/SIT/Bible_Texts\\प्रकटीकरणREV\\B27___16_Revelation__MARDPIN1DA.mp3 to C:/Users/TANAY/anaconda3/envs/SIT/Bible_Texts\\प्रकटीकरणREV\\_16_Revelation__MARDPIN1DA.mp3\n",
      "Renamed: C:/Users/TANAY/anaconda3/envs/SIT/Bible_Texts\\प्रकटीकरणREV\\B27___17_Revelation__MARDPIN1DA.mp3 to C:/Users/TANAY/anaconda3/envs/SIT/Bible_Texts\\प्रकटीकरणREV\\_17_Revelation__MARDPIN1DA.mp3\n",
      "Renamed: C:/Users/TANAY/anaconda3/envs/SIT/Bible_Texts\\प्रकटीकरणREV\\B27___18_Revelation__MARDPIN1DA.mp3 to C:/Users/TANAY/anaconda3/envs/SIT/Bible_Texts\\प्रकटीकरणREV\\_18_Revelation__MARDPIN1DA.mp3\n",
      "Renamed: C:/Users/TANAY/anaconda3/envs/SIT/Bible_Texts\\प्रकटीकरणREV\\B27___19_Revelation__MARDPIN1DA.mp3 to C:/Users/TANAY/anaconda3/envs/SIT/Bible_Texts\\प्रकटीकरणREV\\_19_Revelation__MARDPIN1DA.mp3\n",
      "Renamed: C:/Users/TANAY/anaconda3/envs/SIT/Bible_Texts\\प्रकटीकरणREV\\B27___20_Revelation__MARDPIN1DA.mp3 to C:/Users/TANAY/anaconda3/envs/SIT/Bible_Texts\\प्रकटीकरणREV\\_20_Revelation__MARDPIN1DA.mp3\n",
      "Renamed: C:/Users/TANAY/anaconda3/envs/SIT/Bible_Texts\\प्रकटीकरणREV\\B27___21_Revelation__MARDPIN1DA.mp3 to C:/Users/TANAY/anaconda3/envs/SIT/Bible_Texts\\प्रकटीकरणREV\\_21_Revelation__MARDPIN1DA.mp3\n",
      "Renamed: C:/Users/TANAY/anaconda3/envs/SIT/Bible_Texts\\प्रकटीकरणREV\\B27___22_Revelation__MARDPIN1DA.mp3 to C:/Users/TANAY/anaconda3/envs/SIT/Bible_Texts\\प्रकटीकरणREV\\_22_Revelation__MARDPIN1DA.mp3\n",
      "Renamed: C:/Users/TANAY/anaconda3/envs/SIT/Bible_Texts\\फिलिप्पैकरांस पत्रPHP\\B11___01_Philippians_MARDPIN1DA.mp3 to C:/Users/TANAY/anaconda3/envs/SIT/Bible_Texts\\फिलिप्पैकरांस पत्रPHP\\_01_Philippians_MARDPIN1DA.mp3\n",
      "Renamed: C:/Users/TANAY/anaconda3/envs/SIT/Bible_Texts\\फिलिप्पैकरांस पत्रPHP\\B11___02_Philippians_MARDPIN1DA.mp3 to C:/Users/TANAY/anaconda3/envs/SIT/Bible_Texts\\फिलिप्पैकरांस पत्रPHP\\_02_Philippians_MARDPIN1DA.mp3\n",
      "Renamed: C:/Users/TANAY/anaconda3/envs/SIT/Bible_Texts\\फिलिप्पैकरांस पत्रPHP\\B11___03_Philippians_MARDPIN1DA.mp3 to C:/Users/TANAY/anaconda3/envs/SIT/Bible_Texts\\फिलिप्पैकरांस पत्रPHP\\_03_Philippians_MARDPIN1DA.mp3\n",
      "Renamed: C:/Users/TANAY/anaconda3/envs/SIT/Bible_Texts\\फिलिप्पैकरांस पत्रPHP\\B11___04_Philippians_MARDPIN1DA.mp3 to C:/Users/TANAY/anaconda3/envs/SIT/Bible_Texts\\फिलिप्पैकरांस पत्रPHP\\_04_Philippians_MARDPIN1DA.mp3\n",
      "Renamed: C:/Users/TANAY/anaconda3/envs/SIT/Bible_Texts\\फिलेमानाला पत्रPHM\\B18___01_Philemon____MARDPIN1DA.mp3 to C:/Users/TANAY/anaconda3/envs/SIT/Bible_Texts\\फिलेमानाला पत्रPHM\\_01_Philemon____MARDPIN1DA.mp3\n",
      "Renamed: C:/Users/TANAY/anaconda3/envs/SIT/Bible_Texts\\मत्तयकृत शुभवर्तमानMAT\\B01___01_Matthew_____MARDPIN1DA.mp3 to C:/Users/TANAY/anaconda3/envs/SIT/Bible_Texts\\मत्तयकृत शुभवर्तमानMAT\\_01_Matthew_____MARDPIN1DA.mp3\n",
      "Renamed: C:/Users/TANAY/anaconda3/envs/SIT/Bible_Texts\\मत्तयकृत शुभवर्तमानMAT\\B01___02_Matthew_____MARDPIN1DA.mp3 to C:/Users/TANAY/anaconda3/envs/SIT/Bible_Texts\\मत्तयकृत शुभवर्तमानMAT\\_02_Matthew_____MARDPIN1DA.mp3\n",
      "Renamed: C:/Users/TANAY/anaconda3/envs/SIT/Bible_Texts\\मत्तयकृत शुभवर्तमानMAT\\B01___03_Matthew_____MARDPIN1DA.mp3 to C:/Users/TANAY/anaconda3/envs/SIT/Bible_Texts\\मत्तयकृत शुभवर्तमानMAT\\_03_Matthew_____MARDPIN1DA.mp3\n",
      "Renamed: C:/Users/TANAY/anaconda3/envs/SIT/Bible_Texts\\मत्तयकृत शुभवर्तमानMAT\\B01___04_Matthew_____MARDPIN1DA.mp3 to C:/Users/TANAY/anaconda3/envs/SIT/Bible_Texts\\मत्तयकृत शुभवर्तमानMAT\\_04_Matthew_____MARDPIN1DA.mp3\n",
      "Renamed: C:/Users/TANAY/anaconda3/envs/SIT/Bible_Texts\\मत्तयकृत शुभवर्तमानMAT\\B01___05_Matthew_____MARDPIN1DA.mp3 to C:/Users/TANAY/anaconda3/envs/SIT/Bible_Texts\\मत्तयकृत शुभवर्तमानMAT\\_05_Matthew_____MARDPIN1DA.mp3\n",
      "Renamed: C:/Users/TANAY/anaconda3/envs/SIT/Bible_Texts\\मत्तयकृत शुभवर्तमानMAT\\B01___06_Matthew_____MARDPIN1DA.mp3 to C:/Users/TANAY/anaconda3/envs/SIT/Bible_Texts\\मत्तयकृत शुभवर्तमानMAT\\_06_Matthew_____MARDPIN1DA.mp3\n",
      "Renamed: C:/Users/TANAY/anaconda3/envs/SIT/Bible_Texts\\मत्तयकृत शुभवर्तमानMAT\\B01___07_Matthew_____MARDPIN1DA.mp3 to C:/Users/TANAY/anaconda3/envs/SIT/Bible_Texts\\मत्तयकृत शुभवर्तमानMAT\\_07_Matthew_____MARDPIN1DA.mp3\n",
      "Renamed: C:/Users/TANAY/anaconda3/envs/SIT/Bible_Texts\\मत्तयकृत शुभवर्तमानMAT\\B01___08_Matthew_____MARDPIN1DA.mp3 to C:/Users/TANAY/anaconda3/envs/SIT/Bible_Texts\\मत्तयकृत शुभवर्तमानMAT\\_08_Matthew_____MARDPIN1DA.mp3\n",
      "Renamed: C:/Users/TANAY/anaconda3/envs/SIT/Bible_Texts\\मत्तयकृत शुभवर्तमानMAT\\B01___09_Matthew_____MARDPIN1DA.mp3 to C:/Users/TANAY/anaconda3/envs/SIT/Bible_Texts\\मत्तयकृत शुभवर्तमानMAT\\_09_Matthew_____MARDPIN1DA.mp3\n",
      "Renamed: C:/Users/TANAY/anaconda3/envs/SIT/Bible_Texts\\मत्तयकृत शुभवर्तमानMAT\\B01___10_Matthew_____MARDPIN1DA.mp3 to C:/Users/TANAY/anaconda3/envs/SIT/Bible_Texts\\मत्तयकृत शुभवर्तमानMAT\\_10_Matthew_____MARDPIN1DA.mp3\n",
      "Renamed: C:/Users/TANAY/anaconda3/envs/SIT/Bible_Texts\\मत्तयकृत शुभवर्तमानMAT\\B01___11_Matthew_____MARDPIN1DA.mp3 to C:/Users/TANAY/anaconda3/envs/SIT/Bible_Texts\\मत्तयकृत शुभवर्तमानMAT\\_11_Matthew_____MARDPIN1DA.mp3\n",
      "Renamed: C:/Users/TANAY/anaconda3/envs/SIT/Bible_Texts\\मत्तयकृत शुभवर्तमानMAT\\B01___12_Matthew_____MARDPIN1DA.mp3 to C:/Users/TANAY/anaconda3/envs/SIT/Bible_Texts\\मत्तयकृत शुभवर्तमानMAT\\_12_Matthew_____MARDPIN1DA.mp3\n",
      "Renamed: C:/Users/TANAY/anaconda3/envs/SIT/Bible_Texts\\मत्तयकृत शुभवर्तमानMAT\\B01___13_Matthew_____MARDPIN1DA.mp3 to C:/Users/TANAY/anaconda3/envs/SIT/Bible_Texts\\मत्तयकृत शुभवर्तमानMAT\\_13_Matthew_____MARDPIN1DA.mp3\n",
      "Renamed: C:/Users/TANAY/anaconda3/envs/SIT/Bible_Texts\\मत्तयकृत शुभवर्तमानMAT\\B01___14_Matthew_____MARDPIN1DA.mp3 to C:/Users/TANAY/anaconda3/envs/SIT/Bible_Texts\\मत्तयकृत शुभवर्तमानMAT\\_14_Matthew_____MARDPIN1DA.mp3\n",
      "Renamed: C:/Users/TANAY/anaconda3/envs/SIT/Bible_Texts\\मत्तयकृत शुभवर्तमानMAT\\B01___15_Matthew_____MARDPIN1DA.mp3 to C:/Users/TANAY/anaconda3/envs/SIT/Bible_Texts\\मत्तयकृत शुभवर्तमानMAT\\_15_Matthew_____MARDPIN1DA.mp3\n",
      "Renamed: C:/Users/TANAY/anaconda3/envs/SIT/Bible_Texts\\मत्तयकृत शुभवर्तमानMAT\\B01___16_Matthew_____MARDPIN1DA.mp3 to C:/Users/TANAY/anaconda3/envs/SIT/Bible_Texts\\मत्तयकृत शुभवर्तमानMAT\\_16_Matthew_____MARDPIN1DA.mp3\n",
      "Renamed: C:/Users/TANAY/anaconda3/envs/SIT/Bible_Texts\\मत्तयकृत शुभवर्तमानMAT\\B01___17_Matthew_____MARDPIN1DA.mp3 to C:/Users/TANAY/anaconda3/envs/SIT/Bible_Texts\\मत्तयकृत शुभवर्तमानMAT\\_17_Matthew_____MARDPIN1DA.mp3\n",
      "Renamed: C:/Users/TANAY/anaconda3/envs/SIT/Bible_Texts\\मत्तयकृत शुभवर्तमानMAT\\B01___18_Matthew_____MARDPIN1DA.mp3 to C:/Users/TANAY/anaconda3/envs/SIT/Bible_Texts\\मत्तयकृत शुभवर्तमानMAT\\_18_Matthew_____MARDPIN1DA.mp3\n",
      "Renamed: C:/Users/TANAY/anaconda3/envs/SIT/Bible_Texts\\मत्तयकृत शुभवर्तमानMAT\\B01___19_Matthew_____MARDPIN1DA.mp3 to C:/Users/TANAY/anaconda3/envs/SIT/Bible_Texts\\मत्तयकृत शुभवर्तमानMAT\\_19_Matthew_____MARDPIN1DA.mp3\n",
      "Renamed: C:/Users/TANAY/anaconda3/envs/SIT/Bible_Texts\\मत्तयकृत शुभवर्तमानMAT\\B01___20_Matthew_____MARDPIN1DA.mp3 to C:/Users/TANAY/anaconda3/envs/SIT/Bible_Texts\\मत्तयकृत शुभवर्तमानMAT\\_20_Matthew_____MARDPIN1DA.mp3\n",
      "Renamed: C:/Users/TANAY/anaconda3/envs/SIT/Bible_Texts\\मत्तयकृत शुभवर्तमानMAT\\B01___21_Matthew_____MARDPIN1DA.mp3 to C:/Users/TANAY/anaconda3/envs/SIT/Bible_Texts\\मत्तयकृत शुभवर्तमानMAT\\_21_Matthew_____MARDPIN1DA.mp3\n",
      "Renamed: C:/Users/TANAY/anaconda3/envs/SIT/Bible_Texts\\मत्तयकृत शुभवर्तमानMAT\\B01___22_Matthew_____MARDPIN1DA.mp3 to C:/Users/TANAY/anaconda3/envs/SIT/Bible_Texts\\मत्तयकृत शुभवर्तमानMAT\\_22_Matthew_____MARDPIN1DA.mp3\n",
      "Renamed: C:/Users/TANAY/anaconda3/envs/SIT/Bible_Texts\\मत्तयकृत शुभवर्तमानMAT\\B01___23_Matthew_____MARDPIN1DA.mp3 to C:/Users/TANAY/anaconda3/envs/SIT/Bible_Texts\\मत्तयकृत शुभवर्तमानMAT\\_23_Matthew_____MARDPIN1DA.mp3\n",
      "Renamed: C:/Users/TANAY/anaconda3/envs/SIT/Bible_Texts\\मत्तयकृत शुभवर्तमानMAT\\B01___24_Matthew_____MARDPIN1DA.mp3 to C:/Users/TANAY/anaconda3/envs/SIT/Bible_Texts\\मत्तयकृत शुभवर्तमानMAT\\_24_Matthew_____MARDPIN1DA.mp3\n",
      "Renamed: C:/Users/TANAY/anaconda3/envs/SIT/Bible_Texts\\मत्तयकृत शुभवर्तमानMAT\\B01___25_Matthew_____MARDPIN1DA.mp3 to C:/Users/TANAY/anaconda3/envs/SIT/Bible_Texts\\मत्तयकृत शुभवर्तमानMAT\\_25_Matthew_____MARDPIN1DA.mp3\n",
      "Renamed: C:/Users/TANAY/anaconda3/envs/SIT/Bible_Texts\\मत्तयकृत शुभवर्तमानMAT\\B01___26_Matthew_____MARDPIN1DA.mp3 to C:/Users/TANAY/anaconda3/envs/SIT/Bible_Texts\\मत्तयकृत शुभवर्तमानMAT\\_26_Matthew_____MARDPIN1DA.mp3\n",
      "Renamed: C:/Users/TANAY/anaconda3/envs/SIT/Bible_Texts\\मत्तयकृत शुभवर्तमानMAT\\B01___27_Matthew_____MARDPIN1DA.mp3 to C:/Users/TANAY/anaconda3/envs/SIT/Bible_Texts\\मत्तयकृत शुभवर्तमानMAT\\_27_Matthew_____MARDPIN1DA.mp3\n",
      "Renamed: C:/Users/TANAY/anaconda3/envs/SIT/Bible_Texts\\मत्तयकृत शुभवर्तमानMAT\\B01___28_Matthew_____MARDPIN1DA.mp3 to C:/Users/TANAY/anaconda3/envs/SIT/Bible_Texts\\मत्तयकृत शुभवर्तमानMAT\\_28_Matthew_____MARDPIN1DA.mp3\n",
      "Renamed: C:/Users/TANAY/anaconda3/envs/SIT/Bible_Texts\\मार्ककृत शुभवर्तमानMRK\\B02___01_Mark________MARDPIN1DA.mp3 to C:/Users/TANAY/anaconda3/envs/SIT/Bible_Texts\\मार्ककृत शुभवर्तमानMRK\\_01_Mark________MARDPIN1DA.mp3\n",
      "Renamed: C:/Users/TANAY/anaconda3/envs/SIT/Bible_Texts\\मार्ककृत शुभवर्तमानMRK\\B02___02_Mark________MARDPIN1DA.mp3 to C:/Users/TANAY/anaconda3/envs/SIT/Bible_Texts\\मार्ककृत शुभवर्तमानMRK\\_02_Mark________MARDPIN1DA.mp3\n",
      "Renamed: C:/Users/TANAY/anaconda3/envs/SIT/Bible_Texts\\मार्ककृत शुभवर्तमानMRK\\B02___03_Mark________MARDPIN1DA.mp3 to C:/Users/TANAY/anaconda3/envs/SIT/Bible_Texts\\मार्ककृत शुभवर्तमानMRK\\_03_Mark________MARDPIN1DA.mp3\n",
      "Renamed: C:/Users/TANAY/anaconda3/envs/SIT/Bible_Texts\\मार्ककृत शुभवर्तमानMRK\\B02___04_Mark________MARDPIN1DA.mp3 to C:/Users/TANAY/anaconda3/envs/SIT/Bible_Texts\\मार्ककृत शुभवर्तमानMRK\\_04_Mark________MARDPIN1DA.mp3\n",
      "Renamed: C:/Users/TANAY/anaconda3/envs/SIT/Bible_Texts\\मार्ककृत शुभवर्तमानMRK\\B02___05_Mark________MARDPIN1DA.mp3 to C:/Users/TANAY/anaconda3/envs/SIT/Bible_Texts\\मार्ककृत शुभवर्तमानMRK\\_05_Mark________MARDPIN1DA.mp3\n",
      "Renamed: C:/Users/TANAY/anaconda3/envs/SIT/Bible_Texts\\मार्ककृत शुभवर्तमानMRK\\B02___06_Mark________MARDPIN1DA.mp3 to C:/Users/TANAY/anaconda3/envs/SIT/Bible_Texts\\मार्ककृत शुभवर्तमानMRK\\_06_Mark________MARDPIN1DA.mp3\n",
      "Renamed: C:/Users/TANAY/anaconda3/envs/SIT/Bible_Texts\\मार्ककृत शुभवर्तमानMRK\\B02___07_Mark________MARDPIN1DA.mp3 to C:/Users/TANAY/anaconda3/envs/SIT/Bible_Texts\\मार्ककृत शुभवर्तमानMRK\\_07_Mark________MARDPIN1DA.mp3\n",
      "Renamed: C:/Users/TANAY/anaconda3/envs/SIT/Bible_Texts\\मार्ककृत शुभवर्तमानMRK\\B02___08_Mark________MARDPIN1DA.mp3 to C:/Users/TANAY/anaconda3/envs/SIT/Bible_Texts\\मार्ककृत शुभवर्तमानMRK\\_08_Mark________MARDPIN1DA.mp3\n",
      "Renamed: C:/Users/TANAY/anaconda3/envs/SIT/Bible_Texts\\मार्ककृत शुभवर्तमानMRK\\B02___09_Mark________MARDPIN1DA.mp3 to C:/Users/TANAY/anaconda3/envs/SIT/Bible_Texts\\मार्ककृत शुभवर्तमानMRK\\_09_Mark________MARDPIN1DA.mp3\n",
      "Renamed: C:/Users/TANAY/anaconda3/envs/SIT/Bible_Texts\\मार्ककृत शुभवर्तमानMRK\\B02___10_Mark________MARDPIN1DA.mp3 to C:/Users/TANAY/anaconda3/envs/SIT/Bible_Texts\\मार्ककृत शुभवर्तमानMRK\\_10_Mark________MARDPIN1DA.mp3\n",
      "Renamed: C:/Users/TANAY/anaconda3/envs/SIT/Bible_Texts\\मार्ककृत शुभवर्तमानMRK\\B02___11_Mark________MARDPIN1DA.mp3 to C:/Users/TANAY/anaconda3/envs/SIT/Bible_Texts\\मार्ककृत शुभवर्तमानMRK\\_11_Mark________MARDPIN1DA.mp3\n",
      "Renamed: C:/Users/TANAY/anaconda3/envs/SIT/Bible_Texts\\मार्ककृत शुभवर्तमानMRK\\B02___12_Mark________MARDPIN1DA.mp3 to C:/Users/TANAY/anaconda3/envs/SIT/Bible_Texts\\मार्ककृत शुभवर्तमानMRK\\_12_Mark________MARDPIN1DA.mp3\n",
      "Renamed: C:/Users/TANAY/anaconda3/envs/SIT/Bible_Texts\\मार्ककृत शुभवर्तमानMRK\\B02___13_Mark________MARDPIN1DA.mp3 to C:/Users/TANAY/anaconda3/envs/SIT/Bible_Texts\\मार्ककृत शुभवर्तमानMRK\\_13_Mark________MARDPIN1DA.mp3\n",
      "Renamed: C:/Users/TANAY/anaconda3/envs/SIT/Bible_Texts\\मार्ककृत शुभवर्तमानMRK\\B02___14_Mark________MARDPIN1DA.mp3 to C:/Users/TANAY/anaconda3/envs/SIT/Bible_Texts\\मार्ककृत शुभवर्तमानMRK\\_14_Mark________MARDPIN1DA.mp3\n",
      "Renamed: C:/Users/TANAY/anaconda3/envs/SIT/Bible_Texts\\मार्ककृत शुभवर्तमानMRK\\B02___15_Mark________MARDPIN1DA.mp3 to C:/Users/TANAY/anaconda3/envs/SIT/Bible_Texts\\मार्ककृत शुभवर्तमानMRK\\_15_Mark________MARDPIN1DA.mp3\n",
      "Renamed: C:/Users/TANAY/anaconda3/envs/SIT/Bible_Texts\\मार्ककृत शुभवर्तमानMRK\\B02___16_Mark________MARDPIN1DA.mp3 to C:/Users/TANAY/anaconda3/envs/SIT/Bible_Texts\\मार्ककृत शुभवर्तमानMRK\\_16_Mark________MARDPIN1DA.mp3\n",
      "Renamed: C:/Users/TANAY/anaconda3/envs/SIT/Bible_Texts\\यहूदाचे पत्रJUD\\B26___01_Jude________MARDPIN1DA.mp3 to C:/Users/TANAY/anaconda3/envs/SIT/Bible_Texts\\यहूदाचे पत्रJUD\\_01_Jude________MARDPIN1DA.mp3\n",
      "Renamed: C:/Users/TANAY/anaconda3/envs/SIT/Bible_Texts\\याकोबाचे पत्रJAS\\B20___01_James_______MARDPIN1DA.mp3 to C:/Users/TANAY/anaconda3/envs/SIT/Bible_Texts\\याकोबाचे पत्रJAS\\_01_James_______MARDPIN1DA.mp3\n",
      "Renamed: C:/Users/TANAY/anaconda3/envs/SIT/Bible_Texts\\याकोबाचे पत्रJAS\\B20___02_James_______MARDPIN1DA.mp3 to C:/Users/TANAY/anaconda3/envs/SIT/Bible_Texts\\याकोबाचे पत्रJAS\\_02_James_______MARDPIN1DA.mp3\n",
      "Renamed: C:/Users/TANAY/anaconda3/envs/SIT/Bible_Texts\\याकोबाचे पत्रJAS\\B20___03_James_______MARDPIN1DA.mp3 to C:/Users/TANAY/anaconda3/envs/SIT/Bible_Texts\\याकोबाचे पत्रJAS\\_03_James_______MARDPIN1DA.mp3\n",
      "Renamed: C:/Users/TANAY/anaconda3/envs/SIT/Bible_Texts\\याकोबाचे पत्रJAS\\B20___04_James_______MARDPIN1DA.mp3 to C:/Users/TANAY/anaconda3/envs/SIT/Bible_Texts\\याकोबाचे पत्रJAS\\_04_James_______MARDPIN1DA.mp3\n",
      "Renamed: C:/Users/TANAY/anaconda3/envs/SIT/Bible_Texts\\याकोबाचे पत्रJAS\\B20___05_James_______MARDPIN1DA.mp3 to C:/Users/TANAY/anaconda3/envs/SIT/Bible_Texts\\याकोबाचे पत्रJAS\\_05_James_______MARDPIN1DA.mp3\n",
      "Renamed: C:/Users/TANAY/anaconda3/envs/SIT/Bible_Texts\\योहानकृत शुभवर्तमानJHN\\B04___01_John________MARDPIN1DA.mp3 to C:/Users/TANAY/anaconda3/envs/SIT/Bible_Texts\\योहानकृत शुभवर्तमानJHN\\_01_John________MARDPIN1DA.mp3\n",
      "Renamed: C:/Users/TANAY/anaconda3/envs/SIT/Bible_Texts\\योहानकृत शुभवर्तमानJHN\\B04___02_John________MARDPIN1DA.mp3 to C:/Users/TANAY/anaconda3/envs/SIT/Bible_Texts\\योहानकृत शुभवर्तमानJHN\\_02_John________MARDPIN1DA.mp3\n",
      "Renamed: C:/Users/TANAY/anaconda3/envs/SIT/Bible_Texts\\योहानकृत शुभवर्तमानJHN\\B04___03_John________MARDPIN1DA.mp3 to C:/Users/TANAY/anaconda3/envs/SIT/Bible_Texts\\योहानकृत शुभवर्तमानJHN\\_03_John________MARDPIN1DA.mp3\n",
      "Renamed: C:/Users/TANAY/anaconda3/envs/SIT/Bible_Texts\\योहानकृत शुभवर्तमानJHN\\B04___04_John________MARDPIN1DA.mp3 to C:/Users/TANAY/anaconda3/envs/SIT/Bible_Texts\\योहानकृत शुभवर्तमानJHN\\_04_John________MARDPIN1DA.mp3\n",
      "Renamed: C:/Users/TANAY/anaconda3/envs/SIT/Bible_Texts\\योहानकृत शुभवर्तमानJHN\\B04___05_John________MARDPIN1DA.mp3 to C:/Users/TANAY/anaconda3/envs/SIT/Bible_Texts\\योहानकृत शुभवर्तमानJHN\\_05_John________MARDPIN1DA.mp3\n",
      "Renamed: C:/Users/TANAY/anaconda3/envs/SIT/Bible_Texts\\योहानकृत शुभवर्तमानJHN\\B04___06_John________MARDPIN1DA.mp3 to C:/Users/TANAY/anaconda3/envs/SIT/Bible_Texts\\योहानकृत शुभवर्तमानJHN\\_06_John________MARDPIN1DA.mp3\n",
      "Renamed: C:/Users/TANAY/anaconda3/envs/SIT/Bible_Texts\\योहानकृत शुभवर्तमानJHN\\B04___07_John________MARDPIN1DA.mp3 to C:/Users/TANAY/anaconda3/envs/SIT/Bible_Texts\\योहानकृत शुभवर्तमानJHN\\_07_John________MARDPIN1DA.mp3\n",
      "Renamed: C:/Users/TANAY/anaconda3/envs/SIT/Bible_Texts\\योहानकृत शुभवर्तमानJHN\\B04___08_John________MARDPIN1DA.mp3 to C:/Users/TANAY/anaconda3/envs/SIT/Bible_Texts\\योहानकृत शुभवर्तमानJHN\\_08_John________MARDPIN1DA.mp3\n",
      "Renamed: C:/Users/TANAY/anaconda3/envs/SIT/Bible_Texts\\योहानकृत शुभवर्तमानJHN\\B04___09_John________MARDPIN1DA.mp3 to C:/Users/TANAY/anaconda3/envs/SIT/Bible_Texts\\योहानकृत शुभवर्तमानJHN\\_09_John________MARDPIN1DA.mp3\n",
      "Renamed: C:/Users/TANAY/anaconda3/envs/SIT/Bible_Texts\\योहानकृत शुभवर्तमानJHN\\B04___10_John________MARDPIN1DA.mp3 to C:/Users/TANAY/anaconda3/envs/SIT/Bible_Texts\\योहानकृत शुभवर्तमानJHN\\_10_John________MARDPIN1DA.mp3\n",
      "Renamed: C:/Users/TANAY/anaconda3/envs/SIT/Bible_Texts\\योहानकृत शुभवर्तमानJHN\\B04___11_John________MARDPIN1DA.mp3 to C:/Users/TANAY/anaconda3/envs/SIT/Bible_Texts\\योहानकृत शुभवर्तमानJHN\\_11_John________MARDPIN1DA.mp3\n",
      "Renamed: C:/Users/TANAY/anaconda3/envs/SIT/Bible_Texts\\योहानकृत शुभवर्तमानJHN\\B04___12_John________MARDPIN1DA.mp3 to C:/Users/TANAY/anaconda3/envs/SIT/Bible_Texts\\योहानकृत शुभवर्तमानJHN\\_12_John________MARDPIN1DA.mp3\n",
      "Renamed: C:/Users/TANAY/anaconda3/envs/SIT/Bible_Texts\\योहानकृत शुभवर्तमानJHN\\B04___13_John________MARDPIN1DA.mp3 to C:/Users/TANAY/anaconda3/envs/SIT/Bible_Texts\\योहानकृत शुभवर्तमानJHN\\_13_John________MARDPIN1DA.mp3\n",
      "Renamed: C:/Users/TANAY/anaconda3/envs/SIT/Bible_Texts\\योहानकृत शुभवर्तमानJHN\\B04___14_John________MARDPIN1DA.mp3 to C:/Users/TANAY/anaconda3/envs/SIT/Bible_Texts\\योहानकृत शुभवर्तमानJHN\\_14_John________MARDPIN1DA.mp3\n",
      "Renamed: C:/Users/TANAY/anaconda3/envs/SIT/Bible_Texts\\योहानकृत शुभवर्तमानJHN\\B04___15_John________MARDPIN1DA.mp3 to C:/Users/TANAY/anaconda3/envs/SIT/Bible_Texts\\योहानकृत शुभवर्तमानJHN\\_15_John________MARDPIN1DA.mp3\n",
      "Renamed: C:/Users/TANAY/anaconda3/envs/SIT/Bible_Texts\\योहानकृत शुभवर्तमानJHN\\B04___16_John________MARDPIN1DA.mp3 to C:/Users/TANAY/anaconda3/envs/SIT/Bible_Texts\\योहानकृत शुभवर्तमानJHN\\_16_John________MARDPIN1DA.mp3\n",
      "Renamed: C:/Users/TANAY/anaconda3/envs/SIT/Bible_Texts\\योहानकृत शुभवर्तमानJHN\\B04___17_John________MARDPIN1DA.mp3 to C:/Users/TANAY/anaconda3/envs/SIT/Bible_Texts\\योहानकृत शुभवर्तमानJHN\\_17_John________MARDPIN1DA.mp3\n",
      "Renamed: C:/Users/TANAY/anaconda3/envs/SIT/Bible_Texts\\योहानकृत शुभवर्तमानJHN\\B04___18_John________MARDPIN1DA.mp3 to C:/Users/TANAY/anaconda3/envs/SIT/Bible_Texts\\योहानकृत शुभवर्तमानJHN\\_18_John________MARDPIN1DA.mp3\n",
      "Renamed: C:/Users/TANAY/anaconda3/envs/SIT/Bible_Texts\\योहानकृत शुभवर्तमानJHN\\B04___19_John________MARDPIN1DA.mp3 to C:/Users/TANAY/anaconda3/envs/SIT/Bible_Texts\\योहानकृत शुभवर्तमानJHN\\_19_John________MARDPIN1DA.mp3\n",
      "Renamed: C:/Users/TANAY/anaconda3/envs/SIT/Bible_Texts\\योहानकृत शुभवर्तमानJHN\\B04___20_John________MARDPIN1DA.mp3 to C:/Users/TANAY/anaconda3/envs/SIT/Bible_Texts\\योहानकृत शुभवर्तमानJHN\\_20_John________MARDPIN1DA.mp3\n",
      "Renamed: C:/Users/TANAY/anaconda3/envs/SIT/Bible_Texts\\योहानकृत शुभवर्तमानJHN\\B04___21_John________MARDPIN1DA.mp3 to C:/Users/TANAY/anaconda3/envs/SIT/Bible_Texts\\योहानकृत शुभवर्तमानJHN\\_21_John________MARDPIN1DA.mp3\n",
      "Renamed: C:/Users/TANAY/anaconda3/envs/SIT/Bible_Texts\\योहानाचे तिसरे पत्र3JN\\B25___01_3John_______MARDPIN1DA.mp3 to C:/Users/TANAY/anaconda3/envs/SIT/Bible_Texts\\योहानाचे तिसरे पत्र3JN\\_01_3John_______MARDPIN1DA.mp3\n",
      "Renamed: C:/Users/TANAY/anaconda3/envs/SIT/Bible_Texts\\योहानाचे दुसरे पत्र2JN\\B24___01_2John_______MARDPIN1DA.mp3 to C:/Users/TANAY/anaconda3/envs/SIT/Bible_Texts\\योहानाचे दुसरे पत्र2JN\\_01_2John_______MARDPIN1DA.mp3\n",
      "Renamed: C:/Users/TANAY/anaconda3/envs/SIT/Bible_Texts\\योहानाचे पहिले पत्र1JN\\B23___01_1John_______MARDPIN1DA.mp3 to C:/Users/TANAY/anaconda3/envs/SIT/Bible_Texts\\योहानाचे पहिले पत्र1JN\\_01_1John_______MARDPIN1DA.mp3\n",
      "Renamed: C:/Users/TANAY/anaconda3/envs/SIT/Bible_Texts\\योहानाचे पहिले पत्र1JN\\B23___02_1John_______MARDPIN1DA.mp3 to C:/Users/TANAY/anaconda3/envs/SIT/Bible_Texts\\योहानाचे पहिले पत्र1JN\\_02_1John_______MARDPIN1DA.mp3\n",
      "Renamed: C:/Users/TANAY/anaconda3/envs/SIT/Bible_Texts\\योहानाचे पहिले पत्र1JN\\B23___03_1John_______MARDPIN1DA.mp3 to C:/Users/TANAY/anaconda3/envs/SIT/Bible_Texts\\योहानाचे पहिले पत्र1JN\\_03_1John_______MARDPIN1DA.mp3\n",
      "Renamed: C:/Users/TANAY/anaconda3/envs/SIT/Bible_Texts\\योहानाचे पहिले पत्र1JN\\B23___04_1John_______MARDPIN1DA.mp3 to C:/Users/TANAY/anaconda3/envs/SIT/Bible_Texts\\योहानाचे पहिले पत्र1JN\\_04_1John_______MARDPIN1DA.mp3\n",
      "Renamed: C:/Users/TANAY/anaconda3/envs/SIT/Bible_Texts\\योहानाचे पहिले पत्र1JN\\B23___05_1John_______MARDPIN1DA.mp3 to C:/Users/TANAY/anaconda3/envs/SIT/Bible_Texts\\योहानाचे पहिले पत्र1JN\\_05_1John_______MARDPIN1DA.mp3\n",
      "Renamed: C:/Users/TANAY/anaconda3/envs/SIT/Bible_Texts\\रोमकरांस पत्रROM\\B06___01_Romans______MARDPIN1DA.mp3 to C:/Users/TANAY/anaconda3/envs/SIT/Bible_Texts\\रोमकरांस पत्रROM\\_01_Romans______MARDPIN1DA.mp3\n",
      "Renamed: C:/Users/TANAY/anaconda3/envs/SIT/Bible_Texts\\रोमकरांस पत्रROM\\B06___02_Romans______MARDPIN1DA.mp3 to C:/Users/TANAY/anaconda3/envs/SIT/Bible_Texts\\रोमकरांस पत्रROM\\_02_Romans______MARDPIN1DA.mp3\n",
      "Renamed: C:/Users/TANAY/anaconda3/envs/SIT/Bible_Texts\\रोमकरांस पत्रROM\\B06___03_Romans______MARDPIN1DA.mp3 to C:/Users/TANAY/anaconda3/envs/SIT/Bible_Texts\\रोमकरांस पत्रROM\\_03_Romans______MARDPIN1DA.mp3\n",
      "Renamed: C:/Users/TANAY/anaconda3/envs/SIT/Bible_Texts\\रोमकरांस पत्रROM\\B06___04_Romans______MARDPIN1DA.mp3 to C:/Users/TANAY/anaconda3/envs/SIT/Bible_Texts\\रोमकरांस पत्रROM\\_04_Romans______MARDPIN1DA.mp3\n",
      "Renamed: C:/Users/TANAY/anaconda3/envs/SIT/Bible_Texts\\रोमकरांस पत्रROM\\B06___05_Romans______MARDPIN1DA.mp3 to C:/Users/TANAY/anaconda3/envs/SIT/Bible_Texts\\रोमकरांस पत्रROM\\_05_Romans______MARDPIN1DA.mp3\n",
      "Renamed: C:/Users/TANAY/anaconda3/envs/SIT/Bible_Texts\\रोमकरांस पत्रROM\\B06___06_Romans______MARDPIN1DA.mp3 to C:/Users/TANAY/anaconda3/envs/SIT/Bible_Texts\\रोमकरांस पत्रROM\\_06_Romans______MARDPIN1DA.mp3\n",
      "Renamed: C:/Users/TANAY/anaconda3/envs/SIT/Bible_Texts\\रोमकरांस पत्रROM\\B06___07_Romans______MARDPIN1DA.mp3 to C:/Users/TANAY/anaconda3/envs/SIT/Bible_Texts\\रोमकरांस पत्रROM\\_07_Romans______MARDPIN1DA.mp3\n",
      "Renamed: C:/Users/TANAY/anaconda3/envs/SIT/Bible_Texts\\रोमकरांस पत्रROM\\B06___08_Romans______MARDPIN1DA.mp3 to C:/Users/TANAY/anaconda3/envs/SIT/Bible_Texts\\रोमकरांस पत्रROM\\_08_Romans______MARDPIN1DA.mp3\n",
      "Renamed: C:/Users/TANAY/anaconda3/envs/SIT/Bible_Texts\\रोमकरांस पत्रROM\\B06___09_Romans______MARDPIN1DA.mp3 to C:/Users/TANAY/anaconda3/envs/SIT/Bible_Texts\\रोमकरांस पत्रROM\\_09_Romans______MARDPIN1DA.mp3\n",
      "Renamed: C:/Users/TANAY/anaconda3/envs/SIT/Bible_Texts\\रोमकरांस पत्रROM\\B06___10_Romans______MARDPIN1DA.mp3 to C:/Users/TANAY/anaconda3/envs/SIT/Bible_Texts\\रोमकरांस पत्रROM\\_10_Romans______MARDPIN1DA.mp3\n",
      "Renamed: C:/Users/TANAY/anaconda3/envs/SIT/Bible_Texts\\रोमकरांस पत्रROM\\B06___11_Romans______MARDPIN1DA.mp3 to C:/Users/TANAY/anaconda3/envs/SIT/Bible_Texts\\रोमकरांस पत्रROM\\_11_Romans______MARDPIN1DA.mp3\n",
      "Renamed: C:/Users/TANAY/anaconda3/envs/SIT/Bible_Texts\\रोमकरांस पत्रROM\\B06___12_Romans______MARDPIN1DA.mp3 to C:/Users/TANAY/anaconda3/envs/SIT/Bible_Texts\\रोमकरांस पत्रROM\\_12_Romans______MARDPIN1DA.mp3\n",
      "Renamed: C:/Users/TANAY/anaconda3/envs/SIT/Bible_Texts\\रोमकरांस पत्रROM\\B06___13_Romans______MARDPIN1DA.mp3 to C:/Users/TANAY/anaconda3/envs/SIT/Bible_Texts\\रोमकरांस पत्रROM\\_13_Romans______MARDPIN1DA.mp3\n",
      "Renamed: C:/Users/TANAY/anaconda3/envs/SIT/Bible_Texts\\रोमकरांस पत्रROM\\B06___14_Romans______MARDPIN1DA.mp3 to C:/Users/TANAY/anaconda3/envs/SIT/Bible_Texts\\रोमकरांस पत्रROM\\_14_Romans______MARDPIN1DA.mp3\n",
      "Renamed: C:/Users/TANAY/anaconda3/envs/SIT/Bible_Texts\\रोमकरांस पत्रROM\\B06___15_Romans______MARDPIN1DA.mp3 to C:/Users/TANAY/anaconda3/envs/SIT/Bible_Texts\\रोमकरांस पत्रROM\\_15_Romans______MARDPIN1DA.mp3\n",
      "Renamed: C:/Users/TANAY/anaconda3/envs/SIT/Bible_Texts\\रोमकरांस पत्रROM\\B06___16_Romans______MARDPIN1DA.mp3 to C:/Users/TANAY/anaconda3/envs/SIT/Bible_Texts\\रोमकरांस पत्रROM\\_16_Romans______MARDPIN1DA.mp3\n"
     ]
    },
    {
     "name": "stdout",
     "output_type": "stream",
     "text": [
      "Renamed: C:/Users/TANAY/anaconda3/envs/SIT/Bible_Texts\\लूककृत शुभवर्तमानLUK\\B03___01_Luke________MARDPIN1DA.mp3 to C:/Users/TANAY/anaconda3/envs/SIT/Bible_Texts\\लूककृत शुभवर्तमानLUK\\_01_Luke________MARDPIN1DA.mp3\n",
      "Renamed: C:/Users/TANAY/anaconda3/envs/SIT/Bible_Texts\\लूककृत शुभवर्तमानLUK\\B03___02_Luke________MARDPIN1DA.mp3 to C:/Users/TANAY/anaconda3/envs/SIT/Bible_Texts\\लूककृत शुभवर्तमानLUK\\_02_Luke________MARDPIN1DA.mp3\n",
      "Renamed: C:/Users/TANAY/anaconda3/envs/SIT/Bible_Texts\\लूककृत शुभवर्तमानLUK\\B03___03_Luke________MARDPIN1DA.mp3 to C:/Users/TANAY/anaconda3/envs/SIT/Bible_Texts\\लूककृत शुभवर्तमानLUK\\_03_Luke________MARDPIN1DA.mp3\n",
      "Renamed: C:/Users/TANAY/anaconda3/envs/SIT/Bible_Texts\\लूककृत शुभवर्तमानLUK\\B03___04_Luke________MARDPIN1DA.mp3 to C:/Users/TANAY/anaconda3/envs/SIT/Bible_Texts\\लूककृत शुभवर्तमानLUK\\_04_Luke________MARDPIN1DA.mp3\n",
      "Renamed: C:/Users/TANAY/anaconda3/envs/SIT/Bible_Texts\\लूककृत शुभवर्तमानLUK\\B03___05_Luke________MARDPIN1DA.mp3 to C:/Users/TANAY/anaconda3/envs/SIT/Bible_Texts\\लूककृत शुभवर्तमानLUK\\_05_Luke________MARDPIN1DA.mp3\n",
      "Renamed: C:/Users/TANAY/anaconda3/envs/SIT/Bible_Texts\\लूककृत शुभवर्तमानLUK\\B03___06_Luke________MARDPIN1DA.mp3 to C:/Users/TANAY/anaconda3/envs/SIT/Bible_Texts\\लूककृत शुभवर्तमानLUK\\_06_Luke________MARDPIN1DA.mp3\n",
      "Renamed: C:/Users/TANAY/anaconda3/envs/SIT/Bible_Texts\\लूककृत शुभवर्तमानLUK\\B03___07_Luke________MARDPIN1DA.mp3 to C:/Users/TANAY/anaconda3/envs/SIT/Bible_Texts\\लूककृत शुभवर्तमानLUK\\_07_Luke________MARDPIN1DA.mp3\n",
      "Renamed: C:/Users/TANAY/anaconda3/envs/SIT/Bible_Texts\\लूककृत शुभवर्तमानLUK\\B03___08_Luke________MARDPIN1DA.mp3 to C:/Users/TANAY/anaconda3/envs/SIT/Bible_Texts\\लूककृत शुभवर्तमानLUK\\_08_Luke________MARDPIN1DA.mp3\n",
      "Renamed: C:/Users/TANAY/anaconda3/envs/SIT/Bible_Texts\\लूककृत शुभवर्तमानLUK\\B03___09_Luke________MARDPIN1DA.mp3 to C:/Users/TANAY/anaconda3/envs/SIT/Bible_Texts\\लूककृत शुभवर्तमानLUK\\_09_Luke________MARDPIN1DA.mp3\n",
      "Renamed: C:/Users/TANAY/anaconda3/envs/SIT/Bible_Texts\\लूककृत शुभवर्तमानLUK\\B03___10_Luke________MARDPIN1DA.mp3 to C:/Users/TANAY/anaconda3/envs/SIT/Bible_Texts\\लूककृत शुभवर्तमानLUK\\_10_Luke________MARDPIN1DA.mp3\n",
      "Renamed: C:/Users/TANAY/anaconda3/envs/SIT/Bible_Texts\\लूककृत शुभवर्तमानLUK\\B03___11_Luke________MARDPIN1DA.mp3 to C:/Users/TANAY/anaconda3/envs/SIT/Bible_Texts\\लूककृत शुभवर्तमानLUK\\_11_Luke________MARDPIN1DA.mp3\n",
      "Renamed: C:/Users/TANAY/anaconda3/envs/SIT/Bible_Texts\\लूककृत शुभवर्तमानLUK\\B03___12_Luke________MARDPIN1DA.mp3 to C:/Users/TANAY/anaconda3/envs/SIT/Bible_Texts\\लूककृत शुभवर्तमानLUK\\_12_Luke________MARDPIN1DA.mp3\n",
      "Renamed: C:/Users/TANAY/anaconda3/envs/SIT/Bible_Texts\\लूककृत शुभवर्तमानLUK\\B03___13_Luke________MARDPIN1DA.mp3 to C:/Users/TANAY/anaconda3/envs/SIT/Bible_Texts\\लूककृत शुभवर्तमानLUK\\_13_Luke________MARDPIN1DA.mp3\n",
      "Renamed: C:/Users/TANAY/anaconda3/envs/SIT/Bible_Texts\\लूककृत शुभवर्तमानLUK\\B03___14_Luke________MARDPIN1DA.mp3 to C:/Users/TANAY/anaconda3/envs/SIT/Bible_Texts\\लूककृत शुभवर्तमानLUK\\_14_Luke________MARDPIN1DA.mp3\n",
      "Renamed: C:/Users/TANAY/anaconda3/envs/SIT/Bible_Texts\\लूककृत शुभवर्तमानLUK\\B03___15_Luke________MARDPIN1DA.mp3 to C:/Users/TANAY/anaconda3/envs/SIT/Bible_Texts\\लूककृत शुभवर्तमानLUK\\_15_Luke________MARDPIN1DA.mp3\n",
      "Renamed: C:/Users/TANAY/anaconda3/envs/SIT/Bible_Texts\\लूककृत शुभवर्तमानLUK\\B03___16_Luke________MARDPIN1DA.mp3 to C:/Users/TANAY/anaconda3/envs/SIT/Bible_Texts\\लूककृत शुभवर्तमानLUK\\_16_Luke________MARDPIN1DA.mp3\n",
      "Renamed: C:/Users/TANAY/anaconda3/envs/SIT/Bible_Texts\\लूककृत शुभवर्तमानLUK\\B03___17_Luke________MARDPIN1DA.mp3 to C:/Users/TANAY/anaconda3/envs/SIT/Bible_Texts\\लूककृत शुभवर्तमानLUK\\_17_Luke________MARDPIN1DA.mp3\n",
      "Renamed: C:/Users/TANAY/anaconda3/envs/SIT/Bible_Texts\\लूककृत शुभवर्तमानLUK\\B03___18_Luke________MARDPIN1DA.mp3 to C:/Users/TANAY/anaconda3/envs/SIT/Bible_Texts\\लूककृत शुभवर्तमानLUK\\_18_Luke________MARDPIN1DA.mp3\n",
      "Renamed: C:/Users/TANAY/anaconda3/envs/SIT/Bible_Texts\\लूककृत शुभवर्तमानLUK\\B03___19_Luke________MARDPIN1DA.mp3 to C:/Users/TANAY/anaconda3/envs/SIT/Bible_Texts\\लूककृत शुभवर्तमानLUK\\_19_Luke________MARDPIN1DA.mp3\n",
      "Renamed: C:/Users/TANAY/anaconda3/envs/SIT/Bible_Texts\\लूककृत शुभवर्तमानLUK\\B03___20_Luke________MARDPIN1DA.mp3 to C:/Users/TANAY/anaconda3/envs/SIT/Bible_Texts\\लूककृत शुभवर्तमानLUK\\_20_Luke________MARDPIN1DA.mp3\n",
      "Renamed: C:/Users/TANAY/anaconda3/envs/SIT/Bible_Texts\\लूककृत शुभवर्तमानLUK\\B03___21_Luke________MARDPIN1DA.mp3 to C:/Users/TANAY/anaconda3/envs/SIT/Bible_Texts\\लूककृत शुभवर्तमानLUK\\_21_Luke________MARDPIN1DA.mp3\n",
      "Renamed: C:/Users/TANAY/anaconda3/envs/SIT/Bible_Texts\\लूककृत शुभवर्तमानLUK\\B03___22_Luke________MARDPIN1DA.mp3 to C:/Users/TANAY/anaconda3/envs/SIT/Bible_Texts\\लूककृत शुभवर्तमानLUK\\_22_Luke________MARDPIN1DA.mp3\n",
      "Renamed: C:/Users/TANAY/anaconda3/envs/SIT/Bible_Texts\\लूककृत शुभवर्तमानLUK\\B03___23_Luke________MARDPIN1DA.mp3 to C:/Users/TANAY/anaconda3/envs/SIT/Bible_Texts\\लूककृत शुभवर्तमानLUK\\_23_Luke________MARDPIN1DA.mp3\n",
      "Renamed: C:/Users/TANAY/anaconda3/envs/SIT/Bible_Texts\\लूककृत शुभवर्तमानLUK\\B03___24_Luke________MARDPIN1DA.mp3 to C:/Users/TANAY/anaconda3/envs/SIT/Bible_Texts\\लूककृत शुभवर्तमानLUK\\_24_Luke________MARDPIN1DA.mp3\n"
     ]
    }
   ],
   "source": [
    "import os\n",
    "\n",
    "# Define the path to your dataset\n",
    "base_path = \"C:/Users/TANAY/anaconda3/envs/SIT/Bible_Texts\"\n",
    "\n",
    "# Function to check if a file is an audio file\n",
    "def is_audio_file(filename):\n",
    "    audio_extensions = ['.mp3', '.wav', '.flac', '.aac', '.ogg']\n",
    "    return any(filename.lower().endswith(ext) for ext in audio_extensions)\n",
    "\n",
    "# Function to rename the file\n",
    "def rename_file(file_path):\n",
    "    dir_name, filename = os.path.split(file_path)\n",
    "    if \"__\" in filename:\n",
    "        new_name = filename.split(\"__\", 1)[1]\n",
    "        new_path = os.path.join(dir_name, new_name)\n",
    "        os.rename(file_path, new_path)\n",
    "        print(f'Renamed: {file_path} to {new_path}')\n",
    "    else:\n",
    "        print(f'Skipped (no __ found): {file_path}')\n",
    "\n",
    "# Iterate through the folders and files\n",
    "for root, dirs, files in os.walk(base_path):\n",
    "    for file in files:\n",
    "        file_path = os.path.join(root, file)\n",
    "        if is_audio_file(file):\n",
    "            rename_file(file_path)"
   ]
  },
  {
   "cell_type": "code",
   "execution_count": 24,
   "id": "72674337",
   "metadata": {},
   "outputs": [
    {
     "name": "stdout",
     "output_type": "stream",
     "text": [
      "Copied audio file \"2John 01.mp3\" to \"C:/Users/TANAY/anaconda3/envs/SIT/Bible_Texts\\योहानकृत शुभवर्तमानJHN\"\n",
      "Copied audio file \"2Thess 01.mp3\" to \"C:/Users/TANAY/anaconda3/envs/SIT/Bible_Texts\\थेस्सलनीकाकरांस दुसरे पत्र\"\n",
      "Copied audio file \"2Thess 02.mp3\" to \"C:/Users/TANAY/anaconda3/envs/SIT/Bible_Texts\\थेस्सलनीकाकरांस दुसरे पत्र\"\n",
      "Copied audio file \"2Thess 03.mp3\" to \"C:/Users/TANAY/anaconda3/envs/SIT/Bible_Texts\\थेस्सलनीकाकरांस दुसरे पत्र\"\n",
      "Copied audio file \"3John 01.mp3\" to \"C:/Users/TANAY/anaconda3/envs/SIT/Bible_Texts\\योहानकृत शुभवर्तमानJHN\"\n",
      "Copied audio file \"Acts 01.mp3\" to \"C:/Users/TANAY/anaconda3/envs/SIT/Bible_Texts\\प्रेषितांची कृत्ये\"\n",
      "Copied audio file \"Acts 02.mp3\" to \"C:/Users/TANAY/anaconda3/envs/SIT/Bible_Texts\\प्रेषितांची कृत्ये\"\n",
      "Copied audio file \"Acts 03.mp3\" to \"C:/Users/TANAY/anaconda3/envs/SIT/Bible_Texts\\प्रेषितांची कृत्ये\"\n",
      "Copied audio file \"Acts 04.mp3\" to \"C:/Users/TANAY/anaconda3/envs/SIT/Bible_Texts\\प्रेषितांची कृत्ये\"\n",
      "Copied audio file \"Acts 05.mp3\" to \"C:/Users/TANAY/anaconda3/envs/SIT/Bible_Texts\\प्रेषितांची कृत्ये\"\n",
      "Copied audio file \"Acts 06.mp3\" to \"C:/Users/TANAY/anaconda3/envs/SIT/Bible_Texts\\प्रेषितांची कृत्ये\"\n",
      "Copied audio file \"Acts 07.mp3\" to \"C:/Users/TANAY/anaconda3/envs/SIT/Bible_Texts\\प्रेषितांची कृत्ये\"\n",
      "Copied audio file \"Acts 08.mp3\" to \"C:/Users/TANAY/anaconda3/envs/SIT/Bible_Texts\\प्रेषितांची कृत्ये\"\n",
      "Copied audio file \"Acts 09.mp3\" to \"C:/Users/TANAY/anaconda3/envs/SIT/Bible_Texts\\प्रेषितांची कृत्ये\"\n",
      "Copied audio file \"Acts 10.mp3\" to \"C:/Users/TANAY/anaconda3/envs/SIT/Bible_Texts\\प्रेषितांची कृत्ये\"\n",
      "Copied audio file \"Acts 11.mp3\" to \"C:/Users/TANAY/anaconda3/envs/SIT/Bible_Texts\\प्रेषितांची कृत्ये\"\n",
      "Copied audio file \"Acts 12.mp3\" to \"C:/Users/TANAY/anaconda3/envs/SIT/Bible_Texts\\प्रेषितांची कृत्ये\"\n",
      "Copied audio file \"Acts 13.mp3\" to \"C:/Users/TANAY/anaconda3/envs/SIT/Bible_Texts\\प्रेषितांची कृत्ये\"\n",
      "Copied audio file \"Acts 14.mp3\" to \"C:/Users/TANAY/anaconda3/envs/SIT/Bible_Texts\\प्रेषितांची कृत्ये\"\n",
      "Copied audio file \"Acts 15.mp3\" to \"C:/Users/TANAY/anaconda3/envs/SIT/Bible_Texts\\प्रेषितांची कृत्ये\"\n",
      "Copied audio file \"Acts 16.mp3\" to \"C:/Users/TANAY/anaconda3/envs/SIT/Bible_Texts\\प्रेषितांची कृत्ये\"\n",
      "Copied audio file \"Acts 17.mp3\" to \"C:/Users/TANAY/anaconda3/envs/SIT/Bible_Texts\\प्रेषितांची कृत्ये\"\n",
      "Copied audio file \"Acts 18.mp3\" to \"C:/Users/TANAY/anaconda3/envs/SIT/Bible_Texts\\प्रेषितांची कृत्ये\"\n",
      "Copied audio file \"Acts 19.mp3\" to \"C:/Users/TANAY/anaconda3/envs/SIT/Bible_Texts\\प्रेषितांची कृत्ये\"\n",
      "Copied audio file \"Acts 20.mp3\" to \"C:/Users/TANAY/anaconda3/envs/SIT/Bible_Texts\\प्रेषितांची कृत्ये\"\n",
      "Copied audio file \"Acts 21.mp3\" to \"C:/Users/TANAY/anaconda3/envs/SIT/Bible_Texts\\प्रेषितांची कृत्ये\"\n",
      "Copied audio file \"Acts 22.mp3\" to \"C:/Users/TANAY/anaconda3/envs/SIT/Bible_Texts\\प्रेषितांची कृत्ये\"\n",
      "Copied audio file \"Acts 23.mp3\" to \"C:/Users/TANAY/anaconda3/envs/SIT/Bible_Texts\\प्रेषितांची कृत्ये\"\n",
      "Copied audio file \"Acts 24.mp3\" to \"C:/Users/TANAY/anaconda3/envs/SIT/Bible_Texts\\प्रेषितांची कृत्ये\"\n",
      "Copied audio file \"Acts 25.mp3\" to \"C:/Users/TANAY/anaconda3/envs/SIT/Bible_Texts\\प्रेषितांची कृत्ये\"\n",
      "Copied audio file \"Acts 26.mp3\" to \"C:/Users/TANAY/anaconda3/envs/SIT/Bible_Texts\\प्रेषितांची कृत्ये\"\n",
      "Copied audio file \"Acts 27.mp3\" to \"C:/Users/TANAY/anaconda3/envs/SIT/Bible_Texts\\प्रेषितांची कृत्ये\"\n",
      "Copied audio file \"Acts 28.mp3\" to \"C:/Users/TANAY/anaconda3/envs/SIT/Bible_Texts\\प्रेषितांची कृत्ये\"\n",
      "Copied audio file \"Colossians 01.mp3\" to \"C:/Users/TANAY/anaconda3/envs/SIT/Bible_Texts\\कलस्सैकरांस पत्र\"\n",
      "Copied audio file \"Colossians 02.mp3\" to \"C:/Users/TANAY/anaconda3/envs/SIT/Bible_Texts\\कलस्सैकरांस पत्र\"\n",
      "Copied audio file \"Colossians 03.mp3\" to \"C:/Users/TANAY/anaconda3/envs/SIT/Bible_Texts\\कलस्सैकरांस पत्र\"\n",
      "Copied audio file \"Colossians 04.mp3\" to \"C:/Users/TANAY/anaconda3/envs/SIT/Bible_Texts\\कलस्सैकरांस पत्र\"\n",
      "Copied audio file \"Ephesians 01.mp3\" to \"C:/Users/TANAY/anaconda3/envs/SIT/Bible_Texts\\इफिसकरांस पत्र\"\n",
      "Copied audio file \"Ephesians 02.mp3\" to \"C:/Users/TANAY/anaconda3/envs/SIT/Bible_Texts\\इफिसकरांस पत्र\"\n",
      "Copied audio file \"Ephesians 03.mp3\" to \"C:/Users/TANAY/anaconda3/envs/SIT/Bible_Texts\\इफिसकरांस पत्र\"\n",
      "Copied audio file \"Ephesians 04.mp3\" to \"C:/Users/TANAY/anaconda3/envs/SIT/Bible_Texts\\इफिसकरांस पत्र\"\n",
      "Copied audio file \"Ephesians 05.mp3\" to \"C:/Users/TANAY/anaconda3/envs/SIT/Bible_Texts\\इफिसकरांस पत्र\"\n",
      "Copied audio file \"Ephesians 06.mp3\" to \"C:/Users/TANAY/anaconda3/envs/SIT/Bible_Texts\\इफिसकरांस पत्र\"\n",
      "Copied audio file \"Galatians 01.mp3\" to \"C:/Users/TANAY/anaconda3/envs/SIT/Bible_Texts\\गलतीकरांस पत्र\"\n",
      "Copied audio file \"Galatians 02.mp3\" to \"C:/Users/TANAY/anaconda3/envs/SIT/Bible_Texts\\गलतीकरांस पत्र\"\n",
      "Copied audio file \"Galatians 03.mp3\" to \"C:/Users/TANAY/anaconda3/envs/SIT/Bible_Texts\\गलतीकरांस पत्र\"\n",
      "Copied audio file \"Galatians 04.mp3\" to \"C:/Users/TANAY/anaconda3/envs/SIT/Bible_Texts\\गलतीकरांस पत्र\"\n",
      "Copied audio file \"Galatians 05.mp3\" to \"C:/Users/TANAY/anaconda3/envs/SIT/Bible_Texts\\गलतीकरांस पत्र\"\n",
      "Copied audio file \"Galatians 06.mp3\" to \"C:/Users/TANAY/anaconda3/envs/SIT/Bible_Texts\\गलतीकरांस पत्र\"\n",
      "Copied audio file \"Hebrews 01.mp3\" to \"C:/Users/TANAY/anaconda3/envs/SIT/Bible_Texts\\इब्री लोकांस पत्र\"\n",
      "Copied audio file \"Hebrews 02.mp3\" to \"C:/Users/TANAY/anaconda3/envs/SIT/Bible_Texts\\इब्री लोकांस पत्र\"\n",
      "Copied audio file \"Hebrews 03.mp3\" to \"C:/Users/TANAY/anaconda3/envs/SIT/Bible_Texts\\इब्री लोकांस पत्र\"\n",
      "Copied audio file \"Hebrews 04.mp3\" to \"C:/Users/TANAY/anaconda3/envs/SIT/Bible_Texts\\इब्री लोकांस पत्र\"\n",
      "Copied audio file \"Hebrews 05.mp3\" to \"C:/Users/TANAY/anaconda3/envs/SIT/Bible_Texts\\इब्री लोकांस पत्र\"\n",
      "Copied audio file \"Hebrews 06.mp3\" to \"C:/Users/TANAY/anaconda3/envs/SIT/Bible_Texts\\इब्री लोकांस पत्र\"\n",
      "Copied audio file \"Hebrews 07.mp3\" to \"C:/Users/TANAY/anaconda3/envs/SIT/Bible_Texts\\इब्री लोकांस पत्र\"\n",
      "Copied audio file \"Hebrews 08.mp3\" to \"C:/Users/TANAY/anaconda3/envs/SIT/Bible_Texts\\इब्री लोकांस पत्र\"\n",
      "Copied audio file \"Hebrews 09.mp3\" to \"C:/Users/TANAY/anaconda3/envs/SIT/Bible_Texts\\इब्री लोकांस पत्र\"\n",
      "Copied audio file \"Hebrews 10.mp3\" to \"C:/Users/TANAY/anaconda3/envs/SIT/Bible_Texts\\इब्री लोकांस पत्र\"\n",
      "Copied audio file \"Hebrews 11.mp3\" to \"C:/Users/TANAY/anaconda3/envs/SIT/Bible_Texts\\इब्री लोकांस पत्र\"\n",
      "Copied audio file \"Hebrews 12.mp3\" to \"C:/Users/TANAY/anaconda3/envs/SIT/Bible_Texts\\इब्री लोकांस पत्र\"\n",
      "Copied audio file \"Hebrews 13.mp3\" to \"C:/Users/TANAY/anaconda3/envs/SIT/Bible_Texts\\इब्री लोकांस पत्र\"\n",
      "Copied audio file \"James 01.mp3\" to \"C:/Users/TANAY/anaconda3/envs/SIT/Bible_Texts\\याकोबाचे पत्र\"\n",
      "Copied audio file \"James 02.mp3\" to \"C:/Users/TANAY/anaconda3/envs/SIT/Bible_Texts\\याकोबाचे पत्र\"\n",
      "Copied audio file \"James 03.mp3\" to \"C:/Users/TANAY/anaconda3/envs/SIT/Bible_Texts\\याकोबाचे पत्र\"\n",
      "Copied audio file \"James 04.mp3\" to \"C:/Users/TANAY/anaconda3/envs/SIT/Bible_Texts\\याकोबाचे पत्र\"\n",
      "Copied audio file \"James 05.mp3\" to \"C:/Users/TANAY/anaconda3/envs/SIT/Bible_Texts\\याकोबाचे पत्र\"\n",
      "Copied audio file \"John 01.mp3\" to \"C:/Users/TANAY/anaconda3/envs/SIT/Bible_Texts\\योहानकृत शुभवर्तमानJHN\"\n",
      "Copied audio file \"John 02.mp3\" to \"C:/Users/TANAY/anaconda3/envs/SIT/Bible_Texts\\योहानकृत शुभवर्तमानJHN\"\n",
      "Copied audio file \"John 03.mp3\" to \"C:/Users/TANAY/anaconda3/envs/SIT/Bible_Texts\\योहानकृत शुभवर्तमानJHN\"\n",
      "Copied audio file \"John 04.mp3\" to \"C:/Users/TANAY/anaconda3/envs/SIT/Bible_Texts\\योहानकृत शुभवर्तमानJHN\"\n",
      "Copied audio file \"John 05.mp3\" to \"C:/Users/TANAY/anaconda3/envs/SIT/Bible_Texts\\योहानकृत शुभवर्तमानJHN\"\n",
      "Copied audio file \"John 06.mp3\" to \"C:/Users/TANAY/anaconda3/envs/SIT/Bible_Texts\\योहानकृत शुभवर्तमानJHN\"\n",
      "Copied audio file \"John 07.mp3\" to \"C:/Users/TANAY/anaconda3/envs/SIT/Bible_Texts\\योहानकृत शुभवर्तमानJHN\"\n",
      "Copied audio file \"John 08.mp3\" to \"C:/Users/TANAY/anaconda3/envs/SIT/Bible_Texts\\योहानकृत शुभवर्तमानJHN\"\n",
      "Copied audio file \"John 09.mp3\" to \"C:/Users/TANAY/anaconda3/envs/SIT/Bible_Texts\\योहानकृत शुभवर्तमानJHN\"\n",
      "Copied audio file \"Jude 01.mp3\" to \"C:/Users/TANAY/anaconda3/envs/SIT/Bible_Texts\\यहूदाचे पत्र\"\n",
      "Copied audio file \"Luke 01.mp3\" to \"C:/Users/TANAY/anaconda3/envs/SIT/Bible_Texts\\लूककृत शुभवर्तमानLUK\"\n",
      "Copied audio file \"Luke 02.mp3\" to \"C:/Users/TANAY/anaconda3/envs/SIT/Bible_Texts\\लूककृत शुभवर्तमानLUK\"\n",
      "Copied audio file \"Luke 03.mp3\" to \"C:/Users/TANAY/anaconda3/envs/SIT/Bible_Texts\\लूककृत शुभवर्तमानLUK\"\n",
      "Copied audio file \"Luke 04.mp3\" to \"C:/Users/TANAY/anaconda3/envs/SIT/Bible_Texts\\लूककृत शुभवर्तमानLUK\"\n",
      "Copied audio file \"Luke 05.mp3\" to \"C:/Users/TANAY/anaconda3/envs/SIT/Bible_Texts\\लूककृत शुभवर्तमानLUK\"\n",
      "Copied audio file \"Luke 06.mp3\" to \"C:/Users/TANAY/anaconda3/envs/SIT/Bible_Texts\\लूककृत शुभवर्तमानLUK\"\n",
      "Copied audio file \"Luke 07.mp3\" to \"C:/Users/TANAY/anaconda3/envs/SIT/Bible_Texts\\लूककृत शुभवर्तमानLUK\"\n",
      "Copied audio file \"Luke 08.mp3\" to \"C:/Users/TANAY/anaconda3/envs/SIT/Bible_Texts\\लूककृत शुभवर्तमानLUK\"\n",
      "Copied audio file \"Luke 09.mp3\" to \"C:/Users/TANAY/anaconda3/envs/SIT/Bible_Texts\\लूककृत शुभवर्तमानLUK\"\n",
      "Copied audio file \"Mark 01.mp3\" to \"C:/Users/TANAY/anaconda3/envs/SIT/Bible_Texts\\मार्ककृत शुभवर्तमानMRK\"\n",
      "Copied audio file \"Mark 02.mp3\" to \"C:/Users/TANAY/anaconda3/envs/SIT/Bible_Texts\\मार्ककृत शुभवर्तमानMRK\"\n",
      "Copied audio file \"Mark 03.mp3\" to \"C:/Users/TANAY/anaconda3/envs/SIT/Bible_Texts\\मार्ककृत शुभवर्तमानMRK\"\n",
      "Copied audio file \"Mark 04.mp3\" to \"C:/Users/TANAY/anaconda3/envs/SIT/Bible_Texts\\मार्ककृत शुभवर्तमानMRK\"\n",
      "Copied audio file \"Mark 05.mp3\" to \"C:/Users/TANAY/anaconda3/envs/SIT/Bible_Texts\\मार्ककृत शुभवर्तमानMRK\"\n",
      "Copied audio file \"Mark 06.mp3\" to \"C:/Users/TANAY/anaconda3/envs/SIT/Bible_Texts\\मार्ककृत शुभवर्तमानMRK\"\n"
     ]
    },
    {
     "name": "stdout",
     "output_type": "stream",
     "text": [
      "Copied audio file \"Mark 07.mp3\" to \"C:/Users/TANAY/anaconda3/envs/SIT/Bible_Texts\\मार्ककृत शुभवर्तमानMRK\"\n",
      "Copied audio file \"Mark 08.mp3\" to \"C:/Users/TANAY/anaconda3/envs/SIT/Bible_Texts\\मार्ककृत शुभवर्तमानMRK\"\n",
      "Copied audio file \"Mark 09.mp3\" to \"C:/Users/TANAY/anaconda3/envs/SIT/Bible_Texts\\मार्ककृत शुभवर्तमानMRK\"\n",
      "Copied audio file \"Matthew 01.mp3\" to \"C:/Users/TANAY/anaconda3/envs/SIT/Bible_Texts\\मत्तयकृत शुभवर्तमानMAT\"\n",
      "Copied audio file \"Matthew 02.mp3\" to \"C:/Users/TANAY/anaconda3/envs/SIT/Bible_Texts\\मत्तयकृत शुभवर्तमानMAT\"\n",
      "Copied audio file \"Matthew 03.mp3\" to \"C:/Users/TANAY/anaconda3/envs/SIT/Bible_Texts\\मत्तयकृत शुभवर्तमानMAT\"\n",
      "Copied audio file \"Matthew 04.mp3\" to \"C:/Users/TANAY/anaconda3/envs/SIT/Bible_Texts\\मत्तयकृत शुभवर्तमानMAT\"\n",
      "Copied audio file \"Matthew 05.mp3\" to \"C:/Users/TANAY/anaconda3/envs/SIT/Bible_Texts\\मत्तयकृत शुभवर्तमानMAT\"\n",
      "Copied audio file \"Matthew 06.mp3\" to \"C:/Users/TANAY/anaconda3/envs/SIT/Bible_Texts\\मत्तयकृत शुभवर्तमानMAT\"\n",
      "Copied audio file \"Matthew 07.mp3\" to \"C:/Users/TANAY/anaconda3/envs/SIT/Bible_Texts\\मत्तयकृत शुभवर्तमानMAT\"\n",
      "Copied audio file \"Matthew 08.mp3\" to \"C:/Users/TANAY/anaconda3/envs/SIT/Bible_Texts\\मत्तयकृत शुभवर्तमानMAT\"\n",
      "Copied audio file \"Matthew 09.mp3\" to \"C:/Users/TANAY/anaconda3/envs/SIT/Bible_Texts\\मत्तयकृत शुभवर्तमानMAT\"\n",
      "Copied audio file \"Philemon 01.mp3\" to \"C:/Users/TANAY/anaconda3/envs/SIT/Bible_Texts\\फिलेमानाला पत्र\"\n",
      "Copied audio file \"Philippians 01.mp3\" to \"C:/Users/TANAY/anaconda3/envs/SIT/Bible_Texts\\फिलिप्पैकरांस पत्र\"\n",
      "Copied audio file \"Philippians 02.mp3\" to \"C:/Users/TANAY/anaconda3/envs/SIT/Bible_Texts\\फिलिप्पैकरांस पत्र\"\n",
      "Copied audio file \"Philippians 03.mp3\" to \"C:/Users/TANAY/anaconda3/envs/SIT/Bible_Texts\\फिलिप्पैकरांस पत्र\"\n",
      "Copied audio file \"Philippians 04.mp3\" to \"C:/Users/TANAY/anaconda3/envs/SIT/Bible_Texts\\फिलिप्पैकरांस पत्र\"\n",
      "Copied audio file \"Revelation 01.mp3\" to \"C:/Users/TANAY/anaconda3/envs/SIT/Bible_Texts\\प्रकटीकरण\"\n",
      "Copied audio file \"Revelation 02.mp3\" to \"C:/Users/TANAY/anaconda3/envs/SIT/Bible_Texts\\प्रकटीकरण\"\n",
      "Copied audio file \"Revelation 03.mp3\" to \"C:/Users/TANAY/anaconda3/envs/SIT/Bible_Texts\\प्रकटीकरण\"\n",
      "Copied audio file \"Revelation 04.mp3\" to \"C:/Users/TANAY/anaconda3/envs/SIT/Bible_Texts\\प्रकटीकरण\"\n",
      "Copied audio file \"Revelation 05.mp3\" to \"C:/Users/TANAY/anaconda3/envs/SIT/Bible_Texts\\प्रकटीकरण\"\n",
      "Copied audio file \"Revelation 06.mp3\" to \"C:/Users/TANAY/anaconda3/envs/SIT/Bible_Texts\\प्रकटीकरण\"\n",
      "Copied audio file \"Revelation 07.mp3\" to \"C:/Users/TANAY/anaconda3/envs/SIT/Bible_Texts\\प्रकटीकरण\"\n",
      "Copied audio file \"Revelation 08.mp3\" to \"C:/Users/TANAY/anaconda3/envs/SIT/Bible_Texts\\प्रकटीकरण\"\n",
      "Copied audio file \"Revelation 09.mp3\" to \"C:/Users/TANAY/anaconda3/envs/SIT/Bible_Texts\\प्रकटीकरण\"\n",
      "Copied audio file \"Revelation 10.mp3\" to \"C:/Users/TANAY/anaconda3/envs/SIT/Bible_Texts\\प्रकटीकरण\"\n",
      "Copied audio file \"Revelation 11.mp3\" to \"C:/Users/TANAY/anaconda3/envs/SIT/Bible_Texts\\प्रकटीकरण\"\n",
      "Copied audio file \"Revelation 12.mp3\" to \"C:/Users/TANAY/anaconda3/envs/SIT/Bible_Texts\\प्रकटीकरण\"\n",
      "Copied audio file \"Revelation 13.mp3\" to \"C:/Users/TANAY/anaconda3/envs/SIT/Bible_Texts\\प्रकटीकरण\"\n",
      "Copied audio file \"Revelation 14.mp3\" to \"C:/Users/TANAY/anaconda3/envs/SIT/Bible_Texts\\प्रकटीकरण\"\n",
      "Copied audio file \"Revelation 15.mp3\" to \"C:/Users/TANAY/anaconda3/envs/SIT/Bible_Texts\\प्रकटीकरण\"\n",
      "Copied audio file \"Revelation 16.mp3\" to \"C:/Users/TANAY/anaconda3/envs/SIT/Bible_Texts\\प्रकटीकरण\"\n",
      "Copied audio file \"Revelation 17.mp3\" to \"C:/Users/TANAY/anaconda3/envs/SIT/Bible_Texts\\प्रकटीकरण\"\n",
      "Copied audio file \"Revelation 18.mp3\" to \"C:/Users/TANAY/anaconda3/envs/SIT/Bible_Texts\\प्रकटीकरण\"\n",
      "Copied audio file \"Revelation 19.mp3\" to \"C:/Users/TANAY/anaconda3/envs/SIT/Bible_Texts\\प्रकटीकरण\"\n",
      "Copied audio file \"Revelation 20.mp3\" to \"C:/Users/TANAY/anaconda3/envs/SIT/Bible_Texts\\प्रकटीकरण\"\n",
      "Copied audio file \"Revelation 21.mp3\" to \"C:/Users/TANAY/anaconda3/envs/SIT/Bible_Texts\\प्रकटीकरण\"\n",
      "Copied audio file \"Revelation 22.mp3\" to \"C:/Users/TANAY/anaconda3/envs/SIT/Bible_Texts\\प्रकटीकरण\"\n",
      "Copied audio file \"Romans 01.mp3\" to \"C:/Users/TANAY/anaconda3/envs/SIT/Bible_Texts\\रोमकरांस पत्रROM\"\n",
      "Copied audio file \"Romans 02.mp3\" to \"C:/Users/TANAY/anaconda3/envs/SIT/Bible_Texts\\रोमकरांस पत्रROM\"\n",
      "Copied audio file \"Romans 03.mp3\" to \"C:/Users/TANAY/anaconda3/envs/SIT/Bible_Texts\\रोमकरांस पत्रROM\"\n",
      "Copied audio file \"Romans 04.mp3\" to \"C:/Users/TANAY/anaconda3/envs/SIT/Bible_Texts\\रोमकरांस पत्रROM\"\n",
      "Copied audio file \"Romans 05.mp3\" to \"C:/Users/TANAY/anaconda3/envs/SIT/Bible_Texts\\रोमकरांस पत्रROM\"\n",
      "Copied audio file \"Romans 06.mp3\" to \"C:/Users/TANAY/anaconda3/envs/SIT/Bible_Texts\\रोमकरांस पत्रROM\"\n",
      "Copied audio file \"Romans 07.mp3\" to \"C:/Users/TANAY/anaconda3/envs/SIT/Bible_Texts\\रोमकरांस पत्रROM\"\n",
      "Copied audio file \"Romans 08.mp3\" to \"C:/Users/TANAY/anaconda3/envs/SIT/Bible_Texts\\रोमकरांस पत्रROM\"\n",
      "Copied audio file \"Romans 09.mp3\" to \"C:/Users/TANAY/anaconda3/envs/SIT/Bible_Texts\\रोमकरांस पत्रROM\"\n",
      "Copied audio file \"Titus 01.mp3\" to \"C:/Users/TANAY/anaconda3/envs/SIT/Bible_Texts\\तीताला पत्र\"\n",
      "Copied audio file \"Titus 02.mp3\" to \"C:/Users/TANAY/anaconda3/envs/SIT/Bible_Texts\\तीताला पत्र\"\n",
      "Copied audio file \"Titus 03.mp3\" to \"C:/Users/TANAY/anaconda3/envs/SIT/Bible_Texts\\तीताला पत्र\"\n",
      "Copied audio file \"_01_1CorinthiansMARDPIN1DA.mp3\" to \"C:/Users/TANAY/anaconda3/envs/SIT/Bible_Texts\\करिंथकरांस पहिले पत्र\"\n",
      "Copied audio file \"_01_2CorinthiansMARDPIN1DA.mp3\" to \"C:/Users/TANAY/anaconda3/envs/SIT/Bible_Texts\\करिंथकरांस दुसरे पत्र\"\n",
      "Copied audio file \"_02_1CorinthiansMARDPIN1DA.mp3\" to \"C:/Users/TANAY/anaconda3/envs/SIT/Bible_Texts\\करिंथकरांस पहिले पत्र\"\n",
      "Copied audio file \"_02_2CorinthiansMARDPIN1DA.mp3\" to \"C:/Users/TANAY/anaconda3/envs/SIT/Bible_Texts\\करिंथकरांस दुसरे पत्र\"\n",
      "Copied audio file \"_03_1CorinthiansMARDPIN1DA.mp3\" to \"C:/Users/TANAY/anaconda3/envs/SIT/Bible_Texts\\करिंथकरांस पहिले पत्र\"\n",
      "Copied audio file \"_03_2CorinthiansMARDPIN1DA.mp3\" to \"C:/Users/TANAY/anaconda3/envs/SIT/Bible_Texts\\करिंथकरांस दुसरे पत्र\"\n",
      "Copied audio file \"_04_1CorinthiansMARDPIN1DA.mp3\" to \"C:/Users/TANAY/anaconda3/envs/SIT/Bible_Texts\\करिंथकरांस पहिले पत्र\"\n",
      "Copied audio file \"_04_2CorinthiansMARDPIN1DA.mp3\" to \"C:/Users/TANAY/anaconda3/envs/SIT/Bible_Texts\\करिंथकरांस दुसरे पत्र\"\n",
      "Copied audio file \"_05_1CorinthiansMARDPIN1DA.mp3\" to \"C:/Users/TANAY/anaconda3/envs/SIT/Bible_Texts\\करिंथकरांस पहिले पत्र\"\n",
      "Copied audio file \"_05_2CorinthiansMARDPIN1DA.mp3\" to \"C:/Users/TANAY/anaconda3/envs/SIT/Bible_Texts\\करिंथकरांस दुसरे पत्र\"\n",
      "Copied audio file \"_06_1CorinthiansMARDPIN1DA.mp3\" to \"C:/Users/TANAY/anaconda3/envs/SIT/Bible_Texts\\करिंथकरांस पहिले पत्र\"\n",
      "Copied audio file \"_06_2CorinthiansMARDPIN1DA.mp3\" to \"C:/Users/TANAY/anaconda3/envs/SIT/Bible_Texts\\करिंथकरांस दुसरे पत्र\"\n",
      "Copied audio file \"_07_1CorinthiansMARDPIN1DA.mp3\" to \"C:/Users/TANAY/anaconda3/envs/SIT/Bible_Texts\\करिंथकरांस पहिले पत्र\"\n",
      "Copied audio file \"_07_2CorinthiansMARDPIN1DA.mp3\" to \"C:/Users/TANAY/anaconda3/envs/SIT/Bible_Texts\\करिंथकरांस दुसरे पत्र\"\n",
      "Copied audio file \"_08_1CorinthiansMARDPIN1DA.mp3\" to \"C:/Users/TANAY/anaconda3/envs/SIT/Bible_Texts\\करिंथकरांस पहिले पत्र\"\n",
      "Copied audio file \"_08_2CorinthiansMARDPIN1DA.mp3\" to \"C:/Users/TANAY/anaconda3/envs/SIT/Bible_Texts\\करिंथकरांस दुसरे पत्र\"\n",
      "Copied audio file \"_09_1CorinthiansMARDPIN1DA.mp3\" to \"C:/Users/TANAY/anaconda3/envs/SIT/Bible_Texts\\करिंथकरांस पहिले पत्र\"\n",
      "Copied audio file \"_09_2CorinthiansMARDPIN1DA.mp3\" to \"C:/Users/TANAY/anaconda3/envs/SIT/Bible_Texts\\करिंथकरांस दुसरे पत्र\"\n",
      "Copied audio file \"_10_1CorinthiansMARDPIN1DA.mp3\" to \"C:/Users/TANAY/anaconda3/envs/SIT/Bible_Texts\\करिंथकरांस पहिले पत्र\"\n",
      "Copied audio file \"_10_2CorinthiansMARDPIN1DA.mp3\" to \"C:/Users/TANAY/anaconda3/envs/SIT/Bible_Texts\\करिंथकरांस दुसरे पत्र\"\n",
      "Copied audio file \"_11_1CorinthiansMARDPIN1DA.mp3\" to \"C:/Users/TANAY/anaconda3/envs/SIT/Bible_Texts\\करिंथकरांस पहिले पत्र\"\n",
      "Copied audio file \"_11_2CorinthiansMARDPIN1DA.mp3\" to \"C:/Users/TANAY/anaconda3/envs/SIT/Bible_Texts\\करिंथकरांस दुसरे पत्र\"\n",
      "Copied audio file \"_12_1CorinthiansMARDPIN1DA.mp3\" to \"C:/Users/TANAY/anaconda3/envs/SIT/Bible_Texts\\करिंथकरांस पहिले पत्र\"\n",
      "Copied audio file \"_12_2CorinthiansMARDPIN1DA.mp3\" to \"C:/Users/TANAY/anaconda3/envs/SIT/Bible_Texts\\करिंथकरांस दुसरे पत्र\"\n",
      "Copied audio file \"_13_1CorinthiansMARDPIN1DA.mp3\" to \"C:/Users/TANAY/anaconda3/envs/SIT/Bible_Texts\\करिंथकरांस पहिले पत्र\"\n",
      "Copied audio file \"_13_2CorinthiansMARDPIN1DA.mp3\" to \"C:/Users/TANAY/anaconda3/envs/SIT/Bible_Texts\\करिंथकरांस दुसरे पत्र\"\n",
      "Copied audio file \"_14_1CorinthiansMARDPIN1DA.mp3\" to \"C:/Users/TANAY/anaconda3/envs/SIT/Bible_Texts\\करिंथकरांस पहिले पत्र\"\n",
      "Copied audio file \"_15_1CorinthiansMARDPIN1DA.mp3\" to \"C:/Users/TANAY/anaconda3/envs/SIT/Bible_Texts\\करिंथकरांस पहिले पत्र\"\n",
      "Copied audio file \"_16_1CorinthiansMARDPIN1DA.mp3\" to \"C:/Users/TANAY/anaconda3/envs/SIT/Bible_Texts\\करिंथकरांस पहिले पत्र\"\n"
     ]
    }
   ],
   "source": [
    "import os\n",
    "import shutil\n",
    "\n",
    "# Define paths\n",
    "audio_files_path = \"T:\\MARDPIN1DA\\Marathi_mar_DPI_NT_Non-Drama\"\n",
    "main_folders_path = \"C:/Users/TANAY/anaconda3/envs/SIT/Bible_Texts\"\n",
    "\n",
    "# Dictionary mapping\n",
    "book_dict = {\n",
    "    'मत्तयकृत शुभवर्तमानMAT': 'Matthew', 'मार्ककृत शुभवर्तमानMRK': 'Mark', 'लूककृत शुभवर्तमानLUK': 'Luke', \n",
    "    'योहानकृत शुभवर्तमानJHN': 'John', 'प्रेषितांची कृत्ये': 'Acts', 'रोमकरांस पत्रROM': 'Romans',\n",
    "    'करिंथकरांस पहिले पत्र': '1CorinthiansMARDPIN1DA', 'करिंथकरांस दुसरे पत्र': '2CorinthiansMARDPIN1DA', 'गलतीकरांस पत्र': 'Galatians', \n",
    "    'इफिसकरांस पत्र': 'Ephesians', 'फिलिप्पैकरांस पत्र': 'Philippians', 'कलस्सैकरांस पत्र': 'Colossians',\n",
    "    'थेस्सलनीकाकरांस पहिले पत्र': '1Thess', 'थेस्सलनीकाकरांस दुसरे पत्र': '2Thess', 'तीमथ्याला पहिले पत्र': '1Timothy', \n",
    "    'तीमथ्याला दुसरे पत्र': '2Timonty', 'तीताला पत्र': 'Titus', 'फिलेमानाला पत्र': 'Philemon', 'इब्री लोकांस पत्र': 'Hebrews', \n",
    "    'याकोबाचे पत्र': 'James', 'यहूदाचे पत्र': 'Jude', 'योहानाचे पहिले पत्र': '1John', 'योहानाचे दुसरे पत्र': '2john', 'योहानाचे तिसरे पत्र': '3john', \n",
    "    'प्रकटीकरण': 'Revelation'\n",
    "}\n",
    "\n",
    "# Function to copy audio and corresponding text files to the appropriate folders\n",
    "def copy_files(audio_path, main_folders_path, book_mapping):\n",
    "    for audio_file in os.listdir(audio_path):\n",
    "        if audio_file.endswith(('.mp3', '.wav')):  # Assuming audio files are in .mp3 or .wav format\n",
    "            for marathi_name, english_name in book_mapping.items():\n",
    "                if english_name in audio_file:\n",
    "                    # Determine the destination folder\n",
    "                    destination_folder = os.path.join(main_folders_path, marathi_name)\n",
    "                    if not os.path.exists(destination_folder):\n",
    "                        os.makedirs(destination_folder)\n",
    "                    \n",
    "                    # Copy the audio file to the destination folder\n",
    "                    audio_file_path = os.path.join(audio_path, audio_file)\n",
    "                    shutil.copy(audio_file_path, destination_folder)\n",
    "                    print(f'Copied audio file \"{audio_file}\" to \"{destination_folder}\"')\n",
    "                    \n",
    "                    # Determine the corresponding text file\n",
    "                    match = re.search(r'_(\\d+)_', audio_file)\n",
    "                    if match:\n",
    "                        text_file_name = f'{match.group(1)}.txt'\n",
    "                        text_file_path = os.path.join(main_folders_path, marathi_name, text_file_name)\n",
    "                        if os.path.exists(text_file_path):\n",
    "                            shutil.copy(text_file_path, destination_folder)\n",
    "                            print(f'Copied text file \"{text_file_name}\" to \"{destination_folder}\"')\n",
    "                    break\n",
    "\n",
    "# Call the function\n",
    "copy_files(audio_files_path, main_folders_path, book_dict)\n"
   ]
  },
  {
   "cell_type": "code",
   "execution_count": 27,
   "id": "adffaa52",
   "metadata": {},
   "outputs": [
    {
     "name": "stdout",
     "output_type": "stream",
     "text": [
      "Moved 1.txt and _01_Ephesians___MARDPIN1DA.mp3 to C:/Users/TANAY/anaconda3/envs/SIT/Bible_Texts\\इफिसकरांस पत्रEPH\\Subfolder__01_Ephesians___MARDPIN1DA\n",
      "Moved 2.txt and _02_Ephesians___MARDPIN1DA.mp3 to C:/Users/TANAY/anaconda3/envs/SIT/Bible_Texts\\इफिसकरांस पत्रEPH\\Subfolder__02_Ephesians___MARDPIN1DA\n",
      "Moved 3.txt and _03_Ephesians___MARDPIN1DA.mp3 to C:/Users/TANAY/anaconda3/envs/SIT/Bible_Texts\\इफिसकरांस पत्रEPH\\Subfolder__03_Ephesians___MARDPIN1DA\n",
      "Moved 4.txt and _04_Ephesians___MARDPIN1DA.mp3 to C:/Users/TANAY/anaconda3/envs/SIT/Bible_Texts\\इफिसकरांस पत्रEPH\\Subfolder__04_Ephesians___MARDPIN1DA\n",
      "Moved 5.txt and _05_Ephesians___MARDPIN1DA.mp3 to C:/Users/TANAY/anaconda3/envs/SIT/Bible_Texts\\इफिसकरांस पत्रEPH\\Subfolder__05_Ephesians___MARDPIN1DA\n",
      "Moved 6.txt and _06_Ephesians___MARDPIN1DA.mp3 to C:/Users/TANAY/anaconda3/envs/SIT/Bible_Texts\\इफिसकरांस पत्रEPH\\Subfolder__06_Ephesians___MARDPIN1DA\n",
      "Moved 1.txt and _01_Hebrews_____MARDPIN1DA.mp3 to C:/Users/TANAY/anaconda3/envs/SIT/Bible_Texts\\इब्री लोकांस पत्रHEB\\Subfolder__01_Hebrews_____MARDPIN1DA\n",
      "Moved 10.txt and _10_Hebrews_____MARDPIN1DA.mp3 to C:/Users/TANAY/anaconda3/envs/SIT/Bible_Texts\\इब्री लोकांस पत्रHEB\\Subfolder__10_Hebrews_____MARDPIN1DA\n",
      "Moved 11.txt and _11_Hebrews_____MARDPIN1DA.mp3 to C:/Users/TANAY/anaconda3/envs/SIT/Bible_Texts\\इब्री लोकांस पत्रHEB\\Subfolder__11_Hebrews_____MARDPIN1DA\n",
      "Moved 12.txt and _12_Hebrews_____MARDPIN1DA.mp3 to C:/Users/TANAY/anaconda3/envs/SIT/Bible_Texts\\इब्री लोकांस पत्रHEB\\Subfolder__12_Hebrews_____MARDPIN1DA\n",
      "Moved 13.txt and _13_Hebrews_____MARDPIN1DA.mp3 to C:/Users/TANAY/anaconda3/envs/SIT/Bible_Texts\\इब्री लोकांस पत्रHEB\\Subfolder__13_Hebrews_____MARDPIN1DA\n",
      "Moved 2.txt and _02_Hebrews_____MARDPIN1DA.mp3 to C:/Users/TANAY/anaconda3/envs/SIT/Bible_Texts\\इब्री लोकांस पत्रHEB\\Subfolder__02_Hebrews_____MARDPIN1DA\n",
      "Moved 3.txt and _03_Hebrews_____MARDPIN1DA.mp3 to C:/Users/TANAY/anaconda3/envs/SIT/Bible_Texts\\इब्री लोकांस पत्रHEB\\Subfolder__03_Hebrews_____MARDPIN1DA\n",
      "Moved 4.txt and _04_Hebrews_____MARDPIN1DA.mp3 to C:/Users/TANAY/anaconda3/envs/SIT/Bible_Texts\\इब्री लोकांस पत्रHEB\\Subfolder__04_Hebrews_____MARDPIN1DA\n",
      "Moved 5.txt and _05_Hebrews_____MARDPIN1DA.mp3 to C:/Users/TANAY/anaconda3/envs/SIT/Bible_Texts\\इब्री लोकांस पत्रHEB\\Subfolder__05_Hebrews_____MARDPIN1DA\n",
      "Moved 6.txt and _06_Hebrews_____MARDPIN1DA.mp3 to C:/Users/TANAY/anaconda3/envs/SIT/Bible_Texts\\इब्री लोकांस पत्रHEB\\Subfolder__06_Hebrews_____MARDPIN1DA\n",
      "Moved 7.txt and _07_Hebrews_____MARDPIN1DA.mp3 to C:/Users/TANAY/anaconda3/envs/SIT/Bible_Texts\\इब्री लोकांस पत्रHEB\\Subfolder__07_Hebrews_____MARDPIN1DA\n",
      "Moved 8.txt and _08_Hebrews_____MARDPIN1DA.mp3 to C:/Users/TANAY/anaconda3/envs/SIT/Bible_Texts\\इब्री लोकांस पत्रHEB\\Subfolder__08_Hebrews_____MARDPIN1DA\n",
      "Moved 9.txt and _09_Hebrews_____MARDPIN1DA.mp3 to C:/Users/TANAY/anaconda3/envs/SIT/Bible_Texts\\इब्री लोकांस पत्रHEB\\Subfolder__09_Hebrews_____MARDPIN1DA\n",
      "Moved 1.txt and _01_2CorinthiansMARDPIN1DA.mp3 to C:/Users/TANAY/anaconda3/envs/SIT/Bible_Texts\\करिंथकरांस दुसरे पत्र2CO\\Subfolder__01_2CorinthiansMARDPIN1DA\n",
      "Moved 10.txt and _10_2CorinthiansMARDPIN1DA.mp3 to C:/Users/TANAY/anaconda3/envs/SIT/Bible_Texts\\करिंथकरांस दुसरे पत्र2CO\\Subfolder__10_2CorinthiansMARDPIN1DA\n",
      "Moved 11.txt and _11_2CorinthiansMARDPIN1DA.mp3 to C:/Users/TANAY/anaconda3/envs/SIT/Bible_Texts\\करिंथकरांस दुसरे पत्र2CO\\Subfolder__11_2CorinthiansMARDPIN1DA\n",
      "Moved 12.txt and _12_2CorinthiansMARDPIN1DA.mp3 to C:/Users/TANAY/anaconda3/envs/SIT/Bible_Texts\\करिंथकरांस दुसरे पत्र2CO\\Subfolder__12_2CorinthiansMARDPIN1DA\n",
      "Moved 13.txt and _13_2CorinthiansMARDPIN1DA.mp3 to C:/Users/TANAY/anaconda3/envs/SIT/Bible_Texts\\करिंथकरांस दुसरे पत्र2CO\\Subfolder__13_2CorinthiansMARDPIN1DA\n",
      "Moved 2.txt and _02_2CorinthiansMARDPIN1DA.mp3 to C:/Users/TANAY/anaconda3/envs/SIT/Bible_Texts\\करिंथकरांस दुसरे पत्र2CO\\Subfolder__02_2CorinthiansMARDPIN1DA\n",
      "Moved 3.txt and _03_2CorinthiansMARDPIN1DA.mp3 to C:/Users/TANAY/anaconda3/envs/SIT/Bible_Texts\\करिंथकरांस दुसरे पत्र2CO\\Subfolder__03_2CorinthiansMARDPIN1DA\n",
      "Moved 4.txt and _04_2CorinthiansMARDPIN1DA.mp3 to C:/Users/TANAY/anaconda3/envs/SIT/Bible_Texts\\करिंथकरांस दुसरे पत्र2CO\\Subfolder__04_2CorinthiansMARDPIN1DA\n",
      "Moved 5.txt and _05_2CorinthiansMARDPIN1DA.mp3 to C:/Users/TANAY/anaconda3/envs/SIT/Bible_Texts\\करिंथकरांस दुसरे पत्र2CO\\Subfolder__05_2CorinthiansMARDPIN1DA\n",
      "Moved 6.txt and _06_2CorinthiansMARDPIN1DA.mp3 to C:/Users/TANAY/anaconda3/envs/SIT/Bible_Texts\\करिंथकरांस दुसरे पत्र2CO\\Subfolder__06_2CorinthiansMARDPIN1DA\n",
      "Moved 7.txt and _07_2CorinthiansMARDPIN1DA.mp3 to C:/Users/TANAY/anaconda3/envs/SIT/Bible_Texts\\करिंथकरांस दुसरे पत्र2CO\\Subfolder__07_2CorinthiansMARDPIN1DA\n",
      "Moved 8.txt and _08_2CorinthiansMARDPIN1DA.mp3 to C:/Users/TANAY/anaconda3/envs/SIT/Bible_Texts\\करिंथकरांस दुसरे पत्र2CO\\Subfolder__08_2CorinthiansMARDPIN1DA\n",
      "Moved 9.txt and _09_2CorinthiansMARDPIN1DA.mp3 to C:/Users/TANAY/anaconda3/envs/SIT/Bible_Texts\\करिंथकरांस दुसरे पत्र2CO\\Subfolder__09_2CorinthiansMARDPIN1DA\n",
      "Moved 1.txt and _01_1CorinthiansMARDPIN1DA.mp3 to C:/Users/TANAY/anaconda3/envs/SIT/Bible_Texts\\करिंथकरांस पहिले पत्र1CO\\Subfolder__01_1CorinthiansMARDPIN1DA\n",
      "Moved 10.txt and _10_1CorinthiansMARDPIN1DA.mp3 to C:/Users/TANAY/anaconda3/envs/SIT/Bible_Texts\\करिंथकरांस पहिले पत्र1CO\\Subfolder__10_1CorinthiansMARDPIN1DA\n",
      "Moved 11.txt and _11_1CorinthiansMARDPIN1DA.mp3 to C:/Users/TANAY/anaconda3/envs/SIT/Bible_Texts\\करिंथकरांस पहिले पत्र1CO\\Subfolder__11_1CorinthiansMARDPIN1DA\n",
      "Moved 12.txt and _12_1CorinthiansMARDPIN1DA.mp3 to C:/Users/TANAY/anaconda3/envs/SIT/Bible_Texts\\करिंथकरांस पहिले पत्र1CO\\Subfolder__12_1CorinthiansMARDPIN1DA\n",
      "Moved 13.txt and _13_1CorinthiansMARDPIN1DA.mp3 to C:/Users/TANAY/anaconda3/envs/SIT/Bible_Texts\\करिंथकरांस पहिले पत्र1CO\\Subfolder__13_1CorinthiansMARDPIN1DA\n",
      "Moved 14.txt and _14_1CorinthiansMARDPIN1DA.mp3 to C:/Users/TANAY/anaconda3/envs/SIT/Bible_Texts\\करिंथकरांस पहिले पत्र1CO\\Subfolder__14_1CorinthiansMARDPIN1DA\n",
      "Moved 15.txt and _15_1CorinthiansMARDPIN1DA.mp3 to C:/Users/TANAY/anaconda3/envs/SIT/Bible_Texts\\करिंथकरांस पहिले पत्र1CO\\Subfolder__15_1CorinthiansMARDPIN1DA\n",
      "Moved 16.txt and _16_1CorinthiansMARDPIN1DA.mp3 to C:/Users/TANAY/anaconda3/envs/SIT/Bible_Texts\\करिंथकरांस पहिले पत्र1CO\\Subfolder__16_1CorinthiansMARDPIN1DA\n",
      "Moved 2.txt and _02_1CorinthiansMARDPIN1DA.mp3 to C:/Users/TANAY/anaconda3/envs/SIT/Bible_Texts\\करिंथकरांस पहिले पत्र1CO\\Subfolder__02_1CorinthiansMARDPIN1DA\n",
      "Moved 3.txt and _03_1CorinthiansMARDPIN1DA.mp3 to C:/Users/TANAY/anaconda3/envs/SIT/Bible_Texts\\करिंथकरांस पहिले पत्र1CO\\Subfolder__03_1CorinthiansMARDPIN1DA\n",
      "Moved 4.txt and _04_1CorinthiansMARDPIN1DA.mp3 to C:/Users/TANAY/anaconda3/envs/SIT/Bible_Texts\\करिंथकरांस पहिले पत्र1CO\\Subfolder__04_1CorinthiansMARDPIN1DA\n",
      "Moved 5.txt and _05_1CorinthiansMARDPIN1DA.mp3 to C:/Users/TANAY/anaconda3/envs/SIT/Bible_Texts\\करिंथकरांस पहिले पत्र1CO\\Subfolder__05_1CorinthiansMARDPIN1DA\n",
      "Moved 6.txt and _06_1CorinthiansMARDPIN1DA.mp3 to C:/Users/TANAY/anaconda3/envs/SIT/Bible_Texts\\करिंथकरांस पहिले पत्र1CO\\Subfolder__06_1CorinthiansMARDPIN1DA\n",
      "Moved 7.txt and _07_1CorinthiansMARDPIN1DA.mp3 to C:/Users/TANAY/anaconda3/envs/SIT/Bible_Texts\\करिंथकरांस पहिले पत्र1CO\\Subfolder__07_1CorinthiansMARDPIN1DA\n",
      "Moved 8.txt and _08_1CorinthiansMARDPIN1DA.mp3 to C:/Users/TANAY/anaconda3/envs/SIT/Bible_Texts\\करिंथकरांस पहिले पत्र1CO\\Subfolder__08_1CorinthiansMARDPIN1DA\n",
      "Moved 9.txt and _09_1CorinthiansMARDPIN1DA.mp3 to C:/Users/TANAY/anaconda3/envs/SIT/Bible_Texts\\करिंथकरांस पहिले पत्र1CO\\Subfolder__09_1CorinthiansMARDPIN1DA\n",
      "Moved 1.txt and _01_Colossians__MARDPIN1DA.mp3 to C:/Users/TANAY/anaconda3/envs/SIT/Bible_Texts\\कलस्सैकरांस पत्रCOL\\Subfolder__01_Colossians__MARDPIN1DA\n",
      "Moved 2.txt and _02_Colossians__MARDPIN1DA.mp3 to C:/Users/TANAY/anaconda3/envs/SIT/Bible_Texts\\कलस्सैकरांस पत्रCOL\\Subfolder__02_Colossians__MARDPIN1DA\n",
      "Moved 3.txt and _03_Colossians__MARDPIN1DA.mp3 to C:/Users/TANAY/anaconda3/envs/SIT/Bible_Texts\\कलस्सैकरांस पत्रCOL\\Subfolder__03_Colossians__MARDPIN1DA\n",
      "Moved 4.txt and _04_Colossians__MARDPIN1DA.mp3 to C:/Users/TANAY/anaconda3/envs/SIT/Bible_Texts\\कलस्सैकरांस पत्रCOL\\Subfolder__04_Colossians__MARDPIN1DA\n",
      "Moved 1.txt and _01_Galatians___MARDPIN1DA.mp3 to C:/Users/TANAY/anaconda3/envs/SIT/Bible_Texts\\गलतीकरांस पत्रGAL\\Subfolder__01_Galatians___MARDPIN1DA\n",
      "Moved 2.txt and _02_Galatians___MARDPIN1DA.mp3 to C:/Users/TANAY/anaconda3/envs/SIT/Bible_Texts\\गलतीकरांस पत्रGAL\\Subfolder__02_Galatians___MARDPIN1DA\n",
      "Moved 3.txt and _03_Galatians___MARDPIN1DA.mp3 to C:/Users/TANAY/anaconda3/envs/SIT/Bible_Texts\\गलतीकरांस पत्रGAL\\Subfolder__03_Galatians___MARDPIN1DA\n",
      "Moved 4.txt and _04_Galatians___MARDPIN1DA.mp3 to C:/Users/TANAY/anaconda3/envs/SIT/Bible_Texts\\गलतीकरांस पत्रGAL\\Subfolder__04_Galatians___MARDPIN1DA\n",
      "Moved 5.txt and _05_Galatians___MARDPIN1DA.mp3 to C:/Users/TANAY/anaconda3/envs/SIT/Bible_Texts\\गलतीकरांस पत्रGAL\\Subfolder__05_Galatians___MARDPIN1DA\n",
      "Moved 6.txt and _06_Galatians___MARDPIN1DA.mp3 to C:/Users/TANAY/anaconda3/envs/SIT/Bible_Texts\\गलतीकरांस पत्रGAL\\Subfolder__06_Galatians___MARDPIN1DA\n",
      "Moved 1.txt and _01_Titus_______MARDPIN1DA.mp3 to C:/Users/TANAY/anaconda3/envs/SIT/Bible_Texts\\तीताला पत्रTIT\\Subfolder__01_Titus_______MARDPIN1DA\n",
      "Moved 2.txt and _02_Titus_______MARDPIN1DA.mp3 to C:/Users/TANAY/anaconda3/envs/SIT/Bible_Texts\\तीताला पत्रTIT\\Subfolder__02_Titus_______MARDPIN1DA\n",
      "Moved 3.txt and _03_Titus_______MARDPIN1DA.mp3 to C:/Users/TANAY/anaconda3/envs/SIT/Bible_Texts\\तीताला पत्रTIT\\Subfolder__03_Titus_______MARDPIN1DA\n",
      "Moved 1.txt and _01_2Timothy____MARDPIN1DA.mp3 to C:/Users/TANAY/anaconda3/envs/SIT/Bible_Texts\\तीमथ्याला दुसरे पत्र2TI\\Subfolder__01_2Timothy____MARDPIN1DA\n",
      "Moved 2.txt and _02_2Timothy____MARDPIN1DA.mp3 to C:/Users/TANAY/anaconda3/envs/SIT/Bible_Texts\\तीमथ्याला दुसरे पत्र2TI\\Subfolder__02_2Timothy____MARDPIN1DA\n",
      "Moved 3.txt and _03_2Timothy____MARDPIN1DA.mp3 to C:/Users/TANAY/anaconda3/envs/SIT/Bible_Texts\\तीमथ्याला दुसरे पत्र2TI\\Subfolder__03_2Timothy____MARDPIN1DA\n",
      "Moved 4.txt and _04_2Timothy____MARDPIN1DA.mp3 to C:/Users/TANAY/anaconda3/envs/SIT/Bible_Texts\\तीमथ्याला दुसरे पत्र2TI\\Subfolder__04_2Timothy____MARDPIN1DA\n",
      "Moved 1.txt and _01_1Timothy____MARDPIN1DA.mp3 to C:/Users/TANAY/anaconda3/envs/SIT/Bible_Texts\\तीमथ्याला पहिले पत्र1TI\\Subfolder__01_1Timothy____MARDPIN1DA\n",
      "Moved 2.txt and _02_1Timothy____MARDPIN1DA.mp3 to C:/Users/TANAY/anaconda3/envs/SIT/Bible_Texts\\तीमथ्याला पहिले पत्र1TI\\Subfolder__02_1Timothy____MARDPIN1DA\n"
     ]
    },
    {
     "name": "stdout",
     "output_type": "stream",
     "text": [
      "Moved 3.txt and _03_1Timothy____MARDPIN1DA.mp3 to C:/Users/TANAY/anaconda3/envs/SIT/Bible_Texts\\तीमथ्याला पहिले पत्र1TI\\Subfolder__03_1Timothy____MARDPIN1DA\n",
      "Moved 4.txt and _04_1Timothy____MARDPIN1DA.mp3 to C:/Users/TANAY/anaconda3/envs/SIT/Bible_Texts\\तीमथ्याला पहिले पत्र1TI\\Subfolder__04_1Timothy____MARDPIN1DA\n",
      "Moved 5.txt and _05_1Timothy____MARDPIN1DA.mp3 to C:/Users/TANAY/anaconda3/envs/SIT/Bible_Texts\\तीमथ्याला पहिले पत्र1TI\\Subfolder__05_1Timothy____MARDPIN1DA\n",
      "Moved 6.txt and _06_1Timothy____MARDPIN1DA.mp3 to C:/Users/TANAY/anaconda3/envs/SIT/Bible_Texts\\तीमथ्याला पहिले पत्र1TI\\Subfolder__06_1Timothy____MARDPIN1DA\n",
      "Moved 1.txt and _01_2Thess______MARDPIN1DA.mp3 to C:/Users/TANAY/anaconda3/envs/SIT/Bible_Texts\\थेस्सलनीकाकरांस दुसरे पत्र2TH\\Subfolder__01_2Thess______MARDPIN1DA\n",
      "Moved 2.txt and _02_2Thess______MARDPIN1DA.mp3 to C:/Users/TANAY/anaconda3/envs/SIT/Bible_Texts\\थेस्सलनीकाकरांस दुसरे पत्र2TH\\Subfolder__02_2Thess______MARDPIN1DA\n",
      "Moved 3.txt and _03_2Thess______MARDPIN1DA.mp3 to C:/Users/TANAY/anaconda3/envs/SIT/Bible_Texts\\थेस्सलनीकाकरांस दुसरे पत्र2TH\\Subfolder__03_2Thess______MARDPIN1DA\n",
      "Moved 1.txt and _01_1Thess______MARDPIN1DA.mp3 to C:/Users/TANAY/anaconda3/envs/SIT/Bible_Texts\\थेस्सलनीकाकरांस पहिले पत्र1TH\\Subfolder__01_1Thess______MARDPIN1DA\n",
      "Moved 2.txt and _02_1Thess______MARDPIN1DA.mp3 to C:/Users/TANAY/anaconda3/envs/SIT/Bible_Texts\\थेस्सलनीकाकरांस पहिले पत्र1TH\\Subfolder__02_1Thess______MARDPIN1DA\n",
      "Moved 3.txt and _03_1Thess______MARDPIN1DA.mp3 to C:/Users/TANAY/anaconda3/envs/SIT/Bible_Texts\\थेस्सलनीकाकरांस पहिले पत्र1TH\\Subfolder__03_1Thess______MARDPIN1DA\n",
      "Moved 4.txt and _04_1Thess______MARDPIN1DA.mp3 to C:/Users/TANAY/anaconda3/envs/SIT/Bible_Texts\\थेस्सलनीकाकरांस पहिले पत्र1TH\\Subfolder__04_1Thess______MARDPIN1DA\n",
      "Moved 5.txt and _05_1Thess______MARDPIN1DA.mp3 to C:/Users/TANAY/anaconda3/envs/SIT/Bible_Texts\\थेस्सलनीकाकरांस पहिले पत्र1TH\\Subfolder__05_1Thess______MARDPIN1DA\n",
      "Moved 1.txt and _01_2Peter______MARDPIN1DA.mp3 to C:/Users/TANAY/anaconda3/envs/SIT/Bible_Texts\\पेत्राचे दुसरे पत्र2PE\\Subfolder__01_2Peter______MARDPIN1DA\n",
      "Moved 2.txt and _02_2Peter______MARDPIN1DA.mp3 to C:/Users/TANAY/anaconda3/envs/SIT/Bible_Texts\\पेत्राचे दुसरे पत्र2PE\\Subfolder__02_2Peter______MARDPIN1DA\n",
      "Moved 3.txt and _03_2Peter______MARDPIN1DA.mp3 to C:/Users/TANAY/anaconda3/envs/SIT/Bible_Texts\\पेत्राचे दुसरे पत्र2PE\\Subfolder__03_2Peter______MARDPIN1DA\n",
      "Moved 1.txt and _01_1Peter______MARDPIN1DA.mp3 to C:/Users/TANAY/anaconda3/envs/SIT/Bible_Texts\\पेत्राचे पहिले पत्र1PE\\Subfolder__01_1Peter______MARDPIN1DA\n",
      "Moved 2.txt and _02_1Peter______MARDPIN1DA.mp3 to C:/Users/TANAY/anaconda3/envs/SIT/Bible_Texts\\पेत्राचे पहिले पत्र1PE\\Subfolder__02_1Peter______MARDPIN1DA\n",
      "Moved 3.txt and _03_1Peter______MARDPIN1DA.mp3 to C:/Users/TANAY/anaconda3/envs/SIT/Bible_Texts\\पेत्राचे पहिले पत्र1PE\\Subfolder__03_1Peter______MARDPIN1DA\n",
      "Moved 4.txt and _04_1Peter______MARDPIN1DA.mp3 to C:/Users/TANAY/anaconda3/envs/SIT/Bible_Texts\\पेत्राचे पहिले पत्र1PE\\Subfolder__04_1Peter______MARDPIN1DA\n",
      "Moved 5.txt and _05_1Peter______MARDPIN1DA.mp3 to C:/Users/TANAY/anaconda3/envs/SIT/Bible_Texts\\पेत्राचे पहिले पत्र1PE\\Subfolder__05_1Peter______MARDPIN1DA\n",
      "Moved 1.txt and _01_Acts________MARDPIN1DA.mp3 to C:/Users/TANAY/anaconda3/envs/SIT/Bible_Texts\\प्रकटीकरणREV\\Subfolder__01_Acts________MARDPIN1DA\n",
      "Moved 10.txt and _10_Acts________MARDPIN1DA.mp3 to C:/Users/TANAY/anaconda3/envs/SIT/Bible_Texts\\प्रकटीकरणREV\\Subfolder__10_Acts________MARDPIN1DA\n",
      "Moved 11.txt and _11_Acts________MARDPIN1DA.mp3 to C:/Users/TANAY/anaconda3/envs/SIT/Bible_Texts\\प्रकटीकरणREV\\Subfolder__11_Acts________MARDPIN1DA\n",
      "Moved 12.txt and _12_Acts________MARDPIN1DA.mp3 to C:/Users/TANAY/anaconda3/envs/SIT/Bible_Texts\\प्रकटीकरणREV\\Subfolder__12_Acts________MARDPIN1DA\n",
      "Moved 13.txt and _13_Acts________MARDPIN1DA.mp3 to C:/Users/TANAY/anaconda3/envs/SIT/Bible_Texts\\प्रकटीकरणREV\\Subfolder__13_Acts________MARDPIN1DA\n",
      "Moved 14.txt and _14_Acts________MARDPIN1DA.mp3 to C:/Users/TANAY/anaconda3/envs/SIT/Bible_Texts\\प्रकटीकरणREV\\Subfolder__14_Acts________MARDPIN1DA\n",
      "Moved 15.txt and _15_Acts________MARDPIN1DA.mp3 to C:/Users/TANAY/anaconda3/envs/SIT/Bible_Texts\\प्रकटीकरणREV\\Subfolder__15_Acts________MARDPIN1DA\n",
      "Moved 16.txt and _16_Acts________MARDPIN1DA.mp3 to C:/Users/TANAY/anaconda3/envs/SIT/Bible_Texts\\प्रकटीकरणREV\\Subfolder__16_Acts________MARDPIN1DA\n",
      "Moved 17.txt and _17_Acts________MARDPIN1DA.mp3 to C:/Users/TANAY/anaconda3/envs/SIT/Bible_Texts\\प्रकटीकरणREV\\Subfolder__17_Acts________MARDPIN1DA\n",
      "Moved 18.txt and _18_Acts________MARDPIN1DA.mp3 to C:/Users/TANAY/anaconda3/envs/SIT/Bible_Texts\\प्रकटीकरणREV\\Subfolder__18_Acts________MARDPIN1DA\n",
      "Moved 19.txt and _19_Acts________MARDPIN1DA.mp3 to C:/Users/TANAY/anaconda3/envs/SIT/Bible_Texts\\प्रकटीकरणREV\\Subfolder__19_Acts________MARDPIN1DA\n",
      "Moved 2.txt and _02_Acts________MARDPIN1DA.mp3 to C:/Users/TANAY/anaconda3/envs/SIT/Bible_Texts\\प्रकटीकरणREV\\Subfolder__02_Acts________MARDPIN1DA\n",
      "Moved 20.txt and _20_Acts________MARDPIN1DA.mp3 to C:/Users/TANAY/anaconda3/envs/SIT/Bible_Texts\\प्रकटीकरणREV\\Subfolder__20_Acts________MARDPIN1DA\n",
      "Moved 21.txt and _21_Acts________MARDPIN1DA.mp3 to C:/Users/TANAY/anaconda3/envs/SIT/Bible_Texts\\प्रकटीकरणREV\\Subfolder__21_Acts________MARDPIN1DA\n",
      "Moved 22.txt and _22_Acts________MARDPIN1DA.mp3 to C:/Users/TANAY/anaconda3/envs/SIT/Bible_Texts\\प्रकटीकरणREV\\Subfolder__22_Acts________MARDPIN1DA\n",
      "Moved 3.txt and _03_Acts________MARDPIN1DA.mp3 to C:/Users/TANAY/anaconda3/envs/SIT/Bible_Texts\\प्रकटीकरणREV\\Subfolder__03_Acts________MARDPIN1DA\n",
      "Moved 4.txt and _04_Acts________MARDPIN1DA.mp3 to C:/Users/TANAY/anaconda3/envs/SIT/Bible_Texts\\प्रकटीकरणREV\\Subfolder__04_Acts________MARDPIN1DA\n",
      "Moved 5.txt and _05_Acts________MARDPIN1DA.mp3 to C:/Users/TANAY/anaconda3/envs/SIT/Bible_Texts\\प्रकटीकरणREV\\Subfolder__05_Acts________MARDPIN1DA\n",
      "Moved 6.txt and _06_Acts________MARDPIN1DA.mp3 to C:/Users/TANAY/anaconda3/envs/SIT/Bible_Texts\\प्रकटीकरणREV\\Subfolder__06_Acts________MARDPIN1DA\n",
      "Moved 7.txt and _07_Acts________MARDPIN1DA.mp3 to C:/Users/TANAY/anaconda3/envs/SIT/Bible_Texts\\प्रकटीकरणREV\\Subfolder__07_Acts________MARDPIN1DA\n",
      "Moved 8.txt and _08_Acts________MARDPIN1DA.mp3 to C:/Users/TANAY/anaconda3/envs/SIT/Bible_Texts\\प्रकटीकरणREV\\Subfolder__08_Acts________MARDPIN1DA\n",
      "Moved 9.txt and _09_Acts________MARDPIN1DA.mp3 to C:/Users/TANAY/anaconda3/envs/SIT/Bible_Texts\\प्रकटीकरणREV\\Subfolder__09_Acts________MARDPIN1DA\n",
      "Moved 1.txt and _01_Philippians_MARDPIN1DA.mp3 to C:/Users/TANAY/anaconda3/envs/SIT/Bible_Texts\\फिलिप्पैकरांस पत्रPHP\\Subfolder__01_Philippians_MARDPIN1DA\n",
      "Moved 2.txt and _02_Philippians_MARDPIN1DA.mp3 to C:/Users/TANAY/anaconda3/envs/SIT/Bible_Texts\\फिलिप्पैकरांस पत्रPHP\\Subfolder__02_Philippians_MARDPIN1DA\n",
      "Moved 3.txt and _03_Philippians_MARDPIN1DA.mp3 to C:/Users/TANAY/anaconda3/envs/SIT/Bible_Texts\\फिलिप्पैकरांस पत्रPHP\\Subfolder__03_Philippians_MARDPIN1DA\n",
      "Moved 4.txt and _04_Philippians_MARDPIN1DA.mp3 to C:/Users/TANAY/anaconda3/envs/SIT/Bible_Texts\\फिलिप्पैकरांस पत्रPHP\\Subfolder__04_Philippians_MARDPIN1DA\n",
      "Moved 1.txt and _01_Philemon____MARDPIN1DA.mp3 to C:/Users/TANAY/anaconda3/envs/SIT/Bible_Texts\\फिलेमानाला पत्रPHM\\Subfolder__01_Philemon____MARDPIN1DA\n",
      "Moved 1.txt and _01_Matthew_____MARDPIN1DA.mp3 to C:/Users/TANAY/anaconda3/envs/SIT/Bible_Texts\\मत्तयकृत शुभवर्तमानMAT\\Subfolder__01_Matthew_____MARDPIN1DA\n",
      "Moved 10.txt and _10_Matthew_____MARDPIN1DA.mp3 to C:/Users/TANAY/anaconda3/envs/SIT/Bible_Texts\\मत्तयकृत शुभवर्तमानMAT\\Subfolder__10_Matthew_____MARDPIN1DA\n",
      "Moved 11.txt and _11_Matthew_____MARDPIN1DA.mp3 to C:/Users/TANAY/anaconda3/envs/SIT/Bible_Texts\\मत्तयकृत शुभवर्तमानMAT\\Subfolder__11_Matthew_____MARDPIN1DA\n",
      "Moved 12.txt and _12_Matthew_____MARDPIN1DA.mp3 to C:/Users/TANAY/anaconda3/envs/SIT/Bible_Texts\\मत्तयकृत शुभवर्तमानMAT\\Subfolder__12_Matthew_____MARDPIN1DA\n",
      "Moved 13.txt and _13_Matthew_____MARDPIN1DA.mp3 to C:/Users/TANAY/anaconda3/envs/SIT/Bible_Texts\\मत्तयकृत शुभवर्तमानMAT\\Subfolder__13_Matthew_____MARDPIN1DA\n",
      "Moved 14.txt and _14_Matthew_____MARDPIN1DA.mp3 to C:/Users/TANAY/anaconda3/envs/SIT/Bible_Texts\\मत्तयकृत शुभवर्तमानMAT\\Subfolder__14_Matthew_____MARDPIN1DA\n",
      "Moved 15.txt and _15_Matthew_____MARDPIN1DA.mp3 to C:/Users/TANAY/anaconda3/envs/SIT/Bible_Texts\\मत्तयकृत शुभवर्तमानMAT\\Subfolder__15_Matthew_____MARDPIN1DA\n",
      "Moved 16.txt and _16_Matthew_____MARDPIN1DA.mp3 to C:/Users/TANAY/anaconda3/envs/SIT/Bible_Texts\\मत्तयकृत शुभवर्तमानMAT\\Subfolder__16_Matthew_____MARDPIN1DA\n",
      "Moved 17.txt and _17_Matthew_____MARDPIN1DA.mp3 to C:/Users/TANAY/anaconda3/envs/SIT/Bible_Texts\\मत्तयकृत शुभवर्तमानMAT\\Subfolder__17_Matthew_____MARDPIN1DA\n",
      "Moved 18.txt and _18_Matthew_____MARDPIN1DA.mp3 to C:/Users/TANAY/anaconda3/envs/SIT/Bible_Texts\\मत्तयकृत शुभवर्तमानMAT\\Subfolder__18_Matthew_____MARDPIN1DA\n",
      "Moved 19.txt and _19_Matthew_____MARDPIN1DA.mp3 to C:/Users/TANAY/anaconda3/envs/SIT/Bible_Texts\\मत्तयकृत शुभवर्तमानMAT\\Subfolder__19_Matthew_____MARDPIN1DA\n",
      "Moved 2.txt and _02_Matthew_____MARDPIN1DA.mp3 to C:/Users/TANAY/anaconda3/envs/SIT/Bible_Texts\\मत्तयकृत शुभवर्तमानMAT\\Subfolder__02_Matthew_____MARDPIN1DA\n",
      "Moved 20.txt and _20_Matthew_____MARDPIN1DA.mp3 to C:/Users/TANAY/anaconda3/envs/SIT/Bible_Texts\\मत्तयकृत शुभवर्तमानMAT\\Subfolder__20_Matthew_____MARDPIN1DA\n",
      "Moved 21.txt and _21_Matthew_____MARDPIN1DA.mp3 to C:/Users/TANAY/anaconda3/envs/SIT/Bible_Texts\\मत्तयकृत शुभवर्तमानMAT\\Subfolder__21_Matthew_____MARDPIN1DA\n",
      "Moved 22.txt and _22_Matthew_____MARDPIN1DA.mp3 to C:/Users/TANAY/anaconda3/envs/SIT/Bible_Texts\\मत्तयकृत शुभवर्तमानMAT\\Subfolder__22_Matthew_____MARDPIN1DA\n",
      "Moved 23.txt and _23_Matthew_____MARDPIN1DA.mp3 to C:/Users/TANAY/anaconda3/envs/SIT/Bible_Texts\\मत्तयकृत शुभवर्तमानMAT\\Subfolder__23_Matthew_____MARDPIN1DA\n",
      "Moved 24.txt and _24_Matthew_____MARDPIN1DA.mp3 to C:/Users/TANAY/anaconda3/envs/SIT/Bible_Texts\\मत्तयकृत शुभवर्तमानMAT\\Subfolder__24_Matthew_____MARDPIN1DA\n",
      "Moved 25.txt and _25_Matthew_____MARDPIN1DA.mp3 to C:/Users/TANAY/anaconda3/envs/SIT/Bible_Texts\\मत्तयकृत शुभवर्तमानMAT\\Subfolder__25_Matthew_____MARDPIN1DA\n",
      "Moved 26.txt and _26_Matthew_____MARDPIN1DA.mp3 to C:/Users/TANAY/anaconda3/envs/SIT/Bible_Texts\\मत्तयकृत शुभवर्तमानMAT\\Subfolder__26_Matthew_____MARDPIN1DA\n",
      "Moved 27.txt and _27_Matthew_____MARDPIN1DA.mp3 to C:/Users/TANAY/anaconda3/envs/SIT/Bible_Texts\\मत्तयकृत शुभवर्तमानMAT\\Subfolder__27_Matthew_____MARDPIN1DA\n",
      "Moved 28.txt and _28_Matthew_____MARDPIN1DA.mp3 to C:/Users/TANAY/anaconda3/envs/SIT/Bible_Texts\\मत्तयकृत शुभवर्तमानMAT\\Subfolder__28_Matthew_____MARDPIN1DA\n",
      "Moved 3.txt and _03_Matthew_____MARDPIN1DA.mp3 to C:/Users/TANAY/anaconda3/envs/SIT/Bible_Texts\\मत्तयकृत शुभवर्तमानMAT\\Subfolder__03_Matthew_____MARDPIN1DA\n",
      "Moved 4.txt and _04_Matthew_____MARDPIN1DA.mp3 to C:/Users/TANAY/anaconda3/envs/SIT/Bible_Texts\\मत्तयकृत शुभवर्तमानMAT\\Subfolder__04_Matthew_____MARDPIN1DA\n",
      "Moved 5.txt and _05_Matthew_____MARDPIN1DA.mp3 to C:/Users/TANAY/anaconda3/envs/SIT/Bible_Texts\\मत्तयकृत शुभवर्तमानMAT\\Subfolder__05_Matthew_____MARDPIN1DA\n",
      "Moved 6.txt and _06_Matthew_____MARDPIN1DA.mp3 to C:/Users/TANAY/anaconda3/envs/SIT/Bible_Texts\\मत्तयकृत शुभवर्तमानMAT\\Subfolder__06_Matthew_____MARDPIN1DA\n"
     ]
    },
    {
     "name": "stdout",
     "output_type": "stream",
     "text": [
      "Moved 7.txt and _07_Matthew_____MARDPIN1DA.mp3 to C:/Users/TANAY/anaconda3/envs/SIT/Bible_Texts\\मत्तयकृत शुभवर्तमानMAT\\Subfolder__07_Matthew_____MARDPIN1DA\n",
      "Moved 8.txt and _08_Matthew_____MARDPIN1DA.mp3 to C:/Users/TANAY/anaconda3/envs/SIT/Bible_Texts\\मत्तयकृत शुभवर्तमानMAT\\Subfolder__08_Matthew_____MARDPIN1DA\n",
      "Moved 9.txt and _09_Matthew_____MARDPIN1DA.mp3 to C:/Users/TANAY/anaconda3/envs/SIT/Bible_Texts\\मत्तयकृत शुभवर्तमानMAT\\Subfolder__09_Matthew_____MARDPIN1DA\n",
      "Moved 1.txt and _01_Jude________MARDPIN1DA.mp3 to C:/Users/TANAY/anaconda3/envs/SIT/Bible_Texts\\यहूदाचे पत्रJUD\\Subfolder__01_Jude________MARDPIN1DA\n",
      "Moved 1.txt and _01_James_______MARDPIN1DA.mp3 to C:/Users/TANAY/anaconda3/envs/SIT/Bible_Texts\\याकोबाचे पत्रJAS\\Subfolder__01_James_______MARDPIN1DA\n",
      "Moved 2.txt and _02_James_______MARDPIN1DA.mp3 to C:/Users/TANAY/anaconda3/envs/SIT/Bible_Texts\\याकोबाचे पत्रJAS\\Subfolder__02_James_______MARDPIN1DA\n",
      "Moved 3.txt and _03_James_______MARDPIN1DA.mp3 to C:/Users/TANAY/anaconda3/envs/SIT/Bible_Texts\\याकोबाचे पत्रJAS\\Subfolder__03_James_______MARDPIN1DA\n",
      "Moved 4.txt and _04_James_______MARDPIN1DA.mp3 to C:/Users/TANAY/anaconda3/envs/SIT/Bible_Texts\\याकोबाचे पत्रJAS\\Subfolder__04_James_______MARDPIN1DA\n",
      "Moved 5.txt and _05_James_______MARDPIN1DA.mp3 to C:/Users/TANAY/anaconda3/envs/SIT/Bible_Texts\\याकोबाचे पत्रJAS\\Subfolder__05_James_______MARDPIN1DA\n",
      "Moved 1.txt and _01_John________MARDPIN1DA.mp3 to C:/Users/TANAY/anaconda3/envs/SIT/Bible_Texts\\योहानकृत शुभवर्तमानJHN\\Subfolder__01_John________MARDPIN1DA\n",
      "Moved 10.txt and _10_John________MARDPIN1DA.mp3 to C:/Users/TANAY/anaconda3/envs/SIT/Bible_Texts\\योहानकृत शुभवर्तमानJHN\\Subfolder__10_John________MARDPIN1DA\n",
      "Moved 11.txt and _11_John________MARDPIN1DA.mp3 to C:/Users/TANAY/anaconda3/envs/SIT/Bible_Texts\\योहानकृत शुभवर्तमानJHN\\Subfolder__11_John________MARDPIN1DA\n",
      "Moved 12.txt and _12_John________MARDPIN1DA.mp3 to C:/Users/TANAY/anaconda3/envs/SIT/Bible_Texts\\योहानकृत शुभवर्तमानJHN\\Subfolder__12_John________MARDPIN1DA\n",
      "Moved 13.txt and _13_John________MARDPIN1DA.mp3 to C:/Users/TANAY/anaconda3/envs/SIT/Bible_Texts\\योहानकृत शुभवर्तमानJHN\\Subfolder__13_John________MARDPIN1DA\n",
      "Moved 14.txt and _14_John________MARDPIN1DA.mp3 to C:/Users/TANAY/anaconda3/envs/SIT/Bible_Texts\\योहानकृत शुभवर्तमानJHN\\Subfolder__14_John________MARDPIN1DA\n",
      "Moved 15.txt and _15_John________MARDPIN1DA.mp3 to C:/Users/TANAY/anaconda3/envs/SIT/Bible_Texts\\योहानकृत शुभवर्तमानJHN\\Subfolder__15_John________MARDPIN1DA\n",
      "Moved 16.txt and _16_John________MARDPIN1DA.mp3 to C:/Users/TANAY/anaconda3/envs/SIT/Bible_Texts\\योहानकृत शुभवर्तमानJHN\\Subfolder__16_John________MARDPIN1DA\n",
      "Moved 17.txt and _17_John________MARDPIN1DA.mp3 to C:/Users/TANAY/anaconda3/envs/SIT/Bible_Texts\\योहानकृत शुभवर्तमानJHN\\Subfolder__17_John________MARDPIN1DA\n",
      "Moved 18.txt and _18_John________MARDPIN1DA.mp3 to C:/Users/TANAY/anaconda3/envs/SIT/Bible_Texts\\योहानकृत शुभवर्तमानJHN\\Subfolder__18_John________MARDPIN1DA\n",
      "Moved 19.txt and _19_John________MARDPIN1DA.mp3 to C:/Users/TANAY/anaconda3/envs/SIT/Bible_Texts\\योहानकृत शुभवर्तमानJHN\\Subfolder__19_John________MARDPIN1DA\n",
      "Moved 2.txt and _02_John________MARDPIN1DA.mp3 to C:/Users/TANAY/anaconda3/envs/SIT/Bible_Texts\\योहानकृत शुभवर्तमानJHN\\Subfolder__02_John________MARDPIN1DA\n",
      "Moved 20.txt and _20_John________MARDPIN1DA.mp3 to C:/Users/TANAY/anaconda3/envs/SIT/Bible_Texts\\योहानकृत शुभवर्तमानJHN\\Subfolder__20_John________MARDPIN1DA\n",
      "Moved 21.txt and _21_John________MARDPIN1DA.mp3 to C:/Users/TANAY/anaconda3/envs/SIT/Bible_Texts\\योहानकृत शुभवर्तमानJHN\\Subfolder__21_John________MARDPIN1DA\n",
      "Moved 3.txt and _03_John________MARDPIN1DA.mp3 to C:/Users/TANAY/anaconda3/envs/SIT/Bible_Texts\\योहानकृत शुभवर्तमानJHN\\Subfolder__03_John________MARDPIN1DA\n",
      "Moved 4.txt and _04_John________MARDPIN1DA.mp3 to C:/Users/TANAY/anaconda3/envs/SIT/Bible_Texts\\योहानकृत शुभवर्तमानJHN\\Subfolder__04_John________MARDPIN1DA\n",
      "Moved 5.txt and _05_John________MARDPIN1DA.mp3 to C:/Users/TANAY/anaconda3/envs/SIT/Bible_Texts\\योहानकृत शुभवर्तमानJHN\\Subfolder__05_John________MARDPIN1DA\n",
      "Moved 6.txt and _06_John________MARDPIN1DA.mp3 to C:/Users/TANAY/anaconda3/envs/SIT/Bible_Texts\\योहानकृत शुभवर्तमानJHN\\Subfolder__06_John________MARDPIN1DA\n",
      "Moved 7.txt and _07_John________MARDPIN1DA.mp3 to C:/Users/TANAY/anaconda3/envs/SIT/Bible_Texts\\योहानकृत शुभवर्तमानJHN\\Subfolder__07_John________MARDPIN1DA\n",
      "Moved 8.txt and _08_John________MARDPIN1DA.mp3 to C:/Users/TANAY/anaconda3/envs/SIT/Bible_Texts\\योहानकृत शुभवर्तमानJHN\\Subfolder__08_John________MARDPIN1DA\n",
      "Moved 9.txt and _09_John________MARDPIN1DA.mp3 to C:/Users/TANAY/anaconda3/envs/SIT/Bible_Texts\\योहानकृत शुभवर्तमानJHN\\Subfolder__09_John________MARDPIN1DA\n",
      "Moved 1.txt and _01_3John_______MARDPIN1DA.mp3 to C:/Users/TANAY/anaconda3/envs/SIT/Bible_Texts\\योहानाचे तिसरे पत्र3JN\\Subfolder__01_3John_______MARDPIN1DA\n",
      "Moved 1.txt and _01_2John_______MARDPIN1DA.mp3 to C:/Users/TANAY/anaconda3/envs/SIT/Bible_Texts\\योहानाचे दुसरे पत्र2JN\\Subfolder__01_2John_______MARDPIN1DA\n",
      "Moved 1.txt and _01_1John_______MARDPIN1DA.mp3 to C:/Users/TANAY/anaconda3/envs/SIT/Bible_Texts\\योहानाचे पहिले पत्र1JN\\Subfolder__01_1John_______MARDPIN1DA\n",
      "Moved 2.txt and _02_1John_______MARDPIN1DA.mp3 to C:/Users/TANAY/anaconda3/envs/SIT/Bible_Texts\\योहानाचे पहिले पत्र1JN\\Subfolder__02_1John_______MARDPIN1DA\n",
      "Moved 3.txt and _03_1John_______MARDPIN1DA.mp3 to C:/Users/TANAY/anaconda3/envs/SIT/Bible_Texts\\योहानाचे पहिले पत्र1JN\\Subfolder__03_1John_______MARDPIN1DA\n",
      "Moved 4.txt and _04_1John_______MARDPIN1DA.mp3 to C:/Users/TANAY/anaconda3/envs/SIT/Bible_Texts\\योहानाचे पहिले पत्र1JN\\Subfolder__04_1John_______MARDPIN1DA\n",
      "Moved 5.txt and _05_1John_______MARDPIN1DA.mp3 to C:/Users/TANAY/anaconda3/envs/SIT/Bible_Texts\\योहानाचे पहिले पत्र1JN\\Subfolder__05_1John_______MARDPIN1DA\n",
      "Moved 1.txt and _01_Romans______MARDPIN1DA.mp3 to C:/Users/TANAY/anaconda3/envs/SIT/Bible_Texts\\रोमकरांस पत्रROM\\Subfolder__01_Romans______MARDPIN1DA\n",
      "Moved 10.txt and _10_Romans______MARDPIN1DA.mp3 to C:/Users/TANAY/anaconda3/envs/SIT/Bible_Texts\\रोमकरांस पत्रROM\\Subfolder__10_Romans______MARDPIN1DA\n",
      "Moved 11.txt and _11_Romans______MARDPIN1DA.mp3 to C:/Users/TANAY/anaconda3/envs/SIT/Bible_Texts\\रोमकरांस पत्रROM\\Subfolder__11_Romans______MARDPIN1DA\n",
      "Moved 12.txt and _12_Romans______MARDPIN1DA.mp3 to C:/Users/TANAY/anaconda3/envs/SIT/Bible_Texts\\रोमकरांस पत्रROM\\Subfolder__12_Romans______MARDPIN1DA\n",
      "Moved 13.txt and _13_Romans______MARDPIN1DA.mp3 to C:/Users/TANAY/anaconda3/envs/SIT/Bible_Texts\\रोमकरांस पत्रROM\\Subfolder__13_Romans______MARDPIN1DA\n",
      "Moved 14.txt and _14_Romans______MARDPIN1DA.mp3 to C:/Users/TANAY/anaconda3/envs/SIT/Bible_Texts\\रोमकरांस पत्रROM\\Subfolder__14_Romans______MARDPIN1DA\n",
      "Moved 15.txt and _15_Romans______MARDPIN1DA.mp3 to C:/Users/TANAY/anaconda3/envs/SIT/Bible_Texts\\रोमकरांस पत्रROM\\Subfolder__15_Romans______MARDPIN1DA\n",
      "Moved 16.txt and _16_Romans______MARDPIN1DA.mp3 to C:/Users/TANAY/anaconda3/envs/SIT/Bible_Texts\\रोमकरांस पत्रROM\\Subfolder__16_Romans______MARDPIN1DA\n",
      "Moved 2.txt and _02_Romans______MARDPIN1DA.mp3 to C:/Users/TANAY/anaconda3/envs/SIT/Bible_Texts\\रोमकरांस पत्रROM\\Subfolder__02_Romans______MARDPIN1DA\n",
      "Moved 3.txt and _03_Romans______MARDPIN1DA.mp3 to C:/Users/TANAY/anaconda3/envs/SIT/Bible_Texts\\रोमकरांस पत्रROM\\Subfolder__03_Romans______MARDPIN1DA\n",
      "Moved 4.txt and _04_Romans______MARDPIN1DA.mp3 to C:/Users/TANAY/anaconda3/envs/SIT/Bible_Texts\\रोमकरांस पत्रROM\\Subfolder__04_Romans______MARDPIN1DA\n",
      "Moved 5.txt and _05_Romans______MARDPIN1DA.mp3 to C:/Users/TANAY/anaconda3/envs/SIT/Bible_Texts\\रोमकरांस पत्रROM\\Subfolder__05_Romans______MARDPIN1DA\n",
      "Moved 6.txt and _06_Romans______MARDPIN1DA.mp3 to C:/Users/TANAY/anaconda3/envs/SIT/Bible_Texts\\रोमकरांस पत्रROM\\Subfolder__06_Romans______MARDPIN1DA\n",
      "Moved 7.txt and _07_Romans______MARDPIN1DA.mp3 to C:/Users/TANAY/anaconda3/envs/SIT/Bible_Texts\\रोमकरांस पत्रROM\\Subfolder__07_Romans______MARDPIN1DA\n",
      "Moved 8.txt and _08_Romans______MARDPIN1DA.mp3 to C:/Users/TANAY/anaconda3/envs/SIT/Bible_Texts\\रोमकरांस पत्रROM\\Subfolder__08_Romans______MARDPIN1DA\n",
      "Moved 9.txt and _09_Romans______MARDPIN1DA.mp3 to C:/Users/TANAY/anaconda3/envs/SIT/Bible_Texts\\रोमकरांस पत्रROM\\Subfolder__09_Romans______MARDPIN1DA\n",
      "Moved 1.txt and _01_Luke________MARDPIN1DA.mp3 to C:/Users/TANAY/anaconda3/envs/SIT/Bible_Texts\\लूककृत शुभवर्तमानLUK\\Subfolder__01_Luke________MARDPIN1DA\n",
      "Moved 10.txt and _10_Luke________MARDPIN1DA.mp3 to C:/Users/TANAY/anaconda3/envs/SIT/Bible_Texts\\लूककृत शुभवर्तमानLUK\\Subfolder__10_Luke________MARDPIN1DA\n",
      "Moved 11.txt and _11_Luke________MARDPIN1DA.mp3 to C:/Users/TANAY/anaconda3/envs/SIT/Bible_Texts\\लूककृत शुभवर्तमानLUK\\Subfolder__11_Luke________MARDPIN1DA\n",
      "Moved 12.txt and _12_Luke________MARDPIN1DA.mp3 to C:/Users/TANAY/anaconda3/envs/SIT/Bible_Texts\\लूककृत शुभवर्तमानLUK\\Subfolder__12_Luke________MARDPIN1DA\n",
      "Moved 13.txt and _13_Luke________MARDPIN1DA.mp3 to C:/Users/TANAY/anaconda3/envs/SIT/Bible_Texts\\लूककृत शुभवर्तमानLUK\\Subfolder__13_Luke________MARDPIN1DA\n",
      "Moved 14.txt and _14_Luke________MARDPIN1DA.mp3 to C:/Users/TANAY/anaconda3/envs/SIT/Bible_Texts\\लूककृत शुभवर्तमानLUK\\Subfolder__14_Luke________MARDPIN1DA\n",
      "Moved 15.txt and _15_Luke________MARDPIN1DA.mp3 to C:/Users/TANAY/anaconda3/envs/SIT/Bible_Texts\\लूककृत शुभवर्तमानLUK\\Subfolder__15_Luke________MARDPIN1DA\n",
      "Moved 16.txt and _16_Luke________MARDPIN1DA.mp3 to C:/Users/TANAY/anaconda3/envs/SIT/Bible_Texts\\लूककृत शुभवर्तमानLUK\\Subfolder__16_Luke________MARDPIN1DA\n",
      "Moved 17.txt and _17_Luke________MARDPIN1DA.mp3 to C:/Users/TANAY/anaconda3/envs/SIT/Bible_Texts\\लूककृत शुभवर्तमानLUK\\Subfolder__17_Luke________MARDPIN1DA\n",
      "Moved 18.txt and _18_Luke________MARDPIN1DA.mp3 to C:/Users/TANAY/anaconda3/envs/SIT/Bible_Texts\\लूककृत शुभवर्तमानLUK\\Subfolder__18_Luke________MARDPIN1DA\n",
      "Moved 19.txt and _19_Luke________MARDPIN1DA.mp3 to C:/Users/TANAY/anaconda3/envs/SIT/Bible_Texts\\लूककृत शुभवर्तमानLUK\\Subfolder__19_Luke________MARDPIN1DA\n",
      "Moved 2.txt and _02_Luke________MARDPIN1DA.mp3 to C:/Users/TANAY/anaconda3/envs/SIT/Bible_Texts\\लूककृत शुभवर्तमानLUK\\Subfolder__02_Luke________MARDPIN1DA\n",
      "Moved 20.txt and _20_Luke________MARDPIN1DA.mp3 to C:/Users/TANAY/anaconda3/envs/SIT/Bible_Texts\\लूककृत शुभवर्तमानLUK\\Subfolder__20_Luke________MARDPIN1DA\n",
      "Moved 21.txt and _21_Luke________MARDPIN1DA.mp3 to C:/Users/TANAY/anaconda3/envs/SIT/Bible_Texts\\लूककृत शुभवर्तमानLUK\\Subfolder__21_Luke________MARDPIN1DA\n",
      "Moved 22.txt and _22_Luke________MARDPIN1DA.mp3 to C:/Users/TANAY/anaconda3/envs/SIT/Bible_Texts\\लूककृत शुभवर्तमानLUK\\Subfolder__22_Luke________MARDPIN1DA\n",
      "Moved 23.txt and _23_Luke________MARDPIN1DA.mp3 to C:/Users/TANAY/anaconda3/envs/SIT/Bible_Texts\\लूककृत शुभवर्तमानLUK\\Subfolder__23_Luke________MARDPIN1DA\n",
      "Moved 24.txt and _24_Luke________MARDPIN1DA.mp3 to C:/Users/TANAY/anaconda3/envs/SIT/Bible_Texts\\लूककृत शुभवर्तमानLUK\\Subfolder__24_Luke________MARDPIN1DA\n",
      "Moved 3.txt and _03_Luke________MARDPIN1DA.mp3 to C:/Users/TANAY/anaconda3/envs/SIT/Bible_Texts\\लूककृत शुभवर्तमानLUK\\Subfolder__03_Luke________MARDPIN1DA\n"
     ]
    },
    {
     "name": "stdout",
     "output_type": "stream",
     "text": [
      "Moved 4.txt and _04_Luke________MARDPIN1DA.mp3 to C:/Users/TANAY/anaconda3/envs/SIT/Bible_Texts\\लूककृत शुभवर्तमानLUK\\Subfolder__04_Luke________MARDPIN1DA\n",
      "Moved 5.txt and _05_Luke________MARDPIN1DA.mp3 to C:/Users/TANAY/anaconda3/envs/SIT/Bible_Texts\\लूककृत शुभवर्तमानLUK\\Subfolder__05_Luke________MARDPIN1DA\n",
      "Moved 6.txt and _06_Luke________MARDPIN1DA.mp3 to C:/Users/TANAY/anaconda3/envs/SIT/Bible_Texts\\लूककृत शुभवर्तमानLUK\\Subfolder__06_Luke________MARDPIN1DA\n",
      "Moved 7.txt and _07_Luke________MARDPIN1DA.mp3 to C:/Users/TANAY/anaconda3/envs/SIT/Bible_Texts\\लूककृत शुभवर्तमानLUK\\Subfolder__07_Luke________MARDPIN1DA\n",
      "Moved 8.txt and _08_Luke________MARDPIN1DA.mp3 to C:/Users/TANAY/anaconda3/envs/SIT/Bible_Texts\\लूककृत शुभवर्तमानLUK\\Subfolder__08_Luke________MARDPIN1DA\n",
      "Moved 9.txt and _09_Luke________MARDPIN1DA.mp3 to C:/Users/TANAY/anaconda3/envs/SIT/Bible_Texts\\लूककृत शुभवर्तमानLUK\\Subfolder__09_Luke________MARDPIN1DA\n",
      "Moved 1.txt and _01_Ephesians___MARDPIN1DA.mp3 to C:/Users/TANAY/anaconda3/envs/SIT/Bible_Texts\\इफिसकरांस पत्रEPH\\Subfolder__01_Ephesians___MARDPIN1DA\\Subfolder__01_Ephesians___MARDPIN1DA\n",
      "Moved 2.txt and _02_Ephesians___MARDPIN1DA.mp3 to C:/Users/TANAY/anaconda3/envs/SIT/Bible_Texts\\इफिसकरांस पत्रEPH\\Subfolder__02_Ephesians___MARDPIN1DA\\Subfolder__02_Ephesians___MARDPIN1DA\n",
      "Moved 3.txt and _03_Ephesians___MARDPIN1DA.mp3 to C:/Users/TANAY/anaconda3/envs/SIT/Bible_Texts\\इफिसकरांस पत्रEPH\\Subfolder__03_Ephesians___MARDPIN1DA\\Subfolder__03_Ephesians___MARDPIN1DA\n",
      "Moved 4.txt and _04_Ephesians___MARDPIN1DA.mp3 to C:/Users/TANAY/anaconda3/envs/SIT/Bible_Texts\\इफिसकरांस पत्रEPH\\Subfolder__04_Ephesians___MARDPIN1DA\\Subfolder__04_Ephesians___MARDPIN1DA\n",
      "Moved 5.txt and _05_Ephesians___MARDPIN1DA.mp3 to C:/Users/TANAY/anaconda3/envs/SIT/Bible_Texts\\इफिसकरांस पत्रEPH\\Subfolder__05_Ephesians___MARDPIN1DA\\Subfolder__05_Ephesians___MARDPIN1DA\n",
      "Moved 6.txt and _06_Ephesians___MARDPIN1DA.mp3 to C:/Users/TANAY/anaconda3/envs/SIT/Bible_Texts\\इफिसकरांस पत्रEPH\\Subfolder__06_Ephesians___MARDPIN1DA\\Subfolder__06_Ephesians___MARDPIN1DA\n",
      "Moved 1.txt and _01_Ephesians___MARDPIN1DA.mp3 to C:/Users/TANAY/anaconda3/envs/SIT/Bible_Texts\\इफिसकरांस पत्रEPH\\Subfolder__01_Ephesians___MARDPIN1DA\\Subfolder__01_Ephesians___MARDPIN1DA\\Subfolder__01_Ephesians___MARDPIN1DA\n",
      "Moved 1.txt and _01_Ephesians___MARDPIN1DA.mp3 to C:/Users/TANAY/anaconda3/envs/SIT/Bible_Texts\\इफिसकरांस पत्रEPH\\Subfolder__01_Ephesians___MARDPIN1DA\\Subfolder__01_Ephesians___MARDPIN1DA\\Subfolder__01_Ephesians___MARDPIN1DA\\Subfolder__01_Ephesians___MARDPIN1DA\n"
     ]
    },
    {
     "ename": "FileNotFoundError",
     "evalue": "[WinError 206] The filename or extension is too long: 'C:/Users/TANAY/anaconda3/envs/SIT/Bible_Texts\\\\इफिसकरांस पत्रEPH\\\\Subfolder__01_Ephesians___MARDPIN1DA\\\\Subfolder__01_Ephesians___MARDPIN1DA\\\\Subfolder__01_Ephesians___MARDPIN1DA\\\\Subfolder__01_Ephesians___MARDPIN1DA\\\\Subfolder__01_Ephesians___MARDPIN1DA'",
     "output_type": "error",
     "traceback": [
      "\u001b[1;31m---------------------------------------------------------------------------\u001b[0m",
      "\u001b[1;31mFileNotFoundError\u001b[0m                         Traceback (most recent call last)",
      "Cell \u001b[1;32mIn[27], line 39\u001b[0m\n\u001b[0;32m     37\u001b[0m \u001b[38;5;28;01mfor\u001b[39;00m dir_name \u001b[38;5;129;01min\u001b[39;00m dirs:\n\u001b[0;32m     38\u001b[0m     folder_path \u001b[38;5;241m=\u001b[39m os\u001b[38;5;241m.\u001b[39mpath\u001b[38;5;241m.\u001b[39mjoin(root, dir_name)\n\u001b[1;32m---> 39\u001b[0m     \u001b[43morganize_files_in_folder\u001b[49m\u001b[43m(\u001b[49m\u001b[43mfolder_path\u001b[49m\u001b[43m)\u001b[49m\n",
      "Cell \u001b[1;32mIn[27], line 28\u001b[0m, in \u001b[0;36morganize_files_in_folder\u001b[1;34m(folder_path)\u001b[0m\n\u001b[0;32m     26\u001b[0m subfolder_name \u001b[38;5;241m=\u001b[39m \u001b[38;5;124mf\u001b[39m\u001b[38;5;124m'\u001b[39m\u001b[38;5;124mSubfolder_\u001b[39m\u001b[38;5;132;01m{\u001b[39;00mos\u001b[38;5;241m.\u001b[39mpath\u001b[38;5;241m.\u001b[39msplitext(audio_file)[\u001b[38;5;241m0\u001b[39m]\u001b[38;5;132;01m}\u001b[39;00m\u001b[38;5;124m'\u001b[39m\n\u001b[0;32m     27\u001b[0m subfolder_path \u001b[38;5;241m=\u001b[39m os\u001b[38;5;241m.\u001b[39mpath\u001b[38;5;241m.\u001b[39mjoin(folder_path, subfolder_name)\n\u001b[1;32m---> 28\u001b[0m \u001b[43mos\u001b[49m\u001b[38;5;241;43m.\u001b[39;49m\u001b[43mmakedirs\u001b[49m\u001b[43m(\u001b[49m\u001b[43msubfolder_path\u001b[49m\u001b[43m,\u001b[49m\u001b[43m \u001b[49m\u001b[43mexist_ok\u001b[49m\u001b[38;5;241;43m=\u001b[39;49m\u001b[38;5;28;43;01mTrue\u001b[39;49;00m\u001b[43m)\u001b[49m\n\u001b[0;32m     30\u001b[0m \u001b[38;5;66;03m# Move files to the subfolder\u001b[39;00m\n\u001b[0;32m     31\u001b[0m shutil\u001b[38;5;241m.\u001b[39mmove(os\u001b[38;5;241m.\u001b[39mpath\u001b[38;5;241m.\u001b[39mjoin(folder_path, text_file), os\u001b[38;5;241m.\u001b[39mpath\u001b[38;5;241m.\u001b[39mjoin(subfolder_path, text_file))\n",
      "File \u001b[1;32m~\\anaconda3\\lib\\os.py:225\u001b[0m, in \u001b[0;36mmakedirs\u001b[1;34m(name, mode, exist_ok)\u001b[0m\n\u001b[0;32m    223\u001b[0m         \u001b[38;5;28;01mreturn\u001b[39;00m\n\u001b[0;32m    224\u001b[0m \u001b[38;5;28;01mtry\u001b[39;00m:\n\u001b[1;32m--> 225\u001b[0m     \u001b[43mmkdir\u001b[49m\u001b[43m(\u001b[49m\u001b[43mname\u001b[49m\u001b[43m,\u001b[49m\u001b[43m \u001b[49m\u001b[43mmode\u001b[49m\u001b[43m)\u001b[49m\n\u001b[0;32m    226\u001b[0m \u001b[38;5;28;01mexcept\u001b[39;00m \u001b[38;5;167;01mOSError\u001b[39;00m:\n\u001b[0;32m    227\u001b[0m     \u001b[38;5;66;03m# Cannot rely on checking for EEXIST, since the operating system\u001b[39;00m\n\u001b[0;32m    228\u001b[0m     \u001b[38;5;66;03m# could give priority to other errors like EACCES or EROFS\u001b[39;00m\n\u001b[0;32m    229\u001b[0m     \u001b[38;5;28;01mif\u001b[39;00m \u001b[38;5;129;01mnot\u001b[39;00m exist_ok \u001b[38;5;129;01mor\u001b[39;00m \u001b[38;5;129;01mnot\u001b[39;00m path\u001b[38;5;241m.\u001b[39misdir(name):\n",
      "\u001b[1;31mFileNotFoundError\u001b[0m: [WinError 206] The filename or extension is too long: 'C:/Users/TANAY/anaconda3/envs/SIT/Bible_Texts\\\\इफिसकरांस पत्रEPH\\\\Subfolder__01_Ephesians___MARDPIN1DA\\\\Subfolder__01_Ephesians___MARDPIN1DA\\\\Subfolder__01_Ephesians___MARDPIN1DA\\\\Subfolder__01_Ephesians___MARDPIN1DA\\\\Subfolder__01_Ephesians___MARDPIN1DA'"
     ]
    }
   ],
   "source": [
    "import os\n",
    "import shutil\n",
    "\n",
    "# Define the path to your main folder containing subfolders with audio and text files\n",
    "main_folder_path = \"C:/Users/TANAY/anaconda3/envs/SIT/Bible_Texts\"\n",
    "\n",
    "# Function to organize files within a specific subfolder\n",
    "def organize_files_in_folder(folder_path):\n",
    "    # List all files in the folder\n",
    "    files = os.listdir(folder_path)\n",
    "    \n",
    "    # Filter audio and text files\n",
    "    audio_files = [f for f in files if f.startswith('_') and f.endswith(('.mp3', '.wav', '.flac', '.aac', '.ogg'))]\n",
    "    text_files = [f for f in files if f.endswith('.txt')]\n",
    "\n",
    "    # Create a dictionary to map text files to their corresponding audio files\n",
    "    file_pairs = {}\n",
    "    for text_file in text_files:\n",
    "        file_number = os.path.splitext(text_file)[0]\n",
    "        matching_audio_file = next((af for af in audio_files if af.startswith(f'_{int(file_number):02}')), None)\n",
    "        if matching_audio_file:\n",
    "            file_pairs[text_file] = matching_audio_file\n",
    "\n",
    "    # Create subfolders and move files\n",
    "    for text_file, audio_file in file_pairs.items():\n",
    "        subfolder_name = f'Subfolder_{os.path.splitext(audio_file)[0]}'\n",
    "        subfolder_path = os.path.join(folder_path, subfolder_name)\n",
    "        os.makedirs(subfolder_path, exist_ok=True)\n",
    "        \n",
    "        # Move files to the subfolder\n",
    "        shutil.move(os.path.join(folder_path, text_file), os.path.join(subfolder_path, text_file))\n",
    "        shutil.move(os.path.join(folder_path, audio_file), os.path.join(subfolder_path, audio_file))\n",
    "        print(f'Moved {text_file} and {audio_file} to {subfolder_path}')\n",
    "\n",
    "# Iterate through all subfolders in the main folder\n",
    "for root, dirs, files in os.walk(main_folder_path):\n",
    "    for dir_name in dirs:\n",
    "        folder_path = os.path.join(root, dir_name)\n",
    "        organize_files_in_folder(folder_path)\n"
   ]
  },
  {
   "cell_type": "markdown",
   "id": "c397a696",
   "metadata": {},
   "source": [
    "so the final file structure of audio and text files looks like this-\n",
    "\n",
    "    Bible_Main_Folder\n",
    "    |--subfolder1\n",
    "    |---subfolder2\n",
    "    |--\n",
    "    |--\n",
    "    |--subfolder n\n",
    "           |---folder1_for_audioAndText\n",
    "                   |----Audio.mp3\n",
    "                   |----Corresponding_transcription.txt\n",
    "           |---folder2_for_audioAndText\n",
    "                   |----Audio.mp3\n",
    "                   |----Corresponding_transcription.txt\n",
    "           |------\n",
    "           |------\n",
    "           |------\n",
    "\n",
    "       \n",
    "Here, the name of subfolders equlas names of chapters in the New testament and in which there contains pairwise audio and its transcriptions of chapter's parts."
   ]
  },
  {
   "cell_type": "markdown",
   "id": "665b96b5",
   "metadata": {},
   "source": [
    "# Exploratory Data Analysis\n",
    "Finally, after this whole tedious task of web scraping, downloading audio files and assigning each audio file to its specific .txt file, its time to perform EDA and analyse this data to draw meaningful results and possibilities of its application of this valuable data of audio and its actual transcriptions."
   ]
  },
  {
   "cell_type": "markdown",
   "id": "f55f1206",
   "metadata": {},
   "source": [
    "when STT and TTS applications is the aim then its always beneficial to check text to speech alignment of the given audio transcription data pairs"
   ]
  },
  {
   "cell_type": "markdown",
   "id": "288a81fb",
   "metadata": {},
   "source": [
    "Let's start with audio quality analysis on the audio files. Along with the file structure mentioned above we have a folder which contains copy of all the audio files in new testament.\n"
   ]
  },
  {
   "cell_type": "code",
   "execution_count": 10,
   "id": "bec451ab",
   "metadata": {},
   "outputs": [
    {
     "name": "stdout",
     "output_type": "stream",
     "text": [
      "Converted T:\\MARDPIN1DA\\Marathi_mar_DPI_NT_Non-Drama\\B01___01_Matthew_____MARDPIN1DA.mp3 to T:\\MARDPIN1DA\\Marathi_mar_DPI_NT_Non-Drama\\B01___01_Matthew_____MARDPIN1DA.wav\n",
      "Converted T:\\MARDPIN1DA\\Marathi_mar_DPI_NT_Non-Drama\\B01___02_Matthew_____MARDPIN1DA.mp3 to T:\\MARDPIN1DA\\Marathi_mar_DPI_NT_Non-Drama\\B01___02_Matthew_____MARDPIN1DA.wav\n",
      "Converted T:\\MARDPIN1DA\\Marathi_mar_DPI_NT_Non-Drama\\B01___03_Matthew_____MARDPIN1DA.mp3 to T:\\MARDPIN1DA\\Marathi_mar_DPI_NT_Non-Drama\\B01___03_Matthew_____MARDPIN1DA.wav\n",
      "Converted T:\\MARDPIN1DA\\Marathi_mar_DPI_NT_Non-Drama\\B01___04_Matthew_____MARDPIN1DA.mp3 to T:\\MARDPIN1DA\\Marathi_mar_DPI_NT_Non-Drama\\B01___04_Matthew_____MARDPIN1DA.wav\n",
      "Converted T:\\MARDPIN1DA\\Marathi_mar_DPI_NT_Non-Drama\\B01___05_Matthew_____MARDPIN1DA.mp3 to T:\\MARDPIN1DA\\Marathi_mar_DPI_NT_Non-Drama\\B01___05_Matthew_____MARDPIN1DA.wav\n",
      "Converted T:\\MARDPIN1DA\\Marathi_mar_DPI_NT_Non-Drama\\B01___06_Matthew_____MARDPIN1DA.mp3 to T:\\MARDPIN1DA\\Marathi_mar_DPI_NT_Non-Drama\\B01___06_Matthew_____MARDPIN1DA.wav\n",
      "Converted T:\\MARDPIN1DA\\Marathi_mar_DPI_NT_Non-Drama\\B01___07_Matthew_____MARDPIN1DA.mp3 to T:\\MARDPIN1DA\\Marathi_mar_DPI_NT_Non-Drama\\B01___07_Matthew_____MARDPIN1DA.wav\n",
      "Converted T:\\MARDPIN1DA\\Marathi_mar_DPI_NT_Non-Drama\\B01___08_Matthew_____MARDPIN1DA.mp3 to T:\\MARDPIN1DA\\Marathi_mar_DPI_NT_Non-Drama\\B01___08_Matthew_____MARDPIN1DA.wav\n",
      "Converted T:\\MARDPIN1DA\\Marathi_mar_DPI_NT_Non-Drama\\B01___09_Matthew_____MARDPIN1DA.mp3 to T:\\MARDPIN1DA\\Marathi_mar_DPI_NT_Non-Drama\\B01___09_Matthew_____MARDPIN1DA.wav\n",
      "Converted T:\\MARDPIN1DA\\Marathi_mar_DPI_NT_Non-Drama\\B01___10_Matthew_____MARDPIN1DA.mp3 to T:\\MARDPIN1DA\\Marathi_mar_DPI_NT_Non-Drama\\B01___10_Matthew_____MARDPIN1DA.wav\n",
      "Converted T:\\MARDPIN1DA\\Marathi_mar_DPI_NT_Non-Drama\\B01___11_Matthew_____MARDPIN1DA.mp3 to T:\\MARDPIN1DA\\Marathi_mar_DPI_NT_Non-Drama\\B01___11_Matthew_____MARDPIN1DA.wav\n",
      "Converted T:\\MARDPIN1DA\\Marathi_mar_DPI_NT_Non-Drama\\B01___12_Matthew_____MARDPIN1DA.mp3 to T:\\MARDPIN1DA\\Marathi_mar_DPI_NT_Non-Drama\\B01___12_Matthew_____MARDPIN1DA.wav\n",
      "Converted T:\\MARDPIN1DA\\Marathi_mar_DPI_NT_Non-Drama\\B01___13_Matthew_____MARDPIN1DA.mp3 to T:\\MARDPIN1DA\\Marathi_mar_DPI_NT_Non-Drama\\B01___13_Matthew_____MARDPIN1DA.wav\n",
      "Converted T:\\MARDPIN1DA\\Marathi_mar_DPI_NT_Non-Drama\\B01___14_Matthew_____MARDPIN1DA.mp3 to T:\\MARDPIN1DA\\Marathi_mar_DPI_NT_Non-Drama\\B01___14_Matthew_____MARDPIN1DA.wav\n",
      "Converted T:\\MARDPIN1DA\\Marathi_mar_DPI_NT_Non-Drama\\B01___15_Matthew_____MARDPIN1DA.mp3 to T:\\MARDPIN1DA\\Marathi_mar_DPI_NT_Non-Drama\\B01___15_Matthew_____MARDPIN1DA.wav\n",
      "Converted T:\\MARDPIN1DA\\Marathi_mar_DPI_NT_Non-Drama\\B01___16_Matthew_____MARDPIN1DA.mp3 to T:\\MARDPIN1DA\\Marathi_mar_DPI_NT_Non-Drama\\B01___16_Matthew_____MARDPIN1DA.wav\n",
      "Converted T:\\MARDPIN1DA\\Marathi_mar_DPI_NT_Non-Drama\\B01___17_Matthew_____MARDPIN1DA.mp3 to T:\\MARDPIN1DA\\Marathi_mar_DPI_NT_Non-Drama\\B01___17_Matthew_____MARDPIN1DA.wav\n",
      "Converted T:\\MARDPIN1DA\\Marathi_mar_DPI_NT_Non-Drama\\B01___18_Matthew_____MARDPIN1DA.mp3 to T:\\MARDPIN1DA\\Marathi_mar_DPI_NT_Non-Drama\\B01___18_Matthew_____MARDPIN1DA.wav\n",
      "Converted T:\\MARDPIN1DA\\Marathi_mar_DPI_NT_Non-Drama\\B01___19_Matthew_____MARDPIN1DA.mp3 to T:\\MARDPIN1DA\\Marathi_mar_DPI_NT_Non-Drama\\B01___19_Matthew_____MARDPIN1DA.wav\n",
      "Converted T:\\MARDPIN1DA\\Marathi_mar_DPI_NT_Non-Drama\\B01___20_Matthew_____MARDPIN1DA.mp3 to T:\\MARDPIN1DA\\Marathi_mar_DPI_NT_Non-Drama\\B01___20_Matthew_____MARDPIN1DA.wav\n",
      "Converted T:\\MARDPIN1DA\\Marathi_mar_DPI_NT_Non-Drama\\B01___21_Matthew_____MARDPIN1DA.mp3 to T:\\MARDPIN1DA\\Marathi_mar_DPI_NT_Non-Drama\\B01___21_Matthew_____MARDPIN1DA.wav\n",
      "Converted T:\\MARDPIN1DA\\Marathi_mar_DPI_NT_Non-Drama\\B01___22_Matthew_____MARDPIN1DA.mp3 to T:\\MARDPIN1DA\\Marathi_mar_DPI_NT_Non-Drama\\B01___22_Matthew_____MARDPIN1DA.wav\n",
      "Converted T:\\MARDPIN1DA\\Marathi_mar_DPI_NT_Non-Drama\\B01___23_Matthew_____MARDPIN1DA.mp3 to T:\\MARDPIN1DA\\Marathi_mar_DPI_NT_Non-Drama\\B01___23_Matthew_____MARDPIN1DA.wav\n",
      "Converted T:\\MARDPIN1DA\\Marathi_mar_DPI_NT_Non-Drama\\B01___24_Matthew_____MARDPIN1DA.mp3 to T:\\MARDPIN1DA\\Marathi_mar_DPI_NT_Non-Drama\\B01___24_Matthew_____MARDPIN1DA.wav\n",
      "Converted T:\\MARDPIN1DA\\Marathi_mar_DPI_NT_Non-Drama\\B01___25_Matthew_____MARDPIN1DA.mp3 to T:\\MARDPIN1DA\\Marathi_mar_DPI_NT_Non-Drama\\B01___25_Matthew_____MARDPIN1DA.wav\n",
      "Converted T:\\MARDPIN1DA\\Marathi_mar_DPI_NT_Non-Drama\\B01___26_Matthew_____MARDPIN1DA.mp3 to T:\\MARDPIN1DA\\Marathi_mar_DPI_NT_Non-Drama\\B01___26_Matthew_____MARDPIN1DA.wav\n",
      "Converted T:\\MARDPIN1DA\\Marathi_mar_DPI_NT_Non-Drama\\B01___27_Matthew_____MARDPIN1DA.mp3 to T:\\MARDPIN1DA\\Marathi_mar_DPI_NT_Non-Drama\\B01___27_Matthew_____MARDPIN1DA.wav\n",
      "Converted T:\\MARDPIN1DA\\Marathi_mar_DPI_NT_Non-Drama\\B01___28_Matthew_____MARDPIN1DA.mp3 to T:\\MARDPIN1DA\\Marathi_mar_DPI_NT_Non-Drama\\B01___28_Matthew_____MARDPIN1DA.wav\n",
      "Converted T:\\MARDPIN1DA\\Marathi_mar_DPI_NT_Non-Drama\\B02___01_Mark________MARDPIN1DA.mp3 to T:\\MARDPIN1DA\\Marathi_mar_DPI_NT_Non-Drama\\B02___01_Mark________MARDPIN1DA.wav\n",
      "Converted T:\\MARDPIN1DA\\Marathi_mar_DPI_NT_Non-Drama\\B02___02_Mark________MARDPIN1DA.mp3 to T:\\MARDPIN1DA\\Marathi_mar_DPI_NT_Non-Drama\\B02___02_Mark________MARDPIN1DA.wav\n",
      "Converted T:\\MARDPIN1DA\\Marathi_mar_DPI_NT_Non-Drama\\B02___03_Mark________MARDPIN1DA.mp3 to T:\\MARDPIN1DA\\Marathi_mar_DPI_NT_Non-Drama\\B02___03_Mark________MARDPIN1DA.wav\n",
      "Converted T:\\MARDPIN1DA\\Marathi_mar_DPI_NT_Non-Drama\\B02___04_Mark________MARDPIN1DA.mp3 to T:\\MARDPIN1DA\\Marathi_mar_DPI_NT_Non-Drama\\B02___04_Mark________MARDPIN1DA.wav\n",
      "Converted T:\\MARDPIN1DA\\Marathi_mar_DPI_NT_Non-Drama\\B02___05_Mark________MARDPIN1DA.mp3 to T:\\MARDPIN1DA\\Marathi_mar_DPI_NT_Non-Drama\\B02___05_Mark________MARDPIN1DA.wav\n",
      "Converted T:\\MARDPIN1DA\\Marathi_mar_DPI_NT_Non-Drama\\B02___06_Mark________MARDPIN1DA.mp3 to T:\\MARDPIN1DA\\Marathi_mar_DPI_NT_Non-Drama\\B02___06_Mark________MARDPIN1DA.wav\n",
      "Converted T:\\MARDPIN1DA\\Marathi_mar_DPI_NT_Non-Drama\\B02___07_Mark________MARDPIN1DA.mp3 to T:\\MARDPIN1DA\\Marathi_mar_DPI_NT_Non-Drama\\B02___07_Mark________MARDPIN1DA.wav\n",
      "Converted T:\\MARDPIN1DA\\Marathi_mar_DPI_NT_Non-Drama\\B02___08_Mark________MARDPIN1DA.mp3 to T:\\MARDPIN1DA\\Marathi_mar_DPI_NT_Non-Drama\\B02___08_Mark________MARDPIN1DA.wav\n",
      "Converted T:\\MARDPIN1DA\\Marathi_mar_DPI_NT_Non-Drama\\B02___09_Mark________MARDPIN1DA.mp3 to T:\\MARDPIN1DA\\Marathi_mar_DPI_NT_Non-Drama\\B02___09_Mark________MARDPIN1DA.wav\n",
      "Converted T:\\MARDPIN1DA\\Marathi_mar_DPI_NT_Non-Drama\\B02___10_Mark________MARDPIN1DA.mp3 to T:\\MARDPIN1DA\\Marathi_mar_DPI_NT_Non-Drama\\B02___10_Mark________MARDPIN1DA.wav\n",
      "Converted T:\\MARDPIN1DA\\Marathi_mar_DPI_NT_Non-Drama\\B02___11_Mark________MARDPIN1DA.mp3 to T:\\MARDPIN1DA\\Marathi_mar_DPI_NT_Non-Drama\\B02___11_Mark________MARDPIN1DA.wav\n",
      "Converted T:\\MARDPIN1DA\\Marathi_mar_DPI_NT_Non-Drama\\B02___12_Mark________MARDPIN1DA.mp3 to T:\\MARDPIN1DA\\Marathi_mar_DPI_NT_Non-Drama\\B02___12_Mark________MARDPIN1DA.wav\n",
      "Converted T:\\MARDPIN1DA\\Marathi_mar_DPI_NT_Non-Drama\\B02___13_Mark________MARDPIN1DA.mp3 to T:\\MARDPIN1DA\\Marathi_mar_DPI_NT_Non-Drama\\B02___13_Mark________MARDPIN1DA.wav\n",
      "Converted T:\\MARDPIN1DA\\Marathi_mar_DPI_NT_Non-Drama\\B02___14_Mark________MARDPIN1DA.mp3 to T:\\MARDPIN1DA\\Marathi_mar_DPI_NT_Non-Drama\\B02___14_Mark________MARDPIN1DA.wav\n",
      "Converted T:\\MARDPIN1DA\\Marathi_mar_DPI_NT_Non-Drama\\B02___15_Mark________MARDPIN1DA.mp3 to T:\\MARDPIN1DA\\Marathi_mar_DPI_NT_Non-Drama\\B02___15_Mark________MARDPIN1DA.wav\n",
      "Converted T:\\MARDPIN1DA\\Marathi_mar_DPI_NT_Non-Drama\\B02___16_Mark________MARDPIN1DA.mp3 to T:\\MARDPIN1DA\\Marathi_mar_DPI_NT_Non-Drama\\B02___16_Mark________MARDPIN1DA.wav\n",
      "Converted T:\\MARDPIN1DA\\Marathi_mar_DPI_NT_Non-Drama\\B03___01_Luke________MARDPIN1DA.mp3 to T:\\MARDPIN1DA\\Marathi_mar_DPI_NT_Non-Drama\\B03___01_Luke________MARDPIN1DA.wav\n",
      "Converted T:\\MARDPIN1DA\\Marathi_mar_DPI_NT_Non-Drama\\B03___02_Luke________MARDPIN1DA.mp3 to T:\\MARDPIN1DA\\Marathi_mar_DPI_NT_Non-Drama\\B03___02_Luke________MARDPIN1DA.wav\n",
      "Converted T:\\MARDPIN1DA\\Marathi_mar_DPI_NT_Non-Drama\\B03___03_Luke________MARDPIN1DA.mp3 to T:\\MARDPIN1DA\\Marathi_mar_DPI_NT_Non-Drama\\B03___03_Luke________MARDPIN1DA.wav\n",
      "Converted T:\\MARDPIN1DA\\Marathi_mar_DPI_NT_Non-Drama\\B03___04_Luke________MARDPIN1DA.mp3 to T:\\MARDPIN1DA\\Marathi_mar_DPI_NT_Non-Drama\\B03___04_Luke________MARDPIN1DA.wav\n"
     ]
    },
    {
     "name": "stdout",
     "output_type": "stream",
     "text": [
      "Converted T:\\MARDPIN1DA\\Marathi_mar_DPI_NT_Non-Drama\\B03___05_Luke________MARDPIN1DA.mp3 to T:\\MARDPIN1DA\\Marathi_mar_DPI_NT_Non-Drama\\B03___05_Luke________MARDPIN1DA.wav\n",
      "Converted T:\\MARDPIN1DA\\Marathi_mar_DPI_NT_Non-Drama\\B03___06_Luke________MARDPIN1DA.mp3 to T:\\MARDPIN1DA\\Marathi_mar_DPI_NT_Non-Drama\\B03___06_Luke________MARDPIN1DA.wav\n",
      "Converted T:\\MARDPIN1DA\\Marathi_mar_DPI_NT_Non-Drama\\B03___07_Luke________MARDPIN1DA.mp3 to T:\\MARDPIN1DA\\Marathi_mar_DPI_NT_Non-Drama\\B03___07_Luke________MARDPIN1DA.wav\n",
      "Converted T:\\MARDPIN1DA\\Marathi_mar_DPI_NT_Non-Drama\\B03___08_Luke________MARDPIN1DA.mp3 to T:\\MARDPIN1DA\\Marathi_mar_DPI_NT_Non-Drama\\B03___08_Luke________MARDPIN1DA.wav\n",
      "Converted T:\\MARDPIN1DA\\Marathi_mar_DPI_NT_Non-Drama\\B03___09_Luke________MARDPIN1DA.mp3 to T:\\MARDPIN1DA\\Marathi_mar_DPI_NT_Non-Drama\\B03___09_Luke________MARDPIN1DA.wav\n",
      "Converted T:\\MARDPIN1DA\\Marathi_mar_DPI_NT_Non-Drama\\B03___10_Luke________MARDPIN1DA.mp3 to T:\\MARDPIN1DA\\Marathi_mar_DPI_NT_Non-Drama\\B03___10_Luke________MARDPIN1DA.wav\n",
      "Converted T:\\MARDPIN1DA\\Marathi_mar_DPI_NT_Non-Drama\\B03___11_Luke________MARDPIN1DA.mp3 to T:\\MARDPIN1DA\\Marathi_mar_DPI_NT_Non-Drama\\B03___11_Luke________MARDPIN1DA.wav\n",
      "Converted T:\\MARDPIN1DA\\Marathi_mar_DPI_NT_Non-Drama\\B03___12_Luke________MARDPIN1DA.mp3 to T:\\MARDPIN1DA\\Marathi_mar_DPI_NT_Non-Drama\\B03___12_Luke________MARDPIN1DA.wav\n",
      "Converted T:\\MARDPIN1DA\\Marathi_mar_DPI_NT_Non-Drama\\B03___13_Luke________MARDPIN1DA.mp3 to T:\\MARDPIN1DA\\Marathi_mar_DPI_NT_Non-Drama\\B03___13_Luke________MARDPIN1DA.wav\n",
      "Converted T:\\MARDPIN1DA\\Marathi_mar_DPI_NT_Non-Drama\\B03___14_Luke________MARDPIN1DA.mp3 to T:\\MARDPIN1DA\\Marathi_mar_DPI_NT_Non-Drama\\B03___14_Luke________MARDPIN1DA.wav\n",
      "Converted T:\\MARDPIN1DA\\Marathi_mar_DPI_NT_Non-Drama\\B03___15_Luke________MARDPIN1DA.mp3 to T:\\MARDPIN1DA\\Marathi_mar_DPI_NT_Non-Drama\\B03___15_Luke________MARDPIN1DA.wav\n",
      "Converted T:\\MARDPIN1DA\\Marathi_mar_DPI_NT_Non-Drama\\B03___16_Luke________MARDPIN1DA.mp3 to T:\\MARDPIN1DA\\Marathi_mar_DPI_NT_Non-Drama\\B03___16_Luke________MARDPIN1DA.wav\n",
      "Converted T:\\MARDPIN1DA\\Marathi_mar_DPI_NT_Non-Drama\\B03___17_Luke________MARDPIN1DA.mp3 to T:\\MARDPIN1DA\\Marathi_mar_DPI_NT_Non-Drama\\B03___17_Luke________MARDPIN1DA.wav\n",
      "Converted T:\\MARDPIN1DA\\Marathi_mar_DPI_NT_Non-Drama\\B03___18_Luke________MARDPIN1DA.mp3 to T:\\MARDPIN1DA\\Marathi_mar_DPI_NT_Non-Drama\\B03___18_Luke________MARDPIN1DA.wav\n",
      "Converted T:\\MARDPIN1DA\\Marathi_mar_DPI_NT_Non-Drama\\B03___19_Luke________MARDPIN1DA.mp3 to T:\\MARDPIN1DA\\Marathi_mar_DPI_NT_Non-Drama\\B03___19_Luke________MARDPIN1DA.wav\n",
      "Converted T:\\MARDPIN1DA\\Marathi_mar_DPI_NT_Non-Drama\\B03___20_Luke________MARDPIN1DA.mp3 to T:\\MARDPIN1DA\\Marathi_mar_DPI_NT_Non-Drama\\B03___20_Luke________MARDPIN1DA.wav\n",
      "Converted T:\\MARDPIN1DA\\Marathi_mar_DPI_NT_Non-Drama\\B03___21_Luke________MARDPIN1DA.mp3 to T:\\MARDPIN1DA\\Marathi_mar_DPI_NT_Non-Drama\\B03___21_Luke________MARDPIN1DA.wav\n",
      "Converted T:\\MARDPIN1DA\\Marathi_mar_DPI_NT_Non-Drama\\B03___22_Luke________MARDPIN1DA.mp3 to T:\\MARDPIN1DA\\Marathi_mar_DPI_NT_Non-Drama\\B03___22_Luke________MARDPIN1DA.wav\n",
      "Converted T:\\MARDPIN1DA\\Marathi_mar_DPI_NT_Non-Drama\\B03___23_Luke________MARDPIN1DA.mp3 to T:\\MARDPIN1DA\\Marathi_mar_DPI_NT_Non-Drama\\B03___23_Luke________MARDPIN1DA.wav\n",
      "Converted T:\\MARDPIN1DA\\Marathi_mar_DPI_NT_Non-Drama\\B03___24_Luke________MARDPIN1DA.mp3 to T:\\MARDPIN1DA\\Marathi_mar_DPI_NT_Non-Drama\\B03___24_Luke________MARDPIN1DA.wav\n",
      "Converted T:\\MARDPIN1DA\\Marathi_mar_DPI_NT_Non-Drama\\B04___01_John________MARDPIN1DA.mp3 to T:\\MARDPIN1DA\\Marathi_mar_DPI_NT_Non-Drama\\B04___01_John________MARDPIN1DA.wav\n",
      "Converted T:\\MARDPIN1DA\\Marathi_mar_DPI_NT_Non-Drama\\B04___02_John________MARDPIN1DA.mp3 to T:\\MARDPIN1DA\\Marathi_mar_DPI_NT_Non-Drama\\B04___02_John________MARDPIN1DA.wav\n",
      "Converted T:\\MARDPIN1DA\\Marathi_mar_DPI_NT_Non-Drama\\B04___03_John________MARDPIN1DA.mp3 to T:\\MARDPIN1DA\\Marathi_mar_DPI_NT_Non-Drama\\B04___03_John________MARDPIN1DA.wav\n",
      "Converted T:\\MARDPIN1DA\\Marathi_mar_DPI_NT_Non-Drama\\B04___04_John________MARDPIN1DA.mp3 to T:\\MARDPIN1DA\\Marathi_mar_DPI_NT_Non-Drama\\B04___04_John________MARDPIN1DA.wav\n",
      "Converted T:\\MARDPIN1DA\\Marathi_mar_DPI_NT_Non-Drama\\B04___05_John________MARDPIN1DA.mp3 to T:\\MARDPIN1DA\\Marathi_mar_DPI_NT_Non-Drama\\B04___05_John________MARDPIN1DA.wav\n",
      "Converted T:\\MARDPIN1DA\\Marathi_mar_DPI_NT_Non-Drama\\B04___06_John________MARDPIN1DA.mp3 to T:\\MARDPIN1DA\\Marathi_mar_DPI_NT_Non-Drama\\B04___06_John________MARDPIN1DA.wav\n",
      "Converted T:\\MARDPIN1DA\\Marathi_mar_DPI_NT_Non-Drama\\B04___07_John________MARDPIN1DA.mp3 to T:\\MARDPIN1DA\\Marathi_mar_DPI_NT_Non-Drama\\B04___07_John________MARDPIN1DA.wav\n",
      "Converted T:\\MARDPIN1DA\\Marathi_mar_DPI_NT_Non-Drama\\B04___08_John________MARDPIN1DA.mp3 to T:\\MARDPIN1DA\\Marathi_mar_DPI_NT_Non-Drama\\B04___08_John________MARDPIN1DA.wav\n",
      "Converted T:\\MARDPIN1DA\\Marathi_mar_DPI_NT_Non-Drama\\B04___09_John________MARDPIN1DA.mp3 to T:\\MARDPIN1DA\\Marathi_mar_DPI_NT_Non-Drama\\B04___09_John________MARDPIN1DA.wav\n",
      "Converted T:\\MARDPIN1DA\\Marathi_mar_DPI_NT_Non-Drama\\B04___10_John________MARDPIN1DA.mp3 to T:\\MARDPIN1DA\\Marathi_mar_DPI_NT_Non-Drama\\B04___10_John________MARDPIN1DA.wav\n",
      "Converted T:\\MARDPIN1DA\\Marathi_mar_DPI_NT_Non-Drama\\B04___11_John________MARDPIN1DA.mp3 to T:\\MARDPIN1DA\\Marathi_mar_DPI_NT_Non-Drama\\B04___11_John________MARDPIN1DA.wav\n",
      "Converted T:\\MARDPIN1DA\\Marathi_mar_DPI_NT_Non-Drama\\B04___12_John________MARDPIN1DA.mp3 to T:\\MARDPIN1DA\\Marathi_mar_DPI_NT_Non-Drama\\B04___12_John________MARDPIN1DA.wav\n",
      "Converted T:\\MARDPIN1DA\\Marathi_mar_DPI_NT_Non-Drama\\B04___13_John________MARDPIN1DA.mp3 to T:\\MARDPIN1DA\\Marathi_mar_DPI_NT_Non-Drama\\B04___13_John________MARDPIN1DA.wav\n",
      "Converted T:\\MARDPIN1DA\\Marathi_mar_DPI_NT_Non-Drama\\B04___14_John________MARDPIN1DA.mp3 to T:\\MARDPIN1DA\\Marathi_mar_DPI_NT_Non-Drama\\B04___14_John________MARDPIN1DA.wav\n",
      "Converted T:\\MARDPIN1DA\\Marathi_mar_DPI_NT_Non-Drama\\B04___15_John________MARDPIN1DA.mp3 to T:\\MARDPIN1DA\\Marathi_mar_DPI_NT_Non-Drama\\B04___15_John________MARDPIN1DA.wav\n",
      "Converted T:\\MARDPIN1DA\\Marathi_mar_DPI_NT_Non-Drama\\B04___16_John________MARDPIN1DA.mp3 to T:\\MARDPIN1DA\\Marathi_mar_DPI_NT_Non-Drama\\B04___16_John________MARDPIN1DA.wav\n",
      "Converted T:\\MARDPIN1DA\\Marathi_mar_DPI_NT_Non-Drama\\B04___17_John________MARDPIN1DA.mp3 to T:\\MARDPIN1DA\\Marathi_mar_DPI_NT_Non-Drama\\B04___17_John________MARDPIN1DA.wav\n",
      "Converted T:\\MARDPIN1DA\\Marathi_mar_DPI_NT_Non-Drama\\B04___18_John________MARDPIN1DA.mp3 to T:\\MARDPIN1DA\\Marathi_mar_DPI_NT_Non-Drama\\B04___18_John________MARDPIN1DA.wav\n",
      "Converted T:\\MARDPIN1DA\\Marathi_mar_DPI_NT_Non-Drama\\B04___19_John________MARDPIN1DA.mp3 to T:\\MARDPIN1DA\\Marathi_mar_DPI_NT_Non-Drama\\B04___19_John________MARDPIN1DA.wav\n",
      "Converted T:\\MARDPIN1DA\\Marathi_mar_DPI_NT_Non-Drama\\B04___20_John________MARDPIN1DA.mp3 to T:\\MARDPIN1DA\\Marathi_mar_DPI_NT_Non-Drama\\B04___20_John________MARDPIN1DA.wav\n",
      "Converted T:\\MARDPIN1DA\\Marathi_mar_DPI_NT_Non-Drama\\B04___21_John________MARDPIN1DA.mp3 to T:\\MARDPIN1DA\\Marathi_mar_DPI_NT_Non-Drama\\B04___21_John________MARDPIN1DA.wav\n",
      "Converted T:\\MARDPIN1DA\\Marathi_mar_DPI_NT_Non-Drama\\B05___01_Acts________MARDPIN1DA.mp3 to T:\\MARDPIN1DA\\Marathi_mar_DPI_NT_Non-Drama\\B05___01_Acts________MARDPIN1DA.wav\n",
      "Converted T:\\MARDPIN1DA\\Marathi_mar_DPI_NT_Non-Drama\\B05___02_Acts________MARDPIN1DA.mp3 to T:\\MARDPIN1DA\\Marathi_mar_DPI_NT_Non-Drama\\B05___02_Acts________MARDPIN1DA.wav\n",
      "Converted T:\\MARDPIN1DA\\Marathi_mar_DPI_NT_Non-Drama\\B05___03_Acts________MARDPIN1DA.mp3 to T:\\MARDPIN1DA\\Marathi_mar_DPI_NT_Non-Drama\\B05___03_Acts________MARDPIN1DA.wav\n",
      "Converted T:\\MARDPIN1DA\\Marathi_mar_DPI_NT_Non-Drama\\B05___04_Acts________MARDPIN1DA.mp3 to T:\\MARDPIN1DA\\Marathi_mar_DPI_NT_Non-Drama\\B05___04_Acts________MARDPIN1DA.wav\n",
      "Converted T:\\MARDPIN1DA\\Marathi_mar_DPI_NT_Non-Drama\\B05___05_Acts________MARDPIN1DA.mp3 to T:\\MARDPIN1DA\\Marathi_mar_DPI_NT_Non-Drama\\B05___05_Acts________MARDPIN1DA.wav\n",
      "Converted T:\\MARDPIN1DA\\Marathi_mar_DPI_NT_Non-Drama\\B05___06_Acts________MARDPIN1DA.mp3 to T:\\MARDPIN1DA\\Marathi_mar_DPI_NT_Non-Drama\\B05___06_Acts________MARDPIN1DA.wav\n",
      "Converted T:\\MARDPIN1DA\\Marathi_mar_DPI_NT_Non-Drama\\B05___07_Acts________MARDPIN1DA.mp3 to T:\\MARDPIN1DA\\Marathi_mar_DPI_NT_Non-Drama\\B05___07_Acts________MARDPIN1DA.wav\n"
     ]
    },
    {
     "name": "stdout",
     "output_type": "stream",
     "text": [
      "Converted T:\\MARDPIN1DA\\Marathi_mar_DPI_NT_Non-Drama\\B05___08_Acts________MARDPIN1DA.mp3 to T:\\MARDPIN1DA\\Marathi_mar_DPI_NT_Non-Drama\\B05___08_Acts________MARDPIN1DA.wav\n",
      "Converted T:\\MARDPIN1DA\\Marathi_mar_DPI_NT_Non-Drama\\B05___09_Acts________MARDPIN1DA.mp3 to T:\\MARDPIN1DA\\Marathi_mar_DPI_NT_Non-Drama\\B05___09_Acts________MARDPIN1DA.wav\n",
      "Converted T:\\MARDPIN1DA\\Marathi_mar_DPI_NT_Non-Drama\\B05___10_Acts________MARDPIN1DA.mp3 to T:\\MARDPIN1DA\\Marathi_mar_DPI_NT_Non-Drama\\B05___10_Acts________MARDPIN1DA.wav\n",
      "Converted T:\\MARDPIN1DA\\Marathi_mar_DPI_NT_Non-Drama\\B05___11_Acts________MARDPIN1DA.mp3 to T:\\MARDPIN1DA\\Marathi_mar_DPI_NT_Non-Drama\\B05___11_Acts________MARDPIN1DA.wav\n",
      "Converted T:\\MARDPIN1DA\\Marathi_mar_DPI_NT_Non-Drama\\B05___12_Acts________MARDPIN1DA.mp3 to T:\\MARDPIN1DA\\Marathi_mar_DPI_NT_Non-Drama\\B05___12_Acts________MARDPIN1DA.wav\n",
      "Converted T:\\MARDPIN1DA\\Marathi_mar_DPI_NT_Non-Drama\\B05___13_Acts________MARDPIN1DA.mp3 to T:\\MARDPIN1DA\\Marathi_mar_DPI_NT_Non-Drama\\B05___13_Acts________MARDPIN1DA.wav\n",
      "Converted T:\\MARDPIN1DA\\Marathi_mar_DPI_NT_Non-Drama\\B05___14_Acts________MARDPIN1DA.mp3 to T:\\MARDPIN1DA\\Marathi_mar_DPI_NT_Non-Drama\\B05___14_Acts________MARDPIN1DA.wav\n",
      "Converted T:\\MARDPIN1DA\\Marathi_mar_DPI_NT_Non-Drama\\B05___15_Acts________MARDPIN1DA.mp3 to T:\\MARDPIN1DA\\Marathi_mar_DPI_NT_Non-Drama\\B05___15_Acts________MARDPIN1DA.wav\n",
      "Converted T:\\MARDPIN1DA\\Marathi_mar_DPI_NT_Non-Drama\\B05___16_Acts________MARDPIN1DA.mp3 to T:\\MARDPIN1DA\\Marathi_mar_DPI_NT_Non-Drama\\B05___16_Acts________MARDPIN1DA.wav\n",
      "Converted T:\\MARDPIN1DA\\Marathi_mar_DPI_NT_Non-Drama\\B05___17_Acts________MARDPIN1DA.mp3 to T:\\MARDPIN1DA\\Marathi_mar_DPI_NT_Non-Drama\\B05___17_Acts________MARDPIN1DA.wav\n",
      "Converted T:\\MARDPIN1DA\\Marathi_mar_DPI_NT_Non-Drama\\B05___18_Acts________MARDPIN1DA.mp3 to T:\\MARDPIN1DA\\Marathi_mar_DPI_NT_Non-Drama\\B05___18_Acts________MARDPIN1DA.wav\n",
      "Converted T:\\MARDPIN1DA\\Marathi_mar_DPI_NT_Non-Drama\\B05___19_Acts________MARDPIN1DA.mp3 to T:\\MARDPIN1DA\\Marathi_mar_DPI_NT_Non-Drama\\B05___19_Acts________MARDPIN1DA.wav\n",
      "Converted T:\\MARDPIN1DA\\Marathi_mar_DPI_NT_Non-Drama\\B05___20_Acts________MARDPIN1DA.mp3 to T:\\MARDPIN1DA\\Marathi_mar_DPI_NT_Non-Drama\\B05___20_Acts________MARDPIN1DA.wav\n",
      "Converted T:\\MARDPIN1DA\\Marathi_mar_DPI_NT_Non-Drama\\B05___21_Acts________MARDPIN1DA.mp3 to T:\\MARDPIN1DA\\Marathi_mar_DPI_NT_Non-Drama\\B05___21_Acts________MARDPIN1DA.wav\n",
      "Converted T:\\MARDPIN1DA\\Marathi_mar_DPI_NT_Non-Drama\\B05___22_Acts________MARDPIN1DA.mp3 to T:\\MARDPIN1DA\\Marathi_mar_DPI_NT_Non-Drama\\B05___22_Acts________MARDPIN1DA.wav\n",
      "Converted T:\\MARDPIN1DA\\Marathi_mar_DPI_NT_Non-Drama\\B05___23_Acts________MARDPIN1DA.mp3 to T:\\MARDPIN1DA\\Marathi_mar_DPI_NT_Non-Drama\\B05___23_Acts________MARDPIN1DA.wav\n",
      "Converted T:\\MARDPIN1DA\\Marathi_mar_DPI_NT_Non-Drama\\B05___24_Acts________MARDPIN1DA.mp3 to T:\\MARDPIN1DA\\Marathi_mar_DPI_NT_Non-Drama\\B05___24_Acts________MARDPIN1DA.wav\n",
      "Converted T:\\MARDPIN1DA\\Marathi_mar_DPI_NT_Non-Drama\\B05___25_Acts________MARDPIN1DA.mp3 to T:\\MARDPIN1DA\\Marathi_mar_DPI_NT_Non-Drama\\B05___25_Acts________MARDPIN1DA.wav\n",
      "Converted T:\\MARDPIN1DA\\Marathi_mar_DPI_NT_Non-Drama\\B05___26_Acts________MARDPIN1DA.mp3 to T:\\MARDPIN1DA\\Marathi_mar_DPI_NT_Non-Drama\\B05___26_Acts________MARDPIN1DA.wav\n",
      "Converted T:\\MARDPIN1DA\\Marathi_mar_DPI_NT_Non-Drama\\B05___27_Acts________MARDPIN1DA.mp3 to T:\\MARDPIN1DA\\Marathi_mar_DPI_NT_Non-Drama\\B05___27_Acts________MARDPIN1DA.wav\n",
      "Converted T:\\MARDPIN1DA\\Marathi_mar_DPI_NT_Non-Drama\\B05___28_Acts________MARDPIN1DA.mp3 to T:\\MARDPIN1DA\\Marathi_mar_DPI_NT_Non-Drama\\B05___28_Acts________MARDPIN1DA.wav\n",
      "Converted T:\\MARDPIN1DA\\Marathi_mar_DPI_NT_Non-Drama\\B06___01_Romans______MARDPIN1DA.mp3 to T:\\MARDPIN1DA\\Marathi_mar_DPI_NT_Non-Drama\\B06___01_Romans______MARDPIN1DA.wav\n",
      "Converted T:\\MARDPIN1DA\\Marathi_mar_DPI_NT_Non-Drama\\B06___02_Romans______MARDPIN1DA.mp3 to T:\\MARDPIN1DA\\Marathi_mar_DPI_NT_Non-Drama\\B06___02_Romans______MARDPIN1DA.wav\n",
      "Converted T:\\MARDPIN1DA\\Marathi_mar_DPI_NT_Non-Drama\\B06___03_Romans______MARDPIN1DA.mp3 to T:\\MARDPIN1DA\\Marathi_mar_DPI_NT_Non-Drama\\B06___03_Romans______MARDPIN1DA.wav\n",
      "Converted T:\\MARDPIN1DA\\Marathi_mar_DPI_NT_Non-Drama\\B06___04_Romans______MARDPIN1DA.mp3 to T:\\MARDPIN1DA\\Marathi_mar_DPI_NT_Non-Drama\\B06___04_Romans______MARDPIN1DA.wav\n",
      "Converted T:\\MARDPIN1DA\\Marathi_mar_DPI_NT_Non-Drama\\B06___05_Romans______MARDPIN1DA.mp3 to T:\\MARDPIN1DA\\Marathi_mar_DPI_NT_Non-Drama\\B06___05_Romans______MARDPIN1DA.wav\n",
      "Converted T:\\MARDPIN1DA\\Marathi_mar_DPI_NT_Non-Drama\\B06___06_Romans______MARDPIN1DA.mp3 to T:\\MARDPIN1DA\\Marathi_mar_DPI_NT_Non-Drama\\B06___06_Romans______MARDPIN1DA.wav\n",
      "Converted T:\\MARDPIN1DA\\Marathi_mar_DPI_NT_Non-Drama\\B06___07_Romans______MARDPIN1DA.mp3 to T:\\MARDPIN1DA\\Marathi_mar_DPI_NT_Non-Drama\\B06___07_Romans______MARDPIN1DA.wav\n",
      "Converted T:\\MARDPIN1DA\\Marathi_mar_DPI_NT_Non-Drama\\B06___08_Romans______MARDPIN1DA.mp3 to T:\\MARDPIN1DA\\Marathi_mar_DPI_NT_Non-Drama\\B06___08_Romans______MARDPIN1DA.wav\n",
      "Converted T:\\MARDPIN1DA\\Marathi_mar_DPI_NT_Non-Drama\\B06___09_Romans______MARDPIN1DA.mp3 to T:\\MARDPIN1DA\\Marathi_mar_DPI_NT_Non-Drama\\B06___09_Romans______MARDPIN1DA.wav\n",
      "Converted T:\\MARDPIN1DA\\Marathi_mar_DPI_NT_Non-Drama\\B06___10_Romans______MARDPIN1DA.mp3 to T:\\MARDPIN1DA\\Marathi_mar_DPI_NT_Non-Drama\\B06___10_Romans______MARDPIN1DA.wav\n",
      "Converted T:\\MARDPIN1DA\\Marathi_mar_DPI_NT_Non-Drama\\B06___11_Romans______MARDPIN1DA.mp3 to T:\\MARDPIN1DA\\Marathi_mar_DPI_NT_Non-Drama\\B06___11_Romans______MARDPIN1DA.wav\n",
      "Converted T:\\MARDPIN1DA\\Marathi_mar_DPI_NT_Non-Drama\\B06___12_Romans______MARDPIN1DA.mp3 to T:\\MARDPIN1DA\\Marathi_mar_DPI_NT_Non-Drama\\B06___12_Romans______MARDPIN1DA.wav\n",
      "Converted T:\\MARDPIN1DA\\Marathi_mar_DPI_NT_Non-Drama\\B06___13_Romans______MARDPIN1DA.mp3 to T:\\MARDPIN1DA\\Marathi_mar_DPI_NT_Non-Drama\\B06___13_Romans______MARDPIN1DA.wav\n",
      "Converted T:\\MARDPIN1DA\\Marathi_mar_DPI_NT_Non-Drama\\B06___14_Romans______MARDPIN1DA.mp3 to T:\\MARDPIN1DA\\Marathi_mar_DPI_NT_Non-Drama\\B06___14_Romans______MARDPIN1DA.wav\n",
      "Converted T:\\MARDPIN1DA\\Marathi_mar_DPI_NT_Non-Drama\\B06___15_Romans______MARDPIN1DA.mp3 to T:\\MARDPIN1DA\\Marathi_mar_DPI_NT_Non-Drama\\B06___15_Romans______MARDPIN1DA.wav\n",
      "Converted T:\\MARDPIN1DA\\Marathi_mar_DPI_NT_Non-Drama\\B06___16_Romans______MARDPIN1DA.mp3 to T:\\MARDPIN1DA\\Marathi_mar_DPI_NT_Non-Drama\\B06___16_Romans______MARDPIN1DA.wav\n",
      "Converted T:\\MARDPIN1DA\\Marathi_mar_DPI_NT_Non-Drama\\B07___01_1CorinthiansMARDPIN1DA.mp3 to T:\\MARDPIN1DA\\Marathi_mar_DPI_NT_Non-Drama\\B07___01_1CorinthiansMARDPIN1DA.wav\n",
      "Converted T:\\MARDPIN1DA\\Marathi_mar_DPI_NT_Non-Drama\\B07___02_1CorinthiansMARDPIN1DA.mp3 to T:\\MARDPIN1DA\\Marathi_mar_DPI_NT_Non-Drama\\B07___02_1CorinthiansMARDPIN1DA.wav\n",
      "Converted T:\\MARDPIN1DA\\Marathi_mar_DPI_NT_Non-Drama\\B07___03_1CorinthiansMARDPIN1DA.mp3 to T:\\MARDPIN1DA\\Marathi_mar_DPI_NT_Non-Drama\\B07___03_1CorinthiansMARDPIN1DA.wav\n",
      "Converted T:\\MARDPIN1DA\\Marathi_mar_DPI_NT_Non-Drama\\B07___04_1CorinthiansMARDPIN1DA.mp3 to T:\\MARDPIN1DA\\Marathi_mar_DPI_NT_Non-Drama\\B07___04_1CorinthiansMARDPIN1DA.wav\n",
      "Converted T:\\MARDPIN1DA\\Marathi_mar_DPI_NT_Non-Drama\\B07___05_1CorinthiansMARDPIN1DA.mp3 to T:\\MARDPIN1DA\\Marathi_mar_DPI_NT_Non-Drama\\B07___05_1CorinthiansMARDPIN1DA.wav\n",
      "Converted T:\\MARDPIN1DA\\Marathi_mar_DPI_NT_Non-Drama\\B07___06_1CorinthiansMARDPIN1DA.mp3 to T:\\MARDPIN1DA\\Marathi_mar_DPI_NT_Non-Drama\\B07___06_1CorinthiansMARDPIN1DA.wav\n",
      "Converted T:\\MARDPIN1DA\\Marathi_mar_DPI_NT_Non-Drama\\B07___07_1CorinthiansMARDPIN1DA.mp3 to T:\\MARDPIN1DA\\Marathi_mar_DPI_NT_Non-Drama\\B07___07_1CorinthiansMARDPIN1DA.wav\n",
      "Converted T:\\MARDPIN1DA\\Marathi_mar_DPI_NT_Non-Drama\\B07___08_1CorinthiansMARDPIN1DA.mp3 to T:\\MARDPIN1DA\\Marathi_mar_DPI_NT_Non-Drama\\B07___08_1CorinthiansMARDPIN1DA.wav\n",
      "Converted T:\\MARDPIN1DA\\Marathi_mar_DPI_NT_Non-Drama\\B07___09_1CorinthiansMARDPIN1DA.mp3 to T:\\MARDPIN1DA\\Marathi_mar_DPI_NT_Non-Drama\\B07___09_1CorinthiansMARDPIN1DA.wav\n",
      "Converted T:\\MARDPIN1DA\\Marathi_mar_DPI_NT_Non-Drama\\B07___10_1CorinthiansMARDPIN1DA.mp3 to T:\\MARDPIN1DA\\Marathi_mar_DPI_NT_Non-Drama\\B07___10_1CorinthiansMARDPIN1DA.wav\n",
      "Converted T:\\MARDPIN1DA\\Marathi_mar_DPI_NT_Non-Drama\\B07___11_1CorinthiansMARDPIN1DA.mp3 to T:\\MARDPIN1DA\\Marathi_mar_DPI_NT_Non-Drama\\B07___11_1CorinthiansMARDPIN1DA.wav\n"
     ]
    },
    {
     "name": "stdout",
     "output_type": "stream",
     "text": [
      "Converted T:\\MARDPIN1DA\\Marathi_mar_DPI_NT_Non-Drama\\B07___12_1CorinthiansMARDPIN1DA.mp3 to T:\\MARDPIN1DA\\Marathi_mar_DPI_NT_Non-Drama\\B07___12_1CorinthiansMARDPIN1DA.wav\n",
      "Converted T:\\MARDPIN1DA\\Marathi_mar_DPI_NT_Non-Drama\\B07___13_1CorinthiansMARDPIN1DA.mp3 to T:\\MARDPIN1DA\\Marathi_mar_DPI_NT_Non-Drama\\B07___13_1CorinthiansMARDPIN1DA.wav\n",
      "Converted T:\\MARDPIN1DA\\Marathi_mar_DPI_NT_Non-Drama\\B07___14_1CorinthiansMARDPIN1DA.mp3 to T:\\MARDPIN1DA\\Marathi_mar_DPI_NT_Non-Drama\\B07___14_1CorinthiansMARDPIN1DA.wav\n",
      "Converted T:\\MARDPIN1DA\\Marathi_mar_DPI_NT_Non-Drama\\B07___15_1CorinthiansMARDPIN1DA.mp3 to T:\\MARDPIN1DA\\Marathi_mar_DPI_NT_Non-Drama\\B07___15_1CorinthiansMARDPIN1DA.wav\n",
      "Converted T:\\MARDPIN1DA\\Marathi_mar_DPI_NT_Non-Drama\\B07___16_1CorinthiansMARDPIN1DA.mp3 to T:\\MARDPIN1DA\\Marathi_mar_DPI_NT_Non-Drama\\B07___16_1CorinthiansMARDPIN1DA.wav\n",
      "Converted T:\\MARDPIN1DA\\Marathi_mar_DPI_NT_Non-Drama\\B08___01_2CorinthiansMARDPIN1DA.mp3 to T:\\MARDPIN1DA\\Marathi_mar_DPI_NT_Non-Drama\\B08___01_2CorinthiansMARDPIN1DA.wav\n",
      "Converted T:\\MARDPIN1DA\\Marathi_mar_DPI_NT_Non-Drama\\B08___02_2CorinthiansMARDPIN1DA.mp3 to T:\\MARDPIN1DA\\Marathi_mar_DPI_NT_Non-Drama\\B08___02_2CorinthiansMARDPIN1DA.wav\n",
      "Converted T:\\MARDPIN1DA\\Marathi_mar_DPI_NT_Non-Drama\\B08___03_2CorinthiansMARDPIN1DA.mp3 to T:\\MARDPIN1DA\\Marathi_mar_DPI_NT_Non-Drama\\B08___03_2CorinthiansMARDPIN1DA.wav\n",
      "Converted T:\\MARDPIN1DA\\Marathi_mar_DPI_NT_Non-Drama\\B08___04_2CorinthiansMARDPIN1DA.mp3 to T:\\MARDPIN1DA\\Marathi_mar_DPI_NT_Non-Drama\\B08___04_2CorinthiansMARDPIN1DA.wav\n",
      "Converted T:\\MARDPIN1DA\\Marathi_mar_DPI_NT_Non-Drama\\B08___05_2CorinthiansMARDPIN1DA.mp3 to T:\\MARDPIN1DA\\Marathi_mar_DPI_NT_Non-Drama\\B08___05_2CorinthiansMARDPIN1DA.wav\n",
      "Converted T:\\MARDPIN1DA\\Marathi_mar_DPI_NT_Non-Drama\\B08___06_2CorinthiansMARDPIN1DA.mp3 to T:\\MARDPIN1DA\\Marathi_mar_DPI_NT_Non-Drama\\B08___06_2CorinthiansMARDPIN1DA.wav\n",
      "Converted T:\\MARDPIN1DA\\Marathi_mar_DPI_NT_Non-Drama\\B08___07_2CorinthiansMARDPIN1DA.mp3 to T:\\MARDPIN1DA\\Marathi_mar_DPI_NT_Non-Drama\\B08___07_2CorinthiansMARDPIN1DA.wav\n",
      "Converted T:\\MARDPIN1DA\\Marathi_mar_DPI_NT_Non-Drama\\B08___08_2CorinthiansMARDPIN1DA.mp3 to T:\\MARDPIN1DA\\Marathi_mar_DPI_NT_Non-Drama\\B08___08_2CorinthiansMARDPIN1DA.wav\n",
      "Converted T:\\MARDPIN1DA\\Marathi_mar_DPI_NT_Non-Drama\\B08___09_2CorinthiansMARDPIN1DA.mp3 to T:\\MARDPIN1DA\\Marathi_mar_DPI_NT_Non-Drama\\B08___09_2CorinthiansMARDPIN1DA.wav\n",
      "Converted T:\\MARDPIN1DA\\Marathi_mar_DPI_NT_Non-Drama\\B08___10_2CorinthiansMARDPIN1DA.mp3 to T:\\MARDPIN1DA\\Marathi_mar_DPI_NT_Non-Drama\\B08___10_2CorinthiansMARDPIN1DA.wav\n",
      "Converted T:\\MARDPIN1DA\\Marathi_mar_DPI_NT_Non-Drama\\B08___11_2CorinthiansMARDPIN1DA.mp3 to T:\\MARDPIN1DA\\Marathi_mar_DPI_NT_Non-Drama\\B08___11_2CorinthiansMARDPIN1DA.wav\n",
      "Converted T:\\MARDPIN1DA\\Marathi_mar_DPI_NT_Non-Drama\\B08___12_2CorinthiansMARDPIN1DA.mp3 to T:\\MARDPIN1DA\\Marathi_mar_DPI_NT_Non-Drama\\B08___12_2CorinthiansMARDPIN1DA.wav\n",
      "Converted T:\\MARDPIN1DA\\Marathi_mar_DPI_NT_Non-Drama\\B08___13_2CorinthiansMARDPIN1DA.mp3 to T:\\MARDPIN1DA\\Marathi_mar_DPI_NT_Non-Drama\\B08___13_2CorinthiansMARDPIN1DA.wav\n",
      "Converted T:\\MARDPIN1DA\\Marathi_mar_DPI_NT_Non-Drama\\B09___01_Galatians___MARDPIN1DA.mp3 to T:\\MARDPIN1DA\\Marathi_mar_DPI_NT_Non-Drama\\B09___01_Galatians___MARDPIN1DA.wav\n",
      "Converted T:\\MARDPIN1DA\\Marathi_mar_DPI_NT_Non-Drama\\B09___02_Galatians___MARDPIN1DA.mp3 to T:\\MARDPIN1DA\\Marathi_mar_DPI_NT_Non-Drama\\B09___02_Galatians___MARDPIN1DA.wav\n",
      "Converted T:\\MARDPIN1DA\\Marathi_mar_DPI_NT_Non-Drama\\B09___03_Galatians___MARDPIN1DA.mp3 to T:\\MARDPIN1DA\\Marathi_mar_DPI_NT_Non-Drama\\B09___03_Galatians___MARDPIN1DA.wav\n",
      "Converted T:\\MARDPIN1DA\\Marathi_mar_DPI_NT_Non-Drama\\B09___04_Galatians___MARDPIN1DA.mp3 to T:\\MARDPIN1DA\\Marathi_mar_DPI_NT_Non-Drama\\B09___04_Galatians___MARDPIN1DA.wav\n",
      "Converted T:\\MARDPIN1DA\\Marathi_mar_DPI_NT_Non-Drama\\B09___05_Galatians___MARDPIN1DA.mp3 to T:\\MARDPIN1DA\\Marathi_mar_DPI_NT_Non-Drama\\B09___05_Galatians___MARDPIN1DA.wav\n",
      "Converted T:\\MARDPIN1DA\\Marathi_mar_DPI_NT_Non-Drama\\B09___06_Galatians___MARDPIN1DA.mp3 to T:\\MARDPIN1DA\\Marathi_mar_DPI_NT_Non-Drama\\B09___06_Galatians___MARDPIN1DA.wav\n",
      "Converted T:\\MARDPIN1DA\\Marathi_mar_DPI_NT_Non-Drama\\B10___01_Ephesians___MARDPIN1DA.mp3 to T:\\MARDPIN1DA\\Marathi_mar_DPI_NT_Non-Drama\\B10___01_Ephesians___MARDPIN1DA.wav\n",
      "Converted T:\\MARDPIN1DA\\Marathi_mar_DPI_NT_Non-Drama\\B10___02_Ephesians___MARDPIN1DA.mp3 to T:\\MARDPIN1DA\\Marathi_mar_DPI_NT_Non-Drama\\B10___02_Ephesians___MARDPIN1DA.wav\n",
      "Converted T:\\MARDPIN1DA\\Marathi_mar_DPI_NT_Non-Drama\\B10___03_Ephesians___MARDPIN1DA.mp3 to T:\\MARDPIN1DA\\Marathi_mar_DPI_NT_Non-Drama\\B10___03_Ephesians___MARDPIN1DA.wav\n",
      "Converted T:\\MARDPIN1DA\\Marathi_mar_DPI_NT_Non-Drama\\B10___04_Ephesians___MARDPIN1DA.mp3 to T:\\MARDPIN1DA\\Marathi_mar_DPI_NT_Non-Drama\\B10___04_Ephesians___MARDPIN1DA.wav\n",
      "Converted T:\\MARDPIN1DA\\Marathi_mar_DPI_NT_Non-Drama\\B10___05_Ephesians___MARDPIN1DA.mp3 to T:\\MARDPIN1DA\\Marathi_mar_DPI_NT_Non-Drama\\B10___05_Ephesians___MARDPIN1DA.wav\n",
      "Converted T:\\MARDPIN1DA\\Marathi_mar_DPI_NT_Non-Drama\\B10___06_Ephesians___MARDPIN1DA.mp3 to T:\\MARDPIN1DA\\Marathi_mar_DPI_NT_Non-Drama\\B10___06_Ephesians___MARDPIN1DA.wav\n",
      "Converted T:\\MARDPIN1DA\\Marathi_mar_DPI_NT_Non-Drama\\B11___01_Philippians_MARDPIN1DA.mp3 to T:\\MARDPIN1DA\\Marathi_mar_DPI_NT_Non-Drama\\B11___01_Philippians_MARDPIN1DA.wav\n",
      "Converted T:\\MARDPIN1DA\\Marathi_mar_DPI_NT_Non-Drama\\B11___02_Philippians_MARDPIN1DA.mp3 to T:\\MARDPIN1DA\\Marathi_mar_DPI_NT_Non-Drama\\B11___02_Philippians_MARDPIN1DA.wav\n",
      "Converted T:\\MARDPIN1DA\\Marathi_mar_DPI_NT_Non-Drama\\B11___03_Philippians_MARDPIN1DA.mp3 to T:\\MARDPIN1DA\\Marathi_mar_DPI_NT_Non-Drama\\B11___03_Philippians_MARDPIN1DA.wav\n",
      "Converted T:\\MARDPIN1DA\\Marathi_mar_DPI_NT_Non-Drama\\B11___04_Philippians_MARDPIN1DA.mp3 to T:\\MARDPIN1DA\\Marathi_mar_DPI_NT_Non-Drama\\B11___04_Philippians_MARDPIN1DA.wav\n",
      "Converted T:\\MARDPIN1DA\\Marathi_mar_DPI_NT_Non-Drama\\B12___01_Colossians__MARDPIN1DA.mp3 to T:\\MARDPIN1DA\\Marathi_mar_DPI_NT_Non-Drama\\B12___01_Colossians__MARDPIN1DA.wav\n",
      "Converted T:\\MARDPIN1DA\\Marathi_mar_DPI_NT_Non-Drama\\B12___02_Colossians__MARDPIN1DA.mp3 to T:\\MARDPIN1DA\\Marathi_mar_DPI_NT_Non-Drama\\B12___02_Colossians__MARDPIN1DA.wav\n",
      "Converted T:\\MARDPIN1DA\\Marathi_mar_DPI_NT_Non-Drama\\B12___03_Colossians__MARDPIN1DA.mp3 to T:\\MARDPIN1DA\\Marathi_mar_DPI_NT_Non-Drama\\B12___03_Colossians__MARDPIN1DA.wav\n",
      "Converted T:\\MARDPIN1DA\\Marathi_mar_DPI_NT_Non-Drama\\B12___04_Colossians__MARDPIN1DA.mp3 to T:\\MARDPIN1DA\\Marathi_mar_DPI_NT_Non-Drama\\B12___04_Colossians__MARDPIN1DA.wav\n",
      "Converted T:\\MARDPIN1DA\\Marathi_mar_DPI_NT_Non-Drama\\B13___01_1Thess______MARDPIN1DA.mp3 to T:\\MARDPIN1DA\\Marathi_mar_DPI_NT_Non-Drama\\B13___01_1Thess______MARDPIN1DA.wav\n",
      "Converted T:\\MARDPIN1DA\\Marathi_mar_DPI_NT_Non-Drama\\B13___02_1Thess______MARDPIN1DA.mp3 to T:\\MARDPIN1DA\\Marathi_mar_DPI_NT_Non-Drama\\B13___02_1Thess______MARDPIN1DA.wav\n",
      "Converted T:\\MARDPIN1DA\\Marathi_mar_DPI_NT_Non-Drama\\B13___03_1Thess______MARDPIN1DA.mp3 to T:\\MARDPIN1DA\\Marathi_mar_DPI_NT_Non-Drama\\B13___03_1Thess______MARDPIN1DA.wav\n",
      "Converted T:\\MARDPIN1DA\\Marathi_mar_DPI_NT_Non-Drama\\B13___04_1Thess______MARDPIN1DA.mp3 to T:\\MARDPIN1DA\\Marathi_mar_DPI_NT_Non-Drama\\B13___04_1Thess______MARDPIN1DA.wav\n",
      "Converted T:\\MARDPIN1DA\\Marathi_mar_DPI_NT_Non-Drama\\B13___05_1Thess______MARDPIN1DA.mp3 to T:\\MARDPIN1DA\\Marathi_mar_DPI_NT_Non-Drama\\B13___05_1Thess______MARDPIN1DA.wav\n",
      "Converted T:\\MARDPIN1DA\\Marathi_mar_DPI_NT_Non-Drama\\B14___01_2Thess______MARDPIN1DA.mp3 to T:\\MARDPIN1DA\\Marathi_mar_DPI_NT_Non-Drama\\B14___01_2Thess______MARDPIN1DA.wav\n",
      "Converted T:\\MARDPIN1DA\\Marathi_mar_DPI_NT_Non-Drama\\B14___02_2Thess______MARDPIN1DA.mp3 to T:\\MARDPIN1DA\\Marathi_mar_DPI_NT_Non-Drama\\B14___02_2Thess______MARDPIN1DA.wav\n",
      "Converted T:\\MARDPIN1DA\\Marathi_mar_DPI_NT_Non-Drama\\B14___03_2Thess______MARDPIN1DA.mp3 to T:\\MARDPIN1DA\\Marathi_mar_DPI_NT_Non-Drama\\B14___03_2Thess______MARDPIN1DA.wav\n",
      "Converted T:\\MARDPIN1DA\\Marathi_mar_DPI_NT_Non-Drama\\B15___01_1Timothy____MARDPIN1DA.mp3 to T:\\MARDPIN1DA\\Marathi_mar_DPI_NT_Non-Drama\\B15___01_1Timothy____MARDPIN1DA.wav\n",
      "Converted T:\\MARDPIN1DA\\Marathi_mar_DPI_NT_Non-Drama\\B15___02_1Timothy____MARDPIN1DA.mp3 to T:\\MARDPIN1DA\\Marathi_mar_DPI_NT_Non-Drama\\B15___02_1Timothy____MARDPIN1DA.wav\n"
     ]
    },
    {
     "name": "stdout",
     "output_type": "stream",
     "text": [
      "Converted T:\\MARDPIN1DA\\Marathi_mar_DPI_NT_Non-Drama\\B15___03_1Timothy____MARDPIN1DA.mp3 to T:\\MARDPIN1DA\\Marathi_mar_DPI_NT_Non-Drama\\B15___03_1Timothy____MARDPIN1DA.wav\n",
      "Converted T:\\MARDPIN1DA\\Marathi_mar_DPI_NT_Non-Drama\\B15___04_1Timothy____MARDPIN1DA.mp3 to T:\\MARDPIN1DA\\Marathi_mar_DPI_NT_Non-Drama\\B15___04_1Timothy____MARDPIN1DA.wav\n",
      "Converted T:\\MARDPIN1DA\\Marathi_mar_DPI_NT_Non-Drama\\B15___05_1Timothy____MARDPIN1DA.mp3 to T:\\MARDPIN1DA\\Marathi_mar_DPI_NT_Non-Drama\\B15___05_1Timothy____MARDPIN1DA.wav\n",
      "Converted T:\\MARDPIN1DA\\Marathi_mar_DPI_NT_Non-Drama\\B15___06_1Timothy____MARDPIN1DA.mp3 to T:\\MARDPIN1DA\\Marathi_mar_DPI_NT_Non-Drama\\B15___06_1Timothy____MARDPIN1DA.wav\n",
      "Converted T:\\MARDPIN1DA\\Marathi_mar_DPI_NT_Non-Drama\\B16___01_2Timothy____MARDPIN1DA.mp3 to T:\\MARDPIN1DA\\Marathi_mar_DPI_NT_Non-Drama\\B16___01_2Timothy____MARDPIN1DA.wav\n",
      "Converted T:\\MARDPIN1DA\\Marathi_mar_DPI_NT_Non-Drama\\B16___02_2Timothy____MARDPIN1DA.mp3 to T:\\MARDPIN1DA\\Marathi_mar_DPI_NT_Non-Drama\\B16___02_2Timothy____MARDPIN1DA.wav\n",
      "Converted T:\\MARDPIN1DA\\Marathi_mar_DPI_NT_Non-Drama\\B16___03_2Timothy____MARDPIN1DA.mp3 to T:\\MARDPIN1DA\\Marathi_mar_DPI_NT_Non-Drama\\B16___03_2Timothy____MARDPIN1DA.wav\n",
      "Converted T:\\MARDPIN1DA\\Marathi_mar_DPI_NT_Non-Drama\\B16___04_2Timothy____MARDPIN1DA.mp3 to T:\\MARDPIN1DA\\Marathi_mar_DPI_NT_Non-Drama\\B16___04_2Timothy____MARDPIN1DA.wav\n",
      "Converted T:\\MARDPIN1DA\\Marathi_mar_DPI_NT_Non-Drama\\B17___01_Titus_______MARDPIN1DA.mp3 to T:\\MARDPIN1DA\\Marathi_mar_DPI_NT_Non-Drama\\B17___01_Titus_______MARDPIN1DA.wav\n",
      "Converted T:\\MARDPIN1DA\\Marathi_mar_DPI_NT_Non-Drama\\B17___02_Titus_______MARDPIN1DA.mp3 to T:\\MARDPIN1DA\\Marathi_mar_DPI_NT_Non-Drama\\B17___02_Titus_______MARDPIN1DA.wav\n",
      "Converted T:\\MARDPIN1DA\\Marathi_mar_DPI_NT_Non-Drama\\B17___03_Titus_______MARDPIN1DA.mp3 to T:\\MARDPIN1DA\\Marathi_mar_DPI_NT_Non-Drama\\B17___03_Titus_______MARDPIN1DA.wav\n",
      "Converted T:\\MARDPIN1DA\\Marathi_mar_DPI_NT_Non-Drama\\B18___01_Philemon____MARDPIN1DA.mp3 to T:\\MARDPIN1DA\\Marathi_mar_DPI_NT_Non-Drama\\B18___01_Philemon____MARDPIN1DA.wav\n",
      "Converted T:\\MARDPIN1DA\\Marathi_mar_DPI_NT_Non-Drama\\B19___01_Hebrews_____MARDPIN1DA.mp3 to T:\\MARDPIN1DA\\Marathi_mar_DPI_NT_Non-Drama\\B19___01_Hebrews_____MARDPIN1DA.wav\n",
      "Converted T:\\MARDPIN1DA\\Marathi_mar_DPI_NT_Non-Drama\\B19___02_Hebrews_____MARDPIN1DA.mp3 to T:\\MARDPIN1DA\\Marathi_mar_DPI_NT_Non-Drama\\B19___02_Hebrews_____MARDPIN1DA.wav\n",
      "Converted T:\\MARDPIN1DA\\Marathi_mar_DPI_NT_Non-Drama\\B19___03_Hebrews_____MARDPIN1DA.mp3 to T:\\MARDPIN1DA\\Marathi_mar_DPI_NT_Non-Drama\\B19___03_Hebrews_____MARDPIN1DA.wav\n",
      "Converted T:\\MARDPIN1DA\\Marathi_mar_DPI_NT_Non-Drama\\B19___04_Hebrews_____MARDPIN1DA.mp3 to T:\\MARDPIN1DA\\Marathi_mar_DPI_NT_Non-Drama\\B19___04_Hebrews_____MARDPIN1DA.wav\n",
      "Converted T:\\MARDPIN1DA\\Marathi_mar_DPI_NT_Non-Drama\\B19___05_Hebrews_____MARDPIN1DA.mp3 to T:\\MARDPIN1DA\\Marathi_mar_DPI_NT_Non-Drama\\B19___05_Hebrews_____MARDPIN1DA.wav\n",
      "Converted T:\\MARDPIN1DA\\Marathi_mar_DPI_NT_Non-Drama\\B19___06_Hebrews_____MARDPIN1DA.mp3 to T:\\MARDPIN1DA\\Marathi_mar_DPI_NT_Non-Drama\\B19___06_Hebrews_____MARDPIN1DA.wav\n",
      "Converted T:\\MARDPIN1DA\\Marathi_mar_DPI_NT_Non-Drama\\B19___07_Hebrews_____MARDPIN1DA.mp3 to T:\\MARDPIN1DA\\Marathi_mar_DPI_NT_Non-Drama\\B19___07_Hebrews_____MARDPIN1DA.wav\n",
      "Converted T:\\MARDPIN1DA\\Marathi_mar_DPI_NT_Non-Drama\\B19___08_Hebrews_____MARDPIN1DA.mp3 to T:\\MARDPIN1DA\\Marathi_mar_DPI_NT_Non-Drama\\B19___08_Hebrews_____MARDPIN1DA.wav\n",
      "Converted T:\\MARDPIN1DA\\Marathi_mar_DPI_NT_Non-Drama\\B19___09_Hebrews_____MARDPIN1DA.mp3 to T:\\MARDPIN1DA\\Marathi_mar_DPI_NT_Non-Drama\\B19___09_Hebrews_____MARDPIN1DA.wav\n",
      "Converted T:\\MARDPIN1DA\\Marathi_mar_DPI_NT_Non-Drama\\B19___10_Hebrews_____MARDPIN1DA.mp3 to T:\\MARDPIN1DA\\Marathi_mar_DPI_NT_Non-Drama\\B19___10_Hebrews_____MARDPIN1DA.wav\n",
      "Converted T:\\MARDPIN1DA\\Marathi_mar_DPI_NT_Non-Drama\\B19___11_Hebrews_____MARDPIN1DA.mp3 to T:\\MARDPIN1DA\\Marathi_mar_DPI_NT_Non-Drama\\B19___11_Hebrews_____MARDPIN1DA.wav\n",
      "Converted T:\\MARDPIN1DA\\Marathi_mar_DPI_NT_Non-Drama\\B19___12_Hebrews_____MARDPIN1DA.mp3 to T:\\MARDPIN1DA\\Marathi_mar_DPI_NT_Non-Drama\\B19___12_Hebrews_____MARDPIN1DA.wav\n",
      "Converted T:\\MARDPIN1DA\\Marathi_mar_DPI_NT_Non-Drama\\B19___13_Hebrews_____MARDPIN1DA.mp3 to T:\\MARDPIN1DA\\Marathi_mar_DPI_NT_Non-Drama\\B19___13_Hebrews_____MARDPIN1DA.wav\n",
      "Converted T:\\MARDPIN1DA\\Marathi_mar_DPI_NT_Non-Drama\\B20___01_James_______MARDPIN1DA.mp3 to T:\\MARDPIN1DA\\Marathi_mar_DPI_NT_Non-Drama\\B20___01_James_______MARDPIN1DA.wav\n",
      "Converted T:\\MARDPIN1DA\\Marathi_mar_DPI_NT_Non-Drama\\B20___02_James_______MARDPIN1DA.mp3 to T:\\MARDPIN1DA\\Marathi_mar_DPI_NT_Non-Drama\\B20___02_James_______MARDPIN1DA.wav\n",
      "Converted T:\\MARDPIN1DA\\Marathi_mar_DPI_NT_Non-Drama\\B20___03_James_______MARDPIN1DA.mp3 to T:\\MARDPIN1DA\\Marathi_mar_DPI_NT_Non-Drama\\B20___03_James_______MARDPIN1DA.wav\n",
      "Converted T:\\MARDPIN1DA\\Marathi_mar_DPI_NT_Non-Drama\\B20___04_James_______MARDPIN1DA.mp3 to T:\\MARDPIN1DA\\Marathi_mar_DPI_NT_Non-Drama\\B20___04_James_______MARDPIN1DA.wav\n",
      "Converted T:\\MARDPIN1DA\\Marathi_mar_DPI_NT_Non-Drama\\B20___05_James_______MARDPIN1DA.mp3 to T:\\MARDPIN1DA\\Marathi_mar_DPI_NT_Non-Drama\\B20___05_James_______MARDPIN1DA.wav\n",
      "Converted T:\\MARDPIN1DA\\Marathi_mar_DPI_NT_Non-Drama\\B21___01_1Peter______MARDPIN1DA.mp3 to T:\\MARDPIN1DA\\Marathi_mar_DPI_NT_Non-Drama\\B21___01_1Peter______MARDPIN1DA.wav\n",
      "Converted T:\\MARDPIN1DA\\Marathi_mar_DPI_NT_Non-Drama\\B21___02_1Peter______MARDPIN1DA.mp3 to T:\\MARDPIN1DA\\Marathi_mar_DPI_NT_Non-Drama\\B21___02_1Peter______MARDPIN1DA.wav\n",
      "Converted T:\\MARDPIN1DA\\Marathi_mar_DPI_NT_Non-Drama\\B21___03_1Peter______MARDPIN1DA.mp3 to T:\\MARDPIN1DA\\Marathi_mar_DPI_NT_Non-Drama\\B21___03_1Peter______MARDPIN1DA.wav\n",
      "Converted T:\\MARDPIN1DA\\Marathi_mar_DPI_NT_Non-Drama\\B21___04_1Peter______MARDPIN1DA.mp3 to T:\\MARDPIN1DA\\Marathi_mar_DPI_NT_Non-Drama\\B21___04_1Peter______MARDPIN1DA.wav\n",
      "Converted T:\\MARDPIN1DA\\Marathi_mar_DPI_NT_Non-Drama\\B21___05_1Peter______MARDPIN1DA.mp3 to T:\\MARDPIN1DA\\Marathi_mar_DPI_NT_Non-Drama\\B21___05_1Peter______MARDPIN1DA.wav\n",
      "Converted T:\\MARDPIN1DA\\Marathi_mar_DPI_NT_Non-Drama\\B22___01_2Peter______MARDPIN1DA.mp3 to T:\\MARDPIN1DA\\Marathi_mar_DPI_NT_Non-Drama\\B22___01_2Peter______MARDPIN1DA.wav\n",
      "Converted T:\\MARDPIN1DA\\Marathi_mar_DPI_NT_Non-Drama\\B22___02_2Peter______MARDPIN1DA.mp3 to T:\\MARDPIN1DA\\Marathi_mar_DPI_NT_Non-Drama\\B22___02_2Peter______MARDPIN1DA.wav\n",
      "Converted T:\\MARDPIN1DA\\Marathi_mar_DPI_NT_Non-Drama\\B22___03_2Peter______MARDPIN1DA.mp3 to T:\\MARDPIN1DA\\Marathi_mar_DPI_NT_Non-Drama\\B22___03_2Peter______MARDPIN1DA.wav\n",
      "Converted T:\\MARDPIN1DA\\Marathi_mar_DPI_NT_Non-Drama\\B23___01_1John_______MARDPIN1DA.mp3 to T:\\MARDPIN1DA\\Marathi_mar_DPI_NT_Non-Drama\\B23___01_1John_______MARDPIN1DA.wav\n",
      "Converted T:\\MARDPIN1DA\\Marathi_mar_DPI_NT_Non-Drama\\B23___02_1John_______MARDPIN1DA.mp3 to T:\\MARDPIN1DA\\Marathi_mar_DPI_NT_Non-Drama\\B23___02_1John_______MARDPIN1DA.wav\n",
      "Converted T:\\MARDPIN1DA\\Marathi_mar_DPI_NT_Non-Drama\\B23___03_1John_______MARDPIN1DA.mp3 to T:\\MARDPIN1DA\\Marathi_mar_DPI_NT_Non-Drama\\B23___03_1John_______MARDPIN1DA.wav\n",
      "Converted T:\\MARDPIN1DA\\Marathi_mar_DPI_NT_Non-Drama\\B23___04_1John_______MARDPIN1DA.mp3 to T:\\MARDPIN1DA\\Marathi_mar_DPI_NT_Non-Drama\\B23___04_1John_______MARDPIN1DA.wav\n",
      "Converted T:\\MARDPIN1DA\\Marathi_mar_DPI_NT_Non-Drama\\B23___05_1John_______MARDPIN1DA.mp3 to T:\\MARDPIN1DA\\Marathi_mar_DPI_NT_Non-Drama\\B23___05_1John_______MARDPIN1DA.wav\n",
      "Converted T:\\MARDPIN1DA\\Marathi_mar_DPI_NT_Non-Drama\\B24___01_2John_______MARDPIN1DA.mp3 to T:\\MARDPIN1DA\\Marathi_mar_DPI_NT_Non-Drama\\B24___01_2John_______MARDPIN1DA.wav\n",
      "Converted T:\\MARDPIN1DA\\Marathi_mar_DPI_NT_Non-Drama\\B25___01_3John_______MARDPIN1DA.mp3 to T:\\MARDPIN1DA\\Marathi_mar_DPI_NT_Non-Drama\\B25___01_3John_______MARDPIN1DA.wav\n",
      "Converted T:\\MARDPIN1DA\\Marathi_mar_DPI_NT_Non-Drama\\B26___01_Jude________MARDPIN1DA.mp3 to T:\\MARDPIN1DA\\Marathi_mar_DPI_NT_Non-Drama\\B26___01_Jude________MARDPIN1DA.wav\n",
      "Converted T:\\MARDPIN1DA\\Marathi_mar_DPI_NT_Non-Drama\\B27___01_Revelation__MARDPIN1DA.mp3 to T:\\MARDPIN1DA\\Marathi_mar_DPI_NT_Non-Drama\\B27___01_Revelation__MARDPIN1DA.wav\n",
      "Converted T:\\MARDPIN1DA\\Marathi_mar_DPI_NT_Non-Drama\\B27___02_Revelation__MARDPIN1DA.mp3 to T:\\MARDPIN1DA\\Marathi_mar_DPI_NT_Non-Drama\\B27___02_Revelation__MARDPIN1DA.wav\n"
     ]
    },
    {
     "name": "stdout",
     "output_type": "stream",
     "text": [
      "Converted T:\\MARDPIN1DA\\Marathi_mar_DPI_NT_Non-Drama\\B27___03_Revelation__MARDPIN1DA.mp3 to T:\\MARDPIN1DA\\Marathi_mar_DPI_NT_Non-Drama\\B27___03_Revelation__MARDPIN1DA.wav\n",
      "Converted T:\\MARDPIN1DA\\Marathi_mar_DPI_NT_Non-Drama\\B27___04_Revelation__MARDPIN1DA.mp3 to T:\\MARDPIN1DA\\Marathi_mar_DPI_NT_Non-Drama\\B27___04_Revelation__MARDPIN1DA.wav\n",
      "Converted T:\\MARDPIN1DA\\Marathi_mar_DPI_NT_Non-Drama\\B27___05_Revelation__MARDPIN1DA.mp3 to T:\\MARDPIN1DA\\Marathi_mar_DPI_NT_Non-Drama\\B27___05_Revelation__MARDPIN1DA.wav\n",
      "Converted T:\\MARDPIN1DA\\Marathi_mar_DPI_NT_Non-Drama\\B27___06_Revelation__MARDPIN1DA.mp3 to T:\\MARDPIN1DA\\Marathi_mar_DPI_NT_Non-Drama\\B27___06_Revelation__MARDPIN1DA.wav\n",
      "Converted T:\\MARDPIN1DA\\Marathi_mar_DPI_NT_Non-Drama\\B27___07_Revelation__MARDPIN1DA.mp3 to T:\\MARDPIN1DA\\Marathi_mar_DPI_NT_Non-Drama\\B27___07_Revelation__MARDPIN1DA.wav\n",
      "Converted T:\\MARDPIN1DA\\Marathi_mar_DPI_NT_Non-Drama\\B27___08_Revelation__MARDPIN1DA.mp3 to T:\\MARDPIN1DA\\Marathi_mar_DPI_NT_Non-Drama\\B27___08_Revelation__MARDPIN1DA.wav\n",
      "Converted T:\\MARDPIN1DA\\Marathi_mar_DPI_NT_Non-Drama\\B27___09_Revelation__MARDPIN1DA.mp3 to T:\\MARDPIN1DA\\Marathi_mar_DPI_NT_Non-Drama\\B27___09_Revelation__MARDPIN1DA.wav\n",
      "Converted T:\\MARDPIN1DA\\Marathi_mar_DPI_NT_Non-Drama\\B27___10_Revelation__MARDPIN1DA.mp3 to T:\\MARDPIN1DA\\Marathi_mar_DPI_NT_Non-Drama\\B27___10_Revelation__MARDPIN1DA.wav\n",
      "Converted T:\\MARDPIN1DA\\Marathi_mar_DPI_NT_Non-Drama\\B27___11_Revelation__MARDPIN1DA.mp3 to T:\\MARDPIN1DA\\Marathi_mar_DPI_NT_Non-Drama\\B27___11_Revelation__MARDPIN1DA.wav\n",
      "Converted T:\\MARDPIN1DA\\Marathi_mar_DPI_NT_Non-Drama\\B27___12_Revelation__MARDPIN1DA.mp3 to T:\\MARDPIN1DA\\Marathi_mar_DPI_NT_Non-Drama\\B27___12_Revelation__MARDPIN1DA.wav\n",
      "Converted T:\\MARDPIN1DA\\Marathi_mar_DPI_NT_Non-Drama\\B27___13_Revelation__MARDPIN1DA.mp3 to T:\\MARDPIN1DA\\Marathi_mar_DPI_NT_Non-Drama\\B27___13_Revelation__MARDPIN1DA.wav\n",
      "Converted T:\\MARDPIN1DA\\Marathi_mar_DPI_NT_Non-Drama\\B27___14_Revelation__MARDPIN1DA.mp3 to T:\\MARDPIN1DA\\Marathi_mar_DPI_NT_Non-Drama\\B27___14_Revelation__MARDPIN1DA.wav\n",
      "Converted T:\\MARDPIN1DA\\Marathi_mar_DPI_NT_Non-Drama\\B27___15_Revelation__MARDPIN1DA.mp3 to T:\\MARDPIN1DA\\Marathi_mar_DPI_NT_Non-Drama\\B27___15_Revelation__MARDPIN1DA.wav\n",
      "Converted T:\\MARDPIN1DA\\Marathi_mar_DPI_NT_Non-Drama\\B27___16_Revelation__MARDPIN1DA.mp3 to T:\\MARDPIN1DA\\Marathi_mar_DPI_NT_Non-Drama\\B27___16_Revelation__MARDPIN1DA.wav\n",
      "Converted T:\\MARDPIN1DA\\Marathi_mar_DPI_NT_Non-Drama\\B27___17_Revelation__MARDPIN1DA.mp3 to T:\\MARDPIN1DA\\Marathi_mar_DPI_NT_Non-Drama\\B27___17_Revelation__MARDPIN1DA.wav\n",
      "Converted T:\\MARDPIN1DA\\Marathi_mar_DPI_NT_Non-Drama\\B27___18_Revelation__MARDPIN1DA.mp3 to T:\\MARDPIN1DA\\Marathi_mar_DPI_NT_Non-Drama\\B27___18_Revelation__MARDPIN1DA.wav\n",
      "Converted T:\\MARDPIN1DA\\Marathi_mar_DPI_NT_Non-Drama\\B27___19_Revelation__MARDPIN1DA.mp3 to T:\\MARDPIN1DA\\Marathi_mar_DPI_NT_Non-Drama\\B27___19_Revelation__MARDPIN1DA.wav\n",
      "Converted T:\\MARDPIN1DA\\Marathi_mar_DPI_NT_Non-Drama\\B27___20_Revelation__MARDPIN1DA.mp3 to T:\\MARDPIN1DA\\Marathi_mar_DPI_NT_Non-Drama\\B27___20_Revelation__MARDPIN1DA.wav\n",
      "Converted T:\\MARDPIN1DA\\Marathi_mar_DPI_NT_Non-Drama\\B27___21_Revelation__MARDPIN1DA.mp3 to T:\\MARDPIN1DA\\Marathi_mar_DPI_NT_Non-Drama\\B27___21_Revelation__MARDPIN1DA.wav\n",
      "Converted T:\\MARDPIN1DA\\Marathi_mar_DPI_NT_Non-Drama\\B27___22_Revelation__MARDPIN1DA.mp3 to T:\\MARDPIN1DA\\Marathi_mar_DPI_NT_Non-Drama\\B27___22_Revelation__MARDPIN1DA.wav\n"
     ]
    }
   ],
   "source": [
    "# But forst we need to convert .mp3 files into .wav format\n",
    "import os\n",
    "from pydub import AudioSegment\n",
    "\n",
    "def convert_to_wav(folder_path, output_folder):\n",
    "    if not os.path.exists(output_folder):\n",
    "        os.makedirs(output_folder)\n",
    "    \n",
    "    for root, _, files in os.walk(folder_path):\n",
    "        for file in files:\n",
    "            if not file.endswith('.wav'):\n",
    "                file_path = os.path.join(root, file)\n",
    "                output_file_path = os.path.join(output_folder, os.path.splitext(file)[0] + '.wav')\n",
    "                \n",
    "                try:\n",
    "                    audio = AudioSegment.from_file(file_path)\n",
    "                    audio.export(output_file_path, format='wav')\n",
    "                    print(f\"Converted {file_path} to {output_file_path}\")\n",
    "                except Exception as e:\n",
    "                    print(f\"Failed to convert {file_path}: {e}\")\n",
    "\n",
    "def main():\n",
    "    input_folder = \"T:\\MARDPIN1DA\\Marathi_mar_DPI_NT_Non-Drama\"\n",
    "    output_folder = \"T:\\MARDPIN1DA\\Marathi_mar_DPI_NT_Non-Drama\"\n",
    "    convert_to_wav(input_folder, output_folder)\n",
    "\n",
    "if __name__ == \"__main__\":\n",
    "    main()\n"
   ]
  },
  {
   "cell_type": "code",
   "execution_count": 1,
   "id": "1611e1dc",
   "metadata": {},
   "outputs": [
    {
     "name": "stdout",
     "output_type": "stream",
     "text": [
      "Permission error: [Errno 13] Permission denied: 'C:/Users/TANAY/anaconda3/envs/SIT/SarvamAIWebScraping/MARDPIN1DA/Marathi_mar_DPI_NT_Non-Drama'\n"
     ]
    }
   ],
   "source": [
    "\"C:/Users/TANAY/anaconda3/envs/SIT/SarvamAIWebScraping/MARDPIN1DA/Marathi_mar_DPI_NT_Non-Drama\"\n",
    "import os\n",
    "from pydub import AudioSegment\n",
    "\n",
    "def concatenate_audio_files(folder_path, output_file):\n",
    "    try:\n",
    "        # Initialize an empty AudioSegment object\n",
    "        combined = AudioSegment.empty()\n",
    "\n",
    "        # List all files in the folder\n",
    "        for filename in sorted(os.listdir(folder_path)):\n",
    "            if filename.endswith(('.mp3', '.wav', '.ogg', '.flac')):  # Add more formats if needed\n",
    "                file_path = os.path.join(folder_path, filename)\n",
    "                try:\n",
    "                    audio = AudioSegment.from_file(file_path)\n",
    "                    combined += audio\n",
    "                except Exception as e:\n",
    "                    print(f\"Failed to process {file_path}: {e}\")\n",
    "\n",
    "        # Export the combined audio\n",
    "        combined.export(output_file, format=\"mp3\")  # Change format as needed\n",
    "    except PermissionError as e:\n",
    "        print(f\"Permission error: {e}\")\n",
    "    except Exception as e:\n",
    "        print(f\"An error occurred: {e}\")\n",
    "\n",
    "# Usage\n",
    "folder_path = \"C:/Users/TANAY/anaconda3/envs/SIT/SarvamAIWebScraping/MARDPIN1DA/Marathi_mar_DPI_NT_Non-Drama\"\n",
    "output_file = \"C:/Users/TANAY/anaconda3/envs/SIT/SarvamAIWebScraping/MARDPIN1DA/Marathi_mar_DPI_NT_Non-Drama\"\n",
    "concatenate_audio_files(folder_path, output_file)\n"
   ]
  },
  {
   "cell_type": "code",
   "execution_count": 4,
   "id": "361e8abf",
   "metadata": {},
   "outputs": [
    {
     "name": "stdout",
     "output_type": "stream",
     "text": [
      "Collecting openai-whisper\n",
      "  Using cached openai_whisper-20231117-py3-none-any.whl\n",
      "Collecting jiwer\n",
      "  Using cached jiwer-3.0.4-py3-none-any.whl (21 kB)\n",
      "Collecting torch\n",
      "  Using cached torch-2.3.0-cp310-cp310-win_amd64.whl (159.8 MB)\n",
      "Collecting numba\n",
      "  Using cached numba-0.59.1-cp310-cp310-win_amd64.whl (2.7 MB)\n",
      "Collecting tqdm\n",
      "  Using cached tqdm-4.66.4-py3-none-any.whl (78 kB)\n",
      "Collecting more-itertools\n",
      "  Using cached more_itertools-10.2.0-py3-none-any.whl (57 kB)\n",
      "Collecting tiktoken\n",
      "  Using cached tiktoken-0.7.0-cp310-cp310-win_amd64.whl (798 kB)\n",
      "Collecting numpy\n",
      "  Using cached numpy-1.26.4-cp310-cp310-win_amd64.whl (15.8 MB)\n",
      "Collecting rapidfuzz<4,>=3\n",
      "  Using cached rapidfuzz-3.9.1-cp310-cp310-win_amd64.whl (1.7 MB)\n",
      "Collecting click<9.0.0,>=8.1.3\n",
      "  Using cached click-8.1.7-py3-none-any.whl (97 kB)\n",
      "Collecting colorama\n",
      "  Using cached colorama-0.4.6-py2.py3-none-any.whl (25 kB)\n",
      "Collecting llvmlite<0.43,>=0.42.0dev0\n",
      "  Using cached llvmlite-0.42.0-cp310-cp310-win_amd64.whl (28.1 MB)\n",
      "Collecting requests>=2.26.0\n",
      "  Using cached requests-2.32.2-py3-none-any.whl (63 kB)\n",
      "Collecting regex>=2022.1.18\n",
      "  Using cached regex-2024.5.15-cp310-cp310-win_amd64.whl (268 kB)\n",
      "Collecting typing-extensions>=4.8.0\n",
      "  Using cached typing_extensions-4.12.0-py3-none-any.whl (37 kB)\n",
      "Collecting networkx\n",
      "  Using cached networkx-3.3-py3-none-any.whl (1.7 MB)\n",
      "Collecting sympy\n",
      "  Using cached sympy-1.12-py3-none-any.whl (5.7 MB)\n",
      "Collecting fsspec\n",
      "  Using cached fsspec-2024.5.0-py3-none-any.whl (316 kB)\n",
      "Collecting filelock\n",
      "  Using cached filelock-3.14.0-py3-none-any.whl (12 kB)\n",
      "Collecting mkl<=2021.4.0,>=2021.1.1\n",
      "  Using cached mkl-2021.4.0-py2.py3-none-win_amd64.whl (228.5 MB)\n",
      "Collecting jinja2\n",
      "  Using cached jinja2-3.1.4-py3-none-any.whl (133 kB)\n",
      "Collecting tbb==2021.*\n",
      "  Using cached tbb-2021.12.0-py3-none-win_amd64.whl (286 kB)\n",
      "Collecting intel-openmp==2021.*\n",
      "  Using cached intel_openmp-2021.4.0-py2.py3-none-win_amd64.whl (3.5 MB)\n",
      "Collecting idna<4,>=2.5\n",
      "  Using cached idna-3.7-py3-none-any.whl (66 kB)\n",
      "Collecting urllib3<3,>=1.21.1\n",
      "  Using cached urllib3-2.2.1-py3-none-any.whl (121 kB)\n",
      "Collecting certifi>=2017.4.17\n",
      "  Using cached certifi-2024.2.2-py3-none-any.whl (163 kB)\n",
      "Collecting charset-normalizer<4,>=2\n",
      "  Using cached charset_normalizer-3.3.2-cp310-cp310-win_amd64.whl (100 kB)\n",
      "Collecting MarkupSafe>=2.0\n",
      "  Using cached MarkupSafe-2.1.5-cp310-cp310-win_amd64.whl (17 kB)\n",
      "Collecting mpmath>=0.19\n",
      "  Using cached mpmath-1.3.0-py3-none-any.whl (536 kB)\n",
      "Installing collected packages: tbb, mpmath, intel-openmp, urllib3, typing-extensions, sympy, regex, rapidfuzz, numpy, networkx, more-itertools, mkl, MarkupSafe, llvmlite, idna, fsspec, filelock, colorama, charset-normalizer, certifi, tqdm, requests, numba, jinja2, click, torch, tiktoken, jiwer, openai-whisper\n",
      "  Attempting uninstall: tbb\n",
      "    Found existing installation: TBB 0.2\n"
     ]
    },
    {
     "name": "stderr",
     "output_type": "stream",
     "text": [
      "WARNING: Ignoring invalid distribution -atplotlib (c:\\users\\tanay\\anaconda3\\lib\\site-packages)\n",
      "WARNING: Ignoring invalid distribution -atplotlib (c:\\users\\tanay\\anaconda3\\lib\\site-packages)\n",
      "WARNING: Ignoring invalid distribution -atplotlib (c:\\users\\tanay\\anaconda3\\lib\\site-packages)\n",
      "    WARNING: Ignoring invalid distribution -atplotlib (c:\\users\\tanay\\anaconda3\\lib\\site-packages)\n",
      "ERROR: Cannot uninstall 'TBB'. It is a distutils installed project and thus we cannot accurately determine which files belong to it which would lead to only a partial uninstall.\n",
      "WARNING: Ignoring invalid distribution -atplotlib (c:\\users\\tanay\\anaconda3\\lib\\site-packages)\n",
      "WARNING: Ignoring invalid distribution -atplotlib (c:\\users\\tanay\\anaconda3\\lib\\site-packages)\n",
      "WARNING: Ignoring invalid distribution -atplotlib (c:\\users\\tanay\\anaconda3\\lib\\site-packages)\n"
     ]
    }
   ],
   "source": [
    "!pip install --upgrade --force-reinstall openai-whisper jiwer"
   ]
  },
  {
   "cell_type": "code",
   "execution_count": 1,
   "id": "6dee348a",
   "metadata": {},
   "outputs": [
    {
     "name": "stdout",
     "output_type": "stream",
     "text": [
      "Analyzing subfolder: C:/Users/TANAY/anaconda3/envs/SIT/Bible_Texts/मत्तयकृत शुभवर्तमानMAT\\Subfolder__01_Matthew_____MARDPIN1DA\n"
     ]
    },
    {
     "name": "stderr",
     "output_type": "stream",
     "text": [
      "C:\\Users\\TANAY\\anaconda3\\lib\\site-packages\\whisper\\transcribe.py:115: UserWarning: FP16 is not supported on CPU; using FP32 instead\n",
      "  warnings.warn(\"FP16 is not supported on CPU; using FP32 instead\")\n"
     ]
    },
    {
     "name": "stdout",
     "output_type": "stream",
     "text": [
      "Audio: C:/Users/TANAY/anaconda3/envs/SIT/Bible_Texts/मत्तयकृत शुभवर्तमानMAT\\Subfolder__01_Matthew_____MARDPIN1DA\\_01_Matthew_____MARDPIN1DA.mp3\n",
      "Transcription:  मत्याची शुबोरतमान याचा पहिला अध्याय येशुक्रिस्ताची वंशवल आब्रहामाचा पुत्र दाविद याचा पुत्र जो येशुक्रिस्त याची वंशवल आब्रहामाश इसाग जाला इसाहकाश याकोब याकोबास यहुदा वत्याचे भाव जाले, यहुदास तामारे पासुन पेरेस वज्जेरह जाले, पेरेसास हेसरोन, हेसरोनास आराम जाला, आरामास आमिनादाब, आमिनादाबास नहशोन, नहशोनास सल्मोन, सल्मोनास रहाबे पासुन बावाज, बावाजास रूत पास� � अज्जूर जाला जो मरियेचा पती होता तीचा पासुन खृष्ट मंतलेला इशु जन्मा शाला। अश्या प्रकारे अब्रामा पासुन दाविदा परेंत सर्व मिलुं 14 पिडया, दाविदा पासुन बाबिलाज देशांतर हुई परेंत 14 पिडया, अणि बाबिला� senseshantar जाले पासुन खृष्ट परेंत 14 पिडया। एशु क्रिस्ता जन्म या प्रकारे जाला, त्याची आई मरिया तीची एशु पासी मागनी जालेली होती, पन त्याचा सहवास होने पुर्वी ती पैवित्र आत्मे पासुन गर्बोती जालेली दिशुनाली, मरिया चा पती योसेप आनितिमान होता, परुंटु समाजा मद दाविदाचा पुत्रा, तु मरियाला अपली पत्नी मुनुं सुविकार करने आस घाबरू नकोस, कारण जो गर्बती चा पुत्री राहिला है, तो पैवित्र आत्मे पासुन आहे, आनि ती पुत्राला जन्म दिल, आनि तु त्याचे नाव एशु ठेव, तो अपले लोक पुत्राला जन्म दिल, तो अपले लोक\n",
      "Reference: अब्राहामाचा पुत्र दावीद याचा पुत्र जो येशू ख्रिस्त याची वंशावळ. अब्राहामास इसहाक झाला, इसहाकास याकोब, याकोबास यहूदा व त्याचे भाऊ झाले. यहूदास तामारेपासून पेरेस व जेरह झाले, पेरेसास हेस्रोन, हेस्रोनास अराम झाला. अरामास अम्मीनादाब, अम्मीनादाबास नहशोन, नहशोनास सल्मोन, सल्मोनास राहाबेपासून बवाज, बवाजास रूथपासून ओबेद, ओबेदास इशाय झाला. आणि इशायास दावीद राजा झाला. उरीयाच्या पत्नीपासून दावीदास शलमोन झाला. शलमोनास रहबाम, रहबामास अबीया, अबीयास आसा झाला. आसास यहोशाफाट, यहोशाफाटास योराम आणि योरामास उज्जीया, उज्जीयास योथाम, योथामास आहाज, आहाजास हिज्कीया, हिज्कीयास मनश्शे, मनश्शेस आमोन, आमोनास योशीया, आणि बाबेलास देशांतर झाले त्यावेळी योशीयास यखन्या व त्याचे भाऊ झाले. बाबेलास देशांतर झाल्यानंतर यखन्यास शल्तीएल झाला, शल्तीएलास जरूब्बाबेल झाला. जरूब्बाबेलास अबीहूद, अबीहूदास एल्याकीम, एल्याकीमास अज्जुर झाला. अज्जुरास सादोक, सादोकास याखीम, याखीमास एलीहूद झाला. एलीहूदास एलाजार झाला. एलाजारास मत्तान, मत्तानास याकोब, याकोबास योसेफ झाला; जो मरीयेचा पती होता जिच्यापासून ख्रिस्त म्हटलेला येशू जन्मास आला. अशाप्रकारे अब्राहामापासून दावीदापर्यंत सर्व मिळून चौदा पिढ्या, दावीदापासून बाबेलास देशांतर होईपर्यंत चौदा पिढ्या आणि बाबेलास देशांतर झाल्यापासून ख्रिस्तापर्यंत चौदा पिढ्या. येशू ख्रिस्ताचा जन्म याप्रकारे झाला; त्याची आई मरीया हिची योसेफाशी मागणी झालेली होती, पण त्यांचा सहवास होण्यापूर्वी ती पवित्र आत्म्यापासून गर्भवती झालेली दिसून आली. मरीयेचा पती योसेफ हा नीतिमान होता, परंतु समाजामध्ये तिचा अपमान होऊ नये अशी त्याची इच्छा होती, म्हणून त्याने गुप्तपणे तिच्यासोबतची मागणी मोडण्याचा निर्णय घेतला. तो या गोष्टींविषयी विचार करीत असता त्यास स्वप्नात प्रभूच्या दूताने दर्शन देऊन म्हटले; “योसेफा, दावीदाच्या पुत्रा, तू मरीयेला आपली पत्नी म्हणून स्वीकार करण्यास घाबरू नकोस, कारण जो गर्भ तिच्या पोटी राहीला आहे तो पवित्र आत्म्यापासून आहे. ती पुत्राला जन्म देईल आणि तू त्याचे नाव येशू ठेव, तो आपल्या लोकांस त्यांच्या पापांपासून तारील.” प्रभूने संदेष्ट्यांच्याद्वारे जे सांगितले होते ते परिपूर्ण व्हावे यासाठी हे सर्व झाले, ते असे, “पाहा कुमारी गर्भवती होईल व पुत्राला जन्म देईल, आणि त्यास इम्मानुएल हे नाव देतील.” या नावाचा अर्थ, “आम्हाबरोबर देव.” तेव्हा झोपेतून उठल्यावर प्रभूच्या दूताने आज्ञा दिली होती तसे योसेफाने केले, त्याने तिचा आपली पत्नी म्हणून स्वीकार केला. तरी मुलाचा जन्म होईपर्यंत त्याने तिच्याशी सहवास ठेवला नाही; आणि त्याने त्याचे नाव येशू ठेवले.\n",
      "Word Error Rate (WER): 0.9287925696594427\n",
      "Match Error Rate (MER): 0.8928571428571429\n",
      "Word Information Preserved (WIP): 0.023464233338764868\n",
      "Word Information Lost (WIL): 0.9765357666612351\n",
      "\n",
      "\n",
      "Analyzing subfolder: C:/Users/TANAY/anaconda3/envs/SIT/Bible_Texts/मत्तयकृत शुभवर्तमानMAT\\Subfolder__02_Matthew_____MARDPIN1DA\n",
      "Audio: C:/Users/TANAY/anaconda3/envs/SIT/Bible_Texts/मत्तयकृत शुभवर्तमानMAT\\Subfolder__02_Matthew_____MARDPIN1DA\\_02_Matthew_____MARDPIN1DA.mp3\n",
      "Transcription:  मत्तेच शुवर्तमान येचा दुसरा अध्याई न्यानी लोग एशु बालाचा दर्शना सेताथ हेरोध राजाचा दिउसाथ यहुद्या प्रांतातिल बेतलहेम नगराथ एशुचा जन्म जाले अनतर पुर्वे कडिल देशातुन न्यानी लोग यरुशलेम शहरत यून विचरपुस करू लागले की यहुद्यांचा राजा जन्मला है तो कोटे आहे आमी पुर्वेला त्याचा तारा पाहिला आनी त्याच नमन करवेस अलवा होत जवा हेरोध राजा ने हे आईकले केवा तो वत्याचा बरोबर सर्व यरुशलेम शहर घाबरुन गेले हेरोध राजा ने जे सर्व मुख्य याजकान ना व नियम शासराची शिक्षक याना एकतर जमून त्यान न विचरले की कृष्टाचा जन्मा कोटे होनारा हे ते त्यास मनाले यहुद्या प्रांता तिल बेतलहेम शहरात कारण संदेश्टेंचा द्वारे आसे लेले आह First he said, the Jewish people in Bethlehem are in the state of Bethlehem, हे बेतलहेमा यहुद्या능 चा प्रांता तु यहुद्यान चा सर्वसर्दारा मदे करिष्टा हैस, but this Bethlehem is a state of Judaism, you are among the leaders of the Jews. आसे मुलीच नहीं कारण तुझे तुन आसा सर्दार निगेल जो माझे इद्रायल लोकांचा साम्बाल करीन। मग हेरोद राजय ने न्यानी लोकाज गुप्तपने बोलाऊन त्यांचा पासून तारा नक्की कदी दिसला याची विचारूं घेतली। त्याने त्यानना बेतलहेम आस पाटवताना मंटले तुम्ही जाऊन त्या बालका विशी बारकाईने शोत करा वो तुम्हा शोत लागले वर मला कलवा। मंजे मी ही यून त्यास नमन करीन। त्यानना बेतलहेम आस पाटवताना मंटले वर मला कलवा। करन बालकाचा घात करनubaadyaचा पाणचा भरवर्डश्व बारणाचा यून त्याचा शोत करनवागक। त्या रात्री त्या उटला आणि बालक वत्यचा आई यांना घ्यून रातुरात मिश्र देशात निगुन गेला। तो हेरोदाचा मरना परेंत तेते राहिला, मी माझा पुत्राला मिसर देशातुन बोलावला है, आसे जे प्रभुने संदेश्टेंचा दोरे सांगितले, ये पूर्ण जाले, बेतलहेम येतील मुलांची कत्तल, तेवा आद न्यानी लोकांनी आपनाला फसवले हे पावुन हेरोदाराजा अतिशे संतपmann आणी जी वेल त्याने न्यानी लोकां पासुन नीट विचारुं घेतली होती, इच्छे प्रामनि त्याने बेतलहेमास वासपास त्या सर्व प्रदेशात जे दोन वर्षेचे वत् राहेल अपल्या मुलाकरिता रडता हे आणी ती नाहीत मनुंती सांत्वन पावेना मिसर देशातुन परतने पुड़े हेरोदाराजा मरन पावले वर पहा प्रवच दूत मिसर देशात योशिपा सोपना दर्शन दून मनाला वुट बालकास वतेचा आईज गिउन LAUGH या अप्ला पिता हेरोद याचा जागी यहुदेया प्रांतात राज्या करिता हे आसे आईकुन तो तेते जाने स्घाबरला आणी सोपना देवाने सुचना केले नंतर तो गालील प्रांतास निगुन गेला वो नासरेत नावाच्या गावी जाओं राहिला आशा साथी की याला नासरी मंतिल हे जे संदेश्टेचा द्वारी सांगितले होते ये पुर्ण भावे\n",
      "Reference: हेरोद राजाच्या दिवसात यहूदीया प्रांतातील बेथलेहेम नगरात येशूचा जन्म झाल्यानंतर, पूर्वेकडील देशातून ज्ञानी लोक यरूशलेम शहरात येऊन विचारपूस करू लागले की, “यहूद्यांचा राजा जन्मला आहे तो कोठे आहे? आम्ही पूर्वेला त्याचा तारा पाहीला आणि त्यास नमन करावयास आलो आहोत.” जेव्हा हेरोद राजाने हे ऐकले, तेव्हा तो व त्याच्याबरोबर सर्व यरूशलेम शहर घाबरून गेले; हेरोद राजाने सर्व मुख्य याजकांना व नियमशास्त्राचे शिक्षक यांना एकत्र जमवून त्यांना विचारले की, ख्रिस्ताचा जन्म कोठे होणार आहे? ते त्यास म्हणाले, “यहूदीया प्रांतातील बेथलेहेम नगरात, कारण संदेष्ट्यांच्याद्वारे असे लिहिलेले आहे की; ‘हे बेथलेहेमा, यहूदाच्या प्रांता, तू यहूदाच्या सर्व सरदारांमध्ये कनिष्ठ आहेस असे मुळीच नाही कारण तुझ्यातून असा सरदार निघेल जो मा‍झ्या इस्राएल लोकांचा सांभाळ करील.’” मग हेरोद राजाने ज्ञानी लोकांस गुप्तपणे बोलावून त्यांच्यापासून तारा नक्की कधी दिसला याची वेळ विचारून घेतली. त्याने त्यांना बेथलेहेमास पाठवताना म्हटले, “तुम्ही जाऊन त्या बालकाविषयी बारकाईने शोध करा व तुम्हास शोध लागल्यावर मला कळवा म्हणजे मी ही येऊन त्यास नमन करीन.” राजाचे हे सांगणे ऐकून ते त्यांच्या वाटेने निघाले. जो तारा त्यांनी पूर्वेस पाहीला होता त्याने बेथलेहेम नगरापर्यंत त्यांचे मार्गदर्शन केले आणि ज्ञानी लोक बालकापर्यंत पोहोचेपर्यंत त्यांच्यापुढे चालला. तो तारा पाहून ज्ञानी लोकांस अतिशय आनंद झाला. नंतर ते त्या घरात गेले आणि ते बालक आपली आई मरीया हिच्याजवळ असलेले त्यांनी पाहीले व खाली वाकून त्यांनी त्यास नमन केले. त्यांनी आपल्या द्रव्यांच्या थैल्या उघडून सोने, ऊद व गंधरस ही दाने अर्पण केली. देवाने त्यांना स्वप्नात हेरोदाकडे परत जाऊ नका, अशी सूचना दिल्यामुळे ते दुसर्‍या मार्गाने आपल्या देशास निघून गेले. ते गेल्यावर, प्रभूचा दूत योसेफास स्वप्नात दर्शन देऊन म्हणाला, “ऊठ, बालक व त्याची आई यांना घेऊन मिसर देशात पळून जा आणि मी तुला सांगेपर्यंत तेथेच राहा कारण बालकाचा घात करण्यासाठी हेरोद राजा त्याचा शोध करणार आहे.” त्या रात्री तो उठला आणि बालक व त्याची आई यांना घेऊन रातोरात मिसर देशात निघून गेला. तो हेरोदाच्या मरणापर्यंत तेथे राहिला. “मी माझ्या पुत्राला मिसर देशातून बोलावले आहे.” असे जे प्रभूने संदेष्ट्याच्याद्वारे सांगितले ते पूर्ण झाले. तेव्हा ज्ञानी लोकांनी आपणाला फसवले हे पाहून हेरोद राजा अतिशय संतापला आणि जी वेळ त्याने ज्ञानी लोकांपासून नीट विचारून घेतली होती तिच्याप्रमाणे त्याने बेथलेहेमात व आसपासच्या सर्व प्रदेशांत जे दोन वर्षांचे व त्याहून कमी वयाचे पुरूष बालके होते त्या सर्वांना त्याने माणसे पाठवून त्यांच्याकडून जिवे मारले. यिर्मया संदेष्ट्याच्याद्वारे जे सांगितले होते, ते त्यासमयी पूर्ण झाले. ते असेः “रामा येथे रडणे व मोठा आकांत ह्यांचा शब्द ऐकण्यात आला, राहेल आपल्या मुलांकरिता रडत आहे, आणि ती नाहीत म्हणून ती सांत्वन पावेना.” पुढे हेरोद राजा पावल्यावर, पाहा प्रभूचा दूत मिसर देशात योसेफास स्वप्नात दर्शन देऊन म्हणाला, “उठ, बालकास व त्याच्या आईस घेऊन इस्राएल देशास जा, कारण बालकाचा जीव घ्यावयास जे पाहत होते ते मरून गेले आहेत.” तेव्हा तो उठला आणि बालकाला व त्याच्या आईला घेऊन इस्राएल देशात आला. परंतु अर्खेलाव हा आपला पिता हेरोद याच्या जागी यहूदीया प्रांतात राज्य करीत आहे असे ऐकून तो तेथे जाण्यास घाबरला, आणि स्वप्नात देवाने सूचना केल्यानंतर तो गालील प्रांतास निघून गेला, व नासरेथ नावाच्या गावी जाऊन राहिला अशासाठी की, “त्याला नासोरी म्हणतील” हे जे संदेष्ट्यांच्याद्वारे सांगितले होते ते पूर्ण व्हावे.\n",
      "Word Error Rate (WER): 0.9232365145228216\n",
      "Match Error Rate (MER): 0.8657587548638133\n",
      "Word Information Preserved (WIP): 0.025656086651937273\n",
      "Word Information Lost (WIL): 0.9743439133480627\n",
      "\n",
      "\n",
      "Analyzing subfolder: C:/Users/TANAY/anaconda3/envs/SIT/Bible_Texts/मत्तयकृत शुभवर्तमानMAT\\Subfolder__03_Matthew_____MARDPIN1DA\n"
     ]
    },
    {
     "ename": "KeyboardInterrupt",
     "evalue": "",
     "output_type": "error",
     "traceback": [
      "\u001b[1;31m---------------------------------------------------------------------------\u001b[0m",
      "\u001b[1;31mKeyboardInterrupt\u001b[0m                         Traceback (most recent call last)",
      "Cell \u001b[1;32mIn[1], line 92\u001b[0m\n\u001b[0;32m     89\u001b[0m         \u001b[38;5;28mprint\u001b[39m(\u001b[38;5;124m\"\u001b[39m\u001b[38;5;124mNo valid audio-text pairs found.\u001b[39m\u001b[38;5;124m\"\u001b[39m)\n\u001b[0;32m     91\u001b[0m \u001b[38;5;28;01mif\u001b[39;00m \u001b[38;5;18m__name__\u001b[39m \u001b[38;5;241m==\u001b[39m \u001b[38;5;124m\"\u001b[39m\u001b[38;5;124m__main__\u001b[39m\u001b[38;5;124m\"\u001b[39m:\n\u001b[1;32m---> 92\u001b[0m     \u001b[43mmain\u001b[49m\u001b[43m(\u001b[49m\u001b[43m)\u001b[49m\n",
      "Cell \u001b[1;32mIn[1], line 73\u001b[0m, in \u001b[0;36mmain\u001b[1;34m()\u001b[0m\n\u001b[0;32m     71\u001b[0m \u001b[38;5;28;01mif\u001b[39;00m os\u001b[38;5;241m.\u001b[39mpath\u001b[38;5;241m.\u001b[39misdir(subfolder_path):\n\u001b[0;32m     72\u001b[0m     \u001b[38;5;28mprint\u001b[39m(\u001b[38;5;124mf\u001b[39m\u001b[38;5;124m\"\u001b[39m\u001b[38;5;124mAnalyzing subfolder: \u001b[39m\u001b[38;5;132;01m{\u001b[39;00msubfolder_path\u001b[38;5;132;01m}\u001b[39;00m\u001b[38;5;124m\"\u001b[39m)\n\u001b[1;32m---> 73\u001b[0m     result \u001b[38;5;241m=\u001b[39m \u001b[43manalyze_subfolder\u001b[49m\u001b[43m(\u001b[49m\u001b[43msubfolder_path\u001b[49m\u001b[43m,\u001b[49m\u001b[43m \u001b[49m\u001b[43mmodel\u001b[49m\u001b[43m)\u001b[49m\n\u001b[0;32m     74\u001b[0m     \u001b[38;5;28;01mif\u001b[39;00m result:\n\u001b[0;32m     75\u001b[0m         results\u001b[38;5;241m.\u001b[39mappend(result)\n",
      "Cell \u001b[1;32mIn[1], line 46\u001b[0m, in \u001b[0;36manalyze_subfolder\u001b[1;34m(subfolder_path, model)\u001b[0m\n\u001b[0;32m     43\u001b[0m     \u001b[38;5;28mprint\u001b[39m(\u001b[38;5;124mf\u001b[39m\u001b[38;5;124m\"\u001b[39m\u001b[38;5;124mNo valid audio-text pair found in \u001b[39m\u001b[38;5;132;01m{\u001b[39;00msubfolder_path\u001b[38;5;132;01m}\u001b[39;00m\u001b[38;5;124m.\u001b[39m\u001b[38;5;124m\"\u001b[39m)\n\u001b[0;32m     44\u001b[0m     \u001b[38;5;28;01mreturn\u001b[39;00m \u001b[38;5;28;01mNone\u001b[39;00m\n\u001b[1;32m---> 46\u001b[0m transcription \u001b[38;5;241m=\u001b[39m \u001b[43mtranscribe_audio_whisper\u001b[49m\u001b[43m(\u001b[49m\u001b[43maudio_path\u001b[49m\u001b[43m,\u001b[49m\u001b[43m \u001b[49m\u001b[43mmodel\u001b[49m\u001b[43m)\u001b[49m\n\u001b[0;32m     47\u001b[0m reference_text \u001b[38;5;241m=\u001b[39m read_text_file(text_path)\n\u001b[0;32m     49\u001b[0m \u001b[38;5;28;01mif\u001b[39;00m transcription \u001b[38;5;129;01mand\u001b[39;00m reference_text:\n",
      "Cell \u001b[1;32mIn[1], line 19\u001b[0m, in \u001b[0;36mtranscribe_audio_whisper\u001b[1;34m(audio_path, model)\u001b[0m\n\u001b[0;32m     17\u001b[0m \u001b[38;5;28;01mdef\u001b[39;00m \u001b[38;5;21mtranscribe_audio_whisper\u001b[39m(audio_path, model):\n\u001b[0;32m     18\u001b[0m     \u001b[38;5;28;01mtry\u001b[39;00m:\n\u001b[1;32m---> 19\u001b[0m         result \u001b[38;5;241m=\u001b[39m \u001b[43mmodel\u001b[49m\u001b[38;5;241;43m.\u001b[39;49m\u001b[43mtranscribe\u001b[49m\u001b[43m(\u001b[49m\u001b[43maudio_path\u001b[49m\u001b[43m)\u001b[49m\n\u001b[0;32m     20\u001b[0m         \u001b[38;5;28;01mreturn\u001b[39;00m result[\u001b[38;5;124m'\u001b[39m\u001b[38;5;124mtext\u001b[39m\u001b[38;5;124m'\u001b[39m]\n\u001b[0;32m     21\u001b[0m     \u001b[38;5;28;01mexcept\u001b[39;00m \u001b[38;5;167;01mException\u001b[39;00m \u001b[38;5;28;01mas\u001b[39;00m e:\n",
      "File \u001b[1;32m~\\anaconda3\\lib\\site-packages\\whisper\\transcribe.py:240\u001b[0m, in \u001b[0;36mtranscribe\u001b[1;34m(model, audio, verbose, temperature, compression_ratio_threshold, logprob_threshold, no_speech_threshold, condition_on_previous_text, initial_prompt, word_timestamps, prepend_punctuations, append_punctuations, **decode_options)\u001b[0m\n\u001b[0;32m    237\u001b[0m mel_segment \u001b[38;5;241m=\u001b[39m pad_or_trim(mel_segment, N_FRAMES)\u001b[38;5;241m.\u001b[39mto(model\u001b[38;5;241m.\u001b[39mdevice)\u001b[38;5;241m.\u001b[39mto(dtype)\n\u001b[0;32m    239\u001b[0m decode_options[\u001b[38;5;124m\"\u001b[39m\u001b[38;5;124mprompt\u001b[39m\u001b[38;5;124m\"\u001b[39m] \u001b[38;5;241m=\u001b[39m all_tokens[prompt_reset_since:]\n\u001b[1;32m--> 240\u001b[0m result: DecodingResult \u001b[38;5;241m=\u001b[39m \u001b[43mdecode_with_fallback\u001b[49m\u001b[43m(\u001b[49m\u001b[43mmel_segment\u001b[49m\u001b[43m)\u001b[49m\n\u001b[0;32m    241\u001b[0m tokens \u001b[38;5;241m=\u001b[39m torch\u001b[38;5;241m.\u001b[39mtensor(result\u001b[38;5;241m.\u001b[39mtokens)\n\u001b[0;32m    243\u001b[0m \u001b[38;5;28;01mif\u001b[39;00m no_speech_threshold \u001b[38;5;129;01mis\u001b[39;00m \u001b[38;5;129;01mnot\u001b[39;00m \u001b[38;5;28;01mNone\u001b[39;00m:\n\u001b[0;32m    244\u001b[0m     \u001b[38;5;66;03m# no voice activity check\u001b[39;00m\n",
      "File \u001b[1;32m~\\anaconda3\\lib\\site-packages\\whisper\\transcribe.py:170\u001b[0m, in \u001b[0;36mtranscribe.<locals>.decode_with_fallback\u001b[1;34m(segment)\u001b[0m\n\u001b[0;32m    167\u001b[0m     kwargs\u001b[38;5;241m.\u001b[39mpop(\u001b[38;5;124m\"\u001b[39m\u001b[38;5;124mbest_of\u001b[39m\u001b[38;5;124m\"\u001b[39m, \u001b[38;5;28;01mNone\u001b[39;00m)\n\u001b[0;32m    169\u001b[0m options \u001b[38;5;241m=\u001b[39m DecodingOptions(\u001b[38;5;241m*\u001b[39m\u001b[38;5;241m*\u001b[39mkwargs, temperature\u001b[38;5;241m=\u001b[39mt)\n\u001b[1;32m--> 170\u001b[0m decode_result \u001b[38;5;241m=\u001b[39m \u001b[43mmodel\u001b[49m\u001b[38;5;241;43m.\u001b[39;49m\u001b[43mdecode\u001b[49m\u001b[43m(\u001b[49m\u001b[43msegment\u001b[49m\u001b[43m,\u001b[49m\u001b[43m \u001b[49m\u001b[43moptions\u001b[49m\u001b[43m)\u001b[49m\n\u001b[0;32m    172\u001b[0m needs_fallback \u001b[38;5;241m=\u001b[39m \u001b[38;5;28;01mFalse\u001b[39;00m\n\u001b[0;32m    173\u001b[0m \u001b[38;5;28;01mif\u001b[39;00m (\n\u001b[0;32m    174\u001b[0m     compression_ratio_threshold \u001b[38;5;129;01mis\u001b[39;00m \u001b[38;5;129;01mnot\u001b[39;00m \u001b[38;5;28;01mNone\u001b[39;00m\n\u001b[0;32m    175\u001b[0m     \u001b[38;5;129;01mand\u001b[39;00m decode_result\u001b[38;5;241m.\u001b[39mcompression_ratio \u001b[38;5;241m>\u001b[39m compression_ratio_threshold\n\u001b[0;32m    176\u001b[0m ):\n",
      "File \u001b[1;32m~\\anaconda3\\lib\\site-packages\\torch\\utils\\_contextlib.py:115\u001b[0m, in \u001b[0;36mcontext_decorator.<locals>.decorate_context\u001b[1;34m(*args, **kwargs)\u001b[0m\n\u001b[0;32m    112\u001b[0m \u001b[38;5;129m@functools\u001b[39m\u001b[38;5;241m.\u001b[39mwraps(func)\n\u001b[0;32m    113\u001b[0m \u001b[38;5;28;01mdef\u001b[39;00m \u001b[38;5;21mdecorate_context\u001b[39m(\u001b[38;5;241m*\u001b[39margs, \u001b[38;5;241m*\u001b[39m\u001b[38;5;241m*\u001b[39mkwargs):\n\u001b[0;32m    114\u001b[0m     \u001b[38;5;28;01mwith\u001b[39;00m ctx_factory():\n\u001b[1;32m--> 115\u001b[0m         \u001b[38;5;28;01mreturn\u001b[39;00m func(\u001b[38;5;241m*\u001b[39margs, \u001b[38;5;241m*\u001b[39m\u001b[38;5;241m*\u001b[39mkwargs)\n",
      "File \u001b[1;32m~\\anaconda3\\lib\\site-packages\\whisper\\decoding.py:824\u001b[0m, in \u001b[0;36mdecode\u001b[1;34m(model, mel, options, **kwargs)\u001b[0m\n\u001b[0;32m    821\u001b[0m \u001b[38;5;28;01mif\u001b[39;00m kwargs:\n\u001b[0;32m    822\u001b[0m     options \u001b[38;5;241m=\u001b[39m replace(options, \u001b[38;5;241m*\u001b[39m\u001b[38;5;241m*\u001b[39mkwargs)\n\u001b[1;32m--> 824\u001b[0m result \u001b[38;5;241m=\u001b[39m \u001b[43mDecodingTask\u001b[49m\u001b[43m(\u001b[49m\u001b[43mmodel\u001b[49m\u001b[43m,\u001b[49m\u001b[43m \u001b[49m\u001b[43moptions\u001b[49m\u001b[43m)\u001b[49m\u001b[38;5;241;43m.\u001b[39;49m\u001b[43mrun\u001b[49m\u001b[43m(\u001b[49m\u001b[43mmel\u001b[49m\u001b[43m)\u001b[49m\n\u001b[0;32m    826\u001b[0m \u001b[38;5;28;01mreturn\u001b[39;00m result[\u001b[38;5;241m0\u001b[39m] \u001b[38;5;28;01mif\u001b[39;00m single \u001b[38;5;28;01melse\u001b[39;00m result\n",
      "File \u001b[1;32m~\\anaconda3\\lib\\site-packages\\torch\\utils\\_contextlib.py:115\u001b[0m, in \u001b[0;36mcontext_decorator.<locals>.decorate_context\u001b[1;34m(*args, **kwargs)\u001b[0m\n\u001b[0;32m    112\u001b[0m \u001b[38;5;129m@functools\u001b[39m\u001b[38;5;241m.\u001b[39mwraps(func)\n\u001b[0;32m    113\u001b[0m \u001b[38;5;28;01mdef\u001b[39;00m \u001b[38;5;21mdecorate_context\u001b[39m(\u001b[38;5;241m*\u001b[39margs, \u001b[38;5;241m*\u001b[39m\u001b[38;5;241m*\u001b[39mkwargs):\n\u001b[0;32m    114\u001b[0m     \u001b[38;5;28;01mwith\u001b[39;00m ctx_factory():\n\u001b[1;32m--> 115\u001b[0m         \u001b[38;5;28;01mreturn\u001b[39;00m func(\u001b[38;5;241m*\u001b[39margs, \u001b[38;5;241m*\u001b[39m\u001b[38;5;241m*\u001b[39mkwargs)\n",
      "File \u001b[1;32m~\\anaconda3\\lib\\site-packages\\whisper\\decoding.py:737\u001b[0m, in \u001b[0;36mDecodingTask.run\u001b[1;34m(self, mel)\u001b[0m\n\u001b[0;32m    734\u001b[0m tokens \u001b[38;5;241m=\u001b[39m tokens\u001b[38;5;241m.\u001b[39mrepeat_interleave(\u001b[38;5;28mself\u001b[39m\u001b[38;5;241m.\u001b[39mn_group, dim\u001b[38;5;241m=\u001b[39m\u001b[38;5;241m0\u001b[39m)\u001b[38;5;241m.\u001b[39mto(audio_features\u001b[38;5;241m.\u001b[39mdevice)\n\u001b[0;32m    736\u001b[0m \u001b[38;5;66;03m# call the main sampling loop\u001b[39;00m\n\u001b[1;32m--> 737\u001b[0m tokens, sum_logprobs, no_speech_probs \u001b[38;5;241m=\u001b[39m \u001b[38;5;28;43mself\u001b[39;49m\u001b[38;5;241;43m.\u001b[39;49m\u001b[43m_main_loop\u001b[49m\u001b[43m(\u001b[49m\u001b[43maudio_features\u001b[49m\u001b[43m,\u001b[49m\u001b[43m \u001b[49m\u001b[43mtokens\u001b[49m\u001b[43m)\u001b[49m\n\u001b[0;32m    739\u001b[0m \u001b[38;5;66;03m# reshape the tensors to have (n_audio, n_group) as the first two dimensions\u001b[39;00m\n\u001b[0;32m    740\u001b[0m audio_features \u001b[38;5;241m=\u001b[39m audio_features[:: \u001b[38;5;28mself\u001b[39m\u001b[38;5;241m.\u001b[39mn_group]\n",
      "File \u001b[1;32m~\\anaconda3\\lib\\site-packages\\whisper\\decoding.py:687\u001b[0m, in \u001b[0;36mDecodingTask._main_loop\u001b[1;34m(self, audio_features, tokens)\u001b[0m\n\u001b[0;32m    685\u001b[0m \u001b[38;5;28;01mtry\u001b[39;00m:\n\u001b[0;32m    686\u001b[0m     \u001b[38;5;28;01mfor\u001b[39;00m i \u001b[38;5;129;01min\u001b[39;00m \u001b[38;5;28mrange\u001b[39m(\u001b[38;5;28mself\u001b[39m\u001b[38;5;241m.\u001b[39msample_len):\n\u001b[1;32m--> 687\u001b[0m         logits \u001b[38;5;241m=\u001b[39m \u001b[38;5;28;43mself\u001b[39;49m\u001b[38;5;241;43m.\u001b[39;49m\u001b[43minference\u001b[49m\u001b[38;5;241;43m.\u001b[39;49m\u001b[43mlogits\u001b[49m\u001b[43m(\u001b[49m\u001b[43mtokens\u001b[49m\u001b[43m,\u001b[49m\u001b[43m \u001b[49m\u001b[43maudio_features\u001b[49m\u001b[43m)\u001b[49m\n\u001b[0;32m    689\u001b[0m         \u001b[38;5;28;01mif\u001b[39;00m (\n\u001b[0;32m    690\u001b[0m             i \u001b[38;5;241m==\u001b[39m \u001b[38;5;241m0\u001b[39m \u001b[38;5;129;01mand\u001b[39;00m \u001b[38;5;28mself\u001b[39m\u001b[38;5;241m.\u001b[39mtokenizer\u001b[38;5;241m.\u001b[39mno_speech \u001b[38;5;129;01mis\u001b[39;00m \u001b[38;5;129;01mnot\u001b[39;00m \u001b[38;5;28;01mNone\u001b[39;00m\n\u001b[0;32m    691\u001b[0m         ):  \u001b[38;5;66;03m# save no_speech_probs\u001b[39;00m\n\u001b[0;32m    692\u001b[0m             probs_at_sot \u001b[38;5;241m=\u001b[39m logits[:, \u001b[38;5;28mself\u001b[39m\u001b[38;5;241m.\u001b[39msot_index]\u001b[38;5;241m.\u001b[39mfloat()\u001b[38;5;241m.\u001b[39msoftmax(dim\u001b[38;5;241m=\u001b[39m\u001b[38;5;241m-\u001b[39m\u001b[38;5;241m1\u001b[39m)\n",
      "File \u001b[1;32m~\\anaconda3\\lib\\site-packages\\whisper\\decoding.py:163\u001b[0m, in \u001b[0;36mPyTorchInference.logits\u001b[1;34m(self, tokens, audio_features)\u001b[0m\n\u001b[0;32m    159\u001b[0m \u001b[38;5;28;01mif\u001b[39;00m tokens\u001b[38;5;241m.\u001b[39mshape[\u001b[38;5;241m-\u001b[39m\u001b[38;5;241m1\u001b[39m] \u001b[38;5;241m>\u001b[39m \u001b[38;5;28mself\u001b[39m\u001b[38;5;241m.\u001b[39minitial_token_length:\n\u001b[0;32m    160\u001b[0m     \u001b[38;5;66;03m# only need to use the last token except in the first forward pass\u001b[39;00m\n\u001b[0;32m    161\u001b[0m     tokens \u001b[38;5;241m=\u001b[39m tokens[:, \u001b[38;5;241m-\u001b[39m\u001b[38;5;241m1\u001b[39m:]\n\u001b[1;32m--> 163\u001b[0m \u001b[38;5;28;01mreturn\u001b[39;00m \u001b[38;5;28;43mself\u001b[39;49m\u001b[38;5;241;43m.\u001b[39;49m\u001b[43mmodel\u001b[49m\u001b[38;5;241;43m.\u001b[39;49m\u001b[43mdecoder\u001b[49m\u001b[43m(\u001b[49m\u001b[43mtokens\u001b[49m\u001b[43m,\u001b[49m\u001b[43m \u001b[49m\u001b[43maudio_features\u001b[49m\u001b[43m,\u001b[49m\u001b[43m \u001b[49m\u001b[43mkv_cache\u001b[49m\u001b[38;5;241;43m=\u001b[39;49m\u001b[38;5;28;43mself\u001b[39;49m\u001b[38;5;241;43m.\u001b[39;49m\u001b[43mkv_cache\u001b[49m\u001b[43m)\u001b[49m\n",
      "File \u001b[1;32m~\\anaconda3\\lib\\site-packages\\torch\\nn\\modules\\module.py:1518\u001b[0m, in \u001b[0;36mModule._wrapped_call_impl\u001b[1;34m(self, *args, **kwargs)\u001b[0m\n\u001b[0;32m   1516\u001b[0m     \u001b[38;5;28;01mreturn\u001b[39;00m \u001b[38;5;28mself\u001b[39m\u001b[38;5;241m.\u001b[39m_compiled_call_impl(\u001b[38;5;241m*\u001b[39margs, \u001b[38;5;241m*\u001b[39m\u001b[38;5;241m*\u001b[39mkwargs)  \u001b[38;5;66;03m# type: ignore[misc]\u001b[39;00m\n\u001b[0;32m   1517\u001b[0m \u001b[38;5;28;01melse\u001b[39;00m:\n\u001b[1;32m-> 1518\u001b[0m     \u001b[38;5;28;01mreturn\u001b[39;00m \u001b[38;5;28mself\u001b[39m\u001b[38;5;241m.\u001b[39m_call_impl(\u001b[38;5;241m*\u001b[39margs, \u001b[38;5;241m*\u001b[39m\u001b[38;5;241m*\u001b[39mkwargs)\n",
      "File \u001b[1;32m~\\anaconda3\\lib\\site-packages\\torch\\nn\\modules\\module.py:1527\u001b[0m, in \u001b[0;36mModule._call_impl\u001b[1;34m(self, *args, **kwargs)\u001b[0m\n\u001b[0;32m   1522\u001b[0m \u001b[38;5;66;03m# If we don't have any hooks, we want to skip the rest of the logic in\u001b[39;00m\n\u001b[0;32m   1523\u001b[0m \u001b[38;5;66;03m# this function, and just call forward.\u001b[39;00m\n\u001b[0;32m   1524\u001b[0m \u001b[38;5;28;01mif\u001b[39;00m \u001b[38;5;129;01mnot\u001b[39;00m (\u001b[38;5;28mself\u001b[39m\u001b[38;5;241m.\u001b[39m_backward_hooks \u001b[38;5;129;01mor\u001b[39;00m \u001b[38;5;28mself\u001b[39m\u001b[38;5;241m.\u001b[39m_backward_pre_hooks \u001b[38;5;129;01mor\u001b[39;00m \u001b[38;5;28mself\u001b[39m\u001b[38;5;241m.\u001b[39m_forward_hooks \u001b[38;5;129;01mor\u001b[39;00m \u001b[38;5;28mself\u001b[39m\u001b[38;5;241m.\u001b[39m_forward_pre_hooks\n\u001b[0;32m   1525\u001b[0m         \u001b[38;5;129;01mor\u001b[39;00m _global_backward_pre_hooks \u001b[38;5;129;01mor\u001b[39;00m _global_backward_hooks\n\u001b[0;32m   1526\u001b[0m         \u001b[38;5;129;01mor\u001b[39;00m _global_forward_hooks \u001b[38;5;129;01mor\u001b[39;00m _global_forward_pre_hooks):\n\u001b[1;32m-> 1527\u001b[0m     \u001b[38;5;28;01mreturn\u001b[39;00m forward_call(\u001b[38;5;241m*\u001b[39margs, \u001b[38;5;241m*\u001b[39m\u001b[38;5;241m*\u001b[39mkwargs)\n\u001b[0;32m   1529\u001b[0m \u001b[38;5;28;01mtry\u001b[39;00m:\n\u001b[0;32m   1530\u001b[0m     result \u001b[38;5;241m=\u001b[39m \u001b[38;5;28;01mNone\u001b[39;00m\n",
      "File \u001b[1;32m~\\anaconda3\\lib\\site-packages\\whisper\\model.py:211\u001b[0m, in \u001b[0;36mTextDecoder.forward\u001b[1;34m(self, x, xa, kv_cache)\u001b[0m\n\u001b[0;32m    208\u001b[0m x \u001b[38;5;241m=\u001b[39m x\u001b[38;5;241m.\u001b[39mto(xa\u001b[38;5;241m.\u001b[39mdtype)\n\u001b[0;32m    210\u001b[0m \u001b[38;5;28;01mfor\u001b[39;00m block \u001b[38;5;129;01min\u001b[39;00m \u001b[38;5;28mself\u001b[39m\u001b[38;5;241m.\u001b[39mblocks:\n\u001b[1;32m--> 211\u001b[0m     x \u001b[38;5;241m=\u001b[39m \u001b[43mblock\u001b[49m\u001b[43m(\u001b[49m\u001b[43mx\u001b[49m\u001b[43m,\u001b[49m\u001b[43m \u001b[49m\u001b[43mxa\u001b[49m\u001b[43m,\u001b[49m\u001b[43m \u001b[49m\u001b[43mmask\u001b[49m\u001b[38;5;241;43m=\u001b[39;49m\u001b[38;5;28;43mself\u001b[39;49m\u001b[38;5;241;43m.\u001b[39;49m\u001b[43mmask\u001b[49m\u001b[43m,\u001b[49m\u001b[43m \u001b[49m\u001b[43mkv_cache\u001b[49m\u001b[38;5;241;43m=\u001b[39;49m\u001b[43mkv_cache\u001b[49m\u001b[43m)\u001b[49m\n\u001b[0;32m    213\u001b[0m x \u001b[38;5;241m=\u001b[39m \u001b[38;5;28mself\u001b[39m\u001b[38;5;241m.\u001b[39mln(x)\n\u001b[0;32m    214\u001b[0m logits \u001b[38;5;241m=\u001b[39m (\n\u001b[0;32m    215\u001b[0m     x \u001b[38;5;241m@\u001b[39m torch\u001b[38;5;241m.\u001b[39mtranspose(\u001b[38;5;28mself\u001b[39m\u001b[38;5;241m.\u001b[39mtoken_embedding\u001b[38;5;241m.\u001b[39mweight\u001b[38;5;241m.\u001b[39mto(x\u001b[38;5;241m.\u001b[39mdtype), \u001b[38;5;241m0\u001b[39m, \u001b[38;5;241m1\u001b[39m)\n\u001b[0;32m    216\u001b[0m )\u001b[38;5;241m.\u001b[39mfloat()\n",
      "File \u001b[1;32m~\\anaconda3\\lib\\site-packages\\torch\\nn\\modules\\module.py:1518\u001b[0m, in \u001b[0;36mModule._wrapped_call_impl\u001b[1;34m(self, *args, **kwargs)\u001b[0m\n\u001b[0;32m   1516\u001b[0m     \u001b[38;5;28;01mreturn\u001b[39;00m \u001b[38;5;28mself\u001b[39m\u001b[38;5;241m.\u001b[39m_compiled_call_impl(\u001b[38;5;241m*\u001b[39margs, \u001b[38;5;241m*\u001b[39m\u001b[38;5;241m*\u001b[39mkwargs)  \u001b[38;5;66;03m# type: ignore[misc]\u001b[39;00m\n\u001b[0;32m   1517\u001b[0m \u001b[38;5;28;01melse\u001b[39;00m:\n\u001b[1;32m-> 1518\u001b[0m     \u001b[38;5;28;01mreturn\u001b[39;00m \u001b[38;5;28mself\u001b[39m\u001b[38;5;241m.\u001b[39m_call_impl(\u001b[38;5;241m*\u001b[39margs, \u001b[38;5;241m*\u001b[39m\u001b[38;5;241m*\u001b[39mkwargs)\n",
      "File \u001b[1;32m~\\anaconda3\\lib\\site-packages\\torch\\nn\\modules\\module.py:1527\u001b[0m, in \u001b[0;36mModule._call_impl\u001b[1;34m(self, *args, **kwargs)\u001b[0m\n\u001b[0;32m   1522\u001b[0m \u001b[38;5;66;03m# If we don't have any hooks, we want to skip the rest of the logic in\u001b[39;00m\n\u001b[0;32m   1523\u001b[0m \u001b[38;5;66;03m# this function, and just call forward.\u001b[39;00m\n\u001b[0;32m   1524\u001b[0m \u001b[38;5;28;01mif\u001b[39;00m \u001b[38;5;129;01mnot\u001b[39;00m (\u001b[38;5;28mself\u001b[39m\u001b[38;5;241m.\u001b[39m_backward_hooks \u001b[38;5;129;01mor\u001b[39;00m \u001b[38;5;28mself\u001b[39m\u001b[38;5;241m.\u001b[39m_backward_pre_hooks \u001b[38;5;129;01mor\u001b[39;00m \u001b[38;5;28mself\u001b[39m\u001b[38;5;241m.\u001b[39m_forward_hooks \u001b[38;5;129;01mor\u001b[39;00m \u001b[38;5;28mself\u001b[39m\u001b[38;5;241m.\u001b[39m_forward_pre_hooks\n\u001b[0;32m   1525\u001b[0m         \u001b[38;5;129;01mor\u001b[39;00m _global_backward_pre_hooks \u001b[38;5;129;01mor\u001b[39;00m _global_backward_hooks\n\u001b[0;32m   1526\u001b[0m         \u001b[38;5;129;01mor\u001b[39;00m _global_forward_hooks \u001b[38;5;129;01mor\u001b[39;00m _global_forward_pre_hooks):\n\u001b[1;32m-> 1527\u001b[0m     \u001b[38;5;28;01mreturn\u001b[39;00m forward_call(\u001b[38;5;241m*\u001b[39margs, \u001b[38;5;241m*\u001b[39m\u001b[38;5;241m*\u001b[39mkwargs)\n\u001b[0;32m   1529\u001b[0m \u001b[38;5;28;01mtry\u001b[39;00m:\n\u001b[0;32m   1530\u001b[0m     result \u001b[38;5;241m=\u001b[39m \u001b[38;5;28;01mNone\u001b[39;00m\n",
      "File \u001b[1;32m~\\anaconda3\\lib\\site-packages\\whisper\\model.py:136\u001b[0m, in \u001b[0;36mResidualAttentionBlock.forward\u001b[1;34m(self, x, xa, mask, kv_cache)\u001b[0m\n\u001b[0;32m    129\u001b[0m \u001b[38;5;28;01mdef\u001b[39;00m \u001b[38;5;21mforward\u001b[39m(\n\u001b[0;32m    130\u001b[0m     \u001b[38;5;28mself\u001b[39m,\n\u001b[0;32m    131\u001b[0m     x: Tensor,\n\u001b[1;32m   (...)\u001b[0m\n\u001b[0;32m    134\u001b[0m     kv_cache: Optional[\u001b[38;5;28mdict\u001b[39m] \u001b[38;5;241m=\u001b[39m \u001b[38;5;28;01mNone\u001b[39;00m,\n\u001b[0;32m    135\u001b[0m ):\n\u001b[1;32m--> 136\u001b[0m     x \u001b[38;5;241m=\u001b[39m x \u001b[38;5;241m+\u001b[39m \u001b[38;5;28;43mself\u001b[39;49m\u001b[38;5;241;43m.\u001b[39;49m\u001b[43mattn\u001b[49m\u001b[43m(\u001b[49m\u001b[38;5;28;43mself\u001b[39;49m\u001b[38;5;241;43m.\u001b[39;49m\u001b[43mattn_ln\u001b[49m\u001b[43m(\u001b[49m\u001b[43mx\u001b[49m\u001b[43m)\u001b[49m\u001b[43m,\u001b[49m\u001b[43m \u001b[49m\u001b[43mmask\u001b[49m\u001b[38;5;241;43m=\u001b[39;49m\u001b[43mmask\u001b[49m\u001b[43m,\u001b[49m\u001b[43m \u001b[49m\u001b[43mkv_cache\u001b[49m\u001b[38;5;241;43m=\u001b[39;49m\u001b[43mkv_cache\u001b[49m\u001b[43m)\u001b[49m[\u001b[38;5;241m0\u001b[39m]\n\u001b[0;32m    137\u001b[0m     \u001b[38;5;28;01mif\u001b[39;00m \u001b[38;5;28mself\u001b[39m\u001b[38;5;241m.\u001b[39mcross_attn:\n\u001b[0;32m    138\u001b[0m         x \u001b[38;5;241m=\u001b[39m x \u001b[38;5;241m+\u001b[39m \u001b[38;5;28mself\u001b[39m\u001b[38;5;241m.\u001b[39mcross_attn(\u001b[38;5;28mself\u001b[39m\u001b[38;5;241m.\u001b[39mcross_attn_ln(x), xa, kv_cache\u001b[38;5;241m=\u001b[39mkv_cache)[\u001b[38;5;241m0\u001b[39m]\n",
      "File \u001b[1;32m~\\anaconda3\\lib\\site-packages\\torch\\nn\\modules\\module.py:1518\u001b[0m, in \u001b[0;36mModule._wrapped_call_impl\u001b[1;34m(self, *args, **kwargs)\u001b[0m\n\u001b[0;32m   1516\u001b[0m     \u001b[38;5;28;01mreturn\u001b[39;00m \u001b[38;5;28mself\u001b[39m\u001b[38;5;241m.\u001b[39m_compiled_call_impl(\u001b[38;5;241m*\u001b[39margs, \u001b[38;5;241m*\u001b[39m\u001b[38;5;241m*\u001b[39mkwargs)  \u001b[38;5;66;03m# type: ignore[misc]\u001b[39;00m\n\u001b[0;32m   1517\u001b[0m \u001b[38;5;28;01melse\u001b[39;00m:\n\u001b[1;32m-> 1518\u001b[0m     \u001b[38;5;28;01mreturn\u001b[39;00m \u001b[38;5;28mself\u001b[39m\u001b[38;5;241m.\u001b[39m_call_impl(\u001b[38;5;241m*\u001b[39margs, \u001b[38;5;241m*\u001b[39m\u001b[38;5;241m*\u001b[39mkwargs)\n",
      "File \u001b[1;32m~\\anaconda3\\lib\\site-packages\\torch\\nn\\modules\\module.py:1527\u001b[0m, in \u001b[0;36mModule._call_impl\u001b[1;34m(self, *args, **kwargs)\u001b[0m\n\u001b[0;32m   1522\u001b[0m \u001b[38;5;66;03m# If we don't have any hooks, we want to skip the rest of the logic in\u001b[39;00m\n\u001b[0;32m   1523\u001b[0m \u001b[38;5;66;03m# this function, and just call forward.\u001b[39;00m\n\u001b[0;32m   1524\u001b[0m \u001b[38;5;28;01mif\u001b[39;00m \u001b[38;5;129;01mnot\u001b[39;00m (\u001b[38;5;28mself\u001b[39m\u001b[38;5;241m.\u001b[39m_backward_hooks \u001b[38;5;129;01mor\u001b[39;00m \u001b[38;5;28mself\u001b[39m\u001b[38;5;241m.\u001b[39m_backward_pre_hooks \u001b[38;5;129;01mor\u001b[39;00m \u001b[38;5;28mself\u001b[39m\u001b[38;5;241m.\u001b[39m_forward_hooks \u001b[38;5;129;01mor\u001b[39;00m \u001b[38;5;28mself\u001b[39m\u001b[38;5;241m.\u001b[39m_forward_pre_hooks\n\u001b[0;32m   1525\u001b[0m         \u001b[38;5;129;01mor\u001b[39;00m _global_backward_pre_hooks \u001b[38;5;129;01mor\u001b[39;00m _global_backward_hooks\n\u001b[0;32m   1526\u001b[0m         \u001b[38;5;129;01mor\u001b[39;00m _global_forward_hooks \u001b[38;5;129;01mor\u001b[39;00m _global_forward_pre_hooks):\n\u001b[1;32m-> 1527\u001b[0m     \u001b[38;5;28;01mreturn\u001b[39;00m forward_call(\u001b[38;5;241m*\u001b[39margs, \u001b[38;5;241m*\u001b[39m\u001b[38;5;241m*\u001b[39mkwargs)\n\u001b[0;32m   1529\u001b[0m \u001b[38;5;28;01mtry\u001b[39;00m:\n\u001b[0;32m   1530\u001b[0m     result \u001b[38;5;241m=\u001b[39m \u001b[38;5;28;01mNone\u001b[39;00m\n",
      "File \u001b[1;32m~\\anaconda3\\lib\\site-packages\\whisper\\model.py:78\u001b[0m, in \u001b[0;36mMultiHeadAttention.forward\u001b[1;34m(self, x, xa, mask, kv_cache)\u001b[0m\n\u001b[0;32m     71\u001b[0m \u001b[38;5;28;01mdef\u001b[39;00m \u001b[38;5;21mforward\u001b[39m(\n\u001b[0;32m     72\u001b[0m     \u001b[38;5;28mself\u001b[39m,\n\u001b[0;32m     73\u001b[0m     x: Tensor,\n\u001b[1;32m   (...)\u001b[0m\n\u001b[0;32m     76\u001b[0m     kv_cache: Optional[\u001b[38;5;28mdict\u001b[39m] \u001b[38;5;241m=\u001b[39m \u001b[38;5;28;01mNone\u001b[39;00m,\n\u001b[0;32m     77\u001b[0m ):\n\u001b[1;32m---> 78\u001b[0m     q \u001b[38;5;241m=\u001b[39m \u001b[38;5;28;43mself\u001b[39;49m\u001b[38;5;241;43m.\u001b[39;49m\u001b[43mquery\u001b[49m\u001b[43m(\u001b[49m\u001b[43mx\u001b[49m\u001b[43m)\u001b[49m\n\u001b[0;32m     80\u001b[0m     \u001b[38;5;28;01mif\u001b[39;00m kv_cache \u001b[38;5;129;01mis\u001b[39;00m \u001b[38;5;28;01mNone\u001b[39;00m \u001b[38;5;129;01mor\u001b[39;00m xa \u001b[38;5;129;01mis\u001b[39;00m \u001b[38;5;28;01mNone\u001b[39;00m \u001b[38;5;129;01mor\u001b[39;00m \u001b[38;5;28mself\u001b[39m\u001b[38;5;241m.\u001b[39mkey \u001b[38;5;129;01mnot\u001b[39;00m \u001b[38;5;129;01min\u001b[39;00m kv_cache:\n\u001b[0;32m     81\u001b[0m         \u001b[38;5;66;03m# hooks, if installed (i.e. kv_cache is not None), will prepend the cached kv tensors;\u001b[39;00m\n\u001b[0;32m     82\u001b[0m         \u001b[38;5;66;03m# otherwise, perform key/value projections for self- or cross-attention as usual.\u001b[39;00m\n\u001b[0;32m     83\u001b[0m         k \u001b[38;5;241m=\u001b[39m \u001b[38;5;28mself\u001b[39m\u001b[38;5;241m.\u001b[39mkey(x \u001b[38;5;28;01mif\u001b[39;00m xa \u001b[38;5;129;01mis\u001b[39;00m \u001b[38;5;28;01mNone\u001b[39;00m \u001b[38;5;28;01melse\u001b[39;00m xa)\n",
      "File \u001b[1;32m~\\anaconda3\\lib\\site-packages\\torch\\nn\\modules\\module.py:1518\u001b[0m, in \u001b[0;36mModule._wrapped_call_impl\u001b[1;34m(self, *args, **kwargs)\u001b[0m\n\u001b[0;32m   1516\u001b[0m     \u001b[38;5;28;01mreturn\u001b[39;00m \u001b[38;5;28mself\u001b[39m\u001b[38;5;241m.\u001b[39m_compiled_call_impl(\u001b[38;5;241m*\u001b[39margs, \u001b[38;5;241m*\u001b[39m\u001b[38;5;241m*\u001b[39mkwargs)  \u001b[38;5;66;03m# type: ignore[misc]\u001b[39;00m\n\u001b[0;32m   1517\u001b[0m \u001b[38;5;28;01melse\u001b[39;00m:\n\u001b[1;32m-> 1518\u001b[0m     \u001b[38;5;28;01mreturn\u001b[39;00m \u001b[38;5;28mself\u001b[39m\u001b[38;5;241m.\u001b[39m_call_impl(\u001b[38;5;241m*\u001b[39margs, \u001b[38;5;241m*\u001b[39m\u001b[38;5;241m*\u001b[39mkwargs)\n",
      "File \u001b[1;32m~\\anaconda3\\lib\\site-packages\\torch\\nn\\modules\\module.py:1527\u001b[0m, in \u001b[0;36mModule._call_impl\u001b[1;34m(self, *args, **kwargs)\u001b[0m\n\u001b[0;32m   1522\u001b[0m \u001b[38;5;66;03m# If we don't have any hooks, we want to skip the rest of the logic in\u001b[39;00m\n\u001b[0;32m   1523\u001b[0m \u001b[38;5;66;03m# this function, and just call forward.\u001b[39;00m\n\u001b[0;32m   1524\u001b[0m \u001b[38;5;28;01mif\u001b[39;00m \u001b[38;5;129;01mnot\u001b[39;00m (\u001b[38;5;28mself\u001b[39m\u001b[38;5;241m.\u001b[39m_backward_hooks \u001b[38;5;129;01mor\u001b[39;00m \u001b[38;5;28mself\u001b[39m\u001b[38;5;241m.\u001b[39m_backward_pre_hooks \u001b[38;5;129;01mor\u001b[39;00m \u001b[38;5;28mself\u001b[39m\u001b[38;5;241m.\u001b[39m_forward_hooks \u001b[38;5;129;01mor\u001b[39;00m \u001b[38;5;28mself\u001b[39m\u001b[38;5;241m.\u001b[39m_forward_pre_hooks\n\u001b[0;32m   1525\u001b[0m         \u001b[38;5;129;01mor\u001b[39;00m _global_backward_pre_hooks \u001b[38;5;129;01mor\u001b[39;00m _global_backward_hooks\n\u001b[0;32m   1526\u001b[0m         \u001b[38;5;129;01mor\u001b[39;00m _global_forward_hooks \u001b[38;5;129;01mor\u001b[39;00m _global_forward_pre_hooks):\n\u001b[1;32m-> 1527\u001b[0m     \u001b[38;5;28;01mreturn\u001b[39;00m forward_call(\u001b[38;5;241m*\u001b[39margs, \u001b[38;5;241m*\u001b[39m\u001b[38;5;241m*\u001b[39mkwargs)\n\u001b[0;32m   1529\u001b[0m \u001b[38;5;28;01mtry\u001b[39;00m:\n\u001b[0;32m   1530\u001b[0m     result \u001b[38;5;241m=\u001b[39m \u001b[38;5;28;01mNone\u001b[39;00m\n",
      "File \u001b[1;32m~\\anaconda3\\lib\\site-packages\\whisper\\model.py:37\u001b[0m, in \u001b[0;36mLinear.forward\u001b[1;34m(self, x)\u001b[0m\n\u001b[0;32m     36\u001b[0m \u001b[38;5;28;01mdef\u001b[39;00m \u001b[38;5;21mforward\u001b[39m(\u001b[38;5;28mself\u001b[39m, x: Tensor) \u001b[38;5;241m-\u001b[39m\u001b[38;5;241m>\u001b[39m Tensor:\n\u001b[1;32m---> 37\u001b[0m     \u001b[38;5;28;01mreturn\u001b[39;00m \u001b[43mF\u001b[49m\u001b[38;5;241;43m.\u001b[39;49m\u001b[43mlinear\u001b[49m\u001b[43m(\u001b[49m\n\u001b[0;32m     38\u001b[0m \u001b[43m        \u001b[49m\u001b[43mx\u001b[49m\u001b[43m,\u001b[49m\n\u001b[0;32m     39\u001b[0m \u001b[43m        \u001b[49m\u001b[38;5;28;43mself\u001b[39;49m\u001b[38;5;241;43m.\u001b[39;49m\u001b[43mweight\u001b[49m\u001b[38;5;241;43m.\u001b[39;49m\u001b[43mto\u001b[49m\u001b[43m(\u001b[49m\u001b[43mx\u001b[49m\u001b[38;5;241;43m.\u001b[39;49m\u001b[43mdtype\u001b[49m\u001b[43m)\u001b[49m\u001b[43m,\u001b[49m\n\u001b[0;32m     40\u001b[0m \u001b[43m        \u001b[49m\u001b[38;5;28;43;01mNone\u001b[39;49;00m\u001b[43m \u001b[49m\u001b[38;5;28;43;01mif\u001b[39;49;00m\u001b[43m \u001b[49m\u001b[38;5;28;43mself\u001b[39;49m\u001b[38;5;241;43m.\u001b[39;49m\u001b[43mbias\u001b[49m\u001b[43m \u001b[49m\u001b[38;5;129;43;01mis\u001b[39;49;00m\u001b[43m \u001b[49m\u001b[38;5;28;43;01mNone\u001b[39;49;00m\u001b[43m \u001b[49m\u001b[38;5;28;43;01melse\u001b[39;49;00m\u001b[43m \u001b[49m\u001b[38;5;28;43mself\u001b[39;49m\u001b[38;5;241;43m.\u001b[39;49m\u001b[43mbias\u001b[49m\u001b[38;5;241;43m.\u001b[39;49m\u001b[43mto\u001b[49m\u001b[43m(\u001b[49m\u001b[43mx\u001b[49m\u001b[38;5;241;43m.\u001b[39;49m\u001b[43mdtype\u001b[49m\u001b[43m)\u001b[49m\u001b[43m,\u001b[49m\n\u001b[0;32m     41\u001b[0m \u001b[43m    \u001b[49m\u001b[43m)\u001b[49m\n",
      "\u001b[1;31mKeyboardInterrupt\u001b[0m: "
     ]
    }
   ],
   "source": [
    "import os\n",
    "import jiwer\n",
    "import whisper\n",
    "\n",
    "def get_audio_text_pair(subfolder_path):\n",
    "    audio_file = None\n",
    "    text_file = None\n",
    "    for file in os.listdir(subfolder_path):\n",
    "        if file.endswith('.mp3') or file.endswith('.wav'):\n",
    "            audio_file = os.path.join(subfolder_path, file)\n",
    "        elif file.endswith('.txt'):\n",
    "            text_file = os.path.join(subfolder_path, file)\n",
    "    if audio_file and text_file:\n",
    "        return audio_file, text_file\n",
    "    return None, None\n",
    "\n",
    "def transcribe_audio_whisper(audio_path, model):\n",
    "    try:\n",
    "        result = model.transcribe(audio_path)\n",
    "        return result['text']\n",
    "    except Exception as e:\n",
    "        print(f\"Failed to transcribe {audio_path} with Whisper: {e}\")\n",
    "        return None\n",
    "\n",
    "def read_text_file(text_path):\n",
    "    try:\n",
    "        with open(text_path, 'r', encoding='utf-8') as file:\n",
    "            return file.read().strip()\n",
    "    except Exception as e:\n",
    "        print(f\"Failed to read {text_path}: {e}\")\n",
    "        return None\n",
    "\n",
    "def calculate_alignment(reference, hypothesis):\n",
    "    wer = jiwer.wer(reference, hypothesis)\n",
    "    mer = jiwer.mer(reference, hypothesis)\n",
    "    wip = jiwer.wip(reference, hypothesis)\n",
    "    wil = jiwer.wil(reference, hypothesis)\n",
    "    return wer, mer, wip, wil\n",
    "\n",
    "def analyze_subfolder(subfolder_path, model):\n",
    "    audio_path, text_path = get_audio_text_pair(subfolder_path)\n",
    "    if not audio_path or not text_path:\n",
    "        print(f\"No valid audio-text pair found in {subfolder_path}.\")\n",
    "        return None\n",
    "\n",
    "    transcription = transcribe_audio_whisper(audio_path, model)\n",
    "    reference_text = read_text_file(text_path)\n",
    "\n",
    "    if transcription and reference_text:\n",
    "        wer, mer, wip, wil = calculate_alignment(reference_text, transcription)\n",
    "        print(f\"Audio: {audio_path}\")\n",
    "        print(f\"Transcription: {transcription}\")\n",
    "        print(f\"Reference: {reference_text}\")\n",
    "        print(f\"Word Error Rate (WER): {wer}\")\n",
    "        print(f\"Match Error Rate (MER): {mer}\")\n",
    "        print(f\"Word Information Preserved (WIP): {wip}\")\n",
    "        print(f\"Word Information Lost (WIL): {wil}\")\n",
    "        print(\"\\n\")\n",
    "        return wer, mer, wip, wil\n",
    "    else:\n",
    "        print(f\"Failed to analyze {subfolder_path} due to missing transcription or reference text.\")\n",
    "        return None\n",
    "\n",
    "def main():\n",
    "    root_folder = \"C:/Users/TANAY/anaconda3/envs/SIT/Bible_Texts/मत्तयकृत शुभवर्तमानMAT\"\n",
    "    model = whisper.load_model(\"large\")  # Choose the model size you prefer: tiny, base, small, medium, large\n",
    "\n",
    "    results = []\n",
    "    for subfolder in os.listdir(root_folder):\n",
    "        subfolder_path = os.path.join(root_folder, subfolder)\n",
    "        if os.path.isdir(subfolder_path):\n",
    "            print(f\"Analyzing subfolder: {subfolder_path}\")\n",
    "            result = analyze_subfolder(subfolder_path, model)\n",
    "            if result:\n",
    "                results.append(result)\n",
    "\n",
    "    if results:\n",
    "        avg_wer = sum([result[0] for result in results]) / len(results)\n",
    "        avg_mer = sum([result[1] for result in results]) / len(results)\n",
    "        avg_wip = sum([result[2] for result in results]) / len(results)\n",
    "        avg_wil = sum([result[3] for result in results]) / len(results)\n",
    "        \n",
    "        print(f\"Overall Summary for {root_folder}:\")\n",
    "        print(f\"Average Word Error Rate (WER): {avg_wer}\")\n",
    "        print(f\"Average Match Error Rate (MER): {avg_mer}\")\n",
    "        print(f\"Average Word Information Preserved (WIP): {avg_wip}\")\n",
    "        print(f\"Average Word Information Lost (WIL): {avg_wil}\")\n",
    "    else:\n",
    "        print(\"No valid audio-text pairs found.\")\n",
    "\n",
    "if __name__ == \"__main__\":\n",
    "    main()\n",
    "\n",
    "    # The kernel was interrupted due to the extended time required to measure the indices for each file."
   ]
  },
  {
   "cell_type": "code",
   "execution_count": 77,
   "id": "97b4f008",
   "metadata": {},
   "outputs": [
    {
     "name": "stderr",
     "output_type": "stream",
     "text": [
      "[nltk_data] Downloading package punkt to\n",
      "[nltk_data]     C:\\Users\\TANAY\\AppData\\Roaming\\nltk_data...\n",
      "[nltk_data]   Package punkt is already up-to-date!\n"
     ]
    }
   ],
   "source": [
    "import numpy as np\n",
    "import scipy.io.wavfile as wav\n",
    "from scipy.fftpack import fft\n",
    "import nltk\n",
    "nltk.download('punkt')\n",
    "from nltk.tokenize import sent_tokenize, word_tokenize\n",
    "import wave\n",
    "import pandas as pd\n",
    "from pathlib import Path\n",
    "import glob"
   ]
  },
  {
   "cell_type": "code",
   "execution_count": 86,
   "id": "e5e5246c",
   "metadata": {},
   "outputs": [],
   "source": [
    "from pydub import AudioSegment\n",
    "import numpy as np\n",
    "from scipy.fft import fft\n",
    "from nltk.tokenize import sent_tokenize, word_tokenize\n",
    "\n",
    "# Function to calculate Signal to noise ratio for the audio files\n",
    "def calculate_snr(audio_file_path):\n",
    "    audio = AudioSegment.from_file(str(audio_file_path), format=\"mp3\")\n",
    "    audio_data = np.array(audio.get_array_of_samples())\n",
    "\n",
    "    if audio.channels > 1:\n",
    "        audio_data = audio_data.reshape((-1, audio.channels)).mean(axis=1)\n",
    "\n",
    "    signal_power = np.mean(audio_data ** 2)\n",
    "    noise_power = np.mean((audio_data - np.mean(audio_data)) ** 2)\n",
    "    snr = 10 * np.log10(signal_power / noise_power)\n",
    "    \n",
    "    return snr\n",
    "\n",
    "# Function to determine Silence proportion in an audio file\n",
    "def calculate_silence_proportion(audio_file_path, silence_threshold=0.01):\n",
    "    audio = AudioSegment.from_file(str(audio_file_path), format=\"mp3\")\n",
    "    audio_data = np.array(audio.get_array_of_samples())\n",
    "\n",
    "    if audio.channels > 1:\n",
    "        audio_data = audio_data.reshape((-1, audio.channels)).mean(axis=1)\n",
    "\n",
    "    audio_data = audio_data / np.max(np.abs(audio_data))\n",
    "    abs_audio_data = np.abs(audio_data)\n",
    "    silence = abs_audio_data < silence_threshold\n",
    "    silence_proportion = np.sum(silence) / len(audio_data)\n",
    "    \n",
    "    return silence_proportion\n",
    "\n",
    "# Checking frequency consistency of audio file\n",
    "def calculate_average_frequency(audio_file_path):\n",
    "    audio = AudioSegment.from_file(str(audio_file_path), format=\"mp3\")\n",
    "    audio_data = np.array(audio.get_array_of_samples())\n",
    "\n",
    "    if audio.channels > 1:\n",
    "        audio_data = audio_data.reshape((-1, audio.channels)).mean(axis=1)\n",
    "\n",
    "    n = len(audio_data)\n",
    "    audio_fft = fft(audio_data)\n",
    "    frequencies = np.fft.fftfreq(n, d=1/audio.frame_rate)\n",
    "    magnitude = np.abs(audio_fft)\n",
    "    positive_frequencies = frequencies[frequencies > 0]\n",
    "    positive_magnitudes = magnitude[frequencies > 0]\n",
    "    average_frequency = np.sum(positive_frequencies * positive_magnitudes) / np.sum(positive_magnitudes)\n",
    "    \n",
    "    return average_frequency\n",
    "\n",
    "# Calculating average length of sentences in the txt files\n",
    "def calculate_average_sentence_length(text_file_path):\n",
    "    with open(str(text_file_path), 'r', encoding='utf-8') as file:\n",
    "        text = file.read()\n",
    "    \n",
    "    sentences = sent_tokenize(text)\n",
    "    \n",
    "    if len(sentences) == 0:\n",
    "        return 0  # or you could return None or some other value to indicate no sentences found\n",
    "    \n",
    "    total_words = sum(len(word_tokenize(sentence)) for sentence in sentences)\n",
    "    average_sentence_length = total_words / len(sentences)\n",
    "    \n",
    "    return average_sentence_length\n",
    "\n",
    "\n",
    "def calculate_number_of_sentences(text_file_path):\n",
    "    with open(str(text_file_path), 'r', encoding='utf-8') as file:\n",
    "        text = file.read()\n",
    "    sentences = sent_tokenize(text)\n",
    "    number_of_sentences = len(sentences)\n",
    "    \n",
    "    return number_of_sentences\n",
    "\n",
    "def calculate_audio_duration(audio_file_path):\n",
    "    audio = AudioSegment.from_file(str(audio_file_path), format=\"mp3\")\n",
    "    duration = len(audio) / 1000.0  # pydub returns duration in milliseconds\n",
    "    \n",
    "    return duration\n"
   ]
  },
  {
   "cell_type": "code",
   "execution_count": null,
   "id": "fa4e4b21",
   "metadata": {},
   "outputs": [],
   "source": []
  },
  {
   "cell_type": "code",
   "execution_count": 51,
   "id": "41e57ed9",
   "metadata": {},
   "outputs": [
    {
     "name": "stdout",
     "output_type": "stream",
     "text": [
      "Collecting aeneas\n",
      "  Using cached aeneas-1.7.3.0.tar.gz (5.5 MB)\n",
      "  Preparing metadata (setup.py): started\n",
      "  Preparing metadata (setup.py): finished with status 'done'\n",
      "Requirement already satisfied: BeautifulSoup4>=4.5.1 in c:\\users\\tanay\\anaconda3\\lib\\site-packages (from aeneas) (4.11.1)\n",
      "Requirement already satisfied: lxml>=3.6.0 in c:\\users\\tanay\\anaconda3\\lib\\site-packages (from aeneas) (4.9.2)\n",
      "Requirement already satisfied: numpy>=1.9 in c:\\users\\tanay\\anaconda3\\lib\\site-packages (from aeneas) (1.23.5)\n",
      "Requirement already satisfied: soupsieve>1.2 in c:\\users\\tanay\\anaconda3\\lib\\site-packages (from BeautifulSoup4>=4.5.1->aeneas) (2.3.2.post1)\n",
      "Building wheels for collected packages: aeneas\n",
      "  Building wheel for aeneas (setup.py): started\n",
      "  Building wheel for aeneas (setup.py): finished with status 'error'\n",
      "  Running setup.py clean for aeneas\n",
      "Failed to build aeneas\n",
      "Installing collected packages: aeneas\n",
      "  Running setup.py install for aeneas: started\n",
      "  Running setup.py install for aeneas: finished with status 'error'\n"
     ]
    },
    {
     "name": "stderr",
     "output_type": "stream",
     "text": [
      "WARNING: Ignoring invalid distribution -atplotlib (c:\\users\\tanay\\anaconda3\\lib\\site-packages)\n",
      "WARNING: Ignoring invalid distribution -atplotlib (c:\\users\\tanay\\anaconda3\\lib\\site-packages)\n",
      "  error: subprocess-exited-with-error\n",
      "  \n",
      "  python setup.py bdist_wheel did not run successfully.\n",
      "  exit code: 1\n",
      "  \n",
      "  [219 lines of output]\n",
      "  C:\\Users\\TANAY\\AppData\\Local\\Temp\\pip-install-pukzbdo3\\aeneas_dd53e9759b0740499e4a6afc3f90b8b4\\setup.py:190: DeprecationWarning:\n",
      "  \n",
      "    `numpy.distutils` is deprecated since NumPy 1.23.0, as a result\n",
      "    of the deprecation of `distutils` itself. It will be removed for\n",
      "    Python >= 3.12. For older Python versions it will remain present.\n",
      "    It is recommended to use `setuptools < 60.0` for those Python versions.\n",
      "    For more details, see:\n",
      "      https://numpy.org/devdocs/reference/distutils_status_migration.html\n",
      "  \n",
      "  \n",
      "    from numpy.distutils import misc_util\n",
      "  [INFO] *****************************************************************\n",
      "  [INFO] Compiling the C extension cew on Windows is experimental.\n",
      "  [INFO]\n",
      "  [INFO] If you experience problems, disable cew compilation by specifying\n",
      "  [INFO] the environment variable AENEAS_WITH_CEW=False .\n",
      "  [INFO] Please see the aeneas installation documentation for details.\n",
      "  [INFO] *****************************************************************\n",
      "  [INFO]\n",
      "  [WARN] Unable to find the eSpeak DLL, probably because you installed eSpeak in a non-standard location.\n",
      "  [WARN] If you want to run aeneas with the C extension cew,\n",
      "  [WARN] please copy espeak_sapi.dll from your eSpeak directory to C:\\Windows\\System32\\espeak.dll\n",
      "  [INFO] Found eSpeak LIB in C:\\Users\\TANAY\\AppData\\Local\\Temp\\pip-install-pukzbdo3\\aeneas_dd53e9759b0740499e4a6afc3f90b8b4\\espeak.lib\n",
      "  running bdist_wheel\n",
      "  running build\n",
      "  running build_py\n",
      "  creating build\n",
      "  creating build\\lib.win-amd64-cpython-310\n",
      "  creating build\\lib.win-amd64-cpython-310\\aeneas\n",
      "  copying aeneas\\adjustboundaryalgorithm.py -> build\\lib.win-amd64-cpython-310\\aeneas\n",
      "  copying aeneas\\analyzecontainer.py -> build\\lib.win-amd64-cpython-310\\aeneas\n",
      "  copying aeneas\\audiofile.py -> build\\lib.win-amd64-cpython-310\\aeneas\n",
      "  copying aeneas\\audiofilemfcc.py -> build\\lib.win-amd64-cpython-310\\aeneas\n",
      "  copying aeneas\\cewsubprocess.py -> build\\lib.win-amd64-cpython-310\\aeneas\n",
      "  copying aeneas\\configuration.py -> build\\lib.win-amd64-cpython-310\\aeneas\n",
      "  copying aeneas\\container.py -> build\\lib.win-amd64-cpython-310\\aeneas\n",
      "  copying aeneas\\diagnostics.py -> build\\lib.win-amd64-cpython-310\\aeneas\n",
      "  copying aeneas\\downloader.py -> build\\lib.win-amd64-cpython-310\\aeneas\n",
      "  copying aeneas\\dtw.py -> build\\lib.win-amd64-cpython-310\\aeneas\n",
      "  copying aeneas\\exacttiming.py -> build\\lib.win-amd64-cpython-310\\aeneas\n",
      "  copying aeneas\\executejob.py -> build\\lib.win-amd64-cpython-310\\aeneas\n",
      "  copying aeneas\\executetask.py -> build\\lib.win-amd64-cpython-310\\aeneas\n",
      "  copying aeneas\\ffmpegwrapper.py -> build\\lib.win-amd64-cpython-310\\aeneas\n",
      "  copying aeneas\\ffprobewrapper.py -> build\\lib.win-amd64-cpython-310\\aeneas\n",
      "  copying aeneas\\globalconstants.py -> build\\lib.win-amd64-cpython-310\\aeneas\n",
      "  copying aeneas\\globalfunctions.py -> build\\lib.win-amd64-cpython-310\\aeneas\n",
      "  copying aeneas\\hierarchytype.py -> build\\lib.win-amd64-cpython-310\\aeneas\n",
      "  copying aeneas\\idsortingalgorithm.py -> build\\lib.win-amd64-cpython-310\\aeneas\n",
      "  copying aeneas\\job.py -> build\\lib.win-amd64-cpython-310\\aeneas\n",
      "  copying aeneas\\language.py -> build\\lib.win-amd64-cpython-310\\aeneas\n",
      "  copying aeneas\\logger.py -> build\\lib.win-amd64-cpython-310\\aeneas\n",
      "  copying aeneas\\mfcc.py -> build\\lib.win-amd64-cpython-310\\aeneas\n",
      "  copying aeneas\\plotter.py -> build\\lib.win-amd64-cpython-310\\aeneas\n",
      "  copying aeneas\\runtimeconfiguration.py -> build\\lib.win-amd64-cpython-310\\aeneas\n",
      "  copying aeneas\\sd.py -> build\\lib.win-amd64-cpython-310\\aeneas\n",
      "  copying aeneas\\synthesizer.py -> build\\lib.win-amd64-cpython-310\\aeneas\n",
      "  copying aeneas\\task.py -> build\\lib.win-amd64-cpython-310\\aeneas\n",
      "  copying aeneas\\textfile.py -> build\\lib.win-amd64-cpython-310\\aeneas\n",
      "  copying aeneas\\tree.py -> build\\lib.win-amd64-cpython-310\\aeneas\n",
      "  copying aeneas\\vad.py -> build\\lib.win-amd64-cpython-310\\aeneas\n",
      "  copying aeneas\\validator.py -> build\\lib.win-amd64-cpython-310\\aeneas\n",
      "  copying aeneas\\wavfile.py -> build\\lib.win-amd64-cpython-310\\aeneas\n",
      "  copying aeneas\\__init__.py -> build\\lib.win-amd64-cpython-310\\aeneas\n",
      "  creating build\\lib.win-amd64-cpython-310\\aeneas\\cdtw\n",
      "  copying aeneas\\cdtw\\cdtw_setup.py -> build\\lib.win-amd64-cpython-310\\aeneas\\cdtw\n",
      "  copying aeneas\\cdtw\\__init__.py -> build\\lib.win-amd64-cpython-310\\aeneas\\cdtw\n",
      "  creating build\\lib.win-amd64-cpython-310\\aeneas\\cew\n",
      "  copying aeneas\\cew\\cew_setup.py -> build\\lib.win-amd64-cpython-310\\aeneas\\cew\n",
      "  copying aeneas\\cew\\__init__.py -> build\\lib.win-amd64-cpython-310\\aeneas\\cew\n",
      "  creating build\\lib.win-amd64-cpython-310\\aeneas\\cfw\n",
      "  copying aeneas\\cfw\\cfw_setup.py -> build\\lib.win-amd64-cpython-310\\aeneas\\cfw\n",
      "  copying aeneas\\cfw\\__init__.py -> build\\lib.win-amd64-cpython-310\\aeneas\\cfw\n",
      "  creating build\\lib.win-amd64-cpython-310\\aeneas\\cmfcc\n",
      "  copying aeneas\\cmfcc\\cmfcc_setup.py -> build\\lib.win-amd64-cpython-310\\aeneas\\cmfcc\n",
      "  copying aeneas\\cmfcc\\__init__.py -> build\\lib.win-amd64-cpython-310\\aeneas\\cmfcc\n",
      "  creating build\\lib.win-amd64-cpython-310\\aeneas\\cwave\n",
      "  copying aeneas\\cwave\\cwave_setup.py -> build\\lib.win-amd64-cpython-310\\aeneas\\cwave\n",
      "  copying aeneas\\cwave\\__init__.py -> build\\lib.win-amd64-cpython-310\\aeneas\\cwave\n",
      "  creating build\\lib.win-amd64-cpython-310\\aeneas\\extra\n",
      "  copying aeneas\\extra\\ctw_espeak.py -> build\\lib.win-amd64-cpython-310\\aeneas\\extra\n",
      "  copying aeneas\\extra\\ctw_speect.py -> build\\lib.win-amd64-cpython-310\\aeneas\\extra\n",
      "  copying aeneas\\extra\\__init__.py -> build\\lib.win-amd64-cpython-310\\aeneas\\extra\n",
      "  creating build\\lib.win-amd64-cpython-310\\aeneas\\syncmap\n",
      "  copying aeneas\\syncmap\\format.py -> build\\lib.win-amd64-cpython-310\\aeneas\\syncmap\n",
      "  copying aeneas\\syncmap\\fragment.py -> build\\lib.win-amd64-cpython-310\\aeneas\\syncmap\n",
      "  copying aeneas\\syncmap\\fragmentlist.py -> build\\lib.win-amd64-cpython-310\\aeneas\\syncmap\n",
      "  copying aeneas\\syncmap\\headtailformat.py -> build\\lib.win-amd64-cpython-310\\aeneas\\syncmap\n",
      "  copying aeneas\\syncmap\\missingparametererror.py -> build\\lib.win-amd64-cpython-310\\aeneas\\syncmap\n",
      "  copying aeneas\\syncmap\\smfaudacity.py -> build\\lib.win-amd64-cpython-310\\aeneas\\syncmap\n",
      "  copying aeneas\\syncmap\\smfbase.py -> build\\lib.win-amd64-cpython-310\\aeneas\\syncmap\n",
      "  copying aeneas\\syncmap\\smfcsv.py -> build\\lib.win-amd64-cpython-310\\aeneas\\syncmap\n",
      "  copying aeneas\\syncmap\\smfeaf.py -> build\\lib.win-amd64-cpython-310\\aeneas\\syncmap\n",
      "  copying aeneas\\syncmap\\smfgsubtitles.py -> build\\lib.win-amd64-cpython-310\\aeneas\\syncmap\n",
      "  copying aeneas\\syncmap\\smfgtabular.py -> build\\lib.win-amd64-cpython-310\\aeneas\\syncmap\n",
      "  copying aeneas\\syncmap\\smfgxml.py -> build\\lib.win-amd64-cpython-310\\aeneas\\syncmap\n",
      "  copying aeneas\\syncmap\\smfjson.py -> build\\lib.win-amd64-cpython-310\\aeneas\\syncmap\n",
      "  copying aeneas\\syncmap\\smfrbse.py -> build\\lib.win-amd64-cpython-310\\aeneas\\syncmap\n",
      "  copying aeneas\\syncmap\\smfsmil.py -> build\\lib.win-amd64-cpython-310\\aeneas\\syncmap\n",
      "  copying aeneas\\syncmap\\smfsrt.py -> build\\lib.win-amd64-cpython-310\\aeneas\\syncmap\n",
      "  copying aeneas\\syncmap\\smfssv.py -> build\\lib.win-amd64-cpython-310\\aeneas\\syncmap\n",
      "  copying aeneas\\syncmap\\smfsub.py -> build\\lib.win-amd64-cpython-310\\aeneas\\syncmap\n",
      "  copying aeneas\\syncmap\\smftextgrid.py -> build\\lib.win-amd64-cpython-310\\aeneas\\syncmap\n",
      "  copying aeneas\\syncmap\\smftsv.py -> build\\lib.win-amd64-cpython-310\\aeneas\\syncmap\n",
      "  copying aeneas\\syncmap\\smfttml.py -> build\\lib.win-amd64-cpython-310\\aeneas\\syncmap\n",
      "  copying aeneas\\syncmap\\smftxt.py -> build\\lib.win-amd64-cpython-310\\aeneas\\syncmap\n",
      "  copying aeneas\\syncmap\\smfvtt.py -> build\\lib.win-amd64-cpython-310\\aeneas\\syncmap\n",
      "  copying aeneas\\syncmap\\smfxml.py -> build\\lib.win-amd64-cpython-310\\aeneas\\syncmap\n",
      "  copying aeneas\\syncmap\\smfxmllegacy.py -> build\\lib.win-amd64-cpython-310\\aeneas\\syncmap\n",
      "  copying aeneas\\syncmap\\__init__.py -> build\\lib.win-amd64-cpython-310\\aeneas\\syncmap\n",
      "  creating build\\lib.win-amd64-cpython-310\\aeneas\\tools\n",
      "  copying aeneas\\tools\\abstract_cli_program.py -> build\\lib.win-amd64-cpython-310\\aeneas\\tools\n",
      "  copying aeneas\\tools\\convert_syncmap.py -> build\\lib.win-amd64-cpython-310\\aeneas\\tools\n",
      "  copying aeneas\\tools\\download.py -> build\\lib.win-amd64-cpython-310\\aeneas\\tools\n",
      "  copying aeneas\\tools\\execute_job.py -> build\\lib.win-amd64-cpython-310\\aeneas\\tools\n",
      "  copying aeneas\\tools\\execute_task.py -> build\\lib.win-amd64-cpython-310\\aeneas\\tools\n",
      "  copying aeneas\\tools\\extract_mfcc.py -> build\\lib.win-amd64-cpython-310\\aeneas\\tools\n",
      "  copying aeneas\\tools\\ffmpeg_wrapper.py -> build\\lib.win-amd64-cpython-310\\aeneas\\tools\n",
      "  copying aeneas\\tools\\ffprobe_wrapper.py -> build\\lib.win-amd64-cpython-310\\aeneas\\tools\n",
      "  copying aeneas\\tools\\hydra.py -> build\\lib.win-amd64-cpython-310\\aeneas\\tools\n",
      "  copying aeneas\\tools\\plot_waveform.py -> build\\lib.win-amd64-cpython-310\\aeneas\\tools\n",
      "  copying aeneas\\tools\\read_audio.py -> build\\lib.win-amd64-cpython-310\\aeneas\\tools\n",
      "  copying aeneas\\tools\\read_text.py -> build\\lib.win-amd64-cpython-310\\aeneas\\tools\n",
      "  copying aeneas\\tools\\run_sd.py -> build\\lib.win-amd64-cpython-310\\aeneas\\tools\n",
      "  copying aeneas\\tools\\run_vad.py -> build\\lib.win-amd64-cpython-310\\aeneas\\tools\n",
      "  copying aeneas\\tools\\synthesize_text.py -> build\\lib.win-amd64-cpython-310\\aeneas\\tools\n",
      "  copying aeneas\\tools\\validate.py -> build\\lib.win-amd64-cpython-310\\aeneas\\tools\n",
      "  copying aeneas\\tools\\__init__.py -> build\\lib.win-amd64-cpython-310\\aeneas\\tools\n",
      "  creating build\\lib.win-amd64-cpython-310\\aeneas\\ttswrappers\n",
      "  copying aeneas\\ttswrappers\\awsttswrapper.py -> build\\lib.win-amd64-cpython-310\\aeneas\\ttswrappers\n",
      "  copying aeneas\\ttswrappers\\basettswrapper.py -> build\\lib.win-amd64-cpython-310\\aeneas\\ttswrappers\n",
      "  copying aeneas\\ttswrappers\\espeakngttswrapper.py -> build\\lib.win-amd64-cpython-310\\aeneas\\ttswrappers\n",
      "  copying aeneas\\ttswrappers\\espeakttswrapper.py -> build\\lib.win-amd64-cpython-310\\aeneas\\ttswrappers\n",
      "  copying aeneas\\ttswrappers\\festivalttswrapper.py -> build\\lib.win-amd64-cpython-310\\aeneas\\ttswrappers\n",
      "  copying aeneas\\ttswrappers\\macosttswrapper.py -> build\\lib.win-amd64-cpython-310\\aeneas\\ttswrappers\n",
      "  copying aeneas\\ttswrappers\\nuancettswrapper.py -> build\\lib.win-amd64-cpython-310\\aeneas\\ttswrappers\n",
      "  copying aeneas\\ttswrappers\\__init__.py -> build\\lib.win-amd64-cpython-310\\aeneas\\ttswrappers\n",
      "  creating build\\lib.win-amd64-cpython-310\\aeneas\\res\n",
      "  copying aeneas\\res\\finetuneas.html -> build\\lib.win-amd64-cpython-310\\aeneas\\res\n",
      "  copying aeneas\\res\\LiberationMono-Regular.ttf -> build\\lib.win-amd64-cpython-310\\aeneas\\res\n",
      "  copying aeneas\\res\\__init__.py -> build\\lib.win-amd64-cpython-310\\aeneas\\res\n",
      "  copying aeneas\\README.md -> build\\lib.win-amd64-cpython-310\\aeneas\n",
      "  copying aeneas\\cdtw\\cdtw_driver.c -> build\\lib.win-amd64-cpython-310\\aeneas\\cdtw\n",
      "  copying aeneas\\cdtw\\cdtw_func.c -> build\\lib.win-amd64-cpython-310\\aeneas\\cdtw\n",
      "  copying aeneas\\cdtw\\cdtw_py.c -> build\\lib.win-amd64-cpython-310\\aeneas\\cdtw\n",
      "  copying aeneas\\cdtw\\cdtw_func.h -> build\\lib.win-amd64-cpython-310\\aeneas\\cdtw\n",
      "  copying aeneas\\cdtw\\README.md -> build\\lib.win-amd64-cpython-310\\aeneas\\cdtw\n",
      "  copying aeneas\\cew\\cew_func.h -> build\\lib.win-amd64-cpython-310\\aeneas\\cew\n",
      "  copying aeneas\\cew\\speak_lib.h -> build\\lib.win-amd64-cpython-310\\aeneas\\cew\n",
      "  copying aeneas\\cew\\README.md -> build\\lib.win-amd64-cpython-310\\aeneas\\cew\n",
      "  copying aeneas\\cmfcc\\cmfcc_driver.c -> build\\lib.win-amd64-cpython-310\\aeneas\\cmfcc\n",
      "  copying aeneas\\cmfcc\\cmfcc_func.c -> build\\lib.win-amd64-cpython-310\\aeneas\\cmfcc\n",
      "  copying aeneas\\cmfcc\\cmfcc_py.c -> build\\lib.win-amd64-cpython-310\\aeneas\\cmfcc\n",
      "  copying aeneas\\cmfcc\\cmfcc_func.h -> build\\lib.win-amd64-cpython-310\\aeneas\\cmfcc\n",
      "  copying aeneas\\cmfcc\\README.md -> build\\lib.win-amd64-cpython-310\\aeneas\\cmfcc\n",
      "  copying aeneas\\cwave\\cwave_driver.c -> build\\lib.win-amd64-cpython-310\\aeneas\\cwave\n",
      "  copying aeneas\\cwave\\cwave_func.c -> build\\lib.win-amd64-cpython-310\\aeneas\\cwave\n",
      "  copying aeneas\\cwave\\cwave_py.c -> build\\lib.win-amd64-cpython-310\\aeneas\\cwave\n",
      "  copying aeneas\\cwave\\cwave_func.h -> build\\lib.win-amd64-cpython-310\\aeneas\\cwave\n",
      "  copying aeneas\\cwave\\README.md -> build\\lib.win-amd64-cpython-310\\aeneas\\cwave\n",
      "  copying aeneas\\extra\\README.md -> build\\lib.win-amd64-cpython-310\\aeneas\\extra\n",
      "  creating build\\lib.win-amd64-cpython-310\\aeneas\\tools\\res\n",
      "  copying aeneas\\tools\\res\\audio.mp3 -> build\\lib.win-amd64-cpython-310\\aeneas\\tools\\res\n",
      "  copying aeneas\\tools\\res\\audio.wav -> build\\lib.win-amd64-cpython-310\\aeneas\\tools\\res\n",
      "  copying aeneas\\tools\\res\\config.bad.txt -> build\\lib.win-amd64-cpython-310\\aeneas\\tools\\res\n",
      "  copying aeneas\\tools\\res\\config.bad.xml -> build\\lib.win-amd64-cpython-310\\aeneas\\tools\\res\n",
      "  copying aeneas\\tools\\res\\config.txt -> build\\lib.win-amd64-cpython-310\\aeneas\\tools\\res\n",
      "  copying aeneas\\tools\\res\\config.xml -> build\\lib.win-amd64-cpython-310\\aeneas\\tools\\res\n",
      "  copying aeneas\\tools\\res\\job.bad.zip -> build\\lib.win-amd64-cpython-310\\aeneas\\tools\\res\n",
      "  copying aeneas\\tools\\res\\job.zip -> build\\lib.win-amd64-cpython-310\\aeneas\\tools\\res\n",
      "  copying aeneas\\tools\\res\\job_no_config.zip -> build\\lib.win-amd64-cpython-310\\aeneas\\tools\\res\n",
      "  copying aeneas\\tools\\res\\mplain.txt -> build\\lib.win-amd64-cpython-310\\aeneas\\tools\\res\n",
      "  copying aeneas\\tools\\res\\munparsed.xhtml -> build\\lib.win-amd64-cpython-310\\aeneas\\tools\\res\n",
      "  copying aeneas\\tools\\res\\munparsed2.xhtml -> build\\lib.win-amd64-cpython-310\\aeneas\\tools\\res\n",
      "  copying aeneas\\tools\\res\\page.xhtml -> build\\lib.win-amd64-cpython-310\\aeneas\\tools\\res\n",
      "  copying aeneas\\tools\\res\\parsed.txt -> build\\lib.win-amd64-cpython-310\\aeneas\\tools\\res\n",
      "  copying aeneas\\tools\\res\\plain.txt -> build\\lib.win-amd64-cpython-310\\aeneas\\tools\\res\n",
      "  copying aeneas\\tools\\res\\sonnet.csv -> build\\lib.win-amd64-cpython-310\\aeneas\\tools\\res\n",
      "  copying aeneas\\tools\\res\\sonnet.json -> build\\lib.win-amd64-cpython-310\\aeneas\\tools\\res\n",
      "  copying aeneas\\tools\\res\\sonnet.vad -> build\\lib.win-amd64-cpython-310\\aeneas\\tools\\res\n",
      "  copying aeneas\\tools\\res\\sonnet.zzz -> build\\lib.win-amd64-cpython-310\\aeneas\\tools\\res\n",
      "  copying aeneas\\tools\\res\\subtitles.txt -> build\\lib.win-amd64-cpython-310\\aeneas\\tools\\res\n",
      "  copying aeneas\\tools\\res\\unparsed.xhtml -> build\\lib.win-amd64-cpython-310\\aeneas\\tools\\res\n",
      "  copying aeneas\\tools\\res\\words.txt -> build\\lib.win-amd64-cpython-310\\aeneas\\tools\\res\n",
      "  copying aeneas\\tools\\README.md -> build\\lib.win-amd64-cpython-310\\aeneas\\tools\n",
      "  copying aeneas\\ttswrappers\\README.md -> build\\lib.win-amd64-cpython-310\\aeneas\\ttswrappers\n",
      "  running build_ext\n",
      "  INFO: No module named 'numpy.distutils._msvccompiler' in numpy.distutils; trying from distutils\n",
      "  building 'aeneas.cdtw.cdtw' extension\n",
      "  creating build\\temp.win-amd64-cpython-310\n",
      "  creating build\\temp.win-amd64-cpython-310\\Release\n",
      "  creating build\\temp.win-amd64-cpython-310\\Release\\aeneas\n",
      "  creating build\\temp.win-amd64-cpython-310\\Release\\aeneas\\cdtw\n",
      "  creating build\\temp.win-amd64-cpython-310\\Release\\aeneas\\cint\n",
      "  INFO: C:\\Program Files (x86)\\Microsoft Visual Studio\\2022\\BuildTools\\VC\\Tools\\MSVC\\14.36.32532\\bin\\HostX86\\x64\\cl.exe /c /nologo /O2 /W3 /GL /DNDEBUG /MD -IC:\\Users\\TANAY\\anaconda3\\lib\\site-packages\\numpy\\core\\include -I['C:\\\\Users\\\\TANAY\\\\anaconda3\\\\lib\\\\site-packages\\\\numpy\\\\core\\\\include'] -IC:\\Users\\TANAY\\anaconda3\\include -IC:\\Users\\TANAY\\anaconda3\\Include -IC:\\Program Files (x86)\\Microsoft Visual Studio\\2022\\BuildTools\\VC\\Tools\\MSVC\\14.36.32532\\include -IC:\\Program Files (x86)\\Microsoft Visual Studio\\2022\\BuildTools\\VC\\Tools\\MSVC\\14.36.32532\\ATLMFC\\include -IC:\\Program Files (x86)\\Microsoft Visual Studio\\2022\\BuildTools\\VC\\Auxiliary\\VS\\include -IC:\\Program Files (x86)\\Windows Kits\\10\\include\\10.0.22000.0\\ucrt -IC:\\Program Files (x86)\\Windows Kits\\10\\\\include\\10.0.22000.0\\\\um -IC:\\Program Files (x86)\\Windows Kits\\10\\\\include\\10.0.22000.0\\\\shared -IC:\\Program Files (x86)\\Windows Kits\\10\\\\include\\10.0.22000.0\\\\winrt -IC:\\Program Files (x86)\\Windows Kits\\10\\\\include\\10.0.22000.0\\\\cppwinrt -IC:\\Program Files (x86)\\Windows Kits\\NETFXSDK\\4.8\\include\\um /Tcaeneas/cdtw/cdtw_func.c /Fobuild\\temp.win-amd64-cpython-310\\Release\\aeneas\\cdtw\\cdtw_func.obj\n",
      "  INFO: C:\\Program Files (x86)\\Microsoft Visual Studio\\2022\\BuildTools\\VC\\Tools\\MSVC\\14.36.32532\\bin\\HostX86\\x64\\cl.exe /c /nologo /O2 /W3 /GL /DNDEBUG /MD -IC:\\Users\\TANAY\\anaconda3\\lib\\site-packages\\numpy\\core\\include -I['C:\\\\Users\\\\TANAY\\\\anaconda3\\\\lib\\\\site-packages\\\\numpy\\\\core\\\\include'] -IC:\\Users\\TANAY\\anaconda3\\include -IC:\\Users\\TANAY\\anaconda3\\Include -IC:\\Program Files (x86)\\Microsoft Visual Studio\\2022\\BuildTools\\VC\\Tools\\MSVC\\14.36.32532\\include -IC:\\Program Files (x86)\\Microsoft Visual Studio\\2022\\BuildTools\\VC\\Tools\\MSVC\\14.36.32532\\ATLMFC\\include -IC:\\Program Files (x86)\\Microsoft Visual Studio\\2022\\BuildTools\\VC\\Auxiliary\\VS\\include -IC:\\Program Files (x86)\\Windows Kits\\10\\include\\10.0.22000.0\\ucrt -IC:\\Program Files (x86)\\Windows Kits\\10\\\\include\\10.0.22000.0\\\\um -IC:\\Program Files (x86)\\Windows Kits\\10\\\\include\\10.0.22000.0\\\\shared -IC:\\Program Files (x86)\\Windows Kits\\10\\\\include\\10.0.22000.0\\\\winrt -IC:\\Program Files (x86)\\Windows Kits\\10\\\\include\\10.0.22000.0\\\\cppwinrt -IC:\\Program Files (x86)\\Windows Kits\\NETFXSDK\\4.8\\include\\um /Tcaeneas/cdtw/cdtw_py.c /Fobuild\\temp.win-amd64-cpython-310\\Release\\aeneas\\cdtw\\cdtw_py.obj\n",
      "  INFO: C:\\Program Files (x86)\\Microsoft Visual Studio\\2022\\BuildTools\\VC\\Tools\\MSVC\\14.36.32532\\bin\\HostX86\\x64\\cl.exe /c /nologo /O2 /W3 /GL /DNDEBUG /MD -IC:\\Users\\TANAY\\anaconda3\\lib\\site-packages\\numpy\\core\\include -I['C:\\\\Users\\\\TANAY\\\\anaconda3\\\\lib\\\\site-packages\\\\numpy\\\\core\\\\include'] -IC:\\Users\\TANAY\\anaconda3\\include -IC:\\Users\\TANAY\\anaconda3\\Include -IC:\\Program Files (x86)\\Microsoft Visual Studio\\2022\\BuildTools\\VC\\Tools\\MSVC\\14.36.32532\\include -IC:\\Program Files (x86)\\Microsoft Visual Studio\\2022\\BuildTools\\VC\\Tools\\MSVC\\14.36.32532\\ATLMFC\\include -IC:\\Program Files (x86)\\Microsoft Visual Studio\\2022\\BuildTools\\VC\\Auxiliary\\VS\\include -IC:\\Program Files (x86)\\Windows Kits\\10\\include\\10.0.22000.0\\ucrt -IC:\\Program Files (x86)\\Windows Kits\\10\\\\include\\10.0.22000.0\\\\um -IC:\\Program Files (x86)\\Windows Kits\\10\\\\include\\10.0.22000.0\\\\shared -IC:\\Program Files (x86)\\Windows Kits\\10\\\\include\\10.0.22000.0\\\\winrt -IC:\\Program Files (x86)\\Windows Kits\\10\\\\include\\10.0.22000.0\\\\cppwinrt -IC:\\Program Files (x86)\\Windows Kits\\NETFXSDK\\4.8\\include\\um /Tcaeneas/cint/cint.c /Fobuild\\temp.win-amd64-cpython-310\\Release\\aeneas\\cint\\cint.obj\n",
      "  INFO: C:\\Program Files (x86)\\Microsoft Visual Studio\\2022\\BuildTools\\VC\\Tools\\MSVC\\14.36.32532\\bin\\HostX86\\x64\\link.exe /nologo /INCREMENTAL:NO /LTCG /DLL /MANIFEST:EMBED,ID=2 /MANIFESTUAC:NO /LIBPATH:C:\\Users\\TANAY\\anaconda3\\libs /LIBPATH:C:\\Users\\TANAY\\anaconda3 /LIBPATH:C:\\Users\\TANAY\\anaconda3\\PCbuild\\amd64 /LIBPATH:C:\\Program Files (x86)\\Microsoft Visual Studio\\2022\\BuildTools\\VC\\Tools\\MSVC\\14.36.32532\\lib\\x64 /LIBPATH:C:\\Program Files (x86)\\Windows Kits\\NETFXSDK\\4.8\\lib\\um\\x64 /LIBPATH:C:\\Program Files (x86)\\Windows Kits\\10\\lib\\10.0.22000.0\\ucrt\\x64 /LIBPATH:C:\\Program Files (x86)\\Windows Kits\\10\\\\lib\\10.0.22000.0\\\\um\\x64 /EXPORT:PyInit_cdtw build\\temp.win-amd64-cpython-310\\Release\\aeneas\\cdtw\\cdtw_func.obj build\\temp.win-amd64-cpython-310\\Release\\aeneas\\cdtw\\cdtw_py.obj build\\temp.win-amd64-cpython-310\\Release\\aeneas\\cint\\cint.obj /OUT:build\\lib.win-amd64-cpython-310\\aeneas\\cdtw\\cdtw.cp310-win_amd64.pyd /IMPLIB:build\\temp.win-amd64-cpython-310\\Release\\aeneas\\cdtw\\cdtw.cp310-win_amd64.lib\n",
      "  building 'aeneas.cmfcc.cmfcc' extension\n",
      "  creating build\\temp.win-amd64-cpython-310\\Release\\aeneas\\cmfcc\n",
      "  creating build\\temp.win-amd64-cpython-310\\Release\\aeneas\\cwave\n",
      "  INFO: C:\\Program Files (x86)\\Microsoft Visual Studio\\2022\\BuildTools\\VC\\Tools\\MSVC\\14.36.32532\\bin\\HostX86\\x64\\cl.exe /c /nologo /O2 /W3 /GL /DNDEBUG /MD -IC:\\Users\\TANAY\\anaconda3\\lib\\site-packages\\numpy\\core\\include -I['C:\\\\Users\\\\TANAY\\\\anaconda3\\\\lib\\\\site-packages\\\\numpy\\\\core\\\\include'] -IC:\\Users\\TANAY\\anaconda3\\include -IC:\\Users\\TANAY\\anaconda3\\Include -IC:\\Program Files (x86)\\Microsoft Visual Studio\\2022\\BuildTools\\VC\\Tools\\MSVC\\14.36.32532\\include -IC:\\Program Files (x86)\\Microsoft Visual Studio\\2022\\BuildTools\\VC\\Tools\\MSVC\\14.36.32532\\ATLMFC\\include -IC:\\Program Files (x86)\\Microsoft Visual Studio\\2022\\BuildTools\\VC\\Auxiliary\\VS\\include -IC:\\Program Files (x86)\\Windows Kits\\10\\include\\10.0.22000.0\\ucrt -IC:\\Program Files (x86)\\Windows Kits\\10\\\\include\\10.0.22000.0\\\\um -IC:\\Program Files (x86)\\Windows Kits\\10\\\\include\\10.0.22000.0\\\\shared -IC:\\Program Files (x86)\\Windows Kits\\10\\\\include\\10.0.22000.0\\\\winrt -IC:\\Program Files (x86)\\Windows Kits\\10\\\\include\\10.0.22000.0\\\\cppwinrt -IC:\\Program Files (x86)\\Windows Kits\\NETFXSDK\\4.8\\include\\um /Tcaeneas/cint/cint.c /Fobuild\\temp.win-amd64-cpython-310\\Release\\aeneas\\cint\\cint.obj\n",
      "  INFO: C:\\Program Files (x86)\\Microsoft Visual Studio\\2022\\BuildTools\\VC\\Tools\\MSVC\\14.36.32532\\bin\\HostX86\\x64\\cl.exe /c /nologo /O2 /W3 /GL /DNDEBUG /MD -IC:\\Users\\TANAY\\anaconda3\\lib\\site-packages\\numpy\\core\\include -I['C:\\\\Users\\\\TANAY\\\\anaconda3\\\\lib\\\\site-packages\\\\numpy\\\\core\\\\include'] -IC:\\Users\\TANAY\\anaconda3\\include -IC:\\Users\\TANAY\\anaconda3\\Include -IC:\\Program Files (x86)\\Microsoft Visual Studio\\2022\\BuildTools\\VC\\Tools\\MSVC\\14.36.32532\\include -IC:\\Program Files (x86)\\Microsoft Visual Studio\\2022\\BuildTools\\VC\\Tools\\MSVC\\14.36.32532\\ATLMFC\\include -IC:\\Program Files (x86)\\Microsoft Visual Studio\\2022\\BuildTools\\VC\\Auxiliary\\VS\\include -IC:\\Program Files (x86)\\Windows Kits\\10\\include\\10.0.22000.0\\ucrt -IC:\\Program Files (x86)\\Windows Kits\\10\\\\include\\10.0.22000.0\\\\um -IC:\\Program Files (x86)\\Windows Kits\\10\\\\include\\10.0.22000.0\\\\shared -IC:\\Program Files (x86)\\Windows Kits\\10\\\\include\\10.0.22000.0\\\\winrt -IC:\\Program Files (x86)\\Windows Kits\\10\\\\include\\10.0.22000.0\\\\cppwinrt -IC:\\Program Files (x86)\\Windows Kits\\NETFXSDK\\4.8\\include\\um /Tcaeneas/cmfcc/cmfcc_func.c /Fobuild\\temp.win-amd64-cpython-310\\Release\\aeneas\\cmfcc\\cmfcc_func.obj\n",
      "  INFO: C:\\Program Files (x86)\\Microsoft Visual Studio\\2022\\BuildTools\\VC\\Tools\\MSVC\\14.36.32532\\bin\\HostX86\\x64\\cl.exe /c /nologo /O2 /W3 /GL /DNDEBUG /MD -IC:\\Users\\TANAY\\anaconda3\\lib\\site-packages\\numpy\\core\\include -I['C:\\\\Users\\\\TANAY\\\\anaconda3\\\\lib\\\\site-packages\\\\numpy\\\\core\\\\include'] -IC:\\Users\\TANAY\\anaconda3\\include -IC:\\Users\\TANAY\\anaconda3\\Include -IC:\\Program Files (x86)\\Microsoft Visual Studio\\2022\\BuildTools\\VC\\Tools\\MSVC\\14.36.32532\\include -IC:\\Program Files (x86)\\Microsoft Visual Studio\\2022\\BuildTools\\VC\\Tools\\MSVC\\14.36.32532\\ATLMFC\\include -IC:\\Program Files (x86)\\Microsoft Visual Studio\\2022\\BuildTools\\VC\\Auxiliary\\VS\\include -IC:\\Program Files (x86)\\Windows Kits\\10\\include\\10.0.22000.0\\ucrt -IC:\\Program Files (x86)\\Windows Kits\\10\\\\include\\10.0.22000.0\\\\um -IC:\\Program Files (x86)\\Windows Kits\\10\\\\include\\10.0.22000.0\\\\shared -IC:\\Program Files (x86)\\Windows Kits\\10\\\\include\\10.0.22000.0\\\\winrt -IC:\\Program Files (x86)\\Windows Kits\\10\\\\include\\10.0.22000.0\\\\cppwinrt -IC:\\Program Files (x86)\\Windows Kits\\NETFXSDK\\4.8\\include\\um /Tcaeneas/cmfcc/cmfcc_py.c /Fobuild\\temp.win-amd64-cpython-310\\Release\\aeneas\\cmfcc\\cmfcc_py.obj\n",
      "  INFO: C:\\Program Files (x86)\\Microsoft Visual Studio\\2022\\BuildTools\\VC\\Tools\\MSVC\\14.36.32532\\bin\\HostX86\\x64\\cl.exe /c /nologo /O2 /W3 /GL /DNDEBUG /MD -IC:\\Users\\TANAY\\anaconda3\\lib\\site-packages\\numpy\\core\\include -I['C:\\\\Users\\\\TANAY\\\\anaconda3\\\\lib\\\\site-packages\\\\numpy\\\\core\\\\include'] -IC:\\Users\\TANAY\\anaconda3\\include -IC:\\Users\\TANAY\\anaconda3\\Include -IC:\\Program Files (x86)\\Microsoft Visual Studio\\2022\\BuildTools\\VC\\Tools\\MSVC\\14.36.32532\\include -IC:\\Program Files (x86)\\Microsoft Visual Studio\\2022\\BuildTools\\VC\\Tools\\MSVC\\14.36.32532\\ATLMFC\\include -IC:\\Program Files (x86)\\Microsoft Visual Studio\\2022\\BuildTools\\VC\\Auxiliary\\VS\\include -IC:\\Program Files (x86)\\Windows Kits\\10\\include\\10.0.22000.0\\ucrt -IC:\\Program Files (x86)\\Windows Kits\\10\\\\include\\10.0.22000.0\\\\um -IC:\\Program Files (x86)\\Windows Kits\\10\\\\include\\10.0.22000.0\\\\shared -IC:\\Program Files (x86)\\Windows Kits\\10\\\\include\\10.0.22000.0\\\\winrt -IC:\\Program Files (x86)\\Windows Kits\\10\\\\include\\10.0.22000.0\\\\cppwinrt -IC:\\Program Files (x86)\\Windows Kits\\NETFXSDK\\4.8\\include\\um /Tcaeneas/cwave/cwave_func.c /Fobuild\\temp.win-amd64-cpython-310\\Release\\aeneas\\cwave\\cwave_func.obj\n",
      "  INFO: C:\\Program Files (x86)\\Microsoft Visual Studio\\2022\\BuildTools\\VC\\Tools\\MSVC\\14.36.32532\\bin\\HostX86\\x64\\link.exe /nologo /INCREMENTAL:NO /LTCG /DLL /MANIFEST:EMBED,ID=2 /MANIFESTUAC:NO /LIBPATH:C:\\Users\\TANAY\\anaconda3\\libs /LIBPATH:C:\\Users\\TANAY\\anaconda3 /LIBPATH:C:\\Users\\TANAY\\anaconda3\\PCbuild\\amd64 /LIBPATH:C:\\Program Files (x86)\\Microsoft Visual Studio\\2022\\BuildTools\\VC\\Tools\\MSVC\\14.36.32532\\lib\\x64 /LIBPATH:C:\\Program Files (x86)\\Windows Kits\\NETFXSDK\\4.8\\lib\\um\\x64 /LIBPATH:C:\\Program Files (x86)\\Windows Kits\\10\\lib\\10.0.22000.0\\ucrt\\x64 /LIBPATH:C:\\Program Files (x86)\\Windows Kits\\10\\\\lib\\10.0.22000.0\\\\um\\x64 /EXPORT:PyInit_cmfcc build\\temp.win-amd64-cpython-310\\Release\\aeneas\\cint\\cint.obj build\\temp.win-amd64-cpython-310\\Release\\aeneas\\cmfcc\\cmfcc_func.obj build\\temp.win-amd64-cpython-310\\Release\\aeneas\\cmfcc\\cmfcc_py.obj build\\temp.win-amd64-cpython-310\\Release\\aeneas\\cwave\\cwave_func.obj /OUT:build\\lib.win-amd64-cpython-310\\aeneas\\cmfcc\\cmfcc.cp310-win_amd64.pyd /IMPLIB:build\\temp.win-amd64-cpython-310\\Release\\aeneas\\cint\\cmfcc.cp310-win_amd64.lib\n",
      "  building 'aeneas.cew.cew' extension\n",
      "  creating build\\temp.win-amd64-cpython-310\\Release\\aeneas\\cew\n",
      "  INFO: C:\\Program Files (x86)\\Microsoft Visual Studio\\2022\\BuildTools\\VC\\Tools\\MSVC\\14.36.32532\\bin\\HostX86\\x64\\cl.exe /c /nologo /O2 /W3 /GL /DNDEBUG /MD -I['C:\\\\Users\\\\TANAY\\\\anaconda3\\\\lib\\\\site-packages\\\\numpy\\\\core\\\\include'] -IC:\\Users\\TANAY\\anaconda3\\include -IC:\\Users\\TANAY\\anaconda3\\Include -IC:\\Program Files (x86)\\Microsoft Visual Studio\\2022\\BuildTools\\VC\\Tools\\MSVC\\14.36.32532\\include -IC:\\Program Files (x86)\\Microsoft Visual Studio\\2022\\BuildTools\\VC\\Tools\\MSVC\\14.36.32532\\ATLMFC\\include -IC:\\Program Files (x86)\\Microsoft Visual Studio\\2022\\BuildTools\\VC\\Auxiliary\\VS\\include -IC:\\Program Files (x86)\\Windows Kits\\10\\include\\10.0.22000.0\\ucrt -IC:\\Program Files (x86)\\Windows Kits\\10\\\\include\\10.0.22000.0\\\\um -IC:\\Program Files (x86)\\Windows Kits\\10\\\\include\\10.0.22000.0\\\\shared -IC:\\Program Files (x86)\\Windows Kits\\10\\\\include\\10.0.22000.0\\\\winrt -IC:\\Program Files (x86)\\Windows Kits\\10\\\\include\\10.0.22000.0\\\\cppwinrt -IC:\\Program Files (x86)\\Windows Kits\\NETFXSDK\\4.8\\include\\um /Tcaeneas/cew/cew_func.c /Fobuild\\temp.win-amd64-cpython-310\\Release\\aeneas\\cew\\cew_func.obj\n",
      "  INFO: C:\\Program Files (x86)\\Microsoft Visual Studio\\2022\\BuildTools\\VC\\Tools\\MSVC\\14.36.32532\\bin\\HostX86\\x64\\cl.exe /c /nologo /O2 /W3 /GL /DNDEBUG /MD -I['C:\\\\Users\\\\TANAY\\\\anaconda3\\\\lib\\\\site-packages\\\\numpy\\\\core\\\\include'] -IC:\\Users\\TANAY\\anaconda3\\include -IC:\\Users\\TANAY\\anaconda3\\Include -IC:\\Program Files (x86)\\Microsoft Visual Studio\\2022\\BuildTools\\VC\\Tools\\MSVC\\14.36.32532\\include -IC:\\Program Files (x86)\\Microsoft Visual Studio\\2022\\BuildTools\\VC\\Tools\\MSVC\\14.36.32532\\ATLMFC\\include -IC:\\Program Files (x86)\\Microsoft Visual Studio\\2022\\BuildTools\\VC\\Auxiliary\\VS\\include -IC:\\Program Files (x86)\\Windows Kits\\10\\include\\10.0.22000.0\\ucrt -IC:\\Program Files (x86)\\Windows Kits\\10\\\\include\\10.0.22000.0\\\\um -IC:\\Program Files (x86)\\Windows Kits\\10\\\\include\\10.0.22000.0\\\\shared -IC:\\Program Files (x86)\\Windows Kits\\10\\\\include\\10.0.22000.0\\\\winrt -IC:\\Program Files (x86)\\Windows Kits\\10\\\\include\\10.0.22000.0\\\\cppwinrt -IC:\\Program Files (x86)\\Windows Kits\\NETFXSDK\\4.8\\include\\um /Tcaeneas/cew/cew_py.c /Fobuild\\temp.win-amd64-cpython-310\\Release\\aeneas\\cew\\cew_py.obj\n",
      "  INFO: C:\\Program Files (x86)\\Microsoft Visual Studio\\2022\\BuildTools\\VC\\Tools\\MSVC\\14.36.32532\\bin\\HostX86\\x64\\link.exe /nologo /INCREMENTAL:NO /LTCG /DLL /MANIFEST:EMBED,ID=2 /MANIFESTUAC:NO /LIBPATH:C:\\Users\\TANAY\\anaconda3\\libs /LIBPATH:C:\\Users\\TANAY\\anaconda3 /LIBPATH:C:\\Users\\TANAY\\anaconda3\\PCbuild\\amd64 /LIBPATH:C:\\Program Files (x86)\\Microsoft Visual Studio\\2022\\BuildTools\\VC\\Tools\\MSVC\\14.36.32532\\lib\\x64 /LIBPATH:C:\\Program Files (x86)\\Windows Kits\\NETFXSDK\\4.8\\lib\\um\\x64 /LIBPATH:C:\\Program Files (x86)\\Windows Kits\\10\\lib\\10.0.22000.0\\ucrt\\x64 /LIBPATH:C:\\Program Files (x86)\\Windows Kits\\10\\\\lib\\10.0.22000.0\\\\um\\x64 espeak.lib /EXPORT:PyInit_cew build\\temp.win-amd64-cpython-310\\Release\\aeneas\\cew\\cew_func.obj build\\temp.win-amd64-cpython-310\\Release\\aeneas\\cew\\cew_py.obj /OUT:build\\lib.win-amd64-cpython-310\\aeneas\\cew\\cew.cp310-win_amd64.pyd /IMPLIB:build\\temp.win-amd64-cpython-310\\Release\\aeneas\\cew\\cew.cp310-win_amd64.lib\n",
      "     Creating library build\\temp.win-amd64-cpython-310\\Release\\aeneas\\cew\\cew.cp310-win_amd64.lib and object build\\temp.win-amd64-cpython-310\\Release\\aeneas\\cew\\cew.cp310-win_amd64.exp\n",
      "  cew_func.obj : error LNK2001: unresolved external symbol espeak_Synth\n",
      "  cew_func.obj : error LNK2001: unresolved external symbol espeak_SetSynthCallback\n",
      "  cew_func.obj : error LNK2001: unresolved external symbol espeak_SetVoiceByProperties\n",
      "  cew_func.obj : error LNK2001: unresolved external symbol espeak_Initialize\n",
      "  cew_func.obj : error LNK2001: unresolved external symbol espeak_Synchronize\n",
      "  cew_func.obj : error LNK2001: unresolved external symbol espeak_Terminate\n",
      "  build\\lib.win-amd64-cpython-310\\aeneas\\cew\\cew.cp310-win_amd64.pyd : fatal error LNK1120: 6 unresolved externals\n",
      "  error: Command \"C:\\Program Files (x86)\\Microsoft Visual Studio\\2022\\BuildTools\\VC\\Tools\\MSVC\\14.36.32532\\bin\\HostX86\\x64\\link.exe /nologo /INCREMENTAL:NO /LTCG /DLL /MANIFEST:EMBED,ID=2 /MANIFESTUAC:NO /LIBPATH:C:\\Users\\TANAY\\anaconda3\\libs /LIBPATH:C:\\Users\\TANAY\\anaconda3 /LIBPATH:C:\\Users\\TANAY\\anaconda3\\PCbuild\\amd64 /LIBPATH:C:\\Program Files (x86)\\Microsoft Visual Studio\\2022\\BuildTools\\VC\\Tools\\MSVC\\14.36.32532\\lib\\x64 /LIBPATH:C:\\Program Files (x86)\\Windows Kits\\NETFXSDK\\4.8\\lib\\um\\x64 /LIBPATH:C:\\Program Files (x86)\\Windows Kits\\10\\lib\\10.0.22000.0\\ucrt\\x64 /LIBPATH:C:\\Program Files (x86)\\Windows Kits\\10\\\\lib\\10.0.22000.0\\\\um\\x64 espeak.lib /EXPORT:PyInit_cew build\\temp.win-amd64-cpython-310\\Release\\aeneas\\cew\\cew_func.obj build\\temp.win-amd64-cpython-310\\Release\\aeneas\\cew\\cew_py.obj /OUT:build\\lib.win-amd64-cpython-310\\aeneas\\cew\\cew.cp310-win_amd64.pyd /IMPLIB:build\\temp.win-amd64-cpython-310\\Release\\aeneas\\cew\\cew.cp310-win_amd64.lib\" failed with exit status 1120\n",
      "  [end of output]\n",
      "  \n",
      "  note: This error originates from a subprocess, and is likely not a problem with pip.\n",
      "  ERROR: Failed building wheel for aeneas\n",
      "WARNING: Ignoring invalid distribution -atplotlib (c:\\users\\tanay\\anaconda3\\lib\\site-packages)\n",
      "  error: subprocess-exited-with-error\n",
      "  \n",
      "  Running setup.py install for aeneas did not run successfully.\n",
      "  exit code: 1\n",
      "  \n",
      "  [221 lines of output]\n",
      "  C:\\Users\\TANAY\\AppData\\Local\\Temp\\pip-install-pukzbdo3\\aeneas_dd53e9759b0740499e4a6afc3f90b8b4\\setup.py:190: DeprecationWarning:\n",
      "  \n",
      "    `numpy.distutils` is deprecated since NumPy 1.23.0, as a result\n",
      "    of the deprecation of `distutils` itself. It will be removed for\n",
      "    Python >= 3.12. For older Python versions it will remain present.\n",
      "    It is recommended to use `setuptools < 60.0` for those Python versions.\n",
      "    For more details, see:\n",
      "      https://numpy.org/devdocs/reference/distutils_status_migration.html\n",
      "  \n",
      "  \n",
      "    from numpy.distutils import misc_util\n",
      "  [INFO] *****************************************************************\n",
      "  [INFO] Compiling the C extension cew on Windows is experimental.\n",
      "  [INFO]\n",
      "  [INFO] If you experience problems, disable cew compilation by specifying\n",
      "  [INFO] the environment variable AENEAS_WITH_CEW=False .\n",
      "  [INFO] Please see the aeneas installation documentation for details.\n",
      "  [INFO] *****************************************************************\n",
      "  [INFO]\n",
      "  [WARN] Unable to find the eSpeak DLL, probably because you installed eSpeak in a non-standard location.\n",
      "  [WARN] If you want to run aeneas with the C extension cew,\n",
      "  [WARN] please copy espeak_sapi.dll from your eSpeak directory to C:\\Windows\\System32\\espeak.dll\n",
      "  [INFO] Found eSpeak LIB in C:\\Users\\TANAY\\AppData\\Local\\Temp\\pip-install-pukzbdo3\\aeneas_dd53e9759b0740499e4a6afc3f90b8b4\\espeak.lib\n",
      "  running install\n",
      "  C:\\Users\\TANAY\\anaconda3\\lib\\site-packages\\setuptools\\command\\install.py:34: SetuptoolsDeprecationWarning: setup.py install is deprecated. Use build and pip and other standards-based tools.\n",
      "    warnings.warn(\n",
      "  running build\n",
      "  running build_py\n",
      "  creating build\n",
      "  creating build\\lib.win-amd64-cpython-310\n",
      "  creating build\\lib.win-amd64-cpython-310\\aeneas\n",
      "  copying aeneas\\adjustboundaryalgorithm.py -> build\\lib.win-amd64-cpython-310\\aeneas\n",
      "  copying aeneas\\analyzecontainer.py -> build\\lib.win-amd64-cpython-310\\aeneas\n",
      "  copying aeneas\\audiofile.py -> build\\lib.win-amd64-cpython-310\\aeneas\n",
      "  copying aeneas\\audiofilemfcc.py -> build\\lib.win-amd64-cpython-310\\aeneas\n",
      "  copying aeneas\\cewsubprocess.py -> build\\lib.win-amd64-cpython-310\\aeneas\n",
      "  copying aeneas\\configuration.py -> build\\lib.win-amd64-cpython-310\\aeneas\n",
      "  copying aeneas\\container.py -> build\\lib.win-amd64-cpython-310\\aeneas\n",
      "  copying aeneas\\diagnostics.py -> build\\lib.win-amd64-cpython-310\\aeneas\n",
      "  copying aeneas\\downloader.py -> build\\lib.win-amd64-cpython-310\\aeneas\n",
      "  copying aeneas\\dtw.py -> build\\lib.win-amd64-cpython-310\\aeneas\n",
      "  copying aeneas\\exacttiming.py -> build\\lib.win-amd64-cpython-310\\aeneas\n",
      "  copying aeneas\\executejob.py -> build\\lib.win-amd64-cpython-310\\aeneas\n",
      "  copying aeneas\\executetask.py -> build\\lib.win-amd64-cpython-310\\aeneas\n",
      "  copying aeneas\\ffmpegwrapper.py -> build\\lib.win-amd64-cpython-310\\aeneas\n",
      "  copying aeneas\\ffprobewrapper.py -> build\\lib.win-amd64-cpython-310\\aeneas\n",
      "  copying aeneas\\globalconstants.py -> build\\lib.win-amd64-cpython-310\\aeneas\n",
      "  copying aeneas\\globalfunctions.py -> build\\lib.win-amd64-cpython-310\\aeneas\n",
      "  copying aeneas\\hierarchytype.py -> build\\lib.win-amd64-cpython-310\\aeneas\n",
      "  copying aeneas\\idsortingalgorithm.py -> build\\lib.win-amd64-cpython-310\\aeneas\n",
      "  copying aeneas\\job.py -> build\\lib.win-amd64-cpython-310\\aeneas\n",
      "  copying aeneas\\language.py -> build\\lib.win-amd64-cpython-310\\aeneas\n",
      "  copying aeneas\\logger.py -> build\\lib.win-amd64-cpython-310\\aeneas\n",
      "  copying aeneas\\mfcc.py -> build\\lib.win-amd64-cpython-310\\aeneas\n",
      "  copying aeneas\\plotter.py -> build\\lib.win-amd64-cpython-310\\aeneas\n",
      "  copying aeneas\\runtimeconfiguration.py -> build\\lib.win-amd64-cpython-310\\aeneas\n",
      "  copying aeneas\\sd.py -> build\\lib.win-amd64-cpython-310\\aeneas\n",
      "  copying aeneas\\synthesizer.py -> build\\lib.win-amd64-cpython-310\\aeneas\n",
      "  copying aeneas\\task.py -> build\\lib.win-amd64-cpython-310\\aeneas\n",
      "  copying aeneas\\textfile.py -> build\\lib.win-amd64-cpython-310\\aeneas\n",
      "  copying aeneas\\tree.py -> build\\lib.win-amd64-cpython-310\\aeneas\n",
      "  copying aeneas\\vad.py -> build\\lib.win-amd64-cpython-310\\aeneas\n",
      "  copying aeneas\\validator.py -> build\\lib.win-amd64-cpython-310\\aeneas\n",
      "  copying aeneas\\wavfile.py -> build\\lib.win-amd64-cpython-310\\aeneas\n",
      "  copying aeneas\\__init__.py -> build\\lib.win-amd64-cpython-310\\aeneas\n",
      "  creating build\\lib.win-amd64-cpython-310\\aeneas\\cdtw\n",
      "  copying aeneas\\cdtw\\cdtw_setup.py -> build\\lib.win-amd64-cpython-310\\aeneas\\cdtw\n",
      "  copying aeneas\\cdtw\\__init__.py -> build\\lib.win-amd64-cpython-310\\aeneas\\cdtw\n",
      "  creating build\\lib.win-amd64-cpython-310\\aeneas\\cew\n",
      "  copying aeneas\\cew\\cew_setup.py -> build\\lib.win-amd64-cpython-310\\aeneas\\cew\n",
      "  copying aeneas\\cew\\__init__.py -> build\\lib.win-amd64-cpython-310\\aeneas\\cew\n",
      "  creating build\\lib.win-amd64-cpython-310\\aeneas\\cfw\n",
      "  copying aeneas\\cfw\\cfw_setup.py -> build\\lib.win-amd64-cpython-310\\aeneas\\cfw\n",
      "  copying aeneas\\cfw\\__init__.py -> build\\lib.win-amd64-cpython-310\\aeneas\\cfw\n",
      "  creating build\\lib.win-amd64-cpython-310\\aeneas\\cmfcc\n",
      "  copying aeneas\\cmfcc\\cmfcc_setup.py -> build\\lib.win-amd64-cpython-310\\aeneas\\cmfcc\n",
      "  copying aeneas\\cmfcc\\__init__.py -> build\\lib.win-amd64-cpython-310\\aeneas\\cmfcc\n",
      "  creating build\\lib.win-amd64-cpython-310\\aeneas\\cwave\n",
      "  copying aeneas\\cwave\\cwave_setup.py -> build\\lib.win-amd64-cpython-310\\aeneas\\cwave\n",
      "  copying aeneas\\cwave\\__init__.py -> build\\lib.win-amd64-cpython-310\\aeneas\\cwave\n",
      "  creating build\\lib.win-amd64-cpython-310\\aeneas\\extra\n",
      "  copying aeneas\\extra\\ctw_espeak.py -> build\\lib.win-amd64-cpython-310\\aeneas\\extra\n",
      "  copying aeneas\\extra\\ctw_speect.py -> build\\lib.win-amd64-cpython-310\\aeneas\\extra\n",
      "  copying aeneas\\extra\\__init__.py -> build\\lib.win-amd64-cpython-310\\aeneas\\extra\n",
      "  creating build\\lib.win-amd64-cpython-310\\aeneas\\syncmap\n",
      "  copying aeneas\\syncmap\\format.py -> build\\lib.win-amd64-cpython-310\\aeneas\\syncmap\n",
      "  copying aeneas\\syncmap\\fragment.py -> build\\lib.win-amd64-cpython-310\\aeneas\\syncmap\n",
      "  copying aeneas\\syncmap\\fragmentlist.py -> build\\lib.win-amd64-cpython-310\\aeneas\\syncmap\n",
      "  copying aeneas\\syncmap\\headtailformat.py -> build\\lib.win-amd64-cpython-310\\aeneas\\syncmap\n",
      "  copying aeneas\\syncmap\\missingparametererror.py -> build\\lib.win-amd64-cpython-310\\aeneas\\syncmap\n",
      "  copying aeneas\\syncmap\\smfaudacity.py -> build\\lib.win-amd64-cpython-310\\aeneas\\syncmap\n",
      "  copying aeneas\\syncmap\\smfbase.py -> build\\lib.win-amd64-cpython-310\\aeneas\\syncmap\n",
      "  copying aeneas\\syncmap\\smfcsv.py -> build\\lib.win-amd64-cpython-310\\aeneas\\syncmap\n",
      "  copying aeneas\\syncmap\\smfeaf.py -> build\\lib.win-amd64-cpython-310\\aeneas\\syncmap\n",
      "  copying aeneas\\syncmap\\smfgsubtitles.py -> build\\lib.win-amd64-cpython-310\\aeneas\\syncmap\n",
      "  copying aeneas\\syncmap\\smfgtabular.py -> build\\lib.win-amd64-cpython-310\\aeneas\\syncmap\n",
      "  copying aeneas\\syncmap\\smfgxml.py -> build\\lib.win-amd64-cpython-310\\aeneas\\syncmap\n",
      "  copying aeneas\\syncmap\\smfjson.py -> build\\lib.win-amd64-cpython-310\\aeneas\\syncmap\n",
      "  copying aeneas\\syncmap\\smfrbse.py -> build\\lib.win-amd64-cpython-310\\aeneas\\syncmap\n",
      "  copying aeneas\\syncmap\\smfsmil.py -> build\\lib.win-amd64-cpython-310\\aeneas\\syncmap\n",
      "  copying aeneas\\syncmap\\smfsrt.py -> build\\lib.win-amd64-cpython-310\\aeneas\\syncmap\n",
      "  copying aeneas\\syncmap\\smfssv.py -> build\\lib.win-amd64-cpython-310\\aeneas\\syncmap\n",
      "  copying aeneas\\syncmap\\smfsub.py -> build\\lib.win-amd64-cpython-310\\aeneas\\syncmap\n",
      "  copying aeneas\\syncmap\\smftextgrid.py -> build\\lib.win-amd64-cpython-310\\aeneas\\syncmap\n",
      "  copying aeneas\\syncmap\\smftsv.py -> build\\lib.win-amd64-cpython-310\\aeneas\\syncmap\n",
      "  copying aeneas\\syncmap\\smfttml.py -> build\\lib.win-amd64-cpython-310\\aeneas\\syncmap\n",
      "  copying aeneas\\syncmap\\smftxt.py -> build\\lib.win-amd64-cpython-310\\aeneas\\syncmap\n",
      "  copying aeneas\\syncmap\\smfvtt.py -> build\\lib.win-amd64-cpython-310\\aeneas\\syncmap\n",
      "  copying aeneas\\syncmap\\smfxml.py -> build\\lib.win-amd64-cpython-310\\aeneas\\syncmap\n",
      "  copying aeneas\\syncmap\\smfxmllegacy.py -> build\\lib.win-amd64-cpython-310\\aeneas\\syncmap\n",
      "  copying aeneas\\syncmap\\__init__.py -> build\\lib.win-amd64-cpython-310\\aeneas\\syncmap\n",
      "  creating build\\lib.win-amd64-cpython-310\\aeneas\\tools\n",
      "  copying aeneas\\tools\\abstract_cli_program.py -> build\\lib.win-amd64-cpython-310\\aeneas\\tools\n",
      "  copying aeneas\\tools\\convert_syncmap.py -> build\\lib.win-amd64-cpython-310\\aeneas\\tools\n",
      "  copying aeneas\\tools\\download.py -> build\\lib.win-amd64-cpython-310\\aeneas\\tools\n",
      "  copying aeneas\\tools\\execute_job.py -> build\\lib.win-amd64-cpython-310\\aeneas\\tools\n",
      "  copying aeneas\\tools\\execute_task.py -> build\\lib.win-amd64-cpython-310\\aeneas\\tools\n",
      "  copying aeneas\\tools\\extract_mfcc.py -> build\\lib.win-amd64-cpython-310\\aeneas\\tools\n",
      "  copying aeneas\\tools\\ffmpeg_wrapper.py -> build\\lib.win-amd64-cpython-310\\aeneas\\tools\n",
      "  copying aeneas\\tools\\ffprobe_wrapper.py -> build\\lib.win-amd64-cpython-310\\aeneas\\tools\n",
      "  copying aeneas\\tools\\hydra.py -> build\\lib.win-amd64-cpython-310\\aeneas\\tools\n",
      "  copying aeneas\\tools\\plot_waveform.py -> build\\lib.win-amd64-cpython-310\\aeneas\\tools\n",
      "  copying aeneas\\tools\\read_audio.py -> build\\lib.win-amd64-cpython-310\\aeneas\\tools\n",
      "  copying aeneas\\tools\\read_text.py -> build\\lib.win-amd64-cpython-310\\aeneas\\tools\n",
      "  copying aeneas\\tools\\run_sd.py -> build\\lib.win-amd64-cpython-310\\aeneas\\tools\n",
      "  copying aeneas\\tools\\run_vad.py -> build\\lib.win-amd64-cpython-310\\aeneas\\tools\n",
      "  copying aeneas\\tools\\synthesize_text.py -> build\\lib.win-amd64-cpython-310\\aeneas\\tools\n",
      "  copying aeneas\\tools\\validate.py -> build\\lib.win-amd64-cpython-310\\aeneas\\tools\n",
      "  copying aeneas\\tools\\__init__.py -> build\\lib.win-amd64-cpython-310\\aeneas\\tools\n",
      "  creating build\\lib.win-amd64-cpython-310\\aeneas\\ttswrappers\n",
      "  copying aeneas\\ttswrappers\\awsttswrapper.py -> build\\lib.win-amd64-cpython-310\\aeneas\\ttswrappers\n",
      "  copying aeneas\\ttswrappers\\basettswrapper.py -> build\\lib.win-amd64-cpython-310\\aeneas\\ttswrappers\n",
      "  copying aeneas\\ttswrappers\\espeakngttswrapper.py -> build\\lib.win-amd64-cpython-310\\aeneas\\ttswrappers\n",
      "  copying aeneas\\ttswrappers\\espeakttswrapper.py -> build\\lib.win-amd64-cpython-310\\aeneas\\ttswrappers\n",
      "  copying aeneas\\ttswrappers\\festivalttswrapper.py -> build\\lib.win-amd64-cpython-310\\aeneas\\ttswrappers\n",
      "  copying aeneas\\ttswrappers\\macosttswrapper.py -> build\\lib.win-amd64-cpython-310\\aeneas\\ttswrappers\n",
      "  copying aeneas\\ttswrappers\\nuancettswrapper.py -> build\\lib.win-amd64-cpython-310\\aeneas\\ttswrappers\n",
      "  copying aeneas\\ttswrappers\\__init__.py -> build\\lib.win-amd64-cpython-310\\aeneas\\ttswrappers\n",
      "  creating build\\lib.win-amd64-cpython-310\\aeneas\\res\n",
      "  copying aeneas\\res\\finetuneas.html -> build\\lib.win-amd64-cpython-310\\aeneas\\res\n",
      "  copying aeneas\\res\\LiberationMono-Regular.ttf -> build\\lib.win-amd64-cpython-310\\aeneas\\res\n",
      "  copying aeneas\\res\\__init__.py -> build\\lib.win-amd64-cpython-310\\aeneas\\res\n",
      "  copying aeneas\\README.md -> build\\lib.win-amd64-cpython-310\\aeneas\n",
      "  copying aeneas\\cdtw\\cdtw_driver.c -> build\\lib.win-amd64-cpython-310\\aeneas\\cdtw\n",
      "  copying aeneas\\cdtw\\cdtw_func.c -> build\\lib.win-amd64-cpython-310\\aeneas\\cdtw\n",
      "  copying aeneas\\cdtw\\cdtw_py.c -> build\\lib.win-amd64-cpython-310\\aeneas\\cdtw\n",
      "  copying aeneas\\cdtw\\cdtw_func.h -> build\\lib.win-amd64-cpython-310\\aeneas\\cdtw\n",
      "  copying aeneas\\cdtw\\README.md -> build\\lib.win-amd64-cpython-310\\aeneas\\cdtw\n",
      "  copying aeneas\\cew\\cew_func.h -> build\\lib.win-amd64-cpython-310\\aeneas\\cew\n",
      "  copying aeneas\\cew\\speak_lib.h -> build\\lib.win-amd64-cpython-310\\aeneas\\cew\n",
      "  copying aeneas\\cew\\README.md -> build\\lib.win-amd64-cpython-310\\aeneas\\cew\n",
      "  copying aeneas\\cmfcc\\cmfcc_driver.c -> build\\lib.win-amd64-cpython-310\\aeneas\\cmfcc\n",
      "  copying aeneas\\cmfcc\\cmfcc_func.c -> build\\lib.win-amd64-cpython-310\\aeneas\\cmfcc\n",
      "  copying aeneas\\cmfcc\\cmfcc_py.c -> build\\lib.win-amd64-cpython-310\\aeneas\\cmfcc\n",
      "  copying aeneas\\cmfcc\\cmfcc_func.h -> build\\lib.win-amd64-cpython-310\\aeneas\\cmfcc\n",
      "  copying aeneas\\cmfcc\\README.md -> build\\lib.win-amd64-cpython-310\\aeneas\\cmfcc\n",
      "  copying aeneas\\cwave\\cwave_driver.c -> build\\lib.win-amd64-cpython-310\\aeneas\\cwave\n",
      "  copying aeneas\\cwave\\cwave_func.c -> build\\lib.win-amd64-cpython-310\\aeneas\\cwave\n",
      "  copying aeneas\\cwave\\cwave_py.c -> build\\lib.win-amd64-cpython-310\\aeneas\\cwave\n",
      "  copying aeneas\\cwave\\cwave_func.h -> build\\lib.win-amd64-cpython-310\\aeneas\\cwave\n",
      "  copying aeneas\\cwave\\README.md -> build\\lib.win-amd64-cpython-310\\aeneas\\cwave\n",
      "  copying aeneas\\extra\\README.md -> build\\lib.win-amd64-cpython-310\\aeneas\\extra\n",
      "  creating build\\lib.win-amd64-cpython-310\\aeneas\\tools\\res\n",
      "  copying aeneas\\tools\\res\\audio.mp3 -> build\\lib.win-amd64-cpython-310\\aeneas\\tools\\res\n",
      "  copying aeneas\\tools\\res\\audio.wav -> build\\lib.win-amd64-cpython-310\\aeneas\\tools\\res\n",
      "  copying aeneas\\tools\\res\\config.bad.txt -> build\\lib.win-amd64-cpython-310\\aeneas\\tools\\res\n",
      "  copying aeneas\\tools\\res\\config.bad.xml -> build\\lib.win-amd64-cpython-310\\aeneas\\tools\\res\n",
      "  copying aeneas\\tools\\res\\config.txt -> build\\lib.win-amd64-cpython-310\\aeneas\\tools\\res\n",
      "  copying aeneas\\tools\\res\\config.xml -> build\\lib.win-amd64-cpython-310\\aeneas\\tools\\res\n",
      "  copying aeneas\\tools\\res\\job.bad.zip -> build\\lib.win-amd64-cpython-310\\aeneas\\tools\\res\n",
      "  copying aeneas\\tools\\res\\job.zip -> build\\lib.win-amd64-cpython-310\\aeneas\\tools\\res\n",
      "  copying aeneas\\tools\\res\\job_no_config.zip -> build\\lib.win-amd64-cpython-310\\aeneas\\tools\\res\n",
      "  copying aeneas\\tools\\res\\mplain.txt -> build\\lib.win-amd64-cpython-310\\aeneas\\tools\\res\n",
      "  copying aeneas\\tools\\res\\munparsed.xhtml -> build\\lib.win-amd64-cpython-310\\aeneas\\tools\\res\n",
      "  copying aeneas\\tools\\res\\munparsed2.xhtml -> build\\lib.win-amd64-cpython-310\\aeneas\\tools\\res\n",
      "  copying aeneas\\tools\\res\\page.xhtml -> build\\lib.win-amd64-cpython-310\\aeneas\\tools\\res\n",
      "  copying aeneas\\tools\\res\\parsed.txt -> build\\lib.win-amd64-cpython-310\\aeneas\\tools\\res\n",
      "  copying aeneas\\tools\\res\\plain.txt -> build\\lib.win-amd64-cpython-310\\aeneas\\tools\\res\n",
      "  copying aeneas\\tools\\res\\sonnet.csv -> build\\lib.win-amd64-cpython-310\\aeneas\\tools\\res\n",
      "  copying aeneas\\tools\\res\\sonnet.json -> build\\lib.win-amd64-cpython-310\\aeneas\\tools\\res\n",
      "  copying aeneas\\tools\\res\\sonnet.vad -> build\\lib.win-amd64-cpython-310\\aeneas\\tools\\res\n",
      "  copying aeneas\\tools\\res\\sonnet.zzz -> build\\lib.win-amd64-cpython-310\\aeneas\\tools\\res\n",
      "  copying aeneas\\tools\\res\\subtitles.txt -> build\\lib.win-amd64-cpython-310\\aeneas\\tools\\res\n",
      "  copying aeneas\\tools\\res\\unparsed.xhtml -> build\\lib.win-amd64-cpython-310\\aeneas\\tools\\res\n",
      "  copying aeneas\\tools\\res\\words.txt -> build\\lib.win-amd64-cpython-310\\aeneas\\tools\\res\n",
      "  copying aeneas\\tools\\README.md -> build\\lib.win-amd64-cpython-310\\aeneas\\tools\n",
      "  copying aeneas\\ttswrappers\\README.md -> build\\lib.win-amd64-cpython-310\\aeneas\\ttswrappers\n",
      "  running build_ext\n",
      "  INFO: No module named 'numpy.distutils._msvccompiler' in numpy.distutils; trying from distutils\n",
      "  building 'aeneas.cdtw.cdtw' extension\n",
      "  creating build\\temp.win-amd64-cpython-310\n",
      "  creating build\\temp.win-amd64-cpython-310\\Release\n",
      "  creating build\\temp.win-amd64-cpython-310\\Release\\aeneas\n",
      "  creating build\\temp.win-amd64-cpython-310\\Release\\aeneas\\cdtw\n",
      "  creating build\\temp.win-amd64-cpython-310\\Release\\aeneas\\cint\n",
      "  INFO: C:\\Program Files (x86)\\Microsoft Visual Studio\\2022\\BuildTools\\VC\\Tools\\MSVC\\14.36.32532\\bin\\HostX86\\x64\\cl.exe /c /nologo /O2 /W3 /GL /DNDEBUG /MD -IC:\\Users\\TANAY\\anaconda3\\lib\\site-packages\\numpy\\core\\include -I['C:\\\\Users\\\\TANAY\\\\anaconda3\\\\lib\\\\site-packages\\\\numpy\\\\core\\\\include'] -IC:\\Users\\TANAY\\anaconda3\\include -IC:\\Users\\TANAY\\anaconda3\\Include -IC:\\Program Files (x86)\\Microsoft Visual Studio\\2022\\BuildTools\\VC\\Tools\\MSVC\\14.36.32532\\include -IC:\\Program Files (x86)\\Microsoft Visual Studio\\2022\\BuildTools\\VC\\Tools\\MSVC\\14.36.32532\\ATLMFC\\include -IC:\\Program Files (x86)\\Microsoft Visual Studio\\2022\\BuildTools\\VC\\Auxiliary\\VS\\include -IC:\\Program Files (x86)\\Windows Kits\\10\\include\\10.0.22000.0\\ucrt -IC:\\Program Files (x86)\\Windows Kits\\10\\\\include\\10.0.22000.0\\\\um -IC:\\Program Files (x86)\\Windows Kits\\10\\\\include\\10.0.22000.0\\\\shared -IC:\\Program Files (x86)\\Windows Kits\\10\\\\include\\10.0.22000.0\\\\winrt -IC:\\Program Files (x86)\\Windows Kits\\10\\\\include\\10.0.22000.0\\\\cppwinrt -IC:\\Program Files (x86)\\Windows Kits\\NETFXSDK\\4.8\\include\\um /Tcaeneas/cdtw/cdtw_func.c /Fobuild\\temp.win-amd64-cpython-310\\Release\\aeneas\\cdtw\\cdtw_func.obj\n",
      "  INFO: C:\\Program Files (x86)\\Microsoft Visual Studio\\2022\\BuildTools\\VC\\Tools\\MSVC\\14.36.32532\\bin\\HostX86\\x64\\cl.exe /c /nologo /O2 /W3 /GL /DNDEBUG /MD -IC:\\Users\\TANAY\\anaconda3\\lib\\site-packages\\numpy\\core\\include -I['C:\\\\Users\\\\TANAY\\\\anaconda3\\\\lib\\\\site-packages\\\\numpy\\\\core\\\\include'] -IC:\\Users\\TANAY\\anaconda3\\include -IC:\\Users\\TANAY\\anaconda3\\Include -IC:\\Program Files (x86)\\Microsoft Visual Studio\\2022\\BuildTools\\VC\\Tools\\MSVC\\14.36.32532\\include -IC:\\Program Files (x86)\\Microsoft Visual Studio\\2022\\BuildTools\\VC\\Tools\\MSVC\\14.36.32532\\ATLMFC\\include -IC:\\Program Files (x86)\\Microsoft Visual Studio\\2022\\BuildTools\\VC\\Auxiliary\\VS\\include -IC:\\Program Files (x86)\\Windows Kits\\10\\include\\10.0.22000.0\\ucrt -IC:\\Program Files (x86)\\Windows Kits\\10\\\\include\\10.0.22000.0\\\\um -IC:\\Program Files (x86)\\Windows Kits\\10\\\\include\\10.0.22000.0\\\\shared -IC:\\Program Files (x86)\\Windows Kits\\10\\\\include\\10.0.22000.0\\\\winrt -IC:\\Program Files (x86)\\Windows Kits\\10\\\\include\\10.0.22000.0\\\\cppwinrt -IC:\\Program Files (x86)\\Windows Kits\\NETFXSDK\\4.8\\include\\um /Tcaeneas/cdtw/cdtw_py.c /Fobuild\\temp.win-amd64-cpython-310\\Release\\aeneas\\cdtw\\cdtw_py.obj\n",
      "  INFO: C:\\Program Files (x86)\\Microsoft Visual Studio\\2022\\BuildTools\\VC\\Tools\\MSVC\\14.36.32532\\bin\\HostX86\\x64\\cl.exe /c /nologo /O2 /W3 /GL /DNDEBUG /MD -IC:\\Users\\TANAY\\anaconda3\\lib\\site-packages\\numpy\\core\\include -I['C:\\\\Users\\\\TANAY\\\\anaconda3\\\\lib\\\\site-packages\\\\numpy\\\\core\\\\include'] -IC:\\Users\\TANAY\\anaconda3\\include -IC:\\Users\\TANAY\\anaconda3\\Include -IC:\\Program Files (x86)\\Microsoft Visual Studio\\2022\\BuildTools\\VC\\Tools\\MSVC\\14.36.32532\\include -IC:\\Program Files (x86)\\Microsoft Visual Studio\\2022\\BuildTools\\VC\\Tools\\MSVC\\14.36.32532\\ATLMFC\\include -IC:\\Program Files (x86)\\Microsoft Visual Studio\\2022\\BuildTools\\VC\\Auxiliary\\VS\\include -IC:\\Program Files (x86)\\Windows Kits\\10\\include\\10.0.22000.0\\ucrt -IC:\\Program Files (x86)\\Windows Kits\\10\\\\include\\10.0.22000.0\\\\um -IC:\\Program Files (x86)\\Windows Kits\\10\\\\include\\10.0.22000.0\\\\shared -IC:\\Program Files (x86)\\Windows Kits\\10\\\\include\\10.0.22000.0\\\\winrt -IC:\\Program Files (x86)\\Windows Kits\\10\\\\include\\10.0.22000.0\\\\cppwinrt -IC:\\Program Files (x86)\\Windows Kits\\NETFXSDK\\4.8\\include\\um /Tcaeneas/cint/cint.c /Fobuild\\temp.win-amd64-cpython-310\\Release\\aeneas\\cint\\cint.obj\n",
      "  INFO: C:\\Program Files (x86)\\Microsoft Visual Studio\\2022\\BuildTools\\VC\\Tools\\MSVC\\14.36.32532\\bin\\HostX86\\x64\\link.exe /nologo /INCREMENTAL:NO /LTCG /DLL /MANIFEST:EMBED,ID=2 /MANIFESTUAC:NO /LIBPATH:C:\\Users\\TANAY\\anaconda3\\libs /LIBPATH:C:\\Users\\TANAY\\anaconda3 /LIBPATH:C:\\Users\\TANAY\\anaconda3\\PCbuild\\amd64 /LIBPATH:C:\\Program Files (x86)\\Microsoft Visual Studio\\2022\\BuildTools\\VC\\Tools\\MSVC\\14.36.32532\\lib\\x64 /LIBPATH:C:\\Program Files (x86)\\Windows Kits\\NETFXSDK\\4.8\\lib\\um\\x64 /LIBPATH:C:\\Program Files (x86)\\Windows Kits\\10\\lib\\10.0.22000.0\\ucrt\\x64 /LIBPATH:C:\\Program Files (x86)\\Windows Kits\\10\\\\lib\\10.0.22000.0\\\\um\\x64 /EXPORT:PyInit_cdtw build\\temp.win-amd64-cpython-310\\Release\\aeneas\\cdtw\\cdtw_func.obj build\\temp.win-amd64-cpython-310\\Release\\aeneas\\cdtw\\cdtw_py.obj build\\temp.win-amd64-cpython-310\\Release\\aeneas\\cint\\cint.obj /OUT:build\\lib.win-amd64-cpython-310\\aeneas\\cdtw\\cdtw.cp310-win_amd64.pyd /IMPLIB:build\\temp.win-amd64-cpython-310\\Release\\aeneas\\cdtw\\cdtw.cp310-win_amd64.lib\n",
      "  building 'aeneas.cmfcc.cmfcc' extension\n",
      "  creating build\\temp.win-amd64-cpython-310\\Release\\aeneas\\cmfcc\n",
      "  creating build\\temp.win-amd64-cpython-310\\Release\\aeneas\\cwave\n",
      "  INFO: C:\\Program Files (x86)\\Microsoft Visual Studio\\2022\\BuildTools\\VC\\Tools\\MSVC\\14.36.32532\\bin\\HostX86\\x64\\cl.exe /c /nologo /O2 /W3 /GL /DNDEBUG /MD -IC:\\Users\\TANAY\\anaconda3\\lib\\site-packages\\numpy\\core\\include -I['C:\\\\Users\\\\TANAY\\\\anaconda3\\\\lib\\\\site-packages\\\\numpy\\\\core\\\\include'] -IC:\\Users\\TANAY\\anaconda3\\include -IC:\\Users\\TANAY\\anaconda3\\Include -IC:\\Program Files (x86)\\Microsoft Visual Studio\\2022\\BuildTools\\VC\\Tools\\MSVC\\14.36.32532\\include -IC:\\Program Files (x86)\\Microsoft Visual Studio\\2022\\BuildTools\\VC\\Tools\\MSVC\\14.36.32532\\ATLMFC\\include -IC:\\Program Files (x86)\\Microsoft Visual Studio\\2022\\BuildTools\\VC\\Auxiliary\\VS\\include -IC:\\Program Files (x86)\\Windows Kits\\10\\include\\10.0.22000.0\\ucrt -IC:\\Program Files (x86)\\Windows Kits\\10\\\\include\\10.0.22000.0\\\\um -IC:\\Program Files (x86)\\Windows Kits\\10\\\\include\\10.0.22000.0\\\\shared -IC:\\Program Files (x86)\\Windows Kits\\10\\\\include\\10.0.22000.0\\\\winrt -IC:\\Program Files (x86)\\Windows Kits\\10\\\\include\\10.0.22000.0\\\\cppwinrt -IC:\\Program Files (x86)\\Windows Kits\\NETFXSDK\\4.8\\include\\um /Tcaeneas/cint/cint.c /Fobuild\\temp.win-amd64-cpython-310\\Release\\aeneas\\cint\\cint.obj\n",
      "  INFO: C:\\Program Files (x86)\\Microsoft Visual Studio\\2022\\BuildTools\\VC\\Tools\\MSVC\\14.36.32532\\bin\\HostX86\\x64\\cl.exe /c /nologo /O2 /W3 /GL /DNDEBUG /MD -IC:\\Users\\TANAY\\anaconda3\\lib\\site-packages\\numpy\\core\\include -I['C:\\\\Users\\\\TANAY\\\\anaconda3\\\\lib\\\\site-packages\\\\numpy\\\\core\\\\include'] -IC:\\Users\\TANAY\\anaconda3\\include -IC:\\Users\\TANAY\\anaconda3\\Include -IC:\\Program Files (x86)\\Microsoft Visual Studio\\2022\\BuildTools\\VC\\Tools\\MSVC\\14.36.32532\\include -IC:\\Program Files (x86)\\Microsoft Visual Studio\\2022\\BuildTools\\VC\\Tools\\MSVC\\14.36.32532\\ATLMFC\\include -IC:\\Program Files (x86)\\Microsoft Visual Studio\\2022\\BuildTools\\VC\\Auxiliary\\VS\\include -IC:\\Program Files (x86)\\Windows Kits\\10\\include\\10.0.22000.0\\ucrt -IC:\\Program Files (x86)\\Windows Kits\\10\\\\include\\10.0.22000.0\\\\um -IC:\\Program Files (x86)\\Windows Kits\\10\\\\include\\10.0.22000.0\\\\shared -IC:\\Program Files (x86)\\Windows Kits\\10\\\\include\\10.0.22000.0\\\\winrt -IC:\\Program Files (x86)\\Windows Kits\\10\\\\include\\10.0.22000.0\\\\cppwinrt -IC:\\Program Files (x86)\\Windows Kits\\NETFXSDK\\4.8\\include\\um /Tcaeneas/cmfcc/cmfcc_func.c /Fobuild\\temp.win-amd64-cpython-310\\Release\\aeneas\\cmfcc\\cmfcc_func.obj\n",
      "  INFO: C:\\Program Files (x86)\\Microsoft Visual Studio\\2022\\BuildTools\\VC\\Tools\\MSVC\\14.36.32532\\bin\\HostX86\\x64\\cl.exe /c /nologo /O2 /W3 /GL /DNDEBUG /MD -IC:\\Users\\TANAY\\anaconda3\\lib\\site-packages\\numpy\\core\\include -I['C:\\\\Users\\\\TANAY\\\\anaconda3\\\\lib\\\\site-packages\\\\numpy\\\\core\\\\include'] -IC:\\Users\\TANAY\\anaconda3\\include -IC:\\Users\\TANAY\\anaconda3\\Include -IC:\\Program Files (x86)\\Microsoft Visual Studio\\2022\\BuildTools\\VC\\Tools\\MSVC\\14.36.32532\\include -IC:\\Program Files (x86)\\Microsoft Visual Studio\\2022\\BuildTools\\VC\\Tools\\MSVC\\14.36.32532\\ATLMFC\\include -IC:\\Program Files (x86)\\Microsoft Visual Studio\\2022\\BuildTools\\VC\\Auxiliary\\VS\\include -IC:\\Program Files (x86)\\Windows Kits\\10\\include\\10.0.22000.0\\ucrt -IC:\\Program Files (x86)\\Windows Kits\\10\\\\include\\10.0.22000.0\\\\um -IC:\\Program Files (x86)\\Windows Kits\\10\\\\include\\10.0.22000.0\\\\shared -IC:\\Program Files (x86)\\Windows Kits\\10\\\\include\\10.0.22000.0\\\\winrt -IC:\\Program Files (x86)\\Windows Kits\\10\\\\include\\10.0.22000.0\\\\cppwinrt -IC:\\Program Files (x86)\\Windows Kits\\NETFXSDK\\4.8\\include\\um /Tcaeneas/cmfcc/cmfcc_py.c /Fobuild\\temp.win-amd64-cpython-310\\Release\\aeneas\\cmfcc\\cmfcc_py.obj\n",
      "  INFO: C:\\Program Files (x86)\\Microsoft Visual Studio\\2022\\BuildTools\\VC\\Tools\\MSVC\\14.36.32532\\bin\\HostX86\\x64\\cl.exe /c /nologo /O2 /W3 /GL /DNDEBUG /MD -IC:\\Users\\TANAY\\anaconda3\\lib\\site-packages\\numpy\\core\\include -I['C:\\\\Users\\\\TANAY\\\\anaconda3\\\\lib\\\\site-packages\\\\numpy\\\\core\\\\include'] -IC:\\Users\\TANAY\\anaconda3\\include -IC:\\Users\\TANAY\\anaconda3\\Include -IC:\\Program Files (x86)\\Microsoft Visual Studio\\2022\\BuildTools\\VC\\Tools\\MSVC\\14.36.32532\\include -IC:\\Program Files (x86)\\Microsoft Visual Studio\\2022\\BuildTools\\VC\\Tools\\MSVC\\14.36.32532\\ATLMFC\\include -IC:\\Program Files (x86)\\Microsoft Visual Studio\\2022\\BuildTools\\VC\\Auxiliary\\VS\\include -IC:\\Program Files (x86)\\Windows Kits\\10\\include\\10.0.22000.0\\ucrt -IC:\\Program Files (x86)\\Windows Kits\\10\\\\include\\10.0.22000.0\\\\um -IC:\\Program Files (x86)\\Windows Kits\\10\\\\include\\10.0.22000.0\\\\shared -IC:\\Program Files (x86)\\Windows Kits\\10\\\\include\\10.0.22000.0\\\\winrt -IC:\\Program Files (x86)\\Windows Kits\\10\\\\include\\10.0.22000.0\\\\cppwinrt -IC:\\Program Files (x86)\\Windows Kits\\NETFXSDK\\4.8\\include\\um /Tcaeneas/cwave/cwave_func.c /Fobuild\\temp.win-amd64-cpython-310\\Release\\aeneas\\cwave\\cwave_func.obj\n",
      "  INFO: C:\\Program Files (x86)\\Microsoft Visual Studio\\2022\\BuildTools\\VC\\Tools\\MSVC\\14.36.32532\\bin\\HostX86\\x64\\link.exe /nologo /INCREMENTAL:NO /LTCG /DLL /MANIFEST:EMBED,ID=2 /MANIFESTUAC:NO /LIBPATH:C:\\Users\\TANAY\\anaconda3\\libs /LIBPATH:C:\\Users\\TANAY\\anaconda3 /LIBPATH:C:\\Users\\TANAY\\anaconda3\\PCbuild\\amd64 /LIBPATH:C:\\Program Files (x86)\\Microsoft Visual Studio\\2022\\BuildTools\\VC\\Tools\\MSVC\\14.36.32532\\lib\\x64 /LIBPATH:C:\\Program Files (x86)\\Windows Kits\\NETFXSDK\\4.8\\lib\\um\\x64 /LIBPATH:C:\\Program Files (x86)\\Windows Kits\\10\\lib\\10.0.22000.0\\ucrt\\x64 /LIBPATH:C:\\Program Files (x86)\\Windows Kits\\10\\\\lib\\10.0.22000.0\\\\um\\x64 /EXPORT:PyInit_cmfcc build\\temp.win-amd64-cpython-310\\Release\\aeneas\\cint\\cint.obj build\\temp.win-amd64-cpython-310\\Release\\aeneas\\cmfcc\\cmfcc_func.obj build\\temp.win-amd64-cpython-310\\Release\\aeneas\\cmfcc\\cmfcc_py.obj build\\temp.win-amd64-cpython-310\\Release\\aeneas\\cwave\\cwave_func.obj /OUT:build\\lib.win-amd64-cpython-310\\aeneas\\cmfcc\\cmfcc.cp310-win_amd64.pyd /IMPLIB:build\\temp.win-amd64-cpython-310\\Release\\aeneas\\cint\\cmfcc.cp310-win_amd64.lib\n",
      "  building 'aeneas.cew.cew' extension\n",
      "  creating build\\temp.win-amd64-cpython-310\\Release\\aeneas\\cew\n",
      "  INFO: C:\\Program Files (x86)\\Microsoft Visual Studio\\2022\\BuildTools\\VC\\Tools\\MSVC\\14.36.32532\\bin\\HostX86\\x64\\cl.exe /c /nologo /O2 /W3 /GL /DNDEBUG /MD -I['C:\\\\Users\\\\TANAY\\\\anaconda3\\\\lib\\\\site-packages\\\\numpy\\\\core\\\\include'] -IC:\\Users\\TANAY\\anaconda3\\include -IC:\\Users\\TANAY\\anaconda3\\Include -IC:\\Program Files (x86)\\Microsoft Visual Studio\\2022\\BuildTools\\VC\\Tools\\MSVC\\14.36.32532\\include -IC:\\Program Files (x86)\\Microsoft Visual Studio\\2022\\BuildTools\\VC\\Tools\\MSVC\\14.36.32532\\ATLMFC\\include -IC:\\Program Files (x86)\\Microsoft Visual Studio\\2022\\BuildTools\\VC\\Auxiliary\\VS\\include -IC:\\Program Files (x86)\\Windows Kits\\10\\include\\10.0.22000.0\\ucrt -IC:\\Program Files (x86)\\Windows Kits\\10\\\\include\\10.0.22000.0\\\\um -IC:\\Program Files (x86)\\Windows Kits\\10\\\\include\\10.0.22000.0\\\\shared -IC:\\Program Files (x86)\\Windows Kits\\10\\\\include\\10.0.22000.0\\\\winrt -IC:\\Program Files (x86)\\Windows Kits\\10\\\\include\\10.0.22000.0\\\\cppwinrt -IC:\\Program Files (x86)\\Windows Kits\\NETFXSDK\\4.8\\include\\um /Tcaeneas/cew/cew_func.c /Fobuild\\temp.win-amd64-cpython-310\\Release\\aeneas\\cew\\cew_func.obj\n",
      "  INFO: C:\\Program Files (x86)\\Microsoft Visual Studio\\2022\\BuildTools\\VC\\Tools\\MSVC\\14.36.32532\\bin\\HostX86\\x64\\cl.exe /c /nologo /O2 /W3 /GL /DNDEBUG /MD -I['C:\\\\Users\\\\TANAY\\\\anaconda3\\\\lib\\\\site-packages\\\\numpy\\\\core\\\\include'] -IC:\\Users\\TANAY\\anaconda3\\include -IC:\\Users\\TANAY\\anaconda3\\Include -IC:\\Program Files (x86)\\Microsoft Visual Studio\\2022\\BuildTools\\VC\\Tools\\MSVC\\14.36.32532\\include -IC:\\Program Files (x86)\\Microsoft Visual Studio\\2022\\BuildTools\\VC\\Tools\\MSVC\\14.36.32532\\ATLMFC\\include -IC:\\Program Files (x86)\\Microsoft Visual Studio\\2022\\BuildTools\\VC\\Auxiliary\\VS\\include -IC:\\Program Files (x86)\\Windows Kits\\10\\include\\10.0.22000.0\\ucrt -IC:\\Program Files (x86)\\Windows Kits\\10\\\\include\\10.0.22000.0\\\\um -IC:\\Program Files (x86)\\Windows Kits\\10\\\\include\\10.0.22000.0\\\\shared -IC:\\Program Files (x86)\\Windows Kits\\10\\\\include\\10.0.22000.0\\\\winrt -IC:\\Program Files (x86)\\Windows Kits\\10\\\\include\\10.0.22000.0\\\\cppwinrt -IC:\\Program Files (x86)\\Windows Kits\\NETFXSDK\\4.8\\include\\um /Tcaeneas/cew/cew_py.c /Fobuild\\temp.win-amd64-cpython-310\\Release\\aeneas\\cew\\cew_py.obj\n",
      "  INFO: C:\\Program Files (x86)\\Microsoft Visual Studio\\2022\\BuildTools\\VC\\Tools\\MSVC\\14.36.32532\\bin\\HostX86\\x64\\link.exe /nologo /INCREMENTAL:NO /LTCG /DLL /MANIFEST:EMBED,ID=2 /MANIFESTUAC:NO /LIBPATH:C:\\Users\\TANAY\\anaconda3\\libs /LIBPATH:C:\\Users\\TANAY\\anaconda3 /LIBPATH:C:\\Users\\TANAY\\anaconda3\\PCbuild\\amd64 /LIBPATH:C:\\Program Files (x86)\\Microsoft Visual Studio\\2022\\BuildTools\\VC\\Tools\\MSVC\\14.36.32532\\lib\\x64 /LIBPATH:C:\\Program Files (x86)\\Windows Kits\\NETFXSDK\\4.8\\lib\\um\\x64 /LIBPATH:C:\\Program Files (x86)\\Windows Kits\\10\\lib\\10.0.22000.0\\ucrt\\x64 /LIBPATH:C:\\Program Files (x86)\\Windows Kits\\10\\\\lib\\10.0.22000.0\\\\um\\x64 espeak.lib /EXPORT:PyInit_cew build\\temp.win-amd64-cpython-310\\Release\\aeneas\\cew\\cew_func.obj build\\temp.win-amd64-cpython-310\\Release\\aeneas\\cew\\cew_py.obj /OUT:build\\lib.win-amd64-cpython-310\\aeneas\\cew\\cew.cp310-win_amd64.pyd /IMPLIB:build\\temp.win-amd64-cpython-310\\Release\\aeneas\\cew\\cew.cp310-win_amd64.lib\n",
      "     Creating library build\\temp.win-amd64-cpython-310\\Release\\aeneas\\cew\\cew.cp310-win_amd64.lib and object build\\temp.win-amd64-cpython-310\\Release\\aeneas\\cew\\cew.cp310-win_amd64.exp\n",
      "  cew_func.obj : error LNK2001: unresolved external symbol espeak_Synth\n",
      "  cew_func.obj : error LNK2001: unresolved external symbol espeak_SetSynthCallback\n",
      "  cew_func.obj : error LNK2001: unresolved external symbol espeak_SetVoiceByProperties\n",
      "  cew_func.obj : error LNK2001: unresolved external symbol espeak_Initialize\n",
      "  cew_func.obj : error LNK2001: unresolved external symbol espeak_Synchronize\n",
      "  cew_func.obj : error LNK2001: unresolved external symbol espeak_Terminate\n",
      "  build\\lib.win-amd64-cpython-310\\aeneas\\cew\\cew.cp310-win_amd64.pyd : fatal error LNK1120: 6 unresolved externals\n",
      "  error: Command \"C:\\Program Files (x86)\\Microsoft Visual Studio\\2022\\BuildTools\\VC\\Tools\\MSVC\\14.36.32532\\bin\\HostX86\\x64\\link.exe /nologo /INCREMENTAL:NO /LTCG /DLL /MANIFEST:EMBED,ID=2 /MANIFESTUAC:NO /LIBPATH:C:\\Users\\TANAY\\anaconda3\\libs /LIBPATH:C:\\Users\\TANAY\\anaconda3 /LIBPATH:C:\\Users\\TANAY\\anaconda3\\PCbuild\\amd64 /LIBPATH:C:\\Program Files (x86)\\Microsoft Visual Studio\\2022\\BuildTools\\VC\\Tools\\MSVC\\14.36.32532\\lib\\x64 /LIBPATH:C:\\Program Files (x86)\\Windows Kits\\NETFXSDK\\4.8\\lib\\um\\x64 /LIBPATH:C:\\Program Files (x86)\\Windows Kits\\10\\lib\\10.0.22000.0\\ucrt\\x64 /LIBPATH:C:\\Program Files (x86)\\Windows Kits\\10\\\\lib\\10.0.22000.0\\\\um\\x64 espeak.lib /EXPORT:PyInit_cew build\\temp.win-amd64-cpython-310\\Release\\aeneas\\cew\\cew_func.obj build\\temp.win-amd64-cpython-310\\Release\\aeneas\\cew\\cew_py.obj /OUT:build\\lib.win-amd64-cpython-310\\aeneas\\cew\\cew.cp310-win_amd64.pyd /IMPLIB:build\\temp.win-amd64-cpython-310\\Release\\aeneas\\cew\\cew.cp310-win_amd64.lib\" failed with exit status 1120\n",
      "  [end of output]\n",
      "  \n",
      "  note: This error originates from a subprocess, and is likely not a problem with pip.\n",
      "error: legacy-install-failure\n",
      "\n",
      "Encountered error while trying to install package.\n",
      "\n",
      "aeneas\n",
      "\n",
      "note: This is an issue with the package mentioned above, not pip.\n",
      "hint: See above for output from the failure.\n",
      "WARNING: Ignoring invalid distribution -atplotlib (c:\\users\\tanay\\anaconda3\\lib\\site-packages)\n",
      "WARNING: Ignoring invalid distribution -atplotlib (c:\\users\\tanay\\anaconda3\\lib\\site-packages)\n",
      "WARNING: Ignoring invalid distribution -atplotlib (c:\\users\\tanay\\anaconda3\\lib\\site-packages)\n"
     ]
    }
   ],
   "source": [
    "!pip install aeneas"
   ]
  },
  {
   "cell_type": "code",
   "execution_count": 87,
   "id": "b9a6135d",
   "metadata": {},
   "outputs": [
    {
     "name": "stdout",
     "output_type": "stream",
     "text": [
      "Checking folder: C:\\Users\\TANAY\\anaconda3\\envs\\SIT\\Bible_Texts\\इफिसकरांस पत्रEPH\\01_Ephesians___\\Subfolder__01_Ephesians___MARDPIN1DA\\Subfolder__01_Ephesians___MARDPIN1DA\\Subfolder__01_Ephesians___MARDPIN1DA\n",
      "Audio file path: C:\\Users\\TANAY\\anaconda3\\envs\\SIT\\Bible_Texts\\इफिसकरांस पत्रEPH\\01_Ephesians___\\Subfolder__01_Ephesians___MARDPIN1DA\\Subfolder__01_Ephesians___MARDPIN1DA\\Subfolder__01_Ephesians___MARDPIN1DA\\_01_Ephesians___MARDPIN1DA.mp3\n",
      "Text file path: C:\\Users\\TANAY\\anaconda3\\envs\\SIT\\Bible_Texts\\इफिसकरांस पत्रEPH\\01_Ephesians___\\Subfolder__01_Ephesians___MARDPIN1DA\\Subfolder__01_Ephesians___MARDPIN1DA\\Subfolder__01_Ephesians___MARDPIN1DA\\1.txt\n",
      "Appending data for folder: Subfolder__01_Ephesians___MARDPIN1DA\n",
      "Checking folder: C:\\Users\\TANAY\\anaconda3\\envs\\SIT\\Bible_Texts\\इफिसकरांस पत्रEPH\\02_Ephesians___\\Subfolder__02_Ephesians___MARDPIN1DA\n",
      "Audio file path: C:\\Users\\TANAY\\anaconda3\\envs\\SIT\\Bible_Texts\\इफिसकरांस पत्रEPH\\02_Ephesians___\\Subfolder__02_Ephesians___MARDPIN1DA\\_02_Ephesians___MARDPIN1DA.mp3\n",
      "Text file path: C:\\Users\\TANAY\\anaconda3\\envs\\SIT\\Bible_Texts\\इफिसकरांस पत्रEPH\\02_Ephesians___\\Subfolder__02_Ephesians___MARDPIN1DA\\2.txt\n"
     ]
    },
    {
     "name": "stderr",
     "output_type": "stream",
     "text": [
      "C:\\Users\\TANAY\\AppData\\Local\\Temp\\ipykernel_7252\\407795470.py:47: FutureWarning: The frame.append method is deprecated and will be removed from pandas in a future version. Use pandas.concat instead.\n",
      "  df = df.append({\n"
     ]
    },
    {
     "name": "stdout",
     "output_type": "stream",
     "text": [
      "Appending data for folder: Subfolder__02_Ephesians___MARDPIN1DA\n",
      "Checking folder: C:\\Users\\TANAY\\anaconda3\\envs\\SIT\\Bible_Texts\\इफिसकरांस पत्रEPH\\03_Ephesians___\\Subfolder__03_Ephesians___MARDPIN1DA\n",
      "Audio file path: C:\\Users\\TANAY\\anaconda3\\envs\\SIT\\Bible_Texts\\इफिसकरांस पत्रEPH\\03_Ephesians___\\Subfolder__03_Ephesians___MARDPIN1DA\\_03_Ephesians___MARDPIN1DA.mp3\n",
      "Text file path: C:\\Users\\TANAY\\anaconda3\\envs\\SIT\\Bible_Texts\\इफिसकरांस पत्रEPH\\03_Ephesians___\\Subfolder__03_Ephesians___MARDPIN1DA\\3.txt\n"
     ]
    },
    {
     "name": "stderr",
     "output_type": "stream",
     "text": [
      "C:\\Users\\TANAY\\AppData\\Local\\Temp\\ipykernel_7252\\407795470.py:47: FutureWarning: The frame.append method is deprecated and will be removed from pandas in a future version. Use pandas.concat instead.\n",
      "  df = df.append({\n"
     ]
    },
    {
     "name": "stdout",
     "output_type": "stream",
     "text": [
      "Appending data for folder: Subfolder__03_Ephesians___MARDPIN1DA\n",
      "Checking folder: C:\\Users\\TANAY\\anaconda3\\envs\\SIT\\Bible_Texts\\इफिसकरांस पत्रEPH\\04_Ephesians___\\Subfolder__04_Ephesians___MARDPIN1DA\n",
      "Audio file path: C:\\Users\\TANAY\\anaconda3\\envs\\SIT\\Bible_Texts\\इफिसकरांस पत्रEPH\\04_Ephesians___\\Subfolder__04_Ephesians___MARDPIN1DA\\_04_Ephesians___MARDPIN1DA.mp3\n",
      "Text file path: C:\\Users\\TANAY\\anaconda3\\envs\\SIT\\Bible_Texts\\इफिसकरांस पत्रEPH\\04_Ephesians___\\Subfolder__04_Ephesians___MARDPIN1DA\\4.txt\n"
     ]
    },
    {
     "name": "stderr",
     "output_type": "stream",
     "text": [
      "C:\\Users\\TANAY\\AppData\\Local\\Temp\\ipykernel_7252\\407795470.py:47: FutureWarning: The frame.append method is deprecated and will be removed from pandas in a future version. Use pandas.concat instead.\n",
      "  df = df.append({\n"
     ]
    },
    {
     "name": "stdout",
     "output_type": "stream",
     "text": [
      "Appending data for folder: Subfolder__04_Ephesians___MARDPIN1DA\n",
      "Checking folder: C:\\Users\\TANAY\\anaconda3\\envs\\SIT\\Bible_Texts\\इफिसकरांस पत्रEPH\\05_Ephesians___\\Subfolder__05_Ephesians___MARDPIN1DA\n",
      "Audio file path: C:\\Users\\TANAY\\anaconda3\\envs\\SIT\\Bible_Texts\\इफिसकरांस पत्रEPH\\05_Ephesians___\\Subfolder__05_Ephesians___MARDPIN1DA\\_05_Ephesians___MARDPIN1DA.mp3\n",
      "Text file path: C:\\Users\\TANAY\\anaconda3\\envs\\SIT\\Bible_Texts\\इफिसकरांस पत्रEPH\\05_Ephesians___\\Subfolder__05_Ephesians___MARDPIN1DA\\5.txt\n"
     ]
    },
    {
     "name": "stderr",
     "output_type": "stream",
     "text": [
      "C:\\Users\\TANAY\\AppData\\Local\\Temp\\ipykernel_7252\\407795470.py:47: FutureWarning: The frame.append method is deprecated and will be removed from pandas in a future version. Use pandas.concat instead.\n",
      "  df = df.append({\n"
     ]
    },
    {
     "name": "stdout",
     "output_type": "stream",
     "text": [
      "Appending data for folder: Subfolder__05_Ephesians___MARDPIN1DA\n",
      "Checking folder: C:\\Users\\TANAY\\anaconda3\\envs\\SIT\\Bible_Texts\\इफिसकरांस पत्रEPH\\06_Ephesians___\\Subfolder__06_Ephesians___MARDPIN1DA\n",
      "Audio file path: C:\\Users\\TANAY\\anaconda3\\envs\\SIT\\Bible_Texts\\इफिसकरांस पत्रEPH\\06_Ephesians___\\Subfolder__06_Ephesians___MARDPIN1DA\\_06_Ephesians___MARDPIN1DA.mp3\n",
      "Text file path: C:\\Users\\TANAY\\anaconda3\\envs\\SIT\\Bible_Texts\\इफिसकरांस पत्रEPH\\06_Ephesians___\\Subfolder__06_Ephesians___MARDPIN1DA\\6.txt\n"
     ]
    },
    {
     "name": "stderr",
     "output_type": "stream",
     "text": [
      "C:\\Users\\TANAY\\AppData\\Local\\Temp\\ipykernel_7252\\407795470.py:47: FutureWarning: The frame.append method is deprecated and will be removed from pandas in a future version. Use pandas.concat instead.\n",
      "  df = df.append({\n"
     ]
    },
    {
     "name": "stdout",
     "output_type": "stream",
     "text": [
      "Appending data for folder: Subfolder__06_Ephesians___MARDPIN1DA\n",
      "Checking folder: C:\\Users\\TANAY\\anaconda3\\envs\\SIT\\Bible_Texts\\इब्री लोकांस पत्रHEB\\01_Hebrews_____\n",
      "Audio file path: C:\\Users\\TANAY\\anaconda3\\envs\\SIT\\Bible_Texts\\इब्री लोकांस पत्रHEB\\01_Hebrews_____\\_01_Hebrews_____MARDPIN1DA.mp3\n",
      "Text file path: C:\\Users\\TANAY\\anaconda3\\envs\\SIT\\Bible_Texts\\इब्री लोकांस पत्रHEB\\01_Hebrews_____\\1.txt\n"
     ]
    },
    {
     "name": "stderr",
     "output_type": "stream",
     "text": [
      "C:\\Users\\TANAY\\AppData\\Local\\Temp\\ipykernel_7252\\407795470.py:47: FutureWarning: The frame.append method is deprecated and will be removed from pandas in a future version. Use pandas.concat instead.\n",
      "  df = df.append({\n"
     ]
    },
    {
     "name": "stdout",
     "output_type": "stream",
     "text": [
      "Appending data for folder: 01_Hebrews_____\n",
      "Checking folder: C:\\Users\\TANAY\\anaconda3\\envs\\SIT\\Bible_Texts\\इब्री लोकांस पत्रHEB\\02_Hebrews_____\n",
      "Audio file path: C:\\Users\\TANAY\\anaconda3\\envs\\SIT\\Bible_Texts\\इब्री लोकांस पत्रHEB\\02_Hebrews_____\\_02_Hebrews_____MARDPIN1DA.mp3\n",
      "Text file path: C:\\Users\\TANAY\\anaconda3\\envs\\SIT\\Bible_Texts\\इब्री लोकांस पत्रHEB\\02_Hebrews_____\\2.txt\n"
     ]
    },
    {
     "name": "stderr",
     "output_type": "stream",
     "text": [
      "C:\\Users\\TANAY\\AppData\\Local\\Temp\\ipykernel_7252\\407795470.py:47: FutureWarning: The frame.append method is deprecated and will be removed from pandas in a future version. Use pandas.concat instead.\n",
      "  df = df.append({\n"
     ]
    },
    {
     "name": "stdout",
     "output_type": "stream",
     "text": [
      "Appending data for folder: 02_Hebrews_____\n",
      "Checking folder: C:\\Users\\TANAY\\anaconda3\\envs\\SIT\\Bible_Texts\\इब्री लोकांस पत्रHEB\\03_Hebrews_____\n",
      "Audio file path: C:\\Users\\TANAY\\anaconda3\\envs\\SIT\\Bible_Texts\\इब्री लोकांस पत्रHEB\\03_Hebrews_____\\_03_Hebrews_____MARDPIN1DA.mp3\n",
      "Text file path: C:\\Users\\TANAY\\anaconda3\\envs\\SIT\\Bible_Texts\\इब्री लोकांस पत्रHEB\\03_Hebrews_____\\3.txt\n"
     ]
    },
    {
     "name": "stderr",
     "output_type": "stream",
     "text": [
      "C:\\Users\\TANAY\\AppData\\Local\\Temp\\ipykernel_7252\\407795470.py:47: FutureWarning: The frame.append method is deprecated and will be removed from pandas in a future version. Use pandas.concat instead.\n",
      "  df = df.append({\n"
     ]
    },
    {
     "name": "stdout",
     "output_type": "stream",
     "text": [
      "Appending data for folder: 03_Hebrews_____\n",
      "Checking folder: C:\\Users\\TANAY\\anaconda3\\envs\\SIT\\Bible_Texts\\इब्री लोकांस पत्रHEB\\04_Hebrews_____\n",
      "Audio file path: C:\\Users\\TANAY\\anaconda3\\envs\\SIT\\Bible_Texts\\इब्री लोकांस पत्रHEB\\04_Hebrews_____\\_04_Hebrews_____MARDPIN1DA.mp3\n",
      "Text file path: C:\\Users\\TANAY\\anaconda3\\envs\\SIT\\Bible_Texts\\इब्री लोकांस पत्रHEB\\04_Hebrews_____\\4.txt\n"
     ]
    },
    {
     "name": "stderr",
     "output_type": "stream",
     "text": [
      "C:\\Users\\TANAY\\AppData\\Local\\Temp\\ipykernel_7252\\407795470.py:47: FutureWarning: The frame.append method is deprecated and will be removed from pandas in a future version. Use pandas.concat instead.\n",
      "  df = df.append({\n"
     ]
    },
    {
     "name": "stdout",
     "output_type": "stream",
     "text": [
      "Appending data for folder: 04_Hebrews_____\n",
      "Checking folder: C:\\Users\\TANAY\\anaconda3\\envs\\SIT\\Bible_Texts\\इब्री लोकांस पत्रHEB\\05_Hebrews_____\n",
      "Audio file path: C:\\Users\\TANAY\\anaconda3\\envs\\SIT\\Bible_Texts\\इब्री लोकांस पत्रHEB\\05_Hebrews_____\\_05_Hebrews_____MARDPIN1DA.mp3\n",
      "Text file path: C:\\Users\\TANAY\\anaconda3\\envs\\SIT\\Bible_Texts\\इब्री लोकांस पत्रHEB\\05_Hebrews_____\\5.txt\n"
     ]
    },
    {
     "name": "stderr",
     "output_type": "stream",
     "text": [
      "C:\\Users\\TANAY\\AppData\\Local\\Temp\\ipykernel_7252\\407795470.py:47: FutureWarning: The frame.append method is deprecated and will be removed from pandas in a future version. Use pandas.concat instead.\n",
      "  df = df.append({\n"
     ]
    },
    {
     "name": "stdout",
     "output_type": "stream",
     "text": [
      "Appending data for folder: 05_Hebrews_____\n",
      "Checking folder: C:\\Users\\TANAY\\anaconda3\\envs\\SIT\\Bible_Texts\\इब्री लोकांस पत्रHEB\\06_Hebrews_____\n",
      "Audio file path: C:\\Users\\TANAY\\anaconda3\\envs\\SIT\\Bible_Texts\\इब्री लोकांस पत्रHEB\\06_Hebrews_____\\_06_Hebrews_____MARDPIN1DA.mp3\n",
      "Text file path: C:\\Users\\TANAY\\anaconda3\\envs\\SIT\\Bible_Texts\\इब्री लोकांस पत्रHEB\\06_Hebrews_____\\6.txt\n"
     ]
    },
    {
     "name": "stderr",
     "output_type": "stream",
     "text": [
      "C:\\Users\\TANAY\\AppData\\Local\\Temp\\ipykernel_7252\\407795470.py:47: FutureWarning: The frame.append method is deprecated and will be removed from pandas in a future version. Use pandas.concat instead.\n",
      "  df = df.append({\n"
     ]
    },
    {
     "name": "stdout",
     "output_type": "stream",
     "text": [
      "Appending data for folder: 06_Hebrews_____\n",
      "Checking folder: C:\\Users\\TANAY\\anaconda3\\envs\\SIT\\Bible_Texts\\इब्री लोकांस पत्रHEB\\07_Hebrews_____\n",
      "Audio file path: C:\\Users\\TANAY\\anaconda3\\envs\\SIT\\Bible_Texts\\इब्री लोकांस पत्रHEB\\07_Hebrews_____\\_07_Hebrews_____MARDPIN1DA.mp3\n",
      "Text file path: C:\\Users\\TANAY\\anaconda3\\envs\\SIT\\Bible_Texts\\इब्री लोकांस पत्रHEB\\07_Hebrews_____\\7.txt\n"
     ]
    },
    {
     "name": "stderr",
     "output_type": "stream",
     "text": [
      "C:\\Users\\TANAY\\AppData\\Local\\Temp\\ipykernel_7252\\407795470.py:47: FutureWarning: The frame.append method is deprecated and will be removed from pandas in a future version. Use pandas.concat instead.\n",
      "  df = df.append({\n"
     ]
    },
    {
     "name": "stdout",
     "output_type": "stream",
     "text": [
      "Appending data for folder: 07_Hebrews_____\n",
      "Checking folder: C:\\Users\\TANAY\\anaconda3\\envs\\SIT\\Bible_Texts\\इब्री लोकांस पत्रHEB\\08_Hebrews_____\n",
      "Audio file path: C:\\Users\\TANAY\\anaconda3\\envs\\SIT\\Bible_Texts\\इब्री लोकांस पत्रHEB\\08_Hebrews_____\\_08_Hebrews_____MARDPIN1DA.mp3\n",
      "Text file path: C:\\Users\\TANAY\\anaconda3\\envs\\SIT\\Bible_Texts\\इब्री लोकांस पत्रHEB\\08_Hebrews_____\\8.txt\n"
     ]
    },
    {
     "name": "stderr",
     "output_type": "stream",
     "text": [
      "C:\\Users\\TANAY\\AppData\\Local\\Temp\\ipykernel_7252\\407795470.py:47: FutureWarning: The frame.append method is deprecated and will be removed from pandas in a future version. Use pandas.concat instead.\n",
      "  df = df.append({\n"
     ]
    },
    {
     "name": "stdout",
     "output_type": "stream",
     "text": [
      "Appending data for folder: 08_Hebrews_____\n",
      "Checking folder: C:\\Users\\TANAY\\anaconda3\\envs\\SIT\\Bible_Texts\\इब्री लोकांस पत्रHEB\\09_Hebrews_____\n",
      "Audio file path: C:\\Users\\TANAY\\anaconda3\\envs\\SIT\\Bible_Texts\\इब्री लोकांस पत्रHEB\\09_Hebrews_____\\_09_Hebrews_____MARDPIN1DA.mp3\n",
      "Text file path: C:\\Users\\TANAY\\anaconda3\\envs\\SIT\\Bible_Texts\\इब्री लोकांस पत्रHEB\\09_Hebrews_____\\9.txt\n"
     ]
    },
    {
     "name": "stderr",
     "output_type": "stream",
     "text": [
      "C:\\Users\\TANAY\\AppData\\Local\\Temp\\ipykernel_7252\\407795470.py:47: FutureWarning: The frame.append method is deprecated and will be removed from pandas in a future version. Use pandas.concat instead.\n",
      "  df = df.append({\n"
     ]
    },
    {
     "name": "stdout",
     "output_type": "stream",
     "text": [
      "Appending data for folder: 09_Hebrews_____\n",
      "Checking folder: C:\\Users\\TANAY\\anaconda3\\envs\\SIT\\Bible_Texts\\इब्री लोकांस पत्रHEB\\10_Hebrews_____\n",
      "Audio file path: C:\\Users\\TANAY\\anaconda3\\envs\\SIT\\Bible_Texts\\इब्री लोकांस पत्रHEB\\10_Hebrews_____\\_10_Hebrews_____MARDPIN1DA.mp3\n",
      "Text file path: C:\\Users\\TANAY\\anaconda3\\envs\\SIT\\Bible_Texts\\इब्री लोकांस पत्रHEB\\10_Hebrews_____\\10.txt\n"
     ]
    },
    {
     "name": "stderr",
     "output_type": "stream",
     "text": [
      "C:\\Users\\TANAY\\AppData\\Local\\Temp\\ipykernel_7252\\407795470.py:47: FutureWarning: The frame.append method is deprecated and will be removed from pandas in a future version. Use pandas.concat instead.\n",
      "  df = df.append({\n"
     ]
    },
    {
     "name": "stdout",
     "output_type": "stream",
     "text": [
      "Appending data for folder: 10_Hebrews_____\n",
      "Checking folder: C:\\Users\\TANAY\\anaconda3\\envs\\SIT\\Bible_Texts\\इब्री लोकांस पत्रHEB\\11_Hebrews_____\n",
      "Audio file path: C:\\Users\\TANAY\\anaconda3\\envs\\SIT\\Bible_Texts\\इब्री लोकांस पत्रHEB\\11_Hebrews_____\\_11_Hebrews_____MARDPIN1DA.mp3\n",
      "Text file path: C:\\Users\\TANAY\\anaconda3\\envs\\SIT\\Bible_Texts\\इब्री लोकांस पत्रHEB\\11_Hebrews_____\\11.txt\n"
     ]
    },
    {
     "name": "stderr",
     "output_type": "stream",
     "text": [
      "C:\\Users\\TANAY\\AppData\\Local\\Temp\\ipykernel_7252\\407795470.py:47: FutureWarning: The frame.append method is deprecated and will be removed from pandas in a future version. Use pandas.concat instead.\n",
      "  df = df.append({\n"
     ]
    },
    {
     "name": "stdout",
     "output_type": "stream",
     "text": [
      "Appending data for folder: 11_Hebrews_____\n",
      "Checking folder: C:\\Users\\TANAY\\anaconda3\\envs\\SIT\\Bible_Texts\\इब्री लोकांस पत्रHEB\\12_Hebrews_____\n",
      "Audio file path: C:\\Users\\TANAY\\anaconda3\\envs\\SIT\\Bible_Texts\\इब्री लोकांस पत्रHEB\\12_Hebrews_____\\_12_Hebrews_____MARDPIN1DA.mp3\n",
      "Text file path: C:\\Users\\TANAY\\anaconda3\\envs\\SIT\\Bible_Texts\\इब्री लोकांस पत्रHEB\\12_Hebrews_____\\12.txt\n"
     ]
    },
    {
     "name": "stderr",
     "output_type": "stream",
     "text": [
      "C:\\Users\\TANAY\\AppData\\Local\\Temp\\ipykernel_7252\\407795470.py:47: FutureWarning: The frame.append method is deprecated and will be removed from pandas in a future version. Use pandas.concat instead.\n",
      "  df = df.append({\n"
     ]
    },
    {
     "name": "stdout",
     "output_type": "stream",
     "text": [
      "Appending data for folder: 12_Hebrews_____\n",
      "Checking folder: C:\\Users\\TANAY\\anaconda3\\envs\\SIT\\Bible_Texts\\इब्री लोकांस पत्रHEB\\13_Hebrews_____\n",
      "Audio file path: C:\\Users\\TANAY\\anaconda3\\envs\\SIT\\Bible_Texts\\इब्री लोकांस पत्रHEB\\13_Hebrews_____\\_13_Hebrews_____MARDPIN1DA.mp3\n",
      "Text file path: C:\\Users\\TANAY\\anaconda3\\envs\\SIT\\Bible_Texts\\इब्री लोकांस पत्रHEB\\13_Hebrews_____\\13.txt\n"
     ]
    },
    {
     "name": "stderr",
     "output_type": "stream",
     "text": [
      "C:\\Users\\TANAY\\AppData\\Local\\Temp\\ipykernel_7252\\407795470.py:47: FutureWarning: The frame.append method is deprecated and will be removed from pandas in a future version. Use pandas.concat instead.\n",
      "  df = df.append({\n"
     ]
    },
    {
     "name": "stdout",
     "output_type": "stream",
     "text": [
      "Appending data for folder: 13_Hebrews_____\n",
      "Checking folder: C:\\Users\\TANAY\\anaconda3\\envs\\SIT\\Bible_Texts\\करिंथकरांस दुसरे पत्र2CO\\01_2Corinthians\n",
      "Audio file path: C:\\Users\\TANAY\\anaconda3\\envs\\SIT\\Bible_Texts\\करिंथकरांस दुसरे पत्र2CO\\01_2Corinthians\\_01_2CorinthiansMARDPIN1DA.mp3\n",
      "Text file path: C:\\Users\\TANAY\\anaconda3\\envs\\SIT\\Bible_Texts\\करिंथकरांस दुसरे पत्र2CO\\01_2Corinthians\\1.txt\n"
     ]
    },
    {
     "name": "stderr",
     "output_type": "stream",
     "text": [
      "C:\\Users\\TANAY\\AppData\\Local\\Temp\\ipykernel_7252\\407795470.py:47: FutureWarning: The frame.append method is deprecated and will be removed from pandas in a future version. Use pandas.concat instead.\n",
      "  df = df.append({\n"
     ]
    },
    {
     "name": "stdout",
     "output_type": "stream",
     "text": [
      "Appending data for folder: 01_2Corinthians\n",
      "Checking folder: C:\\Users\\TANAY\\anaconda3\\envs\\SIT\\Bible_Texts\\करिंथकरांस दुसरे पत्र2CO\\02_2Corinthians\n",
      "Audio file path: C:\\Users\\TANAY\\anaconda3\\envs\\SIT\\Bible_Texts\\करिंथकरांस दुसरे पत्र2CO\\02_2Corinthians\\_02_2CorinthiansMARDPIN1DA.mp3\n",
      "Text file path: C:\\Users\\TANAY\\anaconda3\\envs\\SIT\\Bible_Texts\\करिंथकरांस दुसरे पत्र2CO\\02_2Corinthians\\2.txt\n"
     ]
    },
    {
     "name": "stderr",
     "output_type": "stream",
     "text": [
      "C:\\Users\\TANAY\\AppData\\Local\\Temp\\ipykernel_7252\\407795470.py:47: FutureWarning: The frame.append method is deprecated and will be removed from pandas in a future version. Use pandas.concat instead.\n",
      "  df = df.append({\n"
     ]
    },
    {
     "name": "stdout",
     "output_type": "stream",
     "text": [
      "Appending data for folder: 02_2Corinthians\n",
      "Checking folder: C:\\Users\\TANAY\\anaconda3\\envs\\SIT\\Bible_Texts\\करिंथकरांस दुसरे पत्र2CO\\03_2Corinthians\n",
      "Audio file path: C:\\Users\\TANAY\\anaconda3\\envs\\SIT\\Bible_Texts\\करिंथकरांस दुसरे पत्र2CO\\03_2Corinthians\\_03_2CorinthiansMARDPIN1DA.mp3\n",
      "Text file path: C:\\Users\\TANAY\\anaconda3\\envs\\SIT\\Bible_Texts\\करिंथकरांस दुसरे पत्र2CO\\03_2Corinthians\\3.txt\n"
     ]
    },
    {
     "name": "stderr",
     "output_type": "stream",
     "text": [
      "C:\\Users\\TANAY\\AppData\\Local\\Temp\\ipykernel_7252\\407795470.py:47: FutureWarning: The frame.append method is deprecated and will be removed from pandas in a future version. Use pandas.concat instead.\n",
      "  df = df.append({\n"
     ]
    },
    {
     "name": "stdout",
     "output_type": "stream",
     "text": [
      "Appending data for folder: 03_2Corinthians\n",
      "Checking folder: C:\\Users\\TANAY\\anaconda3\\envs\\SIT\\Bible_Texts\\करिंथकरांस दुसरे पत्र2CO\\04_2Corinthians\n",
      "Audio file path: C:\\Users\\TANAY\\anaconda3\\envs\\SIT\\Bible_Texts\\करिंथकरांस दुसरे पत्र2CO\\04_2Corinthians\\_04_2CorinthiansMARDPIN1DA.mp3\n",
      "Text file path: C:\\Users\\TANAY\\anaconda3\\envs\\SIT\\Bible_Texts\\करिंथकरांस दुसरे पत्र2CO\\04_2Corinthians\\4.txt\n"
     ]
    },
    {
     "name": "stderr",
     "output_type": "stream",
     "text": [
      "C:\\Users\\TANAY\\AppData\\Local\\Temp\\ipykernel_7252\\407795470.py:47: FutureWarning: The frame.append method is deprecated and will be removed from pandas in a future version. Use pandas.concat instead.\n",
      "  df = df.append({\n"
     ]
    },
    {
     "name": "stdout",
     "output_type": "stream",
     "text": [
      "Appending data for folder: 04_2Corinthians\n",
      "Checking folder: C:\\Users\\TANAY\\anaconda3\\envs\\SIT\\Bible_Texts\\करिंथकरांस दुसरे पत्र2CO\\05_2Corinthians\n",
      "Audio file path: C:\\Users\\TANAY\\anaconda3\\envs\\SIT\\Bible_Texts\\करिंथकरांस दुसरे पत्र2CO\\05_2Corinthians\\_05_2CorinthiansMARDPIN1DA.mp3\n",
      "Text file path: C:\\Users\\TANAY\\anaconda3\\envs\\SIT\\Bible_Texts\\करिंथकरांस दुसरे पत्र2CO\\05_2Corinthians\\5.txt\n"
     ]
    },
    {
     "name": "stderr",
     "output_type": "stream",
     "text": [
      "C:\\Users\\TANAY\\AppData\\Local\\Temp\\ipykernel_7252\\407795470.py:47: FutureWarning: The frame.append method is deprecated and will be removed from pandas in a future version. Use pandas.concat instead.\n",
      "  df = df.append({\n"
     ]
    },
    {
     "name": "stdout",
     "output_type": "stream",
     "text": [
      "Appending data for folder: 05_2Corinthians\n",
      "Checking folder: C:\\Users\\TANAY\\anaconda3\\envs\\SIT\\Bible_Texts\\करिंथकरांस दुसरे पत्र2CO\\06_2Corinthians\n",
      "Audio file path: C:\\Users\\TANAY\\anaconda3\\envs\\SIT\\Bible_Texts\\करिंथकरांस दुसरे पत्र2CO\\06_2Corinthians\\_06_2CorinthiansMARDPIN1DA.mp3\n",
      "Text file path: C:\\Users\\TANAY\\anaconda3\\envs\\SIT\\Bible_Texts\\करिंथकरांस दुसरे पत्र2CO\\06_2Corinthians\\6.txt\n"
     ]
    },
    {
     "name": "stderr",
     "output_type": "stream",
     "text": [
      "C:\\Users\\TANAY\\AppData\\Local\\Temp\\ipykernel_7252\\407795470.py:47: FutureWarning: The frame.append method is deprecated and will be removed from pandas in a future version. Use pandas.concat instead.\n",
      "  df = df.append({\n"
     ]
    },
    {
     "name": "stdout",
     "output_type": "stream",
     "text": [
      "Appending data for folder: 06_2Corinthians\n",
      "Checking folder: C:\\Users\\TANAY\\anaconda3\\envs\\SIT\\Bible_Texts\\करिंथकरांस दुसरे पत्र2CO\\07_2Corinthians\n",
      "Audio file path: C:\\Users\\TANAY\\anaconda3\\envs\\SIT\\Bible_Texts\\करिंथकरांस दुसरे पत्र2CO\\07_2Corinthians\\_07_2CorinthiansMARDPIN1DA.mp3\n",
      "Text file path: C:\\Users\\TANAY\\anaconda3\\envs\\SIT\\Bible_Texts\\करिंथकरांस दुसरे पत्र2CO\\07_2Corinthians\\7.txt\n"
     ]
    },
    {
     "name": "stderr",
     "output_type": "stream",
     "text": [
      "C:\\Users\\TANAY\\AppData\\Local\\Temp\\ipykernel_7252\\407795470.py:47: FutureWarning: The frame.append method is deprecated and will be removed from pandas in a future version. Use pandas.concat instead.\n",
      "  df = df.append({\n"
     ]
    },
    {
     "name": "stdout",
     "output_type": "stream",
     "text": [
      "Appending data for folder: 07_2Corinthians\n",
      "Checking folder: C:\\Users\\TANAY\\anaconda3\\envs\\SIT\\Bible_Texts\\करिंथकरांस दुसरे पत्र2CO\\08_2Corinthians\n",
      "Audio file path: C:\\Users\\TANAY\\anaconda3\\envs\\SIT\\Bible_Texts\\करिंथकरांस दुसरे पत्र2CO\\08_2Corinthians\\_08_2CorinthiansMARDPIN1DA.mp3\n",
      "Text file path: C:\\Users\\TANAY\\anaconda3\\envs\\SIT\\Bible_Texts\\करिंथकरांस दुसरे पत्र2CO\\08_2Corinthians\\8.txt\n"
     ]
    },
    {
     "name": "stderr",
     "output_type": "stream",
     "text": [
      "C:\\Users\\TANAY\\AppData\\Local\\Temp\\ipykernel_7252\\407795470.py:47: FutureWarning: The frame.append method is deprecated and will be removed from pandas in a future version. Use pandas.concat instead.\n",
      "  df = df.append({\n"
     ]
    },
    {
     "name": "stdout",
     "output_type": "stream",
     "text": [
      "Appending data for folder: 08_2Corinthians\n",
      "Checking folder: C:\\Users\\TANAY\\anaconda3\\envs\\SIT\\Bible_Texts\\करिंथकरांस दुसरे पत्र2CO\\09_2Corinthians\n",
      "Audio file path: C:\\Users\\TANAY\\anaconda3\\envs\\SIT\\Bible_Texts\\करिंथकरांस दुसरे पत्र2CO\\09_2Corinthians\\_09_2CorinthiansMARDPIN1DA.mp3\n",
      "Text file path: C:\\Users\\TANAY\\anaconda3\\envs\\SIT\\Bible_Texts\\करिंथकरांस दुसरे पत्र2CO\\09_2Corinthians\\9.txt\n"
     ]
    },
    {
     "name": "stderr",
     "output_type": "stream",
     "text": [
      "C:\\Users\\TANAY\\AppData\\Local\\Temp\\ipykernel_7252\\407795470.py:47: FutureWarning: The frame.append method is deprecated and will be removed from pandas in a future version. Use pandas.concat instead.\n",
      "  df = df.append({\n"
     ]
    },
    {
     "name": "stdout",
     "output_type": "stream",
     "text": [
      "Appending data for folder: 09_2Corinthians\n",
      "Checking folder: C:\\Users\\TANAY\\anaconda3\\envs\\SIT\\Bible_Texts\\करिंथकरांस दुसरे पत्र2CO\\10_2Corinthians\n",
      "Audio file path: C:\\Users\\TANAY\\anaconda3\\envs\\SIT\\Bible_Texts\\करिंथकरांस दुसरे पत्र2CO\\10_2Corinthians\\_10_2CorinthiansMARDPIN1DA.mp3\n",
      "Text file path: C:\\Users\\TANAY\\anaconda3\\envs\\SIT\\Bible_Texts\\करिंथकरांस दुसरे पत्र2CO\\10_2Corinthians\\10.txt\n"
     ]
    },
    {
     "name": "stderr",
     "output_type": "stream",
     "text": [
      "C:\\Users\\TANAY\\AppData\\Local\\Temp\\ipykernel_7252\\407795470.py:47: FutureWarning: The frame.append method is deprecated and will be removed from pandas in a future version. Use pandas.concat instead.\n",
      "  df = df.append({\n"
     ]
    },
    {
     "name": "stdout",
     "output_type": "stream",
     "text": [
      "Appending data for folder: 10_2Corinthians\n",
      "Checking folder: C:\\Users\\TANAY\\anaconda3\\envs\\SIT\\Bible_Texts\\करिंथकरांस दुसरे पत्र2CO\\11_2Corinthians\n",
      "Audio file path: C:\\Users\\TANAY\\anaconda3\\envs\\SIT\\Bible_Texts\\करिंथकरांस दुसरे पत्र2CO\\11_2Corinthians\\_11_2CorinthiansMARDPIN1DA.mp3\n",
      "Text file path: C:\\Users\\TANAY\\anaconda3\\envs\\SIT\\Bible_Texts\\करिंथकरांस दुसरे पत्र2CO\\11_2Corinthians\\11.txt\n"
     ]
    },
    {
     "name": "stderr",
     "output_type": "stream",
     "text": [
      "C:\\Users\\TANAY\\AppData\\Local\\Temp\\ipykernel_7252\\407795470.py:47: FutureWarning: The frame.append method is deprecated and will be removed from pandas in a future version. Use pandas.concat instead.\n",
      "  df = df.append({\n"
     ]
    },
    {
     "name": "stdout",
     "output_type": "stream",
     "text": [
      "Appending data for folder: 11_2Corinthians\n",
      "Checking folder: C:\\Users\\TANAY\\anaconda3\\envs\\SIT\\Bible_Texts\\करिंथकरांस दुसरे पत्र2CO\\12_2Corinthians\n",
      "Audio file path: C:\\Users\\TANAY\\anaconda3\\envs\\SIT\\Bible_Texts\\करिंथकरांस दुसरे पत्र2CO\\12_2Corinthians\\_12_2CorinthiansMARDPIN1DA.mp3\n",
      "Text file path: C:\\Users\\TANAY\\anaconda3\\envs\\SIT\\Bible_Texts\\करिंथकरांस दुसरे पत्र2CO\\12_2Corinthians\\12.txt\n"
     ]
    },
    {
     "name": "stderr",
     "output_type": "stream",
     "text": [
      "C:\\Users\\TANAY\\AppData\\Local\\Temp\\ipykernel_7252\\407795470.py:47: FutureWarning: The frame.append method is deprecated and will be removed from pandas in a future version. Use pandas.concat instead.\n",
      "  df = df.append({\n"
     ]
    },
    {
     "name": "stdout",
     "output_type": "stream",
     "text": [
      "Appending data for folder: 12_2Corinthians\n",
      "Checking folder: C:\\Users\\TANAY\\anaconda3\\envs\\SIT\\Bible_Texts\\करिंथकरांस दुसरे पत्र2CO\\13_2Corinthians\n",
      "Audio file path: C:\\Users\\TANAY\\anaconda3\\envs\\SIT\\Bible_Texts\\करिंथकरांस दुसरे पत्र2CO\\13_2Corinthians\\_13_2CorinthiansMARDPIN1DA.mp3\n",
      "Text file path: C:\\Users\\TANAY\\anaconda3\\envs\\SIT\\Bible_Texts\\करिंथकरांस दुसरे पत्र2CO\\13_2Corinthians\\13.txt\n"
     ]
    },
    {
     "name": "stderr",
     "output_type": "stream",
     "text": [
      "C:\\Users\\TANAY\\AppData\\Local\\Temp\\ipykernel_7252\\407795470.py:47: FutureWarning: The frame.append method is deprecated and will be removed from pandas in a future version. Use pandas.concat instead.\n",
      "  df = df.append({\n"
     ]
    },
    {
     "name": "stdout",
     "output_type": "stream",
     "text": [
      "Appending data for folder: 13_2Corinthians\n",
      "Checking folder: C:\\Users\\TANAY\\anaconda3\\envs\\SIT\\Bible_Texts\\करिंथकरांस पहिले पत्र1CO\\01_1Corinthians\n",
      "Audio file path: C:\\Users\\TANAY\\anaconda3\\envs\\SIT\\Bible_Texts\\करिंथकरांस पहिले पत्र1CO\\01_1Corinthians\\_01_1CorinthiansMARDPIN1DA.mp3\n",
      "Text file path: C:\\Users\\TANAY\\anaconda3\\envs\\SIT\\Bible_Texts\\करिंथकरांस पहिले पत्र1CO\\01_1Corinthians\\1.txt\n"
     ]
    },
    {
     "name": "stderr",
     "output_type": "stream",
     "text": [
      "C:\\Users\\TANAY\\AppData\\Local\\Temp\\ipykernel_7252\\407795470.py:47: FutureWarning: The frame.append method is deprecated and will be removed from pandas in a future version. Use pandas.concat instead.\n",
      "  df = df.append({\n"
     ]
    },
    {
     "name": "stdout",
     "output_type": "stream",
     "text": [
      "Appending data for folder: 01_1Corinthians\n",
      "Checking folder: C:\\Users\\TANAY\\anaconda3\\envs\\SIT\\Bible_Texts\\करिंथकरांस पहिले पत्र1CO\\02_1Corinthians\n",
      "Audio file path: C:\\Users\\TANAY\\anaconda3\\envs\\SIT\\Bible_Texts\\करिंथकरांस पहिले पत्र1CO\\02_1Corinthians\\_02_1CorinthiansMARDPIN1DA.mp3\n",
      "Text file path: C:\\Users\\TANAY\\anaconda3\\envs\\SIT\\Bible_Texts\\करिंथकरांस पहिले पत्र1CO\\02_1Corinthians\\2.txt\n"
     ]
    },
    {
     "name": "stderr",
     "output_type": "stream",
     "text": [
      "C:\\Users\\TANAY\\AppData\\Local\\Temp\\ipykernel_7252\\407795470.py:47: FutureWarning: The frame.append method is deprecated and will be removed from pandas in a future version. Use pandas.concat instead.\n",
      "  df = df.append({\n"
     ]
    },
    {
     "name": "stdout",
     "output_type": "stream",
     "text": [
      "Appending data for folder: 02_1Corinthians\n",
      "Checking folder: C:\\Users\\TANAY\\anaconda3\\envs\\SIT\\Bible_Texts\\करिंथकरांस पहिले पत्र1CO\\03_1Corinthians\n",
      "Audio file path: C:\\Users\\TANAY\\anaconda3\\envs\\SIT\\Bible_Texts\\करिंथकरांस पहिले पत्र1CO\\03_1Corinthians\\_03_1CorinthiansMARDPIN1DA.mp3\n",
      "Text file path: C:\\Users\\TANAY\\anaconda3\\envs\\SIT\\Bible_Texts\\करिंथकरांस पहिले पत्र1CO\\03_1Corinthians\\3.txt\n"
     ]
    },
    {
     "name": "stderr",
     "output_type": "stream",
     "text": [
      "C:\\Users\\TANAY\\AppData\\Local\\Temp\\ipykernel_7252\\407795470.py:47: FutureWarning: The frame.append method is deprecated and will be removed from pandas in a future version. Use pandas.concat instead.\n",
      "  df = df.append({\n"
     ]
    },
    {
     "name": "stdout",
     "output_type": "stream",
     "text": [
      "Appending data for folder: 03_1Corinthians\n",
      "Checking folder: C:\\Users\\TANAY\\anaconda3\\envs\\SIT\\Bible_Texts\\करिंथकरांस पहिले पत्र1CO\\04_1Corinthians\n",
      "Audio file path: C:\\Users\\TANAY\\anaconda3\\envs\\SIT\\Bible_Texts\\करिंथकरांस पहिले पत्र1CO\\04_1Corinthians\\_04_1CorinthiansMARDPIN1DA.mp3\n",
      "Text file path: C:\\Users\\TANAY\\anaconda3\\envs\\SIT\\Bible_Texts\\करिंथकरांस पहिले पत्र1CO\\04_1Corinthians\\4.txt\n"
     ]
    },
    {
     "name": "stderr",
     "output_type": "stream",
     "text": [
      "C:\\Users\\TANAY\\AppData\\Local\\Temp\\ipykernel_7252\\407795470.py:47: FutureWarning: The frame.append method is deprecated and will be removed from pandas in a future version. Use pandas.concat instead.\n",
      "  df = df.append({\n"
     ]
    },
    {
     "name": "stdout",
     "output_type": "stream",
     "text": [
      "Appending data for folder: 04_1Corinthians\n",
      "Checking folder: C:\\Users\\TANAY\\anaconda3\\envs\\SIT\\Bible_Texts\\करिंथकरांस पहिले पत्र1CO\\05_1Corinthians\n",
      "Audio file path: C:\\Users\\TANAY\\anaconda3\\envs\\SIT\\Bible_Texts\\करिंथकरांस पहिले पत्र1CO\\05_1Corinthians\\_05_1CorinthiansMARDPIN1DA.mp3\n",
      "Text file path: C:\\Users\\TANAY\\anaconda3\\envs\\SIT\\Bible_Texts\\करिंथकरांस पहिले पत्र1CO\\05_1Corinthians\\5.txt\n"
     ]
    },
    {
     "name": "stderr",
     "output_type": "stream",
     "text": [
      "C:\\Users\\TANAY\\AppData\\Local\\Temp\\ipykernel_7252\\407795470.py:47: FutureWarning: The frame.append method is deprecated and will be removed from pandas in a future version. Use pandas.concat instead.\n",
      "  df = df.append({\n"
     ]
    },
    {
     "name": "stdout",
     "output_type": "stream",
     "text": [
      "Appending data for folder: 05_1Corinthians\n",
      "Checking folder: C:\\Users\\TANAY\\anaconda3\\envs\\SIT\\Bible_Texts\\करिंथकरांस पहिले पत्र1CO\\06_1Corinthians\n",
      "Audio file path: C:\\Users\\TANAY\\anaconda3\\envs\\SIT\\Bible_Texts\\करिंथकरांस पहिले पत्र1CO\\06_1Corinthians\\_06_1CorinthiansMARDPIN1DA.mp3\n",
      "Text file path: C:\\Users\\TANAY\\anaconda3\\envs\\SIT\\Bible_Texts\\करिंथकरांस पहिले पत्र1CO\\06_1Corinthians\\6.txt\n"
     ]
    },
    {
     "name": "stderr",
     "output_type": "stream",
     "text": [
      "C:\\Users\\TANAY\\AppData\\Local\\Temp\\ipykernel_7252\\407795470.py:47: FutureWarning: The frame.append method is deprecated and will be removed from pandas in a future version. Use pandas.concat instead.\n",
      "  df = df.append({\n"
     ]
    },
    {
     "name": "stdout",
     "output_type": "stream",
     "text": [
      "Appending data for folder: 06_1Corinthians\n",
      "Checking folder: C:\\Users\\TANAY\\anaconda3\\envs\\SIT\\Bible_Texts\\करिंथकरांस पहिले पत्र1CO\\07_1Corinthians\n",
      "Audio file path: C:\\Users\\TANAY\\anaconda3\\envs\\SIT\\Bible_Texts\\करिंथकरांस पहिले पत्र1CO\\07_1Corinthians\\_07_1CorinthiansMARDPIN1DA.mp3\n",
      "Text file path: C:\\Users\\TANAY\\anaconda3\\envs\\SIT\\Bible_Texts\\करिंथकरांस पहिले पत्र1CO\\07_1Corinthians\\7.txt\n"
     ]
    },
    {
     "name": "stderr",
     "output_type": "stream",
     "text": [
      "C:\\Users\\TANAY\\AppData\\Local\\Temp\\ipykernel_7252\\407795470.py:47: FutureWarning: The frame.append method is deprecated and will be removed from pandas in a future version. Use pandas.concat instead.\n",
      "  df = df.append({\n"
     ]
    },
    {
     "name": "stdout",
     "output_type": "stream",
     "text": [
      "Appending data for folder: 07_1Corinthians\n",
      "Checking folder: C:\\Users\\TANAY\\anaconda3\\envs\\SIT\\Bible_Texts\\करिंथकरांस पहिले पत्र1CO\\08_1Corinthians\n",
      "Audio file path: C:\\Users\\TANAY\\anaconda3\\envs\\SIT\\Bible_Texts\\करिंथकरांस पहिले पत्र1CO\\08_1Corinthians\\_08_1CorinthiansMARDPIN1DA.mp3\n",
      "Text file path: C:\\Users\\TANAY\\anaconda3\\envs\\SIT\\Bible_Texts\\करिंथकरांस पहिले पत्र1CO\\08_1Corinthians\\8.txt\n"
     ]
    },
    {
     "name": "stderr",
     "output_type": "stream",
     "text": [
      "C:\\Users\\TANAY\\AppData\\Local\\Temp\\ipykernel_7252\\407795470.py:47: FutureWarning: The frame.append method is deprecated and will be removed from pandas in a future version. Use pandas.concat instead.\n",
      "  df = df.append({\n"
     ]
    },
    {
     "name": "stdout",
     "output_type": "stream",
     "text": [
      "Appending data for folder: 08_1Corinthians\n",
      "Checking folder: C:\\Users\\TANAY\\anaconda3\\envs\\SIT\\Bible_Texts\\करिंथकरांस पहिले पत्र1CO\\09_1Corinthians\n",
      "Audio file path: C:\\Users\\TANAY\\anaconda3\\envs\\SIT\\Bible_Texts\\करिंथकरांस पहिले पत्र1CO\\09_1Corinthians\\_09_1CorinthiansMARDPIN1DA.mp3\n",
      "Text file path: C:\\Users\\TANAY\\anaconda3\\envs\\SIT\\Bible_Texts\\करिंथकरांस पहिले पत्र1CO\\09_1Corinthians\\9.txt\n"
     ]
    },
    {
     "name": "stderr",
     "output_type": "stream",
     "text": [
      "C:\\Users\\TANAY\\AppData\\Local\\Temp\\ipykernel_7252\\407795470.py:47: FutureWarning: The frame.append method is deprecated and will be removed from pandas in a future version. Use pandas.concat instead.\n",
      "  df = df.append({\n"
     ]
    },
    {
     "name": "stdout",
     "output_type": "stream",
     "text": [
      "Appending data for folder: 09_1Corinthians\n",
      "Checking folder: C:\\Users\\TANAY\\anaconda3\\envs\\SIT\\Bible_Texts\\करिंथकरांस पहिले पत्र1CO\\10_1Corinthians\n",
      "Audio file path: C:\\Users\\TANAY\\anaconda3\\envs\\SIT\\Bible_Texts\\करिंथकरांस पहिले पत्र1CO\\10_1Corinthians\\_10_1CorinthiansMARDPIN1DA.mp3\n",
      "Text file path: C:\\Users\\TANAY\\anaconda3\\envs\\SIT\\Bible_Texts\\करिंथकरांस पहिले पत्र1CO\\10_1Corinthians\\10.txt\n"
     ]
    },
    {
     "name": "stderr",
     "output_type": "stream",
     "text": [
      "C:\\Users\\TANAY\\AppData\\Local\\Temp\\ipykernel_7252\\407795470.py:47: FutureWarning: The frame.append method is deprecated and will be removed from pandas in a future version. Use pandas.concat instead.\n",
      "  df = df.append({\n"
     ]
    },
    {
     "name": "stdout",
     "output_type": "stream",
     "text": [
      "Appending data for folder: 10_1Corinthians\n",
      "Checking folder: C:\\Users\\TANAY\\anaconda3\\envs\\SIT\\Bible_Texts\\करिंथकरांस पहिले पत्र1CO\\11_1Corinthians\n",
      "Audio file path: C:\\Users\\TANAY\\anaconda3\\envs\\SIT\\Bible_Texts\\करिंथकरांस पहिले पत्र1CO\\11_1Corinthians\\_11_1CorinthiansMARDPIN1DA.mp3\n",
      "Text file path: C:\\Users\\TANAY\\anaconda3\\envs\\SIT\\Bible_Texts\\करिंथकरांस पहिले पत्र1CO\\11_1Corinthians\\11.txt\n"
     ]
    },
    {
     "name": "stderr",
     "output_type": "stream",
     "text": [
      "C:\\Users\\TANAY\\AppData\\Local\\Temp\\ipykernel_7252\\407795470.py:47: FutureWarning: The frame.append method is deprecated and will be removed from pandas in a future version. Use pandas.concat instead.\n",
      "  df = df.append({\n"
     ]
    },
    {
     "name": "stdout",
     "output_type": "stream",
     "text": [
      "Appending data for folder: 11_1Corinthians\n",
      "Checking folder: C:\\Users\\TANAY\\anaconda3\\envs\\SIT\\Bible_Texts\\करिंथकरांस पहिले पत्र1CO\\12_1Corinthians\n",
      "Audio file path: C:\\Users\\TANAY\\anaconda3\\envs\\SIT\\Bible_Texts\\करिंथकरांस पहिले पत्र1CO\\12_1Corinthians\\_12_1CorinthiansMARDPIN1DA.mp3\n",
      "Text file path: C:\\Users\\TANAY\\anaconda3\\envs\\SIT\\Bible_Texts\\करिंथकरांस पहिले पत्र1CO\\12_1Corinthians\\12.txt\n"
     ]
    },
    {
     "name": "stderr",
     "output_type": "stream",
     "text": [
      "C:\\Users\\TANAY\\AppData\\Local\\Temp\\ipykernel_7252\\407795470.py:47: FutureWarning: The frame.append method is deprecated and will be removed from pandas in a future version. Use pandas.concat instead.\n",
      "  df = df.append({\n"
     ]
    },
    {
     "name": "stdout",
     "output_type": "stream",
     "text": [
      "Appending data for folder: 12_1Corinthians\n",
      "Checking folder: C:\\Users\\TANAY\\anaconda3\\envs\\SIT\\Bible_Texts\\करिंथकरांस पहिले पत्र1CO\\13_1Corinthians\n",
      "Audio file path: C:\\Users\\TANAY\\anaconda3\\envs\\SIT\\Bible_Texts\\करिंथकरांस पहिले पत्र1CO\\13_1Corinthians\\_13_1CorinthiansMARDPIN1DA.mp3\n",
      "Text file path: C:\\Users\\TANAY\\anaconda3\\envs\\SIT\\Bible_Texts\\करिंथकरांस पहिले पत्र1CO\\13_1Corinthians\\13.txt\n"
     ]
    },
    {
     "name": "stderr",
     "output_type": "stream",
     "text": [
      "C:\\Users\\TANAY\\AppData\\Local\\Temp\\ipykernel_7252\\407795470.py:47: FutureWarning: The frame.append method is deprecated and will be removed from pandas in a future version. Use pandas.concat instead.\n",
      "  df = df.append({\n"
     ]
    },
    {
     "name": "stdout",
     "output_type": "stream",
     "text": [
      "Appending data for folder: 13_1Corinthians\n",
      "Checking folder: C:\\Users\\TANAY\\anaconda3\\envs\\SIT\\Bible_Texts\\करिंथकरांस पहिले पत्र1CO\\14_1Corinthians\n",
      "Audio file path: C:\\Users\\TANAY\\anaconda3\\envs\\SIT\\Bible_Texts\\करिंथकरांस पहिले पत्र1CO\\14_1Corinthians\\_14_1CorinthiansMARDPIN1DA.mp3\n",
      "Text file path: C:\\Users\\TANAY\\anaconda3\\envs\\SIT\\Bible_Texts\\करिंथकरांस पहिले पत्र1CO\\14_1Corinthians\\14.txt\n"
     ]
    },
    {
     "name": "stderr",
     "output_type": "stream",
     "text": [
      "C:\\Users\\TANAY\\AppData\\Local\\Temp\\ipykernel_7252\\407795470.py:47: FutureWarning: The frame.append method is deprecated and will be removed from pandas in a future version. Use pandas.concat instead.\n",
      "  df = df.append({\n"
     ]
    },
    {
     "name": "stdout",
     "output_type": "stream",
     "text": [
      "Appending data for folder: 14_1Corinthians\n",
      "Checking folder: C:\\Users\\TANAY\\anaconda3\\envs\\SIT\\Bible_Texts\\करिंथकरांस पहिले पत्र1CO\\15_1Corinthians\n",
      "Audio file path: C:\\Users\\TANAY\\anaconda3\\envs\\SIT\\Bible_Texts\\करिंथकरांस पहिले पत्र1CO\\15_1Corinthians\\_15_1CorinthiansMARDPIN1DA.mp3\n",
      "Text file path: C:\\Users\\TANAY\\anaconda3\\envs\\SIT\\Bible_Texts\\करिंथकरांस पहिले पत्र1CO\\15_1Corinthians\\15.txt\n"
     ]
    },
    {
     "name": "stderr",
     "output_type": "stream",
     "text": [
      "C:\\Users\\TANAY\\AppData\\Local\\Temp\\ipykernel_7252\\407795470.py:47: FutureWarning: The frame.append method is deprecated and will be removed from pandas in a future version. Use pandas.concat instead.\n",
      "  df = df.append({\n"
     ]
    },
    {
     "name": "stdout",
     "output_type": "stream",
     "text": [
      "Appending data for folder: 15_1Corinthians\n",
      "Checking folder: C:\\Users\\TANAY\\anaconda3\\envs\\SIT\\Bible_Texts\\करिंथकरांस पहिले पत्र1CO\\16_1Corinthians\n",
      "Audio file path: C:\\Users\\TANAY\\anaconda3\\envs\\SIT\\Bible_Texts\\करिंथकरांस पहिले पत्र1CO\\16_1Corinthians\\_16_1CorinthiansMARDPIN1DA.mp3\n",
      "Text file path: C:\\Users\\TANAY\\anaconda3\\envs\\SIT\\Bible_Texts\\करिंथकरांस पहिले पत्र1CO\\16_1Corinthians\\16.txt\n"
     ]
    },
    {
     "name": "stderr",
     "output_type": "stream",
     "text": [
      "C:\\Users\\TANAY\\AppData\\Local\\Temp\\ipykernel_7252\\407795470.py:47: FutureWarning: The frame.append method is deprecated and will be removed from pandas in a future version. Use pandas.concat instead.\n",
      "  df = df.append({\n"
     ]
    },
    {
     "name": "stdout",
     "output_type": "stream",
     "text": [
      "Appending data for folder: 16_1Corinthians\n",
      "Checking folder: C:\\Users\\TANAY\\anaconda3\\envs\\SIT\\Bible_Texts\\कलस्सैकरांस पत्रCOL\\01_Colossians__\n",
      "Audio file path: C:\\Users\\TANAY\\anaconda3\\envs\\SIT\\Bible_Texts\\कलस्सैकरांस पत्रCOL\\01_Colossians__\\_01_Colossians__MARDPIN1DA.mp3\n",
      "Text file path: C:\\Users\\TANAY\\anaconda3\\envs\\SIT\\Bible_Texts\\कलस्सैकरांस पत्रCOL\\01_Colossians__\\1.txt\n"
     ]
    },
    {
     "name": "stderr",
     "output_type": "stream",
     "text": [
      "C:\\Users\\TANAY\\AppData\\Local\\Temp\\ipykernel_7252\\407795470.py:47: FutureWarning: The frame.append method is deprecated and will be removed from pandas in a future version. Use pandas.concat instead.\n",
      "  df = df.append({\n"
     ]
    },
    {
     "name": "stdout",
     "output_type": "stream",
     "text": [
      "Appending data for folder: 01_Colossians__\n",
      "Checking folder: C:\\Users\\TANAY\\anaconda3\\envs\\SIT\\Bible_Texts\\कलस्सैकरांस पत्रCOL\\02_Colossians__\n",
      "Audio file path: C:\\Users\\TANAY\\anaconda3\\envs\\SIT\\Bible_Texts\\कलस्सैकरांस पत्रCOL\\02_Colossians__\\_02_Colossians__MARDPIN1DA.mp3\n",
      "Text file path: C:\\Users\\TANAY\\anaconda3\\envs\\SIT\\Bible_Texts\\कलस्सैकरांस पत्रCOL\\02_Colossians__\\2.txt\n"
     ]
    },
    {
     "name": "stderr",
     "output_type": "stream",
     "text": [
      "C:\\Users\\TANAY\\AppData\\Local\\Temp\\ipykernel_7252\\407795470.py:47: FutureWarning: The frame.append method is deprecated and will be removed from pandas in a future version. Use pandas.concat instead.\n",
      "  df = df.append({\n"
     ]
    },
    {
     "name": "stdout",
     "output_type": "stream",
     "text": [
      "Appending data for folder: 02_Colossians__\n",
      "Checking folder: C:\\Users\\TANAY\\anaconda3\\envs\\SIT\\Bible_Texts\\कलस्सैकरांस पत्रCOL\\03_Colossians__\n",
      "Audio file path: C:\\Users\\TANAY\\anaconda3\\envs\\SIT\\Bible_Texts\\कलस्सैकरांस पत्रCOL\\03_Colossians__\\_03_Colossians__MARDPIN1DA.mp3\n",
      "Text file path: C:\\Users\\TANAY\\anaconda3\\envs\\SIT\\Bible_Texts\\कलस्सैकरांस पत्रCOL\\03_Colossians__\\3.txt\n"
     ]
    },
    {
     "name": "stderr",
     "output_type": "stream",
     "text": [
      "C:\\Users\\TANAY\\AppData\\Local\\Temp\\ipykernel_7252\\407795470.py:47: FutureWarning: The frame.append method is deprecated and will be removed from pandas in a future version. Use pandas.concat instead.\n",
      "  df = df.append({\n"
     ]
    },
    {
     "name": "stdout",
     "output_type": "stream",
     "text": [
      "Appending data for folder: 03_Colossians__\n",
      "Checking folder: C:\\Users\\TANAY\\anaconda3\\envs\\SIT\\Bible_Texts\\कलस्सैकरांस पत्रCOL\\04_Colossians__\n",
      "Audio file path: C:\\Users\\TANAY\\anaconda3\\envs\\SIT\\Bible_Texts\\कलस्सैकरांस पत्रCOL\\04_Colossians__\\_04_Colossians__MARDPIN1DA.mp3\n",
      "Text file path: C:\\Users\\TANAY\\anaconda3\\envs\\SIT\\Bible_Texts\\कलस्सैकरांस पत्रCOL\\04_Colossians__\\4.txt\n"
     ]
    },
    {
     "name": "stderr",
     "output_type": "stream",
     "text": [
      "C:\\Users\\TANAY\\AppData\\Local\\Temp\\ipykernel_7252\\407795470.py:47: FutureWarning: The frame.append method is deprecated and will be removed from pandas in a future version. Use pandas.concat instead.\n",
      "  df = df.append({\n"
     ]
    },
    {
     "name": "stdout",
     "output_type": "stream",
     "text": [
      "Appending data for folder: 04_Colossians__\n",
      "Checking folder: C:\\Users\\TANAY\\anaconda3\\envs\\SIT\\Bible_Texts\\गलतीकरांस पत्रGAL\\01_Galatians___\n",
      "Audio file path: C:\\Users\\TANAY\\anaconda3\\envs\\SIT\\Bible_Texts\\गलतीकरांस पत्रGAL\\01_Galatians___\\_01_Galatians___MARDPIN1DA.mp3\n",
      "Text file path: C:\\Users\\TANAY\\anaconda3\\envs\\SIT\\Bible_Texts\\गलतीकरांस पत्रGAL\\01_Galatians___\\1.txt\n"
     ]
    },
    {
     "name": "stderr",
     "output_type": "stream",
     "text": [
      "C:\\Users\\TANAY\\AppData\\Local\\Temp\\ipykernel_7252\\407795470.py:47: FutureWarning: The frame.append method is deprecated and will be removed from pandas in a future version. Use pandas.concat instead.\n",
      "  df = df.append({\n"
     ]
    },
    {
     "name": "stdout",
     "output_type": "stream",
     "text": [
      "Appending data for folder: 01_Galatians___\n",
      "Checking folder: C:\\Users\\TANAY\\anaconda3\\envs\\SIT\\Bible_Texts\\गलतीकरांस पत्रGAL\\02_Galatians___\n",
      "Audio file path: C:\\Users\\TANAY\\anaconda3\\envs\\SIT\\Bible_Texts\\गलतीकरांस पत्रGAL\\02_Galatians___\\_02_Galatians___MARDPIN1DA.mp3\n",
      "Text file path: C:\\Users\\TANAY\\anaconda3\\envs\\SIT\\Bible_Texts\\गलतीकरांस पत्रGAL\\02_Galatians___\\2.txt\n"
     ]
    },
    {
     "name": "stderr",
     "output_type": "stream",
     "text": [
      "C:\\Users\\TANAY\\AppData\\Local\\Temp\\ipykernel_7252\\407795470.py:47: FutureWarning: The frame.append method is deprecated and will be removed from pandas in a future version. Use pandas.concat instead.\n",
      "  df = df.append({\n"
     ]
    },
    {
     "name": "stdout",
     "output_type": "stream",
     "text": [
      "Appending data for folder: 02_Galatians___\n",
      "Checking folder: C:\\Users\\TANAY\\anaconda3\\envs\\SIT\\Bible_Texts\\गलतीकरांस पत्रGAL\\03_Galatians___\n",
      "Audio file path: C:\\Users\\TANAY\\anaconda3\\envs\\SIT\\Bible_Texts\\गलतीकरांस पत्रGAL\\03_Galatians___\\_03_Galatians___MARDPIN1DA.mp3\n",
      "Text file path: C:\\Users\\TANAY\\anaconda3\\envs\\SIT\\Bible_Texts\\गलतीकरांस पत्रGAL\\03_Galatians___\\3.txt\n"
     ]
    },
    {
     "name": "stderr",
     "output_type": "stream",
     "text": [
      "C:\\Users\\TANAY\\AppData\\Local\\Temp\\ipykernel_7252\\407795470.py:47: FutureWarning: The frame.append method is deprecated and will be removed from pandas in a future version. Use pandas.concat instead.\n",
      "  df = df.append({\n"
     ]
    },
    {
     "name": "stdout",
     "output_type": "stream",
     "text": [
      "Appending data for folder: 03_Galatians___\n",
      "Checking folder: C:\\Users\\TANAY\\anaconda3\\envs\\SIT\\Bible_Texts\\गलतीकरांस पत्रGAL\\04_Galatians___\n",
      "Audio file path: C:\\Users\\TANAY\\anaconda3\\envs\\SIT\\Bible_Texts\\गलतीकरांस पत्रGAL\\04_Galatians___\\_04_Galatians___MARDPIN1DA.mp3\n",
      "Text file path: C:\\Users\\TANAY\\anaconda3\\envs\\SIT\\Bible_Texts\\गलतीकरांस पत्रGAL\\04_Galatians___\\4.txt\n"
     ]
    },
    {
     "name": "stderr",
     "output_type": "stream",
     "text": [
      "C:\\Users\\TANAY\\AppData\\Local\\Temp\\ipykernel_7252\\407795470.py:47: FutureWarning: The frame.append method is deprecated and will be removed from pandas in a future version. Use pandas.concat instead.\n",
      "  df = df.append({\n"
     ]
    },
    {
     "name": "stdout",
     "output_type": "stream",
     "text": [
      "Appending data for folder: 04_Galatians___\n",
      "Checking folder: C:\\Users\\TANAY\\anaconda3\\envs\\SIT\\Bible_Texts\\गलतीकरांस पत्रGAL\\05_Galatians___\n",
      "Audio file path: C:\\Users\\TANAY\\anaconda3\\envs\\SIT\\Bible_Texts\\गलतीकरांस पत्रGAL\\05_Galatians___\\_05_Galatians___MARDPIN1DA.mp3\n",
      "Text file path: C:\\Users\\TANAY\\anaconda3\\envs\\SIT\\Bible_Texts\\गलतीकरांस पत्रGAL\\05_Galatians___\\5.txt\n"
     ]
    },
    {
     "name": "stderr",
     "output_type": "stream",
     "text": [
      "C:\\Users\\TANAY\\AppData\\Local\\Temp\\ipykernel_7252\\407795470.py:47: FutureWarning: The frame.append method is deprecated and will be removed from pandas in a future version. Use pandas.concat instead.\n",
      "  df = df.append({\n"
     ]
    },
    {
     "name": "stdout",
     "output_type": "stream",
     "text": [
      "Appending data for folder: 05_Galatians___\n",
      "Checking folder: C:\\Users\\TANAY\\anaconda3\\envs\\SIT\\Bible_Texts\\गलतीकरांस पत्रGAL\\06_Galatians___\n",
      "Audio file path: C:\\Users\\TANAY\\anaconda3\\envs\\SIT\\Bible_Texts\\गलतीकरांस पत्रGAL\\06_Galatians___\\_06_Galatians___MARDPIN1DA.mp3\n",
      "Text file path: C:\\Users\\TANAY\\anaconda3\\envs\\SIT\\Bible_Texts\\गलतीकरांस पत्रGAL\\06_Galatians___\\6.txt\n"
     ]
    },
    {
     "name": "stderr",
     "output_type": "stream",
     "text": [
      "C:\\Users\\TANAY\\AppData\\Local\\Temp\\ipykernel_7252\\407795470.py:47: FutureWarning: The frame.append method is deprecated and will be removed from pandas in a future version. Use pandas.concat instead.\n",
      "  df = df.append({\n"
     ]
    },
    {
     "name": "stdout",
     "output_type": "stream",
     "text": [
      "Appending data for folder: 06_Galatians___\n",
      "Checking folder: C:\\Users\\TANAY\\anaconda3\\envs\\SIT\\Bible_Texts\\तीताला पत्रTIT\\01_Titus_______\n",
      "Audio file path: C:\\Users\\TANAY\\anaconda3\\envs\\SIT\\Bible_Texts\\तीताला पत्रTIT\\01_Titus_______\\_01_Titus_______MARDPIN1DA.mp3\n",
      "Text file path: C:\\Users\\TANAY\\anaconda3\\envs\\SIT\\Bible_Texts\\तीताला पत्रTIT\\01_Titus_______\\1.txt\n"
     ]
    },
    {
     "name": "stderr",
     "output_type": "stream",
     "text": [
      "C:\\Users\\TANAY\\AppData\\Local\\Temp\\ipykernel_7252\\407795470.py:47: FutureWarning: The frame.append method is deprecated and will be removed from pandas in a future version. Use pandas.concat instead.\n",
      "  df = df.append({\n"
     ]
    },
    {
     "name": "stdout",
     "output_type": "stream",
     "text": [
      "Appending data for folder: 01_Titus_______\n",
      "Checking folder: C:\\Users\\TANAY\\anaconda3\\envs\\SIT\\Bible_Texts\\तीताला पत्रTIT\\02_Titus_______\n",
      "Audio file path: C:\\Users\\TANAY\\anaconda3\\envs\\SIT\\Bible_Texts\\तीताला पत्रTIT\\02_Titus_______\\_02_Titus_______MARDPIN1DA.mp3\n",
      "Text file path: C:\\Users\\TANAY\\anaconda3\\envs\\SIT\\Bible_Texts\\तीताला पत्रTIT\\02_Titus_______\\2.txt\n"
     ]
    },
    {
     "name": "stderr",
     "output_type": "stream",
     "text": [
      "C:\\Users\\TANAY\\AppData\\Local\\Temp\\ipykernel_7252\\407795470.py:47: FutureWarning: The frame.append method is deprecated and will be removed from pandas in a future version. Use pandas.concat instead.\n",
      "  df = df.append({\n"
     ]
    },
    {
     "name": "stdout",
     "output_type": "stream",
     "text": [
      "Appending data for folder: 02_Titus_______\n",
      "Checking folder: C:\\Users\\TANAY\\anaconda3\\envs\\SIT\\Bible_Texts\\तीताला पत्रTIT\\03_Titus_______\n",
      "Audio file path: C:\\Users\\TANAY\\anaconda3\\envs\\SIT\\Bible_Texts\\तीताला पत्रTIT\\03_Titus_______\\_03_Titus_______MARDPIN1DA.mp3\n",
      "Text file path: C:\\Users\\TANAY\\anaconda3\\envs\\SIT\\Bible_Texts\\तीताला पत्रTIT\\03_Titus_______\\3.txt\n"
     ]
    },
    {
     "name": "stderr",
     "output_type": "stream",
     "text": [
      "C:\\Users\\TANAY\\AppData\\Local\\Temp\\ipykernel_7252\\407795470.py:47: FutureWarning: The frame.append method is deprecated and will be removed from pandas in a future version. Use pandas.concat instead.\n",
      "  df = df.append({\n"
     ]
    },
    {
     "name": "stdout",
     "output_type": "stream",
     "text": [
      "Appending data for folder: 03_Titus_______\n",
      "Checking folder: C:\\Users\\TANAY\\anaconda3\\envs\\SIT\\Bible_Texts\\तीमथ्याला दुसरे पत्र2TI\\01_2Timothy____\n",
      "Audio file path: C:\\Users\\TANAY\\anaconda3\\envs\\SIT\\Bible_Texts\\तीमथ्याला दुसरे पत्र2TI\\01_2Timothy____\\_01_2Timothy____MARDPIN1DA.mp3\n",
      "Text file path: C:\\Users\\TANAY\\anaconda3\\envs\\SIT\\Bible_Texts\\तीमथ्याला दुसरे पत्र2TI\\01_2Timothy____\\1.txt\n"
     ]
    },
    {
     "name": "stderr",
     "output_type": "stream",
     "text": [
      "C:\\Users\\TANAY\\AppData\\Local\\Temp\\ipykernel_7252\\407795470.py:47: FutureWarning: The frame.append method is deprecated and will be removed from pandas in a future version. Use pandas.concat instead.\n",
      "  df = df.append({\n"
     ]
    },
    {
     "name": "stdout",
     "output_type": "stream",
     "text": [
      "Appending data for folder: 01_2Timothy____\n",
      "Checking folder: C:\\Users\\TANAY\\anaconda3\\envs\\SIT\\Bible_Texts\\तीमथ्याला दुसरे पत्र2TI\\02_2Timothy____\n",
      "Audio file path: C:\\Users\\TANAY\\anaconda3\\envs\\SIT\\Bible_Texts\\तीमथ्याला दुसरे पत्र2TI\\02_2Timothy____\\_02_2Timothy____MARDPIN1DA.mp3\n",
      "Text file path: C:\\Users\\TANAY\\anaconda3\\envs\\SIT\\Bible_Texts\\तीमथ्याला दुसरे पत्र2TI\\02_2Timothy____\\2.txt\n"
     ]
    },
    {
     "name": "stderr",
     "output_type": "stream",
     "text": [
      "C:\\Users\\TANAY\\AppData\\Local\\Temp\\ipykernel_7252\\407795470.py:47: FutureWarning: The frame.append method is deprecated and will be removed from pandas in a future version. Use pandas.concat instead.\n",
      "  df = df.append({\n"
     ]
    },
    {
     "name": "stdout",
     "output_type": "stream",
     "text": [
      "Appending data for folder: 02_2Timothy____\n",
      "Checking folder: C:\\Users\\TANAY\\anaconda3\\envs\\SIT\\Bible_Texts\\तीमथ्याला दुसरे पत्र2TI\\03_2Timothy____\n",
      "Audio file path: C:\\Users\\TANAY\\anaconda3\\envs\\SIT\\Bible_Texts\\तीमथ्याला दुसरे पत्र2TI\\03_2Timothy____\\_03_2Timothy____MARDPIN1DA.mp3\n",
      "Text file path: C:\\Users\\TANAY\\anaconda3\\envs\\SIT\\Bible_Texts\\तीमथ्याला दुसरे पत्र2TI\\03_2Timothy____\\3.txt\n"
     ]
    },
    {
     "name": "stderr",
     "output_type": "stream",
     "text": [
      "C:\\Users\\TANAY\\AppData\\Local\\Temp\\ipykernel_7252\\407795470.py:47: FutureWarning: The frame.append method is deprecated and will be removed from pandas in a future version. Use pandas.concat instead.\n",
      "  df = df.append({\n"
     ]
    },
    {
     "name": "stdout",
     "output_type": "stream",
     "text": [
      "Appending data for folder: 03_2Timothy____\n",
      "Checking folder: C:\\Users\\TANAY\\anaconda3\\envs\\SIT\\Bible_Texts\\तीमथ्याला दुसरे पत्र2TI\\04_2Timothy____\n",
      "Audio file path: C:\\Users\\TANAY\\anaconda3\\envs\\SIT\\Bible_Texts\\तीमथ्याला दुसरे पत्र2TI\\04_2Timothy____\\_04_2Timothy____MARDPIN1DA.mp3\n",
      "Text file path: C:\\Users\\TANAY\\anaconda3\\envs\\SIT\\Bible_Texts\\तीमथ्याला दुसरे पत्र2TI\\04_2Timothy____\\4.txt\n"
     ]
    },
    {
     "name": "stderr",
     "output_type": "stream",
     "text": [
      "C:\\Users\\TANAY\\AppData\\Local\\Temp\\ipykernel_7252\\407795470.py:47: FutureWarning: The frame.append method is deprecated and will be removed from pandas in a future version. Use pandas.concat instead.\n",
      "  df = df.append({\n"
     ]
    },
    {
     "name": "stdout",
     "output_type": "stream",
     "text": [
      "Appending data for folder: 04_2Timothy____\n",
      "Checking folder: C:\\Users\\TANAY\\anaconda3\\envs\\SIT\\Bible_Texts\\तीमथ्याला पहिले पत्र1TI\\01_1Timothy____\n",
      "Audio file path: C:\\Users\\TANAY\\anaconda3\\envs\\SIT\\Bible_Texts\\तीमथ्याला पहिले पत्र1TI\\01_1Timothy____\\_01_1Timothy____MARDPIN1DA.mp3\n",
      "Text file path: C:\\Users\\TANAY\\anaconda3\\envs\\SIT\\Bible_Texts\\तीमथ्याला पहिले पत्र1TI\\01_1Timothy____\\1.txt\n"
     ]
    },
    {
     "name": "stderr",
     "output_type": "stream",
     "text": [
      "C:\\Users\\TANAY\\AppData\\Local\\Temp\\ipykernel_7252\\407795470.py:47: FutureWarning: The frame.append method is deprecated and will be removed from pandas in a future version. Use pandas.concat instead.\n",
      "  df = df.append({\n"
     ]
    },
    {
     "name": "stdout",
     "output_type": "stream",
     "text": [
      "Appending data for folder: 01_1Timothy____\n",
      "Checking folder: C:\\Users\\TANAY\\anaconda3\\envs\\SIT\\Bible_Texts\\तीमथ्याला पहिले पत्र1TI\\02_1Timothy____\n",
      "Audio file path: C:\\Users\\TANAY\\anaconda3\\envs\\SIT\\Bible_Texts\\तीमथ्याला पहिले पत्र1TI\\02_1Timothy____\\_02_1Timothy____MARDPIN1DA.mp3\n",
      "Text file path: C:\\Users\\TANAY\\anaconda3\\envs\\SIT\\Bible_Texts\\तीमथ्याला पहिले पत्र1TI\\02_1Timothy____\\2.txt\n"
     ]
    },
    {
     "name": "stderr",
     "output_type": "stream",
     "text": [
      "C:\\Users\\TANAY\\AppData\\Local\\Temp\\ipykernel_7252\\407795470.py:47: FutureWarning: The frame.append method is deprecated and will be removed from pandas in a future version. Use pandas.concat instead.\n",
      "  df = df.append({\n"
     ]
    },
    {
     "name": "stdout",
     "output_type": "stream",
     "text": [
      "Appending data for folder: 02_1Timothy____\n",
      "Checking folder: C:\\Users\\TANAY\\anaconda3\\envs\\SIT\\Bible_Texts\\तीमथ्याला पहिले पत्र1TI\\03_1Timothy____\n",
      "Audio file path: C:\\Users\\TANAY\\anaconda3\\envs\\SIT\\Bible_Texts\\तीमथ्याला पहिले पत्र1TI\\03_1Timothy____\\_03_1Timothy____MARDPIN1DA.mp3\n",
      "Text file path: C:\\Users\\TANAY\\anaconda3\\envs\\SIT\\Bible_Texts\\तीमथ्याला पहिले पत्र1TI\\03_1Timothy____\\3.txt\n"
     ]
    },
    {
     "name": "stderr",
     "output_type": "stream",
     "text": [
      "C:\\Users\\TANAY\\AppData\\Local\\Temp\\ipykernel_7252\\407795470.py:47: FutureWarning: The frame.append method is deprecated and will be removed from pandas in a future version. Use pandas.concat instead.\n",
      "  df = df.append({\n"
     ]
    },
    {
     "name": "stdout",
     "output_type": "stream",
     "text": [
      "Appending data for folder: 03_1Timothy____\n",
      "Checking folder: C:\\Users\\TANAY\\anaconda3\\envs\\SIT\\Bible_Texts\\तीमथ्याला पहिले पत्र1TI\\04_1Timothy____\n",
      "Audio file path: C:\\Users\\TANAY\\anaconda3\\envs\\SIT\\Bible_Texts\\तीमथ्याला पहिले पत्र1TI\\04_1Timothy____\\_04_1Timothy____MARDPIN1DA.mp3\n",
      "Text file path: C:\\Users\\TANAY\\anaconda3\\envs\\SIT\\Bible_Texts\\तीमथ्याला पहिले पत्र1TI\\04_1Timothy____\\4.txt\n"
     ]
    },
    {
     "name": "stderr",
     "output_type": "stream",
     "text": [
      "C:\\Users\\TANAY\\AppData\\Local\\Temp\\ipykernel_7252\\407795470.py:47: FutureWarning: The frame.append method is deprecated and will be removed from pandas in a future version. Use pandas.concat instead.\n",
      "  df = df.append({\n"
     ]
    },
    {
     "name": "stdout",
     "output_type": "stream",
     "text": [
      "Appending data for folder: 04_1Timothy____\n",
      "Checking folder: C:\\Users\\TANAY\\anaconda3\\envs\\SIT\\Bible_Texts\\तीमथ्याला पहिले पत्र1TI\\05_1Timothy____\n",
      "Audio file path: C:\\Users\\TANAY\\anaconda3\\envs\\SIT\\Bible_Texts\\तीमथ्याला पहिले पत्र1TI\\05_1Timothy____\\_05_1Timothy____MARDPIN1DA.mp3\n",
      "Text file path: C:\\Users\\TANAY\\anaconda3\\envs\\SIT\\Bible_Texts\\तीमथ्याला पहिले पत्र1TI\\05_1Timothy____\\5.txt\n"
     ]
    },
    {
     "name": "stderr",
     "output_type": "stream",
     "text": [
      "C:\\Users\\TANAY\\AppData\\Local\\Temp\\ipykernel_7252\\407795470.py:47: FutureWarning: The frame.append method is deprecated and will be removed from pandas in a future version. Use pandas.concat instead.\n",
      "  df = df.append({\n"
     ]
    },
    {
     "name": "stdout",
     "output_type": "stream",
     "text": [
      "Appending data for folder: 05_1Timothy____\n",
      "Checking folder: C:\\Users\\TANAY\\anaconda3\\envs\\SIT\\Bible_Texts\\तीमथ्याला पहिले पत्र1TI\\06_1Timothy____\n",
      "Audio file path: C:\\Users\\TANAY\\anaconda3\\envs\\SIT\\Bible_Texts\\तीमथ्याला पहिले पत्र1TI\\06_1Timothy____\\_06_1Timothy____MARDPIN1DA.mp3\n",
      "Text file path: C:\\Users\\TANAY\\anaconda3\\envs\\SIT\\Bible_Texts\\तीमथ्याला पहिले पत्र1TI\\06_1Timothy____\\6.txt\n"
     ]
    },
    {
     "name": "stderr",
     "output_type": "stream",
     "text": [
      "C:\\Users\\TANAY\\AppData\\Local\\Temp\\ipykernel_7252\\407795470.py:47: FutureWarning: The frame.append method is deprecated and will be removed from pandas in a future version. Use pandas.concat instead.\n",
      "  df = df.append({\n"
     ]
    },
    {
     "name": "stdout",
     "output_type": "stream",
     "text": [
      "Appending data for folder: 06_1Timothy____\n",
      "Checking folder: C:\\Users\\TANAY\\anaconda3\\envs\\SIT\\Bible_Texts\\थेस्सलनीकाकरांस दुसरे पत्र2TH\\01_2Thess______\n",
      "Audio file path: C:\\Users\\TANAY\\anaconda3\\envs\\SIT\\Bible_Texts\\थेस्सलनीकाकरांस दुसरे पत्र2TH\\01_2Thess______\\_01_2Thess______MARDPIN1DA.mp3\n",
      "Text file path: C:\\Users\\TANAY\\anaconda3\\envs\\SIT\\Bible_Texts\\थेस्सलनीकाकरांस दुसरे पत्र2TH\\01_2Thess______\\1.txt\n"
     ]
    },
    {
     "name": "stderr",
     "output_type": "stream",
     "text": [
      "C:\\Users\\TANAY\\AppData\\Local\\Temp\\ipykernel_7252\\407795470.py:47: FutureWarning: The frame.append method is deprecated and will be removed from pandas in a future version. Use pandas.concat instead.\n",
      "  df = df.append({\n"
     ]
    },
    {
     "name": "stdout",
     "output_type": "stream",
     "text": [
      "Appending data for folder: 01_2Thess______\n",
      "Checking folder: C:\\Users\\TANAY\\anaconda3\\envs\\SIT\\Bible_Texts\\थेस्सलनीकाकरांस दुसरे पत्र2TH\\02_2Thess______\n",
      "Audio file path: C:\\Users\\TANAY\\anaconda3\\envs\\SIT\\Bible_Texts\\थेस्सलनीकाकरांस दुसरे पत्र2TH\\02_2Thess______\\_02_2Thess______MARDPIN1DA.mp3\n",
      "Text file path: C:\\Users\\TANAY\\anaconda3\\envs\\SIT\\Bible_Texts\\थेस्सलनीकाकरांस दुसरे पत्र2TH\\02_2Thess______\\2.txt\n"
     ]
    },
    {
     "name": "stderr",
     "output_type": "stream",
     "text": [
      "C:\\Users\\TANAY\\AppData\\Local\\Temp\\ipykernel_7252\\407795470.py:47: FutureWarning: The frame.append method is deprecated and will be removed from pandas in a future version. Use pandas.concat instead.\n",
      "  df = df.append({\n"
     ]
    },
    {
     "name": "stdout",
     "output_type": "stream",
     "text": [
      "Appending data for folder: 02_2Thess______\n",
      "Checking folder: C:\\Users\\TANAY\\anaconda3\\envs\\SIT\\Bible_Texts\\थेस्सलनीकाकरांस दुसरे पत्र2TH\\03_2Thess______\n",
      "Audio file path: C:\\Users\\TANAY\\anaconda3\\envs\\SIT\\Bible_Texts\\थेस्सलनीकाकरांस दुसरे पत्र2TH\\03_2Thess______\\_03_2Thess______MARDPIN1DA.mp3\n",
      "Text file path: C:\\Users\\TANAY\\anaconda3\\envs\\SIT\\Bible_Texts\\थेस्सलनीकाकरांस दुसरे पत्र2TH\\03_2Thess______\\3.txt\n"
     ]
    },
    {
     "name": "stderr",
     "output_type": "stream",
     "text": [
      "C:\\Users\\TANAY\\AppData\\Local\\Temp\\ipykernel_7252\\407795470.py:47: FutureWarning: The frame.append method is deprecated and will be removed from pandas in a future version. Use pandas.concat instead.\n",
      "  df = df.append({\n"
     ]
    },
    {
     "name": "stdout",
     "output_type": "stream",
     "text": [
      "Appending data for folder: 03_2Thess______\n",
      "Checking folder: C:\\Users\\TANAY\\anaconda3\\envs\\SIT\\Bible_Texts\\थेस्सलनीकाकरांस पहिले पत्र1TH\\01_1Thess______\n",
      "Audio file path: C:\\Users\\TANAY\\anaconda3\\envs\\SIT\\Bible_Texts\\थेस्सलनीकाकरांस पहिले पत्र1TH\\01_1Thess______\\_01_1Thess______MARDPIN1DA.mp3\n",
      "Text file path: C:\\Users\\TANAY\\anaconda3\\envs\\SIT\\Bible_Texts\\थेस्सलनीकाकरांस पहिले पत्र1TH\\01_1Thess______\\1.txt\n"
     ]
    },
    {
     "name": "stderr",
     "output_type": "stream",
     "text": [
      "C:\\Users\\TANAY\\AppData\\Local\\Temp\\ipykernel_7252\\407795470.py:47: FutureWarning: The frame.append method is deprecated and will be removed from pandas in a future version. Use pandas.concat instead.\n",
      "  df = df.append({\n"
     ]
    },
    {
     "name": "stdout",
     "output_type": "stream",
     "text": [
      "Appending data for folder: 01_1Thess______\n",
      "Checking folder: C:\\Users\\TANAY\\anaconda3\\envs\\SIT\\Bible_Texts\\थेस्सलनीकाकरांस पहिले पत्र1TH\\02_1Thess______\n",
      "Audio file path: C:\\Users\\TANAY\\anaconda3\\envs\\SIT\\Bible_Texts\\थेस्सलनीकाकरांस पहिले पत्र1TH\\02_1Thess______\\_02_1Thess______MARDPIN1DA.mp3\n",
      "Text file path: C:\\Users\\TANAY\\anaconda3\\envs\\SIT\\Bible_Texts\\थेस्सलनीकाकरांस पहिले पत्र1TH\\02_1Thess______\\2.txt\n"
     ]
    },
    {
     "name": "stderr",
     "output_type": "stream",
     "text": [
      "C:\\Users\\TANAY\\AppData\\Local\\Temp\\ipykernel_7252\\407795470.py:47: FutureWarning: The frame.append method is deprecated and will be removed from pandas in a future version. Use pandas.concat instead.\n",
      "  df = df.append({\n"
     ]
    },
    {
     "name": "stdout",
     "output_type": "stream",
     "text": [
      "Appending data for folder: 02_1Thess______\n",
      "Checking folder: C:\\Users\\TANAY\\anaconda3\\envs\\SIT\\Bible_Texts\\थेस्सलनीकाकरांस पहिले पत्र1TH\\03_1Thess______\n",
      "Audio file path: C:\\Users\\TANAY\\anaconda3\\envs\\SIT\\Bible_Texts\\थेस्सलनीकाकरांस पहिले पत्र1TH\\03_1Thess______\\_03_1Thess______MARDPIN1DA.mp3\n",
      "Text file path: C:\\Users\\TANAY\\anaconda3\\envs\\SIT\\Bible_Texts\\थेस्सलनीकाकरांस पहिले पत्र1TH\\03_1Thess______\\3.txt\n"
     ]
    },
    {
     "name": "stderr",
     "output_type": "stream",
     "text": [
      "C:\\Users\\TANAY\\AppData\\Local\\Temp\\ipykernel_7252\\407795470.py:47: FutureWarning: The frame.append method is deprecated and will be removed from pandas in a future version. Use pandas.concat instead.\n",
      "  df = df.append({\n"
     ]
    },
    {
     "name": "stdout",
     "output_type": "stream",
     "text": [
      "Appending data for folder: 03_1Thess______\n",
      "Checking folder: C:\\Users\\TANAY\\anaconda3\\envs\\SIT\\Bible_Texts\\थेस्सलनीकाकरांस पहिले पत्र1TH\\04_1Thess______\n",
      "Audio file path: C:\\Users\\TANAY\\anaconda3\\envs\\SIT\\Bible_Texts\\थेस्सलनीकाकरांस पहिले पत्र1TH\\04_1Thess______\\_04_1Thess______MARDPIN1DA.mp3\n",
      "Text file path: C:\\Users\\TANAY\\anaconda3\\envs\\SIT\\Bible_Texts\\थेस्सलनीकाकरांस पहिले पत्र1TH\\04_1Thess______\\4.txt\n"
     ]
    },
    {
     "name": "stderr",
     "output_type": "stream",
     "text": [
      "C:\\Users\\TANAY\\AppData\\Local\\Temp\\ipykernel_7252\\407795470.py:47: FutureWarning: The frame.append method is deprecated and will be removed from pandas in a future version. Use pandas.concat instead.\n",
      "  df = df.append({\n"
     ]
    },
    {
     "name": "stdout",
     "output_type": "stream",
     "text": [
      "Appending data for folder: 04_1Thess______\n",
      "Checking folder: C:\\Users\\TANAY\\anaconda3\\envs\\SIT\\Bible_Texts\\थेस्सलनीकाकरांस पहिले पत्र1TH\\05_1Thess______\n",
      "Audio file path: C:\\Users\\TANAY\\anaconda3\\envs\\SIT\\Bible_Texts\\थेस्सलनीकाकरांस पहिले पत्र1TH\\05_1Thess______\\_05_1Thess______MARDPIN1DA.mp3\n",
      "Text file path: C:\\Users\\TANAY\\anaconda3\\envs\\SIT\\Bible_Texts\\थेस्सलनीकाकरांस पहिले पत्र1TH\\05_1Thess______\\5.txt\n"
     ]
    },
    {
     "name": "stderr",
     "output_type": "stream",
     "text": [
      "C:\\Users\\TANAY\\AppData\\Local\\Temp\\ipykernel_7252\\407795470.py:47: FutureWarning: The frame.append method is deprecated and will be removed from pandas in a future version. Use pandas.concat instead.\n",
      "  df = df.append({\n"
     ]
    },
    {
     "name": "stdout",
     "output_type": "stream",
     "text": [
      "Appending data for folder: 05_1Thess______\n",
      "Checking folder: C:\\Users\\TANAY\\anaconda3\\envs\\SIT\\Bible_Texts\\पेत्राचे दुसरे पत्र2PE\\01_2Peter______\n",
      "Audio file path: C:\\Users\\TANAY\\anaconda3\\envs\\SIT\\Bible_Texts\\पेत्राचे दुसरे पत्र2PE\\01_2Peter______\\_01_2Peter______MARDPIN1DA.mp3\n",
      "Text file path: C:\\Users\\TANAY\\anaconda3\\envs\\SIT\\Bible_Texts\\पेत्राचे दुसरे पत्र2PE\\01_2Peter______\\1.txt\n"
     ]
    },
    {
     "name": "stderr",
     "output_type": "stream",
     "text": [
      "C:\\Users\\TANAY\\AppData\\Local\\Temp\\ipykernel_7252\\407795470.py:47: FutureWarning: The frame.append method is deprecated and will be removed from pandas in a future version. Use pandas.concat instead.\n",
      "  df = df.append({\n"
     ]
    },
    {
     "name": "stdout",
     "output_type": "stream",
     "text": [
      "Appending data for folder: 01_2Peter______\n",
      "Checking folder: C:\\Users\\TANAY\\anaconda3\\envs\\SIT\\Bible_Texts\\पेत्राचे दुसरे पत्र2PE\\02_2Peter______\n",
      "Audio file path: C:\\Users\\TANAY\\anaconda3\\envs\\SIT\\Bible_Texts\\पेत्राचे दुसरे पत्र2PE\\02_2Peter______\\_02_2Peter______MARDPIN1DA.mp3\n",
      "Text file path: C:\\Users\\TANAY\\anaconda3\\envs\\SIT\\Bible_Texts\\पेत्राचे दुसरे पत्र2PE\\02_2Peter______\\2.txt\n"
     ]
    },
    {
     "name": "stderr",
     "output_type": "stream",
     "text": [
      "C:\\Users\\TANAY\\AppData\\Local\\Temp\\ipykernel_7252\\407795470.py:47: FutureWarning: The frame.append method is deprecated and will be removed from pandas in a future version. Use pandas.concat instead.\n",
      "  df = df.append({\n"
     ]
    },
    {
     "name": "stdout",
     "output_type": "stream",
     "text": [
      "Appending data for folder: 02_2Peter______\n",
      "Checking folder: C:\\Users\\TANAY\\anaconda3\\envs\\SIT\\Bible_Texts\\पेत्राचे दुसरे पत्र2PE\\03_2Peter______\n",
      "Audio file path: C:\\Users\\TANAY\\anaconda3\\envs\\SIT\\Bible_Texts\\पेत्राचे दुसरे पत्र2PE\\03_2Peter______\\_03_2Peter______MARDPIN1DA.mp3\n",
      "Text file path: C:\\Users\\TANAY\\anaconda3\\envs\\SIT\\Bible_Texts\\पेत्राचे दुसरे पत्र2PE\\03_2Peter______\\3.txt\n"
     ]
    },
    {
     "name": "stderr",
     "output_type": "stream",
     "text": [
      "C:\\Users\\TANAY\\AppData\\Local\\Temp\\ipykernel_7252\\407795470.py:47: FutureWarning: The frame.append method is deprecated and will be removed from pandas in a future version. Use pandas.concat instead.\n",
      "  df = df.append({\n"
     ]
    },
    {
     "name": "stdout",
     "output_type": "stream",
     "text": [
      "Appending data for folder: 03_2Peter______\n",
      "Checking folder: C:\\Users\\TANAY\\anaconda3\\envs\\SIT\\Bible_Texts\\पेत्राचे पहिले पत्र1PE\\01_1Peter______\n",
      "Audio file path: C:\\Users\\TANAY\\anaconda3\\envs\\SIT\\Bible_Texts\\पेत्राचे पहिले पत्र1PE\\01_1Peter______\\_01_1Peter______MARDPIN1DA.mp3\n",
      "Text file path: C:\\Users\\TANAY\\anaconda3\\envs\\SIT\\Bible_Texts\\पेत्राचे पहिले पत्र1PE\\01_1Peter______\\1.txt\n"
     ]
    },
    {
     "name": "stderr",
     "output_type": "stream",
     "text": [
      "C:\\Users\\TANAY\\AppData\\Local\\Temp\\ipykernel_7252\\407795470.py:47: FutureWarning: The frame.append method is deprecated and will be removed from pandas in a future version. Use pandas.concat instead.\n",
      "  df = df.append({\n"
     ]
    },
    {
     "name": "stdout",
     "output_type": "stream",
     "text": [
      "Appending data for folder: 01_1Peter______\n",
      "Checking folder: C:\\Users\\TANAY\\anaconda3\\envs\\SIT\\Bible_Texts\\पेत्राचे पहिले पत्र1PE\\02_1Peter______\n",
      "Audio file path: C:\\Users\\TANAY\\anaconda3\\envs\\SIT\\Bible_Texts\\पेत्राचे पहिले पत्र1PE\\02_1Peter______\\_02_1Peter______MARDPIN1DA.mp3\n",
      "Text file path: C:\\Users\\TANAY\\anaconda3\\envs\\SIT\\Bible_Texts\\पेत्राचे पहिले पत्र1PE\\02_1Peter______\\2.txt\n"
     ]
    },
    {
     "name": "stderr",
     "output_type": "stream",
     "text": [
      "C:\\Users\\TANAY\\AppData\\Local\\Temp\\ipykernel_7252\\407795470.py:47: FutureWarning: The frame.append method is deprecated and will be removed from pandas in a future version. Use pandas.concat instead.\n",
      "  df = df.append({\n"
     ]
    },
    {
     "name": "stdout",
     "output_type": "stream",
     "text": [
      "Appending data for folder: 02_1Peter______\n",
      "Checking folder: C:\\Users\\TANAY\\anaconda3\\envs\\SIT\\Bible_Texts\\पेत्राचे पहिले पत्र1PE\\03_1Peter______\n",
      "Audio file path: C:\\Users\\TANAY\\anaconda3\\envs\\SIT\\Bible_Texts\\पेत्राचे पहिले पत्र1PE\\03_1Peter______\\_03_1Peter______MARDPIN1DA.mp3\n",
      "Text file path: C:\\Users\\TANAY\\anaconda3\\envs\\SIT\\Bible_Texts\\पेत्राचे पहिले पत्र1PE\\03_1Peter______\\3.txt\n"
     ]
    },
    {
     "name": "stderr",
     "output_type": "stream",
     "text": [
      "C:\\Users\\TANAY\\AppData\\Local\\Temp\\ipykernel_7252\\407795470.py:47: FutureWarning: The frame.append method is deprecated and will be removed from pandas in a future version. Use pandas.concat instead.\n",
      "  df = df.append({\n"
     ]
    },
    {
     "name": "stdout",
     "output_type": "stream",
     "text": [
      "Appending data for folder: 03_1Peter______\n",
      "Checking folder: C:\\Users\\TANAY\\anaconda3\\envs\\SIT\\Bible_Texts\\पेत्राचे पहिले पत्र1PE\\04_1Peter______\n",
      "Audio file path: C:\\Users\\TANAY\\anaconda3\\envs\\SIT\\Bible_Texts\\पेत्राचे पहिले पत्र1PE\\04_1Peter______\\_04_1Peter______MARDPIN1DA.mp3\n",
      "Text file path: C:\\Users\\TANAY\\anaconda3\\envs\\SIT\\Bible_Texts\\पेत्राचे पहिले पत्र1PE\\04_1Peter______\\4.txt\n"
     ]
    },
    {
     "name": "stderr",
     "output_type": "stream",
     "text": [
      "C:\\Users\\TANAY\\AppData\\Local\\Temp\\ipykernel_7252\\407795470.py:47: FutureWarning: The frame.append method is deprecated and will be removed from pandas in a future version. Use pandas.concat instead.\n",
      "  df = df.append({\n"
     ]
    },
    {
     "name": "stdout",
     "output_type": "stream",
     "text": [
      "Appending data for folder: 04_1Peter______\n",
      "Checking folder: C:\\Users\\TANAY\\anaconda3\\envs\\SIT\\Bible_Texts\\पेत्राचे पहिले पत्र1PE\\05_1Peter______\n",
      "Audio file path: C:\\Users\\TANAY\\anaconda3\\envs\\SIT\\Bible_Texts\\पेत्राचे पहिले पत्र1PE\\05_1Peter______\\_05_1Peter______MARDPIN1DA.mp3\n",
      "Text file path: C:\\Users\\TANAY\\anaconda3\\envs\\SIT\\Bible_Texts\\पेत्राचे पहिले पत्र1PE\\05_1Peter______\\5.txt\n"
     ]
    },
    {
     "name": "stderr",
     "output_type": "stream",
     "text": [
      "C:\\Users\\TANAY\\AppData\\Local\\Temp\\ipykernel_7252\\407795470.py:47: FutureWarning: The frame.append method is deprecated and will be removed from pandas in a future version. Use pandas.concat instead.\n",
      "  df = df.append({\n"
     ]
    },
    {
     "name": "stdout",
     "output_type": "stream",
     "text": [
      "Appending data for folder: 05_1Peter______\n",
      "Checking folder: C:\\Users\\TANAY\\anaconda3\\envs\\SIT\\Bible_Texts\\प्रकटीकरणREV\\Revelation_01\n",
      "Audio file path: C:\\Users\\TANAY\\anaconda3\\envs\\SIT\\Bible_Texts\\प्रकटीकरणREV\\Revelation_01\\_01_Revelation__MARDPIN1DA.mp3\n",
      "Text file path: C:\\Users\\TANAY\\anaconda3\\envs\\SIT\\Bible_Texts\\प्रकटीकरणREV\\Revelation_01\\1.txt\n"
     ]
    },
    {
     "name": "stderr",
     "output_type": "stream",
     "text": [
      "C:\\Users\\TANAY\\AppData\\Local\\Temp\\ipykernel_7252\\407795470.py:47: FutureWarning: The frame.append method is deprecated and will be removed from pandas in a future version. Use pandas.concat instead.\n",
      "  df = df.append({\n"
     ]
    },
    {
     "name": "stdout",
     "output_type": "stream",
     "text": [
      "Appending data for folder: Revelation_01\n",
      "Checking folder: C:\\Users\\TANAY\\anaconda3\\envs\\SIT\\Bible_Texts\\प्रकटीकरणREV\\Revelation_02\n",
      "Audio file path: C:\\Users\\TANAY\\anaconda3\\envs\\SIT\\Bible_Texts\\प्रकटीकरणREV\\Revelation_02\\_02_Revelation__MARDPIN1DA.mp3\n",
      "Text file path: C:\\Users\\TANAY\\anaconda3\\envs\\SIT\\Bible_Texts\\प्रकटीकरणREV\\Revelation_02\\2.txt\n"
     ]
    },
    {
     "name": "stderr",
     "output_type": "stream",
     "text": [
      "C:\\Users\\TANAY\\AppData\\Local\\Temp\\ipykernel_7252\\407795470.py:47: FutureWarning: The frame.append method is deprecated and will be removed from pandas in a future version. Use pandas.concat instead.\n",
      "  df = df.append({\n"
     ]
    },
    {
     "name": "stdout",
     "output_type": "stream",
     "text": [
      "Appending data for folder: Revelation_02\n",
      "Checking folder: C:\\Users\\TANAY\\anaconda3\\envs\\SIT\\Bible_Texts\\प्रकटीकरणREV\\Revelation_03\n",
      "Audio file path: C:\\Users\\TANAY\\anaconda3\\envs\\SIT\\Bible_Texts\\प्रकटीकरणREV\\Revelation_03\\_03_Revelation__MARDPIN1DA.mp3\n",
      "Text file path: C:\\Users\\TANAY\\anaconda3\\envs\\SIT\\Bible_Texts\\प्रकटीकरणREV\\Revelation_03\\3.txt\n"
     ]
    },
    {
     "name": "stderr",
     "output_type": "stream",
     "text": [
      "C:\\Users\\TANAY\\AppData\\Local\\Temp\\ipykernel_7252\\407795470.py:47: FutureWarning: The frame.append method is deprecated and will be removed from pandas in a future version. Use pandas.concat instead.\n",
      "  df = df.append({\n"
     ]
    },
    {
     "name": "stdout",
     "output_type": "stream",
     "text": [
      "Appending data for folder: Revelation_03\n",
      "Checking folder: C:\\Users\\TANAY\\anaconda3\\envs\\SIT\\Bible_Texts\\प्रकटीकरणREV\\Revelation_04\n",
      "Audio file path: C:\\Users\\TANAY\\anaconda3\\envs\\SIT\\Bible_Texts\\प्रकटीकरणREV\\Revelation_04\\_04_Revelation__MARDPIN1DA.mp3\n",
      "Text file path: C:\\Users\\TANAY\\anaconda3\\envs\\SIT\\Bible_Texts\\प्रकटीकरणREV\\Revelation_04\\4.txt\n"
     ]
    },
    {
     "name": "stderr",
     "output_type": "stream",
     "text": [
      "C:\\Users\\TANAY\\AppData\\Local\\Temp\\ipykernel_7252\\407795470.py:47: FutureWarning: The frame.append method is deprecated and will be removed from pandas in a future version. Use pandas.concat instead.\n",
      "  df = df.append({\n"
     ]
    },
    {
     "name": "stdout",
     "output_type": "stream",
     "text": [
      "Appending data for folder: Revelation_04\n",
      "Checking folder: C:\\Users\\TANAY\\anaconda3\\envs\\SIT\\Bible_Texts\\प्रकटीकरणREV\\Revelation_05\n",
      "Audio file path: C:\\Users\\TANAY\\anaconda3\\envs\\SIT\\Bible_Texts\\प्रकटीकरणREV\\Revelation_05\\_05_Revelation__MARDPIN1DA.mp3\n",
      "Text file path: C:\\Users\\TANAY\\anaconda3\\envs\\SIT\\Bible_Texts\\प्रकटीकरणREV\\Revelation_05\\5.txt\n"
     ]
    },
    {
     "name": "stderr",
     "output_type": "stream",
     "text": [
      "C:\\Users\\TANAY\\AppData\\Local\\Temp\\ipykernel_7252\\407795470.py:47: FutureWarning: The frame.append method is deprecated and will be removed from pandas in a future version. Use pandas.concat instead.\n",
      "  df = df.append({\n"
     ]
    },
    {
     "name": "stdout",
     "output_type": "stream",
     "text": [
      "Appending data for folder: Revelation_05\n",
      "Checking folder: C:\\Users\\TANAY\\anaconda3\\envs\\SIT\\Bible_Texts\\प्रकटीकरणREV\\Revelation_06\n",
      "Audio file path: C:\\Users\\TANAY\\anaconda3\\envs\\SIT\\Bible_Texts\\प्रकटीकरणREV\\Revelation_06\\_06_Revelation__MARDPIN1DA.mp3\n",
      "Text file path: C:\\Users\\TANAY\\anaconda3\\envs\\SIT\\Bible_Texts\\प्रकटीकरणREV\\Revelation_06\\6.txt\n"
     ]
    },
    {
     "name": "stderr",
     "output_type": "stream",
     "text": [
      "C:\\Users\\TANAY\\AppData\\Local\\Temp\\ipykernel_7252\\407795470.py:47: FutureWarning: The frame.append method is deprecated and will be removed from pandas in a future version. Use pandas.concat instead.\n",
      "  df = df.append({\n"
     ]
    },
    {
     "name": "stdout",
     "output_type": "stream",
     "text": [
      "Appending data for folder: Revelation_06\n",
      "Checking folder: C:\\Users\\TANAY\\anaconda3\\envs\\SIT\\Bible_Texts\\प्रकटीकरणREV\\Revelation_07\n",
      "Audio file path: C:\\Users\\TANAY\\anaconda3\\envs\\SIT\\Bible_Texts\\प्रकटीकरणREV\\Revelation_07\\_07_Revelation__MARDPIN1DA.mp3\n",
      "Text file path: C:\\Users\\TANAY\\anaconda3\\envs\\SIT\\Bible_Texts\\प्रकटीकरणREV\\Revelation_07\\7.txt\n"
     ]
    },
    {
     "name": "stderr",
     "output_type": "stream",
     "text": [
      "C:\\Users\\TANAY\\AppData\\Local\\Temp\\ipykernel_7252\\407795470.py:47: FutureWarning: The frame.append method is deprecated and will be removed from pandas in a future version. Use pandas.concat instead.\n",
      "  df = df.append({\n"
     ]
    },
    {
     "name": "stdout",
     "output_type": "stream",
     "text": [
      "Appending data for folder: Revelation_07\n",
      "Checking folder: C:\\Users\\TANAY\\anaconda3\\envs\\SIT\\Bible_Texts\\प्रकटीकरणREV\\Revelation_08\n",
      "Audio file path: C:\\Users\\TANAY\\anaconda3\\envs\\SIT\\Bible_Texts\\प्रकटीकरणREV\\Revelation_08\\_08_Revelation__MARDPIN1DA.mp3\n",
      "Text file path: C:\\Users\\TANAY\\anaconda3\\envs\\SIT\\Bible_Texts\\प्रकटीकरणREV\\Revelation_08\\8.txt\n"
     ]
    },
    {
     "name": "stderr",
     "output_type": "stream",
     "text": [
      "C:\\Users\\TANAY\\AppData\\Local\\Temp\\ipykernel_7252\\407795470.py:47: FutureWarning: The frame.append method is deprecated and will be removed from pandas in a future version. Use pandas.concat instead.\n",
      "  df = df.append({\n"
     ]
    },
    {
     "name": "stdout",
     "output_type": "stream",
     "text": [
      "Appending data for folder: Revelation_08\n",
      "Checking folder: C:\\Users\\TANAY\\anaconda3\\envs\\SIT\\Bible_Texts\\प्रकटीकरणREV\\Revelation_09\n",
      "Audio file path: C:\\Users\\TANAY\\anaconda3\\envs\\SIT\\Bible_Texts\\प्रकटीकरणREV\\Revelation_09\\_09_Revelation__MARDPIN1DA.mp3\n",
      "Text file path: C:\\Users\\TANAY\\anaconda3\\envs\\SIT\\Bible_Texts\\प्रकटीकरणREV\\Revelation_09\\9.txt\n"
     ]
    },
    {
     "name": "stderr",
     "output_type": "stream",
     "text": [
      "C:\\Users\\TANAY\\AppData\\Local\\Temp\\ipykernel_7252\\407795470.py:47: FutureWarning: The frame.append method is deprecated and will be removed from pandas in a future version. Use pandas.concat instead.\n",
      "  df = df.append({\n"
     ]
    },
    {
     "name": "stdout",
     "output_type": "stream",
     "text": [
      "Appending data for folder: Revelation_09\n",
      "Checking folder: C:\\Users\\TANAY\\anaconda3\\envs\\SIT\\Bible_Texts\\प्रकटीकरणREV\\Revelation_10\n",
      "Audio file path: C:\\Users\\TANAY\\anaconda3\\envs\\SIT\\Bible_Texts\\प्रकटीकरणREV\\Revelation_10\\_10_Revelation__MARDPIN1DA.mp3\n",
      "Text file path: C:\\Users\\TANAY\\anaconda3\\envs\\SIT\\Bible_Texts\\प्रकटीकरणREV\\Revelation_10\\10.txt\n"
     ]
    },
    {
     "name": "stderr",
     "output_type": "stream",
     "text": [
      "C:\\Users\\TANAY\\AppData\\Local\\Temp\\ipykernel_7252\\407795470.py:47: FutureWarning: The frame.append method is deprecated and will be removed from pandas in a future version. Use pandas.concat instead.\n",
      "  df = df.append({\n"
     ]
    },
    {
     "name": "stdout",
     "output_type": "stream",
     "text": [
      "Appending data for folder: Revelation_10\n",
      "Checking folder: C:\\Users\\TANAY\\anaconda3\\envs\\SIT\\Bible_Texts\\प्रकटीकरणREV\\Revelation_11\n",
      "Audio file path: C:\\Users\\TANAY\\anaconda3\\envs\\SIT\\Bible_Texts\\प्रकटीकरणREV\\Revelation_11\\_11_Revelation__MARDPIN1DA.mp3\n",
      "Text file path: C:\\Users\\TANAY\\anaconda3\\envs\\SIT\\Bible_Texts\\प्रकटीकरणREV\\Revelation_11\\11.txt\n"
     ]
    },
    {
     "name": "stderr",
     "output_type": "stream",
     "text": [
      "C:\\Users\\TANAY\\AppData\\Local\\Temp\\ipykernel_7252\\407795470.py:47: FutureWarning: The frame.append method is deprecated and will be removed from pandas in a future version. Use pandas.concat instead.\n",
      "  df = df.append({\n"
     ]
    },
    {
     "name": "stdout",
     "output_type": "stream",
     "text": [
      "Appending data for folder: Revelation_11\n",
      "Checking folder: C:\\Users\\TANAY\\anaconda3\\envs\\SIT\\Bible_Texts\\प्रकटीकरणREV\\Revelation_12\n",
      "Audio file path: C:\\Users\\TANAY\\anaconda3\\envs\\SIT\\Bible_Texts\\प्रकटीकरणREV\\Revelation_12\\_12_Revelation__MARDPIN1DA.mp3\n",
      "Text file path: C:\\Users\\TANAY\\anaconda3\\envs\\SIT\\Bible_Texts\\प्रकटीकरणREV\\Revelation_12\\12.txt\n"
     ]
    },
    {
     "name": "stderr",
     "output_type": "stream",
     "text": [
      "C:\\Users\\TANAY\\AppData\\Local\\Temp\\ipykernel_7252\\407795470.py:47: FutureWarning: The frame.append method is deprecated and will be removed from pandas in a future version. Use pandas.concat instead.\n",
      "  df = df.append({\n"
     ]
    },
    {
     "name": "stdout",
     "output_type": "stream",
     "text": [
      "Appending data for folder: Revelation_12\n",
      "Checking folder: C:\\Users\\TANAY\\anaconda3\\envs\\SIT\\Bible_Texts\\प्रकटीकरणREV\\Revelation_13\n",
      "Audio file path: C:\\Users\\TANAY\\anaconda3\\envs\\SIT\\Bible_Texts\\प्रकटीकरणREV\\Revelation_13\\_13_Revelation__MARDPIN1DA.mp3\n",
      "Text file path: C:\\Users\\TANAY\\anaconda3\\envs\\SIT\\Bible_Texts\\प्रकटीकरणREV\\Revelation_13\\13.txt\n"
     ]
    },
    {
     "name": "stderr",
     "output_type": "stream",
     "text": [
      "C:\\Users\\TANAY\\AppData\\Local\\Temp\\ipykernel_7252\\407795470.py:47: FutureWarning: The frame.append method is deprecated and will be removed from pandas in a future version. Use pandas.concat instead.\n",
      "  df = df.append({\n"
     ]
    },
    {
     "name": "stdout",
     "output_type": "stream",
     "text": [
      "Appending data for folder: Revelation_13\n",
      "Checking folder: C:\\Users\\TANAY\\anaconda3\\envs\\SIT\\Bible_Texts\\प्रकटीकरणREV\\Revelation_14\n",
      "Audio file path: C:\\Users\\TANAY\\anaconda3\\envs\\SIT\\Bible_Texts\\प्रकटीकरणREV\\Revelation_14\\_14_Revelation__MARDPIN1DA.mp3\n",
      "Text file path: C:\\Users\\TANAY\\anaconda3\\envs\\SIT\\Bible_Texts\\प्रकटीकरणREV\\Revelation_14\\14.txt\n"
     ]
    },
    {
     "name": "stderr",
     "output_type": "stream",
     "text": [
      "C:\\Users\\TANAY\\AppData\\Local\\Temp\\ipykernel_7252\\407795470.py:47: FutureWarning: The frame.append method is deprecated and will be removed from pandas in a future version. Use pandas.concat instead.\n",
      "  df = df.append({\n"
     ]
    },
    {
     "name": "stdout",
     "output_type": "stream",
     "text": [
      "Appending data for folder: Revelation_14\n",
      "Checking folder: C:\\Users\\TANAY\\anaconda3\\envs\\SIT\\Bible_Texts\\प्रकटीकरणREV\\Revelation_15\n",
      "Audio file path: C:\\Users\\TANAY\\anaconda3\\envs\\SIT\\Bible_Texts\\प्रकटीकरणREV\\Revelation_15\\_15_Revelation__MARDPIN1DA.mp3\n",
      "Text file path: C:\\Users\\TANAY\\anaconda3\\envs\\SIT\\Bible_Texts\\प्रकटीकरणREV\\Revelation_15\\15.txt\n"
     ]
    },
    {
     "name": "stderr",
     "output_type": "stream",
     "text": [
      "C:\\Users\\TANAY\\AppData\\Local\\Temp\\ipykernel_7252\\407795470.py:47: FutureWarning: The frame.append method is deprecated and will be removed from pandas in a future version. Use pandas.concat instead.\n",
      "  df = df.append({\n"
     ]
    },
    {
     "name": "stdout",
     "output_type": "stream",
     "text": [
      "Appending data for folder: Revelation_15\n",
      "Checking folder: C:\\Users\\TANAY\\anaconda3\\envs\\SIT\\Bible_Texts\\प्रकटीकरणREV\\Revelation_16\n",
      "Audio file path: C:\\Users\\TANAY\\anaconda3\\envs\\SIT\\Bible_Texts\\प्रकटीकरणREV\\Revelation_16\\_16_Revelation__MARDPIN1DA.mp3\n",
      "Text file path: C:\\Users\\TANAY\\anaconda3\\envs\\SIT\\Bible_Texts\\प्रकटीकरणREV\\Revelation_16\\16.txt\n"
     ]
    },
    {
     "name": "stderr",
     "output_type": "stream",
     "text": [
      "C:\\Users\\TANAY\\AppData\\Local\\Temp\\ipykernel_7252\\407795470.py:47: FutureWarning: The frame.append method is deprecated and will be removed from pandas in a future version. Use pandas.concat instead.\n",
      "  df = df.append({\n"
     ]
    },
    {
     "name": "stdout",
     "output_type": "stream",
     "text": [
      "Appending data for folder: Revelation_16\n",
      "Checking folder: C:\\Users\\TANAY\\anaconda3\\envs\\SIT\\Bible_Texts\\प्रकटीकरणREV\\Revelation_17\n",
      "Audio file path: C:\\Users\\TANAY\\anaconda3\\envs\\SIT\\Bible_Texts\\प्रकटीकरणREV\\Revelation_17\\_17_Revelation__MARDPIN1DA.mp3\n",
      "Text file path: C:\\Users\\TANAY\\anaconda3\\envs\\SIT\\Bible_Texts\\प्रकटीकरणREV\\Revelation_17\\17.txt\n"
     ]
    },
    {
     "name": "stderr",
     "output_type": "stream",
     "text": [
      "C:\\Users\\TANAY\\AppData\\Local\\Temp\\ipykernel_7252\\407795470.py:47: FutureWarning: The frame.append method is deprecated and will be removed from pandas in a future version. Use pandas.concat instead.\n",
      "  df = df.append({\n"
     ]
    },
    {
     "name": "stdout",
     "output_type": "stream",
     "text": [
      "Appending data for folder: Revelation_17\n",
      "Checking folder: C:\\Users\\TANAY\\anaconda3\\envs\\SIT\\Bible_Texts\\प्रकटीकरणREV\\Revelation_18\n",
      "Audio file path: C:\\Users\\TANAY\\anaconda3\\envs\\SIT\\Bible_Texts\\प्रकटीकरणREV\\Revelation_18\\_18_Revelation__MARDPIN1DA.mp3\n",
      "Text file path: C:\\Users\\TANAY\\anaconda3\\envs\\SIT\\Bible_Texts\\प्रकटीकरणREV\\Revelation_18\\18.txt\n"
     ]
    },
    {
     "name": "stderr",
     "output_type": "stream",
     "text": [
      "C:\\Users\\TANAY\\AppData\\Local\\Temp\\ipykernel_7252\\407795470.py:47: FutureWarning: The frame.append method is deprecated and will be removed from pandas in a future version. Use pandas.concat instead.\n",
      "  df = df.append({\n"
     ]
    },
    {
     "name": "stdout",
     "output_type": "stream",
     "text": [
      "Appending data for folder: Revelation_18\n",
      "Checking folder: C:\\Users\\TANAY\\anaconda3\\envs\\SIT\\Bible_Texts\\प्रकटीकरणREV\\Revelation_19\n",
      "Audio file path: C:\\Users\\TANAY\\anaconda3\\envs\\SIT\\Bible_Texts\\प्रकटीकरणREV\\Revelation_19\\_19_Revelation__MARDPIN1DA.mp3\n",
      "Text file path: C:\\Users\\TANAY\\anaconda3\\envs\\SIT\\Bible_Texts\\प्रकटीकरणREV\\Revelation_19\\19.txt\n"
     ]
    },
    {
     "name": "stderr",
     "output_type": "stream",
     "text": [
      "C:\\Users\\TANAY\\AppData\\Local\\Temp\\ipykernel_7252\\407795470.py:47: FutureWarning: The frame.append method is deprecated and will be removed from pandas in a future version. Use pandas.concat instead.\n",
      "  df = df.append({\n"
     ]
    },
    {
     "name": "stdout",
     "output_type": "stream",
     "text": [
      "Appending data for folder: Revelation_19\n",
      "Checking folder: C:\\Users\\TANAY\\anaconda3\\envs\\SIT\\Bible_Texts\\प्रकटीकरणREV\\Revelation_20\n",
      "Audio file path: C:\\Users\\TANAY\\anaconda3\\envs\\SIT\\Bible_Texts\\प्रकटीकरणREV\\Revelation_20\\_20_Revelation__MARDPIN1DA.mp3\n",
      "Text file path: C:\\Users\\TANAY\\anaconda3\\envs\\SIT\\Bible_Texts\\प्रकटीकरणREV\\Revelation_20\\20.txt\n"
     ]
    },
    {
     "name": "stderr",
     "output_type": "stream",
     "text": [
      "C:\\Users\\TANAY\\AppData\\Local\\Temp\\ipykernel_7252\\407795470.py:47: FutureWarning: The frame.append method is deprecated and will be removed from pandas in a future version. Use pandas.concat instead.\n",
      "  df = df.append({\n"
     ]
    },
    {
     "name": "stdout",
     "output_type": "stream",
     "text": [
      "Appending data for folder: Revelation_20\n",
      "Checking folder: C:\\Users\\TANAY\\anaconda3\\envs\\SIT\\Bible_Texts\\प्रकटीकरणREV\\Revelation_21\n",
      "Audio file path: C:\\Users\\TANAY\\anaconda3\\envs\\SIT\\Bible_Texts\\प्रकटीकरणREV\\Revelation_21\\_21_Revelation__MARDPIN1DA.mp3\n",
      "Text file path: C:\\Users\\TANAY\\anaconda3\\envs\\SIT\\Bible_Texts\\प्रकटीकरणREV\\Revelation_21\\21.txt\n"
     ]
    },
    {
     "name": "stderr",
     "output_type": "stream",
     "text": [
      "C:\\Users\\TANAY\\AppData\\Local\\Temp\\ipykernel_7252\\407795470.py:47: FutureWarning: The frame.append method is deprecated and will be removed from pandas in a future version. Use pandas.concat instead.\n",
      "  df = df.append({\n"
     ]
    },
    {
     "name": "stdout",
     "output_type": "stream",
     "text": [
      "Appending data for folder: Revelation_21\n",
      "Checking folder: C:\\Users\\TANAY\\anaconda3\\envs\\SIT\\Bible_Texts\\प्रकटीकरणREV\\Revelation_22\n",
      "Audio file path: C:\\Users\\TANAY\\anaconda3\\envs\\SIT\\Bible_Texts\\प्रकटीकरणREV\\Revelation_22\\_22_Revelation__MARDPIN1DA.mp3\n",
      "Text file path: C:\\Users\\TANAY\\anaconda3\\envs\\SIT\\Bible_Texts\\प्रकटीकरणREV\\Revelation_22\\22.txt\n"
     ]
    },
    {
     "name": "stderr",
     "output_type": "stream",
     "text": [
      "C:\\Users\\TANAY\\AppData\\Local\\Temp\\ipykernel_7252\\407795470.py:47: FutureWarning: The frame.append method is deprecated and will be removed from pandas in a future version. Use pandas.concat instead.\n",
      "  df = df.append({\n"
     ]
    },
    {
     "name": "stdout",
     "output_type": "stream",
     "text": [
      "Appending data for folder: Revelation_22\n",
      "Checking folder: C:\\Users\\TANAY\\anaconda3\\envs\\SIT\\Bible_Texts\\प्रेषितांची कृत्येACT\\Acts_01\n",
      "Audio file path: C:\\Users\\TANAY\\anaconda3\\envs\\SIT\\Bible_Texts\\प्रेषितांची कृत्येACT\\Acts_01\\_01_Acts________MARDPIN1DA.mp3\n",
      "Text file path: C:\\Users\\TANAY\\anaconda3\\envs\\SIT\\Bible_Texts\\प्रेषितांची कृत्येACT\\Acts_01\\1.txt\n"
     ]
    },
    {
     "name": "stderr",
     "output_type": "stream",
     "text": [
      "C:\\Users\\TANAY\\AppData\\Local\\Temp\\ipykernel_7252\\407795470.py:47: FutureWarning: The frame.append method is deprecated and will be removed from pandas in a future version. Use pandas.concat instead.\n",
      "  df = df.append({\n"
     ]
    },
    {
     "name": "stdout",
     "output_type": "stream",
     "text": [
      "Appending data for folder: Acts_01\n",
      "Checking folder: C:\\Users\\TANAY\\anaconda3\\envs\\SIT\\Bible_Texts\\प्रेषितांची कृत्येACT\\Acts_02\n",
      "Audio file path: C:\\Users\\TANAY\\anaconda3\\envs\\SIT\\Bible_Texts\\प्रेषितांची कृत्येACT\\Acts_02\\_02_Acts________MARDPIN1DA.mp3\n",
      "Text file path: C:\\Users\\TANAY\\anaconda3\\envs\\SIT\\Bible_Texts\\प्रेषितांची कृत्येACT\\Acts_02\\2.txt\n"
     ]
    },
    {
     "name": "stderr",
     "output_type": "stream",
     "text": [
      "C:\\Users\\TANAY\\AppData\\Local\\Temp\\ipykernel_7252\\407795470.py:47: FutureWarning: The frame.append method is deprecated and will be removed from pandas in a future version. Use pandas.concat instead.\n",
      "  df = df.append({\n"
     ]
    },
    {
     "name": "stdout",
     "output_type": "stream",
     "text": [
      "Appending data for folder: Acts_02\n",
      "Checking folder: C:\\Users\\TANAY\\anaconda3\\envs\\SIT\\Bible_Texts\\प्रेषितांची कृत्येACT\\Acts_03\n",
      "Audio file path: C:\\Users\\TANAY\\anaconda3\\envs\\SIT\\Bible_Texts\\प्रेषितांची कृत्येACT\\Acts_03\\_03_Acts________MARDPIN1DA.mp3\n",
      "Text file path: C:\\Users\\TANAY\\anaconda3\\envs\\SIT\\Bible_Texts\\प्रेषितांची कृत्येACT\\Acts_03\\3.txt\n"
     ]
    },
    {
     "name": "stderr",
     "output_type": "stream",
     "text": [
      "C:\\Users\\TANAY\\AppData\\Local\\Temp\\ipykernel_7252\\407795470.py:47: FutureWarning: The frame.append method is deprecated and will be removed from pandas in a future version. Use pandas.concat instead.\n",
      "  df = df.append({\n"
     ]
    },
    {
     "name": "stdout",
     "output_type": "stream",
     "text": [
      "Appending data for folder: Acts_03\n",
      "Checking folder: C:\\Users\\TANAY\\anaconda3\\envs\\SIT\\Bible_Texts\\प्रेषितांची कृत्येACT\\Acts_04\n",
      "Audio file path: C:\\Users\\TANAY\\anaconda3\\envs\\SIT\\Bible_Texts\\प्रेषितांची कृत्येACT\\Acts_04\\_04_Acts________MARDPIN1DA.mp3\n",
      "Text file path: C:\\Users\\TANAY\\anaconda3\\envs\\SIT\\Bible_Texts\\प्रेषितांची कृत्येACT\\Acts_04\\4.txt\n"
     ]
    },
    {
     "name": "stderr",
     "output_type": "stream",
     "text": [
      "C:\\Users\\TANAY\\AppData\\Local\\Temp\\ipykernel_7252\\407795470.py:47: FutureWarning: The frame.append method is deprecated and will be removed from pandas in a future version. Use pandas.concat instead.\n",
      "  df = df.append({\n"
     ]
    },
    {
     "name": "stdout",
     "output_type": "stream",
     "text": [
      "Appending data for folder: Acts_04\n",
      "Checking folder: C:\\Users\\TANAY\\anaconda3\\envs\\SIT\\Bible_Texts\\प्रेषितांची कृत्येACT\\Acts_05\n",
      "Audio file path: C:\\Users\\TANAY\\anaconda3\\envs\\SIT\\Bible_Texts\\प्रेषितांची कृत्येACT\\Acts_05\\_05_Acts________MARDPIN1DA.mp3\n",
      "Text file path: C:\\Users\\TANAY\\anaconda3\\envs\\SIT\\Bible_Texts\\प्रेषितांची कृत्येACT\\Acts_05\\5.txt\n"
     ]
    },
    {
     "name": "stderr",
     "output_type": "stream",
     "text": [
      "C:\\Users\\TANAY\\AppData\\Local\\Temp\\ipykernel_7252\\407795470.py:47: FutureWarning: The frame.append method is deprecated and will be removed from pandas in a future version. Use pandas.concat instead.\n",
      "  df = df.append({\n"
     ]
    },
    {
     "name": "stdout",
     "output_type": "stream",
     "text": [
      "Appending data for folder: Acts_05\n",
      "Checking folder: C:\\Users\\TANAY\\anaconda3\\envs\\SIT\\Bible_Texts\\प्रेषितांची कृत्येACT\\Acts_06\n",
      "Audio file path: C:\\Users\\TANAY\\anaconda3\\envs\\SIT\\Bible_Texts\\प्रेषितांची कृत्येACT\\Acts_06\\_06_Acts________MARDPIN1DA.mp3\n",
      "Text file path: C:\\Users\\TANAY\\anaconda3\\envs\\SIT\\Bible_Texts\\प्रेषितांची कृत्येACT\\Acts_06\\6.txt\n"
     ]
    },
    {
     "name": "stderr",
     "output_type": "stream",
     "text": [
      "C:\\Users\\TANAY\\AppData\\Local\\Temp\\ipykernel_7252\\407795470.py:47: FutureWarning: The frame.append method is deprecated and will be removed from pandas in a future version. Use pandas.concat instead.\n",
      "  df = df.append({\n"
     ]
    },
    {
     "name": "stdout",
     "output_type": "stream",
     "text": [
      "Appending data for folder: Acts_06\n",
      "Checking folder: C:\\Users\\TANAY\\anaconda3\\envs\\SIT\\Bible_Texts\\प्रेषितांची कृत्येACT\\Acts_07\n",
      "Audio file path: C:\\Users\\TANAY\\anaconda3\\envs\\SIT\\Bible_Texts\\प्रेषितांची कृत्येACT\\Acts_07\\_07_Acts________MARDPIN1DA.mp3\n",
      "Text file path: C:\\Users\\TANAY\\anaconda3\\envs\\SIT\\Bible_Texts\\प्रेषितांची कृत्येACT\\Acts_07\\7.txt\n"
     ]
    },
    {
     "name": "stderr",
     "output_type": "stream",
     "text": [
      "C:\\Users\\TANAY\\AppData\\Local\\Temp\\ipykernel_7252\\407795470.py:47: FutureWarning: The frame.append method is deprecated and will be removed from pandas in a future version. Use pandas.concat instead.\n",
      "  df = df.append({\n"
     ]
    },
    {
     "name": "stdout",
     "output_type": "stream",
     "text": [
      "Appending data for folder: Acts_07\n",
      "Checking folder: C:\\Users\\TANAY\\anaconda3\\envs\\SIT\\Bible_Texts\\प्रेषितांची कृत्येACT\\Acts_08\n",
      "Audio file path: C:\\Users\\TANAY\\anaconda3\\envs\\SIT\\Bible_Texts\\प्रेषितांची कृत्येACT\\Acts_08\\_08_Acts________MARDPIN1DA.mp3\n",
      "Text file path: C:\\Users\\TANAY\\anaconda3\\envs\\SIT\\Bible_Texts\\प्रेषितांची कृत्येACT\\Acts_08\\8.txt\n"
     ]
    },
    {
     "name": "stderr",
     "output_type": "stream",
     "text": [
      "C:\\Users\\TANAY\\AppData\\Local\\Temp\\ipykernel_7252\\407795470.py:47: FutureWarning: The frame.append method is deprecated and will be removed from pandas in a future version. Use pandas.concat instead.\n",
      "  df = df.append({\n"
     ]
    },
    {
     "name": "stdout",
     "output_type": "stream",
     "text": [
      "Appending data for folder: Acts_08\n",
      "Checking folder: C:\\Users\\TANAY\\anaconda3\\envs\\SIT\\Bible_Texts\\प्रेषितांची कृत्येACT\\Acts_09\n",
      "Audio file path: C:\\Users\\TANAY\\anaconda3\\envs\\SIT\\Bible_Texts\\प्रेषितांची कृत्येACT\\Acts_09\\_09_Acts________MARDPIN1DA.mp3\n",
      "Text file path: C:\\Users\\TANAY\\anaconda3\\envs\\SIT\\Bible_Texts\\प्रेषितांची कृत्येACT\\Acts_09\\9.txt\n"
     ]
    },
    {
     "name": "stderr",
     "output_type": "stream",
     "text": [
      "C:\\Users\\TANAY\\AppData\\Local\\Temp\\ipykernel_7252\\407795470.py:47: FutureWarning: The frame.append method is deprecated and will be removed from pandas in a future version. Use pandas.concat instead.\n",
      "  df = df.append({\n"
     ]
    },
    {
     "name": "stdout",
     "output_type": "stream",
     "text": [
      "Appending data for folder: Acts_09\n",
      "Checking folder: C:\\Users\\TANAY\\anaconda3\\envs\\SIT\\Bible_Texts\\प्रेषितांची कृत्येACT\\Acts_10\n",
      "Audio file path: C:\\Users\\TANAY\\anaconda3\\envs\\SIT\\Bible_Texts\\प्रेषितांची कृत्येACT\\Acts_10\\_10_Acts________MARDPIN1DA.mp3\n",
      "Text file path: C:\\Users\\TANAY\\anaconda3\\envs\\SIT\\Bible_Texts\\प्रेषितांची कृत्येACT\\Acts_10\\10.txt\n"
     ]
    },
    {
     "name": "stderr",
     "output_type": "stream",
     "text": [
      "C:\\Users\\TANAY\\AppData\\Local\\Temp\\ipykernel_7252\\407795470.py:47: FutureWarning: The frame.append method is deprecated and will be removed from pandas in a future version. Use pandas.concat instead.\n",
      "  df = df.append({\n"
     ]
    },
    {
     "name": "stdout",
     "output_type": "stream",
     "text": [
      "Appending data for folder: Acts_10\n",
      "Checking folder: C:\\Users\\TANAY\\anaconda3\\envs\\SIT\\Bible_Texts\\प्रेषितांची कृत्येACT\\Acts_11\n",
      "Audio file path: C:\\Users\\TANAY\\anaconda3\\envs\\SIT\\Bible_Texts\\प्रेषितांची कृत्येACT\\Acts_11\\_11_Acts________MARDPIN1DA.mp3\n",
      "Text file path: C:\\Users\\TANAY\\anaconda3\\envs\\SIT\\Bible_Texts\\प्रेषितांची कृत्येACT\\Acts_11\\11.txt\n"
     ]
    },
    {
     "name": "stderr",
     "output_type": "stream",
     "text": [
      "C:\\Users\\TANAY\\AppData\\Local\\Temp\\ipykernel_7252\\407795470.py:47: FutureWarning: The frame.append method is deprecated and will be removed from pandas in a future version. Use pandas.concat instead.\n",
      "  df = df.append({\n"
     ]
    },
    {
     "name": "stdout",
     "output_type": "stream",
     "text": [
      "Appending data for folder: Acts_11\n",
      "Checking folder: C:\\Users\\TANAY\\anaconda3\\envs\\SIT\\Bible_Texts\\प्रेषितांची कृत्येACT\\Acts_12\n",
      "Audio file path: C:\\Users\\TANAY\\anaconda3\\envs\\SIT\\Bible_Texts\\प्रेषितांची कृत्येACT\\Acts_12\\_12_Acts________MARDPIN1DA.mp3\n",
      "Text file path: C:\\Users\\TANAY\\anaconda3\\envs\\SIT\\Bible_Texts\\प्रेषितांची कृत्येACT\\Acts_12\\12.txt\n"
     ]
    },
    {
     "name": "stderr",
     "output_type": "stream",
     "text": [
      "C:\\Users\\TANAY\\AppData\\Local\\Temp\\ipykernel_7252\\407795470.py:47: FutureWarning: The frame.append method is deprecated and will be removed from pandas in a future version. Use pandas.concat instead.\n",
      "  df = df.append({\n"
     ]
    },
    {
     "name": "stdout",
     "output_type": "stream",
     "text": [
      "Appending data for folder: Acts_12\n",
      "Checking folder: C:\\Users\\TANAY\\anaconda3\\envs\\SIT\\Bible_Texts\\प्रेषितांची कृत्येACT\\Acts_13\n",
      "Audio file path: C:\\Users\\TANAY\\anaconda3\\envs\\SIT\\Bible_Texts\\प्रेषितांची कृत्येACT\\Acts_13\\_13_Acts________MARDPIN1DA.mp3\n",
      "Text file path: C:\\Users\\TANAY\\anaconda3\\envs\\SIT\\Bible_Texts\\प्रेषितांची कृत्येACT\\Acts_13\\13.txt\n"
     ]
    },
    {
     "name": "stderr",
     "output_type": "stream",
     "text": [
      "C:\\Users\\TANAY\\AppData\\Local\\Temp\\ipykernel_7252\\407795470.py:47: FutureWarning: The frame.append method is deprecated and will be removed from pandas in a future version. Use pandas.concat instead.\n",
      "  df = df.append({\n"
     ]
    },
    {
     "name": "stdout",
     "output_type": "stream",
     "text": [
      "Appending data for folder: Acts_13\n",
      "Checking folder: C:\\Users\\TANAY\\anaconda3\\envs\\SIT\\Bible_Texts\\प्रेषितांची कृत्येACT\\Acts_14\n",
      "Audio file path: C:\\Users\\TANAY\\anaconda3\\envs\\SIT\\Bible_Texts\\प्रेषितांची कृत्येACT\\Acts_14\\_14_Acts________MARDPIN1DA.mp3\n",
      "Text file path: C:\\Users\\TANAY\\anaconda3\\envs\\SIT\\Bible_Texts\\प्रेषितांची कृत्येACT\\Acts_14\\14.txt\n"
     ]
    },
    {
     "name": "stderr",
     "output_type": "stream",
     "text": [
      "C:\\Users\\TANAY\\AppData\\Local\\Temp\\ipykernel_7252\\407795470.py:47: FutureWarning: The frame.append method is deprecated and will be removed from pandas in a future version. Use pandas.concat instead.\n",
      "  df = df.append({\n"
     ]
    },
    {
     "name": "stdout",
     "output_type": "stream",
     "text": [
      "Appending data for folder: Acts_14\n",
      "Checking folder: C:\\Users\\TANAY\\anaconda3\\envs\\SIT\\Bible_Texts\\प्रेषितांची कृत्येACT\\Acts_15\n",
      "Audio file path: C:\\Users\\TANAY\\anaconda3\\envs\\SIT\\Bible_Texts\\प्रेषितांची कृत्येACT\\Acts_15\\_15_Acts________MARDPIN1DA.mp3\n",
      "Text file path: C:\\Users\\TANAY\\anaconda3\\envs\\SIT\\Bible_Texts\\प्रेषितांची कृत्येACT\\Acts_15\\15.txt\n"
     ]
    },
    {
     "name": "stderr",
     "output_type": "stream",
     "text": [
      "C:\\Users\\TANAY\\AppData\\Local\\Temp\\ipykernel_7252\\407795470.py:47: FutureWarning: The frame.append method is deprecated and will be removed from pandas in a future version. Use pandas.concat instead.\n",
      "  df = df.append({\n"
     ]
    },
    {
     "name": "stdout",
     "output_type": "stream",
     "text": [
      "Appending data for folder: Acts_15\n",
      "Checking folder: C:\\Users\\TANAY\\anaconda3\\envs\\SIT\\Bible_Texts\\प्रेषितांची कृत्येACT\\Acts_16\n",
      "Audio file path: C:\\Users\\TANAY\\anaconda3\\envs\\SIT\\Bible_Texts\\प्रेषितांची कृत्येACT\\Acts_16\\_16_Acts________MARDPIN1DA.mp3\n",
      "Text file path: C:\\Users\\TANAY\\anaconda3\\envs\\SIT\\Bible_Texts\\प्रेषितांची कृत्येACT\\Acts_16\\16.txt\n"
     ]
    },
    {
     "name": "stderr",
     "output_type": "stream",
     "text": [
      "C:\\Users\\TANAY\\AppData\\Local\\Temp\\ipykernel_7252\\407795470.py:47: FutureWarning: The frame.append method is deprecated and will be removed from pandas in a future version. Use pandas.concat instead.\n",
      "  df = df.append({\n"
     ]
    },
    {
     "name": "stdout",
     "output_type": "stream",
     "text": [
      "Appending data for folder: Acts_16\n",
      "Checking folder: C:\\Users\\TANAY\\anaconda3\\envs\\SIT\\Bible_Texts\\प्रेषितांची कृत्येACT\\Acts_17\n",
      "Audio file path: C:\\Users\\TANAY\\anaconda3\\envs\\SIT\\Bible_Texts\\प्रेषितांची कृत्येACT\\Acts_17\\_17_Acts________MARDPIN1DA.mp3\n",
      "Text file path: C:\\Users\\TANAY\\anaconda3\\envs\\SIT\\Bible_Texts\\प्रेषितांची कृत्येACT\\Acts_17\\17.txt\n"
     ]
    },
    {
     "name": "stderr",
     "output_type": "stream",
     "text": [
      "C:\\Users\\TANAY\\AppData\\Local\\Temp\\ipykernel_7252\\407795470.py:47: FutureWarning: The frame.append method is deprecated and will be removed from pandas in a future version. Use pandas.concat instead.\n",
      "  df = df.append({\n"
     ]
    },
    {
     "name": "stdout",
     "output_type": "stream",
     "text": [
      "Appending data for folder: Acts_17\n",
      "Checking folder: C:\\Users\\TANAY\\anaconda3\\envs\\SIT\\Bible_Texts\\प्रेषितांची कृत्येACT\\Acts_18\n",
      "Audio file path: C:\\Users\\TANAY\\anaconda3\\envs\\SIT\\Bible_Texts\\प्रेषितांची कृत्येACT\\Acts_18\\_18_Acts________MARDPIN1DA.mp3\n",
      "Text file path: C:\\Users\\TANAY\\anaconda3\\envs\\SIT\\Bible_Texts\\प्रेषितांची कृत्येACT\\Acts_18\\18.txt\n"
     ]
    },
    {
     "name": "stderr",
     "output_type": "stream",
     "text": [
      "C:\\Users\\TANAY\\AppData\\Local\\Temp\\ipykernel_7252\\407795470.py:47: FutureWarning: The frame.append method is deprecated and will be removed from pandas in a future version. Use pandas.concat instead.\n",
      "  df = df.append({\n"
     ]
    },
    {
     "name": "stdout",
     "output_type": "stream",
     "text": [
      "Appending data for folder: Acts_18\n",
      "Checking folder: C:\\Users\\TANAY\\anaconda3\\envs\\SIT\\Bible_Texts\\प्रेषितांची कृत्येACT\\Acts_19\n",
      "Audio file path: C:\\Users\\TANAY\\anaconda3\\envs\\SIT\\Bible_Texts\\प्रेषितांची कृत्येACT\\Acts_19\\_19_Acts________MARDPIN1DA.mp3\n",
      "Text file path: C:\\Users\\TANAY\\anaconda3\\envs\\SIT\\Bible_Texts\\प्रेषितांची कृत्येACT\\Acts_19\\19.txt\n"
     ]
    },
    {
     "name": "stderr",
     "output_type": "stream",
     "text": [
      "C:\\Users\\TANAY\\AppData\\Local\\Temp\\ipykernel_7252\\407795470.py:47: FutureWarning: The frame.append method is deprecated and will be removed from pandas in a future version. Use pandas.concat instead.\n",
      "  df = df.append({\n"
     ]
    },
    {
     "name": "stdout",
     "output_type": "stream",
     "text": [
      "Appending data for folder: Acts_19\n",
      "Checking folder: C:\\Users\\TANAY\\anaconda3\\envs\\SIT\\Bible_Texts\\प्रेषितांची कृत्येACT\\Acts_20\n",
      "Audio file path: C:\\Users\\TANAY\\anaconda3\\envs\\SIT\\Bible_Texts\\प्रेषितांची कृत्येACT\\Acts_20\\_20_Acts________MARDPIN1DA.mp3\n",
      "Text file path: C:\\Users\\TANAY\\anaconda3\\envs\\SIT\\Bible_Texts\\प्रेषितांची कृत्येACT\\Acts_20\\20.txt\n"
     ]
    },
    {
     "name": "stderr",
     "output_type": "stream",
     "text": [
      "C:\\Users\\TANAY\\AppData\\Local\\Temp\\ipykernel_7252\\407795470.py:47: FutureWarning: The frame.append method is deprecated and will be removed from pandas in a future version. Use pandas.concat instead.\n",
      "  df = df.append({\n"
     ]
    },
    {
     "name": "stdout",
     "output_type": "stream",
     "text": [
      "Appending data for folder: Acts_20\n",
      "Checking folder: C:\\Users\\TANAY\\anaconda3\\envs\\SIT\\Bible_Texts\\प्रेषितांची कृत्येACT\\Acts_21\n",
      "Audio file path: C:\\Users\\TANAY\\anaconda3\\envs\\SIT\\Bible_Texts\\प्रेषितांची कृत्येACT\\Acts_21\\_21_Acts________MARDPIN1DA.mp3\n",
      "Text file path: C:\\Users\\TANAY\\anaconda3\\envs\\SIT\\Bible_Texts\\प्रेषितांची कृत्येACT\\Acts_21\\21.txt\n"
     ]
    },
    {
     "name": "stderr",
     "output_type": "stream",
     "text": [
      "C:\\Users\\TANAY\\AppData\\Local\\Temp\\ipykernel_7252\\407795470.py:47: FutureWarning: The frame.append method is deprecated and will be removed from pandas in a future version. Use pandas.concat instead.\n",
      "  df = df.append({\n"
     ]
    },
    {
     "name": "stdout",
     "output_type": "stream",
     "text": [
      "Appending data for folder: Acts_21\n",
      "Checking folder: C:\\Users\\TANAY\\anaconda3\\envs\\SIT\\Bible_Texts\\प्रेषितांची कृत्येACT\\Acts_22\n",
      "Audio file path: C:\\Users\\TANAY\\anaconda3\\envs\\SIT\\Bible_Texts\\प्रेषितांची कृत्येACT\\Acts_22\\_22_Acts________MARDPIN1DA.mp3\n",
      "Text file path: C:\\Users\\TANAY\\anaconda3\\envs\\SIT\\Bible_Texts\\प्रेषितांची कृत्येACT\\Acts_22\\22.txt\n"
     ]
    },
    {
     "name": "stderr",
     "output_type": "stream",
     "text": [
      "C:\\Users\\TANAY\\AppData\\Local\\Temp\\ipykernel_7252\\407795470.py:47: FutureWarning: The frame.append method is deprecated and will be removed from pandas in a future version. Use pandas.concat instead.\n",
      "  df = df.append({\n"
     ]
    },
    {
     "name": "stdout",
     "output_type": "stream",
     "text": [
      "Appending data for folder: Acts_22\n",
      "Checking folder: C:\\Users\\TANAY\\anaconda3\\envs\\SIT\\Bible_Texts\\प्रेषितांची कृत्येACT\\Acts_23\n",
      "Audio file path: C:\\Users\\TANAY\\anaconda3\\envs\\SIT\\Bible_Texts\\प्रेषितांची कृत्येACT\\Acts_23\\_23_Acts________MARDPIN1DA.mp3\n",
      "Text file path: C:\\Users\\TANAY\\anaconda3\\envs\\SIT\\Bible_Texts\\प्रेषितांची कृत्येACT\\Acts_23\\23.txt\n"
     ]
    },
    {
     "name": "stderr",
     "output_type": "stream",
     "text": [
      "C:\\Users\\TANAY\\AppData\\Local\\Temp\\ipykernel_7252\\407795470.py:47: FutureWarning: The frame.append method is deprecated and will be removed from pandas in a future version. Use pandas.concat instead.\n",
      "  df = df.append({\n"
     ]
    },
    {
     "name": "stdout",
     "output_type": "stream",
     "text": [
      "Appending data for folder: Acts_23\n",
      "Checking folder: C:\\Users\\TANAY\\anaconda3\\envs\\SIT\\Bible_Texts\\प्रेषितांची कृत्येACT\\Acts_24\n",
      "Audio file path: C:\\Users\\TANAY\\anaconda3\\envs\\SIT\\Bible_Texts\\प्रेषितांची कृत्येACT\\Acts_24\\_24_Acts________MARDPIN1DA.mp3\n",
      "Text file path: C:\\Users\\TANAY\\anaconda3\\envs\\SIT\\Bible_Texts\\प्रेषितांची कृत्येACT\\Acts_24\\24.txt\n"
     ]
    },
    {
     "name": "stderr",
     "output_type": "stream",
     "text": [
      "C:\\Users\\TANAY\\AppData\\Local\\Temp\\ipykernel_7252\\407795470.py:47: FutureWarning: The frame.append method is deprecated and will be removed from pandas in a future version. Use pandas.concat instead.\n",
      "  df = df.append({\n"
     ]
    },
    {
     "name": "stdout",
     "output_type": "stream",
     "text": [
      "Appending data for folder: Acts_24\n",
      "Checking folder: C:\\Users\\TANAY\\anaconda3\\envs\\SIT\\Bible_Texts\\प्रेषितांची कृत्येACT\\Acts_25\n",
      "Audio file path: C:\\Users\\TANAY\\anaconda3\\envs\\SIT\\Bible_Texts\\प्रेषितांची कृत्येACT\\Acts_25\\_25_Acts________MARDPIN1DA.mp3\n",
      "Text file path: C:\\Users\\TANAY\\anaconda3\\envs\\SIT\\Bible_Texts\\प्रेषितांची कृत्येACT\\Acts_25\\25.txt\n"
     ]
    },
    {
     "name": "stderr",
     "output_type": "stream",
     "text": [
      "C:\\Users\\TANAY\\AppData\\Local\\Temp\\ipykernel_7252\\407795470.py:47: FutureWarning: The frame.append method is deprecated and will be removed from pandas in a future version. Use pandas.concat instead.\n",
      "  df = df.append({\n"
     ]
    },
    {
     "name": "stdout",
     "output_type": "stream",
     "text": [
      "Appending data for folder: Acts_25\n",
      "Checking folder: C:\\Users\\TANAY\\anaconda3\\envs\\SIT\\Bible_Texts\\प्रेषितांची कृत्येACT\\Acts_26\n",
      "Audio file path: C:\\Users\\TANAY\\anaconda3\\envs\\SIT\\Bible_Texts\\प्रेषितांची कृत्येACT\\Acts_26\\_26_Acts________MARDPIN1DA.mp3\n",
      "Text file path: C:\\Users\\TANAY\\anaconda3\\envs\\SIT\\Bible_Texts\\प्रेषितांची कृत्येACT\\Acts_26\\26.txt\n"
     ]
    },
    {
     "name": "stderr",
     "output_type": "stream",
     "text": [
      "C:\\Users\\TANAY\\AppData\\Local\\Temp\\ipykernel_7252\\407795470.py:47: FutureWarning: The frame.append method is deprecated and will be removed from pandas in a future version. Use pandas.concat instead.\n",
      "  df = df.append({\n"
     ]
    },
    {
     "name": "stdout",
     "output_type": "stream",
     "text": [
      "Appending data for folder: Acts_26\n",
      "Checking folder: C:\\Users\\TANAY\\anaconda3\\envs\\SIT\\Bible_Texts\\प्रेषितांची कृत्येACT\\Acts_27\n",
      "Audio file path: C:\\Users\\TANAY\\anaconda3\\envs\\SIT\\Bible_Texts\\प्रेषितांची कृत्येACT\\Acts_27\\_27_Acts________MARDPIN1DA.mp3\n",
      "Text file path: C:\\Users\\TANAY\\anaconda3\\envs\\SIT\\Bible_Texts\\प्रेषितांची कृत्येACT\\Acts_27\\27.txt\n"
     ]
    },
    {
     "name": "stderr",
     "output_type": "stream",
     "text": [
      "C:\\Users\\TANAY\\AppData\\Local\\Temp\\ipykernel_7252\\407795470.py:47: FutureWarning: The frame.append method is deprecated and will be removed from pandas in a future version. Use pandas.concat instead.\n",
      "  df = df.append({\n"
     ]
    },
    {
     "name": "stdout",
     "output_type": "stream",
     "text": [
      "Appending data for folder: Acts_27\n",
      "Checking folder: C:\\Users\\TANAY\\anaconda3\\envs\\SIT\\Bible_Texts\\प्रेषितांची कृत्येACT\\Acts_28\n",
      "Audio file path: C:\\Users\\TANAY\\anaconda3\\envs\\SIT\\Bible_Texts\\प्रेषितांची कृत्येACT\\Acts_28\\_28_Acts________MARDPIN1DA.mp3\n",
      "Text file path: C:\\Users\\TANAY\\anaconda3\\envs\\SIT\\Bible_Texts\\प्रेषितांची कृत्येACT\\Acts_28\\28.txt\n"
     ]
    },
    {
     "name": "stderr",
     "output_type": "stream",
     "text": [
      "C:\\Users\\TANAY\\AppData\\Local\\Temp\\ipykernel_7252\\407795470.py:47: FutureWarning: The frame.append method is deprecated and will be removed from pandas in a future version. Use pandas.concat instead.\n",
      "  df = df.append({\n"
     ]
    },
    {
     "name": "stdout",
     "output_type": "stream",
     "text": [
      "Appending data for folder: Acts_28\n",
      "Checking folder: C:\\Users\\TANAY\\anaconda3\\envs\\SIT\\Bible_Texts\\फिलिप्पैकरांस पत्रPHP\\01_Philippians_\n",
      "Audio file path: C:\\Users\\TANAY\\anaconda3\\envs\\SIT\\Bible_Texts\\फिलिप्पैकरांस पत्रPHP\\01_Philippians_\\_01_Philippians_MARDPIN1DA.mp3\n",
      "Text file path: C:\\Users\\TANAY\\anaconda3\\envs\\SIT\\Bible_Texts\\फिलिप्पैकरांस पत्रPHP\\01_Philippians_\\1.txt\n"
     ]
    },
    {
     "name": "stderr",
     "output_type": "stream",
     "text": [
      "C:\\Users\\TANAY\\AppData\\Local\\Temp\\ipykernel_7252\\407795470.py:47: FutureWarning: The frame.append method is deprecated and will be removed from pandas in a future version. Use pandas.concat instead.\n",
      "  df = df.append({\n"
     ]
    },
    {
     "name": "stdout",
     "output_type": "stream",
     "text": [
      "Appending data for folder: 01_Philippians_\n",
      "Checking folder: C:\\Users\\TANAY\\anaconda3\\envs\\SIT\\Bible_Texts\\फिलिप्पैकरांस पत्रPHP\\02_Philippians_\n",
      "Audio file path: C:\\Users\\TANAY\\anaconda3\\envs\\SIT\\Bible_Texts\\फिलिप्पैकरांस पत्रPHP\\02_Philippians_\\_02_Philippians_MARDPIN1DA.mp3\n",
      "Text file path: C:\\Users\\TANAY\\anaconda3\\envs\\SIT\\Bible_Texts\\फिलिप्पैकरांस पत्रPHP\\02_Philippians_\\2.txt\n"
     ]
    },
    {
     "name": "stderr",
     "output_type": "stream",
     "text": [
      "C:\\Users\\TANAY\\AppData\\Local\\Temp\\ipykernel_7252\\407795470.py:47: FutureWarning: The frame.append method is deprecated and will be removed from pandas in a future version. Use pandas.concat instead.\n",
      "  df = df.append({\n"
     ]
    },
    {
     "name": "stdout",
     "output_type": "stream",
     "text": [
      "Appending data for folder: 02_Philippians_\n",
      "Checking folder: C:\\Users\\TANAY\\anaconda3\\envs\\SIT\\Bible_Texts\\फिलिप्पैकरांस पत्रPHP\\03_Philippians_\n",
      "Audio file path: C:\\Users\\TANAY\\anaconda3\\envs\\SIT\\Bible_Texts\\फिलिप्पैकरांस पत्रPHP\\03_Philippians_\\_03_Philippians_MARDPIN1DA.mp3\n",
      "Text file path: C:\\Users\\TANAY\\anaconda3\\envs\\SIT\\Bible_Texts\\फिलिप्पैकरांस पत्रPHP\\03_Philippians_\\3.txt\n"
     ]
    },
    {
     "name": "stderr",
     "output_type": "stream",
     "text": [
      "C:\\Users\\TANAY\\AppData\\Local\\Temp\\ipykernel_7252\\407795470.py:47: FutureWarning: The frame.append method is deprecated and will be removed from pandas in a future version. Use pandas.concat instead.\n",
      "  df = df.append({\n"
     ]
    },
    {
     "name": "stdout",
     "output_type": "stream",
     "text": [
      "Appending data for folder: 03_Philippians_\n",
      "Checking folder: C:\\Users\\TANAY\\anaconda3\\envs\\SIT\\Bible_Texts\\फिलिप्पैकरांस पत्रPHP\\04_Philippians_\n",
      "Audio file path: C:\\Users\\TANAY\\anaconda3\\envs\\SIT\\Bible_Texts\\फिलिप्पैकरांस पत्रPHP\\04_Philippians_\\_04_Philippians_MARDPIN1DA.mp3\n",
      "Text file path: C:\\Users\\TANAY\\anaconda3\\envs\\SIT\\Bible_Texts\\फिलिप्पैकरांस पत्रPHP\\04_Philippians_\\4.txt\n"
     ]
    },
    {
     "name": "stderr",
     "output_type": "stream",
     "text": [
      "C:\\Users\\TANAY\\AppData\\Local\\Temp\\ipykernel_7252\\407795470.py:47: FutureWarning: The frame.append method is deprecated and will be removed from pandas in a future version. Use pandas.concat instead.\n",
      "  df = df.append({\n"
     ]
    },
    {
     "name": "stdout",
     "output_type": "stream",
     "text": [
      "Appending data for folder: 04_Philippians_\n",
      "Checking folder: C:\\Users\\TANAY\\anaconda3\\envs\\SIT\\Bible_Texts\\फिलेमानाला पत्रPHM\\01_Philemon____\n",
      "Audio file path: C:\\Users\\TANAY\\anaconda3\\envs\\SIT\\Bible_Texts\\फिलेमानाला पत्रPHM\\01_Philemon____\\_01_Philemon____MARDPIN1DA.mp3\n",
      "Text file path: C:\\Users\\TANAY\\anaconda3\\envs\\SIT\\Bible_Texts\\फिलेमानाला पत्रPHM\\01_Philemon____\\1.txt\n"
     ]
    },
    {
     "name": "stderr",
     "output_type": "stream",
     "text": [
      "C:\\Users\\TANAY\\AppData\\Local\\Temp\\ipykernel_7252\\407795470.py:47: FutureWarning: The frame.append method is deprecated and will be removed from pandas in a future version. Use pandas.concat instead.\n",
      "  df = df.append({\n"
     ]
    },
    {
     "name": "stdout",
     "output_type": "stream",
     "text": [
      "Appending data for folder: 01_Philemon____\n",
      "Checking folder: C:\\Users\\TANAY\\anaconda3\\envs\\SIT\\Bible_Texts\\मत्तयकृत शुभवर्तमानMAT\\01_Matthew_____\n",
      "Audio file path: C:\\Users\\TANAY\\anaconda3\\envs\\SIT\\Bible_Texts\\मत्तयकृत शुभवर्तमानMAT\\01_Matthew_____\\_01_Matthew_____MARDPIN1DA.mp3\n",
      "Text file path: C:\\Users\\TANAY\\anaconda3\\envs\\SIT\\Bible_Texts\\मत्तयकृत शुभवर्तमानMAT\\01_Matthew_____\\1.txt\n"
     ]
    },
    {
     "name": "stderr",
     "output_type": "stream",
     "text": [
      "C:\\Users\\TANAY\\AppData\\Local\\Temp\\ipykernel_7252\\407795470.py:47: FutureWarning: The frame.append method is deprecated and will be removed from pandas in a future version. Use pandas.concat instead.\n",
      "  df = df.append({\n"
     ]
    },
    {
     "name": "stdout",
     "output_type": "stream",
     "text": [
      "Appending data for folder: 01_Matthew_____\n",
      "Checking folder: C:\\Users\\TANAY\\anaconda3\\envs\\SIT\\Bible_Texts\\मत्तयकृत शुभवर्तमानMAT\\02_Matthew_____\n",
      "Audio file path: C:\\Users\\TANAY\\anaconda3\\envs\\SIT\\Bible_Texts\\मत्तयकृत शुभवर्तमानMAT\\02_Matthew_____\\_02_Matthew_____MARDPIN1DA.mp3\n",
      "Text file path: C:\\Users\\TANAY\\anaconda3\\envs\\SIT\\Bible_Texts\\मत्तयकृत शुभवर्तमानMAT\\02_Matthew_____\\2.txt\n"
     ]
    },
    {
     "name": "stderr",
     "output_type": "stream",
     "text": [
      "C:\\Users\\TANAY\\AppData\\Local\\Temp\\ipykernel_7252\\407795470.py:47: FutureWarning: The frame.append method is deprecated and will be removed from pandas in a future version. Use pandas.concat instead.\n",
      "  df = df.append({\n"
     ]
    },
    {
     "name": "stdout",
     "output_type": "stream",
     "text": [
      "Appending data for folder: 02_Matthew_____\n",
      "Checking folder: C:\\Users\\TANAY\\anaconda3\\envs\\SIT\\Bible_Texts\\मत्तयकृत शुभवर्तमानMAT\\03_Matthew_____\n",
      "Audio file path: C:\\Users\\TANAY\\anaconda3\\envs\\SIT\\Bible_Texts\\मत्तयकृत शुभवर्तमानMAT\\03_Matthew_____\\_03_Matthew_____MARDPIN1DA.mp3\n",
      "Text file path: C:\\Users\\TANAY\\anaconda3\\envs\\SIT\\Bible_Texts\\मत्तयकृत शुभवर्तमानMAT\\03_Matthew_____\\3.txt\n"
     ]
    },
    {
     "name": "stderr",
     "output_type": "stream",
     "text": [
      "C:\\Users\\TANAY\\AppData\\Local\\Temp\\ipykernel_7252\\407795470.py:47: FutureWarning: The frame.append method is deprecated and will be removed from pandas in a future version. Use pandas.concat instead.\n",
      "  df = df.append({\n"
     ]
    },
    {
     "name": "stdout",
     "output_type": "stream",
     "text": [
      "Appending data for folder: 03_Matthew_____\n",
      "Checking folder: C:\\Users\\TANAY\\anaconda3\\envs\\SIT\\Bible_Texts\\मत्तयकृत शुभवर्तमानMAT\\04_Matthew_____\n",
      "Audio file path: C:\\Users\\TANAY\\anaconda3\\envs\\SIT\\Bible_Texts\\मत्तयकृत शुभवर्तमानMAT\\04_Matthew_____\\_04_Matthew_____MARDPIN1DA.mp3\n",
      "Text file path: C:\\Users\\TANAY\\anaconda3\\envs\\SIT\\Bible_Texts\\मत्तयकृत शुभवर्तमानMAT\\04_Matthew_____\\4.txt\n"
     ]
    },
    {
     "name": "stderr",
     "output_type": "stream",
     "text": [
      "C:\\Users\\TANAY\\AppData\\Local\\Temp\\ipykernel_7252\\407795470.py:47: FutureWarning: The frame.append method is deprecated and will be removed from pandas in a future version. Use pandas.concat instead.\n",
      "  df = df.append({\n"
     ]
    },
    {
     "name": "stdout",
     "output_type": "stream",
     "text": [
      "Appending data for folder: 04_Matthew_____\n",
      "Checking folder: C:\\Users\\TANAY\\anaconda3\\envs\\SIT\\Bible_Texts\\मत्तयकृत शुभवर्तमानMAT\\05_Matthew_____\n",
      "Audio file path: C:\\Users\\TANAY\\anaconda3\\envs\\SIT\\Bible_Texts\\मत्तयकृत शुभवर्तमानMAT\\05_Matthew_____\\_05_Matthew_____MARDPIN1DA.mp3\n",
      "Text file path: C:\\Users\\TANAY\\anaconda3\\envs\\SIT\\Bible_Texts\\मत्तयकृत शुभवर्तमानMAT\\05_Matthew_____\\5.txt\n"
     ]
    },
    {
     "name": "stderr",
     "output_type": "stream",
     "text": [
      "C:\\Users\\TANAY\\AppData\\Local\\Temp\\ipykernel_7252\\407795470.py:47: FutureWarning: The frame.append method is deprecated and will be removed from pandas in a future version. Use pandas.concat instead.\n",
      "  df = df.append({\n"
     ]
    },
    {
     "name": "stdout",
     "output_type": "stream",
     "text": [
      "Appending data for folder: 05_Matthew_____\n",
      "Checking folder: C:\\Users\\TANAY\\anaconda3\\envs\\SIT\\Bible_Texts\\मत्तयकृत शुभवर्तमानMAT\\06_Matthew_____\n",
      "Audio file path: C:\\Users\\TANAY\\anaconda3\\envs\\SIT\\Bible_Texts\\मत्तयकृत शुभवर्तमानMAT\\06_Matthew_____\\_06_Matthew_____MARDPIN1DA.mp3\n",
      "Text file path: C:\\Users\\TANAY\\anaconda3\\envs\\SIT\\Bible_Texts\\मत्तयकृत शुभवर्तमानMAT\\06_Matthew_____\\6.txt\n"
     ]
    },
    {
     "name": "stderr",
     "output_type": "stream",
     "text": [
      "C:\\Users\\TANAY\\AppData\\Local\\Temp\\ipykernel_7252\\407795470.py:47: FutureWarning: The frame.append method is deprecated and will be removed from pandas in a future version. Use pandas.concat instead.\n",
      "  df = df.append({\n"
     ]
    },
    {
     "name": "stdout",
     "output_type": "stream",
     "text": [
      "Appending data for folder: 06_Matthew_____\n",
      "Checking folder: C:\\Users\\TANAY\\anaconda3\\envs\\SIT\\Bible_Texts\\मत्तयकृत शुभवर्तमानMAT\\07_Matthew_____\n",
      "Audio file path: C:\\Users\\TANAY\\anaconda3\\envs\\SIT\\Bible_Texts\\मत्तयकृत शुभवर्तमानMAT\\07_Matthew_____\\_07_Matthew_____MARDPIN1DA.mp3\n",
      "Text file path: C:\\Users\\TANAY\\anaconda3\\envs\\SIT\\Bible_Texts\\मत्तयकृत शुभवर्तमानMAT\\07_Matthew_____\\7.txt\n"
     ]
    },
    {
     "name": "stderr",
     "output_type": "stream",
     "text": [
      "C:\\Users\\TANAY\\AppData\\Local\\Temp\\ipykernel_7252\\407795470.py:47: FutureWarning: The frame.append method is deprecated and will be removed from pandas in a future version. Use pandas.concat instead.\n",
      "  df = df.append({\n"
     ]
    },
    {
     "name": "stdout",
     "output_type": "stream",
     "text": [
      "Appending data for folder: 07_Matthew_____\n",
      "Checking folder: C:\\Users\\TANAY\\anaconda3\\envs\\SIT\\Bible_Texts\\मत्तयकृत शुभवर्तमानMAT\\08_Matthew_____\n",
      "Audio file path: C:\\Users\\TANAY\\anaconda3\\envs\\SIT\\Bible_Texts\\मत्तयकृत शुभवर्तमानMAT\\08_Matthew_____\\_08_Matthew_____MARDPIN1DA.mp3\n",
      "Text file path: C:\\Users\\TANAY\\anaconda3\\envs\\SIT\\Bible_Texts\\मत्तयकृत शुभवर्तमानMAT\\08_Matthew_____\\8.txt\n"
     ]
    },
    {
     "name": "stderr",
     "output_type": "stream",
     "text": [
      "C:\\Users\\TANAY\\AppData\\Local\\Temp\\ipykernel_7252\\407795470.py:47: FutureWarning: The frame.append method is deprecated and will be removed from pandas in a future version. Use pandas.concat instead.\n",
      "  df = df.append({\n"
     ]
    },
    {
     "name": "stdout",
     "output_type": "stream",
     "text": [
      "Appending data for folder: 08_Matthew_____\n",
      "Checking folder: C:\\Users\\TANAY\\anaconda3\\envs\\SIT\\Bible_Texts\\मत्तयकृत शुभवर्तमानMAT\\09_Matthew_____\n",
      "Audio file path: C:\\Users\\TANAY\\anaconda3\\envs\\SIT\\Bible_Texts\\मत्तयकृत शुभवर्तमानMAT\\09_Matthew_____\\_09_Matthew_____MARDPIN1DA.mp3\n",
      "Text file path: C:\\Users\\TANAY\\anaconda3\\envs\\SIT\\Bible_Texts\\मत्तयकृत शुभवर्तमानMAT\\09_Matthew_____\\9.txt\n"
     ]
    },
    {
     "name": "stderr",
     "output_type": "stream",
     "text": [
      "C:\\Users\\TANAY\\AppData\\Local\\Temp\\ipykernel_7252\\407795470.py:47: FutureWarning: The frame.append method is deprecated and will be removed from pandas in a future version. Use pandas.concat instead.\n",
      "  df = df.append({\n"
     ]
    },
    {
     "name": "stdout",
     "output_type": "stream",
     "text": [
      "Appending data for folder: 09_Matthew_____\n",
      "Checking folder: C:\\Users\\TANAY\\anaconda3\\envs\\SIT\\Bible_Texts\\मत्तयकृत शुभवर्तमानMAT\\10_Matthew_____\n",
      "Audio file path: C:\\Users\\TANAY\\anaconda3\\envs\\SIT\\Bible_Texts\\मत्तयकृत शुभवर्तमानMAT\\10_Matthew_____\\_10_Matthew_____MARDPIN1DA.mp3\n",
      "Text file path: C:\\Users\\TANAY\\anaconda3\\envs\\SIT\\Bible_Texts\\मत्तयकृत शुभवर्तमानMAT\\10_Matthew_____\\10.txt\n"
     ]
    },
    {
     "name": "stderr",
     "output_type": "stream",
     "text": [
      "C:\\Users\\TANAY\\AppData\\Local\\Temp\\ipykernel_7252\\407795470.py:47: FutureWarning: The frame.append method is deprecated and will be removed from pandas in a future version. Use pandas.concat instead.\n",
      "  df = df.append({\n"
     ]
    },
    {
     "name": "stdout",
     "output_type": "stream",
     "text": [
      "Appending data for folder: 10_Matthew_____\n",
      "Checking folder: C:\\Users\\TANAY\\anaconda3\\envs\\SIT\\Bible_Texts\\मत्तयकृत शुभवर्तमानMAT\\11_Matthew_____\n",
      "Audio file path: C:\\Users\\TANAY\\anaconda3\\envs\\SIT\\Bible_Texts\\मत्तयकृत शुभवर्तमानMAT\\11_Matthew_____\\_11_Matthew_____MARDPIN1DA.mp3\n",
      "Text file path: C:\\Users\\TANAY\\anaconda3\\envs\\SIT\\Bible_Texts\\मत्तयकृत शुभवर्तमानMAT\\11_Matthew_____\\11.txt\n"
     ]
    },
    {
     "name": "stderr",
     "output_type": "stream",
     "text": [
      "C:\\Users\\TANAY\\AppData\\Local\\Temp\\ipykernel_7252\\407795470.py:47: FutureWarning: The frame.append method is deprecated and will be removed from pandas in a future version. Use pandas.concat instead.\n",
      "  df = df.append({\n"
     ]
    },
    {
     "name": "stdout",
     "output_type": "stream",
     "text": [
      "Appending data for folder: 11_Matthew_____\n",
      "Checking folder: C:\\Users\\TANAY\\anaconda3\\envs\\SIT\\Bible_Texts\\मत्तयकृत शुभवर्तमानMAT\\12_Matthew_____\n",
      "Audio file path: C:\\Users\\TANAY\\anaconda3\\envs\\SIT\\Bible_Texts\\मत्तयकृत शुभवर्तमानMAT\\12_Matthew_____\\_12_Matthew_____MARDPIN1DA.mp3\n",
      "Text file path: C:\\Users\\TANAY\\anaconda3\\envs\\SIT\\Bible_Texts\\मत्तयकृत शुभवर्तमानMAT\\12_Matthew_____\\12.txt\n"
     ]
    },
    {
     "name": "stderr",
     "output_type": "stream",
     "text": [
      "C:\\Users\\TANAY\\AppData\\Local\\Temp\\ipykernel_7252\\407795470.py:47: FutureWarning: The frame.append method is deprecated and will be removed from pandas in a future version. Use pandas.concat instead.\n",
      "  df = df.append({\n"
     ]
    },
    {
     "name": "stdout",
     "output_type": "stream",
     "text": [
      "Appending data for folder: 12_Matthew_____\n",
      "Checking folder: C:\\Users\\TANAY\\anaconda3\\envs\\SIT\\Bible_Texts\\मत्तयकृत शुभवर्तमानMAT\\13_Matthew_____\n",
      "Audio file path: C:\\Users\\TANAY\\anaconda3\\envs\\SIT\\Bible_Texts\\मत्तयकृत शुभवर्तमानMAT\\13_Matthew_____\\_13_Matthew_____MARDPIN1DA.mp3\n",
      "Text file path: C:\\Users\\TANAY\\anaconda3\\envs\\SIT\\Bible_Texts\\मत्तयकृत शुभवर्तमानMAT\\13_Matthew_____\\13.txt\n"
     ]
    },
    {
     "name": "stderr",
     "output_type": "stream",
     "text": [
      "C:\\Users\\TANAY\\AppData\\Local\\Temp\\ipykernel_7252\\407795470.py:47: FutureWarning: The frame.append method is deprecated and will be removed from pandas in a future version. Use pandas.concat instead.\n",
      "  df = df.append({\n"
     ]
    },
    {
     "name": "stdout",
     "output_type": "stream",
     "text": [
      "Appending data for folder: 13_Matthew_____\n",
      "Checking folder: C:\\Users\\TANAY\\anaconda3\\envs\\SIT\\Bible_Texts\\मत्तयकृत शुभवर्तमानMAT\\14_Matthew_____\n",
      "Audio file path: C:\\Users\\TANAY\\anaconda3\\envs\\SIT\\Bible_Texts\\मत्तयकृत शुभवर्तमानMAT\\14_Matthew_____\\_14_Matthew_____MARDPIN1DA.mp3\n",
      "Text file path: C:\\Users\\TANAY\\anaconda3\\envs\\SIT\\Bible_Texts\\मत्तयकृत शुभवर्तमानMAT\\14_Matthew_____\\14.txt\n"
     ]
    },
    {
     "name": "stderr",
     "output_type": "stream",
     "text": [
      "C:\\Users\\TANAY\\AppData\\Local\\Temp\\ipykernel_7252\\407795470.py:47: FutureWarning: The frame.append method is deprecated and will be removed from pandas in a future version. Use pandas.concat instead.\n",
      "  df = df.append({\n"
     ]
    },
    {
     "name": "stdout",
     "output_type": "stream",
     "text": [
      "Appending data for folder: 14_Matthew_____\n",
      "Checking folder: C:\\Users\\TANAY\\anaconda3\\envs\\SIT\\Bible_Texts\\मत्तयकृत शुभवर्तमानMAT\\15_Matthew_____\n",
      "Audio file path: C:\\Users\\TANAY\\anaconda3\\envs\\SIT\\Bible_Texts\\मत्तयकृत शुभवर्तमानMAT\\15_Matthew_____\\_15_Matthew_____MARDPIN1DA.mp3\n",
      "Text file path: C:\\Users\\TANAY\\anaconda3\\envs\\SIT\\Bible_Texts\\मत्तयकृत शुभवर्तमानMAT\\15_Matthew_____\\15.txt\n"
     ]
    },
    {
     "name": "stderr",
     "output_type": "stream",
     "text": [
      "C:\\Users\\TANAY\\AppData\\Local\\Temp\\ipykernel_7252\\407795470.py:47: FutureWarning: The frame.append method is deprecated and will be removed from pandas in a future version. Use pandas.concat instead.\n",
      "  df = df.append({\n"
     ]
    },
    {
     "name": "stdout",
     "output_type": "stream",
     "text": [
      "Appending data for folder: 15_Matthew_____\n",
      "Checking folder: C:\\Users\\TANAY\\anaconda3\\envs\\SIT\\Bible_Texts\\मत्तयकृत शुभवर्तमानMAT\\16_Matthew_____\n",
      "Audio file path: C:\\Users\\TANAY\\anaconda3\\envs\\SIT\\Bible_Texts\\मत्तयकृत शुभवर्तमानMAT\\16_Matthew_____\\_16_Matthew_____MARDPIN1DA.mp3\n",
      "Text file path: C:\\Users\\TANAY\\anaconda3\\envs\\SIT\\Bible_Texts\\मत्तयकृत शुभवर्तमानMAT\\16_Matthew_____\\16.txt\n"
     ]
    },
    {
     "name": "stderr",
     "output_type": "stream",
     "text": [
      "C:\\Users\\TANAY\\AppData\\Local\\Temp\\ipykernel_7252\\407795470.py:47: FutureWarning: The frame.append method is deprecated and will be removed from pandas in a future version. Use pandas.concat instead.\n",
      "  df = df.append({\n"
     ]
    },
    {
     "name": "stdout",
     "output_type": "stream",
     "text": [
      "Appending data for folder: 16_Matthew_____\n",
      "Checking folder: C:\\Users\\TANAY\\anaconda3\\envs\\SIT\\Bible_Texts\\मत्तयकृत शुभवर्तमानMAT\\17_Matthew_____\n",
      "Audio file path: C:\\Users\\TANAY\\anaconda3\\envs\\SIT\\Bible_Texts\\मत्तयकृत शुभवर्तमानMAT\\17_Matthew_____\\_17_Matthew_____MARDPIN1DA.mp3\n",
      "Text file path: C:\\Users\\TANAY\\anaconda3\\envs\\SIT\\Bible_Texts\\मत्तयकृत शुभवर्तमानMAT\\17_Matthew_____\\17.txt\n"
     ]
    },
    {
     "name": "stderr",
     "output_type": "stream",
     "text": [
      "C:\\Users\\TANAY\\AppData\\Local\\Temp\\ipykernel_7252\\407795470.py:47: FutureWarning: The frame.append method is deprecated and will be removed from pandas in a future version. Use pandas.concat instead.\n",
      "  df = df.append({\n"
     ]
    },
    {
     "name": "stdout",
     "output_type": "stream",
     "text": [
      "Appending data for folder: 17_Matthew_____\n",
      "Checking folder: C:\\Users\\TANAY\\anaconda3\\envs\\SIT\\Bible_Texts\\मत्तयकृत शुभवर्तमानMAT\\18_Matthew_____\n",
      "Audio file path: C:\\Users\\TANAY\\anaconda3\\envs\\SIT\\Bible_Texts\\मत्तयकृत शुभवर्तमानMAT\\18_Matthew_____\\_18_Matthew_____MARDPIN1DA.mp3\n",
      "Text file path: C:\\Users\\TANAY\\anaconda3\\envs\\SIT\\Bible_Texts\\मत्तयकृत शुभवर्तमानMAT\\18_Matthew_____\\18.txt\n"
     ]
    },
    {
     "name": "stderr",
     "output_type": "stream",
     "text": [
      "C:\\Users\\TANAY\\AppData\\Local\\Temp\\ipykernel_7252\\407795470.py:47: FutureWarning: The frame.append method is deprecated and will be removed from pandas in a future version. Use pandas.concat instead.\n",
      "  df = df.append({\n"
     ]
    },
    {
     "name": "stdout",
     "output_type": "stream",
     "text": [
      "Appending data for folder: 18_Matthew_____\n",
      "Checking folder: C:\\Users\\TANAY\\anaconda3\\envs\\SIT\\Bible_Texts\\मत्तयकृत शुभवर्तमानMAT\\19_Matthew_____\n",
      "Audio file path: C:\\Users\\TANAY\\anaconda3\\envs\\SIT\\Bible_Texts\\मत्तयकृत शुभवर्तमानMAT\\19_Matthew_____\\_19_Matthew_____MARDPIN1DA.mp3\n",
      "Text file path: C:\\Users\\TANAY\\anaconda3\\envs\\SIT\\Bible_Texts\\मत्तयकृत शुभवर्तमानMAT\\19_Matthew_____\\19.txt\n"
     ]
    },
    {
     "name": "stderr",
     "output_type": "stream",
     "text": [
      "C:\\Users\\TANAY\\AppData\\Local\\Temp\\ipykernel_7252\\407795470.py:47: FutureWarning: The frame.append method is deprecated and will be removed from pandas in a future version. Use pandas.concat instead.\n",
      "  df = df.append({\n"
     ]
    },
    {
     "name": "stdout",
     "output_type": "stream",
     "text": [
      "Appending data for folder: 19_Matthew_____\n",
      "Checking folder: C:\\Users\\TANAY\\anaconda3\\envs\\SIT\\Bible_Texts\\मत्तयकृत शुभवर्तमानMAT\\20_Matthew_____\n",
      "Audio file path: C:\\Users\\TANAY\\anaconda3\\envs\\SIT\\Bible_Texts\\मत्तयकृत शुभवर्तमानMAT\\20_Matthew_____\\_20_Matthew_____MARDPIN1DA.mp3\n",
      "Text file path: C:\\Users\\TANAY\\anaconda3\\envs\\SIT\\Bible_Texts\\मत्तयकृत शुभवर्तमानMAT\\20_Matthew_____\\20.txt\n"
     ]
    },
    {
     "name": "stderr",
     "output_type": "stream",
     "text": [
      "C:\\Users\\TANAY\\AppData\\Local\\Temp\\ipykernel_7252\\407795470.py:47: FutureWarning: The frame.append method is deprecated and will be removed from pandas in a future version. Use pandas.concat instead.\n",
      "  df = df.append({\n"
     ]
    },
    {
     "name": "stdout",
     "output_type": "stream",
     "text": [
      "Appending data for folder: 20_Matthew_____\n",
      "Checking folder: C:\\Users\\TANAY\\anaconda3\\envs\\SIT\\Bible_Texts\\मत्तयकृत शुभवर्तमानMAT\\21_Matthew_____\n",
      "Audio file path: C:\\Users\\TANAY\\anaconda3\\envs\\SIT\\Bible_Texts\\मत्तयकृत शुभवर्तमानMAT\\21_Matthew_____\\_21_Matthew_____MARDPIN1DA.mp3\n",
      "Text file path: C:\\Users\\TANAY\\anaconda3\\envs\\SIT\\Bible_Texts\\मत्तयकृत शुभवर्तमानMAT\\21_Matthew_____\\21.txt\n"
     ]
    },
    {
     "name": "stderr",
     "output_type": "stream",
     "text": [
      "C:\\Users\\TANAY\\AppData\\Local\\Temp\\ipykernel_7252\\407795470.py:47: FutureWarning: The frame.append method is deprecated and will be removed from pandas in a future version. Use pandas.concat instead.\n",
      "  df = df.append({\n"
     ]
    },
    {
     "name": "stdout",
     "output_type": "stream",
     "text": [
      "Appending data for folder: 21_Matthew_____\n",
      "Checking folder: C:\\Users\\TANAY\\anaconda3\\envs\\SIT\\Bible_Texts\\मत्तयकृत शुभवर्तमानMAT\\22_Matthew_____\n",
      "Audio file path: C:\\Users\\TANAY\\anaconda3\\envs\\SIT\\Bible_Texts\\मत्तयकृत शुभवर्तमानMAT\\22_Matthew_____\\_22_Matthew_____MARDPIN1DA.mp3\n",
      "Text file path: C:\\Users\\TANAY\\anaconda3\\envs\\SIT\\Bible_Texts\\मत्तयकृत शुभवर्तमानMAT\\22_Matthew_____\\22.txt\n"
     ]
    },
    {
     "name": "stderr",
     "output_type": "stream",
     "text": [
      "C:\\Users\\TANAY\\AppData\\Local\\Temp\\ipykernel_7252\\407795470.py:47: FutureWarning: The frame.append method is deprecated and will be removed from pandas in a future version. Use pandas.concat instead.\n",
      "  df = df.append({\n"
     ]
    },
    {
     "name": "stdout",
     "output_type": "stream",
     "text": [
      "Appending data for folder: 22_Matthew_____\n",
      "Checking folder: C:\\Users\\TANAY\\anaconda3\\envs\\SIT\\Bible_Texts\\मत्तयकृत शुभवर्तमानMAT\\23_Matthew_____\n",
      "Audio file path: C:\\Users\\TANAY\\anaconda3\\envs\\SIT\\Bible_Texts\\मत्तयकृत शुभवर्तमानMAT\\23_Matthew_____\\_23_Matthew_____MARDPIN1DA.mp3\n",
      "Text file path: C:\\Users\\TANAY\\anaconda3\\envs\\SIT\\Bible_Texts\\मत्तयकृत शुभवर्तमानMAT\\23_Matthew_____\\23.txt\n"
     ]
    },
    {
     "name": "stderr",
     "output_type": "stream",
     "text": [
      "C:\\Users\\TANAY\\AppData\\Local\\Temp\\ipykernel_7252\\407795470.py:47: FutureWarning: The frame.append method is deprecated and will be removed from pandas in a future version. Use pandas.concat instead.\n",
      "  df = df.append({\n"
     ]
    },
    {
     "name": "stdout",
     "output_type": "stream",
     "text": [
      "Appending data for folder: 23_Matthew_____\n",
      "Checking folder: C:\\Users\\TANAY\\anaconda3\\envs\\SIT\\Bible_Texts\\मत्तयकृत शुभवर्तमानMAT\\24_Matthew_____\n",
      "Audio file path: C:\\Users\\TANAY\\anaconda3\\envs\\SIT\\Bible_Texts\\मत्तयकृत शुभवर्तमानMAT\\24_Matthew_____\\_24_Matthew_____MARDPIN1DA.mp3\n",
      "Text file path: C:\\Users\\TANAY\\anaconda3\\envs\\SIT\\Bible_Texts\\मत्तयकृत शुभवर्तमानMAT\\24_Matthew_____\\24.txt\n"
     ]
    },
    {
     "name": "stderr",
     "output_type": "stream",
     "text": [
      "C:\\Users\\TANAY\\AppData\\Local\\Temp\\ipykernel_7252\\407795470.py:47: FutureWarning: The frame.append method is deprecated and will be removed from pandas in a future version. Use pandas.concat instead.\n",
      "  df = df.append({\n"
     ]
    },
    {
     "name": "stdout",
     "output_type": "stream",
     "text": [
      "Appending data for folder: 24_Matthew_____\n",
      "Checking folder: C:\\Users\\TANAY\\anaconda3\\envs\\SIT\\Bible_Texts\\मत्तयकृत शुभवर्तमानMAT\\25_Matthew_____\n",
      "Audio file path: C:\\Users\\TANAY\\anaconda3\\envs\\SIT\\Bible_Texts\\मत्तयकृत शुभवर्तमानMAT\\25_Matthew_____\\_25_Matthew_____MARDPIN1DA.mp3\n",
      "Text file path: C:\\Users\\TANAY\\anaconda3\\envs\\SIT\\Bible_Texts\\मत्तयकृत शुभवर्तमानMAT\\25_Matthew_____\\25.txt\n"
     ]
    },
    {
     "name": "stderr",
     "output_type": "stream",
     "text": [
      "C:\\Users\\TANAY\\AppData\\Local\\Temp\\ipykernel_7252\\407795470.py:47: FutureWarning: The frame.append method is deprecated and will be removed from pandas in a future version. Use pandas.concat instead.\n",
      "  df = df.append({\n"
     ]
    },
    {
     "name": "stdout",
     "output_type": "stream",
     "text": [
      "Appending data for folder: 25_Matthew_____\n",
      "Checking folder: C:\\Users\\TANAY\\anaconda3\\envs\\SIT\\Bible_Texts\\मत्तयकृत शुभवर्तमानMAT\\26_Matthew_____\n",
      "Audio file path: C:\\Users\\TANAY\\anaconda3\\envs\\SIT\\Bible_Texts\\मत्तयकृत शुभवर्तमानMAT\\26_Matthew_____\\_26_Matthew_____MARDPIN1DA.mp3\n",
      "Text file path: C:\\Users\\TANAY\\anaconda3\\envs\\SIT\\Bible_Texts\\मत्तयकृत शुभवर्तमानMAT\\26_Matthew_____\\26.txt\n"
     ]
    },
    {
     "name": "stderr",
     "output_type": "stream",
     "text": [
      "C:\\Users\\TANAY\\AppData\\Local\\Temp\\ipykernel_7252\\407795470.py:47: FutureWarning: The frame.append method is deprecated and will be removed from pandas in a future version. Use pandas.concat instead.\n",
      "  df = df.append({\n"
     ]
    },
    {
     "name": "stdout",
     "output_type": "stream",
     "text": [
      "Appending data for folder: 26_Matthew_____\n",
      "Checking folder: C:\\Users\\TANAY\\anaconda3\\envs\\SIT\\Bible_Texts\\मत्तयकृत शुभवर्तमानMAT\\27_Matthew_____\n",
      "Audio file path: C:\\Users\\TANAY\\anaconda3\\envs\\SIT\\Bible_Texts\\मत्तयकृत शुभवर्तमानMAT\\27_Matthew_____\\_27_Matthew_____MARDPIN1DA.mp3\n",
      "Text file path: C:\\Users\\TANAY\\anaconda3\\envs\\SIT\\Bible_Texts\\मत्तयकृत शुभवर्तमानMAT\\27_Matthew_____\\27.txt\n"
     ]
    },
    {
     "name": "stderr",
     "output_type": "stream",
     "text": [
      "C:\\Users\\TANAY\\AppData\\Local\\Temp\\ipykernel_7252\\407795470.py:47: FutureWarning: The frame.append method is deprecated and will be removed from pandas in a future version. Use pandas.concat instead.\n",
      "  df = df.append({\n"
     ]
    },
    {
     "name": "stdout",
     "output_type": "stream",
     "text": [
      "Appending data for folder: 27_Matthew_____\n",
      "Checking folder: C:\\Users\\TANAY\\anaconda3\\envs\\SIT\\Bible_Texts\\मत्तयकृत शुभवर्तमानMAT\\28_Matthew_____\n",
      "Audio file path: C:\\Users\\TANAY\\anaconda3\\envs\\SIT\\Bible_Texts\\मत्तयकृत शुभवर्तमानMAT\\28_Matthew_____\\_28_Matthew_____MARDPIN1DA.mp3\n",
      "Text file path: C:\\Users\\TANAY\\anaconda3\\envs\\SIT\\Bible_Texts\\मत्तयकृत शुभवर्तमानMAT\\28_Matthew_____\\28.txt\n"
     ]
    },
    {
     "name": "stderr",
     "output_type": "stream",
     "text": [
      "C:\\Users\\TANAY\\AppData\\Local\\Temp\\ipykernel_7252\\407795470.py:47: FutureWarning: The frame.append method is deprecated and will be removed from pandas in a future version. Use pandas.concat instead.\n",
      "  df = df.append({\n"
     ]
    },
    {
     "name": "stdout",
     "output_type": "stream",
     "text": [
      "Appending data for folder: 28_Matthew_____\n",
      "Checking folder: C:\\Users\\TANAY\\anaconda3\\envs\\SIT\\Bible_Texts\\मार्ककृत शुभवर्तमानMRK\\01_Mark________\n",
      "Audio file path: C:\\Users\\TANAY\\anaconda3\\envs\\SIT\\Bible_Texts\\मार्ककृत शुभवर्तमानMRK\\01_Mark________\\_01_Mark________MARDPIN1DA.mp3\n",
      "Text file path: C:\\Users\\TANAY\\anaconda3\\envs\\SIT\\Bible_Texts\\मार्ककृत शुभवर्तमानMRK\\01_Mark________\\1.txt\n"
     ]
    },
    {
     "name": "stderr",
     "output_type": "stream",
     "text": [
      "C:\\Users\\TANAY\\AppData\\Local\\Temp\\ipykernel_7252\\407795470.py:47: FutureWarning: The frame.append method is deprecated and will be removed from pandas in a future version. Use pandas.concat instead.\n",
      "  df = df.append({\n"
     ]
    },
    {
     "name": "stdout",
     "output_type": "stream",
     "text": [
      "Appending data for folder: 01_Mark________\n",
      "Checking folder: C:\\Users\\TANAY\\anaconda3\\envs\\SIT\\Bible_Texts\\मार्ककृत शुभवर्तमानMRK\\02_Mark________\n",
      "Audio file path: C:\\Users\\TANAY\\anaconda3\\envs\\SIT\\Bible_Texts\\मार्ककृत शुभवर्तमानMRK\\02_Mark________\\_02_Mark________MARDPIN1DA.mp3\n",
      "Text file path: C:\\Users\\TANAY\\anaconda3\\envs\\SIT\\Bible_Texts\\मार्ककृत शुभवर्तमानMRK\\02_Mark________\\2.txt\n"
     ]
    },
    {
     "name": "stderr",
     "output_type": "stream",
     "text": [
      "C:\\Users\\TANAY\\AppData\\Local\\Temp\\ipykernel_7252\\407795470.py:47: FutureWarning: The frame.append method is deprecated and will be removed from pandas in a future version. Use pandas.concat instead.\n",
      "  df = df.append({\n"
     ]
    },
    {
     "name": "stdout",
     "output_type": "stream",
     "text": [
      "Appending data for folder: 02_Mark________\n",
      "Checking folder: C:\\Users\\TANAY\\anaconda3\\envs\\SIT\\Bible_Texts\\मार्ककृत शुभवर्तमानMRK\\03_Mark________\n",
      "Audio file path: C:\\Users\\TANAY\\anaconda3\\envs\\SIT\\Bible_Texts\\मार्ककृत शुभवर्तमानMRK\\03_Mark________\\_03_Mark________MARDPIN1DA.mp3\n",
      "Text file path: C:\\Users\\TANAY\\anaconda3\\envs\\SIT\\Bible_Texts\\मार्ककृत शुभवर्तमानMRK\\03_Mark________\\3.txt\n"
     ]
    },
    {
     "name": "stderr",
     "output_type": "stream",
     "text": [
      "C:\\Users\\TANAY\\AppData\\Local\\Temp\\ipykernel_7252\\407795470.py:47: FutureWarning: The frame.append method is deprecated and will be removed from pandas in a future version. Use pandas.concat instead.\n",
      "  df = df.append({\n"
     ]
    },
    {
     "name": "stdout",
     "output_type": "stream",
     "text": [
      "Appending data for folder: 03_Mark________\n",
      "Checking folder: C:\\Users\\TANAY\\anaconda3\\envs\\SIT\\Bible_Texts\\मार्ककृत शुभवर्तमानMRK\\04_Mark________\n",
      "Audio file path: C:\\Users\\TANAY\\anaconda3\\envs\\SIT\\Bible_Texts\\मार्ककृत शुभवर्तमानMRK\\04_Mark________\\_04_Mark________MARDPIN1DA.mp3\n",
      "Text file path: C:\\Users\\TANAY\\anaconda3\\envs\\SIT\\Bible_Texts\\मार्ककृत शुभवर्तमानMRK\\04_Mark________\\4.txt\n"
     ]
    },
    {
     "name": "stderr",
     "output_type": "stream",
     "text": [
      "C:\\Users\\TANAY\\AppData\\Local\\Temp\\ipykernel_7252\\407795470.py:47: FutureWarning: The frame.append method is deprecated and will be removed from pandas in a future version. Use pandas.concat instead.\n",
      "  df = df.append({\n"
     ]
    },
    {
     "name": "stdout",
     "output_type": "stream",
     "text": [
      "Appending data for folder: 04_Mark________\n",
      "Checking folder: C:\\Users\\TANAY\\anaconda3\\envs\\SIT\\Bible_Texts\\मार्ककृत शुभवर्तमानMRK\\05_Mark________\n",
      "Audio file path: C:\\Users\\TANAY\\anaconda3\\envs\\SIT\\Bible_Texts\\मार्ककृत शुभवर्तमानMRK\\05_Mark________\\_05_Mark________MARDPIN1DA.mp3\n",
      "Text file path: C:\\Users\\TANAY\\anaconda3\\envs\\SIT\\Bible_Texts\\मार्ककृत शुभवर्तमानMRK\\05_Mark________\\5.txt\n"
     ]
    },
    {
     "name": "stderr",
     "output_type": "stream",
     "text": [
      "C:\\Users\\TANAY\\AppData\\Local\\Temp\\ipykernel_7252\\407795470.py:47: FutureWarning: The frame.append method is deprecated and will be removed from pandas in a future version. Use pandas.concat instead.\n",
      "  df = df.append({\n"
     ]
    },
    {
     "name": "stdout",
     "output_type": "stream",
     "text": [
      "Appending data for folder: 05_Mark________\n",
      "Checking folder: C:\\Users\\TANAY\\anaconda3\\envs\\SIT\\Bible_Texts\\मार्ककृत शुभवर्तमानMRK\\06_Mark________\n",
      "Audio file path: C:\\Users\\TANAY\\anaconda3\\envs\\SIT\\Bible_Texts\\मार्ककृत शुभवर्तमानMRK\\06_Mark________\\_06_Mark________MARDPIN1DA.mp3\n",
      "Text file path: C:\\Users\\TANAY\\anaconda3\\envs\\SIT\\Bible_Texts\\मार्ककृत शुभवर्तमानMRK\\06_Mark________\\6.txt\n"
     ]
    },
    {
     "name": "stderr",
     "output_type": "stream",
     "text": [
      "C:\\Users\\TANAY\\AppData\\Local\\Temp\\ipykernel_7252\\407795470.py:47: FutureWarning: The frame.append method is deprecated and will be removed from pandas in a future version. Use pandas.concat instead.\n",
      "  df = df.append({\n"
     ]
    },
    {
     "name": "stdout",
     "output_type": "stream",
     "text": [
      "Appending data for folder: 06_Mark________\n",
      "Checking folder: C:\\Users\\TANAY\\anaconda3\\envs\\SIT\\Bible_Texts\\मार्ककृत शुभवर्तमानMRK\\07_Mark________\n",
      "Audio file path: C:\\Users\\TANAY\\anaconda3\\envs\\SIT\\Bible_Texts\\मार्ककृत शुभवर्तमानMRK\\07_Mark________\\_07_Mark________MARDPIN1DA.mp3\n",
      "Text file path: C:\\Users\\TANAY\\anaconda3\\envs\\SIT\\Bible_Texts\\मार्ककृत शुभवर्तमानMRK\\07_Mark________\\7.txt\n"
     ]
    },
    {
     "name": "stderr",
     "output_type": "stream",
     "text": [
      "C:\\Users\\TANAY\\AppData\\Local\\Temp\\ipykernel_7252\\407795470.py:47: FutureWarning: The frame.append method is deprecated and will be removed from pandas in a future version. Use pandas.concat instead.\n",
      "  df = df.append({\n"
     ]
    },
    {
     "name": "stdout",
     "output_type": "stream",
     "text": [
      "Appending data for folder: 07_Mark________\n",
      "Checking folder: C:\\Users\\TANAY\\anaconda3\\envs\\SIT\\Bible_Texts\\मार्ककृत शुभवर्तमानMRK\\08_Mark________\n",
      "Audio file path: C:\\Users\\TANAY\\anaconda3\\envs\\SIT\\Bible_Texts\\मार्ककृत शुभवर्तमानMRK\\08_Mark________\\_08_Mark________MARDPIN1DA.mp3\n",
      "Text file path: C:\\Users\\TANAY\\anaconda3\\envs\\SIT\\Bible_Texts\\मार्ककृत शुभवर्तमानMRK\\08_Mark________\\8.txt\n"
     ]
    },
    {
     "name": "stderr",
     "output_type": "stream",
     "text": [
      "C:\\Users\\TANAY\\AppData\\Local\\Temp\\ipykernel_7252\\407795470.py:47: FutureWarning: The frame.append method is deprecated and will be removed from pandas in a future version. Use pandas.concat instead.\n",
      "  df = df.append({\n"
     ]
    },
    {
     "name": "stdout",
     "output_type": "stream",
     "text": [
      "Appending data for folder: 08_Mark________\n",
      "Checking folder: C:\\Users\\TANAY\\anaconda3\\envs\\SIT\\Bible_Texts\\मार्ककृत शुभवर्तमानMRK\\09_Mark________\n",
      "Audio file path: C:\\Users\\TANAY\\anaconda3\\envs\\SIT\\Bible_Texts\\मार्ककृत शुभवर्तमानMRK\\09_Mark________\\_09_Mark________MARDPIN1DA.mp3\n",
      "Text file path: C:\\Users\\TANAY\\anaconda3\\envs\\SIT\\Bible_Texts\\मार्ककृत शुभवर्तमानMRK\\09_Mark________\\9.txt\n"
     ]
    },
    {
     "name": "stderr",
     "output_type": "stream",
     "text": [
      "C:\\Users\\TANAY\\AppData\\Local\\Temp\\ipykernel_7252\\407795470.py:47: FutureWarning: The frame.append method is deprecated and will be removed from pandas in a future version. Use pandas.concat instead.\n",
      "  df = df.append({\n"
     ]
    },
    {
     "name": "stdout",
     "output_type": "stream",
     "text": [
      "Appending data for folder: 09_Mark________\n",
      "Checking folder: C:\\Users\\TANAY\\anaconda3\\envs\\SIT\\Bible_Texts\\मार्ककृत शुभवर्तमानMRK\\10_Mark________\n",
      "Audio file path: C:\\Users\\TANAY\\anaconda3\\envs\\SIT\\Bible_Texts\\मार्ककृत शुभवर्तमानMRK\\10_Mark________\\_10_Mark________MARDPIN1DA.mp3\n",
      "Text file path: C:\\Users\\TANAY\\anaconda3\\envs\\SIT\\Bible_Texts\\मार्ककृत शुभवर्तमानMRK\\10_Mark________\\10.txt\n"
     ]
    },
    {
     "name": "stderr",
     "output_type": "stream",
     "text": [
      "C:\\Users\\TANAY\\AppData\\Local\\Temp\\ipykernel_7252\\407795470.py:47: FutureWarning: The frame.append method is deprecated and will be removed from pandas in a future version. Use pandas.concat instead.\n",
      "  df = df.append({\n"
     ]
    },
    {
     "name": "stdout",
     "output_type": "stream",
     "text": [
      "Appending data for folder: 10_Mark________\n",
      "Checking folder: C:\\Users\\TANAY\\anaconda3\\envs\\SIT\\Bible_Texts\\मार्ककृत शुभवर्तमानMRK\\11_Mark________\n",
      "Audio file path: C:\\Users\\TANAY\\anaconda3\\envs\\SIT\\Bible_Texts\\मार्ककृत शुभवर्तमानMRK\\11_Mark________\\_11_Mark________MARDPIN1DA.mp3\n",
      "Text file path: C:\\Users\\TANAY\\anaconda3\\envs\\SIT\\Bible_Texts\\मार्ककृत शुभवर्तमानMRK\\11_Mark________\\11.txt\n"
     ]
    },
    {
     "name": "stderr",
     "output_type": "stream",
     "text": [
      "C:\\Users\\TANAY\\AppData\\Local\\Temp\\ipykernel_7252\\407795470.py:47: FutureWarning: The frame.append method is deprecated and will be removed from pandas in a future version. Use pandas.concat instead.\n",
      "  df = df.append({\n"
     ]
    },
    {
     "name": "stdout",
     "output_type": "stream",
     "text": [
      "Appending data for folder: 11_Mark________\n",
      "Checking folder: C:\\Users\\TANAY\\anaconda3\\envs\\SIT\\Bible_Texts\\मार्ककृत शुभवर्तमानMRK\\12_Mark________\n",
      "Audio file path: C:\\Users\\TANAY\\anaconda3\\envs\\SIT\\Bible_Texts\\मार्ककृत शुभवर्तमानMRK\\12_Mark________\\_12_Mark________MARDPIN1DA.mp3\n",
      "Text file path: C:\\Users\\TANAY\\anaconda3\\envs\\SIT\\Bible_Texts\\मार्ककृत शुभवर्तमानMRK\\12_Mark________\\12.txt\n"
     ]
    },
    {
     "name": "stderr",
     "output_type": "stream",
     "text": [
      "C:\\Users\\TANAY\\AppData\\Local\\Temp\\ipykernel_7252\\407795470.py:47: FutureWarning: The frame.append method is deprecated and will be removed from pandas in a future version. Use pandas.concat instead.\n",
      "  df = df.append({\n"
     ]
    },
    {
     "name": "stdout",
     "output_type": "stream",
     "text": [
      "Appending data for folder: 12_Mark________\n",
      "Checking folder: C:\\Users\\TANAY\\anaconda3\\envs\\SIT\\Bible_Texts\\मार्ककृत शुभवर्तमानMRK\\13_Mark________\n",
      "Audio file path: C:\\Users\\TANAY\\anaconda3\\envs\\SIT\\Bible_Texts\\मार्ककृत शुभवर्तमानMRK\\13_Mark________\\_13_Mark________MARDPIN1DA.mp3\n",
      "Text file path: C:\\Users\\TANAY\\anaconda3\\envs\\SIT\\Bible_Texts\\मार्ककृत शुभवर्तमानMRK\\13_Mark________\\13.txt\n"
     ]
    },
    {
     "name": "stderr",
     "output_type": "stream",
     "text": [
      "C:\\Users\\TANAY\\AppData\\Local\\Temp\\ipykernel_7252\\407795470.py:47: FutureWarning: The frame.append method is deprecated and will be removed from pandas in a future version. Use pandas.concat instead.\n",
      "  df = df.append({\n"
     ]
    },
    {
     "name": "stdout",
     "output_type": "stream",
     "text": [
      "Appending data for folder: 13_Mark________\n",
      "Checking folder: C:\\Users\\TANAY\\anaconda3\\envs\\SIT\\Bible_Texts\\मार्ककृत शुभवर्तमानMRK\\14_Mark________\n",
      "Audio file path: C:\\Users\\TANAY\\anaconda3\\envs\\SIT\\Bible_Texts\\मार्ककृत शुभवर्तमानMRK\\14_Mark________\\_14_Mark________MARDPIN1DA.mp3\n",
      "Text file path: C:\\Users\\TANAY\\anaconda3\\envs\\SIT\\Bible_Texts\\मार्ककृत शुभवर्तमानMRK\\14_Mark________\\14.txt\n"
     ]
    },
    {
     "name": "stderr",
     "output_type": "stream",
     "text": [
      "C:\\Users\\TANAY\\AppData\\Local\\Temp\\ipykernel_7252\\407795470.py:47: FutureWarning: The frame.append method is deprecated and will be removed from pandas in a future version. Use pandas.concat instead.\n",
      "  df = df.append({\n"
     ]
    },
    {
     "name": "stdout",
     "output_type": "stream",
     "text": [
      "Appending data for folder: 14_Mark________\n",
      "Checking folder: C:\\Users\\TANAY\\anaconda3\\envs\\SIT\\Bible_Texts\\मार्ककृत शुभवर्तमानMRK\\15_Mark________\n",
      "Audio file path: C:\\Users\\TANAY\\anaconda3\\envs\\SIT\\Bible_Texts\\मार्ककृत शुभवर्तमानMRK\\15_Mark________\\_15_Mark________MARDPIN1DA.mp3\n",
      "Text file path: C:\\Users\\TANAY\\anaconda3\\envs\\SIT\\Bible_Texts\\मार्ककृत शुभवर्तमानMRK\\15_Mark________\\15.txt\n"
     ]
    },
    {
     "name": "stderr",
     "output_type": "stream",
     "text": [
      "C:\\Users\\TANAY\\AppData\\Local\\Temp\\ipykernel_7252\\407795470.py:47: FutureWarning: The frame.append method is deprecated and will be removed from pandas in a future version. Use pandas.concat instead.\n",
      "  df = df.append({\n"
     ]
    },
    {
     "name": "stdout",
     "output_type": "stream",
     "text": [
      "Appending data for folder: 15_Mark________\n",
      "Checking folder: C:\\Users\\TANAY\\anaconda3\\envs\\SIT\\Bible_Texts\\मार्ककृत शुभवर्तमानMRK\\16_Mark________\n",
      "Audio file path: C:\\Users\\TANAY\\anaconda3\\envs\\SIT\\Bible_Texts\\मार्ककृत शुभवर्तमानMRK\\16_Mark________\\_16_Mark________MARDPIN1DA.mp3\n",
      "Text file path: C:\\Users\\TANAY\\anaconda3\\envs\\SIT\\Bible_Texts\\मार्ककृत शुभवर्तमानMRK\\16_Mark________\\16.txt\n"
     ]
    },
    {
     "name": "stderr",
     "output_type": "stream",
     "text": [
      "C:\\Users\\TANAY\\AppData\\Local\\Temp\\ipykernel_7252\\407795470.py:47: FutureWarning: The frame.append method is deprecated and will be removed from pandas in a future version. Use pandas.concat instead.\n",
      "  df = df.append({\n"
     ]
    },
    {
     "name": "stdout",
     "output_type": "stream",
     "text": [
      "Appending data for folder: 16_Mark________\n",
      "Checking folder: C:\\Users\\TANAY\\anaconda3\\envs\\SIT\\Bible_Texts\\यहूदाचे पत्रJUD\\01_Jude________\n",
      "Audio file path: C:\\Users\\TANAY\\anaconda3\\envs\\SIT\\Bible_Texts\\यहूदाचे पत्रJUD\\01_Jude________\\_01_Jude________MARDPIN1DA.mp3\n",
      "Text file path: C:\\Users\\TANAY\\anaconda3\\envs\\SIT\\Bible_Texts\\यहूदाचे पत्रJUD\\01_Jude________\\1.txt\n"
     ]
    },
    {
     "name": "stderr",
     "output_type": "stream",
     "text": [
      "C:\\Users\\TANAY\\AppData\\Local\\Temp\\ipykernel_7252\\407795470.py:47: FutureWarning: The frame.append method is deprecated and will be removed from pandas in a future version. Use pandas.concat instead.\n",
      "  df = df.append({\n"
     ]
    },
    {
     "name": "stdout",
     "output_type": "stream",
     "text": [
      "Appending data for folder: 01_Jude________\n",
      "Checking folder: C:\\Users\\TANAY\\anaconda3\\envs\\SIT\\Bible_Texts\\याकोबाचे पत्रJAS\\01_James_______\n",
      "Audio file path: C:\\Users\\TANAY\\anaconda3\\envs\\SIT\\Bible_Texts\\याकोबाचे पत्रJAS\\01_James_______\\_01_James_______MARDPIN1DA.mp3\n",
      "Text file path: C:\\Users\\TANAY\\anaconda3\\envs\\SIT\\Bible_Texts\\याकोबाचे पत्रJAS\\01_James_______\\1.txt\n"
     ]
    },
    {
     "name": "stderr",
     "output_type": "stream",
     "text": [
      "C:\\Users\\TANAY\\AppData\\Local\\Temp\\ipykernel_7252\\407795470.py:47: FutureWarning: The frame.append method is deprecated and will be removed from pandas in a future version. Use pandas.concat instead.\n",
      "  df = df.append({\n"
     ]
    },
    {
     "name": "stdout",
     "output_type": "stream",
     "text": [
      "Appending data for folder: 01_James_______\n",
      "Checking folder: C:\\Users\\TANAY\\anaconda3\\envs\\SIT\\Bible_Texts\\याकोबाचे पत्रJAS\\02_James_______\n",
      "Audio file path: C:\\Users\\TANAY\\anaconda3\\envs\\SIT\\Bible_Texts\\याकोबाचे पत्रJAS\\02_James_______\\_02_James_______MARDPIN1DA.mp3\n",
      "Text file path: C:\\Users\\TANAY\\anaconda3\\envs\\SIT\\Bible_Texts\\याकोबाचे पत्रJAS\\02_James_______\\2.txt\n"
     ]
    },
    {
     "name": "stderr",
     "output_type": "stream",
     "text": [
      "C:\\Users\\TANAY\\AppData\\Local\\Temp\\ipykernel_7252\\407795470.py:47: FutureWarning: The frame.append method is deprecated and will be removed from pandas in a future version. Use pandas.concat instead.\n",
      "  df = df.append({\n"
     ]
    },
    {
     "name": "stdout",
     "output_type": "stream",
     "text": [
      "Appending data for folder: 02_James_______\n",
      "Checking folder: C:\\Users\\TANAY\\anaconda3\\envs\\SIT\\Bible_Texts\\याकोबाचे पत्रJAS\\03_James_______\n",
      "Audio file path: C:\\Users\\TANAY\\anaconda3\\envs\\SIT\\Bible_Texts\\याकोबाचे पत्रJAS\\03_James_______\\_03_James_______MARDPIN1DA.mp3\n",
      "Text file path: C:\\Users\\TANAY\\anaconda3\\envs\\SIT\\Bible_Texts\\याकोबाचे पत्रJAS\\03_James_______\\3.txt\n"
     ]
    },
    {
     "name": "stderr",
     "output_type": "stream",
     "text": [
      "C:\\Users\\TANAY\\AppData\\Local\\Temp\\ipykernel_7252\\407795470.py:47: FutureWarning: The frame.append method is deprecated and will be removed from pandas in a future version. Use pandas.concat instead.\n",
      "  df = df.append({\n"
     ]
    },
    {
     "name": "stdout",
     "output_type": "stream",
     "text": [
      "Appending data for folder: 03_James_______\n",
      "Checking folder: C:\\Users\\TANAY\\anaconda3\\envs\\SIT\\Bible_Texts\\याकोबाचे पत्रJAS\\04_James_______\n",
      "Audio file path: C:\\Users\\TANAY\\anaconda3\\envs\\SIT\\Bible_Texts\\याकोबाचे पत्रJAS\\04_James_______\\_04_James_______MARDPIN1DA.mp3\n",
      "Text file path: C:\\Users\\TANAY\\anaconda3\\envs\\SIT\\Bible_Texts\\याकोबाचे पत्रJAS\\04_James_______\\4.txt\n"
     ]
    },
    {
     "name": "stderr",
     "output_type": "stream",
     "text": [
      "C:\\Users\\TANAY\\AppData\\Local\\Temp\\ipykernel_7252\\407795470.py:47: FutureWarning: The frame.append method is deprecated and will be removed from pandas in a future version. Use pandas.concat instead.\n",
      "  df = df.append({\n"
     ]
    },
    {
     "name": "stdout",
     "output_type": "stream",
     "text": [
      "Appending data for folder: 04_James_______\n",
      "Checking folder: C:\\Users\\TANAY\\anaconda3\\envs\\SIT\\Bible_Texts\\याकोबाचे पत्रJAS\\05_James_______\n",
      "Audio file path: C:\\Users\\TANAY\\anaconda3\\envs\\SIT\\Bible_Texts\\याकोबाचे पत्रJAS\\05_James_______\\_05_James_______MARDPIN1DA.mp3\n",
      "Text file path: C:\\Users\\TANAY\\anaconda3\\envs\\SIT\\Bible_Texts\\याकोबाचे पत्रJAS\\05_James_______\\5.txt\n"
     ]
    },
    {
     "name": "stderr",
     "output_type": "stream",
     "text": [
      "C:\\Users\\TANAY\\AppData\\Local\\Temp\\ipykernel_7252\\407795470.py:47: FutureWarning: The frame.append method is deprecated and will be removed from pandas in a future version. Use pandas.concat instead.\n",
      "  df = df.append({\n"
     ]
    },
    {
     "name": "stdout",
     "output_type": "stream",
     "text": [
      "Appending data for folder: 05_James_______\n",
      "Checking folder: C:\\Users\\TANAY\\anaconda3\\envs\\SIT\\Bible_Texts\\योहानकृत शुभवर्तमानJHN\\01_John________\n",
      "Audio file path: C:\\Users\\TANAY\\anaconda3\\envs\\SIT\\Bible_Texts\\योहानकृत शुभवर्तमानJHN\\01_John________\\_01_John________MARDPIN1DA.mp3\n",
      "Text file path: C:\\Users\\TANAY\\anaconda3\\envs\\SIT\\Bible_Texts\\योहानकृत शुभवर्तमानJHN\\01_John________\\1.txt\n"
     ]
    },
    {
     "name": "stderr",
     "output_type": "stream",
     "text": [
      "C:\\Users\\TANAY\\AppData\\Local\\Temp\\ipykernel_7252\\407795470.py:47: FutureWarning: The frame.append method is deprecated and will be removed from pandas in a future version. Use pandas.concat instead.\n",
      "  df = df.append({\n"
     ]
    },
    {
     "name": "stdout",
     "output_type": "stream",
     "text": [
      "Appending data for folder: 01_John________\n",
      "Checking folder: C:\\Users\\TANAY\\anaconda3\\envs\\SIT\\Bible_Texts\\योहानकृत शुभवर्तमानJHN\\02_John________\n",
      "Audio file path: C:\\Users\\TANAY\\anaconda3\\envs\\SIT\\Bible_Texts\\योहानकृत शुभवर्तमानJHN\\02_John________\\_02_John________MARDPIN1DA.mp3\n",
      "Text file path: C:\\Users\\TANAY\\anaconda3\\envs\\SIT\\Bible_Texts\\योहानकृत शुभवर्तमानJHN\\02_John________\\2.txt\n"
     ]
    },
    {
     "name": "stderr",
     "output_type": "stream",
     "text": [
      "C:\\Users\\TANAY\\AppData\\Local\\Temp\\ipykernel_7252\\407795470.py:47: FutureWarning: The frame.append method is deprecated and will be removed from pandas in a future version. Use pandas.concat instead.\n",
      "  df = df.append({\n"
     ]
    },
    {
     "name": "stdout",
     "output_type": "stream",
     "text": [
      "Appending data for folder: 02_John________\n",
      "Checking folder: C:\\Users\\TANAY\\anaconda3\\envs\\SIT\\Bible_Texts\\योहानकृत शुभवर्तमानJHN\\03_John________\n",
      "Audio file path: C:\\Users\\TANAY\\anaconda3\\envs\\SIT\\Bible_Texts\\योहानकृत शुभवर्तमानJHN\\03_John________\\_03_John________MARDPIN1DA.mp3\n",
      "Text file path: C:\\Users\\TANAY\\anaconda3\\envs\\SIT\\Bible_Texts\\योहानकृत शुभवर्तमानJHN\\03_John________\\3.txt\n"
     ]
    },
    {
     "name": "stderr",
     "output_type": "stream",
     "text": [
      "C:\\Users\\TANAY\\AppData\\Local\\Temp\\ipykernel_7252\\407795470.py:47: FutureWarning: The frame.append method is deprecated and will be removed from pandas in a future version. Use pandas.concat instead.\n",
      "  df = df.append({\n"
     ]
    },
    {
     "name": "stdout",
     "output_type": "stream",
     "text": [
      "Appending data for folder: 03_John________\n",
      "Checking folder: C:\\Users\\TANAY\\anaconda3\\envs\\SIT\\Bible_Texts\\योहानकृत शुभवर्तमानJHN\\04_John________\n",
      "Audio file path: C:\\Users\\TANAY\\anaconda3\\envs\\SIT\\Bible_Texts\\योहानकृत शुभवर्तमानJHN\\04_John________\\_04_John________MARDPIN1DA.mp3\n",
      "Text file path: C:\\Users\\TANAY\\anaconda3\\envs\\SIT\\Bible_Texts\\योहानकृत शुभवर्तमानJHN\\04_John________\\4.txt\n"
     ]
    },
    {
     "name": "stderr",
     "output_type": "stream",
     "text": [
      "C:\\Users\\TANAY\\AppData\\Local\\Temp\\ipykernel_7252\\407795470.py:47: FutureWarning: The frame.append method is deprecated and will be removed from pandas in a future version. Use pandas.concat instead.\n",
      "  df = df.append({\n"
     ]
    },
    {
     "name": "stdout",
     "output_type": "stream",
     "text": [
      "Appending data for folder: 04_John________\n",
      "Checking folder: C:\\Users\\TANAY\\anaconda3\\envs\\SIT\\Bible_Texts\\योहानकृत शुभवर्तमानJHN\\05_John________\n",
      "Audio file path: C:\\Users\\TANAY\\anaconda3\\envs\\SIT\\Bible_Texts\\योहानकृत शुभवर्तमानJHN\\05_John________\\_05_John________MARDPIN1DA.mp3\n",
      "Text file path: C:\\Users\\TANAY\\anaconda3\\envs\\SIT\\Bible_Texts\\योहानकृत शुभवर्तमानJHN\\05_John________\\5.txt\n"
     ]
    },
    {
     "name": "stderr",
     "output_type": "stream",
     "text": [
      "C:\\Users\\TANAY\\AppData\\Local\\Temp\\ipykernel_7252\\407795470.py:47: FutureWarning: The frame.append method is deprecated and will be removed from pandas in a future version. Use pandas.concat instead.\n",
      "  df = df.append({\n"
     ]
    },
    {
     "name": "stdout",
     "output_type": "stream",
     "text": [
      "Appending data for folder: 05_John________\n",
      "Checking folder: C:\\Users\\TANAY\\anaconda3\\envs\\SIT\\Bible_Texts\\योहानकृत शुभवर्तमानJHN\\06_John________\n",
      "Audio file path: C:\\Users\\TANAY\\anaconda3\\envs\\SIT\\Bible_Texts\\योहानकृत शुभवर्तमानJHN\\06_John________\\_06_John________MARDPIN1DA.mp3\n",
      "Text file path: C:\\Users\\TANAY\\anaconda3\\envs\\SIT\\Bible_Texts\\योहानकृत शुभवर्तमानJHN\\06_John________\\6.txt\n"
     ]
    },
    {
     "name": "stderr",
     "output_type": "stream",
     "text": [
      "C:\\Users\\TANAY\\AppData\\Local\\Temp\\ipykernel_7252\\407795470.py:47: FutureWarning: The frame.append method is deprecated and will be removed from pandas in a future version. Use pandas.concat instead.\n",
      "  df = df.append({\n"
     ]
    },
    {
     "name": "stdout",
     "output_type": "stream",
     "text": [
      "Appending data for folder: 06_John________\n",
      "Checking folder: C:\\Users\\TANAY\\anaconda3\\envs\\SIT\\Bible_Texts\\योहानकृत शुभवर्तमानJHN\\07_John________\n",
      "Audio file path: C:\\Users\\TANAY\\anaconda3\\envs\\SIT\\Bible_Texts\\योहानकृत शुभवर्तमानJHN\\07_John________\\_07_John________MARDPIN1DA.mp3\n",
      "Text file path: C:\\Users\\TANAY\\anaconda3\\envs\\SIT\\Bible_Texts\\योहानकृत शुभवर्तमानJHN\\07_John________\\7.txt\n"
     ]
    },
    {
     "name": "stderr",
     "output_type": "stream",
     "text": [
      "C:\\Users\\TANAY\\AppData\\Local\\Temp\\ipykernel_7252\\407795470.py:47: FutureWarning: The frame.append method is deprecated and will be removed from pandas in a future version. Use pandas.concat instead.\n",
      "  df = df.append({\n"
     ]
    },
    {
     "name": "stdout",
     "output_type": "stream",
     "text": [
      "Appending data for folder: 07_John________\n",
      "Checking folder: C:\\Users\\TANAY\\anaconda3\\envs\\SIT\\Bible_Texts\\योहानकृत शुभवर्तमानJHN\\08_John________\n",
      "Audio file path: C:\\Users\\TANAY\\anaconda3\\envs\\SIT\\Bible_Texts\\योहानकृत शुभवर्तमानJHN\\08_John________\\_08_John________MARDPIN1DA.mp3\n",
      "Text file path: C:\\Users\\TANAY\\anaconda3\\envs\\SIT\\Bible_Texts\\योहानकृत शुभवर्तमानJHN\\08_John________\\8.txt\n"
     ]
    },
    {
     "name": "stderr",
     "output_type": "stream",
     "text": [
      "C:\\Users\\TANAY\\AppData\\Local\\Temp\\ipykernel_7252\\407795470.py:47: FutureWarning: The frame.append method is deprecated and will be removed from pandas in a future version. Use pandas.concat instead.\n",
      "  df = df.append({\n"
     ]
    },
    {
     "name": "stdout",
     "output_type": "stream",
     "text": [
      "Appending data for folder: 08_John________\n",
      "Checking folder: C:\\Users\\TANAY\\anaconda3\\envs\\SIT\\Bible_Texts\\योहानकृत शुभवर्तमानJHN\\09_John________\n",
      "Audio file path: C:\\Users\\TANAY\\anaconda3\\envs\\SIT\\Bible_Texts\\योहानकृत शुभवर्तमानJHN\\09_John________\\_09_John________MARDPIN1DA.mp3\n",
      "Text file path: C:\\Users\\TANAY\\anaconda3\\envs\\SIT\\Bible_Texts\\योहानकृत शुभवर्तमानJHN\\09_John________\\9.txt\n"
     ]
    },
    {
     "name": "stderr",
     "output_type": "stream",
     "text": [
      "C:\\Users\\TANAY\\AppData\\Local\\Temp\\ipykernel_7252\\407795470.py:47: FutureWarning: The frame.append method is deprecated and will be removed from pandas in a future version. Use pandas.concat instead.\n",
      "  df = df.append({\n"
     ]
    },
    {
     "name": "stdout",
     "output_type": "stream",
     "text": [
      "Appending data for folder: 09_John________\n",
      "Checking folder: C:\\Users\\TANAY\\anaconda3\\envs\\SIT\\Bible_Texts\\योहानकृत शुभवर्तमानJHN\\10_John________\n",
      "Audio file path: C:\\Users\\TANAY\\anaconda3\\envs\\SIT\\Bible_Texts\\योहानकृत शुभवर्तमानJHN\\10_John________\\_10_John________MARDPIN1DA.mp3\n",
      "Text file path: C:\\Users\\TANAY\\anaconda3\\envs\\SIT\\Bible_Texts\\योहानकृत शुभवर्तमानJHN\\10_John________\\10.txt\n"
     ]
    },
    {
     "name": "stderr",
     "output_type": "stream",
     "text": [
      "C:\\Users\\TANAY\\AppData\\Local\\Temp\\ipykernel_7252\\407795470.py:47: FutureWarning: The frame.append method is deprecated and will be removed from pandas in a future version. Use pandas.concat instead.\n",
      "  df = df.append({\n"
     ]
    },
    {
     "name": "stdout",
     "output_type": "stream",
     "text": [
      "Appending data for folder: 10_John________\n",
      "Checking folder: C:\\Users\\TANAY\\anaconda3\\envs\\SIT\\Bible_Texts\\योहानकृत शुभवर्तमानJHN\\11_John________\n",
      "Audio file path: C:\\Users\\TANAY\\anaconda3\\envs\\SIT\\Bible_Texts\\योहानकृत शुभवर्तमानJHN\\11_John________\\_11_John________MARDPIN1DA.mp3\n",
      "Text file path: C:\\Users\\TANAY\\anaconda3\\envs\\SIT\\Bible_Texts\\योहानकृत शुभवर्तमानJHN\\11_John________\\11.txt\n"
     ]
    },
    {
     "name": "stderr",
     "output_type": "stream",
     "text": [
      "C:\\Users\\TANAY\\AppData\\Local\\Temp\\ipykernel_7252\\407795470.py:47: FutureWarning: The frame.append method is deprecated and will be removed from pandas in a future version. Use pandas.concat instead.\n",
      "  df = df.append({\n"
     ]
    },
    {
     "name": "stdout",
     "output_type": "stream",
     "text": [
      "Appending data for folder: 11_John________\n",
      "Checking folder: C:\\Users\\TANAY\\anaconda3\\envs\\SIT\\Bible_Texts\\योहानकृत शुभवर्तमानJHN\\12_John________\n",
      "Audio file path: C:\\Users\\TANAY\\anaconda3\\envs\\SIT\\Bible_Texts\\योहानकृत शुभवर्तमानJHN\\12_John________\\_12_John________MARDPIN1DA.mp3\n",
      "Text file path: C:\\Users\\TANAY\\anaconda3\\envs\\SIT\\Bible_Texts\\योहानकृत शुभवर्तमानJHN\\12_John________\\12.txt\n"
     ]
    },
    {
     "name": "stderr",
     "output_type": "stream",
     "text": [
      "C:\\Users\\TANAY\\AppData\\Local\\Temp\\ipykernel_7252\\407795470.py:47: FutureWarning: The frame.append method is deprecated and will be removed from pandas in a future version. Use pandas.concat instead.\n",
      "  df = df.append({\n"
     ]
    },
    {
     "name": "stdout",
     "output_type": "stream",
     "text": [
      "Appending data for folder: 12_John________\n",
      "Checking folder: C:\\Users\\TANAY\\anaconda3\\envs\\SIT\\Bible_Texts\\योहानकृत शुभवर्तमानJHN\\13_John________\n",
      "Audio file path: C:\\Users\\TANAY\\anaconda3\\envs\\SIT\\Bible_Texts\\योहानकृत शुभवर्तमानJHN\\13_John________\\_13_John________MARDPIN1DA.mp3\n",
      "Text file path: C:\\Users\\TANAY\\anaconda3\\envs\\SIT\\Bible_Texts\\योहानकृत शुभवर्तमानJHN\\13_John________\\13.txt\n"
     ]
    },
    {
     "name": "stderr",
     "output_type": "stream",
     "text": [
      "C:\\Users\\TANAY\\AppData\\Local\\Temp\\ipykernel_7252\\407795470.py:47: FutureWarning: The frame.append method is deprecated and will be removed from pandas in a future version. Use pandas.concat instead.\n",
      "  df = df.append({\n"
     ]
    },
    {
     "name": "stdout",
     "output_type": "stream",
     "text": [
      "Appending data for folder: 13_John________\n",
      "Checking folder: C:\\Users\\TANAY\\anaconda3\\envs\\SIT\\Bible_Texts\\योहानकृत शुभवर्तमानJHN\\14_John________\n",
      "Audio file path: C:\\Users\\TANAY\\anaconda3\\envs\\SIT\\Bible_Texts\\योहानकृत शुभवर्तमानJHN\\14_John________\\_14_John________MARDPIN1DA.mp3\n",
      "Text file path: C:\\Users\\TANAY\\anaconda3\\envs\\SIT\\Bible_Texts\\योहानकृत शुभवर्तमानJHN\\14_John________\\14.txt\n"
     ]
    },
    {
     "name": "stderr",
     "output_type": "stream",
     "text": [
      "C:\\Users\\TANAY\\AppData\\Local\\Temp\\ipykernel_7252\\407795470.py:47: FutureWarning: The frame.append method is deprecated and will be removed from pandas in a future version. Use pandas.concat instead.\n",
      "  df = df.append({\n"
     ]
    },
    {
     "name": "stdout",
     "output_type": "stream",
     "text": [
      "Appending data for folder: 14_John________\n",
      "Checking folder: C:\\Users\\TANAY\\anaconda3\\envs\\SIT\\Bible_Texts\\योहानकृत शुभवर्तमानJHN\\15_John________\n",
      "Audio file path: C:\\Users\\TANAY\\anaconda3\\envs\\SIT\\Bible_Texts\\योहानकृत शुभवर्तमानJHN\\15_John________\\_15_John________MARDPIN1DA.mp3\n",
      "Text file path: C:\\Users\\TANAY\\anaconda3\\envs\\SIT\\Bible_Texts\\योहानकृत शुभवर्तमानJHN\\15_John________\\15.txt\n"
     ]
    },
    {
     "name": "stderr",
     "output_type": "stream",
     "text": [
      "C:\\Users\\TANAY\\AppData\\Local\\Temp\\ipykernel_7252\\407795470.py:47: FutureWarning: The frame.append method is deprecated and will be removed from pandas in a future version. Use pandas.concat instead.\n",
      "  df = df.append({\n"
     ]
    },
    {
     "name": "stdout",
     "output_type": "stream",
     "text": [
      "Appending data for folder: 15_John________\n",
      "Checking folder: C:\\Users\\TANAY\\anaconda3\\envs\\SIT\\Bible_Texts\\योहानकृत शुभवर्तमानJHN\\16_John________\n",
      "Audio file path: C:\\Users\\TANAY\\anaconda3\\envs\\SIT\\Bible_Texts\\योहानकृत शुभवर्तमानJHN\\16_John________\\_16_John________MARDPIN1DA.mp3\n",
      "Text file path: C:\\Users\\TANAY\\anaconda3\\envs\\SIT\\Bible_Texts\\योहानकृत शुभवर्तमानJHN\\16_John________\\16.txt\n"
     ]
    },
    {
     "name": "stderr",
     "output_type": "stream",
     "text": [
      "C:\\Users\\TANAY\\AppData\\Local\\Temp\\ipykernel_7252\\407795470.py:47: FutureWarning: The frame.append method is deprecated and will be removed from pandas in a future version. Use pandas.concat instead.\n",
      "  df = df.append({\n"
     ]
    },
    {
     "name": "stdout",
     "output_type": "stream",
     "text": [
      "Appending data for folder: 16_John________\n",
      "Checking folder: C:\\Users\\TANAY\\anaconda3\\envs\\SIT\\Bible_Texts\\योहानकृत शुभवर्तमानJHN\\17_John________\n",
      "Audio file path: C:\\Users\\TANAY\\anaconda3\\envs\\SIT\\Bible_Texts\\योहानकृत शुभवर्तमानJHN\\17_John________\\_17_John________MARDPIN1DA.mp3\n",
      "Text file path: C:\\Users\\TANAY\\anaconda3\\envs\\SIT\\Bible_Texts\\योहानकृत शुभवर्तमानJHN\\17_John________\\17.txt\n"
     ]
    },
    {
     "name": "stderr",
     "output_type": "stream",
     "text": [
      "C:\\Users\\TANAY\\AppData\\Local\\Temp\\ipykernel_7252\\407795470.py:47: FutureWarning: The frame.append method is deprecated and will be removed from pandas in a future version. Use pandas.concat instead.\n",
      "  df = df.append({\n"
     ]
    },
    {
     "name": "stdout",
     "output_type": "stream",
     "text": [
      "Appending data for folder: 17_John________\n",
      "Checking folder: C:\\Users\\TANAY\\anaconda3\\envs\\SIT\\Bible_Texts\\योहानकृत शुभवर्तमानJHN\\18_John________\n",
      "Audio file path: C:\\Users\\TANAY\\anaconda3\\envs\\SIT\\Bible_Texts\\योहानकृत शुभवर्तमानJHN\\18_John________\\_18_John________MARDPIN1DA.mp3\n",
      "Text file path: C:\\Users\\TANAY\\anaconda3\\envs\\SIT\\Bible_Texts\\योहानकृत शुभवर्तमानJHN\\18_John________\\18.txt\n"
     ]
    },
    {
     "name": "stderr",
     "output_type": "stream",
     "text": [
      "C:\\Users\\TANAY\\AppData\\Local\\Temp\\ipykernel_7252\\407795470.py:47: FutureWarning: The frame.append method is deprecated and will be removed from pandas in a future version. Use pandas.concat instead.\n",
      "  df = df.append({\n"
     ]
    },
    {
     "name": "stdout",
     "output_type": "stream",
     "text": [
      "Appending data for folder: 18_John________\n",
      "Checking folder: C:\\Users\\TANAY\\anaconda3\\envs\\SIT\\Bible_Texts\\योहानकृत शुभवर्तमानJHN\\19_John________\n",
      "Audio file path: C:\\Users\\TANAY\\anaconda3\\envs\\SIT\\Bible_Texts\\योहानकृत शुभवर्तमानJHN\\19_John________\\_19_John________MARDPIN1DA.mp3\n",
      "Text file path: C:\\Users\\TANAY\\anaconda3\\envs\\SIT\\Bible_Texts\\योहानकृत शुभवर्तमानJHN\\19_John________\\19.txt\n"
     ]
    },
    {
     "name": "stderr",
     "output_type": "stream",
     "text": [
      "C:\\Users\\TANAY\\AppData\\Local\\Temp\\ipykernel_7252\\407795470.py:47: FutureWarning: The frame.append method is deprecated and will be removed from pandas in a future version. Use pandas.concat instead.\n",
      "  df = df.append({\n"
     ]
    },
    {
     "name": "stdout",
     "output_type": "stream",
     "text": [
      "Appending data for folder: 19_John________\n",
      "Checking folder: C:\\Users\\TANAY\\anaconda3\\envs\\SIT\\Bible_Texts\\योहानकृत शुभवर्तमानJHN\\20_John________\n",
      "Audio file path: C:\\Users\\TANAY\\anaconda3\\envs\\SIT\\Bible_Texts\\योहानकृत शुभवर्तमानJHN\\20_John________\\_20_John________MARDPIN1DA.mp3\n",
      "Text file path: C:\\Users\\TANAY\\anaconda3\\envs\\SIT\\Bible_Texts\\योहानकृत शुभवर्तमानJHN\\20_John________\\20.txt\n"
     ]
    },
    {
     "name": "stderr",
     "output_type": "stream",
     "text": [
      "C:\\Users\\TANAY\\AppData\\Local\\Temp\\ipykernel_7252\\407795470.py:47: FutureWarning: The frame.append method is deprecated and will be removed from pandas in a future version. Use pandas.concat instead.\n",
      "  df = df.append({\n"
     ]
    },
    {
     "name": "stdout",
     "output_type": "stream",
     "text": [
      "Appending data for folder: 20_John________\n",
      "Checking folder: C:\\Users\\TANAY\\anaconda3\\envs\\SIT\\Bible_Texts\\योहानकृत शुभवर्तमानJHN\\21_John________\n",
      "Audio file path: C:\\Users\\TANAY\\anaconda3\\envs\\SIT\\Bible_Texts\\योहानकृत शुभवर्तमानJHN\\21_John________\\_21_John________MARDPIN1DA.mp3\n",
      "Text file path: C:\\Users\\TANAY\\anaconda3\\envs\\SIT\\Bible_Texts\\योहानकृत शुभवर्तमानJHN\\21_John________\\21.txt\n"
     ]
    },
    {
     "name": "stderr",
     "output_type": "stream",
     "text": [
      "C:\\Users\\TANAY\\AppData\\Local\\Temp\\ipykernel_7252\\407795470.py:47: FutureWarning: The frame.append method is deprecated and will be removed from pandas in a future version. Use pandas.concat instead.\n",
      "  df = df.append({\n"
     ]
    },
    {
     "name": "stdout",
     "output_type": "stream",
     "text": [
      "Appending data for folder: 21_John________\n",
      "Checking folder: C:\\Users\\TANAY\\anaconda3\\envs\\SIT\\Bible_Texts\\योहानाचे तिसरे पत्र3JN\\01_3John_______\n",
      "Audio file path: C:\\Users\\TANAY\\anaconda3\\envs\\SIT\\Bible_Texts\\योहानाचे तिसरे पत्र3JN\\01_3John_______\\_01_3John_______MARDPIN1DA.mp3\n",
      "Text file path: C:\\Users\\TANAY\\anaconda3\\envs\\SIT\\Bible_Texts\\योहानाचे तिसरे पत्र3JN\\01_3John_______\\1.txt\n"
     ]
    },
    {
     "name": "stderr",
     "output_type": "stream",
     "text": [
      "C:\\Users\\TANAY\\AppData\\Local\\Temp\\ipykernel_7252\\407795470.py:47: FutureWarning: The frame.append method is deprecated and will be removed from pandas in a future version. Use pandas.concat instead.\n",
      "  df = df.append({\n"
     ]
    },
    {
     "name": "stdout",
     "output_type": "stream",
     "text": [
      "Appending data for folder: 01_3John_______\n",
      "Checking folder: C:\\Users\\TANAY\\anaconda3\\envs\\SIT\\Bible_Texts\\योहानाचे दुसरे पत्र2JN\\01_2John_______\n",
      "Audio file path: C:\\Users\\TANAY\\anaconda3\\envs\\SIT\\Bible_Texts\\योहानाचे दुसरे पत्र2JN\\01_2John_______\\_01_2John_______MARDPIN1DA.mp3\n",
      "Text file path: C:\\Users\\TANAY\\anaconda3\\envs\\SIT\\Bible_Texts\\योहानाचे दुसरे पत्र2JN\\01_2John_______\\1.txt\n"
     ]
    },
    {
     "name": "stderr",
     "output_type": "stream",
     "text": [
      "C:\\Users\\TANAY\\AppData\\Local\\Temp\\ipykernel_7252\\407795470.py:47: FutureWarning: The frame.append method is deprecated and will be removed from pandas in a future version. Use pandas.concat instead.\n",
      "  df = df.append({\n"
     ]
    },
    {
     "name": "stdout",
     "output_type": "stream",
     "text": [
      "Appending data for folder: 01_2John_______\n",
      "Checking folder: C:\\Users\\TANAY\\anaconda3\\envs\\SIT\\Bible_Texts\\योहानाचे पहिले पत्र1JN\\01_1John_______\n",
      "Audio file path: C:\\Users\\TANAY\\anaconda3\\envs\\SIT\\Bible_Texts\\योहानाचे पहिले पत्र1JN\\01_1John_______\\_01_1John_______MARDPIN1DA.mp3\n",
      "Text file path: C:\\Users\\TANAY\\anaconda3\\envs\\SIT\\Bible_Texts\\योहानाचे पहिले पत्र1JN\\01_1John_______\\1.txt\n"
     ]
    },
    {
     "name": "stderr",
     "output_type": "stream",
     "text": [
      "C:\\Users\\TANAY\\AppData\\Local\\Temp\\ipykernel_7252\\407795470.py:47: FutureWarning: The frame.append method is deprecated and will be removed from pandas in a future version. Use pandas.concat instead.\n",
      "  df = df.append({\n"
     ]
    },
    {
     "name": "stdout",
     "output_type": "stream",
     "text": [
      "Appending data for folder: 01_1John_______\n",
      "Checking folder: C:\\Users\\TANAY\\anaconda3\\envs\\SIT\\Bible_Texts\\योहानाचे पहिले पत्र1JN\\02_1John_______\n",
      "Audio file path: C:\\Users\\TANAY\\anaconda3\\envs\\SIT\\Bible_Texts\\योहानाचे पहिले पत्र1JN\\02_1John_______\\_02_1John_______MARDPIN1DA.mp3\n",
      "Text file path: C:\\Users\\TANAY\\anaconda3\\envs\\SIT\\Bible_Texts\\योहानाचे पहिले पत्र1JN\\02_1John_______\\2.txt\n"
     ]
    },
    {
     "name": "stderr",
     "output_type": "stream",
     "text": [
      "C:\\Users\\TANAY\\AppData\\Local\\Temp\\ipykernel_7252\\407795470.py:47: FutureWarning: The frame.append method is deprecated and will be removed from pandas in a future version. Use pandas.concat instead.\n",
      "  df = df.append({\n"
     ]
    },
    {
     "name": "stdout",
     "output_type": "stream",
     "text": [
      "Appending data for folder: 02_1John_______\n",
      "Checking folder: C:\\Users\\TANAY\\anaconda3\\envs\\SIT\\Bible_Texts\\योहानाचे पहिले पत्र1JN\\03_1John_______\n",
      "Audio file path: C:\\Users\\TANAY\\anaconda3\\envs\\SIT\\Bible_Texts\\योहानाचे पहिले पत्र1JN\\03_1John_______\\_03_1John_______MARDPIN1DA.mp3\n",
      "Text file path: C:\\Users\\TANAY\\anaconda3\\envs\\SIT\\Bible_Texts\\योहानाचे पहिले पत्र1JN\\03_1John_______\\3.txt\n"
     ]
    },
    {
     "name": "stderr",
     "output_type": "stream",
     "text": [
      "C:\\Users\\TANAY\\AppData\\Local\\Temp\\ipykernel_7252\\407795470.py:47: FutureWarning: The frame.append method is deprecated and will be removed from pandas in a future version. Use pandas.concat instead.\n",
      "  df = df.append({\n"
     ]
    },
    {
     "name": "stdout",
     "output_type": "stream",
     "text": [
      "Appending data for folder: 03_1John_______\n",
      "Checking folder: C:\\Users\\TANAY\\anaconda3\\envs\\SIT\\Bible_Texts\\योहानाचे पहिले पत्र1JN\\04_1John_______\n",
      "Audio file path: C:\\Users\\TANAY\\anaconda3\\envs\\SIT\\Bible_Texts\\योहानाचे पहिले पत्र1JN\\04_1John_______\\_04_1John_______MARDPIN1DA.mp3\n",
      "Text file path: C:\\Users\\TANAY\\anaconda3\\envs\\SIT\\Bible_Texts\\योहानाचे पहिले पत्र1JN\\04_1John_______\\4.txt\n"
     ]
    },
    {
     "name": "stderr",
     "output_type": "stream",
     "text": [
      "C:\\Users\\TANAY\\AppData\\Local\\Temp\\ipykernel_7252\\407795470.py:47: FutureWarning: The frame.append method is deprecated and will be removed from pandas in a future version. Use pandas.concat instead.\n",
      "  df = df.append({\n"
     ]
    },
    {
     "name": "stdout",
     "output_type": "stream",
     "text": [
      "Appending data for folder: 04_1John_______\n",
      "Checking folder: C:\\Users\\TANAY\\anaconda3\\envs\\SIT\\Bible_Texts\\योहानाचे पहिले पत्र1JN\\05_1John_______\n",
      "Audio file path: C:\\Users\\TANAY\\anaconda3\\envs\\SIT\\Bible_Texts\\योहानाचे पहिले पत्र1JN\\05_1John_______\\_05_1John_______MARDPIN1DA.mp3\n",
      "Text file path: C:\\Users\\TANAY\\anaconda3\\envs\\SIT\\Bible_Texts\\योहानाचे पहिले पत्र1JN\\05_1John_______\\5.txt\n"
     ]
    },
    {
     "name": "stderr",
     "output_type": "stream",
     "text": [
      "C:\\Users\\TANAY\\AppData\\Local\\Temp\\ipykernel_7252\\407795470.py:47: FutureWarning: The frame.append method is deprecated and will be removed from pandas in a future version. Use pandas.concat instead.\n",
      "  df = df.append({\n"
     ]
    },
    {
     "name": "stdout",
     "output_type": "stream",
     "text": [
      "Appending data for folder: 05_1John_______\n",
      "Checking folder: C:\\Users\\TANAY\\anaconda3\\envs\\SIT\\Bible_Texts\\रोमकरांस पत्रROM\\01_Romans______\n",
      "Audio file path: C:\\Users\\TANAY\\anaconda3\\envs\\SIT\\Bible_Texts\\रोमकरांस पत्रROM\\01_Romans______\\_01_Romans______MARDPIN1DA.mp3\n",
      "Text file path: C:\\Users\\TANAY\\anaconda3\\envs\\SIT\\Bible_Texts\\रोमकरांस पत्रROM\\01_Romans______\\1.txt\n"
     ]
    },
    {
     "name": "stderr",
     "output_type": "stream",
     "text": [
      "C:\\Users\\TANAY\\AppData\\Local\\Temp\\ipykernel_7252\\407795470.py:47: FutureWarning: The frame.append method is deprecated and will be removed from pandas in a future version. Use pandas.concat instead.\n",
      "  df = df.append({\n"
     ]
    },
    {
     "name": "stdout",
     "output_type": "stream",
     "text": [
      "Appending data for folder: 01_Romans______\n",
      "Checking folder: C:\\Users\\TANAY\\anaconda3\\envs\\SIT\\Bible_Texts\\रोमकरांस पत्रROM\\02_Romans______\n",
      "Audio file path: C:\\Users\\TANAY\\anaconda3\\envs\\SIT\\Bible_Texts\\रोमकरांस पत्रROM\\02_Romans______\\_02_Romans______MARDPIN1DA.mp3\n",
      "Text file path: C:\\Users\\TANAY\\anaconda3\\envs\\SIT\\Bible_Texts\\रोमकरांस पत्रROM\\02_Romans______\\2.txt\n"
     ]
    },
    {
     "name": "stderr",
     "output_type": "stream",
     "text": [
      "C:\\Users\\TANAY\\AppData\\Local\\Temp\\ipykernel_7252\\407795470.py:47: FutureWarning: The frame.append method is deprecated and will be removed from pandas in a future version. Use pandas.concat instead.\n",
      "  df = df.append({\n"
     ]
    },
    {
     "name": "stdout",
     "output_type": "stream",
     "text": [
      "Appending data for folder: 02_Romans______\n",
      "Checking folder: C:\\Users\\TANAY\\anaconda3\\envs\\SIT\\Bible_Texts\\रोमकरांस पत्रROM\\03_Romans______\n",
      "Audio file path: C:\\Users\\TANAY\\anaconda3\\envs\\SIT\\Bible_Texts\\रोमकरांस पत्रROM\\03_Romans______\\_03_Romans______MARDPIN1DA.mp3\n",
      "Text file path: C:\\Users\\TANAY\\anaconda3\\envs\\SIT\\Bible_Texts\\रोमकरांस पत्रROM\\03_Romans______\\3.txt\n"
     ]
    },
    {
     "name": "stderr",
     "output_type": "stream",
     "text": [
      "C:\\Users\\TANAY\\AppData\\Local\\Temp\\ipykernel_7252\\407795470.py:47: FutureWarning: The frame.append method is deprecated and will be removed from pandas in a future version. Use pandas.concat instead.\n",
      "  df = df.append({\n"
     ]
    },
    {
     "name": "stdout",
     "output_type": "stream",
     "text": [
      "Appending data for folder: 03_Romans______\n",
      "Checking folder: C:\\Users\\TANAY\\anaconda3\\envs\\SIT\\Bible_Texts\\रोमकरांस पत्रROM\\04_Romans______\n",
      "Audio file path: C:\\Users\\TANAY\\anaconda3\\envs\\SIT\\Bible_Texts\\रोमकरांस पत्रROM\\04_Romans______\\_04_Romans______MARDPIN1DA.mp3\n",
      "Text file path: C:\\Users\\TANAY\\anaconda3\\envs\\SIT\\Bible_Texts\\रोमकरांस पत्रROM\\04_Romans______\\4.txt\n"
     ]
    },
    {
     "name": "stderr",
     "output_type": "stream",
     "text": [
      "C:\\Users\\TANAY\\AppData\\Local\\Temp\\ipykernel_7252\\407795470.py:47: FutureWarning: The frame.append method is deprecated and will be removed from pandas in a future version. Use pandas.concat instead.\n",
      "  df = df.append({\n"
     ]
    },
    {
     "name": "stdout",
     "output_type": "stream",
     "text": [
      "Appending data for folder: 04_Romans______\n",
      "Checking folder: C:\\Users\\TANAY\\anaconda3\\envs\\SIT\\Bible_Texts\\रोमकरांस पत्रROM\\05_Romans______\n",
      "Audio file path: C:\\Users\\TANAY\\anaconda3\\envs\\SIT\\Bible_Texts\\रोमकरांस पत्रROM\\05_Romans______\\_05_Romans______MARDPIN1DA.mp3\n",
      "Text file path: C:\\Users\\TANAY\\anaconda3\\envs\\SIT\\Bible_Texts\\रोमकरांस पत्रROM\\05_Romans______\\5.txt\n"
     ]
    },
    {
     "name": "stderr",
     "output_type": "stream",
     "text": [
      "C:\\Users\\TANAY\\AppData\\Local\\Temp\\ipykernel_7252\\407795470.py:47: FutureWarning: The frame.append method is deprecated and will be removed from pandas in a future version. Use pandas.concat instead.\n",
      "  df = df.append({\n"
     ]
    },
    {
     "name": "stdout",
     "output_type": "stream",
     "text": [
      "Appending data for folder: 05_Romans______\n",
      "Checking folder: C:\\Users\\TANAY\\anaconda3\\envs\\SIT\\Bible_Texts\\रोमकरांस पत्रROM\\06_Romans______\n",
      "Audio file path: C:\\Users\\TANAY\\anaconda3\\envs\\SIT\\Bible_Texts\\रोमकरांस पत्रROM\\06_Romans______\\_06_Romans______MARDPIN1DA.mp3\n",
      "Text file path: C:\\Users\\TANAY\\anaconda3\\envs\\SIT\\Bible_Texts\\रोमकरांस पत्रROM\\06_Romans______\\6.txt\n"
     ]
    },
    {
     "name": "stderr",
     "output_type": "stream",
     "text": [
      "C:\\Users\\TANAY\\AppData\\Local\\Temp\\ipykernel_7252\\407795470.py:47: FutureWarning: The frame.append method is deprecated and will be removed from pandas in a future version. Use pandas.concat instead.\n",
      "  df = df.append({\n"
     ]
    },
    {
     "name": "stdout",
     "output_type": "stream",
     "text": [
      "Appending data for folder: 06_Romans______\n",
      "Checking folder: C:\\Users\\TANAY\\anaconda3\\envs\\SIT\\Bible_Texts\\रोमकरांस पत्रROM\\07_Romans______\n",
      "Audio file path: C:\\Users\\TANAY\\anaconda3\\envs\\SIT\\Bible_Texts\\रोमकरांस पत्रROM\\07_Romans______\\_07_Romans______MARDPIN1DA.mp3\n",
      "Text file path: C:\\Users\\TANAY\\anaconda3\\envs\\SIT\\Bible_Texts\\रोमकरांस पत्रROM\\07_Romans______\\7.txt\n"
     ]
    },
    {
     "name": "stderr",
     "output_type": "stream",
     "text": [
      "C:\\Users\\TANAY\\AppData\\Local\\Temp\\ipykernel_7252\\407795470.py:47: FutureWarning: The frame.append method is deprecated and will be removed from pandas in a future version. Use pandas.concat instead.\n",
      "  df = df.append({\n"
     ]
    },
    {
     "name": "stdout",
     "output_type": "stream",
     "text": [
      "Appending data for folder: 07_Romans______\n",
      "Checking folder: C:\\Users\\TANAY\\anaconda3\\envs\\SIT\\Bible_Texts\\रोमकरांस पत्रROM\\08_Romans______\n",
      "Audio file path: C:\\Users\\TANAY\\anaconda3\\envs\\SIT\\Bible_Texts\\रोमकरांस पत्रROM\\08_Romans______\\_08_Romans______MARDPIN1DA.mp3\n",
      "Text file path: C:\\Users\\TANAY\\anaconda3\\envs\\SIT\\Bible_Texts\\रोमकरांस पत्रROM\\08_Romans______\\8.txt\n"
     ]
    },
    {
     "name": "stderr",
     "output_type": "stream",
     "text": [
      "C:\\Users\\TANAY\\AppData\\Local\\Temp\\ipykernel_7252\\407795470.py:47: FutureWarning: The frame.append method is deprecated and will be removed from pandas in a future version. Use pandas.concat instead.\n",
      "  df = df.append({\n"
     ]
    },
    {
     "name": "stdout",
     "output_type": "stream",
     "text": [
      "Appending data for folder: 08_Romans______\n",
      "Checking folder: C:\\Users\\TANAY\\anaconda3\\envs\\SIT\\Bible_Texts\\रोमकरांस पत्रROM\\09_Romans______\n",
      "Audio file path: C:\\Users\\TANAY\\anaconda3\\envs\\SIT\\Bible_Texts\\रोमकरांस पत्रROM\\09_Romans______\\_09_Romans______MARDPIN1DA.mp3\n",
      "Text file path: C:\\Users\\TANAY\\anaconda3\\envs\\SIT\\Bible_Texts\\रोमकरांस पत्रROM\\09_Romans______\\9.txt\n"
     ]
    },
    {
     "name": "stderr",
     "output_type": "stream",
     "text": [
      "C:\\Users\\TANAY\\AppData\\Local\\Temp\\ipykernel_7252\\407795470.py:47: FutureWarning: The frame.append method is deprecated and will be removed from pandas in a future version. Use pandas.concat instead.\n",
      "  df = df.append({\n"
     ]
    },
    {
     "name": "stdout",
     "output_type": "stream",
     "text": [
      "Appending data for folder: 09_Romans______\n",
      "Checking folder: C:\\Users\\TANAY\\anaconda3\\envs\\SIT\\Bible_Texts\\रोमकरांस पत्रROM\\10_Romans______\n",
      "Audio file path: C:\\Users\\TANAY\\anaconda3\\envs\\SIT\\Bible_Texts\\रोमकरांस पत्रROM\\10_Romans______\\_10_Romans______MARDPIN1DA.mp3\n",
      "Text file path: C:\\Users\\TANAY\\anaconda3\\envs\\SIT\\Bible_Texts\\रोमकरांस पत्रROM\\10_Romans______\\10.txt\n"
     ]
    },
    {
     "name": "stderr",
     "output_type": "stream",
     "text": [
      "C:\\Users\\TANAY\\AppData\\Local\\Temp\\ipykernel_7252\\407795470.py:47: FutureWarning: The frame.append method is deprecated and will be removed from pandas in a future version. Use pandas.concat instead.\n",
      "  df = df.append({\n"
     ]
    },
    {
     "name": "stdout",
     "output_type": "stream",
     "text": [
      "Appending data for folder: 10_Romans______\n",
      "Checking folder: C:\\Users\\TANAY\\anaconda3\\envs\\SIT\\Bible_Texts\\रोमकरांस पत्रROM\\11_Romans______\n",
      "Audio file path: C:\\Users\\TANAY\\anaconda3\\envs\\SIT\\Bible_Texts\\रोमकरांस पत्रROM\\11_Romans______\\_11_Romans______MARDPIN1DA.mp3\n",
      "Text file path: C:\\Users\\TANAY\\anaconda3\\envs\\SIT\\Bible_Texts\\रोमकरांस पत्रROM\\11_Romans______\\11.txt\n"
     ]
    },
    {
     "name": "stderr",
     "output_type": "stream",
     "text": [
      "C:\\Users\\TANAY\\AppData\\Local\\Temp\\ipykernel_7252\\407795470.py:47: FutureWarning: The frame.append method is deprecated and will be removed from pandas in a future version. Use pandas.concat instead.\n",
      "  df = df.append({\n"
     ]
    },
    {
     "name": "stdout",
     "output_type": "stream",
     "text": [
      "Appending data for folder: 11_Romans______\n",
      "Checking folder: C:\\Users\\TANAY\\anaconda3\\envs\\SIT\\Bible_Texts\\रोमकरांस पत्रROM\\12_Romans______\n",
      "Audio file path: C:\\Users\\TANAY\\anaconda3\\envs\\SIT\\Bible_Texts\\रोमकरांस पत्रROM\\12_Romans______\\_12_Romans______MARDPIN1DA.mp3\n",
      "Text file path: C:\\Users\\TANAY\\anaconda3\\envs\\SIT\\Bible_Texts\\रोमकरांस पत्रROM\\12_Romans______\\12.txt\n"
     ]
    },
    {
     "name": "stderr",
     "output_type": "stream",
     "text": [
      "C:\\Users\\TANAY\\AppData\\Local\\Temp\\ipykernel_7252\\407795470.py:47: FutureWarning: The frame.append method is deprecated and will be removed from pandas in a future version. Use pandas.concat instead.\n",
      "  df = df.append({\n"
     ]
    },
    {
     "name": "stdout",
     "output_type": "stream",
     "text": [
      "Appending data for folder: 12_Romans______\n",
      "Checking folder: C:\\Users\\TANAY\\anaconda3\\envs\\SIT\\Bible_Texts\\रोमकरांस पत्रROM\\13_Romans______\n",
      "Audio file path: C:\\Users\\TANAY\\anaconda3\\envs\\SIT\\Bible_Texts\\रोमकरांस पत्रROM\\13_Romans______\\_13_Romans______MARDPIN1DA.mp3\n",
      "Text file path: C:\\Users\\TANAY\\anaconda3\\envs\\SIT\\Bible_Texts\\रोमकरांस पत्रROM\\13_Romans______\\13.txt\n"
     ]
    },
    {
     "name": "stderr",
     "output_type": "stream",
     "text": [
      "C:\\Users\\TANAY\\AppData\\Local\\Temp\\ipykernel_7252\\407795470.py:47: FutureWarning: The frame.append method is deprecated and will be removed from pandas in a future version. Use pandas.concat instead.\n",
      "  df = df.append({\n"
     ]
    },
    {
     "name": "stdout",
     "output_type": "stream",
     "text": [
      "Appending data for folder: 13_Romans______\n",
      "Checking folder: C:\\Users\\TANAY\\anaconda3\\envs\\SIT\\Bible_Texts\\रोमकरांस पत्रROM\\14_Romans______\n",
      "Audio file path: C:\\Users\\TANAY\\anaconda3\\envs\\SIT\\Bible_Texts\\रोमकरांस पत्रROM\\14_Romans______\\_14_Romans______MARDPIN1DA.mp3\n",
      "Text file path: C:\\Users\\TANAY\\anaconda3\\envs\\SIT\\Bible_Texts\\रोमकरांस पत्रROM\\14_Romans______\\14.txt\n"
     ]
    },
    {
     "name": "stderr",
     "output_type": "stream",
     "text": [
      "C:\\Users\\TANAY\\AppData\\Local\\Temp\\ipykernel_7252\\407795470.py:47: FutureWarning: The frame.append method is deprecated and will be removed from pandas in a future version. Use pandas.concat instead.\n",
      "  df = df.append({\n"
     ]
    },
    {
     "name": "stdout",
     "output_type": "stream",
     "text": [
      "Appending data for folder: 14_Romans______\n",
      "Checking folder: C:\\Users\\TANAY\\anaconda3\\envs\\SIT\\Bible_Texts\\रोमकरांस पत्रROM\\15_Romans______\n",
      "Audio file path: C:\\Users\\TANAY\\anaconda3\\envs\\SIT\\Bible_Texts\\रोमकरांस पत्रROM\\15_Romans______\\_15_Romans______MARDPIN1DA.mp3\n",
      "Text file path: C:\\Users\\TANAY\\anaconda3\\envs\\SIT\\Bible_Texts\\रोमकरांस पत्रROM\\15_Romans______\\15.txt\n"
     ]
    },
    {
     "name": "stderr",
     "output_type": "stream",
     "text": [
      "C:\\Users\\TANAY\\AppData\\Local\\Temp\\ipykernel_7252\\407795470.py:47: FutureWarning: The frame.append method is deprecated and will be removed from pandas in a future version. Use pandas.concat instead.\n",
      "  df = df.append({\n"
     ]
    },
    {
     "name": "stdout",
     "output_type": "stream",
     "text": [
      "Appending data for folder: 15_Romans______\n",
      "Checking folder: C:\\Users\\TANAY\\anaconda3\\envs\\SIT\\Bible_Texts\\रोमकरांस पत्रROM\\16_Romans______\n",
      "Audio file path: C:\\Users\\TANAY\\anaconda3\\envs\\SIT\\Bible_Texts\\रोमकरांस पत्रROM\\16_Romans______\\_16_Romans______MARDPIN1DA.mp3\n",
      "Text file path: C:\\Users\\TANAY\\anaconda3\\envs\\SIT\\Bible_Texts\\रोमकरांस पत्रROM\\16_Romans______\\16.txt\n"
     ]
    },
    {
     "name": "stderr",
     "output_type": "stream",
     "text": [
      "C:\\Users\\TANAY\\AppData\\Local\\Temp\\ipykernel_7252\\407795470.py:47: FutureWarning: The frame.append method is deprecated and will be removed from pandas in a future version. Use pandas.concat instead.\n",
      "  df = df.append({\n"
     ]
    },
    {
     "name": "stdout",
     "output_type": "stream",
     "text": [
      "Appending data for folder: 16_Romans______\n",
      "Checking folder: C:\\Users\\TANAY\\anaconda3\\envs\\SIT\\Bible_Texts\\लूककृत शुभवर्तमानLUK\\01_Luke________\n",
      "Audio file path: C:\\Users\\TANAY\\anaconda3\\envs\\SIT\\Bible_Texts\\लूककृत शुभवर्तमानLUK\\01_Luke________\\_01_Luke________MARDPIN1DA.mp3\n",
      "Text file path: C:\\Users\\TANAY\\anaconda3\\envs\\SIT\\Bible_Texts\\लूककृत शुभवर्तमानLUK\\01_Luke________\\1.txt\n"
     ]
    },
    {
     "name": "stderr",
     "output_type": "stream",
     "text": [
      "C:\\Users\\TANAY\\AppData\\Local\\Temp\\ipykernel_7252\\407795470.py:47: FutureWarning: The frame.append method is deprecated and will be removed from pandas in a future version. Use pandas.concat instead.\n",
      "  df = df.append({\n"
     ]
    },
    {
     "name": "stdout",
     "output_type": "stream",
     "text": [
      "Appending data for folder: 01_Luke________\n",
      "Checking folder: C:\\Users\\TANAY\\anaconda3\\envs\\SIT\\Bible_Texts\\लूककृत शुभवर्तमानLUK\\02_Luke________\n",
      "Audio file path: C:\\Users\\TANAY\\anaconda3\\envs\\SIT\\Bible_Texts\\लूककृत शुभवर्तमानLUK\\02_Luke________\\_02_Luke________MARDPIN1DA.mp3\n",
      "Text file path: C:\\Users\\TANAY\\anaconda3\\envs\\SIT\\Bible_Texts\\लूककृत शुभवर्तमानLUK\\02_Luke________\\2.txt\n"
     ]
    },
    {
     "name": "stderr",
     "output_type": "stream",
     "text": [
      "C:\\Users\\TANAY\\AppData\\Local\\Temp\\ipykernel_7252\\407795470.py:47: FutureWarning: The frame.append method is deprecated and will be removed from pandas in a future version. Use pandas.concat instead.\n",
      "  df = df.append({\n"
     ]
    },
    {
     "name": "stdout",
     "output_type": "stream",
     "text": [
      "Appending data for folder: 02_Luke________\n",
      "Checking folder: C:\\Users\\TANAY\\anaconda3\\envs\\SIT\\Bible_Texts\\लूककृत शुभवर्तमानLUK\\03_Luke________\n",
      "Audio file path: C:\\Users\\TANAY\\anaconda3\\envs\\SIT\\Bible_Texts\\लूककृत शुभवर्तमानLUK\\03_Luke________\\_03_Luke________MARDPIN1DA.mp3\n",
      "Text file path: C:\\Users\\TANAY\\anaconda3\\envs\\SIT\\Bible_Texts\\लूककृत शुभवर्तमानLUK\\03_Luke________\\3.txt\n"
     ]
    },
    {
     "name": "stderr",
     "output_type": "stream",
     "text": [
      "C:\\Users\\TANAY\\AppData\\Local\\Temp\\ipykernel_7252\\407795470.py:47: FutureWarning: The frame.append method is deprecated and will be removed from pandas in a future version. Use pandas.concat instead.\n",
      "  df = df.append({\n"
     ]
    },
    {
     "name": "stdout",
     "output_type": "stream",
     "text": [
      "Appending data for folder: 03_Luke________\n",
      "Checking folder: C:\\Users\\TANAY\\anaconda3\\envs\\SIT\\Bible_Texts\\लूककृत शुभवर्तमानLUK\\04_Luke________\n",
      "Audio file path: C:\\Users\\TANAY\\anaconda3\\envs\\SIT\\Bible_Texts\\लूककृत शुभवर्तमानLUK\\04_Luke________\\_04_Luke________MARDPIN1DA.mp3\n",
      "Text file path: C:\\Users\\TANAY\\anaconda3\\envs\\SIT\\Bible_Texts\\लूककृत शुभवर्तमानLUK\\04_Luke________\\4.txt\n"
     ]
    },
    {
     "name": "stderr",
     "output_type": "stream",
     "text": [
      "C:\\Users\\TANAY\\AppData\\Local\\Temp\\ipykernel_7252\\407795470.py:47: FutureWarning: The frame.append method is deprecated and will be removed from pandas in a future version. Use pandas.concat instead.\n",
      "  df = df.append({\n"
     ]
    },
    {
     "name": "stdout",
     "output_type": "stream",
     "text": [
      "Appending data for folder: 04_Luke________\n",
      "Checking folder: C:\\Users\\TANAY\\anaconda3\\envs\\SIT\\Bible_Texts\\लूककृत शुभवर्तमानLUK\\05_Luke________\n",
      "Audio file path: C:\\Users\\TANAY\\anaconda3\\envs\\SIT\\Bible_Texts\\लूककृत शुभवर्तमानLUK\\05_Luke________\\_05_Luke________MARDPIN1DA.mp3\n",
      "Text file path: C:\\Users\\TANAY\\anaconda3\\envs\\SIT\\Bible_Texts\\लूककृत शुभवर्तमानLUK\\05_Luke________\\5.txt\n"
     ]
    },
    {
     "name": "stderr",
     "output_type": "stream",
     "text": [
      "C:\\Users\\TANAY\\AppData\\Local\\Temp\\ipykernel_7252\\407795470.py:47: FutureWarning: The frame.append method is deprecated and will be removed from pandas in a future version. Use pandas.concat instead.\n",
      "  df = df.append({\n"
     ]
    },
    {
     "name": "stdout",
     "output_type": "stream",
     "text": [
      "Appending data for folder: 05_Luke________\n",
      "Checking folder: C:\\Users\\TANAY\\anaconda3\\envs\\SIT\\Bible_Texts\\लूककृत शुभवर्तमानLUK\\06_Luke________\n",
      "Audio file path: C:\\Users\\TANAY\\anaconda3\\envs\\SIT\\Bible_Texts\\लूककृत शुभवर्तमानLUK\\06_Luke________\\_06_Luke________MARDPIN1DA.mp3\n",
      "Text file path: C:\\Users\\TANAY\\anaconda3\\envs\\SIT\\Bible_Texts\\लूककृत शुभवर्तमानLUK\\06_Luke________\\6.txt\n"
     ]
    },
    {
     "name": "stderr",
     "output_type": "stream",
     "text": [
      "C:\\Users\\TANAY\\AppData\\Local\\Temp\\ipykernel_7252\\407795470.py:47: FutureWarning: The frame.append method is deprecated and will be removed from pandas in a future version. Use pandas.concat instead.\n",
      "  df = df.append({\n"
     ]
    },
    {
     "name": "stdout",
     "output_type": "stream",
     "text": [
      "Appending data for folder: 06_Luke________\n",
      "Checking folder: C:\\Users\\TANAY\\anaconda3\\envs\\SIT\\Bible_Texts\\लूककृत शुभवर्तमानLUK\\07_Luke________\n",
      "Audio file path: C:\\Users\\TANAY\\anaconda3\\envs\\SIT\\Bible_Texts\\लूककृत शुभवर्तमानLUK\\07_Luke________\\_07_Luke________MARDPIN1DA.mp3\n",
      "Text file path: C:\\Users\\TANAY\\anaconda3\\envs\\SIT\\Bible_Texts\\लूककृत शुभवर्तमानLUK\\07_Luke________\\7.txt\n"
     ]
    },
    {
     "name": "stderr",
     "output_type": "stream",
     "text": [
      "C:\\Users\\TANAY\\AppData\\Local\\Temp\\ipykernel_7252\\407795470.py:47: FutureWarning: The frame.append method is deprecated and will be removed from pandas in a future version. Use pandas.concat instead.\n",
      "  df = df.append({\n"
     ]
    },
    {
     "name": "stdout",
     "output_type": "stream",
     "text": [
      "Appending data for folder: 07_Luke________\n",
      "Checking folder: C:\\Users\\TANAY\\anaconda3\\envs\\SIT\\Bible_Texts\\लूककृत शुभवर्तमानLUK\\08_Luke________\n",
      "Audio file path: C:\\Users\\TANAY\\anaconda3\\envs\\SIT\\Bible_Texts\\लूककृत शुभवर्तमानLUK\\08_Luke________\\_08_Luke________MARDPIN1DA.mp3\n",
      "Text file path: C:\\Users\\TANAY\\anaconda3\\envs\\SIT\\Bible_Texts\\लूककृत शुभवर्तमानLUK\\08_Luke________\\8.txt\n"
     ]
    },
    {
     "name": "stderr",
     "output_type": "stream",
     "text": [
      "C:\\Users\\TANAY\\AppData\\Local\\Temp\\ipykernel_7252\\407795470.py:47: FutureWarning: The frame.append method is deprecated and will be removed from pandas in a future version. Use pandas.concat instead.\n",
      "  df = df.append({\n"
     ]
    },
    {
     "name": "stdout",
     "output_type": "stream",
     "text": [
      "Appending data for folder: 08_Luke________\n",
      "Checking folder: C:\\Users\\TANAY\\anaconda3\\envs\\SIT\\Bible_Texts\\लूककृत शुभवर्तमानLUK\\09_Luke________\n",
      "Audio file path: C:\\Users\\TANAY\\anaconda3\\envs\\SIT\\Bible_Texts\\लूककृत शुभवर्तमानLUK\\09_Luke________\\_09_Luke________MARDPIN1DA.mp3\n",
      "Text file path: C:\\Users\\TANAY\\anaconda3\\envs\\SIT\\Bible_Texts\\लूककृत शुभवर्तमानLUK\\09_Luke________\\9.txt\n"
     ]
    },
    {
     "name": "stderr",
     "output_type": "stream",
     "text": [
      "C:\\Users\\TANAY\\AppData\\Local\\Temp\\ipykernel_7252\\407795470.py:47: FutureWarning: The frame.append method is deprecated and will be removed from pandas in a future version. Use pandas.concat instead.\n",
      "  df = df.append({\n"
     ]
    },
    {
     "name": "stdout",
     "output_type": "stream",
     "text": [
      "Appending data for folder: 09_Luke________\n",
      "Checking folder: C:\\Users\\TANAY\\anaconda3\\envs\\SIT\\Bible_Texts\\लूककृत शुभवर्तमानLUK\\10_Luke________\n",
      "Audio file path: C:\\Users\\TANAY\\anaconda3\\envs\\SIT\\Bible_Texts\\लूककृत शुभवर्तमानLUK\\10_Luke________\\_10_Luke________MARDPIN1DA.mp3\n",
      "Text file path: C:\\Users\\TANAY\\anaconda3\\envs\\SIT\\Bible_Texts\\लूककृत शुभवर्तमानLUK\\10_Luke________\\10.txt\n"
     ]
    },
    {
     "name": "stderr",
     "output_type": "stream",
     "text": [
      "C:\\Users\\TANAY\\AppData\\Local\\Temp\\ipykernel_7252\\407795470.py:47: FutureWarning: The frame.append method is deprecated and will be removed from pandas in a future version. Use pandas.concat instead.\n",
      "  df = df.append({\n"
     ]
    },
    {
     "name": "stdout",
     "output_type": "stream",
     "text": [
      "Appending data for folder: 10_Luke________\n",
      "Checking folder: C:\\Users\\TANAY\\anaconda3\\envs\\SIT\\Bible_Texts\\लूककृत शुभवर्तमानLUK\\11_Luke________\n",
      "Audio file path: C:\\Users\\TANAY\\anaconda3\\envs\\SIT\\Bible_Texts\\लूककृत शुभवर्तमानLUK\\11_Luke________\\_11_Luke________MARDPIN1DA.mp3\n",
      "Text file path: C:\\Users\\TANAY\\anaconda3\\envs\\SIT\\Bible_Texts\\लूककृत शुभवर्तमानLUK\\11_Luke________\\11.txt\n"
     ]
    },
    {
     "name": "stderr",
     "output_type": "stream",
     "text": [
      "C:\\Users\\TANAY\\AppData\\Local\\Temp\\ipykernel_7252\\407795470.py:47: FutureWarning: The frame.append method is deprecated and will be removed from pandas in a future version. Use pandas.concat instead.\n",
      "  df = df.append({\n"
     ]
    },
    {
     "name": "stdout",
     "output_type": "stream",
     "text": [
      "Appending data for folder: 11_Luke________\n",
      "Checking folder: C:\\Users\\TANAY\\anaconda3\\envs\\SIT\\Bible_Texts\\लूककृत शुभवर्तमानLUK\\12_Luke________\n",
      "Audio file path: C:\\Users\\TANAY\\anaconda3\\envs\\SIT\\Bible_Texts\\लूककृत शुभवर्तमानLUK\\12_Luke________\\_12_Luke________MARDPIN1DA.mp3\n",
      "Text file path: C:\\Users\\TANAY\\anaconda3\\envs\\SIT\\Bible_Texts\\लूककृत शुभवर्तमानLUK\\12_Luke________\\12.txt\n"
     ]
    },
    {
     "name": "stderr",
     "output_type": "stream",
     "text": [
      "C:\\Users\\TANAY\\AppData\\Local\\Temp\\ipykernel_7252\\407795470.py:47: FutureWarning: The frame.append method is deprecated and will be removed from pandas in a future version. Use pandas.concat instead.\n",
      "  df = df.append({\n"
     ]
    },
    {
     "name": "stdout",
     "output_type": "stream",
     "text": [
      "Appending data for folder: 12_Luke________\n",
      "Checking folder: C:\\Users\\TANAY\\anaconda3\\envs\\SIT\\Bible_Texts\\लूककृत शुभवर्तमानLUK\\13_Luke________\n",
      "Audio file path: C:\\Users\\TANAY\\anaconda3\\envs\\SIT\\Bible_Texts\\लूककृत शुभवर्तमानLUK\\13_Luke________\\_13_Luke________MARDPIN1DA.mp3\n",
      "Text file path: C:\\Users\\TANAY\\anaconda3\\envs\\SIT\\Bible_Texts\\लूककृत शुभवर्तमानLUK\\13_Luke________\\13.txt\n"
     ]
    },
    {
     "name": "stderr",
     "output_type": "stream",
     "text": [
      "C:\\Users\\TANAY\\AppData\\Local\\Temp\\ipykernel_7252\\407795470.py:47: FutureWarning: The frame.append method is deprecated and will be removed from pandas in a future version. Use pandas.concat instead.\n",
      "  df = df.append({\n"
     ]
    },
    {
     "name": "stdout",
     "output_type": "stream",
     "text": [
      "Appending data for folder: 13_Luke________\n",
      "Checking folder: C:\\Users\\TANAY\\anaconda3\\envs\\SIT\\Bible_Texts\\लूककृत शुभवर्तमानLUK\\14_Luke________\n",
      "Audio file path: C:\\Users\\TANAY\\anaconda3\\envs\\SIT\\Bible_Texts\\लूककृत शुभवर्तमानLUK\\14_Luke________\\_14_Luke________MARDPIN1DA.mp3\n",
      "Text file path: C:\\Users\\TANAY\\anaconda3\\envs\\SIT\\Bible_Texts\\लूककृत शुभवर्तमानLUK\\14_Luke________\\14.txt\n"
     ]
    },
    {
     "name": "stderr",
     "output_type": "stream",
     "text": [
      "C:\\Users\\TANAY\\AppData\\Local\\Temp\\ipykernel_7252\\407795470.py:47: FutureWarning: The frame.append method is deprecated and will be removed from pandas in a future version. Use pandas.concat instead.\n",
      "  df = df.append({\n"
     ]
    },
    {
     "name": "stdout",
     "output_type": "stream",
     "text": [
      "Appending data for folder: 14_Luke________\n",
      "Checking folder: C:\\Users\\TANAY\\anaconda3\\envs\\SIT\\Bible_Texts\\लूककृत शुभवर्तमानLUK\\15_Luke________\n",
      "Audio file path: C:\\Users\\TANAY\\anaconda3\\envs\\SIT\\Bible_Texts\\लूककृत शुभवर्तमानLUK\\15_Luke________\\_15_Luke________MARDPIN1DA.mp3\n",
      "Text file path: C:\\Users\\TANAY\\anaconda3\\envs\\SIT\\Bible_Texts\\लूककृत शुभवर्तमानLUK\\15_Luke________\\15.txt\n"
     ]
    },
    {
     "name": "stderr",
     "output_type": "stream",
     "text": [
      "C:\\Users\\TANAY\\AppData\\Local\\Temp\\ipykernel_7252\\407795470.py:47: FutureWarning: The frame.append method is deprecated and will be removed from pandas in a future version. Use pandas.concat instead.\n",
      "  df = df.append({\n"
     ]
    },
    {
     "name": "stdout",
     "output_type": "stream",
     "text": [
      "Appending data for folder: 15_Luke________\n",
      "Checking folder: C:\\Users\\TANAY\\anaconda3\\envs\\SIT\\Bible_Texts\\लूककृत शुभवर्तमानLUK\\16_Luke________\n",
      "Audio file path: C:\\Users\\TANAY\\anaconda3\\envs\\SIT\\Bible_Texts\\लूककृत शुभवर्तमानLUK\\16_Luke________\\_16_Luke________MARDPIN1DA.mp3\n",
      "Text file path: C:\\Users\\TANAY\\anaconda3\\envs\\SIT\\Bible_Texts\\लूककृत शुभवर्तमानLUK\\16_Luke________\\16.txt\n"
     ]
    },
    {
     "name": "stderr",
     "output_type": "stream",
     "text": [
      "C:\\Users\\TANAY\\AppData\\Local\\Temp\\ipykernel_7252\\407795470.py:47: FutureWarning: The frame.append method is deprecated and will be removed from pandas in a future version. Use pandas.concat instead.\n",
      "  df = df.append({\n"
     ]
    },
    {
     "name": "stdout",
     "output_type": "stream",
     "text": [
      "Appending data for folder: 16_Luke________\n",
      "Checking folder: C:\\Users\\TANAY\\anaconda3\\envs\\SIT\\Bible_Texts\\लूककृत शुभवर्तमानLUK\\17_Luke________\n",
      "Audio file path: C:\\Users\\TANAY\\anaconda3\\envs\\SIT\\Bible_Texts\\लूककृत शुभवर्तमानLUK\\17_Luke________\\_17_Luke________MARDPIN1DA.mp3\n",
      "Text file path: C:\\Users\\TANAY\\anaconda3\\envs\\SIT\\Bible_Texts\\लूककृत शुभवर्तमानLUK\\17_Luke________\\17.txt\n"
     ]
    },
    {
     "name": "stderr",
     "output_type": "stream",
     "text": [
      "C:\\Users\\TANAY\\AppData\\Local\\Temp\\ipykernel_7252\\407795470.py:47: FutureWarning: The frame.append method is deprecated and will be removed from pandas in a future version. Use pandas.concat instead.\n",
      "  df = df.append({\n"
     ]
    },
    {
     "name": "stdout",
     "output_type": "stream",
     "text": [
      "Appending data for folder: 17_Luke________\n",
      "Checking folder: C:\\Users\\TANAY\\anaconda3\\envs\\SIT\\Bible_Texts\\लूककृत शुभवर्तमानLUK\\18_Luke________\n",
      "Audio file path: C:\\Users\\TANAY\\anaconda3\\envs\\SIT\\Bible_Texts\\लूककृत शुभवर्तमानLUK\\18_Luke________\\_18_Luke________MARDPIN1DA.mp3\n",
      "Text file path: C:\\Users\\TANAY\\anaconda3\\envs\\SIT\\Bible_Texts\\लूककृत शुभवर्तमानLUK\\18_Luke________\\18.txt\n"
     ]
    },
    {
     "name": "stderr",
     "output_type": "stream",
     "text": [
      "C:\\Users\\TANAY\\AppData\\Local\\Temp\\ipykernel_7252\\407795470.py:47: FutureWarning: The frame.append method is deprecated and will be removed from pandas in a future version. Use pandas.concat instead.\n",
      "  df = df.append({\n"
     ]
    },
    {
     "name": "stdout",
     "output_type": "stream",
     "text": [
      "Appending data for folder: 18_Luke________\n",
      "Checking folder: C:\\Users\\TANAY\\anaconda3\\envs\\SIT\\Bible_Texts\\लूककृत शुभवर्तमानLUK\\19_Luke________\n",
      "Audio file path: C:\\Users\\TANAY\\anaconda3\\envs\\SIT\\Bible_Texts\\लूककृत शुभवर्तमानLUK\\19_Luke________\\_19_Luke________MARDPIN1DA.mp3\n",
      "Text file path: C:\\Users\\TANAY\\anaconda3\\envs\\SIT\\Bible_Texts\\लूककृत शुभवर्तमानLUK\\19_Luke________\\19.txt\n"
     ]
    },
    {
     "name": "stderr",
     "output_type": "stream",
     "text": [
      "C:\\Users\\TANAY\\AppData\\Local\\Temp\\ipykernel_7252\\407795470.py:47: FutureWarning: The frame.append method is deprecated and will be removed from pandas in a future version. Use pandas.concat instead.\n",
      "  df = df.append({\n"
     ]
    },
    {
     "name": "stdout",
     "output_type": "stream",
     "text": [
      "Appending data for folder: 19_Luke________\n",
      "Checking folder: C:\\Users\\TANAY\\anaconda3\\envs\\SIT\\Bible_Texts\\लूककृत शुभवर्तमानLUK\\20_Luke________\n",
      "Audio file path: C:\\Users\\TANAY\\anaconda3\\envs\\SIT\\Bible_Texts\\लूककृत शुभवर्तमानLUK\\20_Luke________\\_20_Luke________MARDPIN1DA.mp3\n",
      "Text file path: C:\\Users\\TANAY\\anaconda3\\envs\\SIT\\Bible_Texts\\लूककृत शुभवर्तमानLUK\\20_Luke________\\20.txt\n"
     ]
    },
    {
     "name": "stderr",
     "output_type": "stream",
     "text": [
      "C:\\Users\\TANAY\\AppData\\Local\\Temp\\ipykernel_7252\\407795470.py:47: FutureWarning: The frame.append method is deprecated and will be removed from pandas in a future version. Use pandas.concat instead.\n",
      "  df = df.append({\n"
     ]
    },
    {
     "name": "stdout",
     "output_type": "stream",
     "text": [
      "Appending data for folder: 20_Luke________\n",
      "Checking folder: C:\\Users\\TANAY\\anaconda3\\envs\\SIT\\Bible_Texts\\लूककृत शुभवर्तमानLUK\\21_Luke________\n",
      "Audio file path: C:\\Users\\TANAY\\anaconda3\\envs\\SIT\\Bible_Texts\\लूककृत शुभवर्तमानLUK\\21_Luke________\\_21_Luke________MARDPIN1DA.mp3\n",
      "Text file path: C:\\Users\\TANAY\\anaconda3\\envs\\SIT\\Bible_Texts\\लूककृत शुभवर्तमानLUK\\21_Luke________\\21.txt\n"
     ]
    },
    {
     "name": "stderr",
     "output_type": "stream",
     "text": [
      "C:\\Users\\TANAY\\AppData\\Local\\Temp\\ipykernel_7252\\407795470.py:47: FutureWarning: The frame.append method is deprecated and will be removed from pandas in a future version. Use pandas.concat instead.\n",
      "  df = df.append({\n"
     ]
    },
    {
     "name": "stdout",
     "output_type": "stream",
     "text": [
      "Appending data for folder: 21_Luke________\n",
      "Checking folder: C:\\Users\\TANAY\\anaconda3\\envs\\SIT\\Bible_Texts\\लूककृत शुभवर्तमानLUK\\22_Luke________\n",
      "Audio file path: C:\\Users\\TANAY\\anaconda3\\envs\\SIT\\Bible_Texts\\लूककृत शुभवर्तमानLUK\\22_Luke________\\_22_Luke________MARDPIN1DA.mp3\n",
      "Text file path: C:\\Users\\TANAY\\anaconda3\\envs\\SIT\\Bible_Texts\\लूककृत शुभवर्तमानLUK\\22_Luke________\\22.txt\n"
     ]
    },
    {
     "name": "stderr",
     "output_type": "stream",
     "text": [
      "C:\\Users\\TANAY\\AppData\\Local\\Temp\\ipykernel_7252\\407795470.py:47: FutureWarning: The frame.append method is deprecated and will be removed from pandas in a future version. Use pandas.concat instead.\n",
      "  df = df.append({\n"
     ]
    },
    {
     "name": "stdout",
     "output_type": "stream",
     "text": [
      "Appending data for folder: 22_Luke________\n",
      "Checking folder: C:\\Users\\TANAY\\anaconda3\\envs\\SIT\\Bible_Texts\\लूककृत शुभवर्तमानLUK\\23_Luke________\n",
      "Audio file path: C:\\Users\\TANAY\\anaconda3\\envs\\SIT\\Bible_Texts\\लूककृत शुभवर्तमानLUK\\23_Luke________\\_23_Luke________MARDPIN1DA.mp3\n",
      "Text file path: C:\\Users\\TANAY\\anaconda3\\envs\\SIT\\Bible_Texts\\लूककृत शुभवर्तमानLUK\\23_Luke________\\23.txt\n"
     ]
    },
    {
     "name": "stderr",
     "output_type": "stream",
     "text": [
      "C:\\Users\\TANAY\\AppData\\Local\\Temp\\ipykernel_7252\\407795470.py:47: FutureWarning: The frame.append method is deprecated and will be removed from pandas in a future version. Use pandas.concat instead.\n",
      "  df = df.append({\n"
     ]
    },
    {
     "name": "stdout",
     "output_type": "stream",
     "text": [
      "Appending data for folder: 23_Luke________\n",
      "Checking folder: C:\\Users\\TANAY\\anaconda3\\envs\\SIT\\Bible_Texts\\लूककृत शुभवर्तमानLUK\\24_Luke________\n",
      "Audio file path: C:\\Users\\TANAY\\anaconda3\\envs\\SIT\\Bible_Texts\\लूककृत शुभवर्तमानLUK\\24_Luke________\\_24_Luke________MARDPIN1DA.mp3\n",
      "Text file path: C:\\Users\\TANAY\\anaconda3\\envs\\SIT\\Bible_Texts\\लूककृत शुभवर्तमानLUK\\24_Luke________\\24.txt\n"
     ]
    },
    {
     "name": "stderr",
     "output_type": "stream",
     "text": [
      "C:\\Users\\TANAY\\AppData\\Local\\Temp\\ipykernel_7252\\407795470.py:47: FutureWarning: The frame.append method is deprecated and will be removed from pandas in a future version. Use pandas.concat instead.\n",
      "  df = df.append({\n"
     ]
    },
    {
     "name": "stdout",
     "output_type": "stream",
     "text": [
      "Appending data for folder: 24_Luke________\n",
      "Checking folder: C:\\Users\\TANAY\\anaconda3\\envs\\SIT\\Bible_Texts\\इफिसकरांस पत्रEPH\\01_Ephesians___\\Subfolder__01_Ephesians___MARDPIN1DA\\Subfolder__01_Ephesians___MARDPIN1DA\\Subfolder__01_Ephesians___MARDPIN1DA\n",
      "Audio file path: C:\\Users\\TANAY\\anaconda3\\envs\\SIT\\Bible_Texts\\इफिसकरांस पत्रEPH\\01_Ephesians___\\Subfolder__01_Ephesians___MARDPIN1DA\\Subfolder__01_Ephesians___MARDPIN1DA\\Subfolder__01_Ephesians___MARDPIN1DA\\_01_Ephesians___MARDPIN1DA.mp3\n",
      "Text file path: C:\\Users\\TANAY\\anaconda3\\envs\\SIT\\Bible_Texts\\इफिसकरांस पत्रEPH\\01_Ephesians___\\Subfolder__01_Ephesians___MARDPIN1DA\\Subfolder__01_Ephesians___MARDPIN1DA\\Subfolder__01_Ephesians___MARDPIN1DA\\1.txt\n"
     ]
    },
    {
     "name": "stderr",
     "output_type": "stream",
     "text": [
      "C:\\Users\\TANAY\\AppData\\Local\\Temp\\ipykernel_7252\\407795470.py:47: FutureWarning: The frame.append method is deprecated and will be removed from pandas in a future version. Use pandas.concat instead.\n",
      "  df = df.append({\n"
     ]
    },
    {
     "name": "stdout",
     "output_type": "stream",
     "text": [
      "Appending data for folder: Subfolder__01_Ephesians___MARDPIN1DA\n",
      "Checking folder: C:\\Users\\TANAY\\anaconda3\\envs\\SIT\\Bible_Texts\\इफिसकरांस पत्रEPH\\02_Ephesians___\\Subfolder__02_Ephesians___MARDPIN1DA\n",
      "Audio file path: C:\\Users\\TANAY\\anaconda3\\envs\\SIT\\Bible_Texts\\इफिसकरांस पत्रEPH\\02_Ephesians___\\Subfolder__02_Ephesians___MARDPIN1DA\\_02_Ephesians___MARDPIN1DA.mp3\n",
      "Text file path: C:\\Users\\TANAY\\anaconda3\\envs\\SIT\\Bible_Texts\\इफिसकरांस पत्रEPH\\02_Ephesians___\\Subfolder__02_Ephesians___MARDPIN1DA\\2.txt\n"
     ]
    },
    {
     "name": "stderr",
     "output_type": "stream",
     "text": [
      "C:\\Users\\TANAY\\AppData\\Local\\Temp\\ipykernel_7252\\407795470.py:47: FutureWarning: The frame.append method is deprecated and will be removed from pandas in a future version. Use pandas.concat instead.\n",
      "  df = df.append({\n"
     ]
    },
    {
     "name": "stdout",
     "output_type": "stream",
     "text": [
      "Appending data for folder: Subfolder__02_Ephesians___MARDPIN1DA\n",
      "Checking folder: C:\\Users\\TANAY\\anaconda3\\envs\\SIT\\Bible_Texts\\इफिसकरांस पत्रEPH\\03_Ephesians___\\Subfolder__03_Ephesians___MARDPIN1DA\n",
      "Audio file path: C:\\Users\\TANAY\\anaconda3\\envs\\SIT\\Bible_Texts\\इफिसकरांस पत्रEPH\\03_Ephesians___\\Subfolder__03_Ephesians___MARDPIN1DA\\_03_Ephesians___MARDPIN1DA.mp3\n",
      "Text file path: C:\\Users\\TANAY\\anaconda3\\envs\\SIT\\Bible_Texts\\इफिसकरांस पत्रEPH\\03_Ephesians___\\Subfolder__03_Ephesians___MARDPIN1DA\\3.txt\n"
     ]
    },
    {
     "name": "stderr",
     "output_type": "stream",
     "text": [
      "C:\\Users\\TANAY\\AppData\\Local\\Temp\\ipykernel_7252\\407795470.py:47: FutureWarning: The frame.append method is deprecated and will be removed from pandas in a future version. Use pandas.concat instead.\n",
      "  df = df.append({\n"
     ]
    },
    {
     "name": "stdout",
     "output_type": "stream",
     "text": [
      "Appending data for folder: Subfolder__03_Ephesians___MARDPIN1DA\n",
      "Checking folder: C:\\Users\\TANAY\\anaconda3\\envs\\SIT\\Bible_Texts\\इफिसकरांस पत्रEPH\\04_Ephesians___\\Subfolder__04_Ephesians___MARDPIN1DA\n",
      "Audio file path: C:\\Users\\TANAY\\anaconda3\\envs\\SIT\\Bible_Texts\\इफिसकरांस पत्रEPH\\04_Ephesians___\\Subfolder__04_Ephesians___MARDPIN1DA\\_04_Ephesians___MARDPIN1DA.mp3\n",
      "Text file path: C:\\Users\\TANAY\\anaconda3\\envs\\SIT\\Bible_Texts\\इफिसकरांस पत्रEPH\\04_Ephesians___\\Subfolder__04_Ephesians___MARDPIN1DA\\4.txt\n"
     ]
    },
    {
     "name": "stderr",
     "output_type": "stream",
     "text": [
      "C:\\Users\\TANAY\\AppData\\Local\\Temp\\ipykernel_7252\\407795470.py:47: FutureWarning: The frame.append method is deprecated and will be removed from pandas in a future version. Use pandas.concat instead.\n",
      "  df = df.append({\n"
     ]
    },
    {
     "name": "stdout",
     "output_type": "stream",
     "text": [
      "Appending data for folder: Subfolder__04_Ephesians___MARDPIN1DA\n",
      "Checking folder: C:\\Users\\TANAY\\anaconda3\\envs\\SIT\\Bible_Texts\\इफिसकरांस पत्रEPH\\05_Ephesians___\\Subfolder__05_Ephesians___MARDPIN1DA\n",
      "Audio file path: C:\\Users\\TANAY\\anaconda3\\envs\\SIT\\Bible_Texts\\इफिसकरांस पत्रEPH\\05_Ephesians___\\Subfolder__05_Ephesians___MARDPIN1DA\\_05_Ephesians___MARDPIN1DA.mp3\n",
      "Text file path: C:\\Users\\TANAY\\anaconda3\\envs\\SIT\\Bible_Texts\\इफिसकरांस पत्रEPH\\05_Ephesians___\\Subfolder__05_Ephesians___MARDPIN1DA\\5.txt\n"
     ]
    },
    {
     "name": "stderr",
     "output_type": "stream",
     "text": [
      "C:\\Users\\TANAY\\AppData\\Local\\Temp\\ipykernel_7252\\407795470.py:47: FutureWarning: The frame.append method is deprecated and will be removed from pandas in a future version. Use pandas.concat instead.\n",
      "  df = df.append({\n"
     ]
    },
    {
     "name": "stdout",
     "output_type": "stream",
     "text": [
      "Appending data for folder: Subfolder__05_Ephesians___MARDPIN1DA\n",
      "Checking folder: C:\\Users\\TANAY\\anaconda3\\envs\\SIT\\Bible_Texts\\इफिसकरांस पत्रEPH\\06_Ephesians___\\Subfolder__06_Ephesians___MARDPIN1DA\n",
      "Audio file path: C:\\Users\\TANAY\\anaconda3\\envs\\SIT\\Bible_Texts\\इफिसकरांस पत्रEPH\\06_Ephesians___\\Subfolder__06_Ephesians___MARDPIN1DA\\_06_Ephesians___MARDPIN1DA.mp3\n",
      "Text file path: C:\\Users\\TANAY\\anaconda3\\envs\\SIT\\Bible_Texts\\इफिसकरांस पत्रEPH\\06_Ephesians___\\Subfolder__06_Ephesians___MARDPIN1DA\\6.txt\n"
     ]
    },
    {
     "name": "stderr",
     "output_type": "stream",
     "text": [
      "C:\\Users\\TANAY\\AppData\\Local\\Temp\\ipykernel_7252\\407795470.py:47: FutureWarning: The frame.append method is deprecated and will be removed from pandas in a future version. Use pandas.concat instead.\n",
      "  df = df.append({\n"
     ]
    },
    {
     "name": "stdout",
     "output_type": "stream",
     "text": [
      "Appending data for folder: Subfolder__06_Ephesians___MARDPIN1DA\n",
      "Checking folder: C:\\Users\\TANAY\\anaconda3\\envs\\SIT\\Bible_Texts\\इफिसकरांस पत्रEPH\\01_Ephesians___\\Subfolder__01_Ephesians___MARDPIN1DA\\Subfolder__01_Ephesians___MARDPIN1DA\\Subfolder__01_Ephesians___MARDPIN1DA\n",
      "Audio file path: C:\\Users\\TANAY\\anaconda3\\envs\\SIT\\Bible_Texts\\इफिसकरांस पत्रEPH\\01_Ephesians___\\Subfolder__01_Ephesians___MARDPIN1DA\\Subfolder__01_Ephesians___MARDPIN1DA\\Subfolder__01_Ephesians___MARDPIN1DA\\_01_Ephesians___MARDPIN1DA.mp3\n",
      "Text file path: C:\\Users\\TANAY\\anaconda3\\envs\\SIT\\Bible_Texts\\इफिसकरांस पत्रEPH\\01_Ephesians___\\Subfolder__01_Ephesians___MARDPIN1DA\\Subfolder__01_Ephesians___MARDPIN1DA\\Subfolder__01_Ephesians___MARDPIN1DA\\1.txt\n"
     ]
    },
    {
     "name": "stderr",
     "output_type": "stream",
     "text": [
      "C:\\Users\\TANAY\\AppData\\Local\\Temp\\ipykernel_7252\\407795470.py:47: FutureWarning: The frame.append method is deprecated and will be removed from pandas in a future version. Use pandas.concat instead.\n",
      "  df = df.append({\n"
     ]
    },
    {
     "name": "stdout",
     "output_type": "stream",
     "text": [
      "Appending data for folder: Subfolder__01_Ephesians___MARDPIN1DA\n",
      "Checking folder: C:\\Users\\TANAY\\anaconda3\\envs\\SIT\\Bible_Texts\\इफिसकरांस पत्रEPH\\01_Ephesians___\\Subfolder__01_Ephesians___MARDPIN1DA\\Subfolder__01_Ephesians___MARDPIN1DA\\Subfolder__01_Ephesians___MARDPIN1DA\n",
      "Audio file path: C:\\Users\\TANAY\\anaconda3\\envs\\SIT\\Bible_Texts\\इफिसकरांस पत्रEPH\\01_Ephesians___\\Subfolder__01_Ephesians___MARDPIN1DA\\Subfolder__01_Ephesians___MARDPIN1DA\\Subfolder__01_Ephesians___MARDPIN1DA\\_01_Ephesians___MARDPIN1DA.mp3\n",
      "Text file path: C:\\Users\\TANAY\\anaconda3\\envs\\SIT\\Bible_Texts\\इफिसकरांस पत्रEPH\\01_Ephesians___\\Subfolder__01_Ephesians___MARDPIN1DA\\Subfolder__01_Ephesians___MARDPIN1DA\\Subfolder__01_Ephesians___MARDPIN1DA\\1.txt\n"
     ]
    },
    {
     "name": "stderr",
     "output_type": "stream",
     "text": [
      "C:\\Users\\TANAY\\AppData\\Local\\Temp\\ipykernel_7252\\407795470.py:47: FutureWarning: The frame.append method is deprecated and will be removed from pandas in a future version. Use pandas.concat instead.\n",
      "  df = df.append({\n"
     ]
    },
    {
     "name": "stdout",
     "output_type": "stream",
     "text": [
      "Appending data for folder: Subfolder__01_Ephesians___MARDPIN1DA\n",
      "                              Folder Name  \\\n",
      "0    Subfolder__01_Ephesians___MARDPIN1DA   \n",
      "1    Subfolder__02_Ephesians___MARDPIN1DA   \n",
      "2    Subfolder__03_Ephesians___MARDPIN1DA   \n",
      "3    Subfolder__04_Ephesians___MARDPIN1DA   \n",
      "4    Subfolder__05_Ephesians___MARDPIN1DA   \n",
      "..                                    ...   \n",
      "263  Subfolder__04_Ephesians___MARDPIN1DA   \n",
      "264  Subfolder__05_Ephesians___MARDPIN1DA   \n",
      "265  Subfolder__06_Ephesians___MARDPIN1DA   \n",
      "266  Subfolder__01_Ephesians___MARDPIN1DA   \n",
      "267  Subfolder__01_Ephesians___MARDPIN1DA   \n",
      "\n",
      "                                           Folder Path  Audio File Duration  \\\n",
      "0    C:\\Users\\TANAY\\anaconda3\\envs\\SIT\\Bible_Texts\\...              189.864   \n",
      "1    C:\\Users\\TANAY\\anaconda3\\envs\\SIT\\Bible_Texts\\...              182.832   \n",
      "2    C:\\Users\\TANAY\\anaconda3\\envs\\SIT\\Bible_Texts\\...              159.696   \n",
      "3    C:\\Users\\TANAY\\anaconda3\\envs\\SIT\\Bible_Texts\\...              251.832   \n",
      "4    C:\\Users\\TANAY\\anaconda3\\envs\\SIT\\Bible_Texts\\...              239.520   \n",
      "..                                                 ...                  ...   \n",
      "263  C:\\Users\\TANAY\\anaconda3\\envs\\SIT\\Bible_Texts\\...              251.832   \n",
      "264  C:\\Users\\TANAY\\anaconda3\\envs\\SIT\\Bible_Texts\\...              239.520   \n",
      "265  C:\\Users\\TANAY\\anaconda3\\envs\\SIT\\Bible_Texts\\...              178.896   \n",
      "266  C:\\Users\\TANAY\\anaconda3\\envs\\SIT\\Bible_Texts\\...              189.864   \n",
      "267  C:\\Users\\TANAY\\anaconda3\\envs\\SIT\\Bible_Texts\\...              189.864   \n",
      "\n",
      "              SNR  Silence Proportion  Average Frequency  Average Text Length  \\\n",
      "0    6.317389e-09            0.291773        1481.853260            21.300000   \n",
      "1    5.348900e-09            0.279928        1429.603343            18.130435   \n",
      "2    2.575298e-09            0.287849        1410.517023            22.625000   \n",
      "3    6.590465e-10            0.279028        1444.477814            18.545455   \n",
      "4    4.021185e-09            0.300175        1513.727238            15.918919   \n",
      "..            ...                 ...                ...                  ...   \n",
      "263  6.590465e-10            0.279028        1444.477814            18.545455   \n",
      "264  4.021185e-09            0.300175        1513.727238            15.918919   \n",
      "265  1.351231e-08            0.308870        1462.406997            22.421053   \n",
      "266  6.317389e-09            0.291773        1481.853260            21.300000   \n",
      "267  6.317389e-09            0.291773        1481.853260            21.300000   \n",
      "\n",
      "    Number of Sentences  \n",
      "0                    20  \n",
      "1                    23  \n",
      "2                    16  \n",
      "3                    33  \n",
      "4                    37  \n",
      "..                  ...  \n",
      "263                  33  \n",
      "264                  37  \n",
      "265                  19  \n",
      "266                  20  \n",
      "267                  20  \n",
      "\n",
      "[268 rows x 8 columns]\n"
     ]
    },
    {
     "name": "stderr",
     "output_type": "stream",
     "text": [
      "C:\\Users\\TANAY\\AppData\\Local\\Temp\\ipykernel_7252\\407795470.py:47: FutureWarning: The frame.append method is deprecated and will be removed from pandas in a future version. Use pandas.concat instead.\n",
      "  df = df.append({\n"
     ]
    }
   ],
   "source": [
    "import os\n",
    "import pandas as pd\n",
    "from pathlib import Path\n",
    "import glob\n",
    "from pydub import AudioSegment\n",
    "import numpy as np\n",
    "from scipy.fft import fft\n",
    "from nltk.tokenize import sent_tokenize, word_tokenize\n",
    "\n",
    "# Updated functions as shown above...\n",
    "\n",
    "# Define the main folder path\n",
    "main_folder_path = \"C:/Users/TANAY/anaconda3/envs/SIT/Bible_Texts\"\n",
    "\n",
    "# Initialize an empty DataFrame\n",
    "columns = ['Folder Name', 'Folder Path', 'Audio File Duration', 'SNR', 'Silence Proportion', 'Average Frequency', 'Average Text Length', 'Number of Sentences']\n",
    "df = pd.DataFrame(columns=columns)\n",
    "\n",
    "# Traverse through the folder structure\n",
    "for root, dirs, files in os.walk(main_folder_path):\n",
    "    for dir_name in dirs:\n",
    "        subfolder_path = Path(root) / dir_name\n",
    "        for sub_root, sub_dirs, sub_files in os.walk(subfolder_path):\n",
    "            for sub_dir_name in sub_dirs:\n",
    "                audio_text_folder = Path(sub_root) / sub_dir_name\n",
    "                audio_files = glob.glob(str(audio_text_folder / '*.mp3'))\n",
    "                text_files = glob.glob(str(audio_text_folder / '*.txt'))\n",
    "\n",
    "                if audio_files and text_files:\n",
    "                    audio_file = Path(audio_files[0])\n",
    "                    text_file = Path(text_files[0])\n",
    "\n",
    "                    print(f\"Checking folder: {audio_text_folder}\")\n",
    "                    print(f\"Audio file path: {audio_file}\")\n",
    "                    print(f\"Text file path: {text_file}\")\n",
    "\n",
    "                    if audio_file.exists() and text_file.exists():\n",
    "                        audio_duration = calculate_audio_duration(audio_file)\n",
    "                        snr = calculate_snr(audio_file)\n",
    "                        silence_proportion = calculate_silence_proportion(audio_file)\n",
    "                        average_frequency = calculate_average_frequency(audio_file)\n",
    "                        average_text_length = calculate_average_sentence_length(text_file)\n",
    "                        number_of_sentences = calculate_number_of_sentences(text_file)\n",
    "\n",
    "                        print(f\"Appending data for folder: {audio_text_folder.name}\")\n",
    "\n",
    "                        df = df.append({\n",
    "                            'Folder Name': audio_text_folder.name,\n",
    "                            'Folder Path': str(audio_text_folder),\n",
    "                            'Audio File Duration': audio_duration,\n",
    "                            'SNR': snr,\n",
    "                            'Silence Proportion': silence_proportion,\n",
    "                            'Average Frequency': average_frequency,\n",
    "                            'Average Text Length': average_text_length,\n",
    "                            'Number of Sentences': number_of_sentences\n",
    "                        }, ignore_index=True)\n",
    "\n",
    "# Display the DataFrame\n",
    "print(df)\n"
   ]
  },
  {
   "cell_type": "code",
   "execution_count": 93,
   "id": "3403ec82",
   "metadata": {},
   "outputs": [
    {
     "data": {
      "text/html": [
       "<div>\n",
       "<style scoped>\n",
       "    .dataframe tbody tr th:only-of-type {\n",
       "        vertical-align: middle;\n",
       "    }\n",
       "\n",
       "    .dataframe tbody tr th {\n",
       "        vertical-align: top;\n",
       "    }\n",
       "\n",
       "    .dataframe thead th {\n",
       "        text-align: right;\n",
       "    }\n",
       "</style>\n",
       "<table border=\"1\" class=\"dataframe\">\n",
       "  <thead>\n",
       "    <tr style=\"text-align: right;\">\n",
       "      <th></th>\n",
       "      <th>Folder Name</th>\n",
       "      <th>Folder Path</th>\n",
       "      <th>Audio File Duration</th>\n",
       "      <th>SNR</th>\n",
       "      <th>Silence Proportion</th>\n",
       "      <th>Average Frequency</th>\n",
       "      <th>Average Text Length</th>\n",
       "      <th>Number of Sentences</th>\n",
       "      <th>Number of Words</th>\n",
       "    </tr>\n",
       "  </thead>\n",
       "  <tbody>\n",
       "    <tr>\n",
       "      <th>0</th>\n",
       "      <td>Subfolder__01_Ephesians___MARDPIN1DA</td>\n",
       "      <td>C:\\Users\\TANAY\\anaconda3\\envs\\SIT\\Bible_Texts\\...</td>\n",
       "      <td>189.864</td>\n",
       "      <td>6.317389e-09</td>\n",
       "      <td>0.291773</td>\n",
       "      <td>1481.853260</td>\n",
       "      <td>21.300000</td>\n",
       "      <td>20</td>\n",
       "      <td>426.0</td>\n",
       "    </tr>\n",
       "    <tr>\n",
       "      <th>1</th>\n",
       "      <td>Subfolder__02_Ephesians___MARDPIN1DA</td>\n",
       "      <td>C:\\Users\\TANAY\\anaconda3\\envs\\SIT\\Bible_Texts\\...</td>\n",
       "      <td>182.832</td>\n",
       "      <td>5.348900e-09</td>\n",
       "      <td>0.279928</td>\n",
       "      <td>1429.603343</td>\n",
       "      <td>18.130435</td>\n",
       "      <td>23</td>\n",
       "      <td>417.0</td>\n",
       "    </tr>\n",
       "    <tr>\n",
       "      <th>2</th>\n",
       "      <td>Subfolder__03_Ephesians___MARDPIN1DA</td>\n",
       "      <td>C:\\Users\\TANAY\\anaconda3\\envs\\SIT\\Bible_Texts\\...</td>\n",
       "      <td>159.696</td>\n",
       "      <td>2.575298e-09</td>\n",
       "      <td>0.287849</td>\n",
       "      <td>1410.517023</td>\n",
       "      <td>22.625000</td>\n",
       "      <td>16</td>\n",
       "      <td>362.0</td>\n",
       "    </tr>\n",
       "    <tr>\n",
       "      <th>3</th>\n",
       "      <td>Subfolder__04_Ephesians___MARDPIN1DA</td>\n",
       "      <td>C:\\Users\\TANAY\\anaconda3\\envs\\SIT\\Bible_Texts\\...</td>\n",
       "      <td>251.832</td>\n",
       "      <td>6.590465e-10</td>\n",
       "      <td>0.279028</td>\n",
       "      <td>1444.477814</td>\n",
       "      <td>18.545455</td>\n",
       "      <td>33</td>\n",
       "      <td>612.0</td>\n",
       "    </tr>\n",
       "    <tr>\n",
       "      <th>4</th>\n",
       "      <td>Subfolder__05_Ephesians___MARDPIN1DA</td>\n",
       "      <td>C:\\Users\\TANAY\\anaconda3\\envs\\SIT\\Bible_Texts\\...</td>\n",
       "      <td>239.520</td>\n",
       "      <td>4.021185e-09</td>\n",
       "      <td>0.300175</td>\n",
       "      <td>1513.727238</td>\n",
       "      <td>15.918919</td>\n",
       "      <td>37</td>\n",
       "      <td>589.0</td>\n",
       "    </tr>\n",
       "  </tbody>\n",
       "</table>\n",
       "</div>"
      ],
      "text/plain": [
       "                            Folder Name  \\\n",
       "0  Subfolder__01_Ephesians___MARDPIN1DA   \n",
       "1  Subfolder__02_Ephesians___MARDPIN1DA   \n",
       "2  Subfolder__03_Ephesians___MARDPIN1DA   \n",
       "3  Subfolder__04_Ephesians___MARDPIN1DA   \n",
       "4  Subfolder__05_Ephesians___MARDPIN1DA   \n",
       "\n",
       "                                         Folder Path  Audio File Duration  \\\n",
       "0  C:\\Users\\TANAY\\anaconda3\\envs\\SIT\\Bible_Texts\\...              189.864   \n",
       "1  C:\\Users\\TANAY\\anaconda3\\envs\\SIT\\Bible_Texts\\...              182.832   \n",
       "2  C:\\Users\\TANAY\\anaconda3\\envs\\SIT\\Bible_Texts\\...              159.696   \n",
       "3  C:\\Users\\TANAY\\anaconda3\\envs\\SIT\\Bible_Texts\\...              251.832   \n",
       "4  C:\\Users\\TANAY\\anaconda3\\envs\\SIT\\Bible_Texts\\...              239.520   \n",
       "\n",
       "            SNR  Silence Proportion  Average Frequency  Average Text Length  \\\n",
       "0  6.317389e-09            0.291773        1481.853260            21.300000   \n",
       "1  5.348900e-09            0.279928        1429.603343            18.130435   \n",
       "2  2.575298e-09            0.287849        1410.517023            22.625000   \n",
       "3  6.590465e-10            0.279028        1444.477814            18.545455   \n",
       "4  4.021185e-09            0.300175        1513.727238            15.918919   \n",
       "\n",
       "  Number of Sentences Number of Words  \n",
       "0                  20           426.0  \n",
       "1                  23           417.0  \n",
       "2                  16           362.0  \n",
       "3                  33           612.0  \n",
       "4                  37           589.0  "
      ]
     },
     "execution_count": 93,
     "metadata": {},
     "output_type": "execute_result"
    }
   ],
   "source": [
    "# Adding new column number of words\n",
    "df['Number of Words'] = df['Average Text Length'] * df['Number of Sentences']\n",
    "df.head()"
   ]
  },
  {
   "cell_type": "markdown",
   "id": "0b156c7d",
   "metadata": {},
   "source": [
    "# **Visualization**"
   ]
  },
  {
   "cell_type": "code",
   "execution_count": 99,
   "id": "85ebad73",
   "metadata": {},
   "outputs": [
    {
     "data": {
      "image/png": "[encoded data removed]",
      "text/plain": [
       "<Figure size 1200x600 with 1 Axes>"
      ]
     },
     "metadata": {},
     "output_type": "display_data"
    },
    {
     "data": {
      "image/png": "[encoded data removed]",
      "text/plain": [
       "<Figure size 1200x600 with 1 Axes>"
      ]
     },
     "metadata": {},
     "output_type": "display_data"
    }
   ],
   "source": [
    "# Calculate the Number of Words column\n",
    "df['Number of Words'] = df['Average Text Length'] * df['Number of Sentences']\n",
    "\n",
    "# Set the overall style of the plots\n",
    "sns.set_style(\"whitegrid\")\n",
    "\n",
    "# Plot histogram of audio file durations\n",
    "plt.figure(figsize=(12, 6))\n",
    "sns.histplot(df['Audio File Duration'], bins=30, kde=True, color='skyblue')\n",
    "plt.title('Distribution of Audio File Durations', fontsize=16)\n",
    "plt.xlabel('Audio File Duration (seconds)', fontsize=14)\n",
    "plt.ylabel('Frequency', fontsize=14)\n",
    "plt.xticks(fontsize=12)\n",
    "plt.yticks(fontsize=12)\n",
    "plt.grid(True, linestyle='--', alpha=0.7)\n",
    "plt.show()\n",
    "\n",
    "# Plot histogram of the number of words in text files\n",
    "plt.figure(figsize=(12, 6))\n",
    "sns.histplot(df['Number of Words'], bins=30, kde=True, color='salmon')\n",
    "plt.title('Distribution of Number of Words in Text Files', fontsize=16)\n",
    "plt.xlabel('Number of Words', fontsize=14)\n",
    "plt.ylabel('Frequency', fontsize=14)\n",
    "plt.xticks(fontsize=12)\n",
    "plt.yticks(fontsize=12)\n",
    "plt.grid(True, linestyle='--', alpha=0.7)\n",
    "plt.show()\n"
   ]
  },
  {
   "cell_type": "markdown",
   "id": "573bb3b1",
   "metadata": {},
   "source": [
    "*Distribution of Audio File Durations*-\n",
    "\n",
    "Peak: Most audio files are 150-250 seconds, peaking around 180 seconds.\n",
    "Tail: Fewer files exceed 300 seconds, with a long tail up to 600 seconds.\n",
    "Distribution of Number of Words in Text Files\n",
    "Peak: Most text files have 300-600 words, peaking around 400 words.\n",
    "Tail: Fewer files exceed 800 words, with a long tail up to 1700 words.\n",
    "\n",
    "*Correlation Between Audio Durations and Number of Words*-\n",
    "\n",
    "Both histograms show a peak and a gradual decline, suggesting a proportional relationship between audio duration and the number of words.\n",
    "Generally, longer audio files are associated with more words in the text files, and shorter audio files correspond to fewer words.\n",
    "\n",
    "**Conclusion**\n",
    "\n",
    "The peaks in both histograms indicate the most common ranges for audio durations (150-250 seconds) and word counts (300-600 words). This can help focus training efforts on these typical cases to optimize model performance for the most frequent data types"
   ]
  },
  {
   "cell_type": "markdown",
   "id": "7b72131e",
   "metadata": {},
   "source": [
    "The relation between 'Average Frequency' and 'Silence Proportion' in audio files can provide valuable insights for TTS and STT applications. \n",
    "If a strong correlation exists, it might indicate a relationship between speaking style and pauses. For instance, a particular speaker might consistently speak at a higher pitch with more frequent pauses. This can help in training more personalized TTS models and to check if the dataset is enough to train generalized STT models which can adapt different speaking styles\n",
    "High silence proportions might indicate issues with recording or the presence of non-speech elements. Ensuring high-quality training data with appropriate silence handling can improve TTS and STT performance.\n",
    "\n",
    "The box plot is explicitely chosen for this purpose to understand the direct connection of Avg frequency distribution with silence proposition in various lavels."
   ]
  },
  {
   "cell_type": "code",
   "execution_count": 107,
   "id": "ccec9857",
   "metadata": {},
   "outputs": [
    {
     "data": {
      "image/png": "[encoded data removed]",
      "text/plain": [
       "<Figure size 1400x800 with 1 Axes>"
      ]
     },
     "metadata": {},
     "output_type": "display_data"
    }
   ],
   "source": [
    "# Visualization of Silence proposition and Frequency distribution across files \n",
    "df['Silence Proportion Bin'] = pd.cut(df['Silence Proportion'], bins=10)\n",
    "\n",
    "# Box plot of Average Frequency grouped by binned Silence Proportion\n",
    "plt.figure(figsize=(14, 8))\n",
    "sns.boxplot(x='Silence Proportion Bin', y='Average Frequency', data=df, palette='viridis')\n",
    "plt.xticks(rotation=45)\n",
    "plt.title('Box Plot of Average Frequency by Binned Silence Proportion', fontsize=16)\n",
    "plt.xlabel('Silence Proportion Bin', fontsize=14)\n",
    "plt.ylabel('Average Frequency', fontsize=14)\n",
    "plt.grid(True, linestyle='--', alpha=0.7)\n",
    "plt.show()\n"
   ]
  },
  {
   "cell_type": "markdown",
   "id": "987d0254",
   "metadata": {},
   "source": [
    "**Observations and inferences from the box plot:**\n",
    "\n",
    "A few bins show outliers (points outside the whiskers), indicating some values that are significantly higher or lower than the rest of the data in that bin. Outliers are present in bins like (0.26, 0.275], (0.275, 0.291], and (0.322, 0.337]\n",
    "The range of average frequencies (the distance between the minimum and maximum values) tends to decrease as the silence proportion increase which indicates that as there is more silence in the audio files, the variability in average frequency reduces.\n",
    "The median shows a downward trend as the silence proportion increases.\n",
    "Higher silence proportions tend to be associated with lower average frequencies."
   ]
  },
  {
   "cell_type": "markdown",
   "id": "ddd12acb",
   "metadata": {},
   "source": [
    "**Scatterplot to visualize connection between Average frequency and Noise to signal ratio**\n"
   ]
  },
  {
   "cell_type": "code",
   "execution_count": 110,
   "id": "296311c7",
   "metadata": {},
   "outputs": [
    {
     "data": {
      "image/png": "[encoded data removed]",
      "text/plain": [
       "<Figure size 1000x600 with 1 Axes>"
      ]
     },
     "metadata": {},
     "output_type": "display_data"
    }
   ],
   "source": [
    "\n",
    "plt.figure(figsize=(10, 6))\n",
    "sns.scatterplot(x='Average Frequency', y='SNR', data=df, color='dodgerblue')\n",
    "plt.title('SNR vs. Average Frequency', fontsize=16)\n",
    "plt.xlabel('Average Frequency', fontsize=14)\n",
    "plt.ylabel('SNR', fontsize=14)\n",
    "plt.grid(True, linestyle='--', alpha=0.7)\n",
    "plt.show()\n"
   ]
  },
  {
   "cell_type": "markdown",
   "id": "350b2295",
   "metadata": {},
   "source": [
    "Most of the data points are concentrated at the bottom of the plot indicating the Majority of SNR values are relatively lo which is a good sign of the data. A few of the outliers can be removed or denoised from the dataset which will make it more robust for training.\n",
    "There doesn't apper any correlation of SNR with frequency but the spread of SNR values suggests that higher average frequencies do not consistently result in higher or lower SNR values.\n"
   ]
  },
  {
   "cell_type": "code",
   "execution_count": 111,
   "id": "9569b264",
   "metadata": {},
   "outputs": [
    {
     "name": "stdout",
     "output_type": "stream",
     "text": [
      "\n",
      "KPI Analysis Report\n",
      "===================\n",
      "\n",
      "1. Average Audio File Duration: 253.71 seconds\n",
      "2. Average SNR: 2.19e-07\n",
      "3. Average Silence Proportion: 0.28\n",
      "4. Average Frequency: 1504.59 Hz\n",
      "5. Average Text Length: 21.98 characters\n",
      "6. Average Number of Sentences: 31.17\n",
      "7. Average Number of Words: 657.98\n",
      "\n"
     ]
    },
    {
     "name": "stderr",
     "output_type": "stream",
     "text": [
      "C:\\Users\\TANAY\\AppData\\Local\\Temp\\ipykernel_7252\\3339847094.py:2: FutureWarning: The default value of numeric_only in DataFrame.mean is deprecated. In a future version, it will default to False. In addition, specifying 'numeric_only=None' is deprecated. Select only valid columns or specify the value of numeric_only to silence this warning.\n",
      "  average_values = df.mean()\n"
     ]
    }
   ],
   "source": [
    "# Calculate the average of all numerical columns\n",
    "average_values = df.mean()\n",
    "\n",
    "# Create a report based on the averages\n",
    "report = f\"\"\"\n",
    "KPI Analysis Report\n",
    "===================\n",
    "\n",
    "1. Average Audio File Duration: {average_values['Audio File Duration']:.2f} seconds\n",
    "2. Average SNR: {average_values['SNR']:.2e}\n",
    "3. Average Silence Proportion: {average_values['Silence Proportion']:.2f}\n",
    "4. Average Frequency: {average_values['Average Frequency']:.2f} Hz\n",
    "5. Average Text Length: {average_values['Average Text Length']:.2f} characters\n",
    "6. Average Number of Sentences: {average_values['Number of Sentences']:.2f}\n",
    "7. Average Number of Words: {average_values['Number of Words']:.2f}\n",
    "\"\"\"\n",
    "\n",
    "# Print the report\n",
    "print(report)\n"
   ]
  },
  {
   "cell_type": "code",
   "execution_count": 112,
   "id": "44f5a408",
   "metadata": {},
   "outputs": [],
   "source": [
    "# Export the DataFrame to a CSV file\n",
    "df.to_csv('BIbledataframe.csv', index=False)\n"
   ]
  }
 ],
 "metadata": {
  "kernelspec": {
   "display_name": "Python 3 (ipykernel)",
   "language": "python",
   "name": "python3"
  },
  "language_info": {
   "codemirror_mode": {
    "name": "ipython",
    "version": 3
   },
   "file_extension": ".py",
   "mimetype": "text/x-python",
   "name": "python",
   "nbconvert_exporter": "python",
   "pygments_lexer": "ipython3",
   "version": "3.10.9"
  }
 },
 "nbformat": 4,
 "nbformat_minor": 5
}
